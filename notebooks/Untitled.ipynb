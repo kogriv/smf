{
 "cells": [
  {
   "cell_type": "markdown",
   "id": "aed1cfd2-dba8-47b7-8e9f-01525021e86f",
   "metadata": {},
   "source": [
    "Ошибка возникает из-за несовместимости размеров тензоров в матричном умножении на этапе объединения текстовых и числовых признаков. Проблема связана с тем, что на этапе обработки числовых данных размер тензора не соответствует ожидаемому размеру, когда он передается в полносвязный слой.\n",
    "\n",
    "Чтобы исправить это, нужно убедиться, что выходные размеры числовых данных соответствуют тому, что ожидает полносвязный слой. Конкретно:\n",
    "\n",
    "Проверьте размерность входных данных в полносвязный слой self.numeric_fc. В коде видно, что у вас 6 числовых признаков: ['seconds', 'is_shorts', 'broadcast_encoded', 'yt_channel_type_encoded', 'flag_closed', 'international']. Эти 6 признаков должны пройти через слой, который ожидает вход размером 6.\n",
    "\n",
    "Проверьте слой self.numeric_fc, который ожидает входной тензор размера num_numeric_features. Убедитесь, что этот размер правильно указан при создании модели.\n",
    "\n",
    "Способы решения:\n",
    "Измените размер слоя self.numeric_fc для соответствия числу признаков:\n",
    "В конструкторе HybridModel измените строку:\n",
    "\n",
    "python\n",
    "Копировать код\n",
    "self.numeric_fc = nn.Linear(num_numeric_features, 128)\n",
    "чтобы num_numeric_features соответствовало количеству числовых признаков в наборе данных:\n",
    "\n",
    "python\n",
    "Копировать код\n",
    "self.numeric_fc = nn.Linear(6, 128)\n",
    "или:\n",
    "\n",
    "python\n",
    "Копировать код\n",
    "model = HybridModel(MODEL_NAME, num_labels=num_classes, num_numeric_features=6)\n",
    "Проверьте правильность обработки данных в функции preprocess_data, чтобы убедиться, что числовые признаки преобразуются корректно.\n",
    "Итоговый фрагмент:\n",
    "python\n",
    "Копировать код\n",
    "model = HybridModel(MODEL_NAME, num_labels=num_classes, num_numeric_features=6)\n",
    "Попробуйте этот подход, чтобы устранить несовместимость размеров и избежать ошибки RuntimeError."
   ]
  },
  {
   "cell_type": "code",
   "execution_count": null,
   "id": "5f95ee88-7002-4a7f-bca1-97214db0c27c",
   "metadata": {},
   "outputs": [],
   "source": []
  }
 ],
 "metadata": {
  "kernelspec": {
   "display_name": "Python 3 (ipykernel)",
   "language": "python",
   "name": "python3"
  },
  "language_info": {
   "codemirror_mode": {
    "name": "ipython",
    "version": 3
   },
   "file_extension": ".py",
   "mimetype": "text/x-python",
   "name": "python",
   "nbconvert_exporter": "python",
   "pygments_lexer": "ipython3",
   "version": "3.11.7"
  }
 },
 "nbformat": 4,
 "nbformat_minor": 5
}

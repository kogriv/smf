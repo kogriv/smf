{
 "cells": [
  {
   "cell_type": "code",
   "execution_count": 1,
   "id": "1cbfbd45-bf95-4129-8223-3eabda096f38",
   "metadata": {},
   "outputs": [],
   "source": [
    "import sys\n",
    "import os\n",
    "from importlib import reload"
   ]
  },
  {
   "cell_type": "code",
   "execution_count": 3,
   "id": "0c170dd7-f617-406f-bc34-6d262f8888f6",
   "metadata": {},
   "outputs": [],
   "source": [
    "import pandas as pd\n",
    "import numpy as np\n",
    "import matplotlib.pyplot as plt"
   ]
  },
  {
   "cell_type": "code",
   "execution_count": 5,
   "id": "ffcb5a04-882c-4108-b789-8dbd85ad71e5",
   "metadata": {},
   "outputs": [],
   "source": [
    "import re"
   ]
  },
  {
   "cell_type": "code",
   "execution_count": 7,
   "id": "ac2bb826-f485-47ed-af92-5af6a5fa2e12",
   "metadata": {},
   "outputs": [],
   "source": [
    "from sklearn.preprocessing import LabelEncoder\n",
    "from sklearn.model_selection import train_test_split"
   ]
  },
  {
   "cell_type": "code",
   "execution_count": 9,
   "id": "49ff531b-d03b-426d-ba9d-cca3a96b0744",
   "metadata": {},
   "outputs": [],
   "source": [
    "from collections import Counter"
   ]
  },
  {
   "cell_type": "code",
   "execution_count": 11,
   "id": "2e9c70c7-f3e2-45a1-adbe-43704b5aa06b",
   "metadata": {},
   "outputs": [
    {
     "name": "stdout",
     "output_type": "stream",
     "text": [
      "Запуск на локальной машине, клонирование не требуется.\n"
     ]
    }
   ],
   "source": [
    "# Проверяем, выполняется ли код на Kaggle\n",
    "is_kaggle = 'KAGGLE_KERNEL_RUN_TYPE' in os.environ\n",
    "\n",
    "if is_kaggle:\n",
    "    # Проверка, существует ли уже клонированный репозиторий\n",
    "    if not os.path.exists('/kaggle/working/smf'):\n",
    "        !git clone https://github.com/kogriv/smf.git\n",
    "    else:\n",
    "        print(\"Репозиторий уже клонирован.\")\n",
    "else:\n",
    "    print(\"Запуск на локальной машине, клонирование не требуется.\")"
   ]
  },
  {
   "cell_type": "code",
   "execution_count": 13,
   "id": "13bffeb9-b887-4e2c-b1dc-72c1734253ca",
   "metadata": {},
   "outputs": [
    {
     "name": "stdout",
     "output_type": "stream",
     "text": [
      "Local machine: Путь к 'src' добавлен.\n"
     ]
    }
   ],
   "source": [
    "try:\n",
    "    # Путь для локальной машины (определяем корень проекта)\n",
    "    project_root = os.path.abspath(os.path.join(os.getcwd(), \"..\"))\n",
    "    src_path = os.path.join(project_root, \"src\")\n",
    "\n",
    "    # Проверяем, существует ли путь (т.е. файл \"src\" должен быть в корне проекта)\n",
    "    if os.path.exists(src_path):\n",
    "        sys.path.append(src_path)\n",
    "        print(\"Local machine: Путь к 'src' добавлен.\")\n",
    "    else:\n",
    "        raise FileNotFoundError(f\"Path {src_path} not found on local machine.\")\n",
    "\n",
    "except:\n",
    "    try:\n",
    "        # Путь для Kaggle\n",
    "        kaggle_src_path = '/kaggle/working/smf/src'\n",
    "        if os.path.exists(kaggle_src_path):\n",
    "            sys.path.append(kaggle_src_path)\n",
    "            print(\"Kaggle: Путь к 'src' добавлен.\")\n",
    "        else:\n",
    "            raise FileNotFoundError(f\"Path {kaggle_src_path} not found on Kaggle.\")\n",
    "\n",
    "    except Exception as e:\n",
    "        print(f\"Не удалось добавить путь к 'src'. Ошибка: {e}\")"
   ]
  },
  {
   "cell_type": "code",
   "execution_count": 15,
   "id": "2c1017a1-2188-45da-8111-77f66cc2a3e9",
   "metadata": {},
   "outputs": [],
   "source": [
    "import promiss\n",
    "import langs_clean"
   ]
  },
  {
   "cell_type": "code",
   "execution_count": 42,
   "id": "56da88f0-22a4-44fa-a7e3-5b2a1687c16c",
   "metadata": {},
   "outputs": [
    {
     "name": "stdout",
     "output_type": "stream",
     "text": [
      "Train data loaded from local machine\n"
     ]
    }
   ],
   "source": [
    "try:\n",
    "    # Путь для локальной машины\n",
    "    file_path = r'C:\\0\\smf\\train.csv' \n",
    "    dtr = pd.read_csv(file_path, lineterminator='\\n')\n",
    "    print('Train data loaded from local machine')\n",
    "\n",
    "except:\n",
    "    try:\n",
    "        # Путь для Kaggle\n",
    "        file_path = '/kaggle/input/animation-reels-classification/train.csv'\n",
    "        dtr = pd.read_csv(file_path, lineterminator='\\n')\n",
    "        print('Train data loaded from Kaggle')\n",
    "\n",
    "    except Exception as e:\n",
    "        print(f'Train data was not loaded. Error: {e}')"
   ]
  },
  {
   "cell_type": "code",
   "execution_count": 44,
   "id": "8eea8dd3-484a-4601-a017-38cfad24995a",
   "metadata": {},
   "outputs": [
    {
     "name": "stdout",
     "output_type": "stream",
     "text": [
      "Test data loaded from local machine\n"
     ]
    }
   ],
   "source": [
    "try:\n",
    "    # Путь для локальной машины\n",
    "    file_path = r'C:\\0\\smf\\test.csv' \n",
    "    dts = pd.read_csv(file_path, lineterminator='\\n')\n",
    "    print('Test data loaded from local machine')\n",
    "\n",
    "except:\n",
    "    try:\n",
    "        # Путь для Kaggle\n",
    "        file_path = '/kaggle/input/animation-reels-classification/test.csv'\n",
    "        dts = pd.read_csv(file_path, lineterminator='\\n')\n",
    "        print('Test data loaded from Kaggle')\n",
    "\n",
    "    except Exception as e:\n",
    "        print(f'Test data was not loaded. Error: {e}')"
   ]
  },
  {
   "cell_type": "code",
   "execution_count": 46,
   "id": "810ce4e5-ff1c-46b9-954c-dd0713ea721d",
   "metadata": {},
   "outputs": [],
   "source": [
    "pd.set_option('display.max_colwidth', None)"
   ]
  },
  {
   "cell_type": "code",
   "execution_count": 48,
   "id": "b6590a51-f018-4fc7-9613-56c9bce3243c",
   "metadata": {},
   "outputs": [],
   "source": [
    "pd.set_option('display.max_rows', None)"
   ]
  },
  {
   "cell_type": "code",
   "execution_count": 50,
   "id": "0141d29f-de37-42b4-b9fc-a4ea662b205a",
   "metadata": {
    "tags": []
   },
   "outputs": [
    {
     "data": {
      "text/html": [
       "<div>\n",
       "<style scoped>\n",
       "    .dataframe tbody tr th:only-of-type {\n",
       "        vertical-align: middle;\n",
       "    }\n",
       "\n",
       "    .dataframe tbody tr th {\n",
       "        vertical-align: top;\n",
       "    }\n",
       "\n",
       "    .dataframe thead th {\n",
       "        text-align: right;\n",
       "    }\n",
       "</style>\n",
       "<table border=\"1\" class=\"dataframe\">\n",
       "  <thead>\n",
       "    <tr style=\"text-align: right;\">\n",
       "      <th></th>\n",
       "      <th>date</th>\n",
       "      <th>reel_name</th>\n",
       "      <th>yt_reel_id</th>\n",
       "      <th>cartoon</th>\n",
       "      <th>url</th>\n",
       "      <th>text</th>\n",
       "      <th>seconds</th>\n",
       "      <th>is_shorts</th>\n",
       "      <th>broadcast</th>\n",
       "      <th>yt_channel_id</th>\n",
       "      <th>yt_channel_name</th>\n",
       "      <th>yt_ch_url</th>\n",
       "      <th>yt_channel_type</th>\n",
       "      <th>flag_closed</th>\n",
       "      <th>international</th>\n",
       "      <th>language</th>\n",
       "    </tr>\n",
       "  </thead>\n",
       "  <tbody>\n",
       "    <tr>\n",
       "      <th>0</th>\n",
       "      <td>2023-12-30</td>\n",
       "      <td>100 подарков и только один можно оставить себе</td>\n",
       "      <td>PyGZL_fCbSc</td>\n",
       "      <td>none</td>\n",
       "      <td>https://www.youtube.com/watch?v=PyGZL_fCbSc</td>\n",
       "      <td>[100 подарков и только один можно оставить себе]</td>\n",
       "      <td>1854.0</td>\n",
       "      <td>0.0</td>\n",
       "      <td>none</td>\n",
       "      <td>UCcartHVtvAUzfajflyeT_Gg</td>\n",
       "      <td>Miss Katy</td>\n",
       "      <td>https://www.youtube.com/channel/UCcartHVtvAUzfajflyeT_Gg</td>\n",
       "      <td>Блогеры</td>\n",
       "      <td>0.0</td>\n",
       "      <td>0.0</td>\n",
       "      <td>NaN</td>\n",
       "    </tr>\n",
       "  </tbody>\n",
       "</table>\n",
       "</div>"
      ],
      "text/plain": [
       "         date                                       reel_name   yt_reel_id  \\\n",
       "0  2023-12-30  100 подарков и только один можно оставить себе  PyGZL_fCbSc   \n",
       "\n",
       "  cartoon                                          url  \\\n",
       "0    none  https://www.youtube.com/watch?v=PyGZL_fCbSc   \n",
       "\n",
       "                                                text  seconds  is_shorts  \\\n",
       "0  [100 подарков и только один можно оставить себе]    1854.0        0.0   \n",
       "\n",
       "  broadcast             yt_channel_id yt_channel_name  \\\n",
       "0      none  UCcartHVtvAUzfajflyeT_Gg       Miss Katy   \n",
       "\n",
       "                                                  yt_ch_url yt_channel_type  \\\n",
       "0  https://www.youtube.com/channel/UCcartHVtvAUzfajflyeT_Gg         Блогеры   \n",
       "\n",
       "   flag_closed  international language  \n",
       "0          0.0            0.0      NaN  "
      ]
     },
     "execution_count": 50,
     "metadata": {},
     "output_type": "execute_result"
    }
   ],
   "source": [
    "dtr[:1]"
   ]
  },
  {
   "cell_type": "code",
   "execution_count": 52,
   "id": "89c6ac9d-e31d-4480-b77b-873f19062bd6",
   "metadata": {},
   "outputs": [],
   "source": [
    "pd.reset_option('display.max_rows')"
   ]
  },
  {
   "cell_type": "code",
   "execution_count": 54,
   "id": "13277280-cb99-4ba2-93c1-89dc5c7c6aa9",
   "metadata": {},
   "outputs": [
    {
     "name": "stdout",
     "output_type": "stream",
     "text": [
      "broadcast:        ['none' nan 'live' 'upcoming']\n",
      "yt_channel_type:  ['Блогеры' 'Мультфильмы' 'Детские' 'Shorts' nan]\n",
      "flag_closed:      [ 0.  1. nan]\n",
      "international:    [ 0.  1. nan]\n",
      "is_shorts:        [ 0. nan  1.]\n"
     ]
    }
   ],
   "source": [
    "print('broadcast:       ',dtr.broadcast.unique())\n",
    "print('yt_channel_type: ',dtr.yt_channel_type.unique())\n",
    "print('flag_closed:     ',dtr.flag_closed.unique())\n",
    "print('international:   ',dtr.international.unique())\n",
    "print('is_shorts:       ',dtr.is_shorts.unique())"
   ]
  },
  {
   "cell_type": "code",
   "execution_count": 56,
   "id": "97b3e6a1-55f9-4903-bf75-fc4bcbef9c9c",
   "metadata": {},
   "outputs": [
    {
     "data": {
      "text/html": [
       "<div>\n",
       "<style scoped>\n",
       "    .dataframe tbody tr th:only-of-type {\n",
       "        vertical-align: middle;\n",
       "    }\n",
       "\n",
       "    .dataframe tbody tr th {\n",
       "        vertical-align: top;\n",
       "    }\n",
       "\n",
       "    .dataframe thead th {\n",
       "        text-align: right;\n",
       "    }\n",
       "</style>\n",
       "<table border=\"1\" class=\"dataframe\">\n",
       "  <thead>\n",
       "    <tr style=\"text-align: right;\">\n",
       "      <th></th>\n",
       "      <th>is_shorts</th>\n",
       "      <th>min_seconds</th>\n",
       "      <th>mean_seconds</th>\n",
       "      <th>max_seconds</th>\n",
       "    </tr>\n",
       "  </thead>\n",
       "  <tbody>\n",
       "    <tr>\n",
       "      <th>0</th>\n",
       "      <td>0.0</td>\n",
       "      <td>0.0</td>\n",
       "      <td>2023.129919</td>\n",
       "      <td>504055.0</td>\n",
       "    </tr>\n",
       "    <tr>\n",
       "      <th>1</th>\n",
       "      <td>1.0</td>\n",
       "      <td>1.0</td>\n",
       "      <td>27.140457</td>\n",
       "      <td>60.0</td>\n",
       "    </tr>\n",
       "  </tbody>\n",
       "</table>\n",
       "</div>"
      ],
      "text/plain": [
       "   is_shorts  min_seconds  mean_seconds  max_seconds\n",
       "0        0.0          0.0   2023.129919     504055.0\n",
       "1        1.0          1.0     27.140457         60.0"
      ]
     },
     "execution_count": 56,
     "metadata": {},
     "output_type": "execute_result"
    }
   ],
   "source": [
    "pivot_shorts_seconds = dtr.pivot_table(\n",
    "    values='seconds',\n",
    "    index='is_shorts',\n",
    "    aggfunc=['min', 'mean', 'max']\n",
    ")\n",
    "pivot_shorts_seconds.columns = ['min_seconds', 'mean_seconds', 'max_seconds']\n",
    "pivot_shorts_seconds = pivot_shorts_seconds.reset_index()\n",
    "pivot_shorts_seconds"
   ]
  },
  {
   "cell_type": "code",
   "execution_count": 58,
   "id": "f5046b46-8f66-4c05-a477-656bb2504350",
   "metadata": {},
   "outputs": [
    {
     "name": "stdout",
     "output_type": "stream",
     "text": [
      "<class 'pandas.core.frame.DataFrame'>\n",
      "RangeIndex: 83411 entries, 0 to 83410\n",
      "Data columns (total 16 columns):\n",
      " #   Column           Non-Null Count  Dtype  \n",
      "---  ------           --------------  -----  \n",
      " 0   date             83411 non-null  object \n",
      " 1   reel_name        83408 non-null  object \n",
      " 2   yt_reel_id       83411 non-null  object \n",
      " 3   cartoon          83411 non-null  object \n",
      " 4   url              83411 non-null  object \n",
      " 5   text             83411 non-null  object \n",
      " 6   seconds          74653 non-null  float64\n",
      " 7   is_shorts        74653 non-null  float64\n",
      " 8   broadcast        74653 non-null  object \n",
      " 9   yt_channel_id    83366 non-null  object \n",
      " 10  yt_channel_name  83363 non-null  object \n",
      " 11  yt_ch_url        83363 non-null  object \n",
      " 12  yt_channel_type  83363 non-null  object \n",
      " 13  flag_closed      83363 non-null  float64\n",
      " 14  international    83363 non-null  float64\n",
      " 15  language         497 non-null    object \n",
      "dtypes: float64(4), object(12)\n",
      "memory usage: 10.2+ MB\n"
     ]
    }
   ],
   "source": [
    "dtr.info()"
   ]
  },
  {
   "cell_type": "code",
   "execution_count": 60,
   "id": "eea9a06e-9b97-4a0d-b4b7-986f155045d9",
   "metadata": {},
   "outputs": [
    {
     "name": "stdout",
     "output_type": "stream",
     "text": [
      "<class 'pandas.core.frame.DataFrame'>\n",
      "RangeIndex: 55608 entries, 0 to 55607\n",
      "Data columns (total 15 columns):\n",
      " #   Column           Non-Null Count  Dtype  \n",
      "---  ------           --------------  -----  \n",
      " 0   date             55608 non-null  object \n",
      " 1   reel_name        55605 non-null  object \n",
      " 2   yt_reel_id       55608 non-null  object \n",
      " 3   url              55608 non-null  object \n",
      " 4   text             55608 non-null  object \n",
      " 5   seconds          49807 non-null  float64\n",
      " 6   is_shorts        49807 non-null  float64\n",
      " 7   broadcast        49807 non-null  object \n",
      " 8   yt_channel_id    55584 non-null  object \n",
      " 9   yt_channel_name  55580 non-null  object \n",
      " 10  yt_ch_url        55580 non-null  object \n",
      " 11  yt_channel_type  55580 non-null  object \n",
      " 12  flag_closed      55580 non-null  float64\n",
      " 13  international    55580 non-null  float64\n",
      " 14  language         337 non-null    object \n",
      "dtypes: float64(4), object(11)\n",
      "memory usage: 6.4+ MB\n"
     ]
    }
   ],
   "source": [
    "dts.info()"
   ]
  },
  {
   "cell_type": "code",
   "execution_count": 62,
   "id": "77029a17-b93d-4ae0-8118-a0e18d9a8a24",
   "metadata": {},
   "outputs": [
    {
     "data": {
      "text/plain": [
       "83411"
      ]
     },
     "execution_count": 62,
     "metadata": {},
     "output_type": "execute_result"
    }
   ],
   "source": [
    "dtr.yt_reel_id.nunique()"
   ]
  },
  {
   "cell_type": "code",
   "execution_count": 64,
   "id": "5bdc995e-efa6-42d9-8a52-04f26f2c16db",
   "metadata": {},
   "outputs": [
    {
     "data": {
      "text/plain": [
       "45"
      ]
     },
     "execution_count": 64,
     "metadata": {},
     "output_type": "execute_result"
    }
   ],
   "source": [
    "dtr.cartoon.nunique()"
   ]
  },
  {
   "cell_type": "code",
   "execution_count": 66,
   "id": "37e5b50b-2805-4036-a225-08aa94ea9ad4",
   "metadata": {},
   "outputs": [
    {
     "data": {
      "text/plain": [
       "none               0.937898\n",
       "Маша и медведь     0.010226\n",
       "Говорящий Том      0.007061\n",
       "Буба               0.006342\n",
       "Кошечки собачки    0.005239\n",
       "Name: cartoon, dtype: float64"
      ]
     },
     "execution_count": 66,
     "metadata": {},
     "output_type": "execute_result"
    }
   ],
   "source": [
    "dtr.cartoon.value_counts(normalize=True)[:5]"
   ]
  },
  {
   "cell_type": "code",
   "execution_count": 68,
   "id": "57c9cd1f-0184-464c-94e7-d2db26f6afca",
   "metadata": {},
   "outputs": [
    {
     "data": {
      "text/plain": [
       "0"
      ]
     },
     "execution_count": 68,
     "metadata": {},
     "output_type": "execute_result"
    }
   ],
   "source": [
    "dtr.duplicated().sum()"
   ]
  },
  {
   "cell_type": "markdown",
   "id": "b7a3b903-6082-4257-9068-0cef11b02c18",
   "metadata": {},
   "source": [
    "Дубликатов нет"
   ]
  },
  {
   "cell_type": "markdown",
   "id": "01a120c0-293e-4b7c-9cb5-ddc7cc3c9d71",
   "metadata": {},
   "source": [
    "## Пропуски"
   ]
  },
  {
   "cell_type": "code",
   "execution_count": 70,
   "id": "bbbb45e6-11cc-486d-9d8b-b2f749ca846f",
   "metadata": {},
   "outputs": [
    {
     "data": {
      "text/html": [
       "<div>\n",
       "<style scoped>\n",
       "    .dataframe tbody tr th:only-of-type {\n",
       "        vertical-align: middle;\n",
       "    }\n",
       "\n",
       "    .dataframe tbody tr th {\n",
       "        vertical-align: top;\n",
       "    }\n",
       "\n",
       "    .dataframe thead th {\n",
       "        text-align: right;\n",
       "    }\n",
       "</style>\n",
       "<table border=\"1\" class=\"dataframe\">\n",
       "  <thead>\n",
       "    <tr style=\"text-align: right;\">\n",
       "      <th></th>\n",
       "      <th>date</th>\n",
       "      <th>reel_name</th>\n",
       "      <th>yt_reel_id</th>\n",
       "      <th>cartoon</th>\n",
       "      <th>url</th>\n",
       "      <th>text</th>\n",
       "      <th>seconds</th>\n",
       "      <th>is_shorts</th>\n",
       "      <th>broadcast</th>\n",
       "      <th>yt_channel_id</th>\n",
       "      <th>yt_channel_name</th>\n",
       "      <th>yt_ch_url</th>\n",
       "      <th>yt_channel_type</th>\n",
       "      <th>flag_closed</th>\n",
       "      <th>international</th>\n",
       "      <th>language</th>\n",
       "    </tr>\n",
       "  </thead>\n",
       "  <tbody>\n",
       "    <tr>\n",
       "      <th>15331</th>\n",
       "      <td>2024-09-07</td>\n",
       "      <td>NaN</td>\n",
       "      <td>_S1ro6h6Ils</td>\n",
       "      <td>none</td>\n",
       "      <td>https://www.youtube.com/watch?v=_S1ro6h6Ils</td>\n",
       "      <td>[]</td>\n",
       "      <td>19.0</td>\n",
       "      <td>0.0</td>\n",
       "      <td>none</td>\n",
       "      <td>UCfBtfDbuAH6tZnb-Q9EzauA</td>\n",
       "      <td>LEV family SHOW RUS</td>\n",
       "      <td>https://youtube.com/channel/UCfBtfDbuAH6tZnb-Q9EzauA</td>\n",
       "      <td>Блогеры</td>\n",
       "      <td>0.0</td>\n",
       "      <td>0.0</td>\n",
       "      <td>NaN</td>\n",
       "    </tr>\n",
       "    <tr>\n",
       "      <th>17756</th>\n",
       "      <td>2023-01-09</td>\n",
       "      <td>NaN</td>\n",
       "      <td>daJ0drzcYz4</td>\n",
       "      <td>none</td>\n",
       "      <td>https://www.youtube.com/watch?v=daJ0drzcYz4</td>\n",
       "      <td>[] shorts shortsviral babyalive deixaolike]</td>\n",
       "      <td>NaN</td>\n",
       "      <td>NaN</td>\n",
       "      <td>NaN</td>\n",
       "      <td>UCUT1XWGIx6MxWmtPsGYcBEg</td>\n",
       "      <td>Bush Baby World Пушастики</td>\n",
       "      <td>https://www.youtube.com/channel/UCUT1XWGIx6MxWmtPsGYcBEg</td>\n",
       "      <td>Мультфильмы</td>\n",
       "      <td>0.0</td>\n",
       "      <td>0.0</td>\n",
       "      <td>NaN</td>\n",
       "    </tr>\n",
       "    <tr>\n",
       "      <th>66766</th>\n",
       "      <td>2022-11-08</td>\n",
       "      <td>NaN</td>\n",
       "      <td>Zu_vwE48tqI</td>\n",
       "      <td>none</td>\n",
       "      <td>https://www.youtube.com/watch?v=Zu_vwE48tqI</td>\n",
       "      <td>[] shortsviral babyalive babyalive brincadeira]</td>\n",
       "      <td>NaN</td>\n",
       "      <td>NaN</td>\n",
       "      <td>NaN</td>\n",
       "      <td>UCUT1XWGIx6MxWmtPsGYcBEg</td>\n",
       "      <td>Bush Baby World Пушастики</td>\n",
       "      <td>https://www.youtube.com/channel/UCUT1XWGIx6MxWmtPsGYcBEg</td>\n",
       "      <td>Мультфильмы</td>\n",
       "      <td>0.0</td>\n",
       "      <td>0.0</td>\n",
       "      <td>NaN</td>\n",
       "    </tr>\n",
       "  </tbody>\n",
       "</table>\n",
       "</div>"
      ],
      "text/plain": [
       "             date reel_name   yt_reel_id cartoon  \\\n",
       "15331  2024-09-07       NaN  _S1ro6h6Ils    none   \n",
       "17756  2023-01-09       NaN  daJ0drzcYz4    none   \n",
       "66766  2022-11-08       NaN  Zu_vwE48tqI    none   \n",
       "\n",
       "                                               url  \\\n",
       "15331  https://www.youtube.com/watch?v=_S1ro6h6Ils   \n",
       "17756  https://www.youtube.com/watch?v=daJ0drzcYz4   \n",
       "66766  https://www.youtube.com/watch?v=Zu_vwE48tqI   \n",
       "\n",
       "                                                   text  seconds  is_shorts  \\\n",
       "15331                                               []      19.0        0.0   \n",
       "17756      [] shorts shortsviral babyalive deixaolike]       NaN        NaN   \n",
       "66766  [] shortsviral babyalive babyalive brincadeira]       NaN        NaN   \n",
       "\n",
       "      broadcast             yt_channel_id            yt_channel_name  \\\n",
       "15331      none  UCfBtfDbuAH6tZnb-Q9EzauA        LEV family SHOW RUS   \n",
       "17756       NaN  UCUT1XWGIx6MxWmtPsGYcBEg  Bush Baby World Пушастики   \n",
       "66766       NaN  UCUT1XWGIx6MxWmtPsGYcBEg  Bush Baby World Пушастики   \n",
       "\n",
       "                                                      yt_ch_url  \\\n",
       "15331      https://youtube.com/channel/UCfBtfDbuAH6tZnb-Q9EzauA   \n",
       "17756  https://www.youtube.com/channel/UCUT1XWGIx6MxWmtPsGYcBEg   \n",
       "66766  https://www.youtube.com/channel/UCUT1XWGIx6MxWmtPsGYcBEg   \n",
       "\n",
       "      yt_channel_type  flag_closed  international language  \n",
       "15331         Блогеры          0.0            0.0      NaN  \n",
       "17756     Мультфильмы          0.0            0.0      NaN  \n",
       "66766     Мультфильмы          0.0            0.0      NaN  "
      ]
     },
     "execution_count": 70,
     "metadata": {},
     "output_type": "execute_result"
    }
   ],
   "source": [
    "dtr[dtr.reel_name.isnull()]"
   ]
  },
  {
   "cell_type": "code",
   "execution_count": 72,
   "id": "39d7b5ce-b333-4c90-a92b-1015706adcee",
   "metadata": {},
   "outputs": [
    {
     "data": {
      "text/html": [
       "<div>\n",
       "<style scoped>\n",
       "    .dataframe tbody tr th:only-of-type {\n",
       "        vertical-align: middle;\n",
       "    }\n",
       "\n",
       "    .dataframe tbody tr th {\n",
       "        vertical-align: top;\n",
       "    }\n",
       "\n",
       "    .dataframe thead th {\n",
       "        text-align: right;\n",
       "    }\n",
       "</style>\n",
       "<table border=\"1\" class=\"dataframe\">\n",
       "  <thead>\n",
       "    <tr style=\"text-align: right;\">\n",
       "      <th></th>\n",
       "      <th>date</th>\n",
       "      <th>reel_name</th>\n",
       "      <th>yt_reel_id</th>\n",
       "      <th>url</th>\n",
       "      <th>text</th>\n",
       "      <th>seconds</th>\n",
       "      <th>is_shorts</th>\n",
       "      <th>broadcast</th>\n",
       "      <th>yt_channel_id</th>\n",
       "      <th>yt_channel_name</th>\n",
       "      <th>yt_ch_url</th>\n",
       "      <th>yt_channel_type</th>\n",
       "      <th>flag_closed</th>\n",
       "      <th>international</th>\n",
       "      <th>language</th>\n",
       "    </tr>\n",
       "  </thead>\n",
       "  <tbody>\n",
       "    <tr>\n",
       "      <th>3945</th>\n",
       "      <td>2024-04-12</td>\n",
       "      <td>NaN</td>\n",
       "      <td>TbqhXXrqVMI</td>\n",
       "      <td>https://www.youtube.com/watch?v=TbqhXXrqVMI</td>\n",
       "      <td>[]</td>\n",
       "      <td>9.0</td>\n",
       "      <td>0.0</td>\n",
       "      <td>none</td>\n",
       "      <td>UCfBtfDbuAH6tZnb-Q9EzauA</td>\n",
       "      <td>LEV family SHOW RUS</td>\n",
       "      <td>https://youtube.com/channel/UCfBtfDbuAH6tZnb-Q9EzauA</td>\n",
       "      <td>Блогеры</td>\n",
       "      <td>0.0</td>\n",
       "      <td>0.0</td>\n",
       "      <td>NaN</td>\n",
       "    </tr>\n",
       "    <tr>\n",
       "      <th>30847</th>\n",
       "      <td>2022-10-01</td>\n",
       "      <td>NaN</td>\n",
       "      <td>u9NcRq-Ua6Y</td>\n",
       "      <td>https://www.youtube.com/watch?v=u9NcRq-Ua6Y</td>\n",
       "      <td>[] shortsviral shorts trend]</td>\n",
       "      <td>NaN</td>\n",
       "      <td>NaN</td>\n",
       "      <td>NaN</td>\n",
       "      <td>UCUT1XWGIx6MxWmtPsGYcBEg</td>\n",
       "      <td>Bush Baby World Пушастики</td>\n",
       "      <td>https://www.youtube.com/channel/UCUT1XWGIx6MxWmtPsGYcBEg</td>\n",
       "      <td>Мультфильмы</td>\n",
       "      <td>0.0</td>\n",
       "      <td>0.0</td>\n",
       "      <td>NaN</td>\n",
       "    </tr>\n",
       "    <tr>\n",
       "      <th>49702</th>\n",
       "      <td>2023-01-04</td>\n",
       "      <td>NaN</td>\n",
       "      <td>FUKpsV638os</td>\n",
       "      <td>https://www.youtube.com/watch?v=FUKpsV638os</td>\n",
       "      <td>[] shortsviral shorts brincadeira babyalive deixaolike]</td>\n",
       "      <td>NaN</td>\n",
       "      <td>NaN</td>\n",
       "      <td>NaN</td>\n",
       "      <td>UCUT1XWGIx6MxWmtPsGYcBEg</td>\n",
       "      <td>Bush Baby World Пушастики</td>\n",
       "      <td>https://www.youtube.com/channel/UCUT1XWGIx6MxWmtPsGYcBEg</td>\n",
       "      <td>Мультфильмы</td>\n",
       "      <td>0.0</td>\n",
       "      <td>0.0</td>\n",
       "      <td>NaN</td>\n",
       "    </tr>\n",
       "  </tbody>\n",
       "</table>\n",
       "</div>"
      ],
      "text/plain": [
       "             date reel_name   yt_reel_id  \\\n",
       "3945   2024-04-12       NaN  TbqhXXrqVMI   \n",
       "30847  2022-10-01       NaN  u9NcRq-Ua6Y   \n",
       "49702  2023-01-04       NaN  FUKpsV638os   \n",
       "\n",
       "                                               url  \\\n",
       "3945   https://www.youtube.com/watch?v=TbqhXXrqVMI   \n",
       "30847  https://www.youtube.com/watch?v=u9NcRq-Ua6Y   \n",
       "49702  https://www.youtube.com/watch?v=FUKpsV638os   \n",
       "\n",
       "                                                           text  seconds  \\\n",
       "3945                                                        []       9.0   \n",
       "30847                             [] shortsviral shorts trend]       NaN   \n",
       "49702  [] shortsviral shorts brincadeira babyalive deixaolike]       NaN   \n",
       "\n",
       "       is_shorts broadcast             yt_channel_id  \\\n",
       "3945         0.0      none  UCfBtfDbuAH6tZnb-Q9EzauA   \n",
       "30847        NaN       NaN  UCUT1XWGIx6MxWmtPsGYcBEg   \n",
       "49702        NaN       NaN  UCUT1XWGIx6MxWmtPsGYcBEg   \n",
       "\n",
       "                 yt_channel_name  \\\n",
       "3945         LEV family SHOW RUS   \n",
       "30847  Bush Baby World Пушастики   \n",
       "49702  Bush Baby World Пушастики   \n",
       "\n",
       "                                                      yt_ch_url  \\\n",
       "3945       https://youtube.com/channel/UCfBtfDbuAH6tZnb-Q9EzauA   \n",
       "30847  https://www.youtube.com/channel/UCUT1XWGIx6MxWmtPsGYcBEg   \n",
       "49702  https://www.youtube.com/channel/UCUT1XWGIx6MxWmtPsGYcBEg   \n",
       "\n",
       "      yt_channel_type  flag_closed  international language  \n",
       "3945          Блогеры          0.0            0.0      NaN  \n",
       "30847     Мультфильмы          0.0            0.0      NaN  \n",
       "49702     Мультфильмы          0.0            0.0      NaN  "
      ]
     },
     "execution_count": 72,
     "metadata": {},
     "output_type": "execute_result"
    }
   ],
   "source": [
    "dts[dts.reel_name.isnull()]"
   ]
  },
  {
   "cell_type": "markdown",
   "id": "c7a66dd7-3e54-42d7-99ae-df044846a2b0",
   "metadata": {},
   "source": [
    "Пропуски в поле `reel_name` - в малом количестве и не принадлежат к размеченным образцам. В базовом варианте обработки - удалим их"
   ]
  },
  {
   "cell_type": "markdown",
   "id": "2f66d860-7ff7-4eac-8f23-36a12bf34a55",
   "metadata": {},
   "source": [
    "# Определим языки"
   ]
  },
  {
   "cell_type": "code",
   "execution_count": 74,
   "id": "c4a4cb8e-3a81-4f01-8aba-2827b1c8fe6a",
   "metadata": {},
   "outputs": [
    {
     "data": {
      "text/plain": [
       "{'ru': 0.790567,\n",
       " 'en': 0.15209,\n",
       " 'bg': 0.01296,\n",
       " 'pl': 0.009064,\n",
       " 'ja': 0.006546,\n",
       " 'pt': 0.006138,\n",
       " 'et': 0.005815,\n",
       " 'ar': 0.003369,\n",
       " 'uk': 0.003105,\n",
       " 'es': 0.002805,\n",
       " 'mk': 0.001247,\n",
       " 'ca': 0.000935,\n",
       " 'no': 0.000623,\n",
       " 'hi': 0.000539,\n",
       " 'id': 0.00048,\n",
       " 'nl': 0.000444,\n",
       " 'sv': 0.000384,\n",
       " 'ko': 0.000384,\n",
       " 'de': 0.000384,\n",
       " 'da': 0.00036,\n",
       " 'hr': 0.000288,\n",
       " 'af': 0.000276,\n",
       " 'fr': 0.00018,\n",
       " 'ro': 0.000156,\n",
       " 'tr': 0.00012,\n",
       " 'it': 0.00012,\n",
       " 'tl': 9.6e-05,\n",
       " 'vi': 9.6e-05,\n",
       " 'sl': 8.4e-05,\n",
       " 'cy': 6e-05,\n",
       " 'sq': 4.8e-05,\n",
       " 'fi': 3.6e-05,\n",
       " 'unknown': 3.6e-05,\n",
       " 'so': 3.6e-05,\n",
       " 'th': 3.6e-05,\n",
       " 'sw': 2.4e-05,\n",
       " 'lt': 2.4e-05,\n",
       " 'hu': 2.4e-05,\n",
       " 'el': 1.2e-05,\n",
       " 'sk': 1.2e-05}"
      ]
     },
     "execution_count": 74,
     "metadata": {},
     "output_type": "execute_result"
    }
   ],
   "source": [
    "langs_clean.lang_distrib_train"
   ]
  },
  {
   "cell_type": "markdown",
   "id": "4584e3b3-d70a-4b0b-822c-4c65c1582441",
   "metadata": {},
   "source": [
    "# Анализ классов (выявление дисбаланса)"
   ]
  },
  {
   "cell_type": "code",
   "execution_count": 76,
   "id": "6500f24d-4e5a-4c82-90af-467beb3a5991",
   "metadata": {},
   "outputs": [],
   "source": [
    "# Преобразование категориальных данных\n",
    "# label_encoder = LabelEncoder()\n",
    "# dtr['cartoon_encoded'] = label_encoder.fit_transform(dtr['cartoon'])"
   ]
  },
  {
   "cell_type": "code",
   "execution_count": null,
   "id": "ebb120f6-f7c7-433e-9a69-6fe2dd3d4ecb",
   "metadata": {},
   "outputs": [],
   "source": []
  }
 ],
 "metadata": {
  "kernelspec": {
   "display_name": "Python 3 (ipykernel)",
   "language": "python",
   "name": "python3"
  },
  "language_info": {
   "codemirror_mode": {
    "name": "ipython",
    "version": 3
   },
   "file_extension": ".py",
   "mimetype": "text/x-python",
   "name": "python",
   "nbconvert_exporter": "python",
   "pygments_lexer": "ipython3",
   "version": "3.10.9"
  }
 },
 "nbformat": 4,
 "nbformat_minor": 5
}

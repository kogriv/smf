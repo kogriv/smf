{
 "cells": [
  {
   "cell_type": "code",
   "execution_count": 1,
   "id": "1cbfbd45-bf95-4129-8223-3eabda096f38",
   "metadata": {},
   "outputs": [],
   "source": [
    "import sys\n",
    "import os\n",
    "from importlib import reload"
   ]
  },
  {
   "cell_type": "code",
   "execution_count": 2,
   "id": "0c170dd7-f617-406f-bc34-6d262f8888f6",
   "metadata": {},
   "outputs": [],
   "source": [
    "import pandas as pd\n",
    "import numpy as np\n",
    "import matplotlib.pyplot as plt"
   ]
  },
  {
   "cell_type": "code",
   "execution_count": 3,
   "id": "ffcb5a04-882c-4108-b789-8dbd85ad71e5",
   "metadata": {},
   "outputs": [],
   "source": [
    "import re"
   ]
  },
  {
   "cell_type": "code",
   "execution_count": 4,
   "id": "ac2bb826-f485-47ed-af92-5af6a5fa2e12",
   "metadata": {},
   "outputs": [],
   "source": [
    "from sklearn.preprocessing import LabelEncoder\n",
    "from sklearn.model_selection import train_test_split"
   ]
  },
  {
   "cell_type": "code",
   "execution_count": 5,
   "id": "49ff531b-d03b-426d-ba9d-cca3a96b0744",
   "metadata": {},
   "outputs": [],
   "source": [
    "from collections import Counter"
   ]
  },
  {
   "cell_type": "code",
   "execution_count": 6,
   "id": "13bffeb9-b887-4e2c-b1dc-72c1734253ca",
   "metadata": {},
   "outputs": [
    {
     "name": "stdout",
     "output_type": "stream",
     "text": [
      "Local machine: Путь к 'src' добавлен.\n"
     ]
    }
   ],
   "source": [
    "try:\n",
    "    # Путь для локальной машины (определяем корень проекта)\n",
    "    project_root = os.path.abspath(os.path.join(os.getcwd(), \"..\"))\n",
    "    src_path = os.path.join(project_root, \"src\")\n",
    "\n",
    "    # Проверяем, существует ли путь (т.е. файл \"src\" должен быть в корне проекта)\n",
    "    if os.path.exists(src_path):\n",
    "        sys.path.append(src_path)\n",
    "        print(\"Local machine: Путь к 'src' добавлен.\")\n",
    "    else:\n",
    "        raise FileNotFoundError(f\"Path {src_path} not found on local machine.\")\n",
    "\n",
    "except:\n",
    "    try:\n",
    "        # Путь для Kaggle\n",
    "        kaggle_src_path = '/kaggle/input/src'\n",
    "        if os.path.exists(kaggle_src_path):\n",
    "            sys.path.append(kaggle_src_path)\n",
    "            print(\"Kaggle: Путь к 'src' добавлен.\")\n",
    "        else:\n",
    "            raise FileNotFoundError(f\"Path {kaggle_src_path} not found on Kaggle.\")\n",
    "\n",
    "    except Exception as e:\n",
    "        print(f\"Не удалось добавить путь к 'src'. Ошибка: {e}\")"
   ]
  },
  {
   "cell_type": "code",
   "execution_count": 7,
   "id": "2c1017a1-2188-45da-8111-77f66cc2a3e9",
   "metadata": {},
   "outputs": [],
   "source": [
    "import promiss\n",
    "import langs_clean"
   ]
  },
  {
   "cell_type": "code",
   "execution_count": 8,
   "id": "56da88f0-22a4-44fa-a7e3-5b2a1687c16c",
   "metadata": {},
   "outputs": [
    {
     "name": "stdout",
     "output_type": "stream",
     "text": [
      "Train data loaded from local machine\n"
     ]
    }
   ],
   "source": [
    "try:\n",
    "    # Путь для локальной машины\n",
    "    file_path = r'C:\\0\\smf\\train.csv' \n",
    "    dtr = pd.read_csv(file_path, lineterminator='\\n')\n",
    "    print('Train data loaded from local machine')\n",
    "\n",
    "except:\n",
    "    try:\n",
    "        # Путь для Kaggle\n",
    "        file_path = '/kaggle/input/animation-reels-classification/train.csv'\n",
    "        dtr = pd.read_csv(file_path, lineterminator='\\n')\n",
    "        print('Train data loaded from Kaggle')\n",
    "\n",
    "    except Exception as e:\n",
    "        print(f'Train data was not loaded. Error: {e}')"
   ]
  },
  {
   "cell_type": "code",
   "execution_count": 9,
   "id": "8eea8dd3-484a-4601-a017-38cfad24995a",
   "metadata": {},
   "outputs": [
    {
     "name": "stdout",
     "output_type": "stream",
     "text": [
      "Test data loaded from local machine\n"
     ]
    }
   ],
   "source": [
    "try:\n",
    "    # Путь для локальной машины\n",
    "    file_path = r'C:\\0\\smf\\test.csv' \n",
    "    dtr = pd.read_csv(file_path, lineterminator='\\n')\n",
    "    print('Test data loaded from local machine')\n",
    "\n",
    "except:\n",
    "    try:\n",
    "        # Путь для Kaggle\n",
    "        file_path = '/kaggle/input/animation-reels-classification/test.csv'\n",
    "        dtr = pd.read_csv(file_path, lineterminator='\\n')\n",
    "        print('Test data loaded from Kaggle')\n",
    "\n",
    "    except Exception as e:\n",
    "        print(f'Test data was not loaded. Error: {e}')"
   ]
  },
  {
   "cell_type": "code",
   "execution_count": 10,
   "id": "810ce4e5-ff1c-46b9-954c-dd0713ea721d",
   "metadata": {},
   "outputs": [],
   "source": [
    "pd.set_option('display.max_colwidth', None)"
   ]
  },
  {
   "cell_type": "code",
   "execution_count": 11,
   "id": "b6590a51-f018-4fc7-9613-56c9bce3243c",
   "metadata": {},
   "outputs": [],
   "source": [
    "pd.set_option('display.max_rows', None)"
   ]
  },
  {
   "cell_type": "code",
   "execution_count": 12,
   "id": "0141d29f-de37-42b4-b9fc-a4ea662b205a",
   "metadata": {
    "tags": []
   },
   "outputs": [
    {
     "data": {
      "text/html": [
       "<div>\n",
       "<style scoped>\n",
       "    .dataframe tbody tr th:only-of-type {\n",
       "        vertical-align: middle;\n",
       "    }\n",
       "\n",
       "    .dataframe tbody tr th {\n",
       "        vertical-align: top;\n",
       "    }\n",
       "\n",
       "    .dataframe thead th {\n",
       "        text-align: right;\n",
       "    }\n",
       "</style>\n",
       "<table border=\"1\" class=\"dataframe\">\n",
       "  <thead>\n",
       "    <tr style=\"text-align: right;\">\n",
       "      <th></th>\n",
       "      <th>date</th>\n",
       "      <th>reel_name</th>\n",
       "      <th>yt_reel_id</th>\n",
       "      <th>url</th>\n",
       "      <th>text</th>\n",
       "      <th>seconds</th>\n",
       "      <th>is_shorts</th>\n",
       "      <th>broadcast</th>\n",
       "      <th>yt_channel_id</th>\n",
       "      <th>yt_channel_name</th>\n",
       "      <th>yt_ch_url</th>\n",
       "      <th>yt_channel_type</th>\n",
       "      <th>flag_closed</th>\n",
       "      <th>international</th>\n",
       "      <th>language</th>\n",
       "    </tr>\n",
       "  </thead>\n",
       "  <tbody>\n",
       "    <tr>\n",
       "      <th>0</th>\n",
       "      <td>2020-10-26</td>\n",
       "      <td>пять маленьких монстров  хэллоуин рифмы  потешки  Kids Tv Russia  детские песни</td>\n",
       "      <td>RBw4j0aMWyM</td>\n",
       "      <td>https://www.youtube.com/watch?v=RBw4j0aMWyM</td>\n",
       "      <td>[пять маленьких монстров  хэллоуин рифмы  потешки  Kids Tv Russia  детские песни ] привет дети, Kids Tv Russia приносит вам новую песню , учиться и веселиться.смотрите нашу коллекцию из лучших детских стишков и песни для детей с лучшей анимацией и мультфильмами на русском.Visit our website http://www.uspstudios.co/ for more  Childrens  Nursery Rhymes  Kids VideosMusic and Lyrics: Copyright USP StudiosVideo: Copyright USP StudiosKIDS FIRST  Kids Videos  Nursery Rhymes  Free App Download: http://m.onelink.me/1e8f6c16Bob the Train Plush Toys now available on Amazon. Buy yours today Bob the Train Amazon Store:  https://amzn.to/2PCeSDS</td>\n",
       "      <td>960.0</td>\n",
       "      <td>0.0</td>\n",
       "      <td>none</td>\n",
       "      <td>UCfeljpDR__qqp-lLBJdiQkw</td>\n",
       "      <td>Kids Tv Russia песенки для дете</td>\n",
       "      <td>https://youtube.com/channel/UCfeljpDR__qqp-lLBJdiQkw</td>\n",
       "      <td>Детские</td>\n",
       "      <td>0.0</td>\n",
       "      <td>0.0</td>\n",
       "      <td>NaN</td>\n",
       "    </tr>\n",
       "  </tbody>\n",
       "</table>\n",
       "</div>"
      ],
      "text/plain": [
       "         date  \\\n",
       "0  2020-10-26   \n",
       "\n",
       "                                                                          reel_name  \\\n",
       "0  пять маленьких монстров  хэллоуин рифмы  потешки  Kids Tv Russia  детские песни    \n",
       "\n",
       "    yt_reel_id                                          url  \\\n",
       "0  RBw4j0aMWyM  https://www.youtube.com/watch?v=RBw4j0aMWyM   \n",
       "\n",
       "                                                                                                                                                                                                                                                                                                                                                                                                                                                                                                                                                                                                                                                             text  \\\n",
       "0  [пять маленьких монстров  хэллоуин рифмы  потешки  Kids Tv Russia  детские песни ] привет дети, Kids Tv Russia приносит вам новую песню , учиться и веселиться.смотрите нашу коллекцию из лучших детских стишков и песни для детей с лучшей анимацией и мультфильмами на русском.Visit our website http://www.uspstudios.co/ for more  Childrens  Nursery Rhymes  Kids VideosMusic and Lyrics: Copyright USP StudiosVideo: Copyright USP StudiosKIDS FIRST  Kids Videos  Nursery Rhymes  Free App Download: http://m.onelink.me/1e8f6c16Bob the Train Plush Toys now available on Amazon. Buy yours today Bob the Train Amazon Store:  https://amzn.to/2PCeSDS   \n",
       "\n",
       "   seconds  is_shorts broadcast             yt_channel_id  \\\n",
       "0    960.0        0.0      none  UCfeljpDR__qqp-lLBJdiQkw   \n",
       "\n",
       "                   yt_channel_name  \\\n",
       "0  Kids Tv Russia песенки для дете   \n",
       "\n",
       "                                              yt_ch_url yt_channel_type  \\\n",
       "0  https://youtube.com/channel/UCfeljpDR__qqp-lLBJdiQkw         Детские   \n",
       "\n",
       "   flag_closed  international language  \n",
       "0          0.0            0.0      NaN  "
      ]
     },
     "execution_count": 12,
     "metadata": {},
     "output_type": "execute_result"
    }
   ],
   "source": [
    "dtr[:1]"
   ]
  },
  {
   "cell_type": "code",
   "execution_count": 13,
   "id": "89c6ac9d-e31d-4480-b77b-873f19062bd6",
   "metadata": {},
   "outputs": [],
   "source": [
    "pd.reset_option('display.max_rows')"
   ]
  },
  {
   "cell_type": "code",
   "execution_count": 14,
   "id": "13277280-cb99-4ba2-93c1-89dc5c7c6aa9",
   "metadata": {},
   "outputs": [
    {
     "name": "stdout",
     "output_type": "stream",
     "text": [
      "broadcast:        ['none' 'live' nan 'upcoming']\n",
      "yt_channel_type:  ['Детские' 'Блогеры' 'Мультфильмы' nan 'Shorts']\n",
      "flag_closed:      [ 0.  1. nan]\n",
      "international:    [ 0.  1. nan]\n",
      "is_shorts:        [ 0. nan  1.]\n"
     ]
    }
   ],
   "source": [
    "print('broadcast:       ',dtr.broadcast.unique())\n",
    "print('yt_channel_type: ',dtr.yt_channel_type.unique())\n",
    "print('flag_closed:     ',dtr.flag_closed.unique())\n",
    "print('international:   ',dtr.international.unique())\n",
    "print('is_shorts:       ',dtr.is_shorts.unique())"
   ]
  },
  {
   "cell_type": "code",
   "execution_count": 15,
   "id": "97b3e6a1-55f9-4903-bf75-fc4bcbef9c9c",
   "metadata": {},
   "outputs": [
    {
     "data": {
      "text/html": [
       "<div>\n",
       "<style scoped>\n",
       "    .dataframe tbody tr th:only-of-type {\n",
       "        vertical-align: middle;\n",
       "    }\n",
       "\n",
       "    .dataframe tbody tr th {\n",
       "        vertical-align: top;\n",
       "    }\n",
       "\n",
       "    .dataframe thead th {\n",
       "        text-align: right;\n",
       "    }\n",
       "</style>\n",
       "<table border=\"1\" class=\"dataframe\">\n",
       "  <thead>\n",
       "    <tr style=\"text-align: right;\">\n",
       "      <th></th>\n",
       "      <th>is_shorts</th>\n",
       "      <th>min_seconds</th>\n",
       "      <th>mean_seconds</th>\n",
       "      <th>max_seconds</th>\n",
       "    </tr>\n",
       "  </thead>\n",
       "  <tbody>\n",
       "    <tr>\n",
       "      <th>0</th>\n",
       "      <td>0.0</td>\n",
       "      <td>0.0</td>\n",
       "      <td>1948.002221</td>\n",
       "      <td>605861.0</td>\n",
       "    </tr>\n",
       "    <tr>\n",
       "      <th>1</th>\n",
       "      <td>1.0</td>\n",
       "      <td>4.0</td>\n",
       "      <td>26.553804</td>\n",
       "      <td>60.0</td>\n",
       "    </tr>\n",
       "  </tbody>\n",
       "</table>\n",
       "</div>"
      ],
      "text/plain": [
       "   is_shorts  min_seconds  mean_seconds  max_seconds\n",
       "0        0.0          0.0   1948.002221     605861.0\n",
       "1        1.0          4.0     26.553804         60.0"
      ]
     },
     "execution_count": 15,
     "metadata": {},
     "output_type": "execute_result"
    }
   ],
   "source": [
    "pivot_shorts_seconds = dtr.pivot_table(\n",
    "    values='seconds',\n",
    "    index='is_shorts',\n",
    "    aggfunc=['min', 'mean', 'max']\n",
    ")\n",
    "pivot_shorts_seconds.columns = ['min_seconds', 'mean_seconds', 'max_seconds']\n",
    "pivot_shorts_seconds = pivot_shorts_seconds.reset_index()\n",
    "pivot_shorts_seconds"
   ]
  },
  {
   "cell_type": "code",
   "execution_count": 16,
   "id": "f5046b46-8f66-4c05-a477-656bb2504350",
   "metadata": {},
   "outputs": [
    {
     "name": "stdout",
     "output_type": "stream",
     "text": [
      "<class 'pandas.core.frame.DataFrame'>\n",
      "RangeIndex: 55608 entries, 0 to 55607\n",
      "Data columns (total 15 columns):\n",
      " #   Column           Non-Null Count  Dtype  \n",
      "---  ------           --------------  -----  \n",
      " 0   date             55608 non-null  object \n",
      " 1   reel_name        55605 non-null  object \n",
      " 2   yt_reel_id       55608 non-null  object \n",
      " 3   url              55608 non-null  object \n",
      " 4   text             55608 non-null  object \n",
      " 5   seconds          49807 non-null  float64\n",
      " 6   is_shorts        49807 non-null  float64\n",
      " 7   broadcast        49807 non-null  object \n",
      " 8   yt_channel_id    55584 non-null  object \n",
      " 9   yt_channel_name  55580 non-null  object \n",
      " 10  yt_ch_url        55580 non-null  object \n",
      " 11  yt_channel_type  55580 non-null  object \n",
      " 12  flag_closed      55580 non-null  float64\n",
      " 13  international    55580 non-null  float64\n",
      " 14  language         337 non-null    object \n",
      "dtypes: float64(4), object(11)\n",
      "memory usage: 6.4+ MB\n"
     ]
    }
   ],
   "source": [
    "dtr.info()"
   ]
  },
  {
   "cell_type": "code",
   "execution_count": 17,
   "id": "c9ab491c-eb15-4b4f-a303-e05186b36cbc",
   "metadata": {},
   "outputs": [
    {
     "ename": "NameError",
     "evalue": "name 'dts' is not defined",
     "output_type": "error",
     "traceback": [
      "\u001b[1;31m---------------------------------------------------------------------------\u001b[0m",
      "\u001b[1;31mNameError\u001b[0m                                 Traceback (most recent call last)",
      "Cell \u001b[1;32mIn[17], line 1\u001b[0m\n\u001b[1;32m----> 1\u001b[0m \u001b[43mdts\u001b[49m\u001b[38;5;241m.\u001b[39minfo()\n",
      "\u001b[1;31mNameError\u001b[0m: name 'dts' is not defined"
     ]
    }
   ],
   "source": [
    "dts.info()"
   ]
  },
  {
   "cell_type": "code",
   "execution_count": null,
   "id": "77029a17-b93d-4ae0-8118-a0e18d9a8a24",
   "metadata": {},
   "outputs": [],
   "source": [
    "dtr.yt_reel_id.nunique()"
   ]
  },
  {
   "cell_type": "code",
   "execution_count": null,
   "id": "5bdc995e-efa6-42d9-8a52-04f26f2c16db",
   "metadata": {},
   "outputs": [],
   "source": [
    "dtr.cartoon.nunique()"
   ]
  },
  {
   "cell_type": "code",
   "execution_count": null,
   "id": "37e5b50b-2805-4036-a225-08aa94ea9ad4",
   "metadata": {},
   "outputs": [],
   "source": [
    "dtr.cartoon.value_counts(normalize=True)[:5]"
   ]
  },
  {
   "cell_type": "code",
   "execution_count": null,
   "id": "57c9cd1f-0184-464c-94e7-d2db26f6afca",
   "metadata": {},
   "outputs": [],
   "source": [
    "dtr.duplicated().sum()"
   ]
  },
  {
   "cell_type": "markdown",
   "id": "b7a3b903-6082-4257-9068-0cef11b02c18",
   "metadata": {},
   "source": [
    "Дубликатов нет"
   ]
  },
  {
   "cell_type": "markdown",
   "id": "01a120c0-293e-4b7c-9cb5-ddc7cc3c9d71",
   "metadata": {},
   "source": [
    "## Пропуски"
   ]
  },
  {
   "cell_type": "code",
   "execution_count": null,
   "id": "bbbb45e6-11cc-486d-9d8b-b2f749ca846f",
   "metadata": {},
   "outputs": [],
   "source": [
    "dtr[dtr.reel_name.isnull()]"
   ]
  },
  {
   "cell_type": "code",
   "execution_count": null,
   "id": "39d7b5ce-b333-4c90-a92b-1015706adcee",
   "metadata": {},
   "outputs": [],
   "source": [
    "dts[dts.reel_name.isnull()]"
   ]
  },
  {
   "cell_type": "markdown",
   "id": "c7a66dd7-3e54-42d7-99ae-df044846a2b0",
   "metadata": {},
   "source": [
    "Пропуски в поле `reel_name` - в малом количестве и не принадлежат к размеченным образцам. В базовом варианте обработки - удалим их"
   ]
  },
  {
   "cell_type": "code",
   "execution_count": null,
   "id": "35193a24-8a47-42ce-9a02-5b7f8e626d90",
   "metadata": {},
   "outputs": [],
   "source": []
  },
  {
   "cell_type": "code",
   "execution_count": null,
   "id": "8452b8b2-c55c-4727-8efb-5f70560dfb90",
   "metadata": {},
   "outputs": [],
   "source": []
  },
  {
   "cell_type": "markdown",
   "id": "2f66d860-7ff7-4eac-8f23-36a12bf34a55",
   "metadata": {},
   "source": [
    "# Определим языки"
   ]
  },
  {
   "cell_type": "code",
   "execution_count": null,
   "id": "c4a4cb8e-3a81-4f01-8aba-2827b1c8fe6a",
   "metadata": {},
   "outputs": [],
   "source": [
    "langs_clean.lang_distrib_train"
   ]
  },
  {
   "cell_type": "code",
   "execution_count": null,
   "id": "32bc65c8-eca4-4b87-bfb0-fa744289b253",
   "metadata": {},
   "outputs": [],
   "source": []
  },
  {
   "cell_type": "code",
   "execution_count": null,
   "id": "909c18fd-08e3-44df-81b9-7d31a74f58bb",
   "metadata": {},
   "outputs": [],
   "source": []
  },
  {
   "cell_type": "code",
   "execution_count": null,
   "id": "95b1acaa-f2c5-475a-a0f3-ca7e2d8af211",
   "metadata": {},
   "outputs": [],
   "source": []
  },
  {
   "cell_type": "markdown",
   "id": "4584e3b3-d70a-4b0b-822c-4c65c1582441",
   "metadata": {},
   "source": [
    "# Анализ классов (выявление дисбаланса)"
   ]
  },
  {
   "cell_type": "code",
   "execution_count": null,
   "id": "5c1ae38e-ca12-4aa5-895a-86158d9ed907",
   "metadata": {},
   "outputs": [],
   "source": []
  },
  {
   "cell_type": "code",
   "execution_count": null,
   "id": "337dbd83-fadf-45dc-8a13-452c5adec2a8",
   "metadata": {},
   "outputs": [],
   "source": []
  },
  {
   "cell_type": "code",
   "execution_count": null,
   "id": "72329acf-9586-4347-af45-2632bbf00a72",
   "metadata": {},
   "outputs": [],
   "source": []
  },
  {
   "cell_type": "code",
   "execution_count": null,
   "id": "6370ccbc-d0ef-40e5-b388-eb72811666a8",
   "metadata": {},
   "outputs": [],
   "source": []
  },
  {
   "cell_type": "code",
   "execution_count": null,
   "id": "09bfc919-eaca-4487-b1b6-81b328debdcd",
   "metadata": {},
   "outputs": [],
   "source": []
  },
  {
   "cell_type": "code",
   "execution_count": null,
   "id": "70531c81-abc4-421c-9669-316c5ecc31ef",
   "metadata": {},
   "outputs": [],
   "source": []
  },
  {
   "cell_type": "code",
   "execution_count": null,
   "id": "6500f24d-4e5a-4c82-90af-467beb3a5991",
   "metadata": {},
   "outputs": [],
   "source": [
    "# Преобразование категориальных данных\n",
    "label_encoder = LabelEncoder()\n",
    "dtr['cartoon_encoded'] = label_encoder.fit_transform(dtr['cartoon'])"
   ]
  }
 ],
 "metadata": {
  "kernelspec": {
   "display_name": "Python 3 (ipykernel)",
   "language": "python",
   "name": "python3"
  },
  "language_info": {
   "codemirror_mode": {
    "name": "ipython",
    "version": 3
   },
   "file_extension": ".py",
   "mimetype": "text/x-python",
   "name": "python",
   "nbconvert_exporter": "python",
   "pygments_lexer": "ipython3",
   "version": "3.10.9"
  }
 },
 "nbformat": 4,
 "nbformat_minor": 5
}

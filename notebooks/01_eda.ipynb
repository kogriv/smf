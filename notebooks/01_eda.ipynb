{
 "cells": [
  {
   "cell_type": "code",
   "execution_count": 2,
   "id": "5d1a83ab-fcb7-43b6-aec9-5461cd28aef4",
   "metadata": {},
   "outputs": [],
   "source": [
    "import sys\n",
    "import os\n",
    "from dotenv import load_dotenv\n",
    "from importlib import reload\n",
    "from itertools import islice\n",
    "import re\n",
    "from collections import Counter"
   ]
  },
  {
   "cell_type": "code",
   "execution_count": 3,
   "id": "0c170dd7-f617-406f-bc34-6d262f8888f6",
   "metadata": {},
   "outputs": [],
   "source": [
    "import pandas as pd\n",
    "import numpy as np\n",
    "import matplotlib.pyplot as plt"
   ]
  },
  {
   "cell_type": "code",
   "execution_count": 4,
   "id": "ac2bb826-f485-47ed-af92-5af6a5fa2e12",
   "metadata": {},
   "outputs": [],
   "source": [
    "from sklearn.preprocessing import LabelEncoder\n",
    "from sklearn.model_selection import train_test_split\n",
    "from sklearn.utils.class_weight import compute_class_weight"
   ]
  },
  {
   "cell_type": "markdown",
   "id": "0f622b01-d25e-42e1-a4b0-386155733960",
   "metadata": {},
   "source": [
    "# Настройки окружения"
   ]
  },
  {
   "cell_type": "code",
   "execution_count": 6,
   "id": "2e9c70c7-f3e2-45a1-adbe-43704b5aa06b",
   "metadata": {},
   "outputs": [
    {
     "name": "stdout",
     "output_type": "stream",
     "text": [
      "Запуск на локальной машине, клонирование не требуется.\n"
     ]
    }
   ],
   "source": [
    "# Проверяем, выполняется ли код на Kaggle\n",
    "is_kaggle = 'KAGGLE_KERNEL_RUN_TYPE' in os.environ\n",
    "\n",
    "if is_kaggle:\n",
    "    # Проверка, существует ли уже клонированный репозиторий\n",
    "    if not os.path.exists('/kaggle/working/smf'):\n",
    "        !git clone https://github.com/kogriv/smf.git\n",
    "    else:\n",
    "        print(\"Репозиторий уже клонирован.\")\n",
    "else:\n",
    "    print(\"Запуск на локальной машине, клонирование не требуется.\")"
   ]
  },
  {
   "cell_type": "code",
   "execution_count": 7,
   "id": "13bffeb9-b887-4e2c-b1dc-72c1734253ca",
   "metadata": {},
   "outputs": [
    {
     "name": "stdout",
     "output_type": "stream",
     "text": [
      "Local machine: Путь к 'src' добавлен.\n"
     ]
    }
   ],
   "source": [
    "try:\n",
    "    # Путь для локальной машины (определяем корень проекта)\n",
    "    project_root = os.path.abspath(os.path.join(os.getcwd(), \"..\"))\n",
    "    src_path = os.path.join(project_root, \"src\")\n",
    "\n",
    "    # Проверяем, существует ли путь (т.е. файл \"src\" должен быть в корне проекта)\n",
    "    if os.path.exists(src_path):\n",
    "        sys.path.append(src_path)\n",
    "        print(\"Local machine: Путь к 'src' добавлен.\")\n",
    "    else:\n",
    "        raise FileNotFoundError(f\"Path {src_path} not found on local machine.\")\n",
    "\n",
    "except:\n",
    "    try:\n",
    "        # Путь для Kaggle\n",
    "        kaggle_src_path = '/kaggle/working/smf/src'\n",
    "        if os.path.exists(kaggle_src_path):\n",
    "            sys.path.append(kaggle_src_path)\n",
    "            print(\"Kaggle: Путь к 'src' добавлен.\")\n",
    "        else:\n",
    "            raise FileNotFoundError(f\"Path {kaggle_src_path} not found on Kaggle.\")\n",
    "\n",
    "    except Exception as e:\n",
    "        print(f\"Не удалось добавить путь к 'src'. Ошибка: {e}\")"
   ]
  },
  {
   "cell_type": "code",
   "execution_count": 8,
   "id": "4e347d25-dd6d-4c0e-9d53-d02600481aee",
   "metadata": {},
   "outputs": [
    {
     "data": {
      "text/plain": [
       "True"
      ]
     },
     "execution_count": 8,
     "metadata": {},
     "output_type": "execute_result"
    }
   ],
   "source": [
    "load_dotenv()"
   ]
  },
  {
   "cell_type": "markdown",
   "id": "35c448a1-61d8-4053-8970-fff54f8211b1",
   "metadata": {},
   "source": [
    "# Загрузка и просмотр данных"
   ]
  },
  {
   "cell_type": "code",
   "execution_count": 10,
   "id": "56da88f0-22a4-44fa-a7e3-5b2a1687c16c",
   "metadata": {},
   "outputs": [
    {
     "name": "stdout",
     "output_type": "stream",
     "text": [
      "Train data loaded from local machine\n"
     ]
    }
   ],
   "source": [
    "try:\n",
    "    # Получаем путь для локальной машины из .env\n",
    "    file_path = os.getenv('LOCAL_TRAIN_PATH') \n",
    "    dtr = pd.read_csv(file_path, lineterminator='\\n')\n",
    "    print('Train data loaded from local machine')\n",
    "\n",
    "except Exception as e:\n",
    "    if is_kaggle:\n",
    "        try:\n",
    "            # Получаем путь для Kaggle из .env\n",
    "            file_path = os.getenv('KAGGLE_TRAIN_PATH')\n",
    "            dtr = pd.read_csv(file_path, lineterminator='\\n')\n",
    "            print('Train data loaded from Kaggle')\n",
    "    \n",
    "        except Exception as e:\n",
    "            print(f'Train data was not loaded from Kaggle. Error: {e}')\n",
    "    else:\n",
    "        print(f'Train data was not loaded from local machine.')"
   ]
  },
  {
   "cell_type": "code",
   "execution_count": 11,
   "id": "8eea8dd3-484a-4601-a017-38cfad24995a",
   "metadata": {},
   "outputs": [
    {
     "name": "stdout",
     "output_type": "stream",
     "text": [
      "Test data loaded from local machine\n"
     ]
    }
   ],
   "source": [
    "try:\n",
    "    # Получаем путь для локальной машины из .env\n",
    "    file_path = os.getenv('LOCAL_TEST_PATH') \n",
    "    dts = pd.read_csv(file_path, lineterminator='\\n')\n",
    "    print('Test data loaded from local machine')\n",
    "\n",
    "except Exception as e:\n",
    "    if is_kaggle:\n",
    "        try:\n",
    "            # Получаем путь для Kaggle из .env\n",
    "            file_path = os.getenv('KAGGLE_TEST_PATH')\n",
    "            dts = pd.read_csv(file_path, lineterminator='\\n')\n",
    "            print('Test data loaded from Kaggle')\n",
    "    \n",
    "        except Exception as e:\n",
    "            print(f'Test data was not loaded from Kaggle. Error: {e}')\n",
    "    else:\n",
    "        print(f'Test data was not loaded from local machine.')"
   ]
  },
  {
   "cell_type": "markdown",
   "id": "9a783acf-0628-4f5f-bc8d-8e2415539a51",
   "metadata": {},
   "source": [
    "Уберем ограничение на отображение текста в ячейке и на количество строк."
   ]
  },
  {
   "cell_type": "code",
   "execution_count": 13,
   "id": "810ce4e5-ff1c-46b9-954c-dd0713ea721d",
   "metadata": {},
   "outputs": [],
   "source": [
    "pd.set_option('display.max_colwidth', None)"
   ]
  },
  {
   "cell_type": "code",
   "execution_count": 14,
   "id": "b6590a51-f018-4fc7-9613-56c9bce3243c",
   "metadata": {},
   "outputs": [],
   "source": [
    "pd.set_option('display.max_rows', None)"
   ]
  },
  {
   "cell_type": "code",
   "execution_count": 15,
   "id": "0141d29f-de37-42b4-b9fc-a4ea662b205a",
   "metadata": {
    "tags": []
   },
   "outputs": [
    {
     "data": {
      "text/html": [
       "<div>\n",
       "<style scoped>\n",
       "    .dataframe tbody tr th:only-of-type {\n",
       "        vertical-align: middle;\n",
       "    }\n",
       "\n",
       "    .dataframe tbody tr th {\n",
       "        vertical-align: top;\n",
       "    }\n",
       "\n",
       "    .dataframe thead th {\n",
       "        text-align: right;\n",
       "    }\n",
       "</style>\n",
       "<table border=\"1\" class=\"dataframe\">\n",
       "  <thead>\n",
       "    <tr style=\"text-align: right;\">\n",
       "      <th></th>\n",
       "      <th>date</th>\n",
       "      <th>reel_name</th>\n",
       "      <th>yt_reel_id</th>\n",
       "      <th>cartoon</th>\n",
       "      <th>url</th>\n",
       "      <th>text</th>\n",
       "      <th>seconds</th>\n",
       "      <th>is_shorts</th>\n",
       "      <th>broadcast</th>\n",
       "      <th>yt_channel_id</th>\n",
       "      <th>yt_channel_name</th>\n",
       "      <th>yt_ch_url</th>\n",
       "      <th>yt_channel_type</th>\n",
       "      <th>flag_closed</th>\n",
       "      <th>international</th>\n",
       "      <th>language</th>\n",
       "    </tr>\n",
       "  </thead>\n",
       "  <tbody>\n",
       "    <tr>\n",
       "      <th>0</th>\n",
       "      <td>2023-12-30</td>\n",
       "      <td>100 подарков и только один можно оставить себе</td>\n",
       "      <td>PyGZL_fCbSc</td>\n",
       "      <td>none</td>\n",
       "      <td>https://www.youtube.com/watch?v=PyGZL_fCbSc</td>\n",
       "      <td>[100 подарков и только один можно оставить себе]</td>\n",
       "      <td>1854.0</td>\n",
       "      <td>0.0</td>\n",
       "      <td>none</td>\n",
       "      <td>UCcartHVtvAUzfajflyeT_Gg</td>\n",
       "      <td>Miss Katy</td>\n",
       "      <td>https://www.youtube.com/channel/UCcartHVtvAUzfajflyeT_Gg</td>\n",
       "      <td>Блогеры</td>\n",
       "      <td>0.0</td>\n",
       "      <td>0.0</td>\n",
       "      <td>NaN</td>\n",
       "    </tr>\n",
       "  </tbody>\n",
       "</table>\n",
       "</div>"
      ],
      "text/plain": [
       "         date                                       reel_name   yt_reel_id  \\\n",
       "0  2023-12-30  100 подарков и только один можно оставить себе  PyGZL_fCbSc   \n",
       "\n",
       "  cartoon                                          url  \\\n",
       "0    none  https://www.youtube.com/watch?v=PyGZL_fCbSc   \n",
       "\n",
       "                                                text  seconds  is_shorts  \\\n",
       "0  [100 подарков и только один можно оставить себе]    1854.0        0.0   \n",
       "\n",
       "  broadcast             yt_channel_id yt_channel_name  \\\n",
       "0      none  UCcartHVtvAUzfajflyeT_Gg       Miss Katy   \n",
       "\n",
       "                                                  yt_ch_url yt_channel_type  \\\n",
       "0  https://www.youtube.com/channel/UCcartHVtvAUzfajflyeT_Gg         Блогеры   \n",
       "\n",
       "   flag_closed  international language  \n",
       "0          0.0            0.0      NaN  "
      ]
     },
     "execution_count": 15,
     "metadata": {},
     "output_type": "execute_result"
    }
   ],
   "source": [
    "dtr[:1]"
   ]
  },
  {
   "cell_type": "code",
   "execution_count": 16,
   "id": "89c6ac9d-e31d-4480-b77b-873f19062bd6",
   "metadata": {},
   "outputs": [],
   "source": [
    "pd.reset_option('display.max_rows')"
   ]
  },
  {
   "cell_type": "markdown",
   "id": "74546987-6540-4272-9f78-87a7bdb97036",
   "metadata": {},
   "source": [
    "Посмотрим уникальные значения категориальных полей."
   ]
  },
  {
   "cell_type": "code",
   "execution_count": 18,
   "id": "13277280-cb99-4ba2-93c1-89dc5c7c6aa9",
   "metadata": {},
   "outputs": [
    {
     "name": "stdout",
     "output_type": "stream",
     "text": [
      "broadcast:        ['none' nan 'live' 'upcoming']\n",
      "yt_channel_type:  ['Блогеры' 'Мультфильмы' 'Детские' 'Shorts' nan]\n",
      "flag_closed:      [ 0.  1. nan]\n",
      "international:    [ 0.  1. nan]\n",
      "is_shorts:        [ 0. nan  1.]\n"
     ]
    }
   ],
   "source": [
    "print('broadcast:       ',dtr.broadcast.unique())\n",
    "print('yt_channel_type: ',dtr.yt_channel_type.unique())\n",
    "print('flag_closed:     ',dtr.flag_closed.unique())\n",
    "print('international:   ',dtr.international.unique())\n",
    "print('is_shorts:       ',dtr.is_shorts.unique())"
   ]
  },
  {
   "cell_type": "code",
   "execution_count": 19,
   "id": "70d8b6d5-45d0-4470-ba60-4bf567dc13f1",
   "metadata": {},
   "outputs": [
    {
     "name": "stdout",
     "output_type": "stream",
     "text": [
      "broadcast:        ['none' 'live' nan 'upcoming']\n",
      "yt_channel_type:  ['Детские' 'Блогеры' 'Мультфильмы' nan 'Shorts']\n",
      "flag_closed:      [ 0.  1. nan]\n",
      "international:    [ 0.  1. nan]\n",
      "is_shorts:        [ 0. nan  1.]\n"
     ]
    }
   ],
   "source": [
    "print('broadcast:       ',dts.broadcast.unique())\n",
    "print('yt_channel_type: ',dts.yt_channel_type.unique())\n",
    "print('flag_closed:     ',dts.flag_closed.unique())\n",
    "print('international:   ',dts.international.unique())\n",
    "print('is_shorts:       ',dts.is_shorts.unique())"
   ]
  },
  {
   "cell_type": "code",
   "execution_count": 20,
   "id": "97b3e6a1-55f9-4903-bf75-fc4bcbef9c9c",
   "metadata": {},
   "outputs": [
    {
     "data": {
      "text/html": [
       "<div>\n",
       "<style scoped>\n",
       "    .dataframe tbody tr th:only-of-type {\n",
       "        vertical-align: middle;\n",
       "    }\n",
       "\n",
       "    .dataframe tbody tr th {\n",
       "        vertical-align: top;\n",
       "    }\n",
       "\n",
       "    .dataframe thead th {\n",
       "        text-align: right;\n",
       "    }\n",
       "</style>\n",
       "<table border=\"1\" class=\"dataframe\">\n",
       "  <thead>\n",
       "    <tr style=\"text-align: right;\">\n",
       "      <th></th>\n",
       "      <th>is_shorts</th>\n",
       "      <th>min_seconds</th>\n",
       "      <th>mean_seconds</th>\n",
       "      <th>max_seconds</th>\n",
       "    </tr>\n",
       "  </thead>\n",
       "  <tbody>\n",
       "    <tr>\n",
       "      <th>0</th>\n",
       "      <td>0.0</td>\n",
       "      <td>0.0</td>\n",
       "      <td>2023.129919</td>\n",
       "      <td>504055.0</td>\n",
       "    </tr>\n",
       "    <tr>\n",
       "      <th>1</th>\n",
       "      <td>1.0</td>\n",
       "      <td>1.0</td>\n",
       "      <td>27.140457</td>\n",
       "      <td>60.0</td>\n",
       "    </tr>\n",
       "  </tbody>\n",
       "</table>\n",
       "</div>"
      ],
      "text/plain": [
       "   is_shorts  min_seconds  mean_seconds  max_seconds\n",
       "0        0.0          0.0   2023.129919     504055.0\n",
       "1        1.0          1.0     27.140457         60.0"
      ]
     },
     "execution_count": 20,
     "metadata": {},
     "output_type": "execute_result"
    }
   ],
   "source": [
    "pivot_shorts_seconds = dtr.pivot_table(\n",
    "    values='seconds',\n",
    "    index='is_shorts',\n",
    "    aggfunc=['min', 'mean', 'max']\n",
    ")\n",
    "pivot_shorts_seconds.columns = ['min_seconds', 'mean_seconds', 'max_seconds']\n",
    "pivot_shorts_seconds = pivot_shorts_seconds.reset_index()\n",
    "pivot_shorts_seconds"
   ]
  },
  {
   "cell_type": "markdown",
   "id": "49793193",
   "metadata": {},
   "source": [
    "Скопирую исходный датафрейм."
   ]
  },
  {
   "cell_type": "code",
   "execution_count": 22,
   "id": "4586c670-9f60-4129-92bb-5ea395f99f9e",
   "metadata": {},
   "outputs": [],
   "source": [
    "dtr_base = dtr.copy(deep=True)"
   ]
  },
  {
   "cell_type": "markdown",
   "id": "d6a07b13-556d-41d3-aa71-427a11a3620d",
   "metadata": {
    "tags": []
   },
   "source": [
    "## Пропуски"
   ]
  },
  {
   "cell_type": "code",
   "execution_count": 24,
   "id": "2c1017a1-2188-45da-8111-77f66cc2a3e9",
   "metadata": {},
   "outputs": [],
   "source": [
    "import promiss"
   ]
  },
  {
   "cell_type": "code",
   "execution_count": 25,
   "id": "2e6c0a89-3a6e-4523-9757-90f5866a95e4",
   "metadata": {},
   "outputs": [],
   "source": [
    "# reload(promiss)"
   ]
  },
  {
   "cell_type": "markdown",
   "id": "67df9934-76e5-424e-b000-faac67b7b6c4",
   "metadata": {},
   "source": [
    "Использую созданный класс обработчик пропусков (обработка в соответствии с указаниями для каждого поля - см. словарь .missval_dict)"
   ]
  },
  {
   "cell_type": "code",
   "execution_count": 27,
   "id": "c37c52d6-9d5e-4242-964b-825c3621aff9",
   "metadata": {},
   "outputs": [
    {
     "data": {
      "text/plain": [
       "{'date': 'agg_mode',\n",
       " 'reel_name': 'value_NA',\n",
       " 'yt_reel_id': 'drop',\n",
       " 'cartoon': 'value_none',\n",
       " 'url': 'value_NA',\n",
       " 'text': 'value_NA',\n",
       " 'seconds': 'agg_median_by_yt_channel_type',\n",
       " 'is_shorts': 'agg_mode',\n",
       " 'broadcast': 'agg_mode_by_yt_channel_type',\n",
       " 'yt_channel_id': 'value_NA',\n",
       " 'yt_channel_name': 'value_NA',\n",
       " 'yt_ch_url': 'value_NA',\n",
       " 'yt_channel_type': 'agg_mode',\n",
       " 'flag_closed': 'agg_mode',\n",
       " 'international': 'agg_mode',\n",
       " 'language': 'value_NA'}"
      ]
     },
     "execution_count": 27,
     "metadata": {},
     "output_type": "execute_result"
    }
   ],
   "source": [
    "promiss.missval_dict"
   ]
  },
  {
   "cell_type": "code",
   "execution_count": 28,
   "id": "781f916c-55e6-44e0-a83a-e37c8c22c41b",
   "metadata": {},
   "outputs": [
    {
     "data": {
      "text/html": [
       "<style>#sk-container-id-1 {\n",
       "  /* Definition of color scheme common for light and dark mode */\n",
       "  --sklearn-color-text: black;\n",
       "  --sklearn-color-line: gray;\n",
       "  /* Definition of color scheme for unfitted estimators */\n",
       "  --sklearn-color-unfitted-level-0: #fff5e6;\n",
       "  --sklearn-color-unfitted-level-1: #f6e4d2;\n",
       "  --sklearn-color-unfitted-level-2: #ffe0b3;\n",
       "  --sklearn-color-unfitted-level-3: chocolate;\n",
       "  /* Definition of color scheme for fitted estimators */\n",
       "  --sklearn-color-fitted-level-0: #f0f8ff;\n",
       "  --sklearn-color-fitted-level-1: #d4ebff;\n",
       "  --sklearn-color-fitted-level-2: #b3dbfd;\n",
       "  --sklearn-color-fitted-level-3: cornflowerblue;\n",
       "\n",
       "  /* Specific color for light theme */\n",
       "  --sklearn-color-text-on-default-background: var(--sg-text-color, var(--theme-code-foreground, var(--jp-content-font-color1, black)));\n",
       "  --sklearn-color-background: var(--sg-background-color, var(--theme-background, var(--jp-layout-color0, white)));\n",
       "  --sklearn-color-border-box: var(--sg-text-color, var(--theme-code-foreground, var(--jp-content-font-color1, black)));\n",
       "  --sklearn-color-icon: #696969;\n",
       "\n",
       "  @media (prefers-color-scheme: dark) {\n",
       "    /* Redefinition of color scheme for dark theme */\n",
       "    --sklearn-color-text-on-default-background: var(--sg-text-color, var(--theme-code-foreground, var(--jp-content-font-color1, white)));\n",
       "    --sklearn-color-background: var(--sg-background-color, var(--theme-background, var(--jp-layout-color0, #111)));\n",
       "    --sklearn-color-border-box: var(--sg-text-color, var(--theme-code-foreground, var(--jp-content-font-color1, white)));\n",
       "    --sklearn-color-icon: #878787;\n",
       "  }\n",
       "}\n",
       "\n",
       "#sk-container-id-1 {\n",
       "  color: var(--sklearn-color-text);\n",
       "}\n",
       "\n",
       "#sk-container-id-1 pre {\n",
       "  padding: 0;\n",
       "}\n",
       "\n",
       "#sk-container-id-1 input.sk-hidden--visually {\n",
       "  border: 0;\n",
       "  clip: rect(1px 1px 1px 1px);\n",
       "  clip: rect(1px, 1px, 1px, 1px);\n",
       "  height: 1px;\n",
       "  margin: -1px;\n",
       "  overflow: hidden;\n",
       "  padding: 0;\n",
       "  position: absolute;\n",
       "  width: 1px;\n",
       "}\n",
       "\n",
       "#sk-container-id-1 div.sk-dashed-wrapped {\n",
       "  border: 1px dashed var(--sklearn-color-line);\n",
       "  margin: 0 0.4em 0.5em 0.4em;\n",
       "  box-sizing: border-box;\n",
       "  padding-bottom: 0.4em;\n",
       "  background-color: var(--sklearn-color-background);\n",
       "}\n",
       "\n",
       "#sk-container-id-1 div.sk-container {\n",
       "  /* jupyter's `normalize.less` sets `[hidden] { display: none; }`\n",
       "     but bootstrap.min.css set `[hidden] { display: none !important; }`\n",
       "     so we also need the `!important` here to be able to override the\n",
       "     default hidden behavior on the sphinx rendered scikit-learn.org.\n",
       "     See: https://github.com/scikit-learn/scikit-learn/issues/21755 */\n",
       "  display: inline-block !important;\n",
       "  position: relative;\n",
       "}\n",
       "\n",
       "#sk-container-id-1 div.sk-text-repr-fallback {\n",
       "  display: none;\n",
       "}\n",
       "\n",
       "div.sk-parallel-item,\n",
       "div.sk-serial,\n",
       "div.sk-item {\n",
       "  /* draw centered vertical line to link estimators */\n",
       "  background-image: linear-gradient(var(--sklearn-color-text-on-default-background), var(--sklearn-color-text-on-default-background));\n",
       "  background-size: 2px 100%;\n",
       "  background-repeat: no-repeat;\n",
       "  background-position: center center;\n",
       "}\n",
       "\n",
       "/* Parallel-specific style estimator block */\n",
       "\n",
       "#sk-container-id-1 div.sk-parallel-item::after {\n",
       "  content: \"\";\n",
       "  width: 100%;\n",
       "  border-bottom: 2px solid var(--sklearn-color-text-on-default-background);\n",
       "  flex-grow: 1;\n",
       "}\n",
       "\n",
       "#sk-container-id-1 div.sk-parallel {\n",
       "  display: flex;\n",
       "  align-items: stretch;\n",
       "  justify-content: center;\n",
       "  background-color: var(--sklearn-color-background);\n",
       "  position: relative;\n",
       "}\n",
       "\n",
       "#sk-container-id-1 div.sk-parallel-item {\n",
       "  display: flex;\n",
       "  flex-direction: column;\n",
       "}\n",
       "\n",
       "#sk-container-id-1 div.sk-parallel-item:first-child::after {\n",
       "  align-self: flex-end;\n",
       "  width: 50%;\n",
       "}\n",
       "\n",
       "#sk-container-id-1 div.sk-parallel-item:last-child::after {\n",
       "  align-self: flex-start;\n",
       "  width: 50%;\n",
       "}\n",
       "\n",
       "#sk-container-id-1 div.sk-parallel-item:only-child::after {\n",
       "  width: 0;\n",
       "}\n",
       "\n",
       "/* Serial-specific style estimator block */\n",
       "\n",
       "#sk-container-id-1 div.sk-serial {\n",
       "  display: flex;\n",
       "  flex-direction: column;\n",
       "  align-items: center;\n",
       "  background-color: var(--sklearn-color-background);\n",
       "  padding-right: 1em;\n",
       "  padding-left: 1em;\n",
       "}\n",
       "\n",
       "\n",
       "/* Toggleable style: style used for estimator/Pipeline/ColumnTransformer box that is\n",
       "clickable and can be expanded/collapsed.\n",
       "- Pipeline and ColumnTransformer use this feature and define the default style\n",
       "- Estimators will overwrite some part of the style using the `sk-estimator` class\n",
       "*/\n",
       "\n",
       "/* Pipeline and ColumnTransformer style (default) */\n",
       "\n",
       "#sk-container-id-1 div.sk-toggleable {\n",
       "  /* Default theme specific background. It is overwritten whether we have a\n",
       "  specific estimator or a Pipeline/ColumnTransformer */\n",
       "  background-color: var(--sklearn-color-background);\n",
       "}\n",
       "\n",
       "/* Toggleable label */\n",
       "#sk-container-id-1 label.sk-toggleable__label {\n",
       "  cursor: pointer;\n",
       "  display: block;\n",
       "  width: 100%;\n",
       "  margin-bottom: 0;\n",
       "  padding: 0.5em;\n",
       "  box-sizing: border-box;\n",
       "  text-align: center;\n",
       "}\n",
       "\n",
       "#sk-container-id-1 label.sk-toggleable__label-arrow:before {\n",
       "  /* Arrow on the left of the label */\n",
       "  content: \"▸\";\n",
       "  float: left;\n",
       "  margin-right: 0.25em;\n",
       "  color: var(--sklearn-color-icon);\n",
       "}\n",
       "\n",
       "#sk-container-id-1 label.sk-toggleable__label-arrow:hover:before {\n",
       "  color: var(--sklearn-color-text);\n",
       "}\n",
       "\n",
       "/* Toggleable content - dropdown */\n",
       "\n",
       "#sk-container-id-1 div.sk-toggleable__content {\n",
       "  max-height: 0;\n",
       "  max-width: 0;\n",
       "  overflow: hidden;\n",
       "  text-align: left;\n",
       "  /* unfitted */\n",
       "  background-color: var(--sklearn-color-unfitted-level-0);\n",
       "}\n",
       "\n",
       "#sk-container-id-1 div.sk-toggleable__content.fitted {\n",
       "  /* fitted */\n",
       "  background-color: var(--sklearn-color-fitted-level-0);\n",
       "}\n",
       "\n",
       "#sk-container-id-1 div.sk-toggleable__content pre {\n",
       "  margin: 0.2em;\n",
       "  border-radius: 0.25em;\n",
       "  color: var(--sklearn-color-text);\n",
       "  /* unfitted */\n",
       "  background-color: var(--sklearn-color-unfitted-level-0);\n",
       "}\n",
       "\n",
       "#sk-container-id-1 div.sk-toggleable__content.fitted pre {\n",
       "  /* unfitted */\n",
       "  background-color: var(--sklearn-color-fitted-level-0);\n",
       "}\n",
       "\n",
       "#sk-container-id-1 input.sk-toggleable__control:checked~div.sk-toggleable__content {\n",
       "  /* Expand drop-down */\n",
       "  max-height: 200px;\n",
       "  max-width: 100%;\n",
       "  overflow: auto;\n",
       "}\n",
       "\n",
       "#sk-container-id-1 input.sk-toggleable__control:checked~label.sk-toggleable__label-arrow:before {\n",
       "  content: \"▾\";\n",
       "}\n",
       "\n",
       "/* Pipeline/ColumnTransformer-specific style */\n",
       "\n",
       "#sk-container-id-1 div.sk-label input.sk-toggleable__control:checked~label.sk-toggleable__label {\n",
       "  color: var(--sklearn-color-text);\n",
       "  background-color: var(--sklearn-color-unfitted-level-2);\n",
       "}\n",
       "\n",
       "#sk-container-id-1 div.sk-label.fitted input.sk-toggleable__control:checked~label.sk-toggleable__label {\n",
       "  background-color: var(--sklearn-color-fitted-level-2);\n",
       "}\n",
       "\n",
       "/* Estimator-specific style */\n",
       "\n",
       "/* Colorize estimator box */\n",
       "#sk-container-id-1 div.sk-estimator input.sk-toggleable__control:checked~label.sk-toggleable__label {\n",
       "  /* unfitted */\n",
       "  background-color: var(--sklearn-color-unfitted-level-2);\n",
       "}\n",
       "\n",
       "#sk-container-id-1 div.sk-estimator.fitted input.sk-toggleable__control:checked~label.sk-toggleable__label {\n",
       "  /* fitted */\n",
       "  background-color: var(--sklearn-color-fitted-level-2);\n",
       "}\n",
       "\n",
       "#sk-container-id-1 div.sk-label label.sk-toggleable__label,\n",
       "#sk-container-id-1 div.sk-label label {\n",
       "  /* The background is the default theme color */\n",
       "  color: var(--sklearn-color-text-on-default-background);\n",
       "}\n",
       "\n",
       "/* On hover, darken the color of the background */\n",
       "#sk-container-id-1 div.sk-label:hover label.sk-toggleable__label {\n",
       "  color: var(--sklearn-color-text);\n",
       "  background-color: var(--sklearn-color-unfitted-level-2);\n",
       "}\n",
       "\n",
       "/* Label box, darken color on hover, fitted */\n",
       "#sk-container-id-1 div.sk-label.fitted:hover label.sk-toggleable__label.fitted {\n",
       "  color: var(--sklearn-color-text);\n",
       "  background-color: var(--sklearn-color-fitted-level-2);\n",
       "}\n",
       "\n",
       "/* Estimator label */\n",
       "\n",
       "#sk-container-id-1 div.sk-label label {\n",
       "  font-family: monospace;\n",
       "  font-weight: bold;\n",
       "  display: inline-block;\n",
       "  line-height: 1.2em;\n",
       "}\n",
       "\n",
       "#sk-container-id-1 div.sk-label-container {\n",
       "  text-align: center;\n",
       "}\n",
       "\n",
       "/* Estimator-specific */\n",
       "#sk-container-id-1 div.sk-estimator {\n",
       "  font-family: monospace;\n",
       "  border: 1px dotted var(--sklearn-color-border-box);\n",
       "  border-radius: 0.25em;\n",
       "  box-sizing: border-box;\n",
       "  margin-bottom: 0.5em;\n",
       "  /* unfitted */\n",
       "  background-color: var(--sklearn-color-unfitted-level-0);\n",
       "}\n",
       "\n",
       "#sk-container-id-1 div.sk-estimator.fitted {\n",
       "  /* fitted */\n",
       "  background-color: var(--sklearn-color-fitted-level-0);\n",
       "}\n",
       "\n",
       "/* on hover */\n",
       "#sk-container-id-1 div.sk-estimator:hover {\n",
       "  /* unfitted */\n",
       "  background-color: var(--sklearn-color-unfitted-level-2);\n",
       "}\n",
       "\n",
       "#sk-container-id-1 div.sk-estimator.fitted:hover {\n",
       "  /* fitted */\n",
       "  background-color: var(--sklearn-color-fitted-level-2);\n",
       "}\n",
       "\n",
       "/* Specification for estimator info (e.g. \"i\" and \"?\") */\n",
       "\n",
       "/* Common style for \"i\" and \"?\" */\n",
       "\n",
       ".sk-estimator-doc-link,\n",
       "a:link.sk-estimator-doc-link,\n",
       "a:visited.sk-estimator-doc-link {\n",
       "  float: right;\n",
       "  font-size: smaller;\n",
       "  line-height: 1em;\n",
       "  font-family: monospace;\n",
       "  background-color: var(--sklearn-color-background);\n",
       "  border-radius: 1em;\n",
       "  height: 1em;\n",
       "  width: 1em;\n",
       "  text-decoration: none !important;\n",
       "  margin-left: 1ex;\n",
       "  /* unfitted */\n",
       "  border: var(--sklearn-color-unfitted-level-1) 1pt solid;\n",
       "  color: var(--sklearn-color-unfitted-level-1);\n",
       "}\n",
       "\n",
       ".sk-estimator-doc-link.fitted,\n",
       "a:link.sk-estimator-doc-link.fitted,\n",
       "a:visited.sk-estimator-doc-link.fitted {\n",
       "  /* fitted */\n",
       "  border: var(--sklearn-color-fitted-level-1) 1pt solid;\n",
       "  color: var(--sklearn-color-fitted-level-1);\n",
       "}\n",
       "\n",
       "/* On hover */\n",
       "div.sk-estimator:hover .sk-estimator-doc-link:hover,\n",
       ".sk-estimator-doc-link:hover,\n",
       "div.sk-label-container:hover .sk-estimator-doc-link:hover,\n",
       ".sk-estimator-doc-link:hover {\n",
       "  /* unfitted */\n",
       "  background-color: var(--sklearn-color-unfitted-level-3);\n",
       "  color: var(--sklearn-color-background);\n",
       "  text-decoration: none;\n",
       "}\n",
       "\n",
       "div.sk-estimator.fitted:hover .sk-estimator-doc-link.fitted:hover,\n",
       ".sk-estimator-doc-link.fitted:hover,\n",
       "div.sk-label-container:hover .sk-estimator-doc-link.fitted:hover,\n",
       ".sk-estimator-doc-link.fitted:hover {\n",
       "  /* fitted */\n",
       "  background-color: var(--sklearn-color-fitted-level-3);\n",
       "  color: var(--sklearn-color-background);\n",
       "  text-decoration: none;\n",
       "}\n",
       "\n",
       "/* Span, style for the box shown on hovering the info icon */\n",
       ".sk-estimator-doc-link span {\n",
       "  display: none;\n",
       "  z-index: 9999;\n",
       "  position: relative;\n",
       "  font-weight: normal;\n",
       "  right: .2ex;\n",
       "  padding: .5ex;\n",
       "  margin: .5ex;\n",
       "  width: min-content;\n",
       "  min-width: 20ex;\n",
       "  max-width: 50ex;\n",
       "  color: var(--sklearn-color-text);\n",
       "  box-shadow: 2pt 2pt 4pt #999;\n",
       "  /* unfitted */\n",
       "  background: var(--sklearn-color-unfitted-level-0);\n",
       "  border: .5pt solid var(--sklearn-color-unfitted-level-3);\n",
       "}\n",
       "\n",
       ".sk-estimator-doc-link.fitted span {\n",
       "  /* fitted */\n",
       "  background: var(--sklearn-color-fitted-level-0);\n",
       "  border: var(--sklearn-color-fitted-level-3);\n",
       "}\n",
       "\n",
       ".sk-estimator-doc-link:hover span {\n",
       "  display: block;\n",
       "}\n",
       "\n",
       "/* \"?\"-specific style due to the `<a>` HTML tag */\n",
       "\n",
       "#sk-container-id-1 a.estimator_doc_link {\n",
       "  float: right;\n",
       "  font-size: 1rem;\n",
       "  line-height: 1em;\n",
       "  font-family: monospace;\n",
       "  background-color: var(--sklearn-color-background);\n",
       "  border-radius: 1rem;\n",
       "  height: 1rem;\n",
       "  width: 1rem;\n",
       "  text-decoration: none;\n",
       "  /* unfitted */\n",
       "  color: var(--sklearn-color-unfitted-level-1);\n",
       "  border: var(--sklearn-color-unfitted-level-1) 1pt solid;\n",
       "}\n",
       "\n",
       "#sk-container-id-1 a.estimator_doc_link.fitted {\n",
       "  /* fitted */\n",
       "  border: var(--sklearn-color-fitted-level-1) 1pt solid;\n",
       "  color: var(--sklearn-color-fitted-level-1);\n",
       "}\n",
       "\n",
       "/* On hover */\n",
       "#sk-container-id-1 a.estimator_doc_link:hover {\n",
       "  /* unfitted */\n",
       "  background-color: var(--sklearn-color-unfitted-level-3);\n",
       "  color: var(--sklearn-color-background);\n",
       "  text-decoration: none;\n",
       "}\n",
       "\n",
       "#sk-container-id-1 a.estimator_doc_link.fitted:hover {\n",
       "  /* fitted */\n",
       "  background-color: var(--sklearn-color-fitted-level-3);\n",
       "}\n",
       "</style><div id=\"sk-container-id-1\" class=\"sk-top-container\"><div class=\"sk-text-repr-fallback\"><pre>MissingValueHandler(fill_strategy=&#x27;custom_basic&#x27;,\n",
       "                    fill_values={&#x27;broadcast&#x27;: &#x27;agg_mode_by_yt_channel_type&#x27;,\n",
       "                                 &#x27;cartoon&#x27;: &#x27;value_none&#x27;, &#x27;date&#x27;: &#x27;agg_mode&#x27;,\n",
       "                                 &#x27;flag_closed&#x27;: &#x27;agg_mode&#x27;,\n",
       "                                 &#x27;international&#x27;: &#x27;agg_mode&#x27;,\n",
       "                                 &#x27;is_shorts&#x27;: &#x27;agg_mode&#x27;,\n",
       "                                 &#x27;language&#x27;: &#x27;value_NA&#x27;,\n",
       "                                 &#x27;reel_name&#x27;: &#x27;value_NA&#x27;,\n",
       "                                 &#x27;seconds&#x27;: &#x27;agg_median_by_yt_channel_type&#x27;,\n",
       "                                 &#x27;text&#x27;: &#x27;value_NA&#x27;, &#x27;url&#x27;: &#x27;value_NA&#x27;,\n",
       "                                 &#x27;yt_ch_url&#x27;: &#x27;value_NA&#x27;,\n",
       "                                 &#x27;yt_channel_id&#x27;: &#x27;value_NA&#x27;,\n",
       "                                 &#x27;yt_channel_name&#x27;: &#x27;value_NA&#x27;,\n",
       "                                 &#x27;yt_channel_type&#x27;: &#x27;agg_mode&#x27;,\n",
       "                                 &#x27;yt_reel_id&#x27;: &#x27;drop&#x27;})</pre><b>In a Jupyter environment, please rerun this cell to show the HTML representation or trust the notebook. <br />On GitHub, the HTML representation is unable to render, please try loading this page with nbviewer.org.</b></div><div class=\"sk-container\" hidden><div class=\"sk-item\"><div class=\"sk-estimator fitted sk-toggleable\"><input class=\"sk-toggleable__control sk-hidden--visually\" id=\"sk-estimator-id-1\" type=\"checkbox\" checked><label for=\"sk-estimator-id-1\" class=\"sk-toggleable__label fitted sk-toggleable__label-arrow fitted\">&nbsp;MissingValueHandler<span class=\"sk-estimator-doc-link fitted\">i<span>Fitted</span></span></label><div class=\"sk-toggleable__content fitted\"><pre>MissingValueHandler(fill_strategy=&#x27;custom_basic&#x27;,\n",
       "                    fill_values={&#x27;broadcast&#x27;: &#x27;agg_mode_by_yt_channel_type&#x27;,\n",
       "                                 &#x27;cartoon&#x27;: &#x27;value_none&#x27;, &#x27;date&#x27;: &#x27;agg_mode&#x27;,\n",
       "                                 &#x27;flag_closed&#x27;: &#x27;agg_mode&#x27;,\n",
       "                                 &#x27;international&#x27;: &#x27;agg_mode&#x27;,\n",
       "                                 &#x27;is_shorts&#x27;: &#x27;agg_mode&#x27;,\n",
       "                                 &#x27;language&#x27;: &#x27;value_NA&#x27;,\n",
       "                                 &#x27;reel_name&#x27;: &#x27;value_NA&#x27;,\n",
       "                                 &#x27;seconds&#x27;: &#x27;agg_median_by_yt_channel_type&#x27;,\n",
       "                                 &#x27;text&#x27;: &#x27;value_NA&#x27;, &#x27;url&#x27;: &#x27;value_NA&#x27;,\n",
       "                                 &#x27;yt_ch_url&#x27;: &#x27;value_NA&#x27;,\n",
       "                                 &#x27;yt_channel_id&#x27;: &#x27;value_NA&#x27;,\n",
       "                                 &#x27;yt_channel_name&#x27;: &#x27;value_NA&#x27;,\n",
       "                                 &#x27;yt_channel_type&#x27;: &#x27;agg_mode&#x27;,\n",
       "                                 &#x27;yt_reel_id&#x27;: &#x27;drop&#x27;})</pre></div> </div></div></div></div>"
      ],
      "text/plain": [
       "MissingValueHandler(fill_strategy='custom_basic',\n",
       "                    fill_values={'broadcast': 'agg_mode_by_yt_channel_type',\n",
       "                                 'cartoon': 'value_none', 'date': 'agg_mode',\n",
       "                                 'flag_closed': 'agg_mode',\n",
       "                                 'international': 'agg_mode',\n",
       "                                 'is_shorts': 'agg_mode',\n",
       "                                 'language': 'value_NA',\n",
       "                                 'reel_name': 'value_NA',\n",
       "                                 'seconds': 'agg_median_by_yt_channel_type',\n",
       "                                 'text': 'value_NA', 'url': 'value_NA',\n",
       "                                 'yt_ch_url': 'value_NA',\n",
       "                                 'yt_channel_id': 'value_NA',\n",
       "                                 'yt_channel_name': 'value_NA',\n",
       "                                 'yt_channel_type': 'agg_mode',\n",
       "                                 'yt_reel_id': 'drop'})"
      ]
     },
     "execution_count": 28,
     "metadata": {},
     "output_type": "execute_result"
    }
   ],
   "source": [
    "missval_handler = promiss.MissingValueHandler(fill_strategy = 'custom_basic', fill_values = promiss.missval_dict)\n",
    "\n",
    "# Подгоняем обработчик на тренировочных данных\n",
    "missval_handler.fit(dtr_base)\n",
    "\n",
    "# dtr = missval_handler.transform(dtr)"
   ]
  },
  {
   "cell_type": "code",
   "execution_count": 29,
   "id": "0e54f24c-4e67-401b-b3c1-a0aeaf62564a",
   "metadata": {},
   "outputs": [],
   "source": [
    "# Применяем обработчик к тестовым данным, исключая 'cartoon'\n",
    "# dts.loc[:, dts.columns != 'cartoon'] = missval_handler.transform(dts.drop(columns=['cartoon']))\n",
    "dts = missval_handler.transform(dts)"
   ]
  },
  {
   "cell_type": "code",
   "execution_count": 30,
   "id": "f9767b49-9f59-4709-a9e6-a15b36712195",
   "metadata": {},
   "outputs": [
    {
     "name": "stdout",
     "output_type": "stream",
     "text": [
      "<class 'pandas.core.frame.DataFrame'>\n",
      "RangeIndex: 83411 entries, 0 to 83410\n",
      "Data columns (total 16 columns):\n",
      " #   Column           Non-Null Count  Dtype  \n",
      "---  ------           --------------  -----  \n",
      " 0   date             83411 non-null  object \n",
      " 1   reel_name        83408 non-null  object \n",
      " 2   yt_reel_id       83411 non-null  object \n",
      " 3   cartoon          83411 non-null  object \n",
      " 4   url              83411 non-null  object \n",
      " 5   text             83411 non-null  object \n",
      " 6   seconds          74653 non-null  float64\n",
      " 7   is_shorts        74653 non-null  float64\n",
      " 8   broadcast        74653 non-null  object \n",
      " 9   yt_channel_id    83366 non-null  object \n",
      " 10  yt_channel_name  83363 non-null  object \n",
      " 11  yt_ch_url        83363 non-null  object \n",
      " 12  yt_channel_type  83363 non-null  object \n",
      " 13  flag_closed      83363 non-null  float64\n",
      " 14  international    83363 non-null  float64\n",
      " 15  language         497 non-null    object \n",
      "dtypes: float64(4), object(12)\n",
      "memory usage: 10.2+ MB\n"
     ]
    }
   ],
   "source": [
    "dtr.info()"
   ]
  },
  {
   "cell_type": "markdown",
   "id": "07f4aa67-1554-447e-a4b8-609dec084f36",
   "metadata": {},
   "source": [
    "Заменю пропуски значением \"-1\" для проверки значимости пропусков в категориальных полях на расщепление данных."
   ]
  },
  {
   "cell_type": "code",
   "execution_count": 32,
   "id": "7c388022-2cdd-4477-93b1-0ac645be6589",
   "metadata": {},
   "outputs": [],
   "source": [
    "dtr = dtr.fillna(-1)"
   ]
  },
  {
   "cell_type": "markdown",
   "id": "97688e2e-8937-4df6-9261-dd568b628560",
   "metadata": {},
   "source": [
    "Создам ф-ю для формирования тестовых (маленькие) дф с условием вхождения строк для всех уникальных значений в категориальных полях"
   ]
  },
  {
   "cell_type": "code",
   "execution_count": 34,
   "id": "2fcc6c6b-ee9b-476c-a28a-e1e624ef679c",
   "metadata": {},
   "outputs": [],
   "source": [
    "fields = ['is_shorts','broadcast','yt_channel_type','flag_closed','international']"
   ]
  },
  {
   "cell_type": "code",
   "execution_count": 35,
   "id": "1ba85233-e3e6-4cce-b17d-13cb7fb3ba20",
   "metadata": {},
   "outputs": [],
   "source": [
    "def df_sample(df,fields,n):\n",
    "    sample_df = pd.DataFrame()\n",
    "    for field in fields:\n",
    "        if 'cartoon' in df.columns:\n",
    "            sample_df = pd.concat([sample_df,df[df.cartoon=='none'].groupby(field).sample(n=n,random_state=42)])\n",
    "        else:\n",
    "            sample_df = pd.concat([sample_df,df.groupby(field).sample(n=n,random_state=42)])\n",
    "    sample_df = sample_df.drop_duplicates()\n",
    "    return sample_df"
   ]
  },
  {
   "cell_type": "code",
   "execution_count": 36,
   "id": "8694318d-b33a-4e44-88e7-078f61c6a9b8",
   "metadata": {},
   "outputs": [
    {
     "data": {
      "text/plain": [
       "(116, 16)"
      ]
     },
     "execution_count": 36,
     "metadata": {},
     "output_type": "execute_result"
    }
   ],
   "source": [
    "none_obj_count = 2\n",
    "rare_obj_count = 2\n",
    "sample_dtr_none = df_sample(dtr,fields,none_obj_count)\n",
    "sample_dtr_rare = dtr[dtr.cartoon !='none'].groupby('cartoon').sample(n=rare_obj_count,random_state=42)\n",
    "sample_dtr = pd.concat([sample_dtr_none,sample_dtr_rare])\n",
    "# sample_dtr.reset_index(inplace=True)\n",
    "sample_dtr.shape"
   ]
  },
  {
   "cell_type": "code",
   "execution_count": 37,
   "id": "2441ddfc-55c5-4803-921a-8542686f0899",
   "metadata": {},
   "outputs": [
    {
     "name": "stdout",
     "output_type": "stream",
     "text": [
      "broadcast:        [-1 'none' 'live' 'upcoming']\n",
      "yt_channel_type:  ['Блогеры' 'Мультфильмы' 'Детские' -1 'Shorts']\n",
      "flag_closed:      [ 0.  1. -1.]\n",
      "international:    [ 0. -1.  1.]\n",
      "is_shorts:        [-1.  0.  1.]\n"
     ]
    }
   ],
   "source": [
    "print('broadcast:       ',sample_dtr.broadcast.unique())\n",
    "print('yt_channel_type: ',sample_dtr.yt_channel_type.unique())\n",
    "print('flag_closed:     ',sample_dtr.flag_closed.unique())\n",
    "print('international:   ',sample_dtr.international.unique())\n",
    "print('is_shorts:       ',sample_dtr.is_shorts.unique())"
   ]
  },
  {
   "cell_type": "code",
   "execution_count": 38,
   "id": "50fabbf0-718e-458e-b087-6563384d5eed",
   "metadata": {},
   "outputs": [
    {
     "data": {
      "text/plain": [
       "(65, 15)"
      ]
     },
     "execution_count": 38,
     "metadata": {},
     "output_type": "execute_result"
    }
   ],
   "source": [
    "sample_dts = df_sample(dts,fields,5)\n",
    "# sample_dts.reset_index(inplace=True)\n",
    "sample_dts.shape"
   ]
  },
  {
   "cell_type": "code",
   "execution_count": 39,
   "id": "0300036e-c3d9-4402-9a0b-438a99ba3974",
   "metadata": {},
   "outputs": [
    {
     "name": "stdout",
     "output_type": "stream",
     "text": [
      "broadcast:        ['none' 'live' 'upcoming']\n",
      "yt_channel_type:  ['Блогеры' 'Мультфильмы' 'Детские' 'Shorts']\n",
      "flag_closed:      [0. 1.]\n",
      "international:    [0. 1.]\n",
      "is_shorts:        [0. 1.]\n"
     ]
    }
   ],
   "source": [
    "print('broadcast:       ',sample_dts.broadcast.unique())\n",
    "print('yt_channel_type: ',sample_dts.yt_channel_type.unique())\n",
    "print('flag_closed:     ',sample_dts.flag_closed.unique())\n",
    "print('international:   ',sample_dts.international.unique())\n",
    "print('is_shorts:       ',sample_dts.is_shorts.unique())"
   ]
  },
  {
   "cell_type": "code",
   "execution_count": 40,
   "id": "9f972636-93f2-4334-b2dc-5a73ec34ce5c",
   "metadata": {},
   "outputs": [
    {
     "name": "stdout",
     "output_type": "stream",
     "text": [
      "Index(['date', 'reel_name', 'yt_reel_id', 'cartoon', 'url', 'text', 'seconds',\n",
      "       'is_shorts', 'broadcast', 'yt_channel_id', 'yt_channel_name',\n",
      "       'yt_ch_url', 'yt_channel_type', 'flag_closed', 'international',\n",
      "       'language'],\n",
      "      dtype='object')\n"
     ]
    }
   ],
   "source": [
    "print(dtr.columns)"
   ]
  },
  {
   "cell_type": "code",
   "execution_count": 41,
   "id": "0c1a1e02-af8e-4c26-907f-d08b8da62a65",
   "metadata": {
    "scrolled": true
   },
   "outputs": [],
   "source": [
    "# # Преобразование столбца 'date' в тип datetime\n",
    "# dtr['d'] = pd.to_datetime(sample_dtr['date'])\n",
    "\n",
    "# # Извлечение дня недели\n",
    "# dtr['dow'] = sample_dtr['d'].dt.dayofweek"
   ]
  },
  {
   "cell_type": "markdown",
   "id": "501051f2-d4ae-4aa7-a24f-f1cf837f3074",
   "metadata": {},
   "source": [
    "# Поработаем деревом"
   ]
  },
  {
   "cell_type": "markdown",
   "id": "d953760e",
   "metadata": {},
   "source": [
    "Посмотрим как разные комбинации значений признаков расщепляют датасет на классы."
   ]
  },
  {
   "cell_type": "code",
   "execution_count": 44,
   "id": "0a5fec57-9153-4ca4-80ad-63b6501ebcbe",
   "metadata": {},
   "outputs": [
    {
     "data": {
      "text/html": [
       "<div>\n",
       "<style scoped>\n",
       "    .dataframe tbody tr th:only-of-type {\n",
       "        vertical-align: middle;\n",
       "    }\n",
       "\n",
       "    .dataframe tbody tr th {\n",
       "        vertical-align: top;\n",
       "    }\n",
       "\n",
       "    .dataframe thead th {\n",
       "        text-align: right;\n",
       "    }\n",
       "</style>\n",
       "<table border=\"1\" class=\"dataframe\">\n",
       "  <thead>\n",
       "    <tr style=\"text-align: right;\">\n",
       "      <th></th>\n",
       "      <th>flag_closed</th>\n",
       "      <th>broadcast</th>\n",
       "      <th>international</th>\n",
       "    </tr>\n",
       "  </thead>\n",
       "  <tbody>\n",
       "    <tr>\n",
       "      <th>0</th>\n",
       "      <td>-1.0</td>\n",
       "      <td>-1</td>\n",
       "      <td>-1.0</td>\n",
       "    </tr>\n",
       "    <tr>\n",
       "      <th>1</th>\n",
       "      <td>0.0</td>\n",
       "      <td>-1</td>\n",
       "      <td>0.0</td>\n",
       "    </tr>\n",
       "    <tr>\n",
       "      <th>2</th>\n",
       "      <td>0.0</td>\n",
       "      <td>live</td>\n",
       "      <td>0.0</td>\n",
       "    </tr>\n",
       "    <tr>\n",
       "      <th>3</th>\n",
       "      <td>0.0</td>\n",
       "      <td>none</td>\n",
       "      <td>0.0</td>\n",
       "    </tr>\n",
       "    <tr>\n",
       "      <th>4</th>\n",
       "      <td>0.0</td>\n",
       "      <td>none</td>\n",
       "      <td>1.0</td>\n",
       "    </tr>\n",
       "    <tr>\n",
       "      <th>5</th>\n",
       "      <td>0.0</td>\n",
       "      <td>upcoming</td>\n",
       "      <td>0.0</td>\n",
       "    </tr>\n",
       "    <tr>\n",
       "      <th>6</th>\n",
       "      <td>1.0</td>\n",
       "      <td>-1</td>\n",
       "      <td>0.0</td>\n",
       "    </tr>\n",
       "    <tr>\n",
       "      <th>7</th>\n",
       "      <td>1.0</td>\n",
       "      <td>none</td>\n",
       "      <td>0.0</td>\n",
       "    </tr>\n",
       "  </tbody>\n",
       "</table>\n",
       "</div>"
      ],
      "text/plain": [
       "   flag_closed broadcast  international\n",
       "0         -1.0        -1           -1.0\n",
       "1          0.0        -1            0.0\n",
       "2          0.0      live            0.0\n",
       "3          0.0      none            0.0\n",
       "4          0.0      none            1.0\n",
       "5          0.0  upcoming            0.0\n",
       "6          1.0        -1            0.0\n",
       "7          1.0      none            0.0"
      ]
     },
     "execution_count": 44,
     "metadata": {},
     "output_type": "execute_result"
    }
   ],
   "source": [
    "dtr[dtr.cartoon!='none'].groupby(['flag_closed', 'broadcast', 'international']).size().reset_index().drop(columns=0)"
   ]
  },
  {
   "cell_type": "code",
   "execution_count": 45,
   "id": "dd305601-a1a3-412a-bcbc-c3e050c8d7e0",
   "metadata": {},
   "outputs": [
    {
     "data": {
      "text/html": [
       "<div>\n",
       "<style scoped>\n",
       "    .dataframe tbody tr th:only-of-type {\n",
       "        vertical-align: middle;\n",
       "    }\n",
       "\n",
       "    .dataframe tbody tr th {\n",
       "        vertical-align: top;\n",
       "    }\n",
       "\n",
       "    .dataframe thead th {\n",
       "        text-align: right;\n",
       "    }\n",
       "</style>\n",
       "<table border=\"1\" class=\"dataframe\">\n",
       "  <thead>\n",
       "    <tr style=\"text-align: right;\">\n",
       "      <th></th>\n",
       "      <th>flag_closed</th>\n",
       "      <th>broadcast</th>\n",
       "      <th>international</th>\n",
       "    </tr>\n",
       "  </thead>\n",
       "  <tbody>\n",
       "    <tr>\n",
       "      <th>0</th>\n",
       "      <td>-1.0</td>\n",
       "      <td>-1</td>\n",
       "      <td>-1.0</td>\n",
       "    </tr>\n",
       "    <tr>\n",
       "      <th>1</th>\n",
       "      <td>-1.0</td>\n",
       "      <td>none</td>\n",
       "      <td>-1.0</td>\n",
       "    </tr>\n",
       "    <tr>\n",
       "      <th>2</th>\n",
       "      <td>0.0</td>\n",
       "      <td>-1</td>\n",
       "      <td>0.0</td>\n",
       "    </tr>\n",
       "    <tr>\n",
       "      <th>3</th>\n",
       "      <td>0.0</td>\n",
       "      <td>live</td>\n",
       "      <td>0.0</td>\n",
       "    </tr>\n",
       "    <tr>\n",
       "      <th>4</th>\n",
       "      <td>0.0</td>\n",
       "      <td>none</td>\n",
       "      <td>0.0</td>\n",
       "    </tr>\n",
       "    <tr>\n",
       "      <th>5</th>\n",
       "      <td>0.0</td>\n",
       "      <td>upcoming</td>\n",
       "      <td>0.0</td>\n",
       "    </tr>\n",
       "    <tr>\n",
       "      <th>6</th>\n",
       "      <td>1.0</td>\n",
       "      <td>-1</td>\n",
       "      <td>0.0</td>\n",
       "    </tr>\n",
       "    <tr>\n",
       "      <th>7</th>\n",
       "      <td>1.0</td>\n",
       "      <td>none</td>\n",
       "      <td>0.0</td>\n",
       "    </tr>\n",
       "    <tr>\n",
       "      <th>8</th>\n",
       "      <td>1.0</td>\n",
       "      <td>upcoming</td>\n",
       "      <td>0.0</td>\n",
       "    </tr>\n",
       "  </tbody>\n",
       "</table>\n",
       "</div>"
      ],
      "text/plain": [
       "   flag_closed broadcast  international\n",
       "0         -1.0        -1           -1.0\n",
       "1         -1.0      none           -1.0\n",
       "2          0.0        -1            0.0\n",
       "3          0.0      live            0.0\n",
       "4          0.0      none            0.0\n",
       "5          0.0  upcoming            0.0\n",
       "6          1.0        -1            0.0\n",
       "7          1.0      none            0.0\n",
       "8          1.0  upcoming            0.0"
      ]
     },
     "execution_count": 45,
     "metadata": {},
     "output_type": "execute_result"
    }
   ],
   "source": [
    "dtr[dtr.cartoon=='none'].groupby(['flag_closed', 'broadcast', 'international']).size().reset_index().drop(columns=0)"
   ]
  },
  {
   "cell_type": "code",
   "execution_count": 46,
   "id": "34d7192c-20a1-49e4-908d-a9c5c4a7f633",
   "metadata": {},
   "outputs": [
    {
     "data": {
      "text/html": [
       "<div>\n",
       "<style scoped>\n",
       "    .dataframe tbody tr th:only-of-type {\n",
       "        vertical-align: middle;\n",
       "    }\n",
       "\n",
       "    .dataframe tbody tr th {\n",
       "        vertical-align: top;\n",
       "    }\n",
       "\n",
       "    .dataframe thead th {\n",
       "        text-align: right;\n",
       "    }\n",
       "</style>\n",
       "<table border=\"1\" class=\"dataframe\">\n",
       "  <thead>\n",
       "    <tr style=\"text-align: right;\">\n",
       "      <th></th>\n",
       "      <th>flag_closed</th>\n",
       "      <th>broadcast</th>\n",
       "      <th>international</th>\n",
       "      <th>count_x</th>\n",
       "      <th>set_x</th>\n",
       "      <th>fraction_x</th>\n",
       "    </tr>\n",
       "  </thead>\n",
       "  <tbody>\n",
       "    <tr>\n",
       "      <th>0</th>\n",
       "      <td>0.0</td>\n",
       "      <td>none</td>\n",
       "      <td>1.0</td>\n",
       "      <td>497</td>\n",
       "      <td>cartoon_not_none</td>\n",
       "      <td>0.095946</td>\n",
       "    </tr>\n",
       "    <tr>\n",
       "      <th>1</th>\n",
       "      <td>-1.0</td>\n",
       "      <td>none</td>\n",
       "      <td>-1.0</td>\n",
       "      <td>3</td>\n",
       "      <td>cartoon_none</td>\n",
       "      <td>0.000038</td>\n",
       "    </tr>\n",
       "    <tr>\n",
       "      <th>2</th>\n",
       "      <td>1.0</td>\n",
       "      <td>upcoming</td>\n",
       "      <td>0.0</td>\n",
       "      <td>1</td>\n",
       "      <td>cartoon_none</td>\n",
       "      <td>0.000013</td>\n",
       "    </tr>\n",
       "  </tbody>\n",
       "</table>\n",
       "</div>"
      ],
      "text/plain": [
       "   flag_closed broadcast  international  count_x             set_x  fraction_x\n",
       "0          0.0      none            1.0      497  cartoon_not_none    0.095946\n",
       "1         -1.0      none           -1.0        3      cartoon_none    0.000038\n",
       "2          1.0  upcoming            0.0        1      cartoon_none    0.000013"
      ]
     },
     "execution_count": 46,
     "metadata": {},
     "output_type": "execute_result"
    }
   ],
   "source": [
    "# Общее количество образцов в каждом классе\n",
    "total_not_none = len(dtr[dtr.cartoon != 'none'])\n",
    "total_none = len(dtr[dtr.cartoon == 'none'])\n",
    "\n",
    "# Уникальные тройки для случаев, когда cartoon != 'none', с подсчетом\n",
    "set1 = dtr[dtr.cartoon != 'none'].groupby(['flag_closed', 'broadcast', 'international']).size().reset_index(name='count')\n",
    "set1['set'] = 'cartoon_not_none'\n",
    "set1['fraction'] = set1['count'] / total_not_none\n",
    "\n",
    "# Уникальные тройки для случаев, когда cartoon == 'none', с подсчетом\n",
    "set2 = dtr[dtr.cartoon == 'none'].groupby(['flag_closed', 'broadcast', 'international']).size().reset_index(name='count')\n",
    "set2['set'] = 'cartoon_none'\n",
    "set2['fraction'] = set2['count'] / total_none\n",
    "\n",
    "# Найти тройки, которые есть в set1, но отсутствуют в set2\n",
    "diff1 = set1.merge(set2, on=['flag_closed', 'broadcast', 'international'], how='left', indicator=True).query('_merge == \"left_only\"').drop(columns='_merge')\n",
    "\n",
    "# Найти тройки, которые есть в set2, но отсутствуют в set1\n",
    "diff2 = set2.merge(set1, on=['flag_closed', 'broadcast', 'international'], how='left', indicator=True).query('_merge == \"left_only\"').drop(columns='_merge')\n",
    "\n",
    "# Объединить оба результата, чтобы получить все несовпадающие тройки\n",
    "non_matching_triples = pd.concat([diff1, diff2], ignore_index=True)\n",
    "\n",
    "non_matching_triples.drop(['count_y','set_y','fraction_y'],axis=1)"
   ]
  },
  {
   "cell_type": "markdown",
   "id": "e9a59ab8-63f8-4582-a38d-73db16831621",
   "metadata": {},
   "source": [
    "Видим, что для некоторых значений троек (flag_closed, broadcast, international) есть разделение для классов none/not_none. Тотального расщепления нет"
   ]
  },
  {
   "cell_type": "markdown",
   "id": "a6c9799d",
   "metadata": {},
   "source": [
    "Функция для отображения того как комбинации уникальных значений выбранных комбинаций полей расщепляют датасет."
   ]
  },
  {
   "cell_type": "code",
   "execution_count": 49,
   "id": "73cd2ffc-d56d-4ae3-a3ac-597647aec518",
   "metadata": {},
   "outputs": [],
   "source": [
    "def field_frac_intersect(fields):\n",
    "    # fields - список полей по комбинациям которых смотрим вхождение в классы\n",
    "\n",
    "    # Выбрать комбинации полей, где dtr.cartoon != 'none'\n",
    "    fields_values_with_cartoon = dtr[dtr.cartoon != 'none'].groupby(fields).size().reset_index()[fields].astype(str).agg('_'.join, axis=1).unique()\n",
    "\n",
    "    # Выбрать комбинации полей, где dtr.cartoon == 'none'\n",
    "    fields_values_without_cartoon = dtr[dtr.cartoon == 'none'].groupby(fields).size().reset_index()[fields].astype(str).agg('_'.join, axis=1).unique()\n",
    "\n",
    "    # Найти пересечение комбинаций, где есть и записи с cartoon != 'none', и cartoon == 'none'\n",
    "    common_fields_values = np.intersect1d(fields_values_with_cartoon, fields_values_without_cartoon)\n",
    "\n",
    "    # Общее количество уникальных комбинаций полей с dtr.cartoon != 'none'\n",
    "    total_fields_values_with_cartoon = len(fields_values_with_cartoon)\n",
    "\n",
    "    # Доля комбинаций, которые попали в обе категории (cartoon != 'none' и cartoon == 'none')\n",
    "    fraction_common_fields_values = len(common_fields_values) / total_fields_values_with_cartoon if total_fields_values_with_cartoon > 0 else 0\n",
    "\n",
    "    # Количество записей с dtr.cartoon != 'none' для общих комбинаций полей\n",
    "    total_cartoon_objects = len(dtr[dtr.cartoon != 'none'])\n",
    "    total_objects_with_common_fields_values = len(dtr[(dtr.cartoon != 'none') & (dtr[fields].astype(str).agg('_'.join, axis=1).isin(common_fields_values))])\n",
    "\n",
    "    # Доля объектов с общими комбинациями полей в общем количестве объектов с dtr.cartoon != 'none'\n",
    "    fraction_of_objects_with_common_fields_values_in_total_cartoon_objects = total_objects_with_common_fields_values / total_cartoon_objects if total_cartoon_objects > 0 else 0\n",
    "\n",
    "    # Результаты\n",
    "    print(f'Исходный размер множества уникальных значений комбинаций на размеченных данных: {len(fields_values_with_cartoon)}')\n",
    "    if len(fields_values_with_cartoon) < 10:\n",
    "        print(f'Множество уникальных значений комбинаций на размеченных данных {fields_values_with_cartoon}')\n",
    "    print(f'Размер уникальных комбинаций общих на размеченных и не размеченных данных: {len(common_fields_values)}')\n",
    "    if len(fields_values_with_cartoon) < 10:\n",
    "        print(f'Множество уникальных значений комбинаций на размеченных данных {common_fields_values}')\n",
    "    print(f\"Доля объектов с общими комбинациями полей в размеченных данных для комбинации полей {fields} составляет: {fraction_of_objects_with_common_fields_values_in_total_cartoon_objects:.4f}\")\n",
    "    print(f\"Доля в комбинациях на размеченных данных для комбинации полей {fields} составляет: {fraction_common_fields_values:.4f}\")\n"
   ]
  },
  {
   "cell_type": "code",
   "execution_count": 50,
   "id": "cac16125-7f8b-488e-9d64-72a5d0dd2db4",
   "metadata": {},
   "outputs": [
    {
     "name": "stdout",
     "output_type": "stream",
     "text": [
      "Исходный размер множества уникальных значений комбинаций на размеченных данных: 105\n",
      "Размер уникальных комбинаций общих на размеченных и не размеченных данных: 95\n",
      "Доля объектов с общими комбинациями полей в размеченных данных для комбинации полей ['yt_channel_id'] составляет: 0.8736\n",
      "Доля в комбинациях на размеченных данных для комбинации полей ['yt_channel_id'] составляет: 0.9048\n"
     ]
    }
   ],
   "source": [
    "fields = ['yt_channel_id']\n",
    "field_frac_intersect(fields)"
   ]
  },
  {
   "cell_type": "markdown",
   "id": "7736df89-6937-45b7-9f5a-ab086d3a31bc",
   "metadata": {},
   "source": [
    "Видим, что есть 10 каналов, корторые попадают только в размеченные классы"
   ]
  },
  {
   "cell_type": "code",
   "execution_count": 52,
   "id": "54ed7059-ff08-49fc-9d7b-6259abc65e48",
   "metadata": {},
   "outputs": [
    {
     "name": "stdout",
     "output_type": "stream",
     "text": [
      "Исходный размер множества уникальных значений комбинаций на размеченных данных: 4\n",
      "Множество уникальных значений комбинаций на размеченных данных ['-1' 'arabic' 'english' 'spanish']\n",
      "Размер уникальных комбинаций общих на размеченных и не размеченных данных: 1\n",
      "Множество уникальных значений комбинаций на размеченных данных ['-1']\n",
      "Доля объектов с общими комбинациями полей в размеченных данных для комбинации полей ['language'] составляет: 0.9041\n",
      "Доля в комбинациях на размеченных данных для комбинации полей ['language'] составляет: 0.2500\n"
     ]
    }
   ],
   "source": [
    "fields = ['language']\n",
    "field_frac_intersect(fields)"
   ]
  },
  {
   "cell_type": "markdown",
   "id": "5fc7a0f1-fb76-4fc0-adaa-a459d262e7a5",
   "metadata": {},
   "source": [
    "Опознанные языки относятся только к отмеченным классам."
   ]
  },
  {
   "cell_type": "code",
   "execution_count": 54,
   "id": "f6d6b67a-08cd-45ef-b9fe-4ce482910d45",
   "metadata": {},
   "outputs": [
    {
     "name": "stdout",
     "output_type": "stream",
     "text": [
      "Исходный размер множества уникальных значений комбинаций на размеченных данных: 5\n",
      "Множество уникальных значений комбинаций на размеченных данных ['-1' 'Shorts' 'Блогеры' 'Детские' 'Мультфильмы']\n",
      "Размер уникальных комбинаций общих на размеченных и не размеченных данных: 5\n",
      "Множество уникальных значений комбинаций на размеченных данных ['-1' 'Shorts' 'Блогеры' 'Детские' 'Мультфильмы']\n",
      "Доля объектов с общими комбинациями полей в размеченных данных для комбинации полей ['yt_channel_type'] составляет: 1.0000\n",
      "Доля в комбинациях на размеченных данных для комбинации полей ['yt_channel_type'] составляет: 1.0000\n"
     ]
    }
   ],
   "source": [
    "fields = ['yt_channel_type']\n",
    "field_frac_intersect(fields)"
   ]
  },
  {
   "cell_type": "code",
   "execution_count": 55,
   "id": "0f3484b0-aaf8-452c-8d96-b0ee07d0b7a4",
   "metadata": {},
   "outputs": [
    {
     "name": "stdout",
     "output_type": "stream",
     "text": [
      "Исходный размер множества уникальных значений комбинаций на размеченных данных: 8\n",
      "Множество уникальных значений комбинаций на размеченных данных ['-1_-1.0_-1.0' '-1_0.0_0.0' '-1_1.0_0.0' 'live_0.0_0.0' 'none_0.0_0.0'\n",
      " 'none_0.0_1.0' 'none_1.0_0.0' 'upcoming_0.0_0.0']\n",
      "Размер уникальных комбинаций общих на размеченных и не размеченных данных: 7\n",
      "Множество уникальных значений комбинаций на размеченных данных ['-1_-1.0_-1.0' '-1_0.0_0.0' '-1_1.0_0.0' 'live_0.0_0.0' 'none_0.0_0.0'\n",
      " 'none_1.0_0.0' 'upcoming_0.0_0.0']\n",
      "Доля объектов с общими комбинациями полей в размеченных данных для комбинации полей ['broadcast', 'flag_closed', 'international'] составляет: 0.9041\n",
      "Доля в комбинациях на размеченных данных для комбинации полей ['broadcast', 'flag_closed', 'international'] составляет: 0.8750\n"
     ]
    }
   ],
   "source": [
    "fields = ['broadcast','flag_closed','international']\n",
    "field_frac_intersect(fields)"
   ]
  },
  {
   "cell_type": "code",
   "execution_count": 56,
   "id": "fa88b968-7110-4b9d-89b7-46d73752452d",
   "metadata": {},
   "outputs": [
    {
     "name": "stdout",
     "output_type": "stream",
     "text": [
      "Исходный размер множества уникальных значений комбинаций на размеченных данных: 16\n",
      "Размер уникальных комбинаций общих на размеченных и не размеченных данных: 15\n",
      "Доля объектов с общими комбинациями полей в размеченных данных для комбинации полей ['is_shorts', 'broadcast', 'yt_channel_type', 'flag_closed', 'international'] составляет: 0.9041\n",
      "Доля в комбинациях на размеченных данных для комбинации полей ['is_shorts', 'broadcast', 'yt_channel_type', 'flag_closed', 'international'] составляет: 0.9375\n"
     ]
    }
   ],
   "source": [
    "fields =  ['is_shorts','broadcast','yt_channel_type','flag_closed','international']\n",
    "field_frac_intersect(fields)"
   ]
  },
  {
   "cell_type": "code",
   "execution_count": 57,
   "id": "b6d0e6ba-ae3b-41b8-ab08-756b351e15c0",
   "metadata": {
    "tags": []
   },
   "outputs": [
    {
     "data": {
      "text/html": [
       "<div>\n",
       "<style scoped>\n",
       "    .dataframe tbody tr th:only-of-type {\n",
       "        vertical-align: middle;\n",
       "    }\n",
       "\n",
       "    .dataframe tbody tr th {\n",
       "        vertical-align: top;\n",
       "    }\n",
       "\n",
       "    .dataframe thead th {\n",
       "        text-align: right;\n",
       "    }\n",
       "</style>\n",
       "<table border=\"1\" class=\"dataframe\">\n",
       "  <thead>\n",
       "    <tr style=\"text-align: right;\">\n",
       "      <th></th>\n",
       "      <th>cartoon</th>\n",
       "      <th>text</th>\n",
       "    </tr>\n",
       "  </thead>\n",
       "  <tbody>\n",
       "    <tr>\n",
       "      <th>37205</th>\n",
       "      <td>none</td>\n",
       "      <td>[Супер Сеня играет с Животными] Супер Сеня играет с ЖивотнымиSubscribe: https://bit.ly/2Q9Lgme</td>\n",
       "    </tr>\n",
       "    <tr>\n",
       "      <th>27924</th>\n",
       "      <td>none</td>\n",
       "      <td>[Капитан Пронин  внук майора Пронина. Рисованный мультик  Золотая коллекция] БЕСПЛАТНО СМОТРИМ ВСЁ ТУТ  https://smotrim.ru/brands/tag/231140/utmsourceyoutubeutmmediumallutmcampaignall0 Капитан Пронин  внук майора Пронина. Рисованный мультик на канале \"Золотая коллекция\".Подписаться на лучшие советские мультики https://www.youtube.com/channel/UCU06hfFzcBjQl9Ih2SvpoQsubconfirmation1Все мультфильмы подряд https://www.youtube.com/playlistlistPLYymTuJXocGKmjzy9GLsS4GIl89EXdkРисованный мультипликационный фильм.Пародия на современные западные и отечественные боевики.Смотрите популярные советские мультфильмы:Мама для мамонтёнка https://www.youtube.com/watchvsVYMsNay8G0По дороге с облаками https://www.youtube.com/watchv0DnjD7w2FIПодарок для слона https://www.youtube.com/watchv5FZ1yKwQCOYДом для Кузьки https://www.youtube.com/watchv8JFdlT5XGNcПадал прошлогодний снег https://www.youtube.com/watchvDwJznO6SqyMКлад. Тигрёнок и его друзья https://www.youtube.com/watchvIz1kKv34wYЛето кота Леопольда https://www.youtube.com/watchvXW8XHW3hs3oТрям Здравствуйте https://www.youtube.com/watchvV4pG9UISMu8Чертенок с пушистыми хвостом https://www.youtube.com/watchvcXSJHRmqV2IНу, погоди https://www.youtube.com/watchvzbDFapTqA</td>\n",
       "    </tr>\n",
       "    <tr>\n",
       "      <th>76846</th>\n",
       "      <td>none</td>\n",
       "      <td>[КТО ПОИМЕТ МЕНЯ ЧЕРЕЗ 10000 ЛЕТ  ТОПЛЕС] Смотрите новый сериал Пенниуорт на КиноПоиске: https://ya.cc/6NfybСериал доступен по подписке. Первые 30 дней подписки бесплатно.Ищите символы в выпуске, расшифровывайте их с помощью словаря https://bit.ly/2LUjoia и вводите слова без пробелов здесь: https://ya.cc/6NfzYПромокод на 2 месяца подписки для новых пользователей действует до 10 сентября. УдачиP.S. При расшифровке у вас получится фраза из набора слов. Вводить ее нужно целиком без пробелов.Что общего у иероглифов и эмоджи Можно ли сделать универсальный язык целиком из символов, без букв Как такой язык сможет изменить наше мышление Каким должно быть идеальное послание инопланетянамОТДЫХАЕМ ОТ НАУКИ ТУТ  https://goo.gl/LFf4DjЗДЕСЬ ИЩИ ДОПОЛНИТЕЛЬНУЮ ИНФОРМАЦИЮTELEGRAM  https://telega.at/toplesofficialВК  https://vk.com/toplesshowЯ В VK  https://vk.com/yanlapotkovTWITTER  https://twitter.com/drunishTELEGRAM  https://t.me/toplesofficialСмотрите больше видео:КОСМОС  https://goo.gl/uCkfD3ТЕХНОЛОГИИ  https://goo.gl/vLdH2HИГРЫ  https://goo.gl/17LhoNКИНО  https://goo.gl/ZUgWGDVLOG  https://goo.gl/z88cuSСТРАХ  https://goo.gl/b6fu5KЖИВОТНЫЕ  https://goo.gl/jn93tzОЧЕНЬ ИНТЕРЕСНЫЕ  https://goo.gl/PrcrtjРеклама, сотрудничество: toples.showgmail.comТОПЛЕС ЯНТОПЛЕС ЯНЛАПОТКОВ TOPLES ИСТОЧНИКИ: https://qps.ru/Zb1C5Над выпуском работали:Ян ЛапотковВадим КуликовМихаил МартыновАндрей СавельевКатя АдаричеваСекретный дизайнер уровень богАлексин Андрей</td>\n",
       "    </tr>\n",
       "    <tr>\n",
       "      <th>13127</th>\n",
       "      <td>none</td>\n",
       "      <td>[Лев и его активные истории с папой. Прикольная детская история в веселом сборнике.] Веселый активный сборник для детей от Левы и его семьи. Здесь вы увидите приколы и то как нужно заниматься спортом и правильно питаться. Чумовая история про супер героя и лаву, а так же как папа хотел покормить своего сына и ему постоянно что то прилипало к лицу.Друзья, приветствуем Вас на нашем канале Лев и Семья, известном как LEV Family SHOWМы любим радовать Вас веселыми и познавательными историями. Лёва и папа часто разыгрывают какиенибудь образовательные, весёлые истории для детей. Для Вас мы стараемся снимать все самое интересное и самое лучшееподписывайтесь на инстаграм Левыhttps://www.instagram.com/lev.family.show/hlruЛевиСемья LevFamilyShow ДетскиеИстории</td>\n",
       "    </tr>\n",
       "    <tr>\n",
       "      <th>76299</th>\n",
       "      <td>none</td>\n",
       "      <td>[Фермер в Делле shorts farmerinthedell kidstv nurseryrhymes kidssong] shorts Фермер в Делле  это традиционная детская стишка и песенная игра, которая нравится детям на протяжении многих поколений. Песня обычно имеет повторяющуюся и запоминающуюся мелодию, поэтому маленьким детям легко ее подпевать. Тексты песен вращаются вокруг темы фермера и его различных взаимодействий внутри сообщества. Структура часто включает в себя выбор разных персонажей, таких как супруг, ребенок, медсестра.\"Visit our website http://www.uspstudios.co/ for more  Childrens  Nursery Rhymes  Kids VideosMusic and Lyrics: Copyright USP StudiosVideo: Copyright USP Studios\\rMusic available on all major streaming platforms now : Loco Nuts  https://found.ee/LocoNutsGeneralФермервДелле,ytshorts,Колесанатакси,песни,детскиестишки,обучающиевидео,песнидлядетей,мультфильмы,анимация,мультфильм,музыка,детскиестишки,trending,песнидлядетей,потешки,обучающиевидео,образовательная,анимация,русскиепотешки,мультфильм,музыка,русскиепотешки,детскиестишки,песнидлядетей,образовательная,reels,анимация,обучающиевидео,потешки,мультфильм,музыка,kidstvrussia,</td>\n",
       "    </tr>\n",
       "  </tbody>\n",
       "</table>\n",
       "</div>"
      ],
      "text/plain": [
       "      cartoon  \\\n",
       "37205    none   \n",
       "27924    none   \n",
       "76846    none   \n",
       "13127    none   \n",
       "76299    none   \n",
       "\n",
       "                                                                                                                                                                                                                                                                                                                                                                                                                                                                                                                                                                                                                                                                                                                                                                                                                                                                                                                                                                                                                                                                                                                                                                                                                                                                                                                                                                                                                                                                                                              text  \n",
       "37205                                                                                                                                                                                                                                                                                                                                                                                                                                                                                                                                                                                                                                                                                                                                                                                                                                                                                                                                                                                                                                                                                                                                                                                                                                                                                                                                                                                                               [Супер Сеня играет с Животными] Супер Сеня играет с ЖивотнымиSubscribe: https://bit.ly/2Q9Lgme  \n",
       "27924                                                                                                                                                                                                                                           [Капитан Пронин  внук майора Пронина. Рисованный мультик  Золотая коллекция] БЕСПЛАТНО СМОТРИМ ВСЁ ТУТ  https://smotrim.ru/brands/tag/231140/utmsourceyoutubeutmmediumallutmcampaignall0 Капитан Пронин  внук майора Пронина. Рисованный мультик на канале \"Золотая коллекция\".Подписаться на лучшие советские мультики https://www.youtube.com/channel/UCU06hfFzcBjQl9Ih2SvpoQsubconfirmation1Все мультфильмы подряд https://www.youtube.com/playlistlistPLYymTuJXocGKmjzy9GLsS4GIl89EXdkРисованный мультипликационный фильм.Пародия на современные западные и отечественные боевики.Смотрите популярные советские мультфильмы:Мама для мамонтёнка https://www.youtube.com/watchvsVYMsNay8G0По дороге с облаками https://www.youtube.com/watchv0DnjD7w2FIПодарок для слона https://www.youtube.com/watchv5FZ1yKwQCOYДом для Кузьки https://www.youtube.com/watchv8JFdlT5XGNcПадал прошлогодний снег https://www.youtube.com/watchvDwJznO6SqyMКлад. Тигрёнок и его друзья https://www.youtube.com/watchvIz1kKv34wYЛето кота Леопольда https://www.youtube.com/watchvXW8XHW3hs3oТрям Здравствуйте https://www.youtube.com/watchvV4pG9UISMu8Чертенок с пушистыми хвостом https://www.youtube.com/watchvcXSJHRmqV2IНу, погоди https://www.youtube.com/watchvzbDFapTqA  \n",
       "76846  [КТО ПОИМЕТ МЕНЯ ЧЕРЕЗ 10000 ЛЕТ  ТОПЛЕС] Смотрите новый сериал Пенниуорт на КиноПоиске: https://ya.cc/6NfybСериал доступен по подписке. Первые 30 дней подписки бесплатно.Ищите символы в выпуске, расшифровывайте их с помощью словаря https://bit.ly/2LUjoia и вводите слова без пробелов здесь: https://ya.cc/6NfzYПромокод на 2 месяца подписки для новых пользователей действует до 10 сентября. УдачиP.S. При расшифровке у вас получится фраза из набора слов. Вводить ее нужно целиком без пробелов.Что общего у иероглифов и эмоджи Можно ли сделать универсальный язык целиком из символов, без букв Как такой язык сможет изменить наше мышление Каким должно быть идеальное послание инопланетянамОТДЫХАЕМ ОТ НАУКИ ТУТ  https://goo.gl/LFf4DjЗДЕСЬ ИЩИ ДОПОЛНИТЕЛЬНУЮ ИНФОРМАЦИЮTELEGRAM  https://telega.at/toplesofficialВК  https://vk.com/toplesshowЯ В VK  https://vk.com/yanlapotkovTWITTER  https://twitter.com/drunishTELEGRAM  https://t.me/toplesofficialСмотрите больше видео:КОСМОС  https://goo.gl/uCkfD3ТЕХНОЛОГИИ  https://goo.gl/vLdH2HИГРЫ  https://goo.gl/17LhoNКИНО  https://goo.gl/ZUgWGDVLOG  https://goo.gl/z88cuSСТРАХ  https://goo.gl/b6fu5KЖИВОТНЫЕ  https://goo.gl/jn93tzОЧЕНЬ ИНТЕРЕСНЫЕ  https://goo.gl/PrcrtjРеклама, сотрудничество: toples.showgmail.comТОПЛЕС ЯНТОПЛЕС ЯНЛАПОТКОВ TOPLES ИСТОЧНИКИ: https://qps.ru/Zb1C5Над выпуском работали:Ян ЛапотковВадим КуликовМихаил МартыновАндрей СавельевКатя АдаричеваСекретный дизайнер уровень богАлексин Андрей  \n",
       "13127                                                                                                                                                                                                                                                                                                                                                                                                                                                                                                                                                                                                                                                                                                                        [Лев и его активные истории с папой. Прикольная детская история в веселом сборнике.] Веселый активный сборник для детей от Левы и его семьи. Здесь вы увидите приколы и то как нужно заниматься спортом и правильно питаться. Чумовая история про супер героя и лаву, а так же как папа хотел покормить своего сына и ему постоянно что то прилипало к лицу.Друзья, приветствуем Вас на нашем канале Лев и Семья, известном как LEV Family SHOWМы любим радовать Вас веселыми и познавательными историями. Лёва и папа часто разыгрывают какиенибудь образовательные, весёлые истории для детей. Для Вас мы стараемся снимать все самое интересное и самое лучшееподписывайтесь на инстаграм Левыhttps://www.instagram.com/lev.family.show/hlruЛевиСемья LevFamilyShow ДетскиеИстории  \n",
       "76299                                                                                                                                                                                                                                                                                                                                                [Фермер в Делле shorts farmerinthedell kidstv nurseryrhymes kidssong] shorts Фермер в Делле  это традиционная детская стишка и песенная игра, которая нравится детям на протяжении многих поколений. Песня обычно имеет повторяющуюся и запоминающуюся мелодию, поэтому маленьким детям легко ее подпевать. Тексты песен вращаются вокруг темы фермера и его различных взаимодействий внутри сообщества. Структура часто включает в себя выбор разных персонажей, таких как супруг, ребенок, медсестра.\"Visit our website http://www.uspstudios.co/ for more  Childrens  Nursery Rhymes  Kids VideosMusic and Lyrics: Copyright USP StudiosVideo: Copyright USP Studios\\rMusic available on all major streaming platforms now : Loco Nuts  https://found.ee/LocoNutsGeneralФермервДелле,ytshorts,Колесанатакси,песни,детскиестишки,обучающиевидео,песнидлядетей,мультфильмы,анимация,мультфильм,музыка,детскиестишки,trending,песнидлядетей,потешки,обучающиевидео,образовательная,анимация,русскиепотешки,мультфильм,музыка,русскиепотешки,детскиестишки,песнидлядетей,образовательная,reels,анимация,обучающиевидео,потешки,мультфильм,музыка,kidstvrussia,  "
      ]
     },
     "metadata": {},
     "output_type": "display_data"
    }
   ],
   "source": [
    "pd.set_option('display.max_colwidth', None)\n",
    "pd.set_option('display.max_rows', None)\n",
    "display(sample_dtr\n",
    "        [['cartoon','text']][:5]\n",
    "       )\n",
    "pd.reset_option('display.max_rows')"
   ]
  },
  {
   "cell_type": "code",
   "execution_count": 58,
   "id": "f5f37762-e858-4d31-a871-499edd1b4aad",
   "metadata": {},
   "outputs": [
    {
     "data": {
      "text/html": [
       "<div>\n",
       "<style scoped>\n",
       "    .dataframe tbody tr th:only-of-type {\n",
       "        vertical-align: middle;\n",
       "    }\n",
       "\n",
       "    .dataframe tbody tr th {\n",
       "        vertical-align: top;\n",
       "    }\n",
       "\n",
       "    .dataframe thead th {\n",
       "        text-align: right;\n",
       "    }\n",
       "</style>\n",
       "<table border=\"1\" class=\"dataframe\">\n",
       "  <thead>\n",
       "    <tr style=\"text-align: right;\">\n",
       "      <th></th>\n",
       "      <th>date</th>\n",
       "      <th>reel_name</th>\n",
       "      <th>yt_channel_type</th>\n",
       "      <th>seconds</th>\n",
       "    </tr>\n",
       "  </thead>\n",
       "  <tbody>\n",
       "    <tr>\n",
       "      <th>27891</th>\n",
       "      <td>2017-09-25</td>\n",
       "      <td>ЗЛЫЕ ЗМЕИ как Слизерио и WORMAXIO мультик игра про выращивание змеи Angry Snakes для детей от FFGTV</td>\n",
       "      <td>Блогеры</td>\n",
       "      <td>511.0</td>\n",
       "    </tr>\n",
       "    <tr>\n",
       "      <th>35173</th>\n",
       "      <td>2020-12-29</td>\n",
       "      <td>Челлендж по цветам Собери блок эмоций своего ЦВЕТА My little Nastya</td>\n",
       "      <td>Блогеры</td>\n",
       "      <td>657.0</td>\n",
       "    </tr>\n",
       "    <tr>\n",
       "      <th>45351</th>\n",
       "      <td>2023-06-17</td>\n",
       "      <td>Репетиция оркестра  Короткометражный мультфильм  0</td>\n",
       "      <td>Мультфильмы</td>\n",
       "      <td>391.0</td>\n",
       "    </tr>\n",
       "    <tr>\n",
       "      <th>12551</th>\n",
       "      <td>2024-07-24</td>\n",
       "      <td>Wyścigi z Batwheels   Batwheels po Polsku   DCKidsInternational</td>\n",
       "      <td>Мультфильмы</td>\n",
       "      <td>1809.0</td>\n",
       "    </tr>\n",
       "    <tr>\n",
       "      <th>3022</th>\n",
       "      <td>2016-10-05</td>\n",
       "      <td>Мультики для самых маленьких Считаем с Полой: Сладкая Форма</td>\n",
       "      <td>Детские</td>\n",
       "      <td>329.0</td>\n",
       "    </tr>\n",
       "  </tbody>\n",
       "</table>\n",
       "</div>"
      ],
      "text/plain": [
       "             date  \\\n",
       "27891  2017-09-25   \n",
       "35173  2020-12-29   \n",
       "45351  2023-06-17   \n",
       "12551  2024-07-24   \n",
       "3022   2016-10-05   \n",
       "\n",
       "                                                                                                 reel_name  \\\n",
       "27891  ЗЛЫЕ ЗМЕИ как Слизерио и WORMAXIO мультик игра про выращивание змеи Angry Snakes для детей от FFGTV   \n",
       "35173                                  Челлендж по цветам Собери блок эмоций своего ЦВЕТА My little Nastya   \n",
       "45351                                                   Репетиция оркестра  Короткометражный мультфильм  0   \n",
       "12551                                      Wyścigi z Batwheels   Batwheels po Polsku   DCKidsInternational   \n",
       "3022                                           Мультики для самых маленьких Считаем с Полой: Сладкая Форма   \n",
       "\n",
       "      yt_channel_type  seconds  \n",
       "27891         Блогеры    511.0  \n",
       "35173         Блогеры    657.0  \n",
       "45351     Мультфильмы    391.0  \n",
       "12551     Мультфильмы   1809.0  \n",
       "3022          Детские    329.0  "
      ]
     },
     "metadata": {},
     "output_type": "display_data"
    }
   ],
   "source": [
    "pd.set_option('display.max_colwidth', None)\n",
    "# pd.reset_option('display.max_colwidth')\n",
    "pd.set_option('display.max_rows', None)\n",
    "display(sample_dts[['date','reel_name','yt_channel_type','seconds']][:5])\n",
    "pd.reset_option('display.max_rows')"
   ]
  },
  {
   "cell_type": "markdown",
   "id": "869c0132-017d-4879-b4bf-21eca3c6b0a7",
   "metadata": {},
   "source": [
    "Однозначных расщеплений на классы для разных комбинаций значений полей не найдено."
   ]
  },
  {
   "cell_type": "markdown",
   "id": "e08ce0bd-8f1a-4488-9b58-7f80d7f277cf",
   "metadata": {},
   "source": [
    "# Словарь классификации"
   ]
  },
  {
   "cell_type": "markdown",
   "id": "56629bdf",
   "metadata": {},
   "source": [
    "Создам словарь для простой классификации. Идея понять и повтороить ход ручной классификации заказчика. Предполагаем, что используются простые правила фильтрации датасета."
   ]
  },
  {
   "cell_type": "code",
   "execution_count": 62,
   "id": "a95191c0-af90-4ae9-818b-2d673fe33cfb",
   "metadata": {},
   "outputs": [],
   "source": [
    "d = {}"
   ]
  },
  {
   "cell_type": "code",
   "execution_count": 63,
   "id": "4a3a0900-4bac-4556-99cb-9a5973899147",
   "metadata": {},
   "outputs": [],
   "source": [
    "ds = \"\"\"\n",
    "{ tardet_i: {\n",
    "         'order' : 0 (define target only) / 1 (first in similar) / 2 (next in similar or misdefine none),\n",
    "         'mth' : 'type_method',\n",
    "         'pattern' : 'search_pattern_type',\n",
    "         'stop_pattern': 'stop_pattern_type'\n",
    "         'methods': {\n",
    "                    'reel_name': {'any_word_list':[], 'all_word_list':[], 'stop_any' : []}\n",
    "                    'text'     : {'any_word_list':[], 'all_word_list':[], 'stop_any' : []}\n",
    "                    'yt_channel_name' : {'any_word_list':[]}\n",
    "                    'is_shorts' : None # value_for_filter (0/1, default=None)\n",
    "                },\n",
    "         'comment':'some_text'\n",
    "        }\n",
    "    }\n",
    "\"\"\""
   ]
  },
  {
   "cell_type": "markdown",
   "id": "3faaaec9-2f4c-4a84-be8d-f026f97f1518",
   "metadata": {},
   "source": [
    "tardet_i : ключ класса,  \n",
    "'order' : порядок классификации, 0 - однозначное определение таргета, 1 - определение такргета и \"нахлест\" на другой класс, 2 - второй элемент в паре \"нахлеста\"  \n",
    "'mth' : ключ метода отбора,  \n",
    "'pattern' : ключ паттерна поиска (способ формирования строки для поиска),  \n",
    "'stop_pattern': ключ паттерна стоп слов,  \n",
    "'methods' : словарь с данными по каждому рассмтриваемому полю"
   ]
  },
  {
   "cell_type": "code",
   "execution_count": 65,
   "id": "06c9243f-15a0-4450-8c92-9d92748c79c3",
   "metadata": {},
   "outputs": [
    {
     "name": "stdout",
     "output_type": "stream",
     "text": [
      "\n",
      "{ tardet_i: {\n",
      "         'order' : 0 (define target only) / 1 (first in similar) / 2 (next in similar or misdefine none),\n",
      "         'mth' : 'type_method',\n",
      "         'pattern' : 'search_pattern_type',\n",
      "         'stop_pattern': 'stop_pattern_type'\n",
      "         'methods': {\n",
      "                    'reel_name': {'any_word_list':[], 'all_word_list':[], 'stop_any' : []}\n",
      "                    'text'     : {'any_word_list':[], 'all_word_list':[], 'stop_any' : []}\n",
      "                    'yt_channel_name' : {'any_word_list':[]}\n",
      "                    'is_shorts' : None # value_for_filter (0/1, default=None)\n",
      "                },\n",
      "         'comment':'some_text'\n",
      "        }\n",
      "    }\n",
      "\n"
     ]
    }
   ],
   "source": [
    "print(ds)"
   ]
  },
  {
   "cell_type": "markdown",
   "id": "1640dffa-59d0-4ff6-8bb9-6861c1bc1dd5",
   "metadata": {},
   "source": [
    "Создам словарь в который помещу ключи методов отбора со значением инструкции отбора, ключи паттернов поиска и стоп-слов"
   ]
  },
  {
   "cell_type": "code",
   "execution_count": 67,
   "id": "4e0ea13e-f815-41d2-a32d-59ccfbc2f37f",
   "metadata": {},
   "outputs": [],
   "source": [
    "meth = {}"
   ]
  },
  {
   "cell_type": "code",
   "execution_count": 68,
   "id": "37e5b50b-2805-4036-a225-08aa94ea9ad4",
   "metadata": {},
   "outputs": [
    {
     "data": {
      "text/plain": [
       "cartoon\n",
       "none               0.937898\n",
       "Маша и медведь     0.010226\n",
       "Говорящий Том      0.007061\n",
       "Буба               0.006342\n",
       "Кошечки собачки    0.005239\n",
       "Name: proportion, dtype: float64"
      ]
     },
     "execution_count": 68,
     "metadata": {},
     "output_type": "execute_result"
    }
   ],
   "source": [
    "dtr.cartoon.value_counts(normalize=True)[:5]"
   ]
  },
  {
   "cell_type": "code",
   "execution_count": 69,
   "id": "2bde938e-c1d1-4806-a5be-2b788c97e8a1",
   "metadata": {},
   "outputs": [],
   "source": [
    "pd.set_option('max_colwidth',None)"
   ]
  },
  {
   "cell_type": "markdown",
   "id": "f0b9c15e-39d9-4768-b7f6-7a374adfcc14",
   "metadata": {},
   "source": [
    "# По-полям, по-полям. Пройдем класси-фи-ка-то-ром"
   ]
  },
  {
   "cell_type": "markdown",
   "id": "cd833dd0-4a71-42db-9ced-d6bb2416aa45",
   "metadata": {},
   "source": [
    "## Маша и медведь"
   ]
  },
  {
   "cell_type": "code",
   "execution_count": 72,
   "id": "6fbc405f-b41c-4f2f-9a95-36f11caa250d",
   "metadata": {},
   "outputs": [],
   "source": [
    "target = 'Маша и медведь'"
   ]
  },
  {
   "cell_type": "code",
   "execution_count": 73,
   "id": "e258241b-aa4e-4a76-9318-2770ab39e68f",
   "metadata": {},
   "outputs": [],
   "source": [
    "# dtr[dtr.cartoon == target][['text']][:1]"
   ]
  },
  {
   "cell_type": "code",
   "execution_count": 74,
   "id": "96fa5b11-7cd2-433d-910c-58182e4b6e63",
   "metadata": {},
   "outputs": [
    {
     "data": {
      "text/html": [
       "<div>\n",
       "<style scoped>\n",
       "    .dataframe tbody tr th:only-of-type {\n",
       "        vertical-align: middle;\n",
       "    }\n",
       "\n",
       "    .dataframe tbody tr th {\n",
       "        vertical-align: top;\n",
       "    }\n",
       "\n",
       "    .dataframe thead th {\n",
       "        text-align: right;\n",
       "    }\n",
       "</style>\n",
       "<table border=\"1\" class=\"dataframe\">\n",
       "  <thead>\n",
       "    <tr style=\"text-align: right;\">\n",
       "      <th></th>\n",
       "      <th>text</th>\n",
       "      <th>url</th>\n",
       "    </tr>\n",
       "  </thead>\n",
       "  <tbody>\n",
       "  </tbody>\n",
       "</table>\n",
       "</div>"
      ],
      "text/plain": [
       "Empty DataFrame\n",
       "Columns: [text, url]\n",
       "Index: []"
      ]
     },
     "execution_count": 74,
     "metadata": {},
     "output_type": "execute_result"
    }
   ],
   "source": [
    "word_list = ['masha and the bear', 'mashaandthebear', 'маша и медведь',\n",
    "             'машкины страшилки', 'машины сказки', 'masha and friends']\n",
    "\n",
    "# Преобразуем слова в нижний регистр и экранируем\n",
    "pattern = '|'.join(map(lambda word: re.escape(word.lower()), word_list))\n",
    "\n",
    "dtr[(dtr.cartoon == target) \n",
    "  & ~(dtr.reel_name.fillna('').astype(str).str.lower().str.contains(pattern, na=False)) \n",
    "][['text','url']].head(10)"
   ]
  },
  {
   "cell_type": "code",
   "execution_count": 75,
   "id": "9fc694a9-becf-406b-9bd7-0a21ba8665ca",
   "metadata": {},
   "outputs": [
    {
     "data": {
      "text/plain": [
       "array([1.])"
      ]
     },
     "execution_count": 75,
     "metadata": {},
     "output_type": "execute_result"
    }
   ],
   "source": [
    "dtr[(dtr.cartoon == 'none') \n",
    "  & (dtr.reel_name.fillna('').astype(str).str.lower().str.contains(pattern, na=False)) \n",
    "][['text','url','is_shorts']]['is_shorts'].unique()"
   ]
  },
  {
   "cell_type": "markdown",
   "id": "9648e167-a85a-40c1-a81f-283e6887918b",
   "metadata": {},
   "source": [
    "видим, что при наличии нужных слов в разметку не попадают шортсы"
   ]
  },
  {
   "cell_type": "code",
   "execution_count": 77,
   "id": "a797d0b0-cefe-47fd-9ad7-9cec4ad86d98",
   "metadata": {},
   "outputs": [
    {
     "data": {
      "text/plain": [
       "cartoon\n",
       "Маша и медведь    846\n",
       "Name: count, dtype: int64"
      ]
     },
     "metadata": {},
     "output_type": "display_data"
    },
    {
     "data": {
      "text/plain": [
       "(846,)"
      ]
     },
     "metadata": {},
     "output_type": "display_data"
    },
    {
     "name": "stdout",
     "output_type": "stream",
     "text": [
      "\n"
     ]
    },
    {
     "data": {
      "text/plain": [
       "(853, 16)"
      ]
     },
     "execution_count": 77,
     "metadata": {},
     "output_type": "execute_result"
    }
   ],
   "source": [
    "ddd = \\\n",
    "dtr[\n",
    "        (dtr.reel_name.fillna('').astype(str).str.lower().str.contains(pattern, na=False))\n",
    "     &  (dtr.is_shorts.fillna('').astype(int) == 0)\n",
    "   ][['cartoon','text']]\n",
    "display(ddd['cartoon'].value_counts())\n",
    "display(ddd['cartoon'].shape)\n",
    "print()\n",
    "dtr[dtr.cartoon == target].shape"
   ]
  },
  {
   "cell_type": "code",
   "execution_count": 78,
   "id": "872df149-b6b3-4a9c-8220-dc729c7a7969",
   "metadata": {},
   "outputs": [],
   "source": [
    "meth['Маша и медведь']=\\\n",
    " \"\"\"\n",
    " (dtr.reel_name.fillna('').astype(str).str.lower().str.contains(pattern, na=False))\n",
    " &  (dtr.is_shorts.fillna('').astype(int) == 0)\n",
    " \"\"\"\n",
    "    "
   ]
  },
  {
   "cell_type": "code",
   "execution_count": 79,
   "id": "e5d9dc57-0cdf-4db5-8210-f679896742c9",
   "metadata": {},
   "outputs": [],
   "source": [
    "meth['pattern']=\\\n",
    "\"\"\"\n",
    "pattern = '|'.join(map(lambda word: re.escape(word.lower()), word_list))\n",
    "\"\"\""
   ]
  },
  {
   "cell_type": "code",
   "execution_count": 80,
   "id": "1c3254a1",
   "metadata": {},
   "outputs": [
    {
     "name": "stdout",
     "output_type": "stream",
     "text": [
      "\n",
      "{ tardet_i: {\n",
      "         'order' : 0 (define target only) / 1 (first in similar) / 2 (next in similar or misdefine none),\n",
      "         'mth' : 'type_method',\n",
      "         'pattern' : 'search_pattern_type',\n",
      "         'stop_pattern': 'stop_pattern_type'\n",
      "         'methods': {\n",
      "                    'reel_name': {'any_word_list':[], 'all_word_list':[], 'stop_any' : []}\n",
      "                    'text'     : {'any_word_list':[], 'all_word_list':[], 'stop_any' : []}\n",
      "                    'yt_channel_name' : {'any_word_list':[]}\n",
      "                    'is_shorts' : None # value_for_filter (0/1, default=None)\n",
      "                },\n",
      "         'comment':'some_text'\n",
      "        }\n",
      "    }\n",
      "\n"
     ]
    }
   ],
   "source": [
    "print(ds)"
   ]
  },
  {
   "cell_type": "code",
   "execution_count": 81,
   "id": "f633900b",
   "metadata": {},
   "outputs": [],
   "source": [
    "d['Маша и медведь'] = {\n",
    "\n",
    "'order':0,\n",
    "'meth' : 'Маша и медведь',\n",
    "'pattern': 'pattern',\n",
    "'stop_pattern': None,\n",
    "'method':\n",
    "  {\n",
    "    'reel_name': {'any_word_list' : ['masha and the bear', 'mashaandthebear',\n",
    "                                     'маша и медведь','машкины страшилки',\n",
    "                                     'машины сказки', 'masha and friends'],\n",
    "                  'all_word_list':None,\n",
    "                  'stop_any' : None\n",
    "                 },\n",
    "    'text'     : None,\n",
    "    'yt_channel_name' : None,\n",
    "    'is_shorts' : 0 # value_for_filter (0/1, default=None)\n",
    "  },\n",
    "'comment': 'простая обработка по имени. плюс не шортсы'\n",
    "}"
   ]
  },
  {
   "cell_type": "markdown",
   "id": "1525c6a5-0910-42b8-9b7f-9674e14d06aa",
   "metadata": {},
   "source": [
    "## Говорящий Том"
   ]
  },
  {
   "cell_type": "code",
   "execution_count": 83,
   "id": "d00632a6-d1fd-45f0-9e1b-04e282b3838e",
   "metadata": {},
   "outputs": [],
   "source": [
    "target = 'Говорящий Том'"
   ]
  },
  {
   "cell_type": "code",
   "execution_count": 84,
   "id": "943a7528-91ee-4634-8cfa-0060a9454be1",
   "metadata": {},
   "outputs": [],
   "source": [
    "# dtr[dtr.cartoon == target][['text']][:1]"
   ]
  },
  {
   "cell_type": "code",
   "execution_count": 85,
   "id": "3aa4879b-3418-48db-a30b-951e775c5ff6",
   "metadata": {},
   "outputs": [
    {
     "data": {
      "text/html": [
       "<div>\n",
       "<style scoped>\n",
       "    .dataframe tbody tr th:only-of-type {\n",
       "        vertical-align: middle;\n",
       "    }\n",
       "\n",
       "    .dataframe tbody tr th {\n",
       "        vertical-align: top;\n",
       "    }\n",
       "\n",
       "    .dataframe thead th {\n",
       "        text-align: right;\n",
       "    }\n",
       "</style>\n",
       "<table border=\"1\" class=\"dataframe\">\n",
       "  <thead>\n",
       "    <tr style=\"text-align: right;\">\n",
       "      <th></th>\n",
       "      <th>text</th>\n",
       "      <th>url</th>\n",
       "    </tr>\n",
       "  </thead>\n",
       "  <tbody>\n",
       "  </tbody>\n",
       "</table>\n",
       "</div>"
      ],
      "text/plain": [
       "Empty DataFrame\n",
       "Columns: [text, url]\n",
       "Index: []"
      ]
     },
     "execution_count": 85,
     "metadata": {},
     "output_type": "execute_result"
    }
   ],
   "source": [
    "word_list = ['Talking Tom']\n",
    "\n",
    "# Преобразуем слова в нижний регистр и экранируем\n",
    "pattern = '|'.join(map(lambda word: re.escape(word.lower()), word_list))\n",
    "\n",
    "dtr[(dtr.cartoon == target) \n",
    "  & ~(dtr.reel_name.fillna('').astype(str).str.lower().str.contains(pattern, na=False)) \n",
    "][['text','url']].head(10)"
   ]
  },
  {
   "cell_type": "code",
   "execution_count": 86,
   "id": "5b769ac0-c7d1-4d4f-907a-4072d4b4a79b",
   "metadata": {},
   "outputs": [
    {
     "data": {
      "text/html": [
       "<div>\n",
       "<style scoped>\n",
       "    .dataframe tbody tr th:only-of-type {\n",
       "        vertical-align: middle;\n",
       "    }\n",
       "\n",
       "    .dataframe tbody tr th {\n",
       "        vertical-align: top;\n",
       "    }\n",
       "\n",
       "    .dataframe thead th {\n",
       "        text-align: right;\n",
       "    }\n",
       "</style>\n",
       "<table border=\"1\" class=\"dataframe\">\n",
       "  <thead>\n",
       "    <tr style=\"text-align: right;\">\n",
       "      <th></th>\n",
       "      <th>text</th>\n",
       "      <th>url</th>\n",
       "      <th>is_shorts</th>\n",
       "    </tr>\n",
       "  </thead>\n",
       "  <tbody>\n",
       "  </tbody>\n",
       "</table>\n",
       "</div>"
      ],
      "text/plain": [
       "Empty DataFrame\n",
       "Columns: [text, url, is_shorts]\n",
       "Index: []"
      ]
     },
     "execution_count": 86,
     "metadata": {},
     "output_type": "execute_result"
    }
   ],
   "source": [
    "dtr[(dtr.cartoon == 'none') \n",
    "  & (dtr.reel_name.fillna('').astype(str).str.lower().str.contains(pattern, na=False)) \n",
    "][['text','url','is_shorts']]"
   ]
  },
  {
   "cell_type": "markdown",
   "id": "552ed30f-a746-45ab-8860-ae843155e26b",
   "metadata": {},
   "source": [
    "Говорящий Том имеет только одно слово для поиска"
   ]
  },
  {
   "cell_type": "code",
   "execution_count": 88,
   "id": "023ca988-c333-4488-b7a0-7b2ad9dd9081",
   "metadata": {
    "scrolled": true
   },
   "outputs": [
    {
     "data": {
      "text/plain": [
       "cartoon\n",
       "Говорящий Том    589\n",
       "Name: count, dtype: int64"
      ]
     },
     "metadata": {},
     "output_type": "display_data"
    },
    {
     "data": {
      "text/plain": [
       "(589,)"
      ]
     },
     "metadata": {},
     "output_type": "display_data"
    },
    {
     "name": "stdout",
     "output_type": "stream",
     "text": [
      "\n"
     ]
    },
    {
     "data": {
      "text/plain": [
       "(589, 16)"
      ]
     },
     "execution_count": 88,
     "metadata": {},
     "output_type": "execute_result"
    }
   ],
   "source": [
    "ddd = \\\n",
    "dtr[\n",
    "    (dtr.reel_name.fillna('').astype(str).str.lower().str.contains(pattern, na=False))\n",
    "][['cartoon','text']]\n",
    "\n",
    "display(ddd['cartoon'].value_counts())\n",
    "display(ddd['cartoon'].shape)\n",
    "print()\n",
    "dtr[dtr.cartoon == target].shape"
   ]
  },
  {
   "cell_type": "code",
   "execution_count": 89,
   "id": "014900aa-8581-470f-b562-0fb62e544fbe",
   "metadata": {},
   "outputs": [],
   "source": [
    "meth['reel_name_only']=\\\n",
    "\"\"\"\n",
    "(dtr.reel_name.fillna('').astype(str).str.lower().str.contains(pattern, na=False))\n",
    "\"\"\""
   ]
  },
  {
   "cell_type": "code",
   "execution_count": 90,
   "id": "0486c248",
   "metadata": {},
   "outputs": [],
   "source": [
    "d['Говорящий Том'] = {\n",
    "\n",
    "'order':0,\n",
    "'meth': 'reel_name_only',\n",
    "'pattern': 'pattern',\n",
    "'stop_pattern': None,\n",
    "'method':\n",
    "  {\n",
    "    'reel_name': {'any_word_list' : ['Talking Tom'],\n",
    "                  'all_word_list':None,\n",
    "                  'stop_any' : None\n",
    "                 },\n",
    "    'text'     : None,\n",
    "    'yt_channel_name' : None,\n",
    "    'is_shorts' : None # value_for_filter (0/1, default=None)\n",
    "  },\n",
    "'comment': 'простая обработка по имени. плюс не шортсы'\n",
    "}"
   ]
  },
  {
   "cell_type": "markdown",
   "id": "c22c8858-15e0-47f9-bc6a-2457d083538f",
   "metadata": {},
   "source": [
    "## Буба"
   ]
  },
  {
   "cell_type": "code",
   "execution_count": 92,
   "id": "b1d33fa1-9d65-4110-ab4f-966707fd321f",
   "metadata": {},
   "outputs": [
    {
     "data": {
      "text/plain": [
       "cartoon\n",
       "Говорящий Том      0.007061\n",
       "Буба               0.006342\n",
       "Кошечки собачки    0.005239\n",
       "Name: proportion, dtype: float64"
      ]
     },
     "metadata": {},
     "output_type": "display_data"
    }
   ],
   "source": [
    "display(dtr.cartoon.value_counts(normalize=True)[2:5])\n",
    "target = 'Буба'\n",
    "# dtr[dtr.cartoon == target][['text']][:1]"
   ]
  },
  {
   "cell_type": "code",
   "execution_count": 93,
   "id": "42e0d20c-507b-4d99-9aef-9f8f9593f1ff",
   "metadata": {},
   "outputs": [
    {
     "data": {
      "text/html": [
       "<div>\n",
       "<style scoped>\n",
       "    .dataframe tbody tr th:only-of-type {\n",
       "        vertical-align: middle;\n",
       "    }\n",
       "\n",
       "    .dataframe tbody tr th {\n",
       "        vertical-align: top;\n",
       "    }\n",
       "\n",
       "    .dataframe thead th {\n",
       "        text-align: right;\n",
       "    }\n",
       "</style>\n",
       "<table border=\"1\" class=\"dataframe\">\n",
       "  <thead>\n",
       "    <tr style=\"text-align: right;\">\n",
       "      <th></th>\n",
       "      <th>text</th>\n",
       "      <th>url</th>\n",
       "    </tr>\n",
       "  </thead>\n",
       "  <tbody>\n",
       "  </tbody>\n",
       "</table>\n",
       "</div>"
      ],
      "text/plain": [
       "Empty DataFrame\n",
       "Columns: [text, url]\n",
       "Index: []"
      ]
     },
     "execution_count": 93,
     "metadata": {},
     "output_type": "execute_result"
    }
   ],
   "source": [
    "word_list = ['Booba']\n",
    "\n",
    "# Преобразуем слова в нижний регистр и экранируем\n",
    "pattern = '|'.join(map(lambda word: re.escape(word.lower()), word_list))\n",
    "\n",
    "dtr[(dtr.cartoon == target) \n",
    "  & ~(dtr.reel_name.fillna('').astype(str).str.lower().str.contains(pattern, na=False)) \n",
    "][['text','url']].head(10)"
   ]
  },
  {
   "cell_type": "code",
   "execution_count": 94,
   "id": "8055a0db-51b1-40b0-b629-6724e8aa8843",
   "metadata": {},
   "outputs": [
    {
     "data": {
      "text/html": [
       "<div>\n",
       "<style scoped>\n",
       "    .dataframe tbody tr th:only-of-type {\n",
       "        vertical-align: middle;\n",
       "    }\n",
       "\n",
       "    .dataframe tbody tr th {\n",
       "        vertical-align: top;\n",
       "    }\n",
       "\n",
       "    .dataframe thead th {\n",
       "        text-align: right;\n",
       "    }\n",
       "</style>\n",
       "<table border=\"1\" class=\"dataframe\">\n",
       "  <thead>\n",
       "    <tr style=\"text-align: right;\">\n",
       "      <th></th>\n",
       "      <th>text</th>\n",
       "      <th>url</th>\n",
       "      <th>is_shorts</th>\n",
       "    </tr>\n",
       "  </thead>\n",
       "  <tbody>\n",
       "  </tbody>\n",
       "</table>\n",
       "</div>"
      ],
      "text/plain": [
       "Empty DataFrame\n",
       "Columns: [text, url, is_shorts]\n",
       "Index: []"
      ]
     },
     "execution_count": 94,
     "metadata": {},
     "output_type": "execute_result"
    }
   ],
   "source": [
    "dtr[(dtr.cartoon == 'none') \n",
    "  & (dtr.reel_name.fillna('').astype(str).str.lower().str.contains(pattern, na=False)) \n",
    "][['text','url','is_shorts']]"
   ]
  },
  {
   "cell_type": "code",
   "execution_count": 95,
   "id": "9407bc7b-1a3a-4b41-b7dc-2b0a549b76b0",
   "metadata": {},
   "outputs": [
    {
     "data": {
      "text/plain": [
       "cartoon\n",
       "Буба    529\n",
       "Name: count, dtype: int64"
      ]
     },
     "metadata": {},
     "output_type": "display_data"
    },
    {
     "data": {
      "text/plain": [
       "(529,)"
      ]
     },
     "metadata": {},
     "output_type": "display_data"
    },
    {
     "name": "stdout",
     "output_type": "stream",
     "text": [
      "\n"
     ]
    },
    {
     "data": {
      "text/plain": [
       "(529, 16)"
      ]
     },
     "execution_count": 95,
     "metadata": {},
     "output_type": "execute_result"
    }
   ],
   "source": [
    "ddd = \\\n",
    "dtr[\n",
    "    (dtr.reel_name.fillna('').astype(str).str.lower().str.contains(pattern, na=False))\n",
    "][['cartoon','text']]\n",
    "\n",
    "display(ddd['cartoon'].value_counts())\n",
    "display(ddd['cartoon'].shape)\n",
    "print()\n",
    "dtr[dtr.cartoon == target].shape"
   ]
  },
  {
   "cell_type": "code",
   "execution_count": 96,
   "id": "769df4db",
   "metadata": {},
   "outputs": [],
   "source": [
    "d['Буба'] = {\n",
    "\n",
    "'order':0,\n",
    "'meth': 'reel_name_only',\n",
    "'pattern': 'pattern',\n",
    "'stop_pattern': None,\n",
    "'method':\n",
    "  {\n",
    "    'reel_name': {'any_word_list' : ['Booba'],\n",
    "                  'all_word_list':None,\n",
    "                  'stop_any' : None\n",
    "                 },\n",
    "    'text'     : None,\n",
    "    'yt_channel_name' : None,\n",
    "    'is_shorts' : None # value_for_filter (0/1, default=None)\n",
    "  },\n",
    "'comment': 'простая обработка по имени'\n",
    "}"
   ]
  },
  {
   "cell_type": "markdown",
   "id": "445d9f08-d333-40bb-959d-d1a9252b8162",
   "metadata": {},
   "source": [
    "## Кошечки собачки"
   ]
  },
  {
   "cell_type": "code",
   "execution_count": 98,
   "id": "f7567354-8c07-460c-9734-d5ad88609388",
   "metadata": {},
   "outputs": [
    {
     "data": {
      "text/plain": [
       "cartoon\n",
       "Буба               0.006342\n",
       "Кошечки собачки    0.005239\n",
       "Енотки             0.004544\n",
       "Name: proportion, dtype: float64"
      ]
     },
     "metadata": {},
     "output_type": "display_data"
    }
   ],
   "source": [
    "display(dtr.cartoon.value_counts(normalize=True)[3:6])\n",
    "target = 'Кошечки собачки'\n",
    "# dtr[dtr.cartoon == target][['text']][:1]"
   ]
  },
  {
   "cell_type": "code",
   "execution_count": 99,
   "id": "ed4bde59-2e64-419b-b502-2a66744bd103",
   "metadata": {},
   "outputs": [
    {
     "data": {
      "text/html": [
       "<div>\n",
       "<style scoped>\n",
       "    .dataframe tbody tr th:only-of-type {\n",
       "        vertical-align: middle;\n",
       "    }\n",
       "\n",
       "    .dataframe tbody tr th {\n",
       "        vertical-align: top;\n",
       "    }\n",
       "\n",
       "    .dataframe thead th {\n",
       "        text-align: right;\n",
       "    }\n",
       "</style>\n",
       "<table border=\"1\" class=\"dataframe\">\n",
       "  <thead>\n",
       "    <tr style=\"text-align: right;\">\n",
       "      <th></th>\n",
       "      <th>text</th>\n",
       "      <th>url</th>\n",
       "    </tr>\n",
       "  </thead>\n",
       "  <tbody>\n",
       "  </tbody>\n",
       "</table>\n",
       "</div>"
      ],
      "text/plain": [
       "Empty DataFrame\n",
       "Columns: [text, url]\n",
       "Index: []"
      ]
     },
     "execution_count": 99,
     "metadata": {},
     "output_type": "execute_result"
    }
   ],
   "source": [
    "word_list = ['КОШЕЧКИСОБАЧКИ']\n",
    "\n",
    "# Преобразуем слова в нижний регистр и экранируем\n",
    "pattern = '|'.join(map(lambda word: re.escape(word.lower()), word_list))\n",
    "\n",
    "dtr[(dtr.cartoon == target) \n",
    "  & ~(dtr.reel_name.fillna('').astype(str).str.lower().str.contains(pattern, na=False)) \n",
    "][['text','url']].head(10)"
   ]
  },
  {
   "cell_type": "code",
   "execution_count": 100,
   "id": "a6abbd06-247e-431d-a3f0-785c2d18daa4",
   "metadata": {},
   "outputs": [
    {
     "data": {
      "text/html": [
       "<div>\n",
       "<style scoped>\n",
       "    .dataframe tbody tr th:only-of-type {\n",
       "        vertical-align: middle;\n",
       "    }\n",
       "\n",
       "    .dataframe tbody tr th {\n",
       "        vertical-align: top;\n",
       "    }\n",
       "\n",
       "    .dataframe thead th {\n",
       "        text-align: right;\n",
       "    }\n",
       "</style>\n",
       "<table border=\"1\" class=\"dataframe\">\n",
       "  <thead>\n",
       "    <tr style=\"text-align: right;\">\n",
       "      <th></th>\n",
       "      <th>text</th>\n",
       "      <th>url</th>\n",
       "      <th>is_shorts</th>\n",
       "    </tr>\n",
       "  </thead>\n",
       "  <tbody>\n",
       "  </tbody>\n",
       "</table>\n",
       "</div>"
      ],
      "text/plain": [
       "Empty DataFrame\n",
       "Columns: [text, url, is_shorts]\n",
       "Index: []"
      ]
     },
     "execution_count": 100,
     "metadata": {},
     "output_type": "execute_result"
    }
   ],
   "source": [
    "dtr[(dtr.cartoon == 'none') \n",
    "  & (dtr.reel_name.fillna('').astype(str).str.lower().str.contains(pattern, na=False)) \n",
    "][['text','url','is_shorts']]"
   ]
  },
  {
   "cell_type": "code",
   "execution_count": 101,
   "id": "90c6f81f",
   "metadata": {},
   "outputs": [
    {
     "data": {
      "text/plain": [
       "array(['Кошечки собачки'], dtype=object)"
      ]
     },
     "execution_count": 101,
     "metadata": {},
     "output_type": "execute_result"
    }
   ],
   "source": [
    "dtr[\n",
    "    (dtr.reel_name.fillna('').astype(str).str.lower().str.contains(pattern, na=False)) \n",
    "][['cartoon','text','url','is_shorts']]['cartoon'].unique()"
   ]
  },
  {
   "cell_type": "code",
   "execution_count": 102,
   "id": "85274b57-8a3e-4dc3-bc55-8b2c41ce6d30",
   "metadata": {},
   "outputs": [
    {
     "data": {
      "text/plain": [
       "cartoon\n",
       "Кошечки собачки    437\n",
       "Name: count, dtype: int64"
      ]
     },
     "metadata": {},
     "output_type": "display_data"
    },
    {
     "data": {
      "text/plain": [
       "(437,)"
      ]
     },
     "metadata": {},
     "output_type": "display_data"
    },
    {
     "name": "stdout",
     "output_type": "stream",
     "text": [
      "\n"
     ]
    },
    {
     "data": {
      "text/plain": [
       "(437, 16)"
      ]
     },
     "execution_count": 102,
     "metadata": {},
     "output_type": "execute_result"
    }
   ],
   "source": [
    "ddd = \\\n",
    "dtr[\n",
    "    (dtr.reel_name.fillna('').astype(str).str.lower().str.contains(pattern, na=False))\n",
    "][['cartoon','text']]\n",
    "\n",
    "display(ddd['cartoon'].value_counts())\n",
    "display(ddd['cartoon'].shape)\n",
    "print()\n",
    "dtr[dtr.cartoon == target].shape"
   ]
  },
  {
   "cell_type": "code",
   "execution_count": 103,
   "id": "ef1949a1",
   "metadata": {},
   "outputs": [],
   "source": [
    "d['Кошечки собачки'] = {\n",
    "\n",
    "'order':0,\n",
    "'meth': 'reel_name_only',\n",
    "'pattern': 'pattern',\n",
    "'stop_pattern': None,\n",
    "'method':\n",
    "  {\n",
    "    'reel_name': {'any_word_list' : ['КОШЕЧКИСОБАЧКИ'],\n",
    "                  'all_word_list':None,\n",
    "                  'stop_any' : None\n",
    "                 },\n",
    "    'text'     : None,\n",
    "    'yt_channel_name' : None,\n",
    "    'is_shorts' : None # value_for_filter (0/1, default=None)\n",
    "  },\n",
    "'comment': 'простая обработка по имени'\n",
    "}"
   ]
  },
  {
   "cell_type": "markdown",
   "id": "df671529-7898-4f32-9838-92172994b25b",
   "metadata": {},
   "source": [
    "## Енотки"
   ]
  },
  {
   "cell_type": "code",
   "execution_count": 105,
   "id": "6c4d8e42",
   "metadata": {},
   "outputs": [
    {
     "data": {
      "text/plain": [
       "cartoon\n",
       "Кошечки собачки    0.005239\n",
       "Енотки             0.004544\n",
       "Бэтмен             0.004232\n",
       "Name: proportion, dtype: float64"
      ]
     },
     "execution_count": 105,
     "metadata": {},
     "output_type": "execute_result"
    }
   ],
   "source": [
    "dtr.cartoon.value_counts(normalize=True)[4:7]"
   ]
  },
  {
   "cell_type": "code",
   "execution_count": 106,
   "id": "985f3fd9-ea4f-45ed-96a3-2b080ed0bec3",
   "metadata": {},
   "outputs": [
    {
     "data": {
      "text/html": [
       "<div>\n",
       "<style scoped>\n",
       "    .dataframe tbody tr th:only-of-type {\n",
       "        vertical-align: middle;\n",
       "    }\n",
       "\n",
       "    .dataframe tbody tr th {\n",
       "        vertical-align: top;\n",
       "    }\n",
       "\n",
       "    .dataframe thead th {\n",
       "        text-align: right;\n",
       "    }\n",
       "</style>\n",
       "<table border=\"1\" class=\"dataframe\">\n",
       "  <thead>\n",
       "    <tr style=\"text-align: right;\">\n",
       "      <th></th>\n",
       "      <th>text</th>\n",
       "    </tr>\n",
       "  </thead>\n",
       "  <tbody>\n",
       "    <tr>\n",
       "      <th>154</th>\n",
       "      <td>[ألحان الراكون    رسوم متحركة جديدة للأطفال] ااشتركوا بقناتنا وشاهدوا حلقات جديدةhttps://www.youtube.com/RockoonsArab/videos\"ألحان الراكون\" هو مسلسل كرتوني تعليمي موسيقي موجه للأطفال بين سن الثانية والرابعة يساعد الأطفال على تطوير مهارات إبداعية واجتماعية وإظهار التعاطف وتقدير الصداقة وتوسيع آفاقهم منذ سن صغيرة. تجذب حلقاته القصيرة انتباه الأطفال في حين يساعدهم طابعه الموسيقي على استيعاب المعلومات المطروحة بشكل أفضل.</td>\n",
       "    </tr>\n",
       "  </tbody>\n",
       "</table>\n",
       "</div>"
      ],
      "text/plain": [
       "                                                                                                                                                                                                                                                                                                                                                                                                                                     text\n",
       "154  [ألحان الراكون    رسوم متحركة جديدة للأطفال] ااشتركوا بقناتنا وشاهدوا حلقات جديدةhttps://www.youtube.com/RockoonsArab/videos\"ألحان الراكون\" هو مسلسل كرتوني تعليمي موسيقي موجه للأطفال بين سن الثانية والرابعة يساعد الأطفال على تطوير مهارات إبداعية واجتماعية وإظهار التعاطف وتقدير الصداقة وتوسيع آفاقهم منذ سن صغيرة. تجذب حلقاته القصيرة انتباه الأطفال في حين يساعدهم طابعه الموسيقي على استيعاب المعلومات المطروحة بشكل أفضل."
      ]
     },
     "execution_count": 106,
     "metadata": {},
     "output_type": "execute_result"
    }
   ],
   "source": [
    "target = 'Енотки'\n",
    "dtr[dtr.cartoon == target][['text']][:1]"
   ]
  },
  {
   "cell_type": "code",
   "execution_count": 107,
   "id": "02d02aa2-e2a6-4bbc-9e42-d123581f84fd",
   "metadata": {},
   "outputs": [
    {
     "data": {
      "text/html": [
       "<div>\n",
       "<style scoped>\n",
       "    .dataframe tbody tr th:only-of-type {\n",
       "        vertical-align: middle;\n",
       "    }\n",
       "\n",
       "    .dataframe tbody tr th {\n",
       "        vertical-align: top;\n",
       "    }\n",
       "\n",
       "    .dataframe thead th {\n",
       "        text-align: right;\n",
       "    }\n",
       "</style>\n",
       "<table border=\"1\" class=\"dataframe\">\n",
       "  <thead>\n",
       "    <tr style=\"text-align: right;\">\n",
       "      <th></th>\n",
       "      <th>yt_channel_name</th>\n",
       "      <th>text</th>\n",
       "      <th>url</th>\n",
       "      <th>language</th>\n",
       "    </tr>\n",
       "  </thead>\n",
       "  <tbody>\n",
       "  </tbody>\n",
       "</table>\n",
       "</div>"
      ],
      "text/plain": [
       "Empty DataFrame\n",
       "Columns: [yt_channel_name, text, url, language]\n",
       "Index: []"
      ]
     },
     "execution_count": 107,
     "metadata": {},
     "output_type": "execute_result"
    }
   ],
   "source": [
    "word_list = ['الراكون','Rockoons','MUSIPACHES','Енотки']\n",
    "\n",
    "# Преобразуем слова в нижний регистр и экранируем\n",
    "pattern = '|'.join(map(lambda word: re.escape(word.lower()), word_list))\n",
    "\n",
    "dtr[(dtr.cartoon == target) \n",
    "  & ~(dtr.reel_name.fillna('').astype(str).str.lower().str.contains(pattern, na=False)) \n",
    "  & ~(dtr.yt_channel_name.fillna('').astype(str).str.lower().str.contains(pattern, na=False)) \n",
    "][['yt_channel_name','text','url','language']].head(10)"
   ]
  },
  {
   "cell_type": "code",
   "execution_count": 108,
   "id": "3e538dd8-205a-4ce0-863e-a63d2a1b6e88",
   "metadata": {},
   "outputs": [
    {
     "data": {
      "text/html": [
       "<div>\n",
       "<style scoped>\n",
       "    .dataframe tbody tr th:only-of-type {\n",
       "        vertical-align: middle;\n",
       "    }\n",
       "\n",
       "    .dataframe tbody tr th {\n",
       "        vertical-align: top;\n",
       "    }\n",
       "\n",
       "    .dataframe thead th {\n",
       "        text-align: right;\n",
       "    }\n",
       "</style>\n",
       "<table border=\"1\" class=\"dataframe\">\n",
       "  <thead>\n",
       "    <tr style=\"text-align: right;\">\n",
       "      <th></th>\n",
       "      <th>text</th>\n",
       "      <th>url</th>\n",
       "      <th>is_shorts</th>\n",
       "    </tr>\n",
       "  </thead>\n",
       "  <tbody>\n",
       "  </tbody>\n",
       "</table>\n",
       "</div>"
      ],
      "text/plain": [
       "Empty DataFrame\n",
       "Columns: [text, url, is_shorts]\n",
       "Index: []"
      ]
     },
     "execution_count": 108,
     "metadata": {},
     "output_type": "execute_result"
    }
   ],
   "source": [
    "dtr[(dtr.cartoon == 'none') \n",
    "  & ((dtr.reel_name.fillna('').astype(str).str.lower().str.contains(pattern, na=False)) \n",
    "  | (dtr.yt_channel_name.fillna('').astype(str).str.lower().str.contains(pattern, na=False))) \n",
    "][['text','url','is_shorts']]"
   ]
  },
  {
   "cell_type": "code",
   "execution_count": 109,
   "id": "34aebb5f",
   "metadata": {},
   "outputs": [
    {
     "data": {
      "text/plain": [
       "array(['Енотки'], dtype=object)"
      ]
     },
     "execution_count": 109,
     "metadata": {},
     "output_type": "execute_result"
    }
   ],
   "source": [
    "dtr[\n",
    "#     (dtr.cartoon == 'none') & \n",
    "    ((dtr.reel_name.fillna('').astype(str).str.lower().str.contains(pattern, na=False)) \n",
    "  | (dtr.yt_channel_name.fillna('').astype(str).str.lower().str.contains(pattern, na=False))) \n",
    "][['cartoon','text','url','is_shorts']]['cartoon'].unique()"
   ]
  },
  {
   "cell_type": "code",
   "execution_count": 110,
   "id": "7563cc9d-6238-4dfc-8129-c2990ac89e28",
   "metadata": {},
   "outputs": [
    {
     "data": {
      "text/plain": [
       "cartoon\n",
       "Енотки    379\n",
       "Name: count, dtype: int64"
      ]
     },
     "metadata": {},
     "output_type": "display_data"
    },
    {
     "data": {
      "text/plain": [
       "(379,)"
      ]
     },
     "metadata": {},
     "output_type": "display_data"
    },
    {
     "name": "stdout",
     "output_type": "stream",
     "text": [
      "\n"
     ]
    },
    {
     "data": {
      "text/plain": [
       "(379, 16)"
      ]
     },
     "execution_count": 110,
     "metadata": {},
     "output_type": "execute_result"
    }
   ],
   "source": [
    "ddd = \\\n",
    "dtr[\n",
    "#     (dtr.cartoon == 'none') & \n",
    "    (\n",
    "        (dtr.reel_name.fillna('').astype(str).str.lower().str.contains(pattern, na=False))\n",
    "      | (dtr.yt_channel_name.fillna('').astype(str).str.lower().str.contains(pattern, na=False))\n",
    "    )\n",
    "     # &  (dtr.is_shorts.fillna('').astype(int) == 0)\n",
    "   ][['cartoon','text']]\n",
    "display(ddd['cartoon'].value_counts())\n",
    "display(ddd['cartoon'].shape)\n",
    "print()\n",
    "dtr[dtr.cartoon == target].shape"
   ]
  },
  {
   "cell_type": "code",
   "execution_count": 111,
   "id": "c129b1db-2a3c-41a8-ae2b-7bb671fcbbcc",
   "metadata": {},
   "outputs": [],
   "source": [
    "meth['reel_name_or_channel_name']=\\\n",
    "\"\"\"\n",
    "(dtr.reel_name.fillna('').astype(str).str.lower().str.contains(pattern, na=False)) \n",
    "| (dtr.yt_channel_name.fillna('').astype(str).str.lower().str.contains(pattern, na=False))\n",
    "\"\"\""
   ]
  },
  {
   "cell_type": "code",
   "execution_count": 112,
   "id": "f415e99e",
   "metadata": {},
   "outputs": [],
   "source": [
    "d['Енотки'] = {\n",
    "\n",
    "'order':0,\n",
    "'meth': 'reel_name_or_channel_name',\n",
    "'pattern': 'pattern',\n",
    "'stop_pattern': None,\n",
    "'method':\n",
    "  {\n",
    "    'reel_name': {'any_word_list' : ['الراكون','Rockoons','MUSIPACHES','Енотки'],\n",
    "                  'all_word_list':None,\n",
    "                  'stop_any' : None\n",
    "                 },\n",
    "    'text'     : None,\n",
    "    'yt_channel_name' : {'any_word_list':['الراكون','Rockoons','MUSIPACHES','Енотки']},\n",
    "    'is_shorts' : None # value_for_filter (0/1, default=None)\n",
    "  },\n",
    "'comment': 'обработка по имени. плюс имя канала'\n",
    "}"
   ]
  },
  {
   "cell_type": "markdown",
   "id": "afdc7087-719e-4e51-a5f2-3440520577e5",
   "metadata": {},
   "source": [
    "## Бэтмен"
   ]
  },
  {
   "cell_type": "code",
   "execution_count": 114,
   "id": "ad7d5cdf-8c6a-467d-a31a-2b0ced4a1ef0",
   "metadata": {},
   "outputs": [
    {
     "data": {
      "text/plain": [
       "cartoon\n",
       "Енотки              0.004544\n",
       "Бэтмен              0.004232\n",
       "ЖилаБыла Царевна    0.002745\n",
       "Name: proportion, dtype: float64"
      ]
     },
     "metadata": {},
     "output_type": "display_data"
    },
    {
     "data": {
      "text/html": [
       "<div>\n",
       "<style scoped>\n",
       "    .dataframe tbody tr th:only-of-type {\n",
       "        vertical-align: middle;\n",
       "    }\n",
       "\n",
       "    .dataframe tbody tr th {\n",
       "        vertical-align: top;\n",
       "    }\n",
       "\n",
       "    .dataframe thead th {\n",
       "        text-align: right;\n",
       "    }\n",
       "</style>\n",
       "<table border=\"1\" class=\"dataframe\">\n",
       "  <thead>\n",
       "    <tr style=\"text-align: right;\">\n",
       "      <th></th>\n",
       "      <th>text</th>\n",
       "    </tr>\n",
       "  </thead>\n",
       "  <tbody>\n",
       "    <tr>\n",
       "      <th>153</th>\n",
       "      <td>[毒藤女洗脑蝙蝠侠 The Batman 中文版   DCKidsInternational] 当蝙蝠侠试图从毒藤女的魔掌下救出戈登局长时被棘手的敌人洗脑转而与他的新伙伴蝙蝠少女反目成仇DC Kids 有你最喜欢的少年泰坦出击蝙蝠侠无极限美国正义联盟等的DC人物视频漫画游戏和活动DCKids KidsCartoons Batman提供数字版本和DVD版本 点击此处观看更多视频  https://www.youtube.com/channel/UCMt032tr4fOP9NTffiUoJw  All DC related characters and elements   DC Comics. s24</td>\n",
       "    </tr>\n",
       "  </tbody>\n",
       "</table>\n",
       "</div>"
      ],
      "text/plain": [
       "                                                                                                                                                                                                                                                                                                                text\n",
       "153  [毒藤女洗脑蝙蝠侠 The Batman 中文版   DCKidsInternational] 当蝙蝠侠试图从毒藤女的魔掌下救出戈登局长时被棘手的敌人洗脑转而与他的新伙伴蝙蝠少女反目成仇DC Kids 有你最喜欢的少年泰坦出击蝙蝠侠无极限美国正义联盟等的DC人物视频漫画游戏和活动DCKids KidsCartoons Batman提供数字版本和DVD版本 点击此处观看更多视频  https://www.youtube.com/channel/UCMt032tr4fOP9NTffiUoJw  All DC related characters and elements   DC Comics. s24"
      ]
     },
     "execution_count": 114,
     "metadata": {},
     "output_type": "execute_result"
    }
   ],
   "source": [
    "display(dtr.cartoon.value_counts(normalize=True)[5:8])\n",
    "target = 'Бэтмен'\n",
    "dtr[dtr.cartoon == target][['text']][:1]"
   ]
  },
  {
   "cell_type": "code",
   "execution_count": 115,
   "id": "e70e1081-ca00-4f2c-9605-22924ecdbc53",
   "metadata": {},
   "outputs": [
    {
     "data": {
      "text/html": [
       "<div>\n",
       "<style scoped>\n",
       "    .dataframe tbody tr th:only-of-type {\n",
       "        vertical-align: middle;\n",
       "    }\n",
       "\n",
       "    .dataframe tbody tr th {\n",
       "        vertical-align: top;\n",
       "    }\n",
       "\n",
       "    .dataframe thead th {\n",
       "        text-align: right;\n",
       "    }\n",
       "</style>\n",
       "<table border=\"1\" class=\"dataframe\">\n",
       "  <thead>\n",
       "    <tr style=\"text-align: right;\">\n",
       "      <th></th>\n",
       "      <th>yt_channel_name</th>\n",
       "      <th>text</th>\n",
       "      <th>url</th>\n",
       "      <th>language</th>\n",
       "    </tr>\n",
       "  </thead>\n",
       "  <tbody>\n",
       "  </tbody>\n",
       "</table>\n",
       "</div>"
      ],
      "text/plain": [
       "Empty DataFrame\n",
       "Columns: [yt_channel_name, text, url, language]\n",
       "Index: []"
      ]
     },
     "execution_count": 115,
     "metadata": {},
     "output_type": "execute_result"
    }
   ],
   "source": [
    "word_list = ['Batman','БЭТМЕН']\n",
    "\n",
    "# Преобразуем слова в нижний регистр и экранируем\n",
    "pattern = '|'.join(map(lambda word: re.escape(word.lower()), word_list))\n",
    "\n",
    "dtr[(dtr.cartoon == target) \n",
    "  & ~(dtr.reel_name.fillna('').astype(str).str.lower().str.contains(pattern, na=False)) \n",
    "][['yt_channel_name','text','url','language']].head(10)"
   ]
  },
  {
   "cell_type": "code",
   "execution_count": 116,
   "id": "36735103-2d15-411c-8b94-32aff3e884e2",
   "metadata": {},
   "outputs": [
    {
     "data": {
      "text/html": [
       "<div>\n",
       "<style scoped>\n",
       "    .dataframe tbody tr th:only-of-type {\n",
       "        vertical-align: middle;\n",
       "    }\n",
       "\n",
       "    .dataframe tbody tr th {\n",
       "        vertical-align: top;\n",
       "    }\n",
       "\n",
       "    .dataframe thead th {\n",
       "        text-align: right;\n",
       "    }\n",
       "</style>\n",
       "<table border=\"1\" class=\"dataframe\">\n",
       "  <thead>\n",
       "    <tr style=\"text-align: right;\">\n",
       "      <th></th>\n",
       "      <th>text</th>\n",
       "      <th>url</th>\n",
       "      <th>is_shorts</th>\n",
       "    </tr>\n",
       "  </thead>\n",
       "  <tbody>\n",
       "  </tbody>\n",
       "</table>\n",
       "</div>"
      ],
      "text/plain": [
       "Empty DataFrame\n",
       "Columns: [text, url, is_shorts]\n",
       "Index: []"
      ]
     },
     "execution_count": 116,
     "metadata": {},
     "output_type": "execute_result"
    }
   ],
   "source": [
    "dtr[(dtr.cartoon == 'none') \n",
    "  & (dtr.reel_name.fillna('').astype(str).str.lower().str.contains(pattern, na=False)) \n",
    "][['text','url','is_shorts']]"
   ]
  },
  {
   "cell_type": "code",
   "execution_count": 117,
   "id": "154a53fb",
   "metadata": {},
   "outputs": [
    {
     "data": {
      "text/plain": [
       "array(['Бэтмен'], dtype=object)"
      ]
     },
     "execution_count": 117,
     "metadata": {},
     "output_type": "execute_result"
    }
   ],
   "source": [
    "dtr[\n",
    "    (dtr.reel_name.fillna('').astype(str).str.lower().str.contains(pattern, na=False)) \n",
    "][['cartoon','text','url','is_shorts']]['cartoon'].unique()"
   ]
  },
  {
   "cell_type": "code",
   "execution_count": 118,
   "id": "a48432cb-8d7a-46ab-aba7-fe0351d10801",
   "metadata": {},
   "outputs": [
    {
     "data": {
      "text/plain": [
       "cartoon\n",
       "Бэтмен    353\n",
       "Name: count, dtype: int64"
      ]
     },
     "metadata": {},
     "output_type": "display_data"
    },
    {
     "data": {
      "text/plain": [
       "(353,)"
      ]
     },
     "metadata": {},
     "output_type": "display_data"
    },
    {
     "name": "stdout",
     "output_type": "stream",
     "text": [
      "\n"
     ]
    },
    {
     "data": {
      "text/plain": [
       "(353, 16)"
      ]
     },
     "execution_count": 118,
     "metadata": {},
     "output_type": "execute_result"
    }
   ],
   "source": [
    "ddd = \\\n",
    "dtr[\n",
    "    (dtr.reel_name.fillna('').astype(str).str.lower().str.contains(pattern, na=False))\n",
    "][['cartoon','text']]\n",
    "\n",
    "display(ddd['cartoon'].value_counts())\n",
    "display(ddd['cartoon'].shape)\n",
    "print()\n",
    "dtr[dtr.cartoon == target].shape"
   ]
  },
  {
   "cell_type": "code",
   "execution_count": 119,
   "id": "a5132b4c",
   "metadata": {},
   "outputs": [],
   "source": [
    "d['Бэтмен'] = {\n",
    "\n",
    "'order':0,\n",
    "'meth' : 'reel_name_only',\n",
    "'pattern': 'pattern',\n",
    "'stop_pattern': None,\n",
    "'method':\n",
    "  {\n",
    "    'reel_name': {'any_word_list' : ['Batman','БЭТМЕН'],\n",
    "                  'all_word_list':None,\n",
    "                  'stop_any' : None\n",
    "                 },\n",
    "    'text'     : None,\n",
    "    'yt_channel_name' : None,\n",
    "    'is_shorts' : None # value_for_filter (0/1, default=None)\n",
    "  },\n",
    "'comment': 'обработка по имени'\n",
    "}"
   ]
  },
  {
   "cell_type": "markdown",
   "id": "7b38b4f3-b379-443a-ac57-c53780eb71bc",
   "metadata": {},
   "source": [
    "## ЖилаБыла Царевна"
   ]
  },
  {
   "cell_type": "code",
   "execution_count": 121,
   "id": "b553ec2e-f09f-47a4-90cd-0d80d634e044",
   "metadata": {},
   "outputs": [
    {
     "data": {
      "text/plain": [
       "cartoon\n",
       "Бэтмен              0.004232\n",
       "ЖилаБыла Царевна    0.002745\n",
       "Оранжевая корова    0.002721\n",
       "Name: proportion, dtype: float64"
      ]
     },
     "metadata": {},
     "output_type": "display_data"
    }
   ],
   "source": [
    "display(dtr.cartoon.value_counts(normalize=True)[6:9])\n",
    "target = 'ЖилаБыла Царевна'\n",
    "# dtr[dtr.cartoon == target][['text']][:2]"
   ]
  },
  {
   "cell_type": "code",
   "execution_count": 122,
   "id": "720341e3-3a74-49cb-8516-b9d0a57457ee",
   "metadata": {},
   "outputs": [
    {
     "data": {
      "text/html": [
       "<div>\n",
       "<style scoped>\n",
       "    .dataframe tbody tr th:only-of-type {\n",
       "        vertical-align: middle;\n",
       "    }\n",
       "\n",
       "    .dataframe tbody tr th {\n",
       "        vertical-align: top;\n",
       "    }\n",
       "\n",
       "    .dataframe thead th {\n",
       "        text-align: right;\n",
       "    }\n",
       "</style>\n",
       "<table border=\"1\" class=\"dataframe\">\n",
       "  <thead>\n",
       "    <tr style=\"text-align: right;\">\n",
       "      <th></th>\n",
       "      <th>cartoon</th>\n",
       "      <th>yt_channel_name</th>\n",
       "      <th>text</th>\n",
       "      <th>url</th>\n",
       "      <th>language</th>\n",
       "    </tr>\n",
       "  </thead>\n",
       "  <tbody>\n",
       "    <tr>\n",
       "      <th>14898</th>\n",
       "      <td>ЖилаБыла Царевна</td>\n",
       "      <td>Теремок Песенки для детей</td>\n",
       "      <td>[Алфавит с царевной  Буквы ЦЧ  Песенки для детей] Учимся ДОМАВМЕСТЕ  Буквы ФХ  Учить алфавит с Царевной так весело. Подпевай Цаеревне и запоминай буквыЛюбишь Царевну А у нас естьКуклаигрушка Царевна  http://bit.ly/Tzarevnakukla Посуда с Царевной  http://bit.ly/TzarevnaposudaИгры с Царевной http://igramir.shop/carevna  Подпишись на Песенкиhttps://www.youtube.com/user/TeremokS... Лучшие  песенки и мультфильмы здесь https://bit.ly/2ZujMJv</td>\n",
       "      <td>https://www.youtube.com/watch?v=hGtYLOnx5M0</td>\n",
       "      <td>-1</td>\n",
       "    </tr>\n",
       "  </tbody>\n",
       "</table>\n",
       "</div>"
      ],
      "text/plain": [
       "                cartoon            yt_channel_name  \\\n",
       "14898  ЖилаБыла Царевна  Теремок Песенки для детей   \n",
       "\n",
       "                                                                                                                                                                                                                                                                                                                                                                                                                                                          text  \\\n",
       "14898  [Алфавит с царевной  Буквы ЦЧ  Песенки для детей] Учимся ДОМАВМЕСТЕ  Буквы ФХ  Учить алфавит с Царевной так весело. Подпевай Цаеревне и запоминай буквыЛюбишь Царевну А у нас естьКуклаигрушка Царевна  http://bit.ly/Tzarevnakukla Посуда с Царевной  http://bit.ly/TzarevnaposudaИгры с Царевной http://igramir.shop/carevna  Подпишись на Песенкиhttps://www.youtube.com/user/TeremokS... Лучшие  песенки и мультфильмы здесь https://bit.ly/2ZujMJv   \n",
       "\n",
       "                                               url language  \n",
       "14898  https://www.youtube.com/watch?v=hGtYLOnx5M0       -1  "
      ]
     },
     "execution_count": 122,
     "metadata": {},
     "output_type": "execute_result"
    }
   ],
   "source": [
    "word_list = ['Жилабыла Царевна','Жила была Царевна']\n",
    "\n",
    "cont = ['песенки','караоке']\n",
    "\n",
    "# Преобразуем слова в нижний регистр и экранируем\n",
    "pattern = '|'.join(map(lambda word: re.escape(word.lower()), word_list))\n",
    "\n",
    "cont_pattern = '|'.join(map(lambda word: re.escape(word.lower()), cont))\n",
    "\n",
    "dtr[\n",
    "    (dtr.cartoon == target) \n",
    "  & ~(dtr.text.fillna('').astype(str).str.lower().str.contains(pattern, na=False))\n",
    "][['cartoon','yt_channel_name','text','url','language']].head(1)\n"
   ]
  },
  {
   "cell_type": "code",
   "execution_count": 123,
   "id": "4dbd89a9-05f9-4982-9d9e-888740be5eef",
   "metadata": {},
   "outputs": [
    {
     "data": {
      "text/html": [
       "<div>\n",
       "<style scoped>\n",
       "    .dataframe tbody tr th:only-of-type {\n",
       "        vertical-align: middle;\n",
       "    }\n",
       "\n",
       "    .dataframe tbody tr th {\n",
       "        vertical-align: top;\n",
       "    }\n",
       "\n",
       "    .dataframe thead th {\n",
       "        text-align: right;\n",
       "    }\n",
       "</style>\n",
       "<table border=\"1\" class=\"dataframe\">\n",
       "  <thead>\n",
       "    <tr style=\"text-align: right;\">\n",
       "      <th></th>\n",
       "      <th>text</th>\n",
       "      <th>url</th>\n",
       "    </tr>\n",
       "  </thead>\n",
       "  <tbody>\n",
       "  </tbody>\n",
       "</table>\n",
       "</div>"
      ],
      "text/plain": [
       "Empty DataFrame\n",
       "Columns: [text, url]\n",
       "Index: []"
      ]
     },
     "execution_count": 123,
     "metadata": {},
     "output_type": "execute_result"
    }
   ],
   "source": [
    "dtr[\n",
    "    (dtr.cartoon == 'none') \n",
    "  &  (dtr.reel_name.fillna('').astype(str).str.lower().str.contains(pattern, na=False)) \n",
    "  & ~(dtr.reel_name.fillna('').astype(str).str.lower().str.contains(cont_pattern, na=False))\n",
    "][['text','url']].head(20)"
   ]
  },
  {
   "cell_type": "code",
   "execution_count": 124,
   "id": "7f38a3b7",
   "metadata": {},
   "outputs": [
    {
     "data": {
      "text/html": [
       "<div>\n",
       "<style scoped>\n",
       "    .dataframe tbody tr th:only-of-type {\n",
       "        vertical-align: middle;\n",
       "    }\n",
       "\n",
       "    .dataframe tbody tr th {\n",
       "        vertical-align: top;\n",
       "    }\n",
       "\n",
       "    .dataframe thead th {\n",
       "        text-align: right;\n",
       "    }\n",
       "</style>\n",
       "<table border=\"1\" class=\"dataframe\">\n",
       "  <thead>\n",
       "    <tr style=\"text-align: right;\">\n",
       "      <th></th>\n",
       "      <th>cartoon</th>\n",
       "      <th>text</th>\n",
       "    </tr>\n",
       "  </thead>\n",
       "  <tbody>\n",
       "    <tr>\n",
       "      <th>50351</th>\n",
       "      <td>none</td>\n",
       "      <td>[Песенки для детей про ЗИМУ, Новый год, про Машинки, Трактор, Рабочие машины, Поезд] Песни для детей.Песенки про: Рабочие машины Трактор Машинки Жила была Царевна КукутикиРазвивающие, обучающие мультики про машинки для детей. С помощью этого мультика маленькие зрители будут учиться считать, запоминать цвета, изучать формы и размеры, собирать машинки и, конечно, веселиться Смотри все серии: https://www.youtube.com/playlistlistPLYjQr8vff1Jwa7ODLlbXR1PvhS58K72XmПодписывайся на наш канал, чтобы смотреть новые мультики: http://bit.ly/TeremokTV Смотри другие хорошие мультфильмы:ТачкиТачки: http://bit.ly/TachkiTachkiМы идем по лесу: http://bit.ly/2osviAxМультикРаскраска: http://bit.ly/AllRaskraska Песенки: http://bit.ly/Pesenki Теремок ТВ  это только хорошие добрые развивающие и веселые мультфильмы для детей любого возраста, которые можно смотреть онлайн бесплатно Присоединяйтесь к нашей большой и дружной семье</td>\n",
       "    </tr>\n",
       "  </tbody>\n",
       "</table>\n",
       "</div>"
      ],
      "text/plain": [
       "      cartoon  \\\n",
       "50351    none   \n",
       "\n",
       "                                                                                                                                                                                                                                                                                                                                                                                                                                                                                                                                                                                                                                                                                                                                                                                                                                                                                                                                                         text  \n",
       "50351  [Песенки для детей про ЗИМУ, Новый год, про Машинки, Трактор, Рабочие машины, Поезд] Песни для детей.Песенки про: Рабочие машины Трактор Машинки Жила была Царевна КукутикиРазвивающие, обучающие мультики про машинки для детей. С помощью этого мультика маленькие зрители будут учиться считать, запоминать цвета, изучать формы и размеры, собирать машинки и, конечно, веселиться Смотри все серии: https://www.youtube.com/playlistlistPLYjQr8vff1Jwa7ODLlbXR1PvhS58K72XmПодписывайся на наш канал, чтобы смотреть новые мультики: http://bit.ly/TeremokTV Смотри другие хорошие мультфильмы:ТачкиТачки: http://bit.ly/TachkiTachkiМы идем по лесу: http://bit.ly/2osviAxМультикРаскраска: http://bit.ly/AllRaskraska Песенки: http://bit.ly/Pesenki Теремок ТВ  это только хорошие добрые развивающие и веселые мультфильмы для детей любого возраста, которые можно смотреть онлайн бесплатно Присоединяйтесь к нашей большой и дружной семье   "
      ]
     },
     "execution_count": 124,
     "metadata": {},
     "output_type": "execute_result"
    }
   ],
   "source": [
    "dtr[\n",
    "    (dtr.cartoon == 'none') &  \n",
    "  (dtr.text.fillna('').astype(str).str.lower().str.contains(pattern, na=False)) \n",
    "#   & ~(dtr.text.fillna('').astype(str).str.lower().str.contains(cont_pattern, na=False))\n",
    "][['cartoon','text']][:1]"
   ]
  },
  {
   "cell_type": "markdown",
   "id": "ac71482b",
   "metadata": {},
   "source": [
    "Напутано в царевнах\n",
    "```css\n",
    "\n",
    "81822 \tЖилаБыла Царевна \t[Новые мультики Пип и Альба Шоу Хоппера В поиске птиц Все серии для детей] Новый мультик для детей \"Пип и Альба\" Премьера 2018 http://bit.ly/PipAlba Мультик 7. Команда чаек, принимающая участие в Шоу Чаек, собирается выступить в Солёной Бухте. Однако случается несчастье Сирил вывихнул крыло во время тренировки. Без Сирила шоу не состоится Хоппера уговаривают выступить вместо Сирила. Пип и Альба готовят Хоппера к выступлению. Но Хоппер упрямится и отказывается выступать. Тогда тренер Пип решает поговорить с ним с глазу на глаз. Пип убеждает Хоппера принять участие в Шоу. Теперь Хоппер звезда Шоу ЧаекМультик 8. Тётя Твитчер любит наблюдать за птицами. Она всегда мечтала увидеть альбатроса. Пип и Альба отправляются в экспедицию по наблюдению за птицами вместе с тётей Твитчер. Может быть, они увидят альбатроса В Солёной Бухте в такси к тёте Твитчер садится Альби Тросс альбатрос в маскировке. Альби Тросс весь день загорает на пляже. Хоппер и Пести вычислили Альби, в отличие от тёти Твитчер. И хотя Хоппер всеми силами пытается убедить тётю Твитчер посмотреть на пляж, где лежит альбатрос, она не верит ему и ищет птицу в другом направленииЗнакомьтесь, это Пип любопытный и непоседливый щенок, любимец всех обитателей Соленой Бухты. У Пипа есть верная подружка кошечка по имени Альба. Эта парочка обожает веселые приключения. Соленая Бухта идеальное место для интересных открытий, удивительных приключений и шумного веселья Готовы Тогда поднять якорь и полный впередПодпишись, чтобы смотреть новые мультфильмы для детей, мультики про машинки и самолетики, веселые развивающие мультфильмы, обучающие передачи и многое другое http://bit.ly/TeremokTV Смотри другие детские мультики:Жилабыла Царевна, все серии: https://bit.ly/Tsarevna.Мимимишки, все новые серии: http://bit.ly/Mishki Наши группы:ВК: http://vk.com/teremoktv, ОК: http://bit.ly/TeremOK, Наш сайт: http://teremok.tv.Теремок ТВ это только хорошие, добрые, развивающие и веселые мультфильмы для детей любого возраста, которые можно смотреть онлайн бесплатно Присоединяйтесь к нашей большой и дружной семье\n",
    "```"
   ]
  },
  {
   "cell_type": "code",
   "execution_count": 126,
   "id": "85d9ad9a",
   "metadata": {},
   "outputs": [
    {
     "data": {
      "text/plain": [
       "array(['ЖилаБыла Царевна', 'Царевны', 'none'], dtype=object)"
      ]
     },
     "execution_count": 126,
     "metadata": {},
     "output_type": "execute_result"
    }
   ],
   "source": [
    "dtr[\n",
    "    (dtr.text.fillna('').astype(str).str.lower().str.contains(pattern, na=False)) \n",
    "][['cartoon','text','url','is_shorts']]['cartoon'].unique()"
   ]
  },
  {
   "cell_type": "markdown",
   "id": "d72dfa55",
   "metadata": {},
   "source": [
    "Здесь будет ошибка"
   ]
  },
  {
   "cell_type": "code",
   "execution_count": 128,
   "id": "82d633ef-02f4-43c8-8516-bd137a519f41",
   "metadata": {},
   "outputs": [
    {
     "data": {
      "text/plain": [
       "cartoon\n",
       "ЖилаБыла Царевна    226\n",
       "none                  3\n",
       "Царевны               2\n",
       "Name: count, dtype: int64"
      ]
     },
     "metadata": {},
     "output_type": "display_data"
    },
    {
     "data": {
      "text/plain": [
       "(231,)"
      ]
     },
     "metadata": {},
     "output_type": "display_data"
    },
    {
     "name": "stdout",
     "output_type": "stream",
     "text": [
      "\n"
     ]
    },
    {
     "data": {
      "text/plain": [
       "(229, 16)"
      ]
     },
     "execution_count": 128,
     "metadata": {},
     "output_type": "execute_result"
    }
   ],
   "source": [
    "ddd = \\\n",
    "dtr[\n",
    "    (dtr.text.fillna('').astype(str).str.lower().str.contains(pattern, na=False))\n",
    "][['cartoon','text']]\n",
    "\n",
    "display(ddd['cartoon'].value_counts())\n",
    "display(ddd['cartoon'].shape)\n",
    "print()\n",
    "dtr[dtr.cartoon == target].shape"
   ]
  },
  {
   "cell_type": "code",
   "execution_count": 129,
   "id": "69856208-837c-4475-8737-dc7b982755b3",
   "metadata": {},
   "outputs": [],
   "source": [
    "meth['text_only']=\\\n",
    "\"\"\"\n",
    "(dtr.text.fillna('').astype(str).str.lower().str.contains(pattern, na=False))\n",
    "\"\"\""
   ]
  },
  {
   "cell_type": "code",
   "execution_count": 130,
   "id": "895c39b3-29c5-4e12-8b70-b3db3aef7b30",
   "metadata": {},
   "outputs": [],
   "source": [
    "# ddd[ddd.cartoon == 'ЖилаБыла Царевна']"
   ]
  },
  {
   "cell_type": "code",
   "execution_count": 131,
   "id": "0482b18d",
   "metadata": {},
   "outputs": [],
   "source": [
    "d['ЖилаБыла Царевна'] = {\n",
    "\n",
    "'order':1,\n",
    "'meth':'text_only',\n",
    "'pattern': 'pattern',\n",
    "'stop_pattern': None,\n",
    "'method':\n",
    "  {\n",
    "    'reel_name': None,\n",
    "    'text'     : {'any_word_list':['Жилабыла Царевна','Жила была Царевна'],\n",
    "                  'all_word_list':None, 'stop_any' : None},\n",
    "    'yt_channel_name' : None,\n",
    "    'is_shorts' : None # value_for_filter (0/1, default=None)\n",
    "  },\n",
    "'comment': 'обработка по тексту'\n",
    "}"
   ]
  },
  {
   "cell_type": "markdown",
   "id": "1c518986-13a5-4fbc-99b8-74fa22c2ae4a",
   "metadata": {},
   "source": [
    "## Оранжевая корова"
   ]
  },
  {
   "cell_type": "code",
   "execution_count": 133,
   "id": "a8206929-081b-41d9-af81-1f58ea3fe432",
   "metadata": {},
   "outputs": [
    {
     "data": {
      "text/plain": [
       "cartoon\n",
       "ЖилаБыла Царевна    0.002745\n",
       "Оранжевая корова    0.002721\n",
       "Зебра в клеточку    0.002254\n",
       "Name: proportion, dtype: float64"
      ]
     },
     "metadata": {},
     "output_type": "display_data"
    }
   ],
   "source": [
    "display(dtr.cartoon.value_counts(normalize=True)[7:10])\n",
    "target = 'Оранжевая корова'\n",
    "# dtr[dtr.cartoon == target][['text']][:2]"
   ]
  },
  {
   "cell_type": "code",
   "execution_count": 134,
   "id": "dabd659e-e76d-47e5-8733-05272bba9c8b",
   "metadata": {},
   "outputs": [
    {
     "data": {
      "text/html": [
       "<div>\n",
       "<style scoped>\n",
       "    .dataframe tbody tr th:only-of-type {\n",
       "        vertical-align: middle;\n",
       "    }\n",
       "\n",
       "    .dataframe tbody tr th {\n",
       "        vertical-align: top;\n",
       "    }\n",
       "\n",
       "    .dataframe thead th {\n",
       "        text-align: right;\n",
       "    }\n",
       "</style>\n",
       "<table border=\"1\" class=\"dataframe\">\n",
       "  <thead>\n",
       "    <tr style=\"text-align: right;\">\n",
       "      <th></th>\n",
       "      <th>yt_channel_name</th>\n",
       "      <th>text</th>\n",
       "      <th>url</th>\n",
       "      <th>language</th>\n",
       "    </tr>\n",
       "  </thead>\n",
       "  <tbody>\n",
       "  </tbody>\n",
       "</table>\n",
       "</div>"
      ],
      "text/plain": [
       "Empty DataFrame\n",
       "Columns: [yt_channel_name, text, url, language]\n",
       "Index: []"
      ]
     },
     "execution_count": 134,
     "metadata": {},
     "output_type": "execute_result"
    }
   ],
   "source": [
    "word_list = ['Las vacas naranjas','Оранжевая Корова',\n",
    "             'Оранжевой Коровы', 'ОранжеваяКорова','Orange MooCow', 'orangemoocoo',\n",
    "             'Зо и Бо', ' Бо ']\n",
    "\n",
    "# Преобразуем слова в нижний регистр и экранируем\n",
    "pattern = '|'.join(map(lambda word: re.escape(word.lower()), word_list))\n",
    "# pattern = '|'.join([word.lower() for word in word_list])\n",
    "\n",
    "dtr[(dtr.cartoon == target) \n",
    "  & ~(dtr.reel_name.fillna('').astype(str).str.lower().str.contains(pattern, na=False)) \n",
    "  & ~(dtr.text.fillna('').astype(str).str.lower().str.contains(pattern, na=False)) \n",
    "  & ~(dtr.yt_channel_name.fillna('').astype(str).str.lower().str.contains(pattern, na=False)) \n",
    "   ][['yt_channel_name','text','url','language']].head(1)"
   ]
  },
  {
   "cell_type": "code",
   "execution_count": 135,
   "id": "e7bb1dff-a77d-4884-ac46-d21ee3d7d0ab",
   "metadata": {},
   "outputs": [
    {
     "data": {
      "text/plain": [
       "'las\\\\ vacas\\\\ naranjas|оранжевая\\\\ корова|оранжевой\\\\ коровы|оранжеваякорова|orange\\\\ moocow|orangemoocoo|зо\\\\ и\\\\ бо|\\\\ бо\\\\ '"
      ]
     },
     "execution_count": 135,
     "metadata": {},
     "output_type": "execute_result"
    }
   ],
   "source": [
    "pattern"
   ]
  },
  {
   "cell_type": "code",
   "execution_count": 136,
   "id": "5e6fcb4f",
   "metadata": {},
   "outputs": [
    {
     "data": {
      "text/plain": [
       "array(['Оранжевая корова (spanish)', 'Оранжевая корова',\n",
       "       'Оранжевая корова (eng)', 'Kedoo Toons TV Funny Animations',\n",
       "       'Союзмультфильм #Shorts'], dtype=object)"
      ]
     },
     "execution_count": 136,
     "metadata": {},
     "output_type": "execute_result"
    }
   ],
   "source": [
    "dtr[(dtr.cartoon == target)]['yt_channel_name'].unique()"
   ]
  },
  {
   "cell_type": "code",
   "execution_count": 137,
   "id": "05a6bb28-0cfd-4356-b056-d699de5c4fad",
   "metadata": {},
   "outputs": [],
   "source": [
    "# dtr[(dtr.cartoon == 'none') \n",
    "# #   & (dtr.reel_name.fillna('').astype(str).str.lower().str.contains(pattern, na=False)) \n",
    "#   & (dtr.text.fillna('').astype(str).str.lower().str.contains(pattern, na=False)) \n",
    "# #   & (dtr.yt_channel_name.fillna('').astype(str).str.lower().str.contains(pattern, na=False)) \n",
    "# ][['text','url','is_shorts']][:1]"
   ]
  },
  {
   "cell_type": "code",
   "execution_count": 138,
   "id": "2cf5718a-747e-4bab-9896-e8f9152d239e",
   "metadata": {},
   "outputs": [
    {
     "data": {
      "text/plain": [
       "cartoon\n",
       "Оранжевая корова    219\n",
       "none                  6\n",
       "Name: count, dtype: int64"
      ]
     },
     "metadata": {},
     "output_type": "display_data"
    },
    {
     "data": {
      "text/plain": [
       "(225,)"
      ]
     },
     "metadata": {},
     "output_type": "display_data"
    },
    {
     "name": "stdout",
     "output_type": "stream",
     "text": [
      "\n"
     ]
    },
    {
     "data": {
      "text/plain": [
       "(227, 16)"
      ]
     },
     "execution_count": 138,
     "metadata": {},
     "output_type": "execute_result"
    }
   ],
   "source": [
    "ddd = \\\n",
    "dtr[\n",
    "    (dtr.reel_name.fillna('').astype(str).str.lower().str.contains(pattern, na=False)) \n",
    "    | (dtr.yt_channel_name.fillna('').astype(str).str.lower().str.contains(pattern, na=False))\n",
    "][['cartoon','text']]\n",
    "\n",
    "display(ddd['cartoon'].value_counts())\n",
    "display(ddd['cartoon'].shape)\n",
    "print()\n",
    "dtr[dtr.cartoon == target].shape"
   ]
  },
  {
   "cell_type": "code",
   "execution_count": 139,
   "id": "d252da68",
   "metadata": {},
   "outputs": [],
   "source": [
    "# dtr[\n",
    "#     (dtr.cartoon == target) & \n",
    "#     ~(\n",
    "#     (dtr.reel_name.fillna('').astype(str).str.lower().str.contains(pattern, na=False))\n",
    "#   | (dtr.yt_channel_name.fillna('').astype(str).str.lower().str.contains(pattern, na=False))\n",
    "#     )\n",
    "# ][['cartoon','text','url','yt_channel_name']]"
   ]
  },
  {
   "cell_type": "markdown",
   "id": "1c652b32",
   "metadata": {},
   "source": [
    "10 экземпляров мимо"
   ]
  },
  {
   "cell_type": "code",
   "execution_count": 141,
   "id": "882ee1ad",
   "metadata": {},
   "outputs": [],
   "source": [
    "d['Оранжевая корова'] = {\n",
    "\n",
    "'order':2,\n",
    "'meth': 'reel_name_or_channel_name',\n",
    "'pattern': 'pattern',\n",
    "'stop_pattern': None,\n",
    "'method':\n",
    "  {\n",
    "    'reel_name': {'any_word_list' : ['Las vacas naranjas','Оранжевая Корова',\n",
    "                                     'Оранжевой Коровы', 'ОранжеваяКорова',\n",
    "                                     'Orange MooCow', 'orangemoocoo',\n",
    "                                     'Зо и Бо', ' Бо '],\n",
    "                  'all_word_list':None,\n",
    "                  'stop_any' : None\n",
    "                 },\n",
    "    'text'     : None,\n",
    "    'yt_channel_name' : {'any_word_list':['Las vacas naranjas','Оранжевая Корова',\n",
    "                                     'Оранжевой Коровы', 'ОранжеваяКорова',\n",
    "                                     'Orange MooCow', 'orangemoocoo',\n",
    "                                     'Зо и Бо', ' Бо ']},\n",
    "    'is_shorts' : None # value_for_filter (0/1, default=None)\n",
    "  },\n",
    "'comment': 'обработка по имени. плюс имя канала'\n",
    "}"
   ]
  },
  {
   "cell_type": "markdown",
   "id": "a7e813ca-f482-4509-8a20-b38b0cf8142f",
   "metadata": {},
   "source": [
    "## Зебра в клеточку"
   ]
  },
  {
   "cell_type": "code",
   "execution_count": 143,
   "id": "5ebd704c-fa86-4c4f-b3a1-69c0c8a9a651",
   "metadata": {},
   "outputs": [
    {
     "data": {
      "text/plain": [
       "cartoon\n",
       "Оранжевая корова    0.002721\n",
       "Зебра в клеточку    0.002254\n",
       "Фиксики             0.001810\n",
       "Name: proportion, dtype: float64"
      ]
     },
     "metadata": {},
     "output_type": "display_data"
    }
   ],
   "source": [
    "display(dtr.cartoon.value_counts(normalize=True)[8:11])\n",
    "target = 'Зебра в клеточку'\n",
    "# dtr[dtr.cartoon == target][['text']][:1]"
   ]
  },
  {
   "cell_type": "code",
   "execution_count": 144,
   "id": "6bc7d476-1587-45df-a010-edb2160132bd",
   "metadata": {},
   "outputs": [
    {
     "data": {
      "text/html": [
       "<div>\n",
       "<style scoped>\n",
       "    .dataframe tbody tr th:only-of-type {\n",
       "        vertical-align: middle;\n",
       "    }\n",
       "\n",
       "    .dataframe tbody tr th {\n",
       "        vertical-align: top;\n",
       "    }\n",
       "\n",
       "    .dataframe thead th {\n",
       "        text-align: right;\n",
       "    }\n",
       "</style>\n",
       "<table border=\"1\" class=\"dataframe\">\n",
       "  <thead>\n",
       "    <tr style=\"text-align: right;\">\n",
       "      <th></th>\n",
       "      <th>cartoon</th>\n",
       "      <th>yt_channel_name</th>\n",
       "      <th>text</th>\n",
       "      <th>url</th>\n",
       "      <th>language</th>\n",
       "    </tr>\n",
       "  </thead>\n",
       "  <tbody>\n",
       "  </tbody>\n",
       "</table>\n",
       "</div>"
      ],
      "text/plain": [
       "Empty DataFrame\n",
       "Columns: [cartoon, yt_channel_name, text, url, language]\n",
       "Index: []"
      ]
     },
     "execution_count": 144,
     "metadata": {},
     "output_type": "execute_result"
    }
   ],
   "source": [
    "word_list = ['Зебра в клеточку','Зебравклеточку']\n",
    "\n",
    "cont = [\n",
    "      'песенки',\n",
    "#     'караоке',\n",
    "#     ' концерт', 'ПРОСТОКВАШИНО'\n",
    "]\n",
    "\n",
    "# Преобразуем слова в нижний регистр и экранируем\n",
    "pattern = '|'.join(map(lambda word: re.escape(word.lower()), word_list))\n",
    "\n",
    "cont_pattern = '|'.join(map(lambda word: re.escape(word.lower()), cont))\n",
    "\n",
    "dtr[(dtr.cartoon == target) \n",
    "  & ~(dtr.text.fillna('').astype(str).str.lower().str.contains(pattern, na=False)) \n",
    "  & ~(dtr.reel_name.fillna('').astype(str).str.lower().str.contains(pattern, na=False)) \n",
    "  |  ((dtr.cartoon == target) \n",
    "      & ~(dtr.text.fillna('').astype(str).str.lower().str.contains(pattern, na=False)) \n",
    "      & ~(dtr.reel_name.fillna('').astype(str).str.lower().str.contains(pattern, na=False)) \n",
    "      & (dtr.text.fillna('').astype(str).str.lower().str.contains(cont_pattern, na=False)))\n",
    "  # & ~(dtr.yt_channel_name.fillna('').astype(str).str.lower().str.contains(pattern, na=False)) \n",
    "   ][['cartoon','yt_channel_name','text','url','language']].head(10)"
   ]
  },
  {
   "cell_type": "code",
   "execution_count": 145,
   "id": "d73f0f6a-482b-4a28-ba14-e222c16fa1a6",
   "metadata": {},
   "outputs": [],
   "source": [
    "# dtr[  \n",
    "#     ((dtr.cartoon == 'none') \n",
    "#       & (dtr.text.fillna('').astype(str).str.lower().str.contains(pattern, na=False)) \n",
    "#       # & (dtr.reel_name.fillna('').astype(str).str.lower().str.contains(pattern, na=False)) \n",
    "#       & ~(dtr.text.fillna('').astype(str).str.lower().str.contains(cont_pattern, na=False)))\n",
    "#   # & ~(dtr.yt_channel_name.fillna('').astype(str).str.lower().str.contains(pattern, na=False)) \n",
    "# ][['text','url']].head(1)"
   ]
  },
  {
   "cell_type": "code",
   "execution_count": 146,
   "id": "efb5168d",
   "metadata": {},
   "outputs": [
    {
     "data": {
      "text/plain": [
       "cartoon\n",
       "Зебра в клеточку    185\n",
       "Name: count, dtype: int64"
      ]
     },
     "metadata": {},
     "output_type": "display_data"
    },
    {
     "data": {
      "text/plain": [
       "(185,)"
      ]
     },
     "metadata": {},
     "output_type": "display_data"
    },
    {
     "name": "stdout",
     "output_type": "stream",
     "text": [
      "\n"
     ]
    },
    {
     "data": {
      "text/plain": [
       "(188, 16)"
      ]
     },
     "execution_count": 146,
     "metadata": {},
     "output_type": "execute_result"
    }
   ],
   "source": [
    "ddd = \\\n",
    "dtr[\n",
    "#     (dtr.cartoon == 'none') & \n",
    "    (\n",
    "        (dtr.reel_name.fillna('').astype(str).str.lower().str.contains(pattern, na=False))\n",
    "      | (dtr.yt_channel_name.fillna('').astype(str).str.lower().str.contains(pattern, na=False))\n",
    "    )\n",
    "     & ~(dtr.text.fillna('').astype(str).str.lower().str.contains(cont_pattern, na=False))\n",
    "   ][['cartoon','text']]\n",
    "\n",
    "display(ddd['cartoon'].value_counts())\n",
    "display(ddd['cartoon'].shape)\n",
    "print()\n",
    "dtr[(dtr.cartoon == target)].shape"
   ]
  },
  {
   "cell_type": "markdown",
   "id": "a96f3d2c",
   "metadata": {},
   "source": [
    "Не досчитаемся 3"
   ]
  },
  {
   "cell_type": "code",
   "execution_count": 148,
   "id": "a8afbd8a-41f6-4b17-ae16-a7d73d9a2bc7",
   "metadata": {},
   "outputs": [],
   "source": [
    "meth['stop_pattern'] = \\\n",
    "\"\"\"\n",
    "stop_pattern = '|'.join(map(lambda word: re.escape(word.lower()), stop_words))\n",
    "\"\"\""
   ]
  },
  {
   "cell_type": "code",
   "execution_count": 149,
   "id": "4518d555-d0e9-4871-984f-a082849d6dcc",
   "metadata": {},
   "outputs": [],
   "source": [
    "meth['reel_or_channel_and_not_text']=\\\n",
    "\"\"\"\n",
    "(\n",
    "    (dtr.reel_name.fillna('').astype(str).str.lower().str.contains(pattern, na=False))\n",
    "  | (dtr.yt_channel_name.fillna('').astype(str).str.lower().str.contains(pattern, na=False))\n",
    ")\n",
    " & ~(dtr.text.fillna('').astype(str).str.lower().str.contains(stop_pattern, na=False))\n",
    "\"\"\""
   ]
  },
  {
   "cell_type": "code",
   "execution_count": 150,
   "id": "53f02f12",
   "metadata": {},
   "outputs": [],
   "source": [
    "d['Зебра в клеточку'] = {\n",
    "\n",
    "'order':0,\n",
    "'meth':'reel_or_channel_and_not_text',\n",
    "'pattern': 'pattern',\n",
    "'stop_pattern': 'stop_pattern',\n",
    "'method':\n",
    "  {\n",
    "    'reel_name': {'any_word_list' : ['Зебра в клеточку','Зебравклеточку'],\n",
    "                  'all_word_list':None,\n",
    "                  'stop_any' : None\n",
    "                 },\n",
    "    'text'     : {'any_word_list':None, 'all_word_list':None, 'stop_any' : ['песенки']},\n",
    "    'yt_channel_name' : {'any_word_list':['Зебра в клеточку','Зебравклеточку']},\n",
    "    'is_shorts' : None # value_for_filter (0/1, default=None)\n",
    "  },\n",
    "'comment': 'обработка по имени. плюс имя канала'\n",
    "}"
   ]
  },
  {
   "cell_type": "markdown",
   "id": "18f18c84-a9c4-41d1-bf02-a695fa41a69b",
   "metadata": {},
   "source": [
    "## Фиксики"
   ]
  },
  {
   "cell_type": "code",
   "execution_count": 152,
   "id": "d8068202-5147-46ee-9346-ca8fbda8457b",
   "metadata": {},
   "outputs": [
    {
     "data": {
      "text/plain": [
       "cartoon\n",
       "Зебра в клеточку    0.002254\n",
       "Фиксики             0.001810\n",
       "Чик-Чирикино        0.001642\n",
       "Name: proportion, dtype: float64"
      ]
     },
     "metadata": {},
     "output_type": "display_data"
    }
   ],
   "source": [
    "display(dtr.cartoon.value_counts(normalize=True)[9:12])\n",
    "target = 'Фиксики'\n",
    "# dtr[dtr.cartoon == target][['text']][:2]"
   ]
  },
  {
   "cell_type": "code",
   "execution_count": 153,
   "id": "91d6fdff-a332-4427-a38c-45767d5f8988",
   "metadata": {},
   "outputs": [],
   "source": [
    "word_list = ['фиксик','Fixies']\n",
    "\n",
    "stop_words = [\n",
    "    'песенк','караоке', 'Фикси советы',\n",
    "    'Смешарики','Маша и Медведь','Спайдермен', 'Чаггингтон',\n",
    "    'Мимимишки','Лео и Тиг'\n",
    "]\n",
    "\n",
    "# Преобразуем слова в нижний регистр и экранируем\n",
    "pattern = '|'.join(map(lambda word: re.escape(word.lower()), word_list))\n",
    "\n",
    "# Преобразуем слова в нижний регистр и экранируем, заменяя пробелы на '\\s'\n",
    "# stop_pattern = '|'.join(map(lambda word: re.escape(word.lower()).replace(r'\\ ', r'\\s'), stop_words))\n",
    "stop_pattern = '|'.join(map(lambda word: word.lower(), stop_words))\n"
   ]
  },
  {
   "cell_type": "code",
   "execution_count": 154,
   "id": "a50110db-1c6d-4842-8500-2d7bcb663938",
   "metadata": {},
   "outputs": [
    {
     "data": {
      "text/html": [
       "<div>\n",
       "<style scoped>\n",
       "    .dataframe tbody tr th:only-of-type {\n",
       "        vertical-align: middle;\n",
       "    }\n",
       "\n",
       "    .dataframe tbody tr th {\n",
       "        vertical-align: top;\n",
       "    }\n",
       "\n",
       "    .dataframe thead th {\n",
       "        text-align: right;\n",
       "    }\n",
       "</style>\n",
       "<table border=\"1\" class=\"dataframe\">\n",
       "  <thead>\n",
       "    <tr style=\"text-align: right;\">\n",
       "      <th></th>\n",
       "      <th>cartoon</th>\n",
       "      <th>yt_channel_name</th>\n",
       "      <th>text</th>\n",
       "      <th>url</th>\n",
       "      <th>language</th>\n",
       "    </tr>\n",
       "  </thead>\n",
       "  <tbody>\n",
       "  </tbody>\n",
       "</table>\n",
       "</div>"
      ],
      "text/plain": [
       "Empty DataFrame\n",
       "Columns: [cartoon, yt_channel_name, text, url, language]\n",
       "Index: []"
      ]
     },
     "execution_count": 154,
     "metadata": {},
     "output_type": "execute_result"
    }
   ],
   "source": [
    "dtr[(dtr.cartoon == target) \n",
    "  & ~(dtr.text.fillna('').astype(str).str.lower().str.contains(pattern, na=False)) \n",
    "  # & ~(dtr.reel_name.fillna('').astype(str).str.lower().str.contains(pattern, na=False)) \n",
    "  |  ((dtr.cartoon == target) \n",
    "      & ~(dtr.text.fillna('').astype(str).str.lower().str.contains(pattern, na=False)) \n",
    "      # & ~(dtr.reel_name.fillna('').astype(str).str.lower().str.contains(pattern, na=False)) \n",
    "      & (dtr.text.fillna('').astype(str).str.lower().str.contains(stop_pattern, na=False)))\n",
    "  # & ~(dtr.yt_channel_name.fillna('').astype(str).str.lower().str.contains(pattern, na=False)) \n",
    "   ][['cartoon','yt_channel_name','text','url','language']].head(10)"
   ]
  },
  {
   "cell_type": "code",
   "execution_count": 155,
   "id": "e234d5e6-ca2c-45c7-9f79-67b92c71dac0",
   "metadata": {},
   "outputs": [
    {
     "name": "stdout",
     "output_type": "stream",
     "text": [
      "караоке|lieblingslieder|kids songs|kind songs|childrens songs|childrens song|canciones|the fixies bang|drummers|festival\n"
     ]
    },
    {
     "data": {
      "text/html": [
       "<div>\n",
       "<style scoped>\n",
       "    .dataframe tbody tr th:only-of-type {\n",
       "        vertical-align: middle;\n",
       "    }\n",
       "\n",
       "    .dataframe tbody tr th {\n",
       "        vertical-align: top;\n",
       "    }\n",
       "\n",
       "    .dataframe thead th {\n",
       "        text-align: right;\n",
       "    }\n",
       "</style>\n",
       "<table border=\"1\" class=\"dataframe\">\n",
       "  <thead>\n",
       "    <tr style=\"text-align: right;\">\n",
       "      <th></th>\n",
       "      <th>cartoon</th>\n",
       "      <th>yt_channel_name</th>\n",
       "      <th>text</th>\n",
       "      <th>url</th>\n",
       "    </tr>\n",
       "  </thead>\n",
       "  <tbody>\n",
       "    <tr>\n",
       "      <th>273</th>\n",
       "      <td>none</td>\n",
       "      <td>Помогатор</td>\n",
       "      <td>[Витя танцует под песню Помогатор Дрыцтыц телевизор  Песенки для детей  Познавательные мультики] Дрыцтыц, телевизор и два фиксика внутри Поем и танцуем вместе с Витей и фиксиками Самая веселая детская песенкафиксипелка Помогатор  пойте и танцуйте вместе с фиксиками и каналом Помогатор фиксики помогатор песенкиСмотри добрые видео для детей:Фиксики  Раздватричетырепять, вышел фиксик погулять http://bit.ly/1TZAFSsФиксики  Фиксики танцуют с Кукутиками Песенка \"Помогатор\"  http://bit.ly/1YgzhvlФиксики  Фиксики танцуют с Кукутиками Песенка \"Винтик\"  http://bit.ly/24NUz7SФиксики  МЧС  Пожарная часть  Тушение пожара  Фиксики в КидБурге  Городе профессий  http://bit.ly/2SeLX8MПодпишись на канал https://www.youtube.com/c/PomogatorTV ЖМИ НА КОЛОКОЛЬЧИК , чтобы не пропустить ни одной серии любимых мультфильмовФиксики в YouTube Детям  https://ytkids.app.goo.gl/cx9u Сайт Фиксиков  http://fixiki.ru/ \"Фиксиклуб\"  развивающие игры с фиксиками  http://www.fixiclub.ru ПОДПИШИСЬ на наши каналы  Фиксики  канал YouTube  https://www.youtube.com/fixiki Помогатор  https://www.youtube.com/PomogatorTV Фиксикраски  https://bit.ly/FixikiPaints Фиксики Новый Канал https://bit.ly/FixikiAllEps Фиксики на всех языках:ITА https://bit.ly/LosFixisUA https://bit.ly/FixikiUARUS  https://www.youtube.com/fixiki RO   https://bit.ly/FixikiROMDie Fixies Фиксиләр  https://bit.ly/ФиксиләрDie Fixies  https://bit.ly/DieFixiesEN  https://bit.ly/TheFixiesФиксики в смартфоне iOS https://bit.ly/FixikiIOS iTunes https://bit.ly/FixikiiTunes Android https://bit.ly/FixikiAndroidФиксики в соц.сетях:Группа мультсериала \"Фиксики\" В Контакте  http://vk.com/fixikiFacebook  http://www.facebook.com/fixikiTwitter  https://twitter.com/2fixikaInstagram  https://www.instagram.com/fixikiofficial</td>\n",
       "      <td>https://www.youtube.com/watch?v=DlvdGxVeeW4</td>\n",
       "    </tr>\n",
       "  </tbody>\n",
       "</table>\n",
       "</div>"
      ],
      "text/plain": [
       "    cartoon yt_channel_name  \\\n",
       "273    none       Помогатор   \n",
       "\n",
       "                                                                                                                                                                                                                                                                                                                                                                                                                                                                                                                                                                                                                                                                                                                                                                                                                                                                                                                                                                                                                                                                                                                                                                                                                                                                                                                                                                                                                                                                                                                                                                                                                                                                                                                                                                                                                                text  \\\n",
       "273  [Витя танцует под песню Помогатор Дрыцтыц телевизор  Песенки для детей  Познавательные мультики] Дрыцтыц, телевизор и два фиксика внутри Поем и танцуем вместе с Витей и фиксиками Самая веселая детская песенкафиксипелка Помогатор  пойте и танцуйте вместе с фиксиками и каналом Помогатор фиксики помогатор песенкиСмотри добрые видео для детей:Фиксики  Раздватричетырепять, вышел фиксик погулять http://bit.ly/1TZAFSsФиксики  Фиксики танцуют с Кукутиками Песенка \"Помогатор\"  http://bit.ly/1YgzhvlФиксики  Фиксики танцуют с Кукутиками Песенка \"Винтик\"  http://bit.ly/24NUz7SФиксики  МЧС  Пожарная часть  Тушение пожара  Фиксики в КидБурге  Городе профессий  http://bit.ly/2SeLX8MПодпишись на канал https://www.youtube.com/c/PomogatorTV ЖМИ НА КОЛОКОЛЬЧИК , чтобы не пропустить ни одной серии любимых мультфильмовФиксики в YouTube Детям  https://ytkids.app.goo.gl/cx9u Сайт Фиксиков  http://fixiki.ru/ \"Фиксиклуб\"  развивающие игры с фиксиками  http://www.fixiclub.ru ПОДПИШИСЬ на наши каналы  Фиксики  канал YouTube  https://www.youtube.com/fixiki Помогатор  https://www.youtube.com/PomogatorTV Фиксикраски  https://bit.ly/FixikiPaints Фиксики Новый Канал https://bit.ly/FixikiAllEps Фиксики на всех языках:ITА https://bit.ly/LosFixisUA https://bit.ly/FixikiUARUS  https://www.youtube.com/fixiki RO   https://bit.ly/FixikiROMDie Fixies Фиксиләр  https://bit.ly/ФиксиләрDie Fixies  https://bit.ly/DieFixiesEN  https://bit.ly/TheFixiesФиксики в смартфоне iOS https://bit.ly/FixikiIOS iTunes https://bit.ly/FixikiiTunes Android https://bit.ly/FixikiAndroidФиксики в соц.сетях:Группа мультсериала \"Фиксики\" В Контакте  http://vk.com/fixikiFacebook  http://www.facebook.com/fixikiTwitter  https://twitter.com/2fixikaInstagram  https://www.instagram.com/fixikiofficial   \n",
       "\n",
       "                                             url  \n",
       "273  https://www.youtube.com/watch?v=DlvdGxVeeW4  "
      ]
     },
     "execution_count": 155,
     "metadata": {},
     "output_type": "execute_result"
    }
   ],
   "source": [
    "word_list = ['фиксик', 'Fixies']\n",
    "\n",
    "stop_words = [\n",
    "\n",
    "    'караоке',\n",
    "    'lieblingslieder',\n",
    "    'Kids Songs',  'Kind songs', 'childrens songs', 'childrens song', 'Canciones',\n",
    "    'The Fixies Bang', 'drummers', 'festival'\n",
    "]\n",
    "\n",
    "# Создаем паттерны для поиска слов (ключевые слова и стоп-слова)\n",
    "# Не экранируем пробелы, так как регулярное выражение их обработает\n",
    "pattern = '|'.join(map(lambda word: word.lower(), word_list))\n",
    "stop_pattern = '|'.join(map(lambda word: word.lower(), stop_words))\n",
    "\n",
    "# print(stop_words)\n",
    "\n",
    "# Преобразуем списки слов в регулярные выражения\n",
    "word_list_regex = '|'.join([f'\\\\b{word.lower()}\\\\b' for word in word_list])  # Для поиска слов целиком\n",
    "stop_words_regex = '|'.join([f'{stop_word.lower()}' for stop_word in stop_words])\n",
    "\n",
    "print(stop_words_regex)\n",
    "\n",
    "# Преобразуем списки слов в регулярные выражения (без границ слова)\n",
    "# word_list_regex = '|'.join([word.lower() for word in word_list])  # Поиск подстрок\n",
    "# stop_words_regex = '|'.join([stop_word.lower() for stop_word in stop_words])\n",
    "\n",
    "\n",
    "# Применяем фильтрацию\n",
    "dtr[\n",
    "    (dtr.cartoon == 'none') &\n",
    "    (dtr.text.fillna('').astype(str).str.lower().str.contains(word_list_regex)) &  # Любое из слов из word_list\n",
    "    (~dtr.text.fillna('').astype(str).str.lower().str.contains(stop_words_regex))  # Отсутствие слов из stop_words\n",
    "][['cartoon', 'yt_channel_name', 'text', 'url']][:1]\n"
   ]
  },
  {
   "cell_type": "code",
   "execution_count": 156,
   "id": "baeef50b",
   "metadata": {},
   "outputs": [
    {
     "data": {
      "text/plain": [
       "cartoon\n",
       "Фиксики    143\n",
       "none        11\n",
       "Name: count, dtype: int64"
      ]
     },
     "metadata": {},
     "output_type": "display_data"
    },
    {
     "data": {
      "text/plain": [
       "(154,)"
      ]
     },
     "metadata": {},
     "output_type": "display_data"
    },
    {
     "name": "stdout",
     "output_type": "stream",
     "text": [
      "\n"
     ]
    },
    {
     "data": {
      "text/plain": [
       "(151, 16)"
      ]
     },
     "execution_count": 156,
     "metadata": {},
     "output_type": "execute_result"
    }
   ],
   "source": [
    "ddd = \\\n",
    "dtr[\n",
    "#     (dtr.cartoon == 'none') & \n",
    "    (dtr.reel_name.fillna('').astype(str).str.lower().str.contains(pattern, na=False))\n",
    " & ~(dtr.text.fillna('').astype(str).str.lower().str.contains(stop_words_regex, na=False))\n",
    "][['cartoon','text']]\n",
    "\n",
    "display(ddd['cartoon'].value_counts())\n",
    "display(ddd['cartoon'].shape)\n",
    "print()\n",
    "dtr[dtr.cartoon == target].shape"
   ]
  },
  {
   "cell_type": "markdown",
   "id": "1e1354e5",
   "metadata": {},
   "source": [
    "Непонятна логика разметки. В класс попадают как песенки с Фикисками, так и не попадают другие экземпляры- такие же песенки.\n",
    "\n",
    "Имеем ошибку"
   ]
  },
  {
   "cell_type": "code",
   "execution_count": 158,
   "id": "1d2019de-72fd-402f-9dbc-501fa5402a64",
   "metadata": {},
   "outputs": [],
   "source": [
    "meth['stop_words_regex']=\\\n",
    "\"\"\"\n",
    "stop_words_regex = '|'.join([f'{stop_word.lower()}' for stop_word in stop_words])\n",
    "\"\"\""
   ]
  },
  {
   "cell_type": "code",
   "execution_count": 159,
   "id": "0e9f51a0-0a50-4840-9b97-288ab49d5a88",
   "metadata": {},
   "outputs": [],
   "source": [
    "meth['reel_and_not_text']=\\\n",
    "\"\"\"\n",
    "   (dtr.reel_name.fillna('').astype(str).str.lower().str.contains(pattern, na=False))\n",
    "& ~(dtr.text.fillna('').astype(str).str.lower().str.contains(stop_words_regex, na=False))\n",
    "\"\"\""
   ]
  },
  {
   "cell_type": "code",
   "execution_count": 160,
   "id": "c3713eb4",
   "metadata": {},
   "outputs": [],
   "source": [
    "d['Фиксики'] = {\n",
    "\n",
    "'order':1,\n",
    "'meth':'reel_and_not_text',\n",
    "'pattern':'pattern',\n",
    "'stop_pattern':'stop_words_regex',\n",
    "'method':\n",
    "  {\n",
    "    'reel_name': {'any_word_list' : ['фиксик', 'Fixies'],\n",
    "                  'all_word_list':None,\n",
    "                  'stop_any' : None\n",
    "                 },\n",
    "    'text'     : {'any_word_list':None, 'all_word_list':None, 'stop_any' : [\n",
    "                                'караоке',\n",
    "                                'lieblingslieder',\n",
    "                                'Kids Songs',  'Kind songs', 'childrens songs', 'childrens song', 'Canciones',\n",
    "                                'The Fixies Bang', 'drummers', 'festival'\n",
    "                                                        ]\n",
    "                 },\n",
    "    'yt_channel_name' : None,\n",
    "    'is_shorts' : None # value_for_filter (0/1, default=None)\n",
    "  },\n",
    "'comment': 'обработка по имени. минус стоп слова из текста. неоднозначная разметка (песенки/непесенки)'\n",
    "}"
   ]
  },
  {
   "cell_type": "markdown",
   "id": "9466c4d6-2819-4717-b7ae-b357f52f4d8e",
   "metadata": {},
   "source": [
    "## Чик-Чирикино"
   ]
  },
  {
   "cell_type": "code",
   "execution_count": 162,
   "id": "fd0421c1-dea3-439b-a53b-5853bebe0bbc",
   "metadata": {},
   "outputs": [
    {
     "data": {
      "text/plain": [
       "cartoon\n",
       "Фиксики         0.001810\n",
       "Чик-Чирикино    0.001642\n",
       "Сумка           0.001607\n",
       "Name: proportion, dtype: float64"
      ]
     },
     "metadata": {},
     "output_type": "display_data"
    }
   ],
   "source": [
    "display(dtr.cartoon.value_counts(normalize=True)[10:13])\n",
    "target = 'Чик-Чирикино'\n",
    "# dtr[dtr.cartoon == target][['text']][:2]"
   ]
  },
  {
   "cell_type": "code",
   "execution_count": 163,
   "id": "82e35e85-0173-484e-87da-8aef588749da",
   "metadata": {},
   "outputs": [
    {
     "data": {
      "text/html": [
       "<div>\n",
       "<style scoped>\n",
       "    .dataframe tbody tr th:only-of-type {\n",
       "        vertical-align: middle;\n",
       "    }\n",
       "\n",
       "    .dataframe tbody tr th {\n",
       "        vertical-align: top;\n",
       "    }\n",
       "\n",
       "    .dataframe thead th {\n",
       "        text-align: right;\n",
       "    }\n",
       "</style>\n",
       "<table border=\"1\" class=\"dataframe\">\n",
       "  <thead>\n",
       "    <tr style=\"text-align: right;\">\n",
       "      <th></th>\n",
       "      <th>cartoon</th>\n",
       "      <th>yt_channel_name</th>\n",
       "      <th>text</th>\n",
       "      <th>url</th>\n",
       "      <th>language</th>\n",
       "    </tr>\n",
       "  </thead>\n",
       "  <tbody>\n",
       "  </tbody>\n",
       "</table>\n",
       "</div>"
      ],
      "text/plain": [
       "Empty DataFrame\n",
       "Columns: [cartoon, yt_channel_name, text, url, language]\n",
       "Index: []"
      ]
     },
     "execution_count": 163,
     "metadata": {},
     "output_type": "execute_result"
    }
   ],
   "source": [
    "word_list = ['ЧикЧирикино']\n",
    "\n",
    "stop_words = ['песенки', 'караоке', 'премьера', 'поздравл']\n",
    "\n",
    "# Преобразуем слова в нижний регистр и экранируем\n",
    "pattern = '|'.join(map(lambda word: re.escape(word.lower()), word_list))\n",
    "\n",
    "# Преобразуем слова в нижний регистр и экранируем, заменяя пробелы на '\\s'\n",
    "# stop_pattern = '|'.join(map(lambda word: re.escape(word.lower()).replace(r'\\ ', r'\\s'), stop_words))\n",
    "stop_pattern = '|'.join(map(lambda word: word.lower(), stop_words))\n",
    "\n",
    "\n",
    "dtr[(dtr.cartoon == target) \n",
    "  & ~(dtr.text.fillna('').astype(str).str.lower().str.contains(pattern, na=False)) \n",
    "][['cartoon','yt_channel_name','text','url','language']].head(10)"
   ]
  },
  {
   "cell_type": "code",
   "execution_count": 164,
   "id": "4b8dabc8-7238-4d7c-a4a6-67a6a7756c09",
   "metadata": {},
   "outputs": [
    {
     "name": "stdout",
     "output_type": "stream",
     "text": [
      "чикчирикино\n",
      "песенки|караоке|премьера|поздравл|фикси советы|смешарики|маша и медведь|сказочный патруль|сказочного патруля|спайдермен|чаггингтон|мимимишки|лео и тиг|кукутиками|кукутики\n"
     ]
    },
    {
     "data": {
      "text/html": [
       "<div>\n",
       "<style scoped>\n",
       "    .dataframe tbody tr th:only-of-type {\n",
       "        vertical-align: middle;\n",
       "    }\n",
       "\n",
       "    .dataframe tbody tr th {\n",
       "        vertical-align: top;\n",
       "    }\n",
       "\n",
       "    .dataframe thead th {\n",
       "        text-align: right;\n",
       "    }\n",
       "</style>\n",
       "<table border=\"1\" class=\"dataframe\">\n",
       "  <thead>\n",
       "    <tr style=\"text-align: right;\">\n",
       "      <th></th>\n",
       "      <th>cartoon</th>\n",
       "      <th>yt_channel_name</th>\n",
       "      <th>text</th>\n",
       "      <th>url</th>\n",
       "      <th>seconds</th>\n",
       "    </tr>\n",
       "  </thead>\n",
       "  <tbody>\n",
       "  </tbody>\n",
       "</table>\n",
       "</div>"
      ],
      "text/plain": [
       "Empty DataFrame\n",
       "Columns: [cartoon, yt_channel_name, text, url, seconds]\n",
       "Index: []"
      ]
     },
     "execution_count": 164,
     "metadata": {},
     "output_type": "execute_result"
    }
   ],
   "source": [
    "stop_words = ['песенки', 'караоке', 'премьера', 'поздравл',\n",
    "              'Фикси советы', 'Смешарики', 'Маша и Медведь', 'сказочный патруль', 'Сказочного патруля',\n",
    "              'Спайдермен', 'Чаггингтон', 'Мимимишки', 'Лео и Тиг', 'Кукутиками', 'Кукутики',\n",
    "             ]\n",
    "\n",
    "# Создаем паттерны для поиска слов (ключевые слова и стоп-слова)\n",
    "# Не экранируем пробелы, так как регулярное выражение их обработает\n",
    "pattern = '|'.join(map(lambda word: word.lower(), word_list))\n",
    "stop_pattern = '&'.join(map(lambda word: word.lower(), stop_words))\n",
    "\n",
    "# Преобразуем списки слов в регулярные выражения (без границ слова)\n",
    "word_list_regex = '|'.join([word.lower() for word in word_list])  # Поиск подстрок\n",
    "stop_words_regex = '|'.join([stop_word.lower() for stop_word in stop_words])\n",
    "\n",
    "print(word_list_regex)\n",
    "print(stop_words_regex)\n",
    "\n",
    "# Применяем фильтрацию\n",
    "dtr[\n",
    "    (dtr.cartoon == 'none') &\n",
    "    (dtr.text.fillna('').astype(str).str.lower().str.contains(word_list_regex)) &  # Любое из слов из word_list\n",
    "    (~dtr.text.fillna('').astype(str).str.lower().str.contains(stop_words_regex))  # Отсутствие слов из stop_words\n",
    "][['cartoon', 'yt_channel_name', 'text', 'url','seconds']][:20]"
   ]
  },
  {
   "cell_type": "code",
   "execution_count": 165,
   "id": "82c59c97",
   "metadata": {},
   "outputs": [
    {
     "data": {
      "text/plain": [
       "cartoon\n",
       "Чик-Чирикино    137\n",
       "Name: count, dtype: int64"
      ]
     },
     "metadata": {},
     "output_type": "display_data"
    },
    {
     "data": {
      "text/plain": [
       "(137,)"
      ]
     },
     "metadata": {},
     "output_type": "display_data"
    },
    {
     "name": "stdout",
     "output_type": "stream",
     "text": [
      "\n"
     ]
    },
    {
     "data": {
      "text/plain": [
       "(137, 16)"
      ]
     },
     "execution_count": 165,
     "metadata": {},
     "output_type": "execute_result"
    }
   ],
   "source": [
    "ddd = \\\n",
    "dtr[\n",
    "    (dtr.reel_name.fillna('').astype(str).str.lower().str.contains(pattern, na=False))\n",
    "][['cartoon','text']]\n",
    "\n",
    "display(ddd['cartoon'].value_counts())\n",
    "display(ddd['cartoon'].shape)\n",
    "print()\n",
    "dtr[dtr.cartoon == target].shape"
   ]
  },
  {
   "cell_type": "markdown",
   "id": "59e22778",
   "metadata": {},
   "source": [
    "Четкое совпадение"
   ]
  },
  {
   "cell_type": "code",
   "execution_count": 167,
   "id": "0a0e9d45",
   "metadata": {},
   "outputs": [],
   "source": [
    "d['Чик-Чирикино'] = {\n",
    "\n",
    "'order':0,\n",
    "'meth': 'reel_name_only',\n",
    "'pattern': 'pattern',\n",
    "'stop_pattern': None,\n",
    "'method':\n",
    "  {\n",
    "    'reel_name': {'any_word_list' : ['ЧикЧирикино'],\n",
    "                  'all_word_list':None,\n",
    "                  'stop_any' : None\n",
    "                 },\n",
    "    'text'     : None,\n",
    "    'yt_channel_name' : None,\n",
    "    'is_shorts' : None # value_for_filter (0/1, default=None)\n",
    "  },\n",
    "'comment': 'обработка по имени'\n",
    "}"
   ]
  },
  {
   "cell_type": "markdown",
   "id": "0a9644ff-32a9-4588-82c3-5e84946d0e94",
   "metadata": {},
   "source": [
    "## Черепашки Ниндзя"
   ]
  },
  {
   "cell_type": "code",
   "execution_count": 169,
   "id": "0b641869-9c82-4715-84ff-6bf2c459d5bc",
   "metadata": {},
   "outputs": [
    {
     "data": {
      "text/plain": [
       "cartoon\n",
       "Чик-Чирикино        0.001642\n",
       "Сумка               0.001607\n",
       "Черепашки Ниндзя    0.001247\n",
       "Name: proportion, dtype: float64"
      ]
     },
     "metadata": {},
     "output_type": "display_data"
    }
   ],
   "source": [
    "display(dtr.cartoon.value_counts(normalize=True)[11:14])\n",
    "target = 'Черепашки Ниндзя'\n",
    "# dtr[dtr.cartoon == target][['text']][:2]"
   ]
  },
  {
   "cell_type": "code",
   "execution_count": 170,
   "id": "5e6d95d4-c510-447b-ba1a-80ba19db37a8",
   "metadata": {},
   "outputs": [
    {
     "data": {
      "text/html": [
       "<div>\n",
       "<style scoped>\n",
       "    .dataframe tbody tr th:only-of-type {\n",
       "        vertical-align: middle;\n",
       "    }\n",
       "\n",
       "    .dataframe tbody tr th {\n",
       "        vertical-align: top;\n",
       "    }\n",
       "\n",
       "    .dataframe thead th {\n",
       "        text-align: right;\n",
       "    }\n",
       "</style>\n",
       "<table border=\"1\" class=\"dataframe\">\n",
       "  <thead>\n",
       "    <tr style=\"text-align: right;\">\n",
       "      <th></th>\n",
       "      <th>cartoon</th>\n",
       "      <th>yt_channel_name</th>\n",
       "      <th>text</th>\n",
       "      <th>url</th>\n",
       "      <th>language</th>\n",
       "    </tr>\n",
       "  </thead>\n",
       "  <tbody>\n",
       "  </tbody>\n",
       "</table>\n",
       "</div>"
      ],
      "text/plain": [
       "Empty DataFrame\n",
       "Columns: [cartoon, yt_channel_name, text, url, language]\n",
       "Index: []"
      ]
     },
     "execution_count": 170,
     "metadata": {},
     "output_type": "execute_result"
    }
   ],
   "source": [
    "word_list = ['Черепашекниндзя','Черепашкининдзя']\n",
    "\n",
    "stop_words = ['песенки', 'караоке',]\n",
    "\n",
    "# Преобразуем слова в нижний регистр и экранируем\n",
    "pattern = '|'.join(map(lambda word: re.escape(word.lower()), word_list))\n",
    "\n",
    "# Преобразуем слова в нижний регистр и экранируем, заменяя пробелы на '\\s'\n",
    "# stop_pattern = '|'.join(map(lambda word: re.escape(word.lower()).replace(r'\\ ', r'\\s'), stop_words))\n",
    "stop_pattern = '|'.join(map(lambda word: word.lower(), stop_words))\n",
    "\n",
    "\n",
    "dtr[(dtr.cartoon == target) \n",
    "  & ~(dtr.text.fillna('').astype(str).str.lower().str.contains(pattern, na=False)) \n",
    "][['cartoon','yt_channel_name','text','url','language']].head(10)"
   ]
  },
  {
   "cell_type": "code",
   "execution_count": 171,
   "id": "5f44116f-6205-4b6d-8f41-ec01f24a8567",
   "metadata": {},
   "outputs": [
    {
     "name": "stdout",
     "output_type": "stream",
     "text": [
      "черепашекниндзя|черепашкининдзя\n",
      "\n"
     ]
    },
    {
     "data": {
      "text/html": [
       "<div>\n",
       "<style scoped>\n",
       "    .dataframe tbody tr th:only-of-type {\n",
       "        vertical-align: middle;\n",
       "    }\n",
       "\n",
       "    .dataframe tbody tr th {\n",
       "        vertical-align: top;\n",
       "    }\n",
       "\n",
       "    .dataframe thead th {\n",
       "        text-align: right;\n",
       "    }\n",
       "</style>\n",
       "<table border=\"1\" class=\"dataframe\">\n",
       "  <thead>\n",
       "    <tr style=\"text-align: right;\">\n",
       "      <th></th>\n",
       "      <th>cartoon</th>\n",
       "      <th>yt_channel_name</th>\n",
       "      <th>text</th>\n",
       "      <th>url</th>\n",
       "      <th>seconds</th>\n",
       "    </tr>\n",
       "  </thead>\n",
       "  <tbody>\n",
       "  </tbody>\n",
       "</table>\n",
       "</div>"
      ],
      "text/plain": [
       "Empty DataFrame\n",
       "Columns: [cartoon, yt_channel_name, text, url, seconds]\n",
       "Index: []"
      ]
     },
     "execution_count": 171,
     "metadata": {},
     "output_type": "execute_result"
    }
   ],
   "source": [
    "word_list = ['Черепашекниндзя','Черепашкининдзя']\n",
    "\n",
    "stop_words = []\n",
    "\n",
    "# Создаем паттерны для поиска слов (ключевые слова и стоп-слова)\n",
    "# Не экранируем пробелы, так как регулярное выражение их обработает\n",
    "pattern = '|'.join(map(lambda word: word.lower(), word_list))\n",
    "stop_pattern = '&'.join(map(lambda word: word.lower(), stop_words))\n",
    "\n",
    "# Преобразуем списки слов в регулярные выражения (без границ слова)\n",
    "word_list_regex = '|'.join([word.lower() for word in word_list])  # Поиск подстрок\n",
    "stop_words_regex = '|'.join([stop_word.lower() for stop_word in stop_words])\n",
    "\n",
    "print(word_list_regex)\n",
    "print(stop_words_regex)\n",
    "\n",
    "# Применяем фильтрацию\n",
    "dtr[\n",
    "    (dtr.cartoon == 'none') &\n",
    "    (dtr.text.fillna('').astype(str).str.lower().str.contains(word_list_regex)) &  # Любое из слов из word_list\n",
    "    (~dtr.text.fillna('').astype(str).str.lower().str.contains(stop_words_regex))  # Отсутствие слов из stop_words\n",
    "][['cartoon', 'yt_channel_name', 'text', 'url','seconds']][:20]"
   ]
  },
  {
   "cell_type": "code",
   "execution_count": 172,
   "id": "9e4a5c99",
   "metadata": {},
   "outputs": [
    {
     "data": {
      "text/plain": [
       "cartoon\n",
       "Черепашки Ниндзя    104\n",
       "Name: count, dtype: int64"
      ]
     },
     "metadata": {},
     "output_type": "display_data"
    },
    {
     "data": {
      "text/plain": [
       "(104,)"
      ]
     },
     "metadata": {},
     "output_type": "display_data"
    },
    {
     "name": "stdout",
     "output_type": "stream",
     "text": [
      "\n"
     ]
    },
    {
     "data": {
      "text/plain": [
       "(104, 16)"
      ]
     },
     "execution_count": 172,
     "metadata": {},
     "output_type": "execute_result"
    }
   ],
   "source": [
    "ddd = \\\n",
    "dtr[\n",
    "    (dtr.reel_name.fillna('').astype(str).str.lower().str.contains(pattern, na=False))\n",
    "][['cartoon','text']]\n",
    "\n",
    "display(ddd['cartoon'].value_counts())\n",
    "display(ddd['cartoon'].shape)\n",
    "print()\n",
    "dtr[dtr.cartoon == target].shape"
   ]
  },
  {
   "cell_type": "markdown",
   "id": "cdacab76",
   "metadata": {},
   "source": [
    "Четкое совпадение"
   ]
  },
  {
   "cell_type": "code",
   "execution_count": 174,
   "id": "2390b527",
   "metadata": {},
   "outputs": [],
   "source": [
    "d['Черепашки Ниндзя'] = {\n",
    "\n",
    "'order':0,\n",
    "'meth': 'reel_name_only',\n",
    "'pattern': 'pattern',\n",
    "'stop_pattern': None,\n",
    "'method':\n",
    "  {\n",
    "    'reel_name': {'any_word_list' : ['Черепашекниндзя','Черепашкининдзя'],\n",
    "                  'all_word_list':None,\n",
    "                  'stop_any' : None\n",
    "                 },\n",
    "    'text'     : None,\n",
    "    'yt_channel_name' : None,\n",
    "    'is_shorts' : None # value_for_filter (0/1, default=None)\n",
    "  },\n",
    "'comment': 'обработка по имени'\n",
    "}"
   ]
  },
  {
   "cell_type": "markdown",
   "id": "a5425d26-b462-467b-bc64-afb9d2368edb",
   "metadata": {},
   "source": [
    "## Сумка"
   ]
  },
  {
   "cell_type": "code",
   "execution_count": 176,
   "id": "239e4b5b-e9cb-4a1c-a35c-8135ca102d1f",
   "metadata": {},
   "outputs": [
    {
     "data": {
      "text/plain": [
       "cartoon\n",
       "Сумка               0.001607\n",
       "Черепашки Ниндзя    0.001247\n",
       "Чуддики             0.001031\n",
       "Name: proportion, dtype: float64"
      ]
     },
     "metadata": {},
     "output_type": "display_data"
    },
    {
     "data": {
      "text/html": [
       "<div>\n",
       "<style scoped>\n",
       "    .dataframe tbody tr th:only-of-type {\n",
       "        vertical-align: middle;\n",
       "    }\n",
       "\n",
       "    .dataframe tbody tr th {\n",
       "        vertical-align: top;\n",
       "    }\n",
       "\n",
       "    .dataframe thead th {\n",
       "        text-align: right;\n",
       "    }\n",
       "</style>\n",
       "<table border=\"1\" class=\"dataframe\">\n",
       "  <thead>\n",
       "    <tr style=\"text-align: right;\">\n",
       "      <th></th>\n",
       "      <th>text</th>\n",
       "    </tr>\n",
       "  </thead>\n",
       "  <tbody>\n",
       "    <tr>\n",
       "      <th>86</th>\n",
       "      <td>[Смарта и Чудосумка  На краю земли  Развивающий мультфильм для детей] В новой серии Смарта и её навигатор Хэй захотели побывать на краю земли. Все началось с того, что Смарте позвонила её подруга Амалия и очень удивила подругу тем, что у неё день и лето, а у Смарты в то же время ночь и зима. Как так получилось Может быть, Амалия находится там, где все наоборот Солнце встает в одной стороне, а садится в другой. Значит, нужно добраться до края Земли и посмотреть, что там. Развивающие мультики \"Смарта\" для самых маленьких о приключениях девочки Смарты, песика Спотти и их друзей. Они помогают окружающим вместе с юными зрителями, которые принимают активное участие в приключениях, а еще учат английский, запоминают новые слова, учатся считать и многое другоеНаш канал: http://www.youtube.com/user/TeremokSchool Смотри все серии сразу: http://bit.ly/katyaandefplaylistИстория изобретений: http://bit.ly/HistoryoinventionsГора Самоцветов: http://bit.ly/GoraSamotcvetov Домики: http://bit.ly/domikiplaylist Четверо в кубе: http://bit.ly/4cubeplaylist Волшебный фонарь: http://bit.ly/fonarvse Фиксология http://bit.ly/fixsologia</td>\n",
       "    </tr>\n",
       "  </tbody>\n",
       "</table>\n",
       "</div>"
      ],
      "text/plain": [
       "                                                                                                                                                                                                                                                                                                                                                                                                                                                                                                                                                                                                                                                                                                                                                                                                                                                                                                                                                                                                                                                                                                                                                                       text\n",
       "86  [Смарта и Чудосумка  На краю земли  Развивающий мультфильм для детей] В новой серии Смарта и её навигатор Хэй захотели побывать на краю земли. Все началось с того, что Смарте позвонила её подруга Амалия и очень удивила подругу тем, что у неё день и лето, а у Смарты в то же время ночь и зима. Как так получилось Может быть, Амалия находится там, где все наоборот Солнце встает в одной стороне, а садится в другой. Значит, нужно добраться до края Земли и посмотреть, что там. Развивающие мультики \"Смарта\" для самых маленьких о приключениях девочки Смарты, песика Спотти и их друзей. Они помогают окружающим вместе с юными зрителями, которые принимают активное участие в приключениях, а еще учат английский, запоминают новые слова, учатся считать и многое другоеНаш канал: http://www.youtube.com/user/TeremokSchool Смотри все серии сразу: http://bit.ly/katyaandefplaylistИстория изобретений: http://bit.ly/HistoryoinventionsГора Самоцветов: http://bit.ly/GoraSamotcvetov Домики: http://bit.ly/domikiplaylist Четверо в кубе: http://bit.ly/4cubeplaylist Волшебный фонарь: http://bit.ly/fonarvse Фиксология http://bit.ly/fixsologia"
      ]
     },
     "execution_count": 176,
     "metadata": {},
     "output_type": "execute_result"
    }
   ],
   "source": [
    "display(dtr.cartoon.value_counts(normalize=True)[12:15])\n",
    "target = 'Сумка'\n",
    "dtr[dtr.cartoon == target][['text']][:1]"
   ]
  },
  {
   "cell_type": "code",
   "execution_count": 177,
   "id": "cec9883a-18a3-474d-adc6-7f7187189c34",
   "metadata": {},
   "outputs": [
    {
     "data": {
      "text/html": [
       "<div>\n",
       "<style scoped>\n",
       "    .dataframe tbody tr th:only-of-type {\n",
       "        vertical-align: middle;\n",
       "    }\n",
       "\n",
       "    .dataframe tbody tr th {\n",
       "        vertical-align: top;\n",
       "    }\n",
       "\n",
       "    .dataframe thead th {\n",
       "        text-align: right;\n",
       "    }\n",
       "</style>\n",
       "<table border=\"1\" class=\"dataframe\">\n",
       "  <thead>\n",
       "    <tr style=\"text-align: right;\">\n",
       "      <th></th>\n",
       "      <th>cartoon</th>\n",
       "      <th>yt_channel_name</th>\n",
       "      <th>text</th>\n",
       "      <th>url</th>\n",
       "      <th>language</th>\n",
       "    </tr>\n",
       "  </thead>\n",
       "  <tbody>\n",
       "    <tr>\n",
       "      <th>15635</th>\n",
       "      <td>Сумка</td>\n",
       "      <td>Mister Max</td>\n",
       "      <td>[То чего Вы не видели ранее  наши ЛИЧНЫЕ вещи / Игрушки в сумках и 200 любимых Hot Wheels] Все Видео Канала Mister Max:https://www.youtube.com/channel/UC8PAD0Qmi6gpe77S1Atgg/videosСпасибо, что смотрите мое видео Ставьте лайки Подписывайтесь на мой канал https://www.youtube.com/channel/UC8PAD0Qmi6gpe77S1Atgg/feedviewaspublicКанал моей сестренки Miss Katy  https://www.youtube.com/channel/UCcartHVtvAUzfajflyeTGgПартнерка как у меня http://www.air.io/pageid1432aff1031</td>\n",
       "      <td>https://www.youtube.com/watch?v=I6SnhC7EfiU</td>\n",
       "      <td>-1</td>\n",
       "    </tr>\n",
       "  </tbody>\n",
       "</table>\n",
       "</div>"
      ],
      "text/plain": [
       "      cartoon yt_channel_name  \\\n",
       "15635   Сумка      Mister Max   \n",
       "\n",
       "                                                                                                                                                                                                                                                                                                                                                                                                                                                                                       text  \\\n",
       "15635  [То чего Вы не видели ранее  наши ЛИЧНЫЕ вещи / Игрушки в сумках и 200 любимых Hot Wheels] Все Видео Канала Mister Max:https://www.youtube.com/channel/UC8PAD0Qmi6gpe77S1Atgg/videosСпасибо, что смотрите мое видео Ставьте лайки Подписывайтесь на мой канал https://www.youtube.com/channel/UC8PAD0Qmi6gpe77S1Atgg/feedviewaspublicКанал моей сестренки Miss Katy  https://www.youtube.com/channel/UCcartHVtvAUzfajflyeTGgПартнерка как у меня http://www.air.io/pageid1432aff1031   \n",
       "\n",
       "                                               url language  \n",
       "15635  https://www.youtube.com/watch?v=I6SnhC7EfiU       -1  "
      ]
     },
     "execution_count": 177,
     "metadata": {},
     "output_type": "execute_result"
    }
   ],
   "source": [
    "word_list = ['Чудосумка',\n",
    "             # 'сумка'\n",
    "            ]\n",
    "\n",
    "stop_words = ['песенки', 'караоке',]\n",
    "\n",
    "# Преобразуем слова в нижний регистр и экранируем\n",
    "pattern = '|'.join(map(lambda word: re.escape(word.lower()), word_list))\n",
    "\n",
    "# Преобразуем слова в нижний регистр и экранируем, заменяя пробелы на '\\s'\n",
    "# stop_pattern = '|'.join(map(lambda word: re.escape(word.lower()).replace(r'\\ ', r'\\s'), stop_words))\n",
    "stop_pattern = '|'.join(map(lambda word: word.lower(), stop_words))\n",
    "\n",
    "\n",
    "dtr[(dtr.cartoon == target) \n",
    "  & ~(dtr.text.fillna('').astype(str).str.lower().str.contains(pattern, na=False)) \n",
    "][['cartoon','yt_channel_name','text','url','language']].head(1)"
   ]
  },
  {
   "cell_type": "code",
   "execution_count": 178,
   "id": "265d79d9-389d-4e05-b0ef-0132ae9df0f9",
   "metadata": {},
   "outputs": [
    {
     "name": "stdout",
     "output_type": "stream",
     "text": [
      "чудосумка\n",
      "\n"
     ]
    },
    {
     "data": {
      "text/html": [
       "<div>\n",
       "<style scoped>\n",
       "    .dataframe tbody tr th:only-of-type {\n",
       "        vertical-align: middle;\n",
       "    }\n",
       "\n",
       "    .dataframe tbody tr th {\n",
       "        vertical-align: top;\n",
       "    }\n",
       "\n",
       "    .dataframe thead th {\n",
       "        text-align: right;\n",
       "    }\n",
       "</style>\n",
       "<table border=\"1\" class=\"dataframe\">\n",
       "  <thead>\n",
       "    <tr style=\"text-align: right;\">\n",
       "      <th></th>\n",
       "      <th>cartoon</th>\n",
       "      <th>yt_channel_name</th>\n",
       "      <th>text</th>\n",
       "      <th>url</th>\n",
       "      <th>seconds</th>\n",
       "    </tr>\n",
       "  </thead>\n",
       "  <tbody>\n",
       "  </tbody>\n",
       "</table>\n",
       "</div>"
      ],
      "text/plain": [
       "Empty DataFrame\n",
       "Columns: [cartoon, yt_channel_name, text, url, seconds]\n",
       "Index: []"
      ]
     },
     "execution_count": 178,
     "metadata": {},
     "output_type": "execute_result"
    }
   ],
   "source": [
    "stop_words = []\n",
    "\n",
    "# Создаем паттерны для поиска слов (ключевые слова и стоп-слова)\n",
    "# Не экранируем пробелы, так как регулярное выражение их обработает\n",
    "pattern = '|'.join(map(lambda word: word.lower(), word_list))\n",
    "stop_pattern = '&'.join(map(lambda word: word.lower(), stop_words))\n",
    "\n",
    "# Преобразуем списки слов в регулярные выражения (без границ слова)\n",
    "word_list_regex = '|'.join([word.lower() for word in word_list])  # Поиск подстрок\n",
    "stop_words_regex = '|'.join([stop_word.lower() for stop_word in stop_words])\n",
    "\n",
    "print(word_list_regex)\n",
    "print(stop_words_regex)\n",
    "\n",
    "# Применяем фильтрацию\n",
    "dtr[\n",
    "    (dtr.cartoon == 'none') &\n",
    "    (dtr.text.fillna('').astype(str).str.lower().str.contains(word_list_regex)) &  # Любое из слов из word_list\n",
    "    (~dtr.text.fillna('').astype(str).str.lower().str.contains(stop_words_regex))  # Отсутствие слов из stop_words\n",
    "][['cartoon', 'yt_channel_name', 'text', 'url','seconds']][:20]"
   ]
  },
  {
   "cell_type": "code",
   "execution_count": 179,
   "id": "ef307239",
   "metadata": {},
   "outputs": [
    {
     "data": {
      "text/plain": [
       "cartoon\n",
       "Сумка    133\n",
       "Name: count, dtype: int64"
      ]
     },
     "metadata": {},
     "output_type": "display_data"
    },
    {
     "data": {
      "text/plain": [
       "(133,)"
      ]
     },
     "metadata": {},
     "output_type": "display_data"
    },
    {
     "name": "stdout",
     "output_type": "stream",
     "text": [
      "\n"
     ]
    },
    {
     "data": {
      "text/plain": [
       "(134, 16)"
      ]
     },
     "execution_count": 179,
     "metadata": {},
     "output_type": "execute_result"
    }
   ],
   "source": [
    "ddd = \\\n",
    "dtr[\n",
    "    (dtr.reel_name.fillna('').astype(str).str.lower().str.contains(pattern, na=False))\n",
    "][['cartoon','text']]\n",
    "\n",
    "display(ddd['cartoon'].value_counts())\n",
    "display(ddd['cartoon'].shape)\n",
    "print()\n",
    "dtr[dtr.cartoon == target].shape"
   ]
  },
  {
   "cell_type": "markdown",
   "id": "99cfc40c",
   "metadata": {},
   "source": [
    "Один не поймали"
   ]
  },
  {
   "cell_type": "code",
   "execution_count": 181,
   "id": "8d1307be",
   "metadata": {},
   "outputs": [],
   "source": [
    "d['Сумка'] = {\n",
    "\n",
    "'order':0,\n",
    "'meth': 'reel_name_only',\n",
    "'pattern': 'pattern',\n",
    "'stop_pattern': None,\n",
    "'method':\n",
    "  {\n",
    "    'reel_name': {'any_word_list' : ['Чудосумка'],\n",
    "                  'all_word_list':None,\n",
    "                  'stop_any' : None\n",
    "                 },\n",
    "    'text'     : None,\n",
    "    'yt_channel_name' : None,\n",
    "    'is_shorts' : None # value_for_filter (0/1, default=None)\n",
    "  },\n",
    "'comment': 'обработка по имени'\n",
    "}"
   ]
  },
  {
   "cell_type": "markdown",
   "id": "85fbe111-3aab-4458-9945-5076f68839d8",
   "metadata": {},
   "source": [
    "## Чуддики"
   ]
  },
  {
   "cell_type": "code",
   "execution_count": 183,
   "id": "2ad482be-7c91-40ac-a05f-2d7eab1e0ca1",
   "metadata": {},
   "outputs": [
    {
     "data": {
      "text/plain": [
       "cartoon\n",
       "Черепашки Ниндзя    0.001247\n",
       "Чуддики             0.001031\n",
       "My little pony      0.000971\n",
       "Name: proportion, dtype: float64"
      ]
     },
     "metadata": {},
     "output_type": "display_data"
    }
   ],
   "source": [
    "display(dtr.cartoon.value_counts(normalize=True)[13:16])\n",
    "target = 'Чуддики'\n",
    "# dtr[dtr.cartoon == target][['text']][:1]"
   ]
  },
  {
   "cell_type": "code",
   "execution_count": 184,
   "id": "b7046f31-22ee-40d0-9fd2-afbe4e7060b4",
   "metadata": {},
   "outputs": [
    {
     "data": {
      "text/html": [
       "<div>\n",
       "<style scoped>\n",
       "    .dataframe tbody tr th:only-of-type {\n",
       "        vertical-align: middle;\n",
       "    }\n",
       "\n",
       "    .dataframe tbody tr th {\n",
       "        vertical-align: top;\n",
       "    }\n",
       "\n",
       "    .dataframe thead th {\n",
       "        text-align: right;\n",
       "    }\n",
       "</style>\n",
       "<table border=\"1\" class=\"dataframe\">\n",
       "  <thead>\n",
       "    <tr style=\"text-align: right;\">\n",
       "      <th></th>\n",
       "      <th>cartoon</th>\n",
       "      <th>yt_channel_name</th>\n",
       "      <th>text</th>\n",
       "      <th>url</th>\n",
       "      <th>language</th>\n",
       "    </tr>\n",
       "  </thead>\n",
       "  <tbody>\n",
       "  </tbody>\n",
       "</table>\n",
       "</div>"
      ],
      "text/plain": [
       "Empty DataFrame\n",
       "Columns: [cartoon, yt_channel_name, text, url, language]\n",
       "Index: []"
      ]
     },
     "execution_count": 184,
     "metadata": {},
     "output_type": "execute_result"
    }
   ],
   "source": [
    "word_list = ['Oddbod','Чуддик']\n",
    "\n",
    "stop_words = ['песенки', 'караоке']\n",
    "\n",
    "# Преобразуем слова в нижний регистр и экранируем\n",
    "pattern = '|'.join(map(lambda word: re.escape(word.lower()), word_list))\n",
    "\n",
    "# Преобразуем слова в нижний регистр и экранируем, заменяя пробелы на '\\s'\n",
    "# stop_pattern = '|'.join(map(lambda word: re.escape(word.lower()).replace(r'\\ ', r'\\s'), stop_words))\n",
    "stop_pattern = '|'.join(map(lambda word: word.lower(), stop_words))\n",
    "\n",
    "\n",
    "dtr[(dtr.cartoon == target) \n",
    "  & ~(dtr.text.fillna('').astype(str).str.lower().str.contains(pattern, na=False)) \n",
    "][['cartoon','yt_channel_name','text','url','language']].head(10)"
   ]
  },
  {
   "cell_type": "code",
   "execution_count": 185,
   "id": "261d8039-ed88-4c79-bf9e-641bdbbe4e48",
   "metadata": {},
   "outputs": [
    {
     "name": "stdout",
     "output_type": "stream",
     "text": [
      "oddbod|чуддик\n",
      "\n"
     ]
    },
    {
     "data": {
      "text/html": [
       "<div>\n",
       "<style scoped>\n",
       "    .dataframe tbody tr th:only-of-type {\n",
       "        vertical-align: middle;\n",
       "    }\n",
       "\n",
       "    .dataframe tbody tr th {\n",
       "        vertical-align: top;\n",
       "    }\n",
       "\n",
       "    .dataframe thead th {\n",
       "        text-align: right;\n",
       "    }\n",
       "</style>\n",
       "<table border=\"1\" class=\"dataframe\">\n",
       "  <thead>\n",
       "    <tr style=\"text-align: right;\">\n",
       "      <th></th>\n",
       "      <th>cartoon</th>\n",
       "      <th>yt_channel_name</th>\n",
       "      <th>text</th>\n",
       "      <th>url</th>\n",
       "      <th>seconds</th>\n",
       "    </tr>\n",
       "  </thead>\n",
       "  <tbody>\n",
       "  </tbody>\n",
       "</table>\n",
       "</div>"
      ],
      "text/plain": [
       "Empty DataFrame\n",
       "Columns: [cartoon, yt_channel_name, text, url, seconds]\n",
       "Index: []"
      ]
     },
     "execution_count": 185,
     "metadata": {},
     "output_type": "execute_result"
    }
   ],
   "source": [
    "stop_words = []\n",
    "\n",
    "# Создаем паттерны для поиска слов (ключевые слова и стоп-слова)\n",
    "# Не экранируем пробелы, так как регулярное выражение их обработает\n",
    "pattern = '|'.join(map(lambda word: word.lower(), word_list))\n",
    "stop_pattern = '&'.join(map(lambda word: word.lower(), stop_words))\n",
    "\n",
    "# Преобразуем списки слов в регулярные выражения (без границ слова)\n",
    "word_list_regex = '|'.join([word.lower() for word in word_list])  # Поиск подстрок\n",
    "stop_words_regex = '|'.join([stop_word.lower() for stop_word in stop_words])\n",
    "\n",
    "print(word_list_regex)\n",
    "print(stop_words_regex)\n",
    "\n",
    "# Применяем фильтрацию\n",
    "dtr[\n",
    "    (dtr.cartoon == 'none') &\n",
    "    (dtr.text.fillna('').astype(str).str.lower().str.contains(word_list_regex)) &  # Любое из слов из word_list\n",
    "    (~dtr.text.fillna('').astype(str).str.lower().str.contains(stop_words_regex))  # Отсутствие слов из stop_words\n",
    "][['cartoon', 'yt_channel_name', 'text', 'url','seconds']][:20]"
   ]
  },
  {
   "cell_type": "code",
   "execution_count": 186,
   "id": "9d25e5ac",
   "metadata": {},
   "outputs": [
    {
     "data": {
      "text/plain": [
       "cartoon\n",
       "Чуддики    86\n",
       "Name: count, dtype: int64"
      ]
     },
     "metadata": {},
     "output_type": "display_data"
    },
    {
     "data": {
      "text/plain": [
       "(86,)"
      ]
     },
     "metadata": {},
     "output_type": "display_data"
    },
    {
     "name": "stdout",
     "output_type": "stream",
     "text": [
      "\n"
     ]
    },
    {
     "data": {
      "text/plain": [
       "(86, 16)"
      ]
     },
     "execution_count": 186,
     "metadata": {},
     "output_type": "execute_result"
    }
   ],
   "source": [
    "ddd = \\\n",
    "dtr[\n",
    "    (dtr.reel_name.fillna('').astype(str).str.lower().str.contains(pattern, na=False))\n",
    "][['cartoon','text']]\n",
    "\n",
    "display(ddd['cartoon'].value_counts())\n",
    "display(ddd['cartoon'].shape)\n",
    "print()\n",
    "dtr[dtr.cartoon == target].shape"
   ]
  },
  {
   "cell_type": "markdown",
   "id": "c4a5d1f3",
   "metadata": {},
   "source": [
    "Всех чудиков поймали"
   ]
  },
  {
   "cell_type": "code",
   "execution_count": 188,
   "id": "edf0b209",
   "metadata": {},
   "outputs": [],
   "source": [
    "d['Чуддики'] = {\n",
    "\n",
    "'order':0,\n",
    "'meth': 'reel_name_only',\n",
    "'pattern': 'pattern',\n",
    "'stop_pattern': None,\n",
    "'method':\n",
    "  {\n",
    "    'reel_name': {'any_word_list' : ['Oddbod','Чуддик'],\n",
    "                  'all_word_list':None,\n",
    "                  'stop_any' : None\n",
    "                 },\n",
    "    'text'     : None,\n",
    "    'yt_channel_name' : None,\n",
    "    'is_shorts' : None # value_for_filter (0/1, default=None)\n",
    "  },\n",
    "'comment': 'обработка по имени'\n",
    "}"
   ]
  },
  {
   "cell_type": "markdown",
   "id": "dfbd0f40-3056-4cfc-9d4e-7a8f9a9b4135",
   "metadata": {},
   "source": [
    "## My little pony"
   ]
  },
  {
   "cell_type": "code",
   "execution_count": 190,
   "id": "c01a3117-1566-4507-b58c-c173bde33ec4",
   "metadata": {},
   "outputs": [
    {
     "data": {
      "text/plain": [
       "cartoon\n",
       "Чуддики           0.001031\n",
       "My little pony    0.000971\n",
       "Свинка Пеппа      0.000827\n",
       "Name: proportion, dtype: float64"
      ]
     },
     "metadata": {},
     "output_type": "display_data"
    }
   ],
   "source": [
    "display(dtr.cartoon.value_counts(normalize=True)[14:17])\n",
    "target = 'My little pony'\n",
    "# dtr[dtr.cartoon == target][['text']][:1]"
   ]
  },
  {
   "cell_type": "code",
   "execution_count": 191,
   "id": "16ec00bd-ba60-4e93-a928-362bc40a588f",
   "metadata": {},
   "outputs": [
    {
     "data": {
      "text/html": [
       "<div>\n",
       "<style scoped>\n",
       "    .dataframe tbody tr th:only-of-type {\n",
       "        vertical-align: middle;\n",
       "    }\n",
       "\n",
       "    .dataframe tbody tr th {\n",
       "        vertical-align: top;\n",
       "    }\n",
       "\n",
       "    .dataframe thead th {\n",
       "        text-align: right;\n",
       "    }\n",
       "</style>\n",
       "<table border=\"1\" class=\"dataframe\">\n",
       "  <thead>\n",
       "    <tr style=\"text-align: right;\">\n",
       "      <th></th>\n",
       "      <th>cartoon</th>\n",
       "      <th>yt_channel_name</th>\n",
       "      <th>text</th>\n",
       "      <th>url</th>\n",
       "      <th>language</th>\n",
       "    </tr>\n",
       "  </thead>\n",
       "  <tbody>\n",
       "  </tbody>\n",
       "</table>\n",
       "</div>"
      ],
      "text/plain": [
       "Empty DataFrame\n",
       "Columns: [cartoon, yt_channel_name, text, url, language]\n",
       "Index: []"
      ]
     },
     "execution_count": 191,
     "metadata": {},
     "output_type": "execute_result"
    }
   ],
   "source": [
    "word_list = ['My little pony',\n",
    "             'Май Литл Пони',\n",
    "             'Мой маленький пони'\n",
    "            ]\n",
    "\n",
    "stop_words = ['песенки', 'караоке',\n",
    "             # 'ПОДАРК'\n",
    "             ]\n",
    "\n",
    "# Преобразуем слова в нижний регистр и экранируем\n",
    "pattern = '|'.join(map(lambda word: re.escape(word.lower()), word_list))\n",
    "\n",
    "# Преобразуем слова в нижний регистр и экранируем, заменяя пробелы на '\\s'\n",
    "# stop_pattern = '|'.join(map(lambda word: re.escape(word.lower()).replace(r'\\ ', r'\\s'), stop_words))\n",
    "stop_pattern = '|'.join(map(lambda word: word.lower(), stop_words))\n",
    "\n",
    "\n",
    "dtr[(dtr.cartoon == target) \n",
    "  # & ~(dtr.text.fillna('').astype(str).str.lower().str.contains(pattern, na=False)) \n",
    "  & ~(dtr.reel_name.fillna('').astype(str).str.lower().str.contains(pattern, na=False)) \n",
    "][['cartoon','yt_channel_name','text','url','language']].head(10)"
   ]
  },
  {
   "cell_type": "code",
   "execution_count": 192,
   "id": "b44ebb33-a0fd-4503-abe5-d948a583157a",
   "metadata": {},
   "outputs": [
    {
     "name": "stdout",
     "output_type": "stream",
     "text": [
      "my little pony|май литл пони|мой маленький пони\n",
      "песенки|караоке|пранк|зарядк|раскрас| здоровье|распаков|мастерклас|готовить|распаков|зоомагазин|капуки кануки|фееринки|эквестр|equestria|сказочный патруль|майнкрафт|игруш|киндер сюрприз|раскраски|раскрась|фиксираскрасок|рисовать|красим|рисуем|лепим\n"
     ]
    },
    {
     "data": {
      "text/html": [
       "<div>\n",
       "<style scoped>\n",
       "    .dataframe tbody tr th:only-of-type {\n",
       "        vertical-align: middle;\n",
       "    }\n",
       "\n",
       "    .dataframe tbody tr th {\n",
       "        vertical-align: top;\n",
       "    }\n",
       "\n",
       "    .dataframe thead th {\n",
       "        text-align: right;\n",
       "    }\n",
       "</style>\n",
       "<table border=\"1\" class=\"dataframe\">\n",
       "  <thead>\n",
       "    <tr style=\"text-align: right;\">\n",
       "      <th></th>\n",
       "      <th>cartoon</th>\n",
       "      <th>yt_channel_name</th>\n",
       "      <th>text</th>\n",
       "      <th>url</th>\n",
       "      <th>seconds</th>\n",
       "    </tr>\n",
       "  </thead>\n",
       "  <tbody>\n",
       "    <tr>\n",
       "      <th>70833</th>\n",
       "      <td>none</td>\n",
       "      <td>Nikol CrazyFamily</td>\n",
       "      <td>[Как ДЕТИ пишут письмо Деду МОРОЗУ  Девочки хотят ПОДАРКИ под елкой на Новый Год] Николь готовится к Новому Году и подарки мы уже выбрали Наши новые маленькие друзья   My Little Pony Ведь дружба  это чудо Хотите себе таких же, скорей по ссылочке https://www.wildberries.ru/brands/mylittlepony/igrushki/igrovyenabory/figurkiigrushkibidc175892547ad449bbe691c24d9a55f82utmsourceYTutmmediumvideoutmcampaignNikolПо рекламе и коммерческим предложениям пишите сюда  nikolwildjam.ruTikTok Николь  idkreallyИНСТАГРАМ Николь    http://bit.ly/2v5TMoKИНСТАГРАМ Моей Сестры   http://bit.ly/2NVo3O3Школа УСПЕШНЫХ ЮТУБ БЛОГЕРОВ  ЗАПИСЫВАЙСЯ  http://bit.ly/2Smbzlf Моя Партнерка MEDIA CUBE  http://bit.ly/2L8a89N</td>\n",
       "      <td>https://www.youtube.com/watch?v=U6Ci8f2mPR4</td>\n",
       "      <td>635.0</td>\n",
       "    </tr>\n",
       "  </tbody>\n",
       "</table>\n",
       "</div>"
      ],
      "text/plain": [
       "      cartoon    yt_channel_name  \\\n",
       "70833    none  Nikol CrazyFamily   \n",
       "\n",
       "                                                                                                                                                                                                                                                                                                                                                                                                                                                                                                                                                                                                                                                                                                                           text  \\\n",
       "70833  [Как ДЕТИ пишут письмо Деду МОРОЗУ  Девочки хотят ПОДАРКИ под елкой на Новый Год] Николь готовится к Новому Году и подарки мы уже выбрали Наши новые маленькие друзья   My Little Pony Ведь дружба  это чудо Хотите себе таких же, скорей по ссылочке https://www.wildberries.ru/brands/mylittlepony/igrushki/igrovyenabory/figurkiigrushkibidc175892547ad449bbe691c24d9a55f82utmsourceYTutmmediumvideoutmcampaignNikolПо рекламе и коммерческим предложениям пишите сюда  nikolwildjam.ruTikTok Николь  idkreallyИНСТАГРАМ Николь    http://bit.ly/2v5TMoKИНСТАГРАМ Моей Сестры   http://bit.ly/2NVo3O3Школа УСПЕШНЫХ ЮТУБ БЛОГЕРОВ  ЗАПИСЫВАЙСЯ  http://bit.ly/2Smbzlf Моя Партнерка MEDIA CUBE  http://bit.ly/2L8a89N   \n",
       "\n",
       "                                               url  seconds  \n",
       "70833  https://www.youtube.com/watch?v=U6Ci8f2mPR4    635.0  "
      ]
     },
     "execution_count": 192,
     "metadata": {},
     "output_type": "execute_result"
    }
   ],
   "source": [
    "stop_words = [\n",
    "              'песенки', 'караоке',\n",
    "              'пранк', 'Зарядк', 'раскрас', ' ЗДОРОВЬЕ', 'РАСПАКОВ', 'мастерклас', 'готовить', 'распаков',\n",
    "              'Зоомагазин', 'Капуки Кануки', 'Фееринки', 'Эквестр', 'Equestria',\n",
    "              'сказочный патруль', \n",
    "              'МАЙНКРАФТ',\n",
    "              'игруш', 'Киндер сюрприз',\n",
    "              'раскраски', 'раскрась', 'фиксираскрасок', 'рисовать', 'красим', 'рисуем', 'лепим',\n",
    "             ]\n",
    "\n",
    "# Создаем паттерны для поиска слов (ключевые слова и стоп-слова)\n",
    "# Не экранируем пробелы, так как регулярное выражение их обработает\n",
    "pattern = '|'.join(map(lambda word: word.lower(), word_list))\n",
    "stop_pattern = '&'.join(map(lambda word: word.lower(), stop_words))\n",
    "\n",
    "# Преобразуем списки слов в регулярные выражения (без границ слова)\n",
    "word_list_regex = '|'.join([word.lower() for word in word_list])  # Поиск подстрок\n",
    "stop_words_regex = '|'.join([stop_word.lower() for stop_word in stop_words])\n",
    "\n",
    "print(word_list_regex)\n",
    "print(stop_words_regex)\n",
    "\n",
    "# Применяем фильтрацию\n",
    "dtr[\n",
    "    (dtr.cartoon == 'none') &\n",
    "    (dtr.text.fillna('').astype(str).str.lower().str.contains(word_list_regex)) &  # Любое из слов из word_list\n",
    "    (~dtr.text.fillna('').astype(str).str.lower().str.contains(stop_words_regex))  # Отсутствие слов из stop_words\n",
    "][['cartoon', 'yt_channel_name', 'text', 'url','seconds']][:20]"
   ]
  },
  {
   "cell_type": "code",
   "execution_count": 193,
   "id": "0722a9a8",
   "metadata": {},
   "outputs": [
    {
     "data": {
      "text/plain": [
       "cartoon\n",
       "My little pony    81\n",
       "Name: count, dtype: int64"
      ]
     },
     "metadata": {},
     "output_type": "display_data"
    },
    {
     "data": {
      "text/plain": [
       "(81,)"
      ]
     },
     "metadata": {},
     "output_type": "display_data"
    },
    {
     "name": "stdout",
     "output_type": "stream",
     "text": [
      "\n"
     ]
    },
    {
     "data": {
      "text/plain": [
       "(81, 16)"
      ]
     },
     "execution_count": 193,
     "metadata": {},
     "output_type": "execute_result"
    }
   ],
   "source": [
    "ddd = \\\n",
    "dtr[\n",
    "    (dtr.reel_name.fillna('').astype(str).str.lower().str.contains(pattern, na=False))\n",
    "][['cartoon','text']]\n",
    "\n",
    "display(ddd['cartoon'].value_counts())\n",
    "display(ddd['cartoon'].shape)\n",
    "print()\n",
    "dtr[dtr.cartoon == target].shape"
   ]
  },
  {
   "cell_type": "code",
   "execution_count": 194,
   "id": "0ab216ae",
   "metadata": {},
   "outputs": [],
   "source": [
    "d['My little pony'] = {\n",
    "\n",
    "'order':0,\n",
    "'meth': 'reel_name_only',\n",
    "'pattern': 'pattern',\n",
    "'stop_pattern': None,\n",
    "'method':\n",
    "  {\n",
    "    'reel_name': {'any_word_list' : ['My little pony',\n",
    "                                     'Май Литл Пони',\n",
    "                                     'Мой маленький пони'],\n",
    "                  'all_word_list':None,\n",
    "                  'stop_any' : None\n",
    "                 },\n",
    "    'text'     : None,\n",
    "    'yt_channel_name' : None,\n",
    "    'is_shorts' : None # value_for_filter (0/1, default=None)\n",
    "  },\n",
    "'comment': 'обработка по имени'\n",
    "}"
   ]
  },
  {
   "cell_type": "markdown",
   "id": "f1b3c5e5-bb0f-4cd4-9254-97c283ae6657",
   "metadata": {},
   "source": [
    "## Свинка Пеппа"
   ]
  },
  {
   "cell_type": "code",
   "execution_count": 196,
   "id": "6431a4c4-2d30-41d7-b839-254911602e89",
   "metadata": {},
   "outputs": [
    {
     "data": {
      "text/plain": [
       "cartoon\n",
       "My little pony    0.000971\n",
       "Свинка Пеппа      0.000827\n",
       "Синий трактор     0.000803\n",
       "Name: proportion, dtype: float64"
      ]
     },
     "metadata": {},
     "output_type": "display_data"
    }
   ],
   "source": [
    "display(dtr.cartoon.value_counts(normalize=True)[15:18])\n",
    "target = 'Свинка Пеппа'\n",
    "# dtr[dtr.cartoon == target][['text']][:1]"
   ]
  },
  {
   "cell_type": "code",
   "execution_count": 197,
   "id": "3bd39a03-ab9d-468c-a80e-2e58e427c14a",
   "metadata": {},
   "outputs": [
    {
     "data": {
      "text/html": [
       "<div>\n",
       "<style scoped>\n",
       "    .dataframe tbody tr th:only-of-type {\n",
       "        vertical-align: middle;\n",
       "    }\n",
       "\n",
       "    .dataframe tbody tr th {\n",
       "        vertical-align: top;\n",
       "    }\n",
       "\n",
       "    .dataframe thead th {\n",
       "        text-align: right;\n",
       "    }\n",
       "</style>\n",
       "<table border=\"1\" class=\"dataframe\">\n",
       "  <thead>\n",
       "    <tr style=\"text-align: right;\">\n",
       "      <th></th>\n",
       "      <th>cartoon</th>\n",
       "      <th>yt_channel_name</th>\n",
       "      <th>text</th>\n",
       "      <th>url</th>\n",
       "      <th>language</th>\n",
       "    </tr>\n",
       "  </thead>\n",
       "  <tbody>\n",
       "  </tbody>\n",
       "</table>\n",
       "</div>"
      ],
      "text/plain": [
       "Empty DataFrame\n",
       "Columns: [cartoon, yt_channel_name, text, url, language]\n",
       "Index: []"
      ]
     },
     "execution_count": 197,
     "metadata": {},
     "output_type": "execute_result"
    }
   ],
   "source": [
    "word_list = ['Свинка Пеппа',\n",
    "             'Peppa Pig',\n",
    "             'Peppa Свинья',\n",
    "             'Свинки Пеппы'\n",
    "            ]\n",
    "\n",
    "stop_words = []\n",
    "\n",
    "# Преобразуем слова в нижний регистр и экранируем\n",
    "pattern = '|'.join(map(lambda word: re.escape(word.lower()), word_list))\n",
    "\n",
    "# Преобразуем слова в нижний регистр и экранируем, заменяя пробелы на '\\s'\n",
    "# stop_pattern = '|'.join(map(lambda word: re.escape(word.lower()).replace(r'\\ ', r'\\s'), stop_words))\n",
    "stop_pattern = '|'.join(map(lambda word: word.lower(), stop_words))\n",
    "\n",
    "\n",
    "dtr[(dtr.cartoon == target) \n",
    "  & ~(dtr.text.fillna('').astype(str).str.lower().str.contains(pattern, na=False)) \n",
    "][['cartoon','yt_channel_name','text','url','language']].head(10)"
   ]
  },
  {
   "cell_type": "code",
   "execution_count": 198,
   "id": "4350e863-d237-43c5-8d4a-36063ef18afc",
   "metadata": {},
   "outputs": [
    {
     "name": "stdout",
     "output_type": "stream",
     "text": [
      "свинка пеппа|peppa pig|peppa свинья|свинки пеппы\n",
      "\n"
     ]
    },
    {
     "data": {
      "text/html": [
       "<div>\n",
       "<style scoped>\n",
       "    .dataframe tbody tr th:only-of-type {\n",
       "        vertical-align: middle;\n",
       "    }\n",
       "\n",
       "    .dataframe tbody tr th {\n",
       "        vertical-align: top;\n",
       "    }\n",
       "\n",
       "    .dataframe thead th {\n",
       "        text-align: right;\n",
       "    }\n",
       "</style>\n",
       "<table border=\"1\" class=\"dataframe\">\n",
       "  <thead>\n",
       "    <tr style=\"text-align: right;\">\n",
       "      <th></th>\n",
       "      <th>cartoon</th>\n",
       "      <th>yt_channel_name</th>\n",
       "      <th>text</th>\n",
       "      <th>url</th>\n",
       "      <th>seconds</th>\n",
       "    </tr>\n",
       "  </thead>\n",
       "  <tbody>\n",
       "  </tbody>\n",
       "</table>\n",
       "</div>"
      ],
      "text/plain": [
       "Empty DataFrame\n",
       "Columns: [cartoon, yt_channel_name, text, url, seconds]\n",
       "Index: []"
      ]
     },
     "execution_count": 198,
     "metadata": {},
     "output_type": "execute_result"
    }
   ],
   "source": [
    "stop_words = [\n",
    "              # 'песенки', 'караоке',\n",
    "              # 'пранк', 'Зарядк', 'раскрас', ' ЗДОРОВЬЕ', 'РАСПАКОВ', 'мастерклас', 'готовить', 'распаков', 'Unboxing',\n",
    "              # 'МАЙНКРАФТ', 'MINECRAFT',\n",
    "              # 'игруш', 'Киндер сюрприз', 'entertainment', 'Playhouse',\n",
    "              # 'раскраски', 'раскрась', 'фиксираскрасок', 'рисовать', 'красим', 'рисуем', 'лепим', 'Учимся',\n",
    "              # 'Диана', 'Diana', 'бетономешалка',\n",
    "              # 'Робокар', 'Руби и ЙоЙо', 'Маленькое королевство Бена и Холли', 'Герои в Масках', 'Супер Крылья', 'Вспыш', 'Старла',\n",
    "              # 'Маша и Медведь', 'сказочный патруль', 'Сказочного патруля', \n",
    "             ]\n",
    "\n",
    "# Создаем паттерны для поиска слов (ключевые слова и стоп-слова)\n",
    "# Не экранируем пробелы, так как регулярное выражение их обработает\n",
    "pattern = '|'.join(map(lambda word: word.lower(), word_list))\n",
    "stop_pattern = '&'.join(map(lambda word: word.lower(), stop_words))\n",
    "\n",
    "# Преобразуем списки слов в регулярные выражения (без границ слова)\n",
    "word_list_regex = '|'.join([word.lower() for word in word_list])  # Поиск подстрок\n",
    "stop_words_regex = '|'.join([stop_word.lower() for stop_word in stop_words])\n",
    "\n",
    "print(word_list_regex)\n",
    "print(stop_words_regex)\n",
    "\n",
    "# Применяем фильтрацию\n",
    "dtr[\n",
    "    (dtr.cartoon == 'none') &\n",
    "    (dtr.text.fillna('').astype(str).str.lower().str.contains(word_list_regex)) &  # Любое из слов из word_list\n",
    "    (~dtr.text.fillna('').astype(str).str.lower().str.contains(stop_words_regex))  # Отсутствие слов из stop_words\n",
    "][['cartoon', 'yt_channel_name', 'text', 'url','seconds']][:20]"
   ]
  },
  {
   "cell_type": "code",
   "execution_count": 199,
   "id": "42b034b9",
   "metadata": {},
   "outputs": [
    {
     "data": {
      "text/plain": [
       "cartoon\n",
       "Свинка Пеппа    69\n",
       "Name: count, dtype: int64"
      ]
     },
     "metadata": {},
     "output_type": "display_data"
    },
    {
     "data": {
      "text/plain": [
       "(69,)"
      ]
     },
     "metadata": {},
     "output_type": "display_data"
    },
    {
     "name": "stdout",
     "output_type": "stream",
     "text": [
      "\n"
     ]
    },
    {
     "data": {
      "text/plain": [
       "(69, 16)"
      ]
     },
     "execution_count": 199,
     "metadata": {},
     "output_type": "execute_result"
    }
   ],
   "source": [
    "ddd = \\\n",
    "dtr[\n",
    "    (dtr.reel_name.fillna('').astype(str).str.lower().str.contains(pattern, na=False))\n",
    "][['cartoon','text']]\n",
    "\n",
    "display(ddd['cartoon'].value_counts())\n",
    "display(ddd['cartoon'].shape)\n",
    "print()\n",
    "dtr[dtr.cartoon == target].shape"
   ]
  },
  {
   "cell_type": "code",
   "execution_count": 200,
   "id": "a67c98c7",
   "metadata": {},
   "outputs": [],
   "source": [
    "d['Свинка Пеппа'] = {\n",
    "\n",
    "'order':0,\n",
    "'meth': 'reel_name_only',\n",
    "'pattern': 'pattern',\n",
    "'stop_pattern': None,\n",
    "'method':\n",
    "  {\n",
    "    'reel_name': {'any_word_list' : ['Свинка Пеппа',\n",
    "                                     'Peppa Pig',\n",
    "                                     'Peppa Свинья',\n",
    "                                     'Свинки Пеппы'],\n",
    "                  'all_word_list':None,\n",
    "                  'stop_any' : None\n",
    "                 },\n",
    "    'text'     : None,\n",
    "    'yt_channel_name' : None,\n",
    "    'is_shorts' : None # value_for_filter (0/1, default=None)\n",
    "  },\n",
    "'comment': 'обработка по имени'\n",
    "}"
   ]
  },
  {
   "cell_type": "markdown",
   "id": "f745180a-5608-43c2-9e32-3f717dd4708a",
   "metadata": {},
   "source": [
    "## Синий трактор"
   ]
  },
  {
   "cell_type": "code",
   "execution_count": 202,
   "id": "d8225a9f-c778-499f-9c2a-93ab6890deaa",
   "metadata": {},
   "outputs": [
    {
     "data": {
      "text/plain": [
       "cartoon\n",
       "Свинка Пеппа      0.000827\n",
       "Синий трактор     0.000803\n",
       "Чучело-Мяучело    0.000767\n",
       "Name: proportion, dtype: float64"
      ]
     },
     "metadata": {},
     "output_type": "display_data"
    }
   ],
   "source": [
    "display(dtr.cartoon.value_counts(normalize=True)[16:19])\n",
    "target = 'Синий трактор'\n",
    "# dtr[dtr.cartoon == target][['yt_channel_name','text']][:1]"
   ]
  },
  {
   "cell_type": "code",
   "execution_count": 203,
   "id": "0d1cd75b-8bd4-4c36-84eb-ad5d61270656",
   "metadata": {},
   "outputs": [
    {
     "data": {
      "text/html": [
       "<div>\n",
       "<style scoped>\n",
       "    .dataframe tbody tr th:only-of-type {\n",
       "        vertical-align: middle;\n",
       "    }\n",
       "\n",
       "    .dataframe tbody tr th {\n",
       "        vertical-align: top;\n",
       "    }\n",
       "\n",
       "    .dataframe thead th {\n",
       "        text-align: right;\n",
       "    }\n",
       "</style>\n",
       "<table border=\"1\" class=\"dataframe\">\n",
       "  <thead>\n",
       "    <tr style=\"text-align: right;\">\n",
       "      <th></th>\n",
       "      <th>cartoon</th>\n",
       "      <th>yt_channel_name</th>\n",
       "      <th>text</th>\n",
       "      <th>url</th>\n",
       "      <th>language</th>\n",
       "    </tr>\n",
       "  </thead>\n",
       "  <tbody>\n",
       "  </tbody>\n",
       "</table>\n",
       "</div>"
      ],
      "text/plain": [
       "Empty DataFrame\n",
       "Columns: [cartoon, yt_channel_name, text, url, language]\n",
       "Index: []"
      ]
     },
     "execution_count": 203,
     "metadata": {},
     "output_type": "execute_result"
    }
   ],
   "source": [
    "word_list = ['Синего трактора','Синий трактор']\n",
    "\n",
    "stop_words = []\n",
    "\n",
    "# Преобразуем слова в нижний регистр и экранируем\n",
    "pattern = '|'.join(map(lambda word: re.escape(word.lower()), word_list))\n",
    "\n",
    "dtr[(dtr.cartoon == target) \n",
    "  & ~(dtr.reel_name.fillna('').astype(str).str.lower().str.contains(pattern, na=False)) \n",
    "][['cartoon','yt_channel_name','text','url','language']].head(10)"
   ]
  },
  {
   "cell_type": "code",
   "execution_count": 204,
   "id": "3a94e275-7299-4e54-9643-14de6144deed",
   "metadata": {},
   "outputs": [
    {
     "name": "stdout",
     "output_type": "stream",
     "text": [
      "синего трактора|синий трактор\n",
      "песенк|караоке\n"
     ]
    },
    {
     "data": {
      "text/html": [
       "<div>\n",
       "<style scoped>\n",
       "    .dataframe tbody tr th:only-of-type {\n",
       "        vertical-align: middle;\n",
       "    }\n",
       "\n",
       "    .dataframe tbody tr th {\n",
       "        vertical-align: top;\n",
       "    }\n",
       "\n",
       "    .dataframe thead th {\n",
       "        text-align: right;\n",
       "    }\n",
       "</style>\n",
       "<table border=\"1\" class=\"dataframe\">\n",
       "  <thead>\n",
       "    <tr style=\"text-align: right;\">\n",
       "      <th></th>\n",
       "      <th>cartoon</th>\n",
       "      <th>yt_channel_name</th>\n",
       "      <th>text</th>\n",
       "      <th>url</th>\n",
       "      <th>seconds</th>\n",
       "    </tr>\n",
       "  </thead>\n",
       "  <tbody>\n",
       "  </tbody>\n",
       "</table>\n",
       "</div>"
      ],
      "text/plain": [
       "Empty DataFrame\n",
       "Columns: [cartoon, yt_channel_name, text, url, seconds]\n",
       "Index: []"
      ]
     },
     "execution_count": 204,
     "metadata": {},
     "output_type": "execute_result"
    }
   ],
   "source": [
    "word_list = ['Синего трактора','Синий трактор']\n",
    "\n",
    "stop_words = [\n",
    "              'песенк', 'караоке',\n",
    "              # 'Трактор и Самосвал', 'Луковка', 'Волшебные Яйца', 'котэ', 'Грузовичок', 'пожарн', 'машинк', 'Мусоровоз',\n",
    "              # 'Робокар', 'Супер Крылья', 'Вспыш',\n",
    "              # 'Маша и Медведь', 'сказочный патруль', 'Сказочного патруля', \n",
    "              # 'Спайдермен', 'Чаггингтон', 'Мимимишки', 'Лео и Тиг', 'Кукутиками', 'Кукутики',\n",
    "             ]\n",
    "\n",
    "# Создаем паттерны для поиска слов (ключевые слова и стоп-слова)\n",
    "# Не экранируем пробелы, так как регулярное выражение их обработает\n",
    "pattern = '|'.join(map(lambda word: word.lower(), word_list))\n",
    "stop_pattern = '&'.join(map(lambda word: word.lower(), stop_words))\n",
    "\n",
    "# Преобразуем списки слов в регулярные выражения (без границ слова)\n",
    "word_list_regex = '|'.join([word.lower() for word in word_list])  # Поиск подстрок\n",
    "stop_words_regex = '|'.join([stop_word.lower() for stop_word in stop_words])\n",
    "\n",
    "print(word_list_regex)\n",
    "print(stop_words_regex)\n",
    "\n",
    "# Применяем фильтрацию\n",
    "dtr[\n",
    "    (dtr.cartoon == 'none') &\n",
    "    # (dtr.text.fillna('').astype(str).str.lower().str.contains(word_list_regex)) &  # Любое из слов из word_list\n",
    "    (dtr.reel_name.fillna('').astype(str).str.lower().str.contains(word_list_regex)) &  # Любое из слов из word_list\n",
    "    (~dtr.text.fillna('').astype(str).str.lower().str.contains(stop_words_regex))  # Отсутствие слов из stop_words\n",
    "][['cartoon', 'yt_channel_name', 'text', 'url','seconds']][:20]"
   ]
  },
  {
   "cell_type": "code",
   "execution_count": 205,
   "id": "cb6ea2c5",
   "metadata": {},
   "outputs": [
    {
     "data": {
      "text/plain": [
       "cartoon\n",
       "Синий трактор       67\n",
       "ЖилаБыла Царевна     1\n",
       "Name: count, dtype: int64"
      ]
     },
     "metadata": {},
     "output_type": "display_data"
    },
    {
     "data": {
      "text/plain": [
       "(68,)"
      ]
     },
     "metadata": {},
     "output_type": "display_data"
    },
    {
     "name": "stdout",
     "output_type": "stream",
     "text": [
      "\n"
     ]
    },
    {
     "data": {
      "text/plain": [
       "(67, 16)"
      ]
     },
     "execution_count": 205,
     "metadata": {},
     "output_type": "execute_result"
    }
   ],
   "source": [
    "ddd = \\\n",
    "dtr[\n",
    "#     (dtr.cartoon == 'none') & \n",
    "    (\n",
    "        (dtr.reel_name.fillna('').astype(str).str.lower().str.contains(pattern, na=False))\n",
    "#       | (dtr.yt_channel_name.fillna('').astype(str).str.lower().str.contains(pattern, na=False))\n",
    "    )\n",
    "#      & ~(dtr.text.fillna('').astype(str).str.lower().str.contains(stop_words_regex, na=False))\n",
    "   ][['cartoon','text']]\n",
    "display(ddd['cartoon'].value_counts())\n",
    "display(ddd['cartoon'].shape)\n",
    "print()\n",
    "dtr[dtr.cartoon == target].shape"
   ]
  },
  {
   "cell_type": "markdown",
   "id": "9e3f9cd8",
   "metadata": {},
   "source": [
    "Царевна будет обработана раньше. Почти без ошибок"
   ]
  },
  {
   "cell_type": "code",
   "execution_count": 207,
   "id": "1064128b",
   "metadata": {},
   "outputs": [],
   "source": [
    "d['Синий трактор'] = {\n",
    "\n",
    "'order':2,\n",
    "'meth': 'reel_name_only',\n",
    "'pattern': 'pattern',\n",
    "'stop_pattern': None,\n",
    "'method':\n",
    "  {\n",
    "    'reel_name': {'any_word_list' : ['Синего трактора','Синий трактор'],\n",
    "                  'all_word_list':None,\n",
    "                  'stop_any' : None\n",
    "                 },\n",
    "    'text'     : None,\n",
    "    'yt_channel_name' : None,\n",
    "    'is_shorts' : None # value_for_filter (0/1, default=None)\n",
    "  },\n",
    "'comment': 'обработка по имени'\n",
    "}"
   ]
  },
  {
   "cell_type": "markdown",
   "id": "2532ab96-6880-49a4-a42b-d62334c6b9ea",
   "metadata": {},
   "source": [
    "## Чучело-Мяучело"
   ]
  },
  {
   "cell_type": "code",
   "execution_count": 209,
   "id": "ac91b001-abb1-4710-9bab-734ce6ebe614",
   "metadata": {},
   "outputs": [
    {
     "data": {
      "text/plain": [
       "cartoon\n",
       "Синий трактор     0.000803\n",
       "Чучело-Мяучело    0.000767\n",
       "Малышарики        0.000719\n",
       "Name: proportion, dtype: float64"
      ]
     },
     "metadata": {},
     "output_type": "display_data"
    }
   ],
   "source": [
    "display(dtr.cartoon.value_counts(normalize=True)[17:20])\n",
    "target = 'Чучело-Мяучело'\n",
    "# dtr[dtr.cartoon == target][['yt_channel_name','text']][:1]"
   ]
  },
  {
   "cell_type": "code",
   "execution_count": 210,
   "id": "4dd5a76d-d140-4fa0-b748-2eb5fd964731",
   "metadata": {},
   "outputs": [
    {
     "data": {
      "text/html": [
       "<div>\n",
       "<style scoped>\n",
       "    .dataframe tbody tr th:only-of-type {\n",
       "        vertical-align: middle;\n",
       "    }\n",
       "\n",
       "    .dataframe tbody tr th {\n",
       "        vertical-align: top;\n",
       "    }\n",
       "\n",
       "    .dataframe thead th {\n",
       "        text-align: right;\n",
       "    }\n",
       "</style>\n",
       "<table border=\"1\" class=\"dataframe\">\n",
       "  <thead>\n",
       "    <tr style=\"text-align: right;\">\n",
       "      <th></th>\n",
       "      <th>cartoon</th>\n",
       "      <th>yt_channel_name</th>\n",
       "      <th>text</th>\n",
       "      <th>url</th>\n",
       "      <th>language</th>\n",
       "    </tr>\n",
       "  </thead>\n",
       "  <tbody>\n",
       "  </tbody>\n",
       "</table>\n",
       "</div>"
      ],
      "text/plain": [
       "Empty DataFrame\n",
       "Columns: [cartoon, yt_channel_name, text, url, language]\n",
       "Index: []"
      ]
     },
     "execution_count": 210,
     "metadata": {},
     "output_type": "execute_result"
    }
   ],
   "source": [
    "word_list = ['Чучмяуч','Чуч Мяуч','ЧучелоМяучело']\n",
    "\n",
    "stop_words = []\n",
    "\n",
    "# Преобразуем слова в нижний регистр и экранируем\n",
    "pattern = '|'.join(map(lambda word: re.escape(word.lower()), word_list))\n",
    "\n",
    "# Преобразуем слова в нижний регистр и экранируем, заменяя пробелы на '\\s'\n",
    "# stop_pattern = '|'.join(map(lambda word: re.escape(word.lower()).replace(r'\\ ', r'\\s'), stop_words))\n",
    "stop_pattern = '|'.join(map(lambda word: word.lower(), stop_words))\n",
    "\n",
    "\n",
    "dtr[(dtr.cartoon == target) \n",
    "  & ~(dtr.text.fillna('').astype(str).str.lower().str.contains(pattern, na=False)) \n",
    "][['cartoon','yt_channel_name','text','url','language']].head(10)"
   ]
  },
  {
   "cell_type": "code",
   "execution_count": 211,
   "id": "ac6930b0-e864-42d3-8d0f-2739863c7cb8",
   "metadata": {},
   "outputs": [
    {
     "name": "stdout",
     "output_type": "stream",
     "text": [
      "чучмяуч|чуч мяуч|чучеломяучело\n",
      "мимимишки\n"
     ]
    },
    {
     "data": {
      "text/html": [
       "<div>\n",
       "<style scoped>\n",
       "    .dataframe tbody tr th:only-of-type {\n",
       "        vertical-align: middle;\n",
       "    }\n",
       "\n",
       "    .dataframe tbody tr th {\n",
       "        vertical-align: top;\n",
       "    }\n",
       "\n",
       "    .dataframe thead th {\n",
       "        text-align: right;\n",
       "    }\n",
       "</style>\n",
       "<table border=\"1\" class=\"dataframe\">\n",
       "  <thead>\n",
       "    <tr style=\"text-align: right;\">\n",
       "      <th></th>\n",
       "      <th>cartoon</th>\n",
       "      <th>yt_channel_name</th>\n",
       "      <th>text</th>\n",
       "      <th>url</th>\n",
       "      <th>seconds</th>\n",
       "    </tr>\n",
       "  </thead>\n",
       "  <tbody>\n",
       "  </tbody>\n",
       "</table>\n",
       "</div>"
      ],
      "text/plain": [
       "Empty DataFrame\n",
       "Columns: [cartoon, yt_channel_name, text, url, seconds]\n",
       "Index: []"
      ]
     },
     "execution_count": 211,
     "metadata": {},
     "output_type": "execute_result"
    }
   ],
   "source": [
    "stop_words = [\n",
    "              # 'раскраски', 'раскрась', 'фиксираскрасок', 'рисовать', 'красим', 'рисуем', 'лепим', 'Учимся',\n",
    "              'мимимишки',\n",
    "             ]\n",
    "\n",
    "# Преобразуем списки слов в регулярные выражения (без границ слова)\n",
    "word_list_regex = '|'.join([word.lower() for word in word_list])  # Поиск подстрок\n",
    "stop_words_regex = '|'.join([stop_word.lower() for stop_word in stop_words])\n",
    "\n",
    "print(word_list_regex)\n",
    "print(stop_words_regex)\n",
    "\n",
    "# Применяем фильтрацию\n",
    "dtr[\n",
    "    (dtr.cartoon == 'none') &\n",
    "    (\n",
    "    # (dtr.text.fillna('').astype(str).str.lower().str.contains('ЧучМяуч Танцуй')) |\n",
    "    (dtr.reel_name.fillna('').astype(str).str.lower().str.contains(word_list_regex))\n",
    "    )\n",
    "    # & (~dtr.text.fillna('').astype(str).str.lower().str.contains(stop_words_regex))  # Отсутствие слов из stop_words\n",
    "][['cartoon', 'yt_channel_name', 'text', 'url','seconds']][:20]"
   ]
  },
  {
   "cell_type": "code",
   "execution_count": 212,
   "id": "d72e834b",
   "metadata": {},
   "outputs": [
    {
     "data": {
      "text/plain": [
       "cartoon\n",
       "Чучело-Мяучело    62\n",
       "Name: count, dtype: int64"
      ]
     },
     "metadata": {},
     "output_type": "display_data"
    },
    {
     "data": {
      "text/plain": [
       "(62,)"
      ]
     },
     "metadata": {},
     "output_type": "display_data"
    },
    {
     "name": "stdout",
     "output_type": "stream",
     "text": [
      "\n"
     ]
    },
    {
     "data": {
      "text/plain": [
       "(64, 16)"
      ]
     },
     "execution_count": 212,
     "metadata": {},
     "output_type": "execute_result"
    }
   ],
   "source": [
    "ddd = \\\n",
    "dtr[\n",
    "    (dtr.reel_name.fillna('').astype(str).str.lower().str.contains(pattern, na=False))\n",
    "][['cartoon','text']]\n",
    "\n",
    "display(ddd['cartoon'].value_counts())\n",
    "display(ddd['cartoon'].shape)\n",
    "print()\n",
    "dtr[dtr.cartoon == target].shape"
   ]
  },
  {
   "cell_type": "code",
   "execution_count": 213,
   "id": "2543c2a5",
   "metadata": {},
   "outputs": [],
   "source": [
    "d['Чучело-Мяучело'] = {\n",
    "\n",
    "'order':-1,\n",
    "'meth': 'reel_name_only',\n",
    "'pattern': 'pattern',\n",
    "'stop_pattern': None,\n",
    "'method':\n",
    "  {\n",
    "    'reel_name': {'any_word_list' : ['Чучмяуч','Чуч Мяуч','ЧучелоМяучело'],\n",
    "                  'all_word_list':None,\n",
    "                  'stop_any' : None\n",
    "                 },\n",
    "    'text'     : None,\n",
    "    'yt_channel_name' : None,\n",
    "    'is_shorts' : None # value_for_filter (0/1, default=None)\n",
    "  },\n",
    "'comment': 'обработка по имени'\n",
    "}"
   ]
  },
  {
   "cell_type": "markdown",
   "id": "33ff180a",
   "metadata": {},
   "source": [
    "## Малышарики"
   ]
  },
  {
   "cell_type": "code",
   "execution_count": 215,
   "id": "a4d0c3c6-d398-4742-b3ce-a648afa61300",
   "metadata": {},
   "outputs": [
    {
     "data": {
      "text/plain": [
       "cartoon\n",
       "Чучело-Мяучело    0.000767\n",
       "Малышарики        0.000719\n",
       "Пороро            0.000611\n",
       "Name: proportion, dtype: float64"
      ]
     },
     "metadata": {},
     "output_type": "display_data"
    }
   ],
   "source": [
    "display(dtr.cartoon.value_counts(normalize=True)[18:21])\n",
    "target = 'Малышарики'\n",
    "# dtr[dtr.cartoon == target][['yt_channel_name','text']][:1]"
   ]
  },
  {
   "cell_type": "code",
   "execution_count": 216,
   "id": "a23a4555-eb0b-40cf-9e32-4c7f31b9480c",
   "metadata": {},
   "outputs": [
    {
     "data": {
      "text/html": [
       "<div>\n",
       "<style scoped>\n",
       "    .dataframe tbody tr th:only-of-type {\n",
       "        vertical-align: middle;\n",
       "    }\n",
       "\n",
       "    .dataframe tbody tr th {\n",
       "        vertical-align: top;\n",
       "    }\n",
       "\n",
       "    .dataframe thead th {\n",
       "        text-align: right;\n",
       "    }\n",
       "</style>\n",
       "<table border=\"1\" class=\"dataframe\">\n",
       "  <thead>\n",
       "    <tr style=\"text-align: right;\">\n",
       "      <th></th>\n",
       "      <th>cartoon</th>\n",
       "      <th>yt_channel_name</th>\n",
       "      <th>text</th>\n",
       "      <th>url</th>\n",
       "      <th>language</th>\n",
       "    </tr>\n",
       "  </thead>\n",
       "  <tbody>\n",
       "  </tbody>\n",
       "</table>\n",
       "</div>"
      ],
      "text/plain": [
       "Empty DataFrame\n",
       "Columns: [cartoon, yt_channel_name, text, url, language]\n",
       "Index: []"
      ]
     },
     "execution_count": 216,
     "metadata": {},
     "output_type": "execute_result"
    }
   ],
   "source": [
    "word_list = ['Малышарик']\n",
    "\n",
    "stop_words = [\n",
    "             # 'песенки', 'караоке',\n",
    "             # 'игруш'\n",
    "            # 'entertainment',\n",
    "             ]\n",
    "\n",
    "# Преобразуем слова в нижний регистр и экранируем\n",
    "pattern = '|'.join(map(lambda word: re.escape(word.lower()), word_list))\n",
    "\n",
    "# Преобразуем слова в нижний регистр и экранируем, заменяя пробелы на '\\s'\n",
    "# stop_pattern = '|'.join(map(lambda word: re.escape(word.lower()).replace(r'\\ ', r'\\s'), stop_words))\n",
    "stop_pattern = '|'.join(map(lambda word: word.lower(), stop_words))\n",
    "\n",
    "\n",
    "dtr[(dtr.cartoon == target) \n",
    "  # & ~(dtr.text.fillna('').astype(str).str.lower().str.contains(pattern, na=False)) \n",
    "  & ~(dtr.reel_name.fillna('').astype(str).str.lower().str.contains(pattern, na=False)) \n",
    "   ][['cartoon','yt_channel_name','text','url','language']].head(10)"
   ]
  },
  {
   "cell_type": "code",
   "execution_count": 217,
   "id": "fc7a4369-41c8-44bf-8a8c-bb8fe1b030f3",
   "metadata": {},
   "outputs": [
    {
     "name": "stdout",
     "output_type": "stream",
     "text": [
      "малышарик\n",
      "\n"
     ]
    },
    {
     "data": {
      "text/html": [
       "<div>\n",
       "<style scoped>\n",
       "    .dataframe tbody tr th:only-of-type {\n",
       "        vertical-align: middle;\n",
       "    }\n",
       "\n",
       "    .dataframe tbody tr th {\n",
       "        vertical-align: top;\n",
       "    }\n",
       "\n",
       "    .dataframe thead th {\n",
       "        text-align: right;\n",
       "    }\n",
       "</style>\n",
       "<table border=\"1\" class=\"dataframe\">\n",
       "  <thead>\n",
       "    <tr style=\"text-align: right;\">\n",
       "      <th></th>\n",
       "      <th>cartoon</th>\n",
       "      <th>yt_channel_name</th>\n",
       "      <th>text</th>\n",
       "      <th>url</th>\n",
       "      <th>seconds</th>\n",
       "    </tr>\n",
       "  </thead>\n",
       "  <tbody>\n",
       "  </tbody>\n",
       "</table>\n",
       "</div>"
      ],
      "text/plain": [
       "Empty DataFrame\n",
       "Columns: [cartoon, yt_channel_name, text, url, seconds]\n",
       "Index: []"
      ]
     },
     "execution_count": 217,
     "metadata": {},
     "output_type": "execute_result"
    }
   ],
   "source": [
    "word_list = ['Малышарик',\n",
    "            ]\n",
    "\n",
    "stop_words = [\n",
    "              # 'песенк', 'караоке',\n",
    "              # 'пранк', 'Зарядк', 'раскрас', ' ЗДОРОВЬЕ', 'РАСПАКОВ', 'мастерклас', 'готовить', 'распаков', 'Unboxing',\n",
    "              # 'Зоомагазин', 'Капуки Кануки', 'Фееринки', 'Эквестр', 'Equestria',\n",
    "              # 'Опасная семейка',\n",
    "              # 'Губка Боб', 'Хлебоутки', 'Волшебные покровители', 'Харви Бикс', 'Миссия Блэйк', 'Щенячий патруль',\n",
    "              # 'премьера', 'поздравл',\n",
    "              # 'сказочный патруль', \n",
    "              # 'МАЙНКРАФТ', 'MINECRAFT',\n",
    "              # 'игруш', 'Киндер сюрприз', 'entertainment', 'Playhouse',\n",
    "              # 'ПОДАРК',\n",
    "              # 'раскраски', 'раскрась', 'фиксираскрасок', 'рисовать', 'красим', 'рисуем', 'лепим', 'Учимся',\n",
    "              # 'Фикси советы',\n",
    "              # 'Диана', 'Diana', 'бетономешалка',\n",
    "              # 'мимимишки',\n",
    "              # 'Трактор и Самосвал', 'Луковка', 'Волшебные Яйца', 'котэ', 'Грузовичок', 'пожарн', 'машинк', 'Мусоровоз',\n",
    "              # 'Робокар', 'Супер Крылья', 'Вспыш',\n",
    "              # 'Руби и ЙоЙо', 'Маленькое королевство Бена и Холли', 'Герои в Масках', , 'Старла'\n",
    "              # 'Om Nom', 'Око Леле', 'Забавные медвежата', 'Инфинити Надо', 'Муравьишки', 'Капуки Кануки',\n",
    "              # 'Смешарики',\n",
    "              # 'Маша и Медведь', 'сказочный патруль', 'Сказочного патруля', \n",
    "              # 'Спайдермен', 'Чаггингтон', 'Мимимишки', 'Лео и Тиг', 'Кукутиками', 'Кукутики',\n",
    "              # 'Дуда и Дада', 'Шушумагия', 'ПониМашка', 'Доктор Машинкова', 'Куклы Монстер Хай',\n",
    "              # 'lieblingslieder', 'Kids Songs',  'Kind songs', 'childrens songs', 'childrens song', 'Canciones',\n",
    "              # 'Die Fixies', 'The Fixies Bang', 'drummers', 'festival'\n",
    "             ]\n",
    "\n",
    "# Создаем паттерны для поиска слов (ключевые слова и стоп-слова)\n",
    "# Не экранируем пробелы, так как регулярное выражение их обработает\n",
    "pattern = '|'.join(map(lambda word: word.lower(), word_list))\n",
    "stop_pattern = '&'.join(map(lambda word: word.lower(), stop_words))\n",
    "\n",
    "# print(stop_words)\n",
    "\n",
    "# Преобразуем списки слов в регулярные выражения\n",
    "# word_list_regex = '|'.join([f'\\\\b{word.lower()}\\\\b' for word in word_list])  # Для поиска слов целиком\n",
    "# stop_words_regex = '|'.join([f'\\\\b{stop_word.lower()}\\\\b' for stop_word in stop_words])\n",
    "\n",
    "# print(word_list_regex)\n",
    "# print(stop_words_regex)\n",
    "\n",
    "# Преобразуем списки слов в регулярные выражения (без границ слова)\n",
    "word_list_regex = '|'.join([word.lower() for word in word_list])  # Поиск подстрок\n",
    "stop_words_regex = '|'.join([stop_word.lower() for stop_word in stop_words])\n",
    "\n",
    "print(word_list_regex)\n",
    "print(stop_words_regex)\n",
    "\n",
    "# Применяем фильтрацию\n",
    "dtr[\n",
    "    (dtr.cartoon == 'none') &\n",
    "    (dtr.reel_name.fillna('').astype(str).str.lower().str.contains(word_list_regex))  # Любое из слов из word_list\n",
    "    # (\n",
    "    # (dtr.text.fillna('').astype(str).str.lower().str.contains('ЧучМяуч Танцуй'))  # Любое из слов из word_list\n",
    "    # | (dtr.reel_name.fillna('').astype(str).str.lower().str.contains(word_list_regex))  # Любое из слов из word_list\n",
    "    # )\n",
    "    # & (~dtr.text.fillna('').astype(str).str.lower().str.contains(stop_words_regex))  # Отсутствие слов из stop_words\n",
    "][['cartoon', 'yt_channel_name', 'text', 'url','seconds']][:20]"
   ]
  },
  {
   "cell_type": "code",
   "execution_count": 218,
   "id": "2e821c0d",
   "metadata": {},
   "outputs": [
    {
     "data": {
      "text/plain": [
       "cartoon\n",
       "Малышарики          60\n",
       "ЖилаБыла Царевна     3\n",
       "Name: count, dtype: int64"
      ]
     },
     "metadata": {},
     "output_type": "display_data"
    },
    {
     "data": {
      "text/plain": [
       "(63,)"
      ]
     },
     "metadata": {},
     "output_type": "display_data"
    },
    {
     "name": "stdout",
     "output_type": "stream",
     "text": [
      "\n"
     ]
    },
    {
     "data": {
      "text/plain": [
       "(60, 16)"
      ]
     },
     "execution_count": 218,
     "metadata": {},
     "output_type": "execute_result"
    }
   ],
   "source": [
    "ddd = \\\n",
    "dtr[\n",
    "    (dtr.reel_name.fillna('').astype(str).str.lower().str.contains(pattern, na=False))\n",
    "][['cartoon','text']]\n",
    "\n",
    "display(ddd['cartoon'].value_counts())\n",
    "display(ddd['cartoon'].shape)\n",
    "print()\n",
    "dtr[dtr.cartoon == target].shape"
   ]
  },
  {
   "cell_type": "code",
   "execution_count": 219,
   "id": "210288ce",
   "metadata": {},
   "outputs": [],
   "source": [
    "d['Малышарики'] = {\n",
    "\n",
    "'order':2,\n",
    "'meth': 'reel_name_only',\n",
    "'pattern': 'pattern',\n",
    "'stop_pattern': None,\n",
    "'method':\n",
    "  {\n",
    "    'reel_name': {'any_word_list' : ['Малышарик'],\n",
    "                  'all_word_list':None,\n",
    "                  'stop_any' : None\n",
    "                 },\n",
    "    'text'     : None,\n",
    "    'yt_channel_name' : None,\n",
    "    'is_shorts' : None # value_for_filter (0/1, default=None)\n",
    "  },\n",
    "'comment': 'обработка по имени'\n",
    "}"
   ]
  },
  {
   "cell_type": "markdown",
   "id": "fbc348d1-15ae-4328-a551-e06025a7ef07",
   "metadata": {},
   "source": [
    "## Пороро"
   ]
  },
  {
   "cell_type": "code",
   "execution_count": 221,
   "id": "8b3b58f3-3afa-45e2-b579-47710527ca5f",
   "metadata": {},
   "outputs": [
    {
     "data": {
      "text/plain": [
       "cartoon\n",
       "Малышарики                  0.000719\n",
       "Пороро                      0.000611\n",
       "Приключения Пети и Волка    0.000492\n",
       "Name: proportion, dtype: float64"
      ]
     },
     "metadata": {},
     "output_type": "display_data"
    }
   ],
   "source": [
    "display(dtr.cartoon.value_counts(normalize=True)[19:22])\n",
    "target = 'Пороро'\n",
    "# dtr[dtr.cartoon == target][['yt_channel_name','text']][:1]"
   ]
  },
  {
   "cell_type": "code",
   "execution_count": 222,
   "id": "3620f5af-ddf2-4cc5-8862-13a09f7f33f2",
   "metadata": {},
   "outputs": [
    {
     "data": {
      "text/html": [
       "<div>\n",
       "<style scoped>\n",
       "    .dataframe tbody tr th:only-of-type {\n",
       "        vertical-align: middle;\n",
       "    }\n",
       "\n",
       "    .dataframe tbody tr th {\n",
       "        vertical-align: top;\n",
       "    }\n",
       "\n",
       "    .dataframe thead th {\n",
       "        text-align: right;\n",
       "    }\n",
       "</style>\n",
       "<table border=\"1\" class=\"dataframe\">\n",
       "  <thead>\n",
       "    <tr style=\"text-align: right;\">\n",
       "      <th></th>\n",
       "      <th>cartoon</th>\n",
       "      <th>yt_channel_name</th>\n",
       "      <th>text</th>\n",
       "      <th>url</th>\n",
       "      <th>language</th>\n",
       "    </tr>\n",
       "  </thead>\n",
       "  <tbody>\n",
       "  </tbody>\n",
       "</table>\n",
       "</div>"
      ],
      "text/plain": [
       "Empty DataFrame\n",
       "Columns: [cartoon, yt_channel_name, text, url, language]\n",
       "Index: []"
      ]
     },
     "execution_count": 222,
     "metadata": {},
     "output_type": "execute_result"
    }
   ],
   "source": [
    "word_list = ['Pororo']\n",
    "\n",
    "stop_words = []\n",
    "\n",
    "# Преобразуем слова в нижний регистр и экранируем\n",
    "pattern = '|'.join(map(lambda word: re.escape(word.lower()), word_list))\n",
    "\n",
    "dtr[(dtr.cartoon == target) \n",
    "  & ~(dtr.reel_name.fillna('').astype(str).str.lower().str.contains(pattern, na=False)) \n",
    "][['cartoon','yt_channel_name','text','url','language']].head(10)"
   ]
  },
  {
   "cell_type": "code",
   "execution_count": 223,
   "id": "d2f981cd-99a4-4511-af9f-bd27c819857b",
   "metadata": {},
   "outputs": [
    {
     "name": "stdout",
     "output_type": "stream",
     "text": [
      "pororo\n",
      "\n"
     ]
    },
    {
     "data": {
      "text/html": [
       "<div>\n",
       "<style scoped>\n",
       "    .dataframe tbody tr th:only-of-type {\n",
       "        vertical-align: middle;\n",
       "    }\n",
       "\n",
       "    .dataframe tbody tr th {\n",
       "        vertical-align: top;\n",
       "    }\n",
       "\n",
       "    .dataframe thead th {\n",
       "        text-align: right;\n",
       "    }\n",
       "</style>\n",
       "<table border=\"1\" class=\"dataframe\">\n",
       "  <thead>\n",
       "    <tr style=\"text-align: right;\">\n",
       "      <th></th>\n",
       "      <th>cartoon</th>\n",
       "      <th>yt_channel_name</th>\n",
       "      <th>text</th>\n",
       "      <th>url</th>\n",
       "      <th>seconds</th>\n",
       "    </tr>\n",
       "  </thead>\n",
       "  <tbody>\n",
       "  </tbody>\n",
       "</table>\n",
       "</div>"
      ],
      "text/plain": [
       "Empty DataFrame\n",
       "Columns: [cartoon, yt_channel_name, text, url, seconds]\n",
       "Index: []"
      ]
     },
     "execution_count": 223,
     "metadata": {},
     "output_type": "execute_result"
    }
   ],
   "source": [
    "# Преобразуем списки слов в регулярные выражения (без границ слова)\n",
    "word_list_regex = '|'.join([word.lower() for word in word_list])  # Поиск подстрок\n",
    "stop_words_regex = '|'.join([stop_word.lower() for stop_word in stop_words])\n",
    "\n",
    "print(word_list_regex)\n",
    "print(stop_words_regex)\n",
    "\n",
    "# Применяем фильтрацию\n",
    "dtr[\n",
    "    (dtr.cartoon == 'none') &\n",
    "    (dtr.reel_name.fillna('').astype(str).str.lower().str.contains(word_list_regex))  # Любое из слов из word_list\n",
    "][['cartoon', 'yt_channel_name', 'text', 'url','seconds']][:20]"
   ]
  },
  {
   "cell_type": "code",
   "execution_count": 224,
   "id": "c474a5d5",
   "metadata": {},
   "outputs": [
    {
     "data": {
      "text/plain": [
       "cartoon\n",
       "Пороро    51\n",
       "Name: count, dtype: int64"
      ]
     },
     "metadata": {},
     "output_type": "display_data"
    },
    {
     "data": {
      "text/plain": [
       "(51,)"
      ]
     },
     "metadata": {},
     "output_type": "display_data"
    },
    {
     "name": "stdout",
     "output_type": "stream",
     "text": [
      "\n"
     ]
    },
    {
     "data": {
      "text/plain": [
       "(51, 16)"
      ]
     },
     "execution_count": 224,
     "metadata": {},
     "output_type": "execute_result"
    }
   ],
   "source": [
    "ddd = \\\n",
    "dtr[\n",
    "    (dtr.reel_name.fillna('').astype(str).str.lower().str.contains(pattern, na=False))\n",
    "][['cartoon','text']]\n",
    "\n",
    "display(ddd['cartoon'].value_counts())\n",
    "display(ddd['cartoon'].shape)\n",
    "print()\n",
    "dtr[dtr.cartoon == target].shape"
   ]
  },
  {
   "cell_type": "code",
   "execution_count": 225,
   "id": "89b2043d",
   "metadata": {},
   "outputs": [],
   "source": [
    "d['Пороро'] = {\n",
    "\n",
    "'order':0,\n",
    "'meth': 'reel_name_only',\n",
    "'pattern': 'pattern',\n",
    "'stop_pattern': None,\n",
    "'method':\n",
    "  {\n",
    "    'reel_name': {'any_word_list' : ['Pororo'],\n",
    "                  'all_word_list':None,\n",
    "                  'stop_any' : None\n",
    "                 },\n",
    "    'text'     : None,\n",
    "    'yt_channel_name' : None,\n",
    "    'is_shorts' : None # value_for_filter (0/1, default=None)\n",
    "  },\n",
    "'comment': 'обработка по имени'\n",
    "}"
   ]
  },
  {
   "cell_type": "markdown",
   "id": "6f48655e-b151-443f-8f9f-80c57159fce5",
   "metadata": {},
   "source": [
    "## Приключения Пети и Волка"
   ]
  },
  {
   "cell_type": "code",
   "execution_count": 227,
   "id": "f895880b-8cda-4400-82d4-764490c7ad60",
   "metadata": {},
   "outputs": [
    {
     "data": {
      "text/plain": [
       "cartoon\n",
       "Пороро                      0.000611\n",
       "Приключения Пети и Волка    0.000492\n",
       "Смешарики                   0.000492\n",
       "Name: proportion, dtype: float64"
      ]
     },
     "metadata": {},
     "output_type": "display_data"
    },
    {
     "data": {
      "text/html": [
       "<div>\n",
       "<style scoped>\n",
       "    .dataframe tbody tr th:only-of-type {\n",
       "        vertical-align: middle;\n",
       "    }\n",
       "\n",
       "    .dataframe tbody tr th {\n",
       "        vertical-align: top;\n",
       "    }\n",
       "\n",
       "    .dataframe thead th {\n",
       "        text-align: right;\n",
       "    }\n",
       "</style>\n",
       "<table border=\"1\" class=\"dataframe\">\n",
       "  <thead>\n",
       "    <tr style=\"text-align: right;\">\n",
       "      <th></th>\n",
       "      <th>yt_channel_name</th>\n",
       "      <th>text</th>\n",
       "    </tr>\n",
       "  </thead>\n",
       "  <tbody>\n",
       "    <tr>\n",
       "      <th>2182</th>\n",
       "      <td>Союзмультфильм #Shorts</td>\n",
       "      <td>[Мастер бесконтактного боя против викинга  Союзмультфильм shorts] Смотри полную серию Приключений Пети и Волка Дело о последнем викинге по ссылке: https://youtu.be/NQstVjF4964</td>\n",
       "    </tr>\n",
       "  </tbody>\n",
       "</table>\n",
       "</div>"
      ],
      "text/plain": [
       "             yt_channel_name  \\\n",
       "2182  Союзмультфильм #Shorts   \n",
       "\n",
       "                                                                                                                                                                                 text  \n",
       "2182  [Мастер бесконтактного боя против викинга  Союзмультфильм shorts] Смотри полную серию Приключений Пети и Волка Дело о последнем викинге по ссылке: https://youtu.be/NQstVjF4964  "
      ]
     },
     "execution_count": 227,
     "metadata": {},
     "output_type": "execute_result"
    }
   ],
   "source": [
    "display(dtr.cartoon.value_counts(normalize=True)[20:23])\n",
    "target = 'Приключения Пети и Волка'\n",
    "dtr[dtr.cartoon == target][['yt_channel_name','text']][:1]"
   ]
  },
  {
   "cell_type": "code",
   "execution_count": 228,
   "id": "24bf4cd9-dd72-47de-99d3-72b8c40ed37b",
   "metadata": {},
   "outputs": [
    {
     "data": {
      "text/html": [
       "<div>\n",
       "<style scoped>\n",
       "    .dataframe tbody tr th:only-of-type {\n",
       "        vertical-align: middle;\n",
       "    }\n",
       "\n",
       "    .dataframe tbody tr th {\n",
       "        vertical-align: top;\n",
       "    }\n",
       "\n",
       "    .dataframe thead th {\n",
       "        text-align: right;\n",
       "    }\n",
       "</style>\n",
       "<table border=\"1\" class=\"dataframe\">\n",
       "  <thead>\n",
       "    <tr style=\"text-align: right;\">\n",
       "      <th></th>\n",
       "      <th>cartoon</th>\n",
       "      <th>yt_channel_name</th>\n",
       "      <th>text</th>\n",
       "      <th>url</th>\n",
       "      <th>language</th>\n",
       "    </tr>\n",
       "  </thead>\n",
       "  <tbody>\n",
       "    <tr>\n",
       "      <th>60320</th>\n",
       "      <td>none</td>\n",
       "      <td>Союзмультфильм #Shorts</td>\n",
       "      <td>[Злой гений оживил куриц в продуктовом  Союзмультфильм shorts] Смотри все серии Приключений Пети и Волка по ссылке: https://www.youtube.com/channel/UCrXdnHwwyvri5HYeY689sw/videos</td>\n",
       "      <td>https://www.youtube.com/watch?v=bTIoDPEtnxM</td>\n",
       "      <td>-1</td>\n",
       "    </tr>\n",
       "    <tr>\n",
       "      <th>74490</th>\n",
       "      <td>none</td>\n",
       "      <td>Союзмультфильм #Shorts</td>\n",
       "      <td>[Колобок снова убежал  Союзмультфильм shorts] Смотри полную серию Приключений Пети и Волка Дело Колобка по ссылке: https://youtu.be/73MCZA2hUvQ</td>\n",
       "      <td>https://www.youtube.com/watch?v=M8pCMYcj9rk</td>\n",
       "      <td>-1</td>\n",
       "    </tr>\n",
       "  </tbody>\n",
       "</table>\n",
       "</div>"
      ],
      "text/plain": [
       "      cartoon         yt_channel_name  \\\n",
       "60320    none  Союзмультфильм #Shorts   \n",
       "74490    none  Союзмультфильм #Shorts   \n",
       "\n",
       "                                                                                                                                                                                     text  \\\n",
       "60320  [Злой гений оживил куриц в продуктовом  Союзмультфильм shorts] Смотри все серии Приключений Пети и Волка по ссылке: https://www.youtube.com/channel/UCrXdnHwwyvri5HYeY689sw/videos   \n",
       "74490                                     [Колобок снова убежал  Союзмультфильм shorts] Смотри полную серию Приключений Пети и Волка Дело Колобка по ссылке: https://youtu.be/73MCZA2hUvQ   \n",
       "\n",
       "                                               url language  \n",
       "60320  https://www.youtube.com/watch?v=bTIoDPEtnxM       -1  \n",
       "74490  https://www.youtube.com/watch?v=M8pCMYcj9rk       -1  "
      ]
     },
     "execution_count": 228,
     "metadata": {},
     "output_type": "execute_result"
    }
   ],
   "source": [
    "word_list = ['Приключения Пети и Волка', 'Приключений Пети и Волка']\n",
    "\n",
    "stop_words = ['Зебра в клеточку','Зебравклеточку',\n",
    "              'Царевн','Чучмяуч','Чуч Мяуч',\n",
    "              'ЧучелоМяучело']\n",
    "\n",
    "\n",
    "# Преобразуем слова в нижний регистр и экранируем\n",
    "pattern = '|'.join([word.lower() for word in word_list])\n",
    "\n",
    "stop_pattern = '|'.join([word.lower() for word in stop_words])\n",
    "\n",
    "\n",
    "some_words =['волк','союзмультфильм']\n",
    "some_words_pattern = '&'.join([word.lower() for word in word_list])\n",
    "\n",
    "# # Преобразуем слова в lower() для some_words\n",
    "# some_words_conditions = [\n",
    "#     dtr.reel_name.fillna('').astype(str).str.lower().str.contains(re.escape(word.lower()), na=False)\n",
    "#     for word in some_words\n",
    "# ]\n",
    "\n",
    "# some_combine_condition = some_words_conditions[0]\n",
    "# for condition in some_words_conditions[1:]:\n",
    "#     some_combine_condition &= condition\n",
    "\n",
    "# print(some_words_conditions)\n",
    "\n",
    "dtr[\n",
    "    (dtr.cartoon != target) &\n",
    "    (\n",
    "        # Условие: включаем строки, где в тексте содержится любое слово из stop_words\n",
    "        dtr.text.fillna('').astype(str).str.lower().str.contains(pattern, na=False)\n",
    "    ) &\n",
    "    (\n",
    "        # Условие: исключаем строки, где в тексте содержится любое слово из stop_words (отрицание)\n",
    "        ~dtr.text.fillna('').astype(str).str.lower().str.contains(stop_pattern, na=False)\n",
    "    )\n",
    "#     &\n",
    "#     (\n",
    "#         # Условие: исключаем строки, если одновременно встречаются \"волк\" и \"союзмультфильм\" в reel_name\n",
    "#         ~(dtr.reel_name.fillna('').astype(str).str.lower().str.contains('волк', na=False) &\n",
    "#           dtr.reel_name.fillna('').astype(str).str.lower().str.contains('союзмультфильм', na=False))\n",
    "#     )\n",
    "  # & ~some_combine_condition\n",
    "][['cartoon','yt_channel_name','text','url','language']].head(10)"
   ]
  },
  {
   "cell_type": "code",
   "execution_count": 229,
   "id": "ae609b6d",
   "metadata": {},
   "outputs": [
    {
     "data": {
      "text/plain": [
       "'приключения пети и волка|приключений пети и волка'"
      ]
     },
     "execution_count": 229,
     "metadata": {},
     "output_type": "execute_result"
    }
   ],
   "source": [
    "pattern"
   ]
  },
  {
   "cell_type": "code",
   "execution_count": 230,
   "id": "ce7137a4",
   "metadata": {},
   "outputs": [
    {
     "data": {
      "text/plain": [
       "259"
      ]
     },
     "execution_count": 230,
     "metadata": {},
     "output_type": "execute_result"
    }
   ],
   "source": [
    "# dtr[dtr.cartoon == target][['yt_channel_name','text']]\n",
    "# Фильтрация строк, где cartoon == target, и подсчет длины текста в поле text\n",
    "max_text_length = dtr[dtr.cartoon == target]['text'].fillna('').astype(str).apply(len).max()\n",
    "\n",
    "max_text_length"
   ]
  },
  {
   "cell_type": "markdown",
   "id": "9b22bb27",
   "metadata": {},
   "source": [
    "error\n",
    "```txt\n",
    "38654 \tСоюзмультфильм #Shorts \t[Снегурочка водит сани Деда Мороза Союзмультфильм shorts] Смотрите мультфильм Новогодние волшебности целиком по ссылке: https://youtu.be/eoHmXAh9c4\n",
    "```"
   ]
  },
  {
   "cell_type": "code",
   "execution_count": 232,
   "id": "b2c9ed05",
   "metadata": {},
   "outputs": [
    {
     "data": {
      "text/plain": [
       "cartoon\n",
       "Приключения Пети и Волка    35\n",
       "none                         2\n",
       "Name: count, dtype: int64"
      ]
     },
     "metadata": {},
     "output_type": "display_data"
    },
    {
     "data": {
      "text/plain": [
       "(37,)"
      ]
     },
     "metadata": {},
     "output_type": "display_data"
    },
    {
     "name": "stdout",
     "output_type": "stream",
     "text": [
      "\n"
     ]
    },
    {
     "data": {
      "text/plain": [
       "(41, 16)"
      ]
     },
     "execution_count": 232,
     "metadata": {},
     "output_type": "execute_result"
    }
   ],
   "source": [
    "ddd = \\\n",
    "dtr[\n",
    "(dtr.text.fillna('').astype(str).str.lower().str.contains(pattern, na=False) &\n",
    "~dtr.reel_name.fillna('').astype(str).str.lower().str.contains(stop_pattern, na=False)) \n",
    "&\n",
    "(dtr.text.fillna('').astype(str).str.len() < max_text_length)\n",
    "][['cartoon','text']]\n",
    "display(ddd['cartoon'].value_counts())\n",
    "display(ddd['cartoon'].shape)\n",
    "print()\n",
    "dtr[dtr.cartoon == target].shape"
   ]
  },
  {
   "cell_type": "code",
   "execution_count": 233,
   "id": "500217f7-47b2-45b6-96c7-b432dc6ad1ba",
   "metadata": {},
   "outputs": [],
   "source": [
    "from enviserv.dictan import DictAnalyzer"
   ]
  },
  {
   "cell_type": "code",
   "execution_count": 234,
   "id": "8cf356bb-e645-4bc6-b970-11ebc105f8b6",
   "metadata": {},
   "outputs": [],
   "source": [
    "da = DictAnalyzer()"
   ]
  },
  {
   "cell_type": "code",
   "execution_count": 235,
   "id": "2d295578-c0cb-4697-ad3a-35cb6a06140b",
   "metadata": {},
   "outputs": [
    {
     "name": "stdout",
     "output_type": "stream",
     "text": [
      "{\n",
      "    Маша и медведь: \n",
      " (dtr.reel_name.fillna('').astype(str).str.lower().str.contains(pattern, na=False))\n",
      " &  (dtr.is_shorts.fillna('').astype(int) == 0)\n",
      " \n",
      "    pattern: \n",
      "pattern = '|'.join(map(lambda word: re.escape(word.lower()), word_list))\n",
      "\n",
      "    reel_name_only: \n",
      "(dtr.reel_name.fillna('').astype(str).str.lower().str.contains(pattern, na=False))\n",
      "\n",
      "    reel_name_or_channel_name: \n",
      "(dtr.reel_name.fillna('').astype(str).str.lower().str.contains(pattern, na=False)) \n",
      "| (dtr.yt_channel_name.fillna('').astype(str).str.lower().str.contains(pattern, na=False))\n",
      "\n",
      "    text_only: \n",
      "(dtr.text.fillna('').astype(str).str.lower().str.contains(pattern, na=False))\n",
      "\n",
      "    stop_pattern: \n",
      "stop_pattern = '|'.join(map(lambda word: re.escape(word.lower()), stop_words))\n",
      "\n",
      "    reel_or_channel_and_not_text: \n",
      "(\n",
      "    (dtr.reel_name.fillna('').astype(str).str.lower().str.contains(pattern, na=False))\n",
      "  | (dtr.yt_channel_name.fillna('').astype(str).str.lower().str.contains(pattern, na=False))\n",
      ")\n",
      " & ~(dtr.text.fillna('').astype(str).str.lower().str.contains(stop_pattern, na=False))\n",
      "\n",
      "    stop_words_regex: \n",
      "stop_words_regex = '|'.join([f'{stop_word.lower()}' for stop_word in stop_words])\n",
      "\n",
      "    reel_and_not_text: \n",
      "   (dtr.reel_name.fillna('').astype(str).str.lower().str.contains(pattern, na=False))\n",
      "& ~(dtr.text.fillna('').astype(str).str.lower().str.contains(stop_words_regex, na=False))\n",
      "\n",
      "}\n"
     ]
    }
   ],
   "source": [
    "da.print_dict(meth)"
   ]
  },
  {
   "cell_type": "code",
   "execution_count": 236,
   "id": "dd8f853f-b85e-4851-b2f8-31d310c6e581",
   "metadata": {},
   "outputs": [],
   "source": [
    "meth['text_and_not_reel_and_lentext_less']=\\\n",
    "\"\"\"\n",
    "(dtr.text.fillna('').astype(str).str.lower().str.contains(pattern, na=False) &\n",
    "~dtr.reel_name.fillna('').astype(str).str.lower().str.contains(stop_pattern, na=False)) \n",
    "&\n",
    "(dtr.text.fillna('').astype(str).str.len() < 270)\n",
    "\"\"\""
   ]
  },
  {
   "cell_type": "code",
   "execution_count": 237,
   "id": "5f717070",
   "metadata": {},
   "outputs": [
    {
     "data": {
      "text/html": [
       "<div>\n",
       "<style scoped>\n",
       "    .dataframe tbody tr th:only-of-type {\n",
       "        vertical-align: middle;\n",
       "    }\n",
       "\n",
       "    .dataframe tbody tr th {\n",
       "        vertical-align: top;\n",
       "    }\n",
       "\n",
       "    .dataframe thead th {\n",
       "        text-align: right;\n",
       "    }\n",
       "</style>\n",
       "<table border=\"1\" class=\"dataframe\">\n",
       "  <thead>\n",
       "    <tr style=\"text-align: right;\">\n",
       "      <th></th>\n",
       "      <th>cartoon</th>\n",
       "      <th>text</th>\n",
       "    </tr>\n",
       "  </thead>\n",
       "  <tbody>\n",
       "    <tr>\n",
       "      <th>60320</th>\n",
       "      <td>none</td>\n",
       "      <td>[Злой гений оживил куриц в продуктовом  Союзмультфильм shorts] Смотри все серии Приключений Пети и Волка по ссылке: https://www.youtube.com/channel/UCrXdnHwwyvri5HYeY689sw/videos</td>\n",
       "    </tr>\n",
       "    <tr>\n",
       "      <th>74490</th>\n",
       "      <td>none</td>\n",
       "      <td>[Колобок снова убежал  Союзмультфильм shorts] Смотри полную серию Приключений Пети и Волка Дело Колобка по ссылке: https://youtu.be/73MCZA2hUvQ</td>\n",
       "    </tr>\n",
       "  </tbody>\n",
       "</table>\n",
       "</div>"
      ],
      "text/plain": [
       "      cartoon  \\\n",
       "60320    none   \n",
       "74490    none   \n",
       "\n",
       "                                                                                                                                                                                     text  \n",
       "60320  [Злой гений оживил куриц в продуктовом  Союзмультфильм shorts] Смотри все серии Приключений Пети и Волка по ссылке: https://www.youtube.com/channel/UCrXdnHwwyvri5HYeY689sw/videos  \n",
       "74490                                     [Колобок снова убежал  Союзмультфильм shorts] Смотри полную серию Приключений Пети и Волка Дело Колобка по ссылке: https://youtu.be/73MCZA2hUvQ  "
      ]
     },
     "execution_count": 237,
     "metadata": {},
     "output_type": "execute_result"
    }
   ],
   "source": [
    "ddd[ddd.cartoon!=target]"
   ]
  },
  {
   "cell_type": "markdown",
   "id": "c43393d4",
   "metadata": {},
   "source": [
    "Здесь много ошибок"
   ]
  },
  {
   "cell_type": "code",
   "execution_count": 239,
   "id": "69dc4fcb",
   "metadata": {},
   "outputs": [],
   "source": [
    "d['Приключения Пети и Волка'] = {\n",
    "\n",
    "'order':1,\n",
    "'meth': 'text_and_not_reel_and_lentext_less',\n",
    "'pattern': 'pattern',\n",
    "'stop_pattern': 'stop_pattern',\n",
    "'method':\n",
    "  {\n",
    "    'reel_name': {'any_word_list' : None,\n",
    "                  'all_word_list':None,\n",
    "                  'stop_any' : ['Зебра в клеточку','Зебравклеточку',\n",
    "                                'Царевн','Чучмяуч','Чуч Мяуч',\n",
    "                                'ЧучелоМяучело']\n",
    "                 },\n",
    "    'text'     : {'any_word_list':['Приключения Пети и Волка', 'Приключений Пети и Волка'],\n",
    "                  'all_word_list':None, 'stop_any' : None},\n",
    "    'yt_channel_name' : None,\n",
    "    'is_shorts' : None # value_for_filter (0/1, default=None)\n",
    "  },\n",
    "'comment': 'обработка по тексту. исключения по имени и по длине текста'\n",
    "}"
   ]
  },
  {
   "cell_type": "markdown",
   "id": "247430f7-15dd-43ef-ad48-0b289b787462",
   "metadata": {},
   "source": [
    "## Смешарики"
   ]
  },
  {
   "cell_type": "code",
   "execution_count": 241,
   "id": "fbbbc21b-1686-4b50-abdd-08c66869d8cd",
   "metadata": {},
   "outputs": [
    {
     "data": {
      "text/plain": [
       "cartoon\n",
       "Приключения Пети и Волка    0.000492\n",
       "Смешарики                   0.000492\n",
       "Трансформеры                0.000480\n",
       "Name: proportion, dtype: float64"
      ]
     },
     "metadata": {},
     "output_type": "display_data"
    },
    {
     "data": {
      "text/html": [
       "<div>\n",
       "<style scoped>\n",
       "    .dataframe tbody tr th:only-of-type {\n",
       "        vertical-align: middle;\n",
       "    }\n",
       "\n",
       "    .dataframe tbody tr th {\n",
       "        vertical-align: top;\n",
       "    }\n",
       "\n",
       "    .dataframe thead th {\n",
       "        text-align: right;\n",
       "    }\n",
       "</style>\n",
       "<table border=\"1\" class=\"dataframe\">\n",
       "  <thead>\n",
       "    <tr style=\"text-align: right;\">\n",
       "      <th></th>\n",
       "      <th>yt_channel_name</th>\n",
       "      <th>text</th>\n",
       "    </tr>\n",
       "  </thead>\n",
       "  <tbody>\n",
       "    <tr>\n",
       "      <th>10</th>\n",
       "      <td>КАЛЯКА МАЛЯКА</td>\n",
       "      <td>[Лепим Смешарика Кроша из пластилина. Plasticine. Play doh Cartoon stop motion.] Как слепить из пластилина Смешарика Кроша. Мультики для детей. Cartoon. Группа ВК \"КалякаМаляка\": https://vk.com/kmmult</td>\n",
       "    </tr>\n",
       "  </tbody>\n",
       "</table>\n",
       "</div>"
      ],
      "text/plain": [
       "   yt_channel_name  \\\n",
       "10   КАЛЯКА МАЛЯКА   \n",
       "\n",
       "                                                                                                                                                                                                        text  \n",
       "10  [Лепим Смешарика Кроша из пластилина. Plasticine. Play doh Cartoon stop motion.] Как слепить из пластилина Смешарика Кроша. Мультики для детей. Cartoon. Группа ВК \"КалякаМаляка\": https://vk.com/kmmult  "
      ]
     },
     "execution_count": 241,
     "metadata": {},
     "output_type": "execute_result"
    }
   ],
   "source": [
    "display(dtr.cartoon.value_counts(normalize=True)[21:24])\n",
    "target = 'Смешарики'\n",
    "dtr[dtr.cartoon == target][['yt_channel_name','text']][:1]"
   ]
  },
  {
   "cell_type": "code",
   "execution_count": 242,
   "id": "14f151d6-b863-4bf2-ad7d-4bf5eda96ba1",
   "metadata": {},
   "outputs": [
    {
     "data": {
      "text/html": [
       "<div>\n",
       "<style scoped>\n",
       "    .dataframe tbody tr th:only-of-type {\n",
       "        vertical-align: middle;\n",
       "    }\n",
       "\n",
       "    .dataframe tbody tr th {\n",
       "        vertical-align: top;\n",
       "    }\n",
       "\n",
       "    .dataframe thead th {\n",
       "        text-align: right;\n",
       "    }\n",
       "</style>\n",
       "<table border=\"1\" class=\"dataframe\">\n",
       "  <thead>\n",
       "    <tr style=\"text-align: right;\">\n",
       "      <th></th>\n",
       "      <th>cartoon</th>\n",
       "      <th>yt_channel_name</th>\n",
       "      <th>text</th>\n",
       "      <th>url</th>\n",
       "      <th>language</th>\n",
       "    </tr>\n",
       "  </thead>\n",
       "  <tbody>\n",
       "  </tbody>\n",
       "</table>\n",
       "</div>"
      ],
      "text/plain": [
       "Empty DataFrame\n",
       "Columns: [cartoon, yt_channel_name, text, url, language]\n",
       "Index: []"
      ]
     },
     "execution_count": 242,
     "metadata": {},
     "output_type": "execute_result"
    }
   ],
   "source": [
    "word_list = ['Смешарик']\n",
    "\n",
    "stop_words = []\n",
    "\n",
    "# Преобразуем слова в нижний регистр и экранируем\n",
    "pattern = '|'.join(map(lambda word: re.escape(word.lower()), word_list))\n",
    "\n",
    "dtr[(dtr.cartoon == target) \n",
    "  & ~(dtr.reel_name.fillna('').astype(str).str.lower().str.contains(pattern, na=False)) \n",
    "][['cartoon','yt_channel_name','text','url','language']].head(10)"
   ]
  },
  {
   "cell_type": "code",
   "execution_count": 243,
   "id": "640c327c-8701-407b-9db3-da0c453f9f2f",
   "metadata": {},
   "outputs": [
    {
     "name": "stdout",
     "output_type": "stream",
     "text": [
      "смешарик\n",
      "\n"
     ]
    },
    {
     "data": {
      "text/html": [
       "<div>\n",
       "<style scoped>\n",
       "    .dataframe tbody tr th:only-of-type {\n",
       "        vertical-align: middle;\n",
       "    }\n",
       "\n",
       "    .dataframe tbody tr th {\n",
       "        vertical-align: top;\n",
       "    }\n",
       "\n",
       "    .dataframe thead th {\n",
       "        text-align: right;\n",
       "    }\n",
       "</style>\n",
       "<table border=\"1\" class=\"dataframe\">\n",
       "  <thead>\n",
       "    <tr style=\"text-align: right;\">\n",
       "      <th></th>\n",
       "      <th>cartoon</th>\n",
       "      <th>yt_channel_name</th>\n",
       "      <th>text</th>\n",
       "      <th>url</th>\n",
       "      <th>seconds</th>\n",
       "    </tr>\n",
       "  </thead>\n",
       "  <tbody>\n",
       "  </tbody>\n",
       "</table>\n",
       "</div>"
      ],
      "text/plain": [
       "Empty DataFrame\n",
       "Columns: [cartoon, yt_channel_name, text, url, seconds]\n",
       "Index: []"
      ]
     },
     "execution_count": 243,
     "metadata": {},
     "output_type": "execute_result"
    }
   ],
   "source": [
    "# Преобразуем списки слов в регулярные выражения (без границ слова)\n",
    "word_list_regex = '|'.join([word.lower() for word in word_list])  # Поиск подстрок\n",
    "stop_words_regex = '|'.join([stop_word.lower() for stop_word in stop_words])\n",
    "\n",
    "print(word_list_regex)\n",
    "print(stop_words_regex)\n",
    "\n",
    "# Применяем фильтрацию\n",
    "dtr[\n",
    "    (dtr.cartoon == 'none') &\n",
    "    (dtr.reel_name.fillna('').astype(str).str.lower().str.contains(word_list_regex))  # Любое из слов из word_list\n",
    "][['cartoon', 'yt_channel_name', 'text', 'url','seconds']][:20]"
   ]
  },
  {
   "cell_type": "code",
   "execution_count": 244,
   "id": "9ebe748b",
   "metadata": {},
   "outputs": [
    {
     "data": {
      "text/plain": [
       "cartoon\n",
       "Смешарики    41\n",
       "Name: count, dtype: int64"
      ]
     },
     "metadata": {},
     "output_type": "display_data"
    },
    {
     "data": {
      "text/plain": [
       "(41,)"
      ]
     },
     "metadata": {},
     "output_type": "display_data"
    },
    {
     "name": "stdout",
     "output_type": "stream",
     "text": [
      "\n"
     ]
    },
    {
     "data": {
      "text/plain": [
       "(41, 16)"
      ]
     },
     "execution_count": 244,
     "metadata": {},
     "output_type": "execute_result"
    }
   ],
   "source": [
    "ddd = \\\n",
    "dtr[\n",
    "    (dtr.reel_name.fillna('').astype(str).str.lower().str.contains(pattern, na=False))\n",
    "][['cartoon','text']]\n",
    "\n",
    "display(ddd['cartoon'].value_counts())\n",
    "display(ddd['cartoon'].shape)\n",
    "print()\n",
    "dtr[dtr.cartoon == target].shape"
   ]
  },
  {
   "cell_type": "code",
   "execution_count": 245,
   "id": "a2068f60-54fc-43b7-ad26-0a943ab36697",
   "metadata": {},
   "outputs": [],
   "source": [
    "d['Смешарики'] = {\n",
    "\n",
    "'order':-1,\n",
    "'meth': 'reel_name_only',\n",
    "'pattern': 'pattern',\n",
    "'stop_pattern': None,\n",
    "'method':\n",
    "  {\n",
    "    'reel_name': {'any_word_list' : ['Смешарик'],\n",
    "                  'all_word_list':None,\n",
    "                  'stop_any' : None\n",
    "                 },\n",
    "    'text'     : None,\n",
    "    'yt_channel_name' : None,\n",
    "    'is_shorts' : None # value_for_filter (0/1, default=None)\n",
    "  },\n",
    "'comment': 'обработка по имени'\n",
    "}"
   ]
  },
  {
   "cell_type": "markdown",
   "id": "3f4644cb-528f-45d0-915d-78affed65ce5",
   "metadata": {},
   "source": [
    "## Трансформеры"
   ]
  },
  {
   "cell_type": "code",
   "execution_count": 247,
   "id": "361f38d9-a3a9-4898-95bc-ba3d103c004d",
   "metadata": {},
   "outputs": [
    {
     "data": {
      "text/plain": [
       "cartoon\n",
       "Смешарики        0.000492\n",
       "Трансформеры     0.000480\n",
       "Простоквашино    0.000420\n",
       "Name: proportion, dtype: float64"
      ]
     },
     "metadata": {},
     "output_type": "display_data"
    }
   ],
   "source": [
    "display(dtr.cartoon.value_counts(normalize=True)[22:25])\n",
    "target = 'Трансформеры'\n",
    "# dtr[dtr.cartoon == target][['yt_channel_name','text']][:1]"
   ]
  },
  {
   "cell_type": "code",
   "execution_count": 248,
   "id": "ce26b9b5-3acc-4e12-ba65-5c54481e1afb",
   "metadata": {},
   "outputs": [
    {
     "data": {
      "text/html": [
       "<div>\n",
       "<style scoped>\n",
       "    .dataframe tbody tr th:only-of-type {\n",
       "        vertical-align: middle;\n",
       "    }\n",
       "\n",
       "    .dataframe tbody tr th {\n",
       "        vertical-align: top;\n",
       "    }\n",
       "\n",
       "    .dataframe thead th {\n",
       "        text-align: right;\n",
       "    }\n",
       "</style>\n",
       "<table border=\"1\" class=\"dataframe\">\n",
       "  <thead>\n",
       "    <tr style=\"text-align: right;\">\n",
       "      <th></th>\n",
       "      <th>cartoon</th>\n",
       "      <th>yt_channel_name</th>\n",
       "      <th>text</th>\n",
       "      <th>url</th>\n",
       "      <th>language</th>\n",
       "    </tr>\n",
       "  </thead>\n",
       "  <tbody>\n",
       "  </tbody>\n",
       "</table>\n",
       "</div>"
      ],
      "text/plain": [
       "Empty DataFrame\n",
       "Columns: [cartoon, yt_channel_name, text, url, language]\n",
       "Index: []"
      ]
     },
     "execution_count": 248,
     "metadata": {},
     "output_type": "execute_result"
    }
   ],
   "source": [
    "word_list = ['Трансформеры']\n",
    "\n",
    "stop_words = []\n",
    "\n",
    "# Преобразуем слова в нижний регистр и экранируем\n",
    "pattern = '|'.join(map(lambda word: re.escape(word.lower()), word_list))\n",
    "\n",
    "dtr[(dtr.cartoon == target) \n",
    "  & ~(dtr.reel_name.fillna('').astype(str).str.lower().str.contains(pattern, na=False)) \n",
    "][['cartoon','yt_channel_name','text','url','language']].head(10)"
   ]
  },
  {
   "cell_type": "code",
   "execution_count": 249,
   "id": "769092c7-9d59-4f5b-aa7e-30a090b1e4c8",
   "metadata": {},
   "outputs": [
    {
     "name": "stdout",
     "output_type": "stream",
     "text": [
      "трансформеры\n",
      "\n"
     ]
    },
    {
     "data": {
      "text/html": [
       "<div>\n",
       "<style scoped>\n",
       "    .dataframe tbody tr th:only-of-type {\n",
       "        vertical-align: middle;\n",
       "    }\n",
       "\n",
       "    .dataframe tbody tr th {\n",
       "        vertical-align: top;\n",
       "    }\n",
       "\n",
       "    .dataframe thead th {\n",
       "        text-align: right;\n",
       "    }\n",
       "</style>\n",
       "<table border=\"1\" class=\"dataframe\">\n",
       "  <thead>\n",
       "    <tr style=\"text-align: right;\">\n",
       "      <th></th>\n",
       "      <th>cartoon</th>\n",
       "      <th>yt_channel_name</th>\n",
       "      <th>text</th>\n",
       "      <th>url</th>\n",
       "      <th>seconds</th>\n",
       "    </tr>\n",
       "  </thead>\n",
       "  <tbody>\n",
       "  </tbody>\n",
       "</table>\n",
       "</div>"
      ],
      "text/plain": [
       "Empty DataFrame\n",
       "Columns: [cartoon, yt_channel_name, text, url, seconds]\n",
       "Index: []"
      ]
     },
     "execution_count": 249,
     "metadata": {},
     "output_type": "execute_result"
    }
   ],
   "source": [
    "# Преобразуем списки слов в регулярные выражения (без границ слова)\n",
    "word_list_regex = '|'.join([word.lower() for word in word_list])  # Поиск подстрок\n",
    "stop_words_regex = '|'.join([stop_word.lower() for stop_word in stop_words])\n",
    "\n",
    "print(word_list_regex)\n",
    "print(stop_words_regex)\n",
    "\n",
    "# Применяем фильтрацию\n",
    "dtr[\n",
    "    (dtr.cartoon == 'none') &\n",
    "    (dtr.reel_name.fillna('').astype(str).str.lower().str.contains(word_list_regex))\n",
    "][['cartoon', 'yt_channel_name', 'text', 'url','seconds']][:20]"
   ]
  },
  {
   "cell_type": "code",
   "execution_count": 250,
   "id": "61aa9b4e",
   "metadata": {},
   "outputs": [
    {
     "data": {
      "text/plain": [
       "cartoon\n",
       "Трансформеры    40\n",
       "Name: count, dtype: int64"
      ]
     },
     "metadata": {},
     "output_type": "display_data"
    },
    {
     "data": {
      "text/plain": [
       "(40,)"
      ]
     },
     "metadata": {},
     "output_type": "display_data"
    },
    {
     "name": "stdout",
     "output_type": "stream",
     "text": [
      "\n"
     ]
    },
    {
     "data": {
      "text/plain": [
       "(40, 16)"
      ]
     },
     "execution_count": 250,
     "metadata": {},
     "output_type": "execute_result"
    }
   ],
   "source": [
    "ddd = \\\n",
    "dtr[\n",
    "    (dtr.reel_name.fillna('').astype(str).str.lower().str.contains(pattern, na=False))\n",
    "][['cartoon','text']]\n",
    "\n",
    "display(ddd['cartoon'].value_counts())\n",
    "display(ddd['cartoon'].shape)\n",
    "print()\n",
    "dtr[dtr.cartoon == target].shape"
   ]
  },
  {
   "cell_type": "code",
   "execution_count": 251,
   "id": "e25e78a8-c75a-4bfe-8588-0c24127de2e1",
   "metadata": {},
   "outputs": [],
   "source": [
    "d['Трансформеры'] = {\n",
    "\n",
    "'order':0,\n",
    "'meth': 'reel_name_only',\n",
    "'pattern': 'pattern',\n",
    "'stop_pattern': None,\n",
    "'method':\n",
    "  {\n",
    "    'reel_name': {'any_word_list' : ['Трансформеры'],\n",
    "                  'all_word_list':None,\n",
    "                  'stop_any' : None\n",
    "                 },\n",
    "    'text'     : None,\n",
    "    'yt_channel_name' : None,\n",
    "    'is_shorts' : None # value_for_filter (0/1, default=None)\n",
    "  },\n",
    "'comment': 'обработка по имени'\n",
    "}"
   ]
  },
  {
   "cell_type": "markdown",
   "id": "d049a220-39a4-4f8f-8ce5-d81d1e37a30b",
   "metadata": {},
   "source": [
    "## Простоквашино"
   ]
  },
  {
   "cell_type": "code",
   "execution_count": 253,
   "id": "177c4803-5de2-443f-96fc-368c348abcc8",
   "metadata": {},
   "outputs": [
    {
     "data": {
      "text/plain": [
       "cartoon\n",
       "Трансформеры     0.000480\n",
       "Простоквашино    0.000420\n",
       "Царевны          0.000384\n",
       "Name: proportion, dtype: float64"
      ]
     },
     "metadata": {},
     "output_type": "display_data"
    },
    {
     "data": {
      "text/html": [
       "<div>\n",
       "<style scoped>\n",
       "    .dataframe tbody tr th:only-of-type {\n",
       "        vertical-align: middle;\n",
       "    }\n",
       "\n",
       "    .dataframe tbody tr th {\n",
       "        vertical-align: top;\n",
       "    }\n",
       "\n",
       "    .dataframe thead th {\n",
       "        text-align: right;\n",
       "    }\n",
       "</style>\n",
       "<table border=\"1\" class=\"dataframe\">\n",
       "  <thead>\n",
       "    <tr style=\"text-align: right;\">\n",
       "      <th></th>\n",
       "      <th>yt_channel_name</th>\n",
       "      <th>text</th>\n",
       "    </tr>\n",
       "  </thead>\n",
       "  <tbody>\n",
       "    <tr>\n",
       "      <th>1534</th>\n",
       "      <td>Союзмультфильм #Shorts</td>\n",
       "      <td>[Шарика лечат от храпа  Союзмультфильм shorts] Все новые серии Простоквашино: https://www.youtube.com/c/SoyuzmultfilmСмотри полную серию Неспящие в Простоквашино в Okko: https://okko.tv/serial/prostokvashino</td>\n",
       "    </tr>\n",
       "  </tbody>\n",
       "</table>\n",
       "</div>"
      ],
      "text/plain": [
       "             yt_channel_name  \\\n",
       "1534  Союзмультфильм #Shorts   \n",
       "\n",
       "                                                                                                                                                                                                                 text  \n",
       "1534  [Шарика лечат от храпа  Союзмультфильм shorts] Все новые серии Простоквашино: https://www.youtube.com/c/SoyuzmultfilmСмотри полную серию Неспящие в Простоквашино в Okko: https://okko.tv/serial/prostokvashino  "
      ]
     },
     "execution_count": 253,
     "metadata": {},
     "output_type": "execute_result"
    }
   ],
   "source": [
    "display(dtr.cartoon.value_counts(normalize=True)[23:26])\n",
    "target = 'Простоквашино'\n",
    "dtr[dtr.cartoon == target][['yt_channel_name','text']][:1]"
   ]
  },
  {
   "cell_type": "code",
   "execution_count": 254,
   "id": "f094d969-c170-4518-bcdb-4c46fee784b9",
   "metadata": {},
   "outputs": [
    {
     "data": {
      "text/html": [
       "<div>\n",
       "<style scoped>\n",
       "    .dataframe tbody tr th:only-of-type {\n",
       "        vertical-align: middle;\n",
       "    }\n",
       "\n",
       "    .dataframe tbody tr th {\n",
       "        vertical-align: top;\n",
       "    }\n",
       "\n",
       "    .dataframe thead th {\n",
       "        text-align: right;\n",
       "    }\n",
       "</style>\n",
       "<table border=\"1\" class=\"dataframe\">\n",
       "  <thead>\n",
       "    <tr style=\"text-align: right;\">\n",
       "      <th></th>\n",
       "      <th>cartoon</th>\n",
       "      <th>yt_channel_name</th>\n",
       "      <th>text</th>\n",
       "      <th>url</th>\n",
       "      <th>language</th>\n",
       "    </tr>\n",
       "  </thead>\n",
       "  <tbody>\n",
       "    <tr>\n",
       "      <th>1534</th>\n",
       "      <td>Простоквашино</td>\n",
       "      <td>Союзмультфильм #Shorts</td>\n",
       "      <td>[Шарика лечат от храпа  Союзмультфильм shorts] Все новые серии Простоквашино: https://www.youtube.com/c/SoyuzmultfilmСмотри полную серию Неспящие в Простоквашино в Okko: https://okko.tv/serial/prostokvashino</td>\n",
       "      <td>https://www.youtube.com/watch?v=TgC8X7SSXRQ</td>\n",
       "      <td>-1</td>\n",
       "    </tr>\n",
       "    <tr>\n",
       "      <th>9005</th>\n",
       "      <td>Простоквашино</td>\n",
       "      <td>Союзмультфильм #Shorts</td>\n",
       "      <td>[Вера Павловна поймала папу  Союзмультфильм shorts] Смотри полную серию Простоквашино Одни дома по ссылке: https://youtu.be/wJpPNN0KU5A</td>\n",
       "      <td>https://www.youtube.com/watch?v=AyV4OZy9WtE</td>\n",
       "      <td>-1</td>\n",
       "    </tr>\n",
       "    <tr>\n",
       "      <th>10453</th>\n",
       "      <td>Простоквашино</td>\n",
       "      <td>Союзмультфильм #Shorts</td>\n",
       "      <td>[Бедный Печкин  Союзмультфильм shorts] Смотри полную серию Простоквашино Одни дома по ссылке: https://youtu.be/wJpPNN0KU5A</td>\n",
       "      <td>https://www.youtube.com/watch?v=HawuBZUuV0k</td>\n",
       "      <td>-1</td>\n",
       "    </tr>\n",
       "    <tr>\n",
       "      <th>12831</th>\n",
       "      <td>Простоквашино</td>\n",
       "      <td>Союзмультфильм #Shorts</td>\n",
       "      <td>[Печкин дарит леща  Союзмультфильм shorts] Все новые серии Простоквашино: https://www.youtube.com/c/SoyuzmultfilmСмотри полную серию Картонная любовь в Okko: https://okko.tv/serial/prostokvashino</td>\n",
       "      <td>https://www.youtube.com/watch?v=DKTnev21hHo</td>\n",
       "      <td>-1</td>\n",
       "    </tr>\n",
       "    <tr>\n",
       "      <th>13991</th>\n",
       "      <td>Простоквашино</td>\n",
       "      <td>Союзмультфильм #Shorts</td>\n",
       "      <td>[Шарик спас Дядю Федора  Союзмультфильм shorts] Смотри полную серию Простоквашино Шар для Шарика по ссылке: https://youtu.be/DsWEEHYkl1M</td>\n",
       "      <td>https://www.youtube.com/watch?v=GwNET_Hkq40</td>\n",
       "      <td>-1</td>\n",
       "    </tr>\n",
       "    <tr>\n",
       "      <th>14474</th>\n",
       "      <td>Простоквашино</td>\n",
       "      <td>Союзмультфильм #Shorts</td>\n",
       "      <td>[Матроскин и Шарик готовят для Мамы праздничный завтрак с творогом к 8 марта shorts] В Простоквашино полным ходом готовятся к 8 Марта Матроскин уже придумал рецепт вкусного и красивого праздничного завтрака для мамы  Смотрите новый ролик и готовьте полосатый сюрприз   8МартаСмотри полные серии Простоквашино: https://youtube.com/playlistlistPLPf2EPsgjY3zZ4uxRoUB61apWQr4CiWa</td>\n",
       "      <td>https://www.youtube.com/watch?v=TD2ZqfyfveI</td>\n",
       "      <td>-1</td>\n",
       "    </tr>\n",
       "    <tr>\n",
       "      <th>18714</th>\n",
       "      <td>Простоквашино</td>\n",
       "      <td>Союзмультфильм #Shorts</td>\n",
       "      <td>[Зря Печкин связался с Верой Павловной и ТамойТамой  Союзмультфильм shorts] Смотри полную серию Простоквашино Одни дома по ссылке: https://youtu.be/wJpPNN0KU5A</td>\n",
       "      <td>https://www.youtube.com/watch?v=zC1NYbD5ODY</td>\n",
       "      <td>-1</td>\n",
       "    </tr>\n",
       "    <tr>\n",
       "      <th>19951</th>\n",
       "      <td>Простоквашино</td>\n",
       "      <td>Союзмультфильм #Shorts</td>\n",
       "      <td>[Шарик больше ни в чем не уверен  Союзмультфильм shorts] Смотри полную серию Простоквашино Шар для Шарика по ссылке: https://youtu.be/DsWEEHYkl1M</td>\n",
       "      <td>https://www.youtube.com/watch?v=a6Y8Pr87ojM</td>\n",
       "      <td>-1</td>\n",
       "    </tr>\n",
       "    <tr>\n",
       "      <th>21560</th>\n",
       "      <td>Простоквашино</td>\n",
       "      <td>Русские мультфильмы</td>\n",
       "      <td>[Дядя Федор, Пес и Кот. Матроскин и Шарик 1976. Советский мультфильм  Золотая коллекция] БЕСПЛАТНО СМОТРИМ ВСЁ ТУТ  https://smotrim.ru/brands/tag/231140/utmsourceyoutubeutmmediumallutmcampaignall0 Советский мультфильм \"Дядя Федор, Пес и Кот. Матроскин и Шарик\" о приключениях мальчика пяти лет.Подписаться на лучшие советские мультики https://www.youtube.com/channel/UCU06hfFzcBjQl9Ih2SvpoQsubconfirmation1Все мультфильмы подряд https://www.youtube.com/playlistlistPLYymTuJXocGKmjzy9GLsS4GIl89EXdkЭтот мультипликационный минисериал  первая экранизация сказки Эдуарда Успенского о веселых приключениях самостоятельного мальчика пяти лет Дяди Федора, кота Матроскина и пса Шарика. Матроскин и Шарик  приключения начинаются.Дяде Федору родители не разрешили оставить дома говорящего кота, которого он подобрал на улице. Собрав свои вещички и Матроскина, так теперь зовут кота, он написал прощальное письмо родителям и уехал в деревню Простоквашино, где они поселились в ничейном доме. Здесь к ним присоединился пес ШарикСмотрите также другие популярные советские мультфильмы:Мама для мамонтёнка https://www.youtube.com/watchvsVYMsNay8G0По дороге с облаками https://www.youtube.com/watchv0DnjD7w2FIПодарок для слона https://www.youtube.com/watchv5FZ1yKwQCOYДом для Кузьки https://www.youtube.com/watchv8JFdlT5XGNcПадал прошлогодний снег https://www.youtube.com/watchvDwJznO6SqyMКлад. Тигрёнок и его друзья https://www.youtube.com/watchvIz1kKv34wYТрям Здравствуйте https://www.youtube.com/watchvV4pG9UISMu8Крошка Енот https://www.youtube.com/watchvdjGa71cPvD4Ну, погоди https://www.youtube.com/watchvzbDFapTqA</td>\n",
       "      <td>https://www.youtube.com/watch?v=OxFmodRTisE</td>\n",
       "      <td>-1</td>\n",
       "    </tr>\n",
       "    <tr>\n",
       "      <th>23052</th>\n",
       "      <td>Простоквашино</td>\n",
       "      <td>Союзмультфильм #Shorts</td>\n",
       "      <td>[Шарик  гениальный стратег  Союзмультфильм shorts] Смотри полную серию Простоквашино Новый босс по ссылке: https://youtu.be/4z9C5yKsORw</td>\n",
       "      <td>https://www.youtube.com/watch?v=8Lq-z4DPXM0</td>\n",
       "      <td>-1</td>\n",
       "    </tr>\n",
       "  </tbody>\n",
       "</table>\n",
       "</div>"
      ],
      "text/plain": [
       "             cartoon         yt_channel_name  \\\n",
       "1534   Простоквашино  Союзмультфильм #Shorts   \n",
       "9005   Простоквашино  Союзмультфильм #Shorts   \n",
       "10453  Простоквашино  Союзмультфильм #Shorts   \n",
       "12831  Простоквашино  Союзмультфильм #Shorts   \n",
       "13991  Простоквашино  Союзмультфильм #Shorts   \n",
       "14474  Простоквашино  Союзмультфильм #Shorts   \n",
       "18714  Простоквашино  Союзмультфильм #Shorts   \n",
       "19951  Простоквашино  Союзмультфильм #Shorts   \n",
       "21560  Простоквашино     Русские мультфильмы   \n",
       "23052  Простоквашино  Союзмультфильм #Shorts   \n",
       "\n",
       "                                                                                                                                                                                                                                                                                                                                                                                                                                                                                                                                                                                                                                                                                                                                                                                                                                                                                                                                                                                                                                                                                                                                                                                                                                                                                                                                                                                                                                                                                                                                                                                                                                                                       text  \\\n",
       "1534                                                                                                                                                                                                                                                                                                                                                                                                                                                                                                                                                                                                                                                                                                                                                                                                                                                                                                                                                                                                                                                                                                                                                                                                                                                                                                                                                                                                                                                        [Шарика лечат от храпа  Союзмультфильм shorts] Все новые серии Простоквашино: https://www.youtube.com/c/SoyuzmultfilmСмотри полную серию Неспящие в Простоквашино в Okko: https://okko.tv/serial/prostokvashino   \n",
       "9005                                                                                                                                                                                                                                                                                                                                                                                                                                                                                                                                                                                                                                                                                                                                                                                                                                                                                                                                                                                                                                                                                                                                                                                                                                                                                                                                                                                                                                                                                                                                [Вера Павловна поймала папу  Союзмультфильм shorts] Смотри полную серию Простоквашино Одни дома по ссылке: https://youtu.be/wJpPNN0KU5A   \n",
       "10453                                                                                                                                                                                                                                                                                                                                                                                                                                                                                                                                                                                                                                                                                                                                                                                                                                                                                                                                                                                                                                                                                                                                                                                                                                                                                                                                                                                                                                                                                                                                            [Бедный Печкин  Союзмультфильм shorts] Смотри полную серию Простоквашино Одни дома по ссылке: https://youtu.be/wJpPNN0KU5A   \n",
       "12831                                                                                                                                                                                                                                                                                                                                                                                                                                                                                                                                                                                                                                                                                                                                                                                                                                                                                                                                                                                                                                                                                                                                                                                                                                                                                                                                                                                                                                                                   [Печкин дарит леща  Союзмультфильм shorts] Все новые серии Простоквашино: https://www.youtube.com/c/SoyuzmultfilmСмотри полную серию Картонная любовь в Okko: https://okko.tv/serial/prostokvashino   \n",
       "13991                                                                                                                                                                                                                                                                                                                                                                                                                                                                                                                                                                                                                                                                                                                                                                                                                                                                                                                                                                                                                                                                                                                                                                                                                                                                                                                                                                                                                                                                                                                              [Шарик спас Дядю Федора  Союзмультфильм shorts] Смотри полную серию Простоквашино Шар для Шарика по ссылке: https://youtu.be/DsWEEHYkl1M   \n",
       "14474                                                                                                                                                                                                                                                                                                                                                                                                                                                                                                                                                                                                                                                                                                                                                                                                                                                                                                                                                                                                                                                                                                                                                                                                                                                                               [Матроскин и Шарик готовят для Мамы праздничный завтрак с творогом к 8 марта shorts] В Простоквашино полным ходом готовятся к 8 Марта Матроскин уже придумал рецепт вкусного и красивого праздничного завтрака для мамы  Смотрите новый ролик и готовьте полосатый сюрприз   8МартаСмотри полные серии Простоквашино: https://youtube.com/playlistlistPLPf2EPsgjY3zZ4uxRoUB61apWQr4CiWa   \n",
       "18714                                                                                                                                                                                                                                                                                                                                                                                                                                                                                                                                                                                                                                                                                                                                                                                                                                                                                                                                                                                                                                                                                                                                                                                                                                                                                                                                                                                                                                                                                                       [Зря Печкин связался с Верой Павловной и ТамойТамой  Союзмультфильм shorts] Смотри полную серию Простоквашино Одни дома по ссылке: https://youtu.be/wJpPNN0KU5A   \n",
       "19951                                                                                                                                                                                                                                                                                                                                                                                                                                                                                                                                                                                                                                                                                                                                                                                                                                                                                                                                                                                                                                                                                                                                                                                                                                                                                                                                                                                                                                                                                                                     [Шарик больше ни в чем не уверен  Союзмультфильм shorts] Смотри полную серию Простоквашино Шар для Шарика по ссылке: https://youtu.be/DsWEEHYkl1M   \n",
       "21560  [Дядя Федор, Пес и Кот. Матроскин и Шарик 1976. Советский мультфильм  Золотая коллекция] БЕСПЛАТНО СМОТРИМ ВСЁ ТУТ  https://smotrim.ru/brands/tag/231140/utmsourceyoutubeutmmediumallutmcampaignall0 Советский мультфильм \"Дядя Федор, Пес и Кот. Матроскин и Шарик\" о приключениях мальчика пяти лет.Подписаться на лучшие советские мультики https://www.youtube.com/channel/UCU06hfFzcBjQl9Ih2SvpoQsubconfirmation1Все мультфильмы подряд https://www.youtube.com/playlistlistPLYymTuJXocGKmjzy9GLsS4GIl89EXdkЭтот мультипликационный минисериал  первая экранизация сказки Эдуарда Успенского о веселых приключениях самостоятельного мальчика пяти лет Дяди Федора, кота Матроскина и пса Шарика. Матроскин и Шарик  приключения начинаются.Дяде Федору родители не разрешили оставить дома говорящего кота, которого он подобрал на улице. Собрав свои вещички и Матроскина, так теперь зовут кота, он написал прощальное письмо родителям и уехал в деревню Простоквашино, где они поселились в ничейном доме. Здесь к ним присоединился пес ШарикСмотрите также другие популярные советские мультфильмы:Мама для мамонтёнка https://www.youtube.com/watchvsVYMsNay8G0По дороге с облаками https://www.youtube.com/watchv0DnjD7w2FIПодарок для слона https://www.youtube.com/watchv5FZ1yKwQCOYДом для Кузьки https://www.youtube.com/watchv8JFdlT5XGNcПадал прошлогодний снег https://www.youtube.com/watchvDwJznO6SqyMКлад. Тигрёнок и его друзья https://www.youtube.com/watchvIz1kKv34wYТрям Здравствуйте https://www.youtube.com/watchvV4pG9UISMu8Крошка Енот https://www.youtube.com/watchvdjGa71cPvD4Ну, погоди https://www.youtube.com/watchvzbDFapTqA   \n",
       "23052                                                                                                                                                                                                                                                                                                                                                                                                                                                                                                                                                                                                                                                                                                                                                                                                                                                                                                                                                                                                                                                                                                                                                                                                                                                                                                                                                                                                                                                                                                                               [Шарик  гениальный стратег  Союзмультфильм shorts] Смотри полную серию Простоквашино Новый босс по ссылке: https://youtu.be/4z9C5yKsORw   \n",
       "\n",
       "                                               url language  \n",
       "1534   https://www.youtube.com/watch?v=TgC8X7SSXRQ       -1  \n",
       "9005   https://www.youtube.com/watch?v=AyV4OZy9WtE       -1  \n",
       "10453  https://www.youtube.com/watch?v=HawuBZUuV0k       -1  \n",
       "12831  https://www.youtube.com/watch?v=DKTnev21hHo       -1  \n",
       "13991  https://www.youtube.com/watch?v=GwNET_Hkq40       -1  \n",
       "14474  https://www.youtube.com/watch?v=TD2ZqfyfveI       -1  \n",
       "18714  https://www.youtube.com/watch?v=zC1NYbD5ODY       -1  \n",
       "19951  https://www.youtube.com/watch?v=a6Y8Pr87ojM       -1  \n",
       "21560  https://www.youtube.com/watch?v=OxFmodRTisE       -1  \n",
       "23052  https://www.youtube.com/watch?v=8Lq-z4DPXM0       -1  "
      ]
     },
     "execution_count": 254,
     "metadata": {},
     "output_type": "execute_result"
    }
   ],
   "source": [
    "word_list = ['Простоквашино','Дядя Федор','Шарик','Вера Павловна','Печкин',\n",
    "             'Матроскошарик','Матроскин','Дяди Федора','Гаврюша','Галчонок',\n",
    "             'Маргарита Егоровна']\n",
    "\n",
    "stop_words = []\n",
    "\n",
    "# Преобразуем слова в нижний регистр и экранируем\n",
    "# pattern = '|'.join(map(lambda word: re.escape(word.lower()), word_list))\n",
    "pattern = '|'.join([word.lower() for word in word_list])\n",
    "\n",
    "dtr[(dtr.cartoon == target) \n",
    "  & ~(dtr.reel_name.fillna('').astype(str).str.contains(pattern, na=False)) \n",
    "][['cartoon','yt_channel_name','text','url','language']].head(10)"
   ]
  },
  {
   "cell_type": "code",
   "execution_count": 255,
   "id": "36a960e9-dc91-490e-80fa-baa72004f9e4",
   "metadata": {
    "scrolled": true
   },
   "outputs": [
    {
     "name": "stdout",
     "output_type": "stream",
     "text": [
      "простоквашино|дядя федор|шарик|вера павловна|печкин|матроскошарик|матроскин|дяди федора|гаврюша|галчонок|маргарита егоровна\n",
      "\n"
     ]
    },
    {
     "data": {
      "text/html": [
       "<div>\n",
       "<style scoped>\n",
       "    .dataframe tbody tr th:only-of-type {\n",
       "        vertical-align: middle;\n",
       "    }\n",
       "\n",
       "    .dataframe tbody tr th {\n",
       "        vertical-align: top;\n",
       "    }\n",
       "\n",
       "    .dataframe thead th {\n",
       "        text-align: right;\n",
       "    }\n",
       "</style>\n",
       "<table border=\"1\" class=\"dataframe\">\n",
       "  <thead>\n",
       "    <tr style=\"text-align: right;\">\n",
       "      <th></th>\n",
       "      <th>cartoon</th>\n",
       "      <th>yt_channel_name</th>\n",
       "      <th>text</th>\n",
       "      <th>url</th>\n",
       "      <th>seconds</th>\n",
       "    </tr>\n",
       "  </thead>\n",
       "  <tbody>\n",
       "    <tr>\n",
       "      <th>1534</th>\n",
       "      <td>Простоквашино</td>\n",
       "      <td>Союзмультфильм #Shorts</td>\n",
       "      <td>[Шарика лечат от храпа  Союзмультфильм shorts] Все новые серии Простоквашино: https://www.youtube.com/c/SoyuzmultfilmСмотри полную серию Неспящие в Простоквашино в Okko: https://okko.tv/serial/prostokvashino</td>\n",
       "      <td>https://www.youtube.com/watch?v=TgC8X7SSXRQ</td>\n",
       "      <td>55.0</td>\n",
       "    </tr>\n",
       "  </tbody>\n",
       "</table>\n",
       "</div>"
      ],
      "text/plain": [
       "            cartoon         yt_channel_name  \\\n",
       "1534  Простоквашино  Союзмультфильм #Shorts   \n",
       "\n",
       "                                                                                                                                                                                                                 text  \\\n",
       "1534  [Шарика лечат от храпа  Союзмультфильм shorts] Все новые серии Простоквашино: https://www.youtube.com/c/SoyuzmultfilmСмотри полную серию Неспящие в Простоквашино в Okko: https://okko.tv/serial/prostokvashino   \n",
       "\n",
       "                                              url  seconds  \n",
       "1534  https://www.youtube.com/watch?v=TgC8X7SSXRQ     55.0  "
      ]
     },
     "execution_count": 255,
     "metadata": {},
     "output_type": "execute_result"
    }
   ],
   "source": [
    "# Преобразуем списки слов в регулярные выражения (без границ слова)\n",
    "word_list_regex = '|'.join([word.lower() for word in word_list])  # Поиск подстрок\n",
    "stop_words_regex = '|'.join([stop_word.lower() for stop_word in stop_words])\n",
    "\n",
    "print(word_list_regex)\n",
    "print(stop_words_regex)\n",
    "\n",
    "# Применяем фильтрацию\n",
    "dtr[\n",
    "#     (dtr.cartoon == 'none') &\n",
    "    (dtr.reel_name.fillna('').astype(str).str.lower().str.contains(word_list_regex))  # Любое из слов из word_list\n",
    "  & (dtr.text.fillna('').astype(str).str.contains('Простоквашино'))\n",
    "][['cartoon', 'yt_channel_name', 'text', 'url','seconds']][:1]"
   ]
  },
  {
   "cell_type": "code",
   "execution_count": 256,
   "id": "381553d2",
   "metadata": {},
   "outputs": [
    {
     "data": {
      "text/plain": [
       "cartoon\n",
       "Простоквашино    33\n",
       "Name: count, dtype: int64"
      ]
     },
     "metadata": {},
     "output_type": "display_data"
    },
    {
     "data": {
      "text/plain": [
       "(33,)"
      ]
     },
     "metadata": {},
     "output_type": "display_data"
    },
    {
     "name": "stdout",
     "output_type": "stream",
     "text": [
      "\n"
     ]
    },
    {
     "data": {
      "text/plain": [
       "(35, 16)"
      ]
     },
     "execution_count": 256,
     "metadata": {},
     "output_type": "execute_result"
    }
   ],
   "source": [
    "ddd = \\\n",
    "dtr[\n",
    "    (dtr.reel_name.fillna('').astype(str).str.lower().str.contains(pattern, na=False)) \n",
    "    & (dtr.text.fillna('').astype(str).str.lower().str.contains('простоквашино'))\n",
    "][['cartoon','text']]\n",
    "display(ddd['cartoon'].value_counts())\n",
    "display(ddd['cartoon'].shape)\n",
    "print()\n",
    "dtr[dtr.cartoon == target].shape"
   ]
  },
  {
   "cell_type": "code",
   "execution_count": 257,
   "id": "e01548bd-febd-4282-acab-a7a39938369d",
   "metadata": {},
   "outputs": [
    {
     "data": {
      "text/plain": [
       "dict_keys(['Маша и медведь', 'pattern', 'reel_name_only', 'reel_name_or_channel_name', 'text_only', 'stop_pattern', 'reel_or_channel_and_not_text', 'stop_words_regex', 'reel_and_not_text', 'text_and_not_reel_and_lentext_less'])"
      ]
     },
     "execution_count": 257,
     "metadata": {},
     "output_type": "execute_result"
    }
   ],
   "source": [
    "meth.keys()"
   ]
  },
  {
   "cell_type": "code",
   "execution_count": 258,
   "id": "ba317141-cc72-44bd-a0c5-defb3a968ca9",
   "metadata": {},
   "outputs": [],
   "source": [
    "meth['reel_and_text']=\\\n",
    "\"\"\"\n",
    "(dtr.reel_name.fillna('').astype(str).str.lower().str.contains(pattern, na=False)) \n",
    "& (dtr.text.fillna('').astype(str).str.lower().str.contains('простоквашино'))\n",
    "\"\"\""
   ]
  },
  {
   "cell_type": "code",
   "execution_count": 259,
   "id": "fa99b79f",
   "metadata": {},
   "outputs": [],
   "source": [
    "d['Простоквашино'] = {\n",
    "\n",
    "'order':0,\n",
    "'meth': 'reel_and_text',\n",
    "'pattern': 'pattern',\n",
    "'stop_pattern': None,\n",
    "'method':\n",
    "  {\n",
    "    'reel_name': {'any_word_list' : ['Простоквашино','Дядя Федор','Шарик','Вера Павловна','Печкин',\n",
    "                                 'Матроскошарик','Матроскин','Дяди Федора','Гаврюша','Галчонок',\n",
    "                                 'Маргарита Егоровна'],\n",
    "                  'all_word_list':None,\n",
    "                  'stop_any' : None\n",
    "                 },\n",
    "    'text'     : {'any_word_list':['простоквашино'], 'all_word_list':None, 'stop_any' : None},\n",
    "    'yt_channel_name' : None,\n",
    "    'is_shorts' : None # value_for_filter (0/1, default=None)\n",
    "  },\n",
    "'comment': 'обработка по имени'\n",
    "}"
   ]
  },
  {
   "cell_type": "markdown",
   "id": "bd44b6a6-b61b-4417-b7ba-287543502925",
   "metadata": {},
   "source": [
    "## Царевны"
   ]
  },
  {
   "cell_type": "code",
   "execution_count": 261,
   "id": "c7467a03-795a-4037-a3c3-081e779088fd",
   "metadata": {},
   "outputs": [
    {
     "data": {
      "text/plain": [
       "cartoon\n",
       "Простоквашино      0.000420\n",
       "Царевны            0.000384\n",
       "Щенячий патруль    0.000384\n",
       "Name: proportion, dtype: float64"
      ]
     },
     "metadata": {},
     "output_type": "display_data"
    },
    {
     "data": {
      "text/html": [
       "<div>\n",
       "<style scoped>\n",
       "    .dataframe tbody tr th:only-of-type {\n",
       "        vertical-align: middle;\n",
       "    }\n",
       "\n",
       "    .dataframe tbody tr th {\n",
       "        vertical-align: top;\n",
       "    }\n",
       "\n",
       "    .dataframe thead th {\n",
       "        text-align: right;\n",
       "    }\n",
       "</style>\n",
       "<table border=\"1\" class=\"dataframe\">\n",
       "  <thead>\n",
       "    <tr style=\"text-align: right;\">\n",
       "      <th></th>\n",
       "      <th>yt_channel_name</th>\n",
       "      <th>text</th>\n",
       "    </tr>\n",
       "  </thead>\n",
       "  <tbody>\n",
       "    <tr>\n",
       "      <th>384</th>\n",
       "      <td>Жила была Царевна</td>\n",
       "      <td>[Как не быть замарашкой царевна shorts] Когдато Царевна не любила мыться и стала замарашкой, но быстро поняла, что быть чистой намного приятнее. А ещё лучше, если мыться или принимать ванну с косметикой от Царевны Приобрести её можно на Вайлдберриз: https://www.wildberries.ru/catalog/0/search.aspxpage1sortpopularsearchD096D0B8D0BBD0B0D0B1D18BD0BBD0B0D0A6D0B0D180D0B5D0B2D0BDD0B0fbrand41535fsupplier724996</td>\n",
       "    </tr>\n",
       "  </tbody>\n",
       "</table>\n",
       "</div>"
      ],
      "text/plain": [
       "       yt_channel_name  \\\n",
       "384  Жила была Царевна   \n",
       "\n",
       "                                                                                                                                                                                                                                                                                                                                                                                                                       text  \n",
       "384  [Как не быть замарашкой царевна shorts] Когдато Царевна не любила мыться и стала замарашкой, но быстро поняла, что быть чистой намного приятнее. А ещё лучше, если мыться или принимать ванну с косметикой от Царевны Приобрести её можно на Вайлдберриз: https://www.wildberries.ru/catalog/0/search.aspxpage1sortpopularsearchD096D0B8D0BBD0B0D0B1D18BD0BBD0B0D0A6D0B0D180D0B5D0B2D0BDD0B0fbrand41535fsupplier724996  "
      ]
     },
     "execution_count": 261,
     "metadata": {},
     "output_type": "execute_result"
    }
   ],
   "source": [
    "display(dtr.cartoon.value_counts(normalize=True)[24:27])\n",
    "target = 'Царевны'\n",
    "dtr[dtr.cartoon == target][['yt_channel_name','text']][:1]"
   ]
  },
  {
   "cell_type": "code",
   "execution_count": 262,
   "id": "d0504d3e-050e-4979-b5ee-b6c9960937b2",
   "metadata": {},
   "outputs": [
    {
     "data": {
      "text/html": [
       "<div>\n",
       "<style scoped>\n",
       "    .dataframe tbody tr th:only-of-type {\n",
       "        vertical-align: middle;\n",
       "    }\n",
       "\n",
       "    .dataframe tbody tr th {\n",
       "        vertical-align: top;\n",
       "    }\n",
       "\n",
       "    .dataframe thead th {\n",
       "        text-align: right;\n",
       "    }\n",
       "</style>\n",
       "<table border=\"1\" class=\"dataframe\">\n",
       "  <thead>\n",
       "    <tr style=\"text-align: right;\">\n",
       "      <th></th>\n",
       "      <th>cartoon</th>\n",
       "      <th>yt_channel_name</th>\n",
       "      <th>text</th>\n",
       "      <th>url</th>\n",
       "      <th>language</th>\n",
       "    </tr>\n",
       "  </thead>\n",
       "  <tbody>\n",
       "  </tbody>\n",
       "</table>\n",
       "</div>"
      ],
      "text/plain": [
       "Empty DataFrame\n",
       "Columns: [cartoon, yt_channel_name, text, url, language]\n",
       "Index: []"
      ]
     },
     "execution_count": 262,
     "metadata": {},
     "output_type": "execute_result"
    }
   ],
   "source": [
    "word_list = ['Царевн']\n",
    "\n",
    "stop_words = []\n",
    "\n",
    "# Преобразуем слова в нижний регистр и экранируем\n",
    "# pattern = '|'.join(map(lambda word: re.escape(word.lower()), word_list))\n",
    "pattern = '|'.join([word.lower() for word in word_list])\n",
    "\n",
    "\n",
    "dtr[(dtr.cartoon == target) \n",
    "  & ~(dtr.reel_name.fillna('').astype(str).str.lower().str.contains(pattern, na=False)) \n",
    "][['cartoon','yt_channel_name','text','url','language']].head(10)"
   ]
  },
  {
   "cell_type": "code",
   "execution_count": 263,
   "id": "29f386b3-b21a-4ab5-b31d-55fc63b14594",
   "metadata": {},
   "outputs": [
    {
     "name": "stdout",
     "output_type": "stream",
     "text": [
      "царевн\n",
      "\n"
     ]
    },
    {
     "data": {
      "text/html": [
       "<div>\n",
       "<style scoped>\n",
       "    .dataframe tbody tr th:only-of-type {\n",
       "        vertical-align: middle;\n",
       "    }\n",
       "\n",
       "    .dataframe tbody tr th {\n",
       "        vertical-align: top;\n",
       "    }\n",
       "\n",
       "    .dataframe thead th {\n",
       "        text-align: right;\n",
       "    }\n",
       "</style>\n",
       "<table border=\"1\" class=\"dataframe\">\n",
       "  <thead>\n",
       "    <tr style=\"text-align: right;\">\n",
       "      <th></th>\n",
       "      <th>cartoon</th>\n",
       "      <th>yt_channel_name</th>\n",
       "      <th>text</th>\n",
       "      <th>url</th>\n",
       "      <th>seconds</th>\n",
       "    </tr>\n",
       "  </thead>\n",
       "  <tbody>\n",
       "  </tbody>\n",
       "</table>\n",
       "</div>"
      ],
      "text/plain": [
       "Empty DataFrame\n",
       "Columns: [cartoon, yt_channel_name, text, url, seconds]\n",
       "Index: []"
      ]
     },
     "execution_count": 263,
     "metadata": {},
     "output_type": "execute_result"
    }
   ],
   "source": [
    "# Преобразуем списки слов в регулярные выражения (без границ слова)\n",
    "word_list_regex = '|'.join([word.lower() for word in word_list])  # Поиск подстрок\n",
    "stop_words_regex = '|'.join([stop_word.lower() for stop_word in stop_words])\n",
    "\n",
    "print(word_list_regex)\n",
    "print(stop_words_regex)\n",
    "\n",
    "# Применяем фильтрацию\n",
    "dtr[\n",
    "    (dtr.cartoon == 'none') \n",
    "  & (dtr.reel_name.fillna('').astype(str).str.lower().str.contains(word_list_regex))  # Любое из слов из word_list\n",
    "][['cartoon', 'yt_channel_name', 'text', 'url','seconds']][:20]"
   ]
  },
  {
   "cell_type": "code",
   "execution_count": 264,
   "id": "3654bbb6",
   "metadata": {},
   "outputs": [
    {
     "data": {
      "text/plain": [
       "cartoon\n",
       "ЖилаБыла Царевна    133\n",
       "Царевны              32\n",
       "Name: count, dtype: int64"
      ]
     },
     "metadata": {},
     "output_type": "display_data"
    },
    {
     "data": {
      "text/plain": [
       "(165,)"
      ]
     },
     "metadata": {},
     "output_type": "display_data"
    },
    {
     "name": "stdout",
     "output_type": "stream",
     "text": [
      "\n"
     ]
    },
    {
     "data": {
      "text/plain": [
       "(32, 16)"
      ]
     },
     "execution_count": 264,
     "metadata": {},
     "output_type": "execute_result"
    }
   ],
   "source": [
    "ddd = \\\n",
    "dtr[\n",
    "    (dtr.reel_name.fillna('').astype(str).str.lower().str.contains(word_list_regex, na=False))\n",
    "][['cartoon','text']]\n",
    "\n",
    "display(ddd['cartoon'].value_counts())\n",
    "display(ddd['cartoon'].shape)\n",
    "print()\n",
    "dtr[dtr.cartoon == target].shape"
   ]
  },
  {
   "cell_type": "markdown",
   "id": "27a8caf9",
   "metadata": {},
   "source": [
    "Сначала определять метки для ЖилаБыла"
   ]
  },
  {
   "cell_type": "code",
   "execution_count": 266,
   "id": "cce5983b",
   "metadata": {},
   "outputs": [],
   "source": [
    "d['Царевны'] = {\n",
    "\n",
    "'order':2,\n",
    "'meth': 'reel_name_only',\n",
    "'pattern': 'pattern',\n",
    "'stop_pattern': None,\n",
    "'method':\n",
    "  {\n",
    "    'reel_name': {'any_word_list' : ['Царевн'],\n",
    "                  'all_word_list':None,\n",
    "                  'stop_any' : None\n",
    "                 },\n",
    "    'text'     : None,\n",
    "    'yt_channel_name' : None,\n",
    "    'is_shorts' : None # value_for_filter (0/1, default=None)\n",
    "  },\n",
    "'comment': 'обработка по имени'\n",
    "}"
   ]
  },
  {
   "cell_type": "markdown",
   "id": "e83cb26a-51fa-40c3-9770-2a381b5d5d7d",
   "metadata": {},
   "source": [
    "## Щенячий патруль"
   ]
  },
  {
   "cell_type": "code",
   "execution_count": 268,
   "id": "8bafbec3-3101-45fe-8478-3c5d5814d160",
   "metadata": {},
   "outputs": [
    {
     "data": {
      "text/plain": [
       "cartoon\n",
       "Царевны                   0.000384\n",
       "Щенячий патруль           0.000384\n",
       "Cry babies magic tears    0.000264\n",
       "Name: proportion, dtype: float64"
      ]
     },
     "metadata": {},
     "output_type": "display_data"
    },
    {
     "data": {
      "text/html": [
       "<div>\n",
       "<style scoped>\n",
       "    .dataframe tbody tr th:only-of-type {\n",
       "        vertical-align: middle;\n",
       "    }\n",
       "\n",
       "    .dataframe tbody tr th {\n",
       "        vertical-align: top;\n",
       "    }\n",
       "\n",
       "    .dataframe thead th {\n",
       "        text-align: right;\n",
       "    }\n",
       "</style>\n",
       "<table border=\"1\" class=\"dataframe\">\n",
       "  <thead>\n",
       "    <tr style=\"text-align: right;\">\n",
       "      <th></th>\n",
       "      <th>yt_channel_name</th>\n",
       "      <th>text</th>\n",
       "    </tr>\n",
       "  </thead>\n",
       "  <tbody>\n",
       "    <tr>\n",
       "      <th>6493</th>\n",
       "      <td>Dima Kids TV</td>\n",
       "      <td>[Jeep stuck in the mud  Paw Patrol hurry up to help] The Jeep is stuck. Paw Patrol Rubble ride on tractor to help his friend.pawpatrol dimakidstv All Videos Dima Kids TV https://www.youtube.com/watchvEEzUATJDjklistPL7M6oJRCZQbBzkHKWGXdDOmxdVlDTSubscribe http://www.youtube.com/channel/UCb1WBEEfA4e6FOLOKAH5j8wsubconfirmation1</td>\n",
       "    </tr>\n",
       "  </tbody>\n",
       "</table>\n",
       "</div>"
      ],
      "text/plain": [
       "     yt_channel_name  \\\n",
       "6493    Dima Kids TV   \n",
       "\n",
       "                                                                                                                                                                                                                                                                                                                                       text  \n",
       "6493  [Jeep stuck in the mud  Paw Patrol hurry up to help] The Jeep is stuck. Paw Patrol Rubble ride on tractor to help his friend.pawpatrol dimakidstv All Videos Dima Kids TV https://www.youtube.com/watchvEEzUATJDjklistPL7M6oJRCZQbBzkHKWGXdDOmxdVlDTSubscribe http://www.youtube.com/channel/UCb1WBEEfA4e6FOLOKAH5j8wsubconfirmation1  "
      ]
     },
     "execution_count": 268,
     "metadata": {},
     "output_type": "execute_result"
    }
   ],
   "source": [
    "display(dtr.cartoon.value_counts(normalize=True)[25:28])\n",
    "target = 'Щенячий патруль'\n",
    "dtr[dtr.cartoon == target][['yt_channel_name','text']][:1]"
   ]
  },
  {
   "cell_type": "code",
   "execution_count": 269,
   "id": "4917dae0-e2c6-4f8b-bdff-bf2f311752fc",
   "metadata": {},
   "outputs": [
    {
     "data": {
      "text/html": [
       "<div>\n",
       "<style scoped>\n",
       "    .dataframe tbody tr th:only-of-type {\n",
       "        vertical-align: middle;\n",
       "    }\n",
       "\n",
       "    .dataframe tbody tr th {\n",
       "        vertical-align: top;\n",
       "    }\n",
       "\n",
       "    .dataframe thead th {\n",
       "        text-align: right;\n",
       "    }\n",
       "</style>\n",
       "<table border=\"1\" class=\"dataframe\">\n",
       "  <thead>\n",
       "    <tr style=\"text-align: right;\">\n",
       "      <th></th>\n",
       "      <th>cartoon</th>\n",
       "      <th>yt_channel_name</th>\n",
       "      <th>text</th>\n",
       "      <th>url</th>\n",
       "      <th>language</th>\n",
       "    </tr>\n",
       "  </thead>\n",
       "  <tbody>\n",
       "  </tbody>\n",
       "</table>\n",
       "</div>"
      ],
      "text/plain": [
       "Empty DataFrame\n",
       "Columns: [cartoon, yt_channel_name, text, url, language]\n",
       "Index: []"
      ]
     },
     "execution_count": 269,
     "metadata": {},
     "output_type": "execute_result"
    }
   ],
   "source": [
    "word_list = ['Paw Patrol']\n",
    "\n",
    "stop_words = []\n",
    "\n",
    "# Преобразуем слова в нижний регистр и экранируем\n",
    "pattern = '|'.join([word.lower() for word in word_list])\n",
    "\n",
    "dtr[(dtr.cartoon == target) \n",
    "  & ~(dtr.reel_name.fillna('').astype(str).str.lower().str.contains(pattern, na=False)) \n",
    "][['cartoon','yt_channel_name','text','url','language']].head(10)"
   ]
  },
  {
   "cell_type": "code",
   "execution_count": 270,
   "id": "88742f1f-b6d3-41c9-87ea-1dea9cf4ef92",
   "metadata": {},
   "outputs": [
    {
     "name": "stdout",
     "output_type": "stream",
     "text": [
      "paw patrol\n",
      "\n"
     ]
    },
    {
     "data": {
      "text/html": [
       "<div>\n",
       "<style scoped>\n",
       "    .dataframe tbody tr th:only-of-type {\n",
       "        vertical-align: middle;\n",
       "    }\n",
       "\n",
       "    .dataframe tbody tr th {\n",
       "        vertical-align: top;\n",
       "    }\n",
       "\n",
       "    .dataframe thead th {\n",
       "        text-align: right;\n",
       "    }\n",
       "</style>\n",
       "<table border=\"1\" class=\"dataframe\">\n",
       "  <thead>\n",
       "    <tr style=\"text-align: right;\">\n",
       "      <th></th>\n",
       "      <th>cartoon</th>\n",
       "      <th>yt_channel_name</th>\n",
       "      <th>text</th>\n",
       "      <th>url</th>\n",
       "      <th>seconds</th>\n",
       "    </tr>\n",
       "  </thead>\n",
       "  <tbody>\n",
       "  </tbody>\n",
       "</table>\n",
       "</div>"
      ],
      "text/plain": [
       "Empty DataFrame\n",
       "Columns: [cartoon, yt_channel_name, text, url, seconds]\n",
       "Index: []"
      ]
     },
     "execution_count": 270,
     "metadata": {},
     "output_type": "execute_result"
    }
   ],
   "source": [
    "# Преобразуем списки слов в регулярные выражения (без границ слова)\n",
    "word_list_regex = '|'.join([word.lower() for word in word_list])  # Поиск подстрок\n",
    "stop_words_regex = '|'.join([stop_word.lower() for stop_word in stop_words])\n",
    "\n",
    "print(word_list_regex)\n",
    "print(stop_words_regex)\n",
    "\n",
    "# Применяем фильтрацию\n",
    "dtr[\n",
    "    (dtr.cartoon == 'none') \n",
    "  & (dtr.reel_name.fillna('').astype(str).str.lower().str.contains(word_list_regex))\n",
    "][['cartoon', 'yt_channel_name', 'text', 'url','seconds']][:20]"
   ]
  },
  {
   "cell_type": "code",
   "execution_count": 271,
   "id": "a79108de",
   "metadata": {},
   "outputs": [
    {
     "data": {
      "text/plain": [
       "cartoon\n",
       "Щенячий патруль    32\n",
       "Name: count, dtype: int64"
      ]
     },
     "metadata": {},
     "output_type": "display_data"
    },
    {
     "data": {
      "text/plain": [
       "(32,)"
      ]
     },
     "metadata": {},
     "output_type": "display_data"
    },
    {
     "name": "stdout",
     "output_type": "stream",
     "text": [
      "\n"
     ]
    },
    {
     "data": {
      "text/plain": [
       "(32, 16)"
      ]
     },
     "execution_count": 271,
     "metadata": {},
     "output_type": "execute_result"
    }
   ],
   "source": [
    "ddd = \\\n",
    "dtr[\n",
    "    (dtr.reel_name.fillna('').astype(str).str.lower().str.contains(word_list_regex, na=False))\n",
    "][['cartoon','text']]\n",
    "\n",
    "display(ddd['cartoon'].value_counts())\n",
    "display(ddd['cartoon'].shape)\n",
    "print()\n",
    "dtr[dtr.cartoon == target].shape"
   ]
  },
  {
   "cell_type": "code",
   "execution_count": 272,
   "id": "86bb15ca-407b-4331-807a-6b17c9eb0268",
   "metadata": {},
   "outputs": [],
   "source": [
    "d['Щенячий патруль'] = {\n",
    "\n",
    "'order':0,\n",
    "'meth': 'reel_name_only',\n",
    "'pattern': 'pattern',\n",
    "'stop_pattern': None,\n",
    "'method':\n",
    "  {\n",
    "    'reel_name': {'any_word_list' : ['Paw Patrol'],\n",
    "                  'all_word_list':None,\n",
    "                  'stop_any' : None\n",
    "                 },\n",
    "    'text'     : None,\n",
    "    'yt_channel_name' : None,\n",
    "    'is_shorts' : None # value_for_filter (0/1, default=None)\n",
    "  },\n",
    "'comment': 'обработка по имени'\n",
    "}"
   ]
  },
  {
   "cell_type": "markdown",
   "id": "400d32f5-303e-4ef6-b666-39387e675671",
   "metadata": {},
   "source": [
    "## Cry babies magic tears"
   ]
  },
  {
   "cell_type": "code",
   "execution_count": 274,
   "id": "a9dfa990-11da-4325-8971-e3cb53ab1424",
   "metadata": {},
   "outputs": [
    {
     "data": {
      "text/plain": [
       "cartoon\n",
       "Щенячий патруль           0.000384\n",
       "Cry babies magic tears    0.000264\n",
       "Крутиксы                  0.000264\n",
       "Name: proportion, dtype: float64"
      ]
     },
     "metadata": {},
     "output_type": "display_data"
    }
   ],
   "source": [
    "display(dtr.cartoon.value_counts(normalize=True)[26:29])\n",
    "target = 'Cry babies magic tears'\n",
    "# dtr[dtr.cartoon == target][['yt_channel_name','text']][:1]"
   ]
  },
  {
   "cell_type": "code",
   "execution_count": 275,
   "id": "4d814443-bb52-40d7-8fb5-cc35c4c77a98",
   "metadata": {},
   "outputs": [
    {
     "name": "stdout",
     "output_type": "stream",
     "text": [
      "край бебис\n"
     ]
    },
    {
     "data": {
      "text/html": [
       "<div>\n",
       "<style scoped>\n",
       "    .dataframe tbody tr th:only-of-type {\n",
       "        vertical-align: middle;\n",
       "    }\n",
       "\n",
       "    .dataframe tbody tr th {\n",
       "        vertical-align: top;\n",
       "    }\n",
       "\n",
       "    .dataframe thead th {\n",
       "        text-align: right;\n",
       "    }\n",
       "</style>\n",
       "<table border=\"1\" class=\"dataframe\">\n",
       "  <thead>\n",
       "    <tr style=\"text-align: right;\">\n",
       "      <th></th>\n",
       "      <th>cartoon</th>\n",
       "      <th>yt_channel_name</th>\n",
       "      <th>reel_name</th>\n",
       "      <th>text</th>\n",
       "      <th>url</th>\n",
       "      <th>language</th>\n",
       "    </tr>\n",
       "  </thead>\n",
       "  <tbody>\n",
       "  </tbody>\n",
       "</table>\n",
       "</div>"
      ],
      "text/plain": [
       "Empty DataFrame\n",
       "Columns: [cartoon, yt_channel_name, reel_name, text, url, language]\n",
       "Index: []"
      ]
     },
     "execution_count": 275,
     "metadata": {},
     "output_type": "execute_result"
    }
   ],
   "source": [
    "word_list = ['Край Бебис']\n",
    "\n",
    "stop_words = []\n",
    "\n",
    "# Преобразуем слова в нижний регистр и экранируем\n",
    "pattern = '|'.join([word.lower() for word in word_list])\n",
    "\n",
    "print(pattern)\n",
    "\n",
    "dtr[(dtr.cartoon == target) \n",
    "  & ~(dtr.text.fillna('').astype(str).str.lower().str.contains(pattern, na=False)) \n",
    "][['cartoon','yt_channel_name','reel_name','text','url','language']].head(10)"
   ]
  },
  {
   "cell_type": "code",
   "execution_count": 276,
   "id": "61511b66-3852-4af5-a353-5d0aeaca82aa",
   "metadata": {},
   "outputs": [
    {
     "name": "stdout",
     "output_type": "stream",
     "text": [
      "край бебис\n",
      "\n"
     ]
    },
    {
     "data": {
      "text/html": [
       "<div>\n",
       "<style scoped>\n",
       "    .dataframe tbody tr th:only-of-type {\n",
       "        vertical-align: middle;\n",
       "    }\n",
       "\n",
       "    .dataframe tbody tr th {\n",
       "        vertical-align: top;\n",
       "    }\n",
       "\n",
       "    .dataframe thead th {\n",
       "        text-align: right;\n",
       "    }\n",
       "</style>\n",
       "<table border=\"1\" class=\"dataframe\">\n",
       "  <thead>\n",
       "    <tr style=\"text-align: right;\">\n",
       "      <th></th>\n",
       "      <th>cartoon</th>\n",
       "      <th>yt_channel_name</th>\n",
       "      <th>text</th>\n",
       "      <th>url</th>\n",
       "      <th>seconds</th>\n",
       "    </tr>\n",
       "  </thead>\n",
       "  <tbody>\n",
       "  </tbody>\n",
       "</table>\n",
       "</div>"
      ],
      "text/plain": [
       "Empty DataFrame\n",
       "Columns: [cartoon, yt_channel_name, text, url, seconds]\n",
       "Index: []"
      ]
     },
     "execution_count": 276,
     "metadata": {},
     "output_type": "execute_result"
    }
   ],
   "source": [
    "# Преобразуем списки слов в регулярные выражения (без границ слова)\n",
    "word_list_regex = '|'.join([word.lower() for word in word_list])  # Поиск подстрок\n",
    "stop_words_regex = '|'.join([stop_word.lower() for stop_word in stop_words])\n",
    "\n",
    "print(word_list_regex)\n",
    "print(stop_words_regex)\n",
    "\n",
    "# Применяем фильтрацию\n",
    "dtr[\n",
    "    (dtr.cartoon == 'none') \n",
    "  & (dtr.reel_name.fillna('').astype(str).str.lower().str.contains(word_list_regex))  # Любое из слов из word_list\n",
    "][['cartoon', 'yt_channel_name', 'text', 'url','seconds']][:20]"
   ]
  },
  {
   "cell_type": "code",
   "execution_count": 277,
   "id": "c659090d",
   "metadata": {},
   "outputs": [],
   "source": [
    "# dtr[dtr.cartoon == target][['text']]"
   ]
  },
  {
   "cell_type": "code",
   "execution_count": 278,
   "id": "d0914c95",
   "metadata": {},
   "outputs": [
    {
     "data": {
      "text/plain": [
       "cartoon\n",
       "Cry babies magic tears    22\n",
       "Name: count, dtype: int64"
      ]
     },
     "metadata": {},
     "output_type": "display_data"
    },
    {
     "data": {
      "text/plain": [
       "(22,)"
      ]
     },
     "metadata": {},
     "output_type": "display_data"
    },
    {
     "name": "stdout",
     "output_type": "stream",
     "text": [
      "\n"
     ]
    },
    {
     "data": {
      "text/plain": [
       "(22, 16)"
      ]
     },
     "execution_count": 278,
     "metadata": {},
     "output_type": "execute_result"
    }
   ],
   "source": [
    "ddd = \\\n",
    "dtr[\n",
    "    (dtr.reel_name.fillna('').astype(str).str.lower().str.contains(pattern, na=False))\n",
    "][['cartoon','text']]\n",
    "\n",
    "display(ddd['cartoon'].value_counts())\n",
    "display(ddd['cartoon'].shape)\n",
    "print()\n",
    "dtr[dtr.cartoon == target].shape"
   ]
  },
  {
   "cell_type": "code",
   "execution_count": 279,
   "id": "8a61b422-a6e1-4c8a-b69b-decbd2827f39",
   "metadata": {},
   "outputs": [],
   "source": [
    "d['Cry babies magic tears'] = {\n",
    "\n",
    "'order':0,\n",
    "'meth': 'reel_name_only',\n",
    "'pattern': 'pattern',\n",
    "'stop_pattern': None,\n",
    "'method':\n",
    "  {\n",
    "    'reel_name': {'any_word_list' : ['Край Бебис'],\n",
    "                  'all_word_list':None,\n",
    "                  'stop_any' : None\n",
    "                 },\n",
    "    'text'     : None,\n",
    "    'yt_channel_name' : None,\n",
    "    'is_shorts' : None # value_for_filter (0/1, default=None)\n",
    "  },\n",
    "'comment': 'обработка по имени'\n",
    "}"
   ]
  },
  {
   "cell_type": "markdown",
   "id": "9234fd1e-0134-42e3-b8f1-8eff2b607c8c",
   "metadata": {},
   "source": [
    "## Крутиксы"
   ]
  },
  {
   "cell_type": "code",
   "execution_count": 281,
   "id": "ee65159b-74b8-480f-99ab-4bafece68ea1",
   "metadata": {},
   "outputs": [
    {
     "data": {
      "text/plain": [
       "cartoon\n",
       "Cry babies magic tears    0.000264\n",
       "Крутиксы                  0.000264\n",
       "Кукутики                  0.000204\n",
       "Name: proportion, dtype: float64"
      ]
     },
     "metadata": {},
     "output_type": "display_data"
    },
    {
     "data": {
      "text/html": [
       "<div>\n",
       "<style scoped>\n",
       "    .dataframe tbody tr th:only-of-type {\n",
       "        vertical-align: middle;\n",
       "    }\n",
       "\n",
       "    .dataframe tbody tr th {\n",
       "        vertical-align: top;\n",
       "    }\n",
       "\n",
       "    .dataframe thead th {\n",
       "        text-align: right;\n",
       "    }\n",
       "</style>\n",
       "<table border=\"1\" class=\"dataframe\">\n",
       "  <thead>\n",
       "    <tr style=\"text-align: right;\">\n",
       "      <th></th>\n",
       "      <th>yt_channel_name</th>\n",
       "      <th>text</th>\n",
       "    </tr>\n",
       "  </thead>\n",
       "  <tbody>\n",
       "    <tr>\n",
       "      <th>8754</th>\n",
       "      <td>Союзмультфильм #Shorts</td>\n",
       "      <td>[Как озвучивали Крутиксов  Союзмультфильм shorts] Смотри полную серию Крутиксов по ссылке: https://youtu.be/LLiir5dqQzY</td>\n",
       "    </tr>\n",
       "  </tbody>\n",
       "</table>\n",
       "</div>"
      ],
      "text/plain": [
       "             yt_channel_name  \\\n",
       "8754  Союзмультфильм #Shorts   \n",
       "\n",
       "                                                                                                                         text  \n",
       "8754  [Как озвучивали Крутиксов  Союзмультфильм shorts] Смотри полную серию Крутиксов по ссылке: https://youtu.be/LLiir5dqQzY  "
      ]
     },
     "execution_count": 281,
     "metadata": {},
     "output_type": "execute_result"
    }
   ],
   "source": [
    "display(dtr.cartoon.value_counts(normalize=True)[27:30])\n",
    "target = 'Крутиксы'\n",
    "dtr[dtr.cartoon == target][['yt_channel_name','text']][:1]"
   ]
  },
  {
   "cell_type": "code",
   "execution_count": 282,
   "id": "167cc100-67ae-4fad-b236-c360e5e3a0a3",
   "metadata": {},
   "outputs": [
    {
     "name": "stdout",
     "output_type": "stream",
     "text": [
      "Крутикс|Зигги|Шикайзер|Йанго|Рой |Роя |Гарпи|Сол |Арешк|Сола |Звездная Академия\n"
     ]
    },
    {
     "data": {
      "text/html": [
       "<div>\n",
       "<style scoped>\n",
       "    .dataframe tbody tr th:only-of-type {\n",
       "        vertical-align: middle;\n",
       "    }\n",
       "\n",
       "    .dataframe tbody tr th {\n",
       "        vertical-align: top;\n",
       "    }\n",
       "\n",
       "    .dataframe thead th {\n",
       "        text-align: right;\n",
       "    }\n",
       "</style>\n",
       "<table border=\"1\" class=\"dataframe\">\n",
       "  <thead>\n",
       "    <tr style=\"text-align: right;\">\n",
       "      <th></th>\n",
       "      <th>cartoon</th>\n",
       "      <th>yt_channel_name</th>\n",
       "      <th>reel_name</th>\n",
       "      <th>text</th>\n",
       "      <th>url</th>\n",
       "      <th>language</th>\n",
       "    </tr>\n",
       "  </thead>\n",
       "  <tbody>\n",
       "  </tbody>\n",
       "</table>\n",
       "</div>"
      ],
      "text/plain": [
       "Empty DataFrame\n",
       "Columns: [cartoon, yt_channel_name, reel_name, text, url, language]\n",
       "Index: []"
      ]
     },
     "execution_count": 282,
     "metadata": {},
     "output_type": "execute_result"
    }
   ],
   "source": [
    "word_list = ['Крутикс','Зигги', 'Шикайзер', 'Йанго','Рой ', 'Роя ','Гарпи', 'Сол ', 'Арешк', 'Сола ', 'Звездная Академия']\n",
    "\n",
    "stop_words = []\n",
    "\n",
    "# Преобразуем слова в нижний регистр и экранируем\n",
    "pattern = '|'.join([word for word in word_list])\n",
    "\n",
    "print(pattern)\n",
    "\n",
    "dtr[(dtr.cartoon == target) \n",
    "  & ~(dtr.reel_name.fillna('').astype(str).str.contains(pattern, na=False)) \n",
    "][['cartoon','yt_channel_name','reel_name','text','url','language']].head(10)"
   ]
  },
  {
   "cell_type": "code",
   "execution_count": 283,
   "id": "be15483d-6b1f-4545-87f9-8be25d9882ff",
   "metadata": {},
   "outputs": [
    {
     "name": "stdout",
     "output_type": "stream",
     "text": [
      "Крутикс|Зигги|Шикайзер|Йанго|Рой |Роя |Гарпи|Сол |Арешк|Сола |Звездная Академия\n",
      "\n"
     ]
    },
    {
     "data": {
      "text/html": [
       "<div>\n",
       "<style scoped>\n",
       "    .dataframe tbody tr th:only-of-type {\n",
       "        vertical-align: middle;\n",
       "    }\n",
       "\n",
       "    .dataframe tbody tr th {\n",
       "        vertical-align: top;\n",
       "    }\n",
       "\n",
       "    .dataframe thead th {\n",
       "        text-align: right;\n",
       "    }\n",
       "</style>\n",
       "<table border=\"1\" class=\"dataframe\">\n",
       "  <thead>\n",
       "    <tr style=\"text-align: right;\">\n",
       "      <th></th>\n",
       "      <th>cartoon</th>\n",
       "      <th>yt_channel_name</th>\n",
       "      <th>text</th>\n",
       "      <th>url</th>\n",
       "      <th>seconds</th>\n",
       "    </tr>\n",
       "  </thead>\n",
       "  <tbody>\n",
       "    <tr>\n",
       "      <th>8754</th>\n",
       "      <td>Крутиксы</td>\n",
       "      <td>Союзмультфильм #Shorts</td>\n",
       "      <td>[Как озвучивали Крутиксов  Союзмультфильм shorts] Смотри полную серию Крутиксов по ссылке: https://youtu.be/LLiir5dqQzY</td>\n",
       "      <td>https://www.youtube.com/watch?v=dzITUIcAkYM</td>\n",
       "      <td>18.0</td>\n",
       "    </tr>\n",
       "    <tr>\n",
       "      <th>10005</th>\n",
       "      <td>Крутиксы</td>\n",
       "      <td>Союзмультфильм #Shorts</td>\n",
       "      <td>[2 сезон Крутиксов  уже в Okko  Союзмультфильм shorts] Смотрите новый сезон в Okko: https://okko.tv/serial/krutiksy/season/2</td>\n",
       "      <td>https://www.youtube.com/watch?v=I2KxpwLnEsk</td>\n",
       "      <td>47.0</td>\n",
       "    </tr>\n",
       "    <tr>\n",
       "      <th>10248</th>\n",
       "      <td>Крутиксы</td>\n",
       "      <td>Союзмультфильм #Shorts</td>\n",
       "      <td>[Сол и Рой  лучшая команда  Союзмультфильм shorts] Смотри полную серию Крутиксы Дело принципа по ссылке: https://youtu.be/zkKb7seSZPo</td>\n",
       "      <td>https://www.youtube.com/watch?v=_7bBnM8KHro</td>\n",
       "      <td>37.0</td>\n",
       "    </tr>\n",
       "    <tr>\n",
       "      <th>12768</th>\n",
       "      <td>Крутиксы</td>\n",
       "      <td>Союзмультфильм #Shorts</td>\n",
       "      <td>[Рой готовится к Новому году  Союзмультфильм shorts] Смотрите полную серию Крутиксов Новый звездный год по ссылке: https://youtu.be/LeT1RnReRxQ</td>\n",
       "      <td>https://www.youtube.com/watch?v=mD-rAeBMWAM</td>\n",
       "      <td>59.0</td>\n",
       "    </tr>\n",
       "    <tr>\n",
       "      <th>14272</th>\n",
       "      <td>Крутиксы</td>\n",
       "      <td>Союзмультфильм #Shorts</td>\n",
       "      <td>[Первая встреча с Гарпией  Союзмультфильм shorts] Смотри полную серию Крутиксов по ссылке: https://youtu.be/30TKDJLpEY</td>\n",
       "      <td>https://www.youtube.com/watch?v=hrjgoOkBm4Y</td>\n",
       "      <td>24.0</td>\n",
       "    </tr>\n",
       "    <tr>\n",
       "      <th>21840</th>\n",
       "      <td>Крутиксы</td>\n",
       "      <td>Союзмультфильм #Shorts</td>\n",
       "      <td>[Рой тренирует гордов  Союзмультфильм shorts] Смотрите полную серию Крутиксов Плюмбол по ссылке: https://youtu.be/4IeV9CUgpDQ</td>\n",
       "      <td>https://www.youtube.com/watch?v=Fhj0ZEFbFcQ</td>\n",
       "      <td>33.0</td>\n",
       "    </tr>\n",
       "    <tr>\n",
       "      <th>26144</th>\n",
       "      <td>Крутиксы</td>\n",
       "      <td>Союзмультфильм #Shorts</td>\n",
       "      <td>[Эпичное появление Гарпии  Союзмультфильм shorts] Смотрите полную серию Крутиксов по ссылке: https://youtu.be/30TKDJLpEY</td>\n",
       "      <td>https://www.youtube.com/watch?v=SH5agf1ERhA</td>\n",
       "      <td>28.0</td>\n",
       "    </tr>\n",
       "    <tr>\n",
       "      <th>31276</th>\n",
       "      <td>Крутиксы</td>\n",
       "      <td>Союзмультфильм #Shorts</td>\n",
       "      <td>[Загадка Арешков раскрыта  Союзмультфильм shorts] Смотри все новые серии Крутиксов по ссылке: https://youtu.be/Nkmu0nftiU</td>\n",
       "      <td>https://www.youtube.com/watch?v=5KwcQYGvUh0</td>\n",
       "      <td>39.0</td>\n",
       "    </tr>\n",
       "    <tr>\n",
       "      <th>51947</th>\n",
       "      <td>Крутиксы</td>\n",
       "      <td>Союзмультфильм #Shorts</td>\n",
       "      <td>[Рой и Руби украшают к Новому году  Союзмультфильм shorts] Смотрите полную серию Крутиксов Новый звездный год по ссылке: https://youtu.be/LeT1RnReRxQ</td>\n",
       "      <td>https://www.youtube.com/watch?v=ID_GkT1hXas</td>\n",
       "      <td>25.0</td>\n",
       "    </tr>\n",
       "    <tr>\n",
       "      <th>56258</th>\n",
       "      <td>Крутиксы</td>\n",
       "      <td>Союзмультфильм #Shorts</td>\n",
       "      <td>[Альтернативы ёлки от Роя  Союзмультфильм shorts] Смотрите полную серию Крутиксов Новый звездный год по ссылке: https://youtu.be/LeT1RnReRxQ</td>\n",
       "      <td>https://www.youtube.com/watch?v=d6nBPm9cSP0</td>\n",
       "      <td>31.0</td>\n",
       "    </tr>\n",
       "    <tr>\n",
       "      <th>57612</th>\n",
       "      <td>Крутиксы</td>\n",
       "      <td>Союзмультфильм #Shorts</td>\n",
       "      <td>[Зигги  гений маскировки  Союзмультфильм shorts] Смотри полную серию по ссылке: https://youtu.be/LlGSDGOmjqw</td>\n",
       "      <td>https://www.youtube.com/watch?v=t5Vv2zwX5Qo</td>\n",
       "      <td>20.0</td>\n",
       "    </tr>\n",
       "    <tr>\n",
       "      <th>61149</th>\n",
       "      <td>Крутиксы</td>\n",
       "      <td>Союзмультфильм #Shorts</td>\n",
       "      <td>[Сол и несправедливость  Союзмультфильм shorts] Все новые серии Крутиксы: https://www.youtube.com/c/SoyuzmultfilmСмотри полную серию Дело принципа в Okko: https://okko.tv/serial/krutiksy</td>\n",
       "      <td>https://www.youtube.com/watch?v=pNTedunhDMc</td>\n",
       "      <td>14.0</td>\n",
       "    </tr>\n",
       "    <tr>\n",
       "      <th>62854</th>\n",
       "      <td>Крутиксы</td>\n",
       "      <td>Союзмультфильм #Shorts</td>\n",
       "      <td>[Подводный Новый год Крутиксов  Союзмультфильм shorts] Смотри полную серию Крутиксы Подводный новый год по ссылке: https://youtu.be/05Nv334q1A</td>\n",
       "      <td>https://www.youtube.com/watch?v=j0px4zF6RiI</td>\n",
       "      <td>57.0</td>\n",
       "    </tr>\n",
       "    <tr>\n",
       "      <th>63716</th>\n",
       "      <td>Крутиксы</td>\n",
       "      <td>Союзмультфильм #Shorts</td>\n",
       "      <td>[Сол и храбрость  Союзмультфильм shorts] Смотри полную серию Крутиксы Подводный новый год по ссылке: https://youtu.be/05Nv334q1A</td>\n",
       "      <td>https://www.youtube.com/watch?v=ANbgBG2MkoE</td>\n",
       "      <td>41.0</td>\n",
       "    </tr>\n",
       "    <tr>\n",
       "      <th>68110</th>\n",
       "      <td>Крутиксы</td>\n",
       "      <td>Союзмультфильм #Shorts</td>\n",
       "      <td>[Зигги изобрел супермяч для футбола  Союзмультфильм shorts] Смотрите полную серию Крутиксов Плюмбол по ссылке: https://youtu.be/4IeV9CUgpDQ</td>\n",
       "      <td>https://www.youtube.com/watch?v=tdcwZ0pAJPQ</td>\n",
       "      <td>22.0</td>\n",
       "    </tr>\n",
       "    <tr>\n",
       "      <th>69468</th>\n",
       "      <td>Крутиксы</td>\n",
       "      <td>Союзмультфильм #Shorts</td>\n",
       "      <td>[Шикайзер рассказала всю правду в новом сезоне  Союзмультфильм shorts] Новый сезон уже в Okko: https://okko.tv/serial/krutiksy/season/2</td>\n",
       "      <td>https://www.youtube.com/watch?v=pEdunjPGRds</td>\n",
       "      <td>58.0</td>\n",
       "    </tr>\n",
       "    <tr>\n",
       "      <th>77793</th>\n",
       "      <td>Крутиксы</td>\n",
       "      <td>Союзмультфильм #Shorts</td>\n",
       "      <td>[Звездная Академия никого не щадит  Союзмультфильм shorts] Смотри полную серию Крутиксов по ссылке: https://youtu.be/LeT1RnReRxQ</td>\n",
       "      <td>https://www.youtube.com/watch?v=_lkqyyCezYk</td>\n",
       "      <td>16.0</td>\n",
       "    </tr>\n",
       "    <tr>\n",
       "      <th>78383</th>\n",
       "      <td>Крутиксы</td>\n",
       "      <td>Союзмультфильм #Shorts</td>\n",
       "      <td>[Андрей Бурковский озвучивает Сола  Союзмультфильм shorts] Смотри полную серию Крутиксов по ссылке: https://youtu.be/YJakgpPi0Xw</td>\n",
       "      <td>https://www.youtube.com/watch?v=08zhbVmVi8M</td>\n",
       "      <td>11.0</td>\n",
       "    </tr>\n",
       "    <tr>\n",
       "      <th>81808</th>\n",
       "      <td>Крутиксы</td>\n",
       "      <td>Союзмультфильм #Shorts</td>\n",
       "      <td>[Зигги дождался выходных  Союзмультфильм shorts] Смотри полную серию Крутиксов по ссылке: https://youtu.be/4N3KOVrWAE</td>\n",
       "      <td>https://www.youtube.com/watch?v=5Zgc76brsOk</td>\n",
       "      <td>19.0</td>\n",
       "    </tr>\n",
       "    <tr>\n",
       "      <th>82265</th>\n",
       "      <td>Крутиксы</td>\n",
       "      <td>Союзмультфильм #Shorts</td>\n",
       "      <td>[История величайшего героя Вселенной Йанго  Союзмультфильм shorts] Новый сезон уже в Okko: https://okko.tv/serial/krutiksy/season/2</td>\n",
       "      <td>https://www.youtube.com/watch?v=LdodAvAg5cc</td>\n",
       "      <td>28.0</td>\n",
       "    </tr>\n",
       "  </tbody>\n",
       "</table>\n",
       "</div>"
      ],
      "text/plain": [
       "        cartoon         yt_channel_name  \\\n",
       "8754   Крутиксы  Союзмультфильм #Shorts   \n",
       "10005  Крутиксы  Союзмультфильм #Shorts   \n",
       "10248  Крутиксы  Союзмультфильм #Shorts   \n",
       "12768  Крутиксы  Союзмультфильм #Shorts   \n",
       "14272  Крутиксы  Союзмультфильм #Shorts   \n",
       "21840  Крутиксы  Союзмультфильм #Shorts   \n",
       "26144  Крутиксы  Союзмультфильм #Shorts   \n",
       "31276  Крутиксы  Союзмультфильм #Shorts   \n",
       "51947  Крутиксы  Союзмультфильм #Shorts   \n",
       "56258  Крутиксы  Союзмультфильм #Shorts   \n",
       "57612  Крутиксы  Союзмультфильм #Shorts   \n",
       "61149  Крутиксы  Союзмультфильм #Shorts   \n",
       "62854  Крутиксы  Союзмультфильм #Shorts   \n",
       "63716  Крутиксы  Союзмультфильм #Shorts   \n",
       "68110  Крутиксы  Союзмультфильм #Shorts   \n",
       "69468  Крутиксы  Союзмультфильм #Shorts   \n",
       "77793  Крутиксы  Союзмультфильм #Shorts   \n",
       "78383  Крутиксы  Союзмультфильм #Shorts   \n",
       "81808  Крутиксы  Союзмультфильм #Shorts   \n",
       "82265  Крутиксы  Союзмультфильм #Shorts   \n",
       "\n",
       "                                                                                                                                                                                             text  \\\n",
       "8754                                                                      [Как озвучивали Крутиксов  Союзмультфильм shorts] Смотри полную серию Крутиксов по ссылке: https://youtu.be/LLiir5dqQzY   \n",
       "10005                                                                [2 сезон Крутиксов  уже в Okko  Союзмультфильм shorts] Смотрите новый сезон в Okko: https://okko.tv/serial/krutiksy/season/2   \n",
       "10248                                                       [Сол и Рой  лучшая команда  Союзмультфильм shorts] Смотри полную серию Крутиксы Дело принципа по ссылке: https://youtu.be/zkKb7seSZPo   \n",
       "12768                                             [Рой готовится к Новому году  Союзмультфильм shorts] Смотрите полную серию Крутиксов Новый звездный год по ссылке: https://youtu.be/LeT1RnReRxQ   \n",
       "14272                                                                      [Первая встреча с Гарпией  Союзмультфильм shorts] Смотри полную серию Крутиксов по ссылке: https://youtu.be/30TKDJLpEY   \n",
       "21840                                                               [Рой тренирует гордов  Союзмультфильм shorts] Смотрите полную серию Крутиксов Плюмбол по ссылке: https://youtu.be/4IeV9CUgpDQ   \n",
       "26144                                                                    [Эпичное появление Гарпии  Союзмультфильм shorts] Смотрите полную серию Крутиксов по ссылке: https://youtu.be/30TKDJLpEY   \n",
       "31276                                                                   [Загадка Арешков раскрыта  Союзмультфильм shorts] Смотри все новые серии Крутиксов по ссылке: https://youtu.be/Nkmu0nftiU   \n",
       "51947                                       [Рой и Руби украшают к Новому году  Союзмультфильм shorts] Смотрите полную серию Крутиксов Новый звездный год по ссылке: https://youtu.be/LeT1RnReRxQ   \n",
       "56258                                                [Альтернативы ёлки от Роя  Союзмультфильм shorts] Смотрите полную серию Крутиксов Новый звездный год по ссылке: https://youtu.be/LeT1RnReRxQ   \n",
       "57612                                                                                [Зигги  гений маскировки  Союзмультфильм shorts] Смотри полную серию по ссылке: https://youtu.be/LlGSDGOmjqw   \n",
       "61149  [Сол и несправедливость  Союзмультфильм shorts] Все новые серии Крутиксы: https://www.youtube.com/c/SoyuzmultfilmСмотри полную серию Дело принципа в Okko: https://okko.tv/serial/krutiksy   \n",
       "62854                                              [Подводный Новый год Крутиксов  Союзмультфильм shorts] Смотри полную серию Крутиксы Подводный новый год по ссылке: https://youtu.be/05Nv334q1A   \n",
       "63716                                                            [Сол и храбрость  Союзмультфильм shorts] Смотри полную серию Крутиксы Подводный новый год по ссылке: https://youtu.be/05Nv334q1A   \n",
       "68110                                                 [Зигги изобрел супермяч для футбола  Союзмультфильм shorts] Смотрите полную серию Крутиксов Плюмбол по ссылке: https://youtu.be/4IeV9CUgpDQ   \n",
       "69468                                                     [Шикайзер рассказала всю правду в новом сезоне  Союзмультфильм shorts] Новый сезон уже в Okko: https://okko.tv/serial/krutiksy/season/2   \n",
       "77793                                                            [Звездная Академия никого не щадит  Союзмультфильм shorts] Смотри полную серию Крутиксов по ссылке: https://youtu.be/LeT1RnReRxQ   \n",
       "78383                                                            [Андрей Бурковский озвучивает Сола  Союзмультфильм shorts] Смотри полную серию Крутиксов по ссылке: https://youtu.be/YJakgpPi0Xw   \n",
       "81808                                                                       [Зигги дождался выходных  Союзмультфильм shorts] Смотри полную серию Крутиксов по ссылке: https://youtu.be/4N3KOVrWAE   \n",
       "82265                                                         [История величайшего героя Вселенной Йанго  Союзмультфильм shorts] Новый сезон уже в Okko: https://okko.tv/serial/krutiksy/season/2   \n",
       "\n",
       "                                               url  seconds  \n",
       "8754   https://www.youtube.com/watch?v=dzITUIcAkYM     18.0  \n",
       "10005  https://www.youtube.com/watch?v=I2KxpwLnEsk     47.0  \n",
       "10248  https://www.youtube.com/watch?v=_7bBnM8KHro     37.0  \n",
       "12768  https://www.youtube.com/watch?v=mD-rAeBMWAM     59.0  \n",
       "14272  https://www.youtube.com/watch?v=hrjgoOkBm4Y     24.0  \n",
       "21840  https://www.youtube.com/watch?v=Fhj0ZEFbFcQ     33.0  \n",
       "26144  https://www.youtube.com/watch?v=SH5agf1ERhA     28.0  \n",
       "31276  https://www.youtube.com/watch?v=5KwcQYGvUh0     39.0  \n",
       "51947  https://www.youtube.com/watch?v=ID_GkT1hXas     25.0  \n",
       "56258  https://www.youtube.com/watch?v=d6nBPm9cSP0     31.0  \n",
       "57612  https://www.youtube.com/watch?v=t5Vv2zwX5Qo     20.0  \n",
       "61149  https://www.youtube.com/watch?v=pNTedunhDMc     14.0  \n",
       "62854  https://www.youtube.com/watch?v=j0px4zF6RiI     57.0  \n",
       "63716  https://www.youtube.com/watch?v=ANbgBG2MkoE     41.0  \n",
       "68110  https://www.youtube.com/watch?v=tdcwZ0pAJPQ     22.0  \n",
       "69468  https://www.youtube.com/watch?v=pEdunjPGRds     58.0  \n",
       "77793  https://www.youtube.com/watch?v=_lkqyyCezYk     16.0  \n",
       "78383  https://www.youtube.com/watch?v=08zhbVmVi8M     11.0  \n",
       "81808  https://www.youtube.com/watch?v=5Zgc76brsOk     19.0  \n",
       "82265  https://www.youtube.com/watch?v=LdodAvAg5cc     28.0  "
      ]
     },
     "execution_count": 283,
     "metadata": {},
     "output_type": "execute_result"
    }
   ],
   "source": [
    "# Преобразуем списки слов в регулярные выражения (без границ слова)\n",
    "word_list_regex = '|'.join([word for word in word_list])  # Поиск подстрок\n",
    "stop_words_regex = '|'.join([stop_word.lower() for stop_word in stop_words])\n",
    "\n",
    "print(word_list_regex)\n",
    "print(stop_words_regex)\n",
    "\n",
    "# Применяем фильтрацию\n",
    "dtr[\n",
    "#     (dtr.cartoon == target) &\n",
    "    (dtr.reel_name.fillna('').astype(str).str.contains(pattern))\n",
    "  & (dtr.reel_name.fillna('').astype(str).str.contains('Союзмультфильм'))\n",
    "][['cartoon', 'yt_channel_name', 'text', 'url','seconds']][:]"
   ]
  },
  {
   "cell_type": "code",
   "execution_count": 284,
   "id": "53de8044",
   "metadata": {},
   "outputs": [
    {
     "data": {
      "text/plain": [
       "cartoon\n",
       "Крутиксы    20\n",
       "Name: count, dtype: int64"
      ]
     },
     "metadata": {},
     "output_type": "display_data"
    },
    {
     "data": {
      "text/plain": [
       "(20,)"
      ]
     },
     "metadata": {},
     "output_type": "display_data"
    },
    {
     "name": "stdout",
     "output_type": "stream",
     "text": [
      "\n"
     ]
    },
    {
     "data": {
      "text/plain": [
       "(22, 16)"
      ]
     },
     "execution_count": 284,
     "metadata": {},
     "output_type": "execute_result"
    }
   ],
   "source": [
    "ddd = \\\n",
    "dtr[\n",
    "    (dtr.reel_name.fillna('').astype(str).str.contains(pattern, na=False)) \n",
    "    & (dtr.reel_name.fillna('').astype(str).str.contains('Союзмультфильм'))\n",
    "][['cartoon','text']]\n",
    "display(ddd['cartoon'].value_counts())\n",
    "display(ddd['cartoon'].shape)\n",
    "print()\n",
    "dtr[dtr.cartoon == target].shape"
   ]
  },
  {
   "cell_type": "code",
   "execution_count": 285,
   "id": "aee26be4",
   "metadata": {},
   "outputs": [],
   "source": [
    "meth['pattern_capital']=\\\n",
    "\"\"\"\n",
    "pattern = '|'.join([word for word in word_list])\n",
    "\"\"\""
   ]
  },
  {
   "cell_type": "code",
   "execution_count": 286,
   "id": "f93c4160-b590-4891-b781-32d72920b770",
   "metadata": {},
   "outputs": [],
   "source": [
    "meth['reel_and_reel']=\\\n",
    "\"\"\"\n",
    "(dtr.reel_name.fillna('').astype(str).str.contains(pattern, na=False)) \n",
    "& (dtr.reel_name.fillna('').astype(str).str.contains('Союзмультфильм'))\n",
    "\"\"\""
   ]
  },
  {
   "cell_type": "code",
   "execution_count": 287,
   "id": "e4ae97bc-dde1-4185-9b92-d4b35e9a814d",
   "metadata": {},
   "outputs": [],
   "source": [
    "d['Крутиксы'] = {\n",
    "\n",
    "'order':0,\n",
    "'meth': 'reel_and_reel',\n",
    "'pattern': 'pattern',\n",
    "'stop_pattern': None,\n",
    "'method':\n",
    "  {\n",
    "    'reel_name': {'any_word_list' : ['Крутикс','Зигги', 'Шикайзер', 'Йанго',\n",
    "                                     'Рой ', 'Роя ','Гарпи', 'Сол ', 'Арешк',\n",
    "                                     'Сола ', 'Звездная Академия'],\n",
    "                  'all_word_list':['Союзмультфильм'],\n",
    "                  'stop_any' : None\n",
    "                 },\n",
    "    'text'     : None,\n",
    "    'yt_channel_name' : None,\n",
    "    'is_shorts' : None # value_for_filter (0/1, default=None)\n",
    "  },\n",
    "'comment': 'обработка по имени. использовать имена с учетом регистра'\n",
    "}"
   ]
  },
  {
   "cell_type": "markdown",
   "id": "f247d84c-b1ee-4255-ba17-a15f00ef6a79",
   "metadata": {},
   "source": [
    "## Кукутики"
   ]
  },
  {
   "cell_type": "code",
   "execution_count": 289,
   "id": "b9889ee3-0d61-4972-888b-263fb0a7412e",
   "metadata": {},
   "outputs": [
    {
     "data": {
      "text/plain": [
       "cartoon\n",
       "Крутиксы    0.000264\n",
       "Кукутики    0.000204\n",
       "Акуленок    0.000132\n",
       "Name: proportion, dtype: float64"
      ]
     },
     "metadata": {},
     "output_type": "display_data"
    },
    {
     "data": {
      "text/html": [
       "<div>\n",
       "<style scoped>\n",
       "    .dataframe tbody tr th:only-of-type {\n",
       "        vertical-align: middle;\n",
       "    }\n",
       "\n",
       "    .dataframe tbody tr th {\n",
       "        vertical-align: top;\n",
       "    }\n",
       "\n",
       "    .dataframe thead th {\n",
       "        text-align: right;\n",
       "    }\n",
       "</style>\n",
       "<table border=\"1\" class=\"dataframe\">\n",
       "  <thead>\n",
       "    <tr style=\"text-align: right;\">\n",
       "      <th></th>\n",
       "      <th>yt_channel_name</th>\n",
       "      <th>text</th>\n",
       "    </tr>\n",
       "  </thead>\n",
       "  <tbody>\n",
       "    <tr>\n",
       "      <th>1763</th>\n",
       "      <td>КУКУТИКИ Детские песенки и муль</td>\n",
       "      <td>[ КАНИКУЛЫ с Кукутиками Играем на детскои площадке  Все песенки для детей  Сборник] Кукутики  сборник песенок с героями на детской площадке. Песенка мультик про игры. Весенние каникулы  время, которое нужно провести активно и весело Бери пример с Кукутиков и отправляйся на детскую площадку, играй, двигайся, общайся с друзьями и получай заряд отличного настроенияСлушай наши другие песенки:Машинка  https://youtu.be/eAOCRZXf5GM Доброта  https://youtu.be/GsRNuncp2hMПузыри  https://youtu.be/3LYe0mdzeA4Радуга  https://youtu.be/5ydcukhu8QКрякря  https://youtu.be/MSN7uLqFj0Iс ООО \"Биг Папа\", 2021https://bigpapamedia.ru/ Продюсер, директор  Артур Днепровскийarthurbigpapamedia.ruдетскаяплощадка</td>\n",
       "    </tr>\n",
       "  </tbody>\n",
       "</table>\n",
       "</div>"
      ],
      "text/plain": [
       "                      yt_channel_name  \\\n",
       "1763  КУКУТИКИ Детские песенки и муль   \n",
       "\n",
       "                                                                                                                                                                                                                                                                                                                                                                                                                                                                                                                                                                                                                                                                                                                       text  \n",
       "1763  [ КАНИКУЛЫ с Кукутиками Играем на детскои площадке  Все песенки для детей  Сборник] Кукутики  сборник песенок с героями на детской площадке. Песенка мультик про игры. Весенние каникулы  время, которое нужно провести активно и весело Бери пример с Кукутиков и отправляйся на детскую площадку, играй, двигайся, общайся с друзьями и получай заряд отличного настроенияСлушай наши другие песенки:Машинка  https://youtu.be/eAOCRZXf5GM Доброта  https://youtu.be/GsRNuncp2hMПузыри  https://youtu.be/3LYe0mdzeA4Радуга  https://youtu.be/5ydcukhu8QКрякря  https://youtu.be/MSN7uLqFj0Iс ООО \"Биг Папа\", 2021https://bigpapamedia.ru/ Продюсер, директор  Артур Днепровскийarthurbigpapamedia.ruдетскаяплощадка  "
      ]
     },
     "execution_count": 289,
     "metadata": {},
     "output_type": "execute_result"
    }
   ],
   "source": [
    "display(dtr.cartoon.value_counts(normalize=True)[28:31])\n",
    "target = 'Кукутики'\n",
    "dtr[dtr.cartoon == target][['yt_channel_name','text']][:1]"
   ]
  },
  {
   "cell_type": "code",
   "execution_count": 290,
   "id": "61e09618-1457-4268-a478-59211f942030",
   "metadata": {},
   "outputs": [
    {
     "name": "stdout",
     "output_type": "stream",
     "text": [
      "кукутик\n"
     ]
    },
    {
     "data": {
      "text/html": [
       "<div>\n",
       "<style scoped>\n",
       "    .dataframe tbody tr th:only-of-type {\n",
       "        vertical-align: middle;\n",
       "    }\n",
       "\n",
       "    .dataframe tbody tr th {\n",
       "        vertical-align: top;\n",
       "    }\n",
       "\n",
       "    .dataframe thead th {\n",
       "        text-align: right;\n",
       "    }\n",
       "</style>\n",
       "<table border=\"1\" class=\"dataframe\">\n",
       "  <thead>\n",
       "    <tr style=\"text-align: right;\">\n",
       "      <th></th>\n",
       "      <th>cartoon</th>\n",
       "      <th>yt_channel_name</th>\n",
       "      <th>reel_name</th>\n",
       "      <th>text</th>\n",
       "      <th>url</th>\n",
       "      <th>language</th>\n",
       "    </tr>\n",
       "  </thead>\n",
       "  <tbody>\n",
       "  </tbody>\n",
       "</table>\n",
       "</div>"
      ],
      "text/plain": [
       "Empty DataFrame\n",
       "Columns: [cartoon, yt_channel_name, reel_name, text, url, language]\n",
       "Index: []"
      ]
     },
     "execution_count": 290,
     "metadata": {},
     "output_type": "execute_result"
    }
   ],
   "source": [
    "word_list = ['Кукутик']\n",
    "\n",
    "stop_words = []\n",
    "\n",
    "# Преобразуем слова в нижний регистр и экранируем\n",
    "pattern = '|'.join([word.lower() for word in word_list])\n",
    "\n",
    "print(pattern)\n",
    "\n",
    "dtr[(dtr.cartoon == target) \n",
    "  & ~(dtr.reel_name.fillna('').astype(str).str.lower().str.contains(pattern, na=False)) \n",
    "][['cartoon','yt_channel_name','reel_name','text','url','language']].head(10)"
   ]
  },
  {
   "cell_type": "code",
   "execution_count": 291,
   "id": "5ab54cac-162d-43fa-aebe-74f27585ef9b",
   "metadata": {},
   "outputs": [
    {
     "name": "stdout",
     "output_type": "stream",
     "text": [
      "кукутик\n",
      "\n"
     ]
    },
    {
     "data": {
      "text/html": [
       "<div>\n",
       "<style scoped>\n",
       "    .dataframe tbody tr th:only-of-type {\n",
       "        vertical-align: middle;\n",
       "    }\n",
       "\n",
       "    .dataframe tbody tr th {\n",
       "        vertical-align: top;\n",
       "    }\n",
       "\n",
       "    .dataframe thead th {\n",
       "        text-align: right;\n",
       "    }\n",
       "</style>\n",
       "<table border=\"1\" class=\"dataframe\">\n",
       "  <thead>\n",
       "    <tr style=\"text-align: right;\">\n",
       "      <th></th>\n",
       "      <th>cartoon</th>\n",
       "      <th>yt_channel_name</th>\n",
       "      <th>text</th>\n",
       "      <th>url</th>\n",
       "      <th>seconds</th>\n",
       "    </tr>\n",
       "  </thead>\n",
       "  <tbody>\n",
       "  </tbody>\n",
       "</table>\n",
       "</div>"
      ],
      "text/plain": [
       "Empty DataFrame\n",
       "Columns: [cartoon, yt_channel_name, text, url, seconds]\n",
       "Index: []"
      ]
     },
     "execution_count": 291,
     "metadata": {},
     "output_type": "execute_result"
    }
   ],
   "source": [
    "# Преобразуем списки слов в регулярные выражения (без границ слова)\n",
    "word_list_regex = '|'.join([word.lower() for word in word_list])  # Поиск подстрок\n",
    "stop_words_regex = '|'.join([stop_word.lower() for stop_word in stop_words])\n",
    "\n",
    "print(word_list_regex)\n",
    "print(stop_words_regex)\n",
    "\n",
    "# Применяем фильтрацию\n",
    "dtr[\n",
    "    (dtr.cartoon == 'none') \n",
    "  & (dtr.reel_name.fillna('').astype(str).str.lower().str.contains(word_list_regex))  # Любое из слов из word_list\n",
    "][['cartoon', 'yt_channel_name', 'text', 'url','seconds']][:20]"
   ]
  },
  {
   "cell_type": "code",
   "execution_count": 292,
   "id": "8618baa2",
   "metadata": {},
   "outputs": [
    {
     "data": {
      "text/plain": [
       "cartoon\n",
       "Кукутики            17\n",
       "ЖилаБыла Царевна     3\n",
       "Name: count, dtype: int64"
      ]
     },
     "metadata": {},
     "output_type": "display_data"
    },
    {
     "data": {
      "text/plain": [
       "(20,)"
      ]
     },
     "metadata": {},
     "output_type": "display_data"
    },
    {
     "name": "stdout",
     "output_type": "stream",
     "text": [
      "\n"
     ]
    },
    {
     "data": {
      "text/plain": [
       "(17, 16)"
      ]
     },
     "execution_count": 292,
     "metadata": {},
     "output_type": "execute_result"
    }
   ],
   "source": [
    "ddd = \\\n",
    "dtr[\n",
    "    (dtr.reel_name.fillna('').astype(str).str.lower().str.contains(pattern, na=False))\n",
    "][['cartoon','text']]\n",
    "\n",
    "display(ddd['cartoon'].value_counts())\n",
    "display(ddd['cartoon'].shape)\n",
    "print()\n",
    "dtr[dtr.cartoon == target].shape"
   ]
  },
  {
   "cell_type": "code",
   "execution_count": 293,
   "id": "45be5493-aefb-4c52-927f-a988b539bab1",
   "metadata": {},
   "outputs": [],
   "source": [
    "d['Кукутики'] = {\n",
    "\n",
    "'order':2,\n",
    "'meth': 'reel_name_only',\n",
    "'pattern': 'pattern',\n",
    "'stop_pattern': None,\n",
    "'method':\n",
    "  {\n",
    "    'reel_name': {'any_word_list' : ['Кукутик'],\n",
    "                  'all_word_list':[],\n",
    "                  'stop_any' : []\n",
    "                 },\n",
    "    'text'     : {'any_word_list':[], 'all_word_list':[], 'stop_any' : []},\n",
    "    'yt_channel_name' : {'any_word_list':[]},\n",
    "    'is_shorts' : None # value_for_filter (0/1, default=None)\n",
    "  },\n",
    "'comment': 'обработка по имени'\n",
    "}"
   ]
  },
  {
   "cell_type": "markdown",
   "id": "278e6c8e-d9e6-4aac-97e7-80b6c2851c93",
   "metadata": {},
   "source": [
    "## Акуленок"
   ]
  },
  {
   "cell_type": "code",
   "execution_count": 295,
   "id": "c3c67e9c-39ec-47fa-805b-0f73fb03f676",
   "metadata": {},
   "outputs": [
    {
     "data": {
      "text/plain": [
       "cartoon\n",
       "Кукутики     0.000204\n",
       "Акуленок     0.000132\n",
       "Губка Боб    0.000120\n",
       "Name: proportion, dtype: float64"
      ]
     },
     "metadata": {},
     "output_type": "display_data"
    },
    {
     "data": {
      "text/html": [
       "<div>\n",
       "<style scoped>\n",
       "    .dataframe tbody tr th:only-of-type {\n",
       "        vertical-align: middle;\n",
       "    }\n",
       "\n",
       "    .dataframe tbody tr th {\n",
       "        vertical-align: top;\n",
       "    }\n",
       "\n",
       "    .dataframe thead th {\n",
       "        text-align: right;\n",
       "    }\n",
       "</style>\n",
       "<table border=\"1\" class=\"dataframe\">\n",
       "  <thead>\n",
       "    <tr style=\"text-align: right;\">\n",
       "      <th></th>\n",
       "      <th>yt_channel_name</th>\n",
       "      <th>text</th>\n",
       "    </tr>\n",
       "  </thead>\n",
       "  <tbody>\n",
       "    <tr>\n",
       "      <th>1428</th>\n",
       "      <td>Теремок Песенки для детей</td>\n",
       "      <td>[Акулёнок и Песенка Про машинку  Мы в машине  Котики, Вперед Песенки для детей] Акулёнок и Песенка Промашинку  Мы в машине  Котики, Вперед Песенки для детей  Поем и танцуем вместеДругие развивающие, обучающие песенки длядетей, песни про машинки, буквы и алфавит, животных, времена года песни из мультфильмов, колыбельные вы найдете в этом плейлисте: a href\"http://bit.ly/Pesenki\" class\"blueselection\" target\"blank\"http://bit.ly/Pesenki/aПодпишись и слушай популярные детские песенкиa href\"https://www.youtube.com/c/TeremokSongs\" class\"blueselection\" target\"blank\"https://www.youtube.com/c/TeremokSongs/a</td>\n",
       "    </tr>\n",
       "  </tbody>\n",
       "</table>\n",
       "</div>"
      ],
      "text/plain": [
       "                yt_channel_name  \\\n",
       "1428  Теремок Песенки для детей   \n",
       "\n",
       "                                                                                                                                                                                                                                                                                                                                                                                                                                                                                                                                                                                                                             text  \n",
       "1428  [Акулёнок и Песенка Про машинку  Мы в машине  Котики, Вперед Песенки для детей] Акулёнок и Песенка Промашинку  Мы в машине  Котики, Вперед Песенки для детей  Поем и танцуем вместеДругие развивающие, обучающие песенки длядетей, песни про машинки, буквы и алфавит, животных, времена года песни из мультфильмов, колыбельные вы найдете в этом плейлисте: a href\"http://bit.ly/Pesenki\" class\"blueselection\" target\"blank\"http://bit.ly/Pesenki/aПодпишись и слушай популярные детские песенкиa href\"https://www.youtube.com/c/TeremokSongs\" class\"blueselection\" target\"blank\"https://www.youtube.com/c/TeremokSongs/a  "
      ]
     },
     "execution_count": 295,
     "metadata": {},
     "output_type": "execute_result"
    }
   ],
   "source": [
    "display(dtr.cartoon.value_counts(normalize=True)[29:32])\n",
    "target = 'Акуленок'\n",
    "dtr[dtr.cartoon == target][['yt_channel_name','text']][:1]"
   ]
  },
  {
   "cell_type": "code",
   "execution_count": 296,
   "id": "3b0cab5a-acaa-4a90-8d38-69f6949d7bff",
   "metadata": {},
   "outputs": [
    {
     "name": "stdout",
     "output_type": "stream",
     "text": [
      "акуленок|акулёнок\n"
     ]
    },
    {
     "data": {
      "text/html": [
       "<div>\n",
       "<style scoped>\n",
       "    .dataframe tbody tr th:only-of-type {\n",
       "        vertical-align: middle;\n",
       "    }\n",
       "\n",
       "    .dataframe tbody tr th {\n",
       "        vertical-align: top;\n",
       "    }\n",
       "\n",
       "    .dataframe thead th {\n",
       "        text-align: right;\n",
       "    }\n",
       "</style>\n",
       "<table border=\"1\" class=\"dataframe\">\n",
       "  <thead>\n",
       "    <tr style=\"text-align: right;\">\n",
       "      <th></th>\n",
       "      <th>cartoon</th>\n",
       "      <th>yt_channel_name</th>\n",
       "      <th>reel_name</th>\n",
       "      <th>text</th>\n",
       "      <th>url</th>\n",
       "      <th>language</th>\n",
       "    </tr>\n",
       "  </thead>\n",
       "  <tbody>\n",
       "  </tbody>\n",
       "</table>\n",
       "</div>"
      ],
      "text/plain": [
       "Empty DataFrame\n",
       "Columns: [cartoon, yt_channel_name, reel_name, text, url, language]\n",
       "Index: []"
      ]
     },
     "execution_count": 296,
     "metadata": {},
     "output_type": "execute_result"
    }
   ],
   "source": [
    "word_list = ['Акуленок', 'Акулёнок']\n",
    "stop_words = []\n",
    "# Преобразуем слова в нижний регистр и экранируем\n",
    "pattern = '|'.join([word.lower() for word in word_list])\n",
    "\n",
    "print(pattern)\n",
    "\n",
    "dtr[(dtr.cartoon == target) \n",
    "  & ~(dtr.reel_name.fillna('').astype(str).str.lower().str.contains(pattern, na=False)) \n",
    "][['cartoon','yt_channel_name','reel_name','text','url','language']].head(1)"
   ]
  },
  {
   "cell_type": "code",
   "execution_count": 297,
   "id": "684cec2f-7dc0-42bb-9745-1cbb2be4ebf6",
   "metadata": {},
   "outputs": [
    {
     "name": "stdout",
     "output_type": "stream",
     "text": [
      "акуленок|акулёнок\n",
      "\n"
     ]
    },
    {
     "data": {
      "text/html": [
       "<div>\n",
       "<style scoped>\n",
       "    .dataframe tbody tr th:only-of-type {\n",
       "        vertical-align: middle;\n",
       "    }\n",
       "\n",
       "    .dataframe tbody tr th {\n",
       "        vertical-align: top;\n",
       "    }\n",
       "\n",
       "    .dataframe thead th {\n",
       "        text-align: right;\n",
       "    }\n",
       "</style>\n",
       "<table border=\"1\" class=\"dataframe\">\n",
       "  <thead>\n",
       "    <tr style=\"text-align: right;\">\n",
       "      <th></th>\n",
       "      <th>cartoon</th>\n",
       "      <th>yt_channel_name</th>\n",
       "      <th>text</th>\n",
       "      <th>url</th>\n",
       "      <th>seconds</th>\n",
       "    </tr>\n",
       "  </thead>\n",
       "  <tbody>\n",
       "  </tbody>\n",
       "</table>\n",
       "</div>"
      ],
      "text/plain": [
       "Empty DataFrame\n",
       "Columns: [cartoon, yt_channel_name, text, url, seconds]\n",
       "Index: []"
      ]
     },
     "execution_count": 297,
     "metadata": {},
     "output_type": "execute_result"
    }
   ],
   "source": [
    "# Преобразуем списки слов в регулярные выражения (без границ слова)\n",
    "word_list_regex = '|'.join([word.lower() for word in word_list])  # Поиск подстрок\n",
    "stop_words_regex = '|'.join([stop_word.lower() for stop_word in stop_words])\n",
    "\n",
    "print(word_list_regex)\n",
    "print(stop_words_regex)\n",
    "\n",
    "# Применяем фильтрацию\n",
    "dtr[\n",
    "    (dtr.cartoon == 'none') \n",
    "  & (dtr.reel_name.fillna('').astype(str).str.lower().str.contains(word_list_regex))  # Любое из слов из word_list\n",
    "][['cartoon', 'yt_channel_name', 'text', 'url','seconds']][:20]"
   ]
  },
  {
   "cell_type": "code",
   "execution_count": 298,
   "id": "d52a21ba",
   "metadata": {},
   "outputs": [
    {
     "data": {
      "text/plain": [
       "cartoon\n",
       "Акуленок    11\n",
       "Name: count, dtype: int64"
      ]
     },
     "metadata": {},
     "output_type": "display_data"
    },
    {
     "data": {
      "text/plain": [
       "(11,)"
      ]
     },
     "metadata": {},
     "output_type": "display_data"
    },
    {
     "name": "stdout",
     "output_type": "stream",
     "text": [
      "\n"
     ]
    },
    {
     "data": {
      "text/plain": [
       "(11, 16)"
      ]
     },
     "execution_count": 298,
     "metadata": {},
     "output_type": "execute_result"
    }
   ],
   "source": [
    "ddd = \\\n",
    "dtr[\n",
    "    (dtr.reel_name.fillna('').astype(str).str.lower().str.contains(pattern, na=False))\n",
    "][['cartoon','text']]\n",
    "\n",
    "display(ddd['cartoon'].value_counts())\n",
    "display(ddd['cartoon'].shape)\n",
    "print()\n",
    "dtr[dtr.cartoon == target].shape"
   ]
  },
  {
   "cell_type": "code",
   "execution_count": 299,
   "id": "d948c74d-aefa-4634-b7a2-e3b81be2e0ba",
   "metadata": {},
   "outputs": [],
   "source": [
    "d['Акуленок'] = {\n",
    "\n",
    "'order':-1,\n",
    "'meth': 'reel_name_only',\n",
    "'pattern': 'pattern',\n",
    "'stop_pattern': None,\n",
    "'method':\n",
    "  {\n",
    "    'reel_name': {'any_word_list' : ['Акуленок', 'Акулёнок'],\n",
    "                  'all_word_list':None,\n",
    "                  'stop_any' : None\n",
    "                 },\n",
    "    'text'     : None,\n",
    "    'yt_channel_name' : None,\n",
    "    'is_shorts' : None # value_for_filter (0/1, default=None)\n",
    "  },\n",
    "'comment': 'обработка по имени'\n",
    "}"
   ]
  },
  {
   "cell_type": "markdown",
   "id": "299bd5eb-3c11-4716-b580-57cc031703b9",
   "metadata": {},
   "source": [
    "## Губка Боб"
   ]
  },
  {
   "cell_type": "code",
   "execution_count": 301,
   "id": "c6460f02-98d7-4e6a-9f06-f2e07074ca8a",
   "metadata": {},
   "outputs": [
    {
     "data": {
      "text/plain": [
       "cartoon\n",
       "Акуленок     0.000132\n",
       "Губка Боб    0.000120\n",
       "Лунтик       0.000120\n",
       "Name: proportion, dtype: float64"
      ]
     },
     "metadata": {},
     "output_type": "display_data"
    },
    {
     "data": {
      "text/html": [
       "<div>\n",
       "<style scoped>\n",
       "    .dataframe tbody tr th:only-of-type {\n",
       "        vertical-align: middle;\n",
       "    }\n",
       "\n",
       "    .dataframe tbody tr th {\n",
       "        vertical-align: top;\n",
       "    }\n",
       "\n",
       "    .dataframe thead th {\n",
       "        text-align: right;\n",
       "    }\n",
       "</style>\n",
       "<table border=\"1\" class=\"dataframe\">\n",
       "  <thead>\n",
       "    <tr style=\"text-align: right;\">\n",
       "      <th></th>\n",
       "      <th>yt_channel_name</th>\n",
       "      <th>text</th>\n",
       "    </tr>\n",
       "  </thead>\n",
       "  <tbody>\n",
       "    <tr>\n",
       "      <th>4690</th>\n",
       "      <td>Kinder Surprise Eggs Rustama</td>\n",
       "      <td>[Surprise Eggs ANGRY BIRDS Конфитрейд  Яйца С Сюрпризом EPIC SURPRISE SpongeBob] Unboxing Surprise Eggs Angry Birds and SpongeBob SquarePants,Обзор яйца сюрприза Angry Birds и игрушки по мультику Губка Боб Квадратные Штаны от КонфитрейдSubscribe to my toychannel http://www.youtube.com/user/UnboxingSupriseEggsSubscribe  http://www.youtube.com/user/AeroCartoonTwitter https://twitter.com/fl0r1xhttp://fl0r1x.blogspot.ru/ВКонтакте https://vk.com/unboxingsupriseeggsFeatured Song: \"Festival\" by Topher Mohr and Alex Elena</td>\n",
       "    </tr>\n",
       "  </tbody>\n",
       "</table>\n",
       "</div>"
      ],
      "text/plain": [
       "                   yt_channel_name  \\\n",
       "4690  Kinder Surprise Eggs Rustama   \n",
       "\n",
       "                                                                                                                                                                                                                                                                                                                                                                                                                                                                                                                                         text  \n",
       "4690  [Surprise Eggs ANGRY BIRDS Конфитрейд  Яйца С Сюрпризом EPIC SURPRISE SpongeBob] Unboxing Surprise Eggs Angry Birds and SpongeBob SquarePants,Обзор яйца сюрприза Angry Birds и игрушки по мультику Губка Боб Квадратные Штаны от КонфитрейдSubscribe to my toychannel http://www.youtube.com/user/UnboxingSupriseEggsSubscribe  http://www.youtube.com/user/AeroCartoonTwitter https://twitter.com/fl0r1xhttp://fl0r1x.blogspot.ru/ВКонтакте https://vk.com/unboxingsupriseeggsFeatured Song: \"Festival\" by Topher Mohr and Alex Elena  "
      ]
     },
     "execution_count": 301,
     "metadata": {},
     "output_type": "execute_result"
    }
   ],
   "source": [
    "display(dtr.cartoon.value_counts(normalize=True)[30:33])\n",
    "target = 'Губка Боб'\n",
    "dtr[dtr.cartoon == target][['yt_channel_name','text']][:1]"
   ]
  },
  {
   "cell_type": "code",
   "execution_count": 302,
   "id": "650f4eb8-7c02-4dd3-a874-8831c5296e98",
   "metadata": {},
   "outputs": [
    {
     "name": "stdout",
     "output_type": "stream",
     "text": [
      "spongebob|sponge bob\n"
     ]
    },
    {
     "data": {
      "text/html": [
       "<div>\n",
       "<style scoped>\n",
       "    .dataframe tbody tr th:only-of-type {\n",
       "        vertical-align: middle;\n",
       "    }\n",
       "\n",
       "    .dataframe tbody tr th {\n",
       "        vertical-align: top;\n",
       "    }\n",
       "\n",
       "    .dataframe thead th {\n",
       "        text-align: right;\n",
       "    }\n",
       "</style>\n",
       "<table border=\"1\" class=\"dataframe\">\n",
       "  <thead>\n",
       "    <tr style=\"text-align: right;\">\n",
       "      <th></th>\n",
       "      <th>cartoon</th>\n",
       "      <th>yt_channel_name</th>\n",
       "      <th>reel_name</th>\n",
       "      <th>text</th>\n",
       "      <th>url</th>\n",
       "      <th>language</th>\n",
       "    </tr>\n",
       "  </thead>\n",
       "  <tbody>\n",
       "  </tbody>\n",
       "</table>\n",
       "</div>"
      ],
      "text/plain": [
       "Empty DataFrame\n",
       "Columns: [cartoon, yt_channel_name, reel_name, text, url, language]\n",
       "Index: []"
      ]
     },
     "execution_count": 302,
     "metadata": {},
     "output_type": "execute_result"
    }
   ],
   "source": [
    "word_list = ['SpongeBob','Sponge Bob']\n",
    "\n",
    "stop_words = []\n",
    "\n",
    "# Преобразуем слова в нижний регистр и экранируем\n",
    "pattern = '|'.join([word.lower() for word in word_list])\n",
    "\n",
    "print(pattern)\n",
    "\n",
    "dtr[(dtr.cartoon == target) \n",
    "  & ~(dtr.reel_name.fillna('').astype(str).str.lower().str.contains(pattern, na=False)) \n",
    "][['cartoon','yt_channel_name','reel_name','text','url','language']].head(10)"
   ]
  },
  {
   "cell_type": "code",
   "execution_count": 303,
   "id": "a88c5afa-9ff4-404d-8401-3bc454b5eab5",
   "metadata": {},
   "outputs": [
    {
     "name": "stdout",
     "output_type": "stream",
     "text": [
      "spongebob|sponge bob\n",
      "\n"
     ]
    },
    {
     "data": {
      "text/html": [
       "<div>\n",
       "<style scoped>\n",
       "    .dataframe tbody tr th:only-of-type {\n",
       "        vertical-align: middle;\n",
       "    }\n",
       "\n",
       "    .dataframe tbody tr th {\n",
       "        vertical-align: top;\n",
       "    }\n",
       "\n",
       "    .dataframe thead th {\n",
       "        text-align: right;\n",
       "    }\n",
       "</style>\n",
       "<table border=\"1\" class=\"dataframe\">\n",
       "  <thead>\n",
       "    <tr style=\"text-align: right;\">\n",
       "      <th></th>\n",
       "      <th>cartoon</th>\n",
       "      <th>yt_channel_name</th>\n",
       "      <th>text</th>\n",
       "      <th>url</th>\n",
       "      <th>seconds</th>\n",
       "    </tr>\n",
       "  </thead>\n",
       "  <tbody>\n",
       "  </tbody>\n",
       "</table>\n",
       "</div>"
      ],
      "text/plain": [
       "Empty DataFrame\n",
       "Columns: [cartoon, yt_channel_name, text, url, seconds]\n",
       "Index: []"
      ]
     },
     "execution_count": 303,
     "metadata": {},
     "output_type": "execute_result"
    }
   ],
   "source": [
    "# Преобразуем списки слов в регулярные выражения (без границ слова)\n",
    "word_list_regex = '|'.join([word.lower() for word in word_list])  # Поиск подстрок\n",
    "stop_words_regex = '|'.join([stop_word.lower() for stop_word in stop_words])\n",
    "\n",
    "print(word_list_regex)\n",
    "print(stop_words_regex)\n",
    "\n",
    "# Применяем фильтрацию\n",
    "dtr[\n",
    "    (dtr.cartoon == 'none') \n",
    "  & (dtr.reel_name.fillna('').astype(str).str.lower().str.contains(word_list_regex))  # Любое из слов из word_list\n",
    "][['cartoon', 'yt_channel_name', 'text', 'url','seconds']][:20]"
   ]
  },
  {
   "cell_type": "code",
   "execution_count": 304,
   "id": "d975a807",
   "metadata": {},
   "outputs": [
    {
     "data": {
      "text/plain": [
       "cartoon\n",
       "Губка Боб    10\n",
       "Name: count, dtype: int64"
      ]
     },
     "metadata": {},
     "output_type": "display_data"
    },
    {
     "data": {
      "text/plain": [
       "(10,)"
      ]
     },
     "metadata": {},
     "output_type": "display_data"
    },
    {
     "name": "stdout",
     "output_type": "stream",
     "text": [
      "\n"
     ]
    },
    {
     "data": {
      "text/plain": [
       "(10, 16)"
      ]
     },
     "execution_count": 304,
     "metadata": {},
     "output_type": "execute_result"
    }
   ],
   "source": [
    "ddd = \\\n",
    "dtr[\n",
    "    (dtr.reel_name.fillna('').astype(str).str.lower().str.contains(pattern, na=False))\n",
    "][['cartoon','text']]\n",
    "\n",
    "display(ddd['cartoon'].value_counts())\n",
    "display(ddd['cartoon'].shape)\n",
    "print()\n",
    "dtr[dtr.cartoon == target].shape"
   ]
  },
  {
   "cell_type": "code",
   "execution_count": 305,
   "id": "5a194d50-a913-4763-b589-337b51ef8b6e",
   "metadata": {},
   "outputs": [],
   "source": [
    "d['Губка Боб'] = {\n",
    "\n",
    "'order':0,\n",
    "'meth': 'reel_name_only',\n",
    "'pattern': 'pattern',\n",
    "'stop_pattern': None,\n",
    "'method':\n",
    "  {\n",
    "    'reel_name': {'any_word_list' : ['SpongeBob','Sponge Bob'],\n",
    "                  'all_word_list':None,\n",
    "                  'stop_any' : None\n",
    "                 },\n",
    "    'text'     : None,\n",
    "    'yt_channel_name' : None,\n",
    "    'is_shorts' : None # value_for_filter (0/1, default=None)\n",
    "  },\n",
    "'comment': 'обработка по имени'\n",
    "}"
   ]
  },
  {
   "cell_type": "markdown",
   "id": "e13a68ca-d12b-4ac9-90f1-41aeab7079d9",
   "metadata": {},
   "source": [
    "## Лунтик"
   ]
  },
  {
   "cell_type": "code",
   "execution_count": 307,
   "id": "ca41e71c-d635-4d9b-9248-165b450411f5",
   "metadata": {},
   "outputs": [
    {
     "data": {
      "text/plain": [
       "cartoon\n",
       "Губка Боб    0.00012\n",
       "Лунтик       0.00012\n",
       "Симпсоны     0.00012\n",
       "Name: proportion, dtype: float64"
      ]
     },
     "metadata": {},
     "output_type": "display_data"
    },
    {
     "data": {
      "text/html": [
       "<div>\n",
       "<style scoped>\n",
       "    .dataframe tbody tr th:only-of-type {\n",
       "        vertical-align: middle;\n",
       "    }\n",
       "\n",
       "    .dataframe tbody tr th {\n",
       "        vertical-align: top;\n",
       "    }\n",
       "\n",
       "    .dataframe thead th {\n",
       "        text-align: right;\n",
       "    }\n",
       "</style>\n",
       "<table border=\"1\" class=\"dataframe\">\n",
       "  <thead>\n",
       "    <tr style=\"text-align: right;\">\n",
       "      <th></th>\n",
       "      <th>yt_channel_name</th>\n",
       "      <th>text</th>\n",
       "    </tr>\n",
       "  </thead>\n",
       "  <tbody>\n",
       "    <tr>\n",
       "      <th>18195</th>\n",
       "      <td>Kids Diana Show</td>\n",
       "      <td>[Диана и Рома приготовили Подарок для Лунтика  Кубики, Kids Videos] Facebook https://www.facebook.com/KidsDianaShowOfficial/ Facebook https://www.facebook.com/KidsDianaShowOfficial/</td>\n",
       "    </tr>\n",
       "  </tbody>\n",
       "</table>\n",
       "</div>"
      ],
      "text/plain": [
       "       yt_channel_name  \\\n",
       "18195  Kids Diana Show   \n",
       "\n",
       "                                                                                                                                                                                        text  \n",
       "18195  [Диана и Рома приготовили Подарок для Лунтика  Кубики, Kids Videos] Facebook https://www.facebook.com/KidsDianaShowOfficial/ Facebook https://www.facebook.com/KidsDianaShowOfficial/  "
      ]
     },
     "execution_count": 307,
     "metadata": {},
     "output_type": "execute_result"
    }
   ],
   "source": [
    "display(dtr.cartoon.value_counts(normalize=True)[31:34])\n",
    "target = 'Лунтик'\n",
    "dtr[dtr.cartoon == target][['yt_channel_name','text']][:1]"
   ]
  },
  {
   "cell_type": "code",
   "execution_count": 308,
   "id": "e53771df-64b7-4fad-92e6-9214df780b9e",
   "metadata": {},
   "outputs": [
    {
     "name": "stdout",
     "output_type": "stream",
     "text": [
      "лунтик|luntik\n"
     ]
    },
    {
     "data": {
      "text/html": [
       "<div>\n",
       "<style scoped>\n",
       "    .dataframe tbody tr th:only-of-type {\n",
       "        vertical-align: middle;\n",
       "    }\n",
       "\n",
       "    .dataframe tbody tr th {\n",
       "        vertical-align: top;\n",
       "    }\n",
       "\n",
       "    .dataframe thead th {\n",
       "        text-align: right;\n",
       "    }\n",
       "</style>\n",
       "<table border=\"1\" class=\"dataframe\">\n",
       "  <thead>\n",
       "    <tr style=\"text-align: right;\">\n",
       "      <th></th>\n",
       "      <th>cartoon</th>\n",
       "      <th>yt_channel_name</th>\n",
       "      <th>reel_name</th>\n",
       "      <th>text</th>\n",
       "      <th>url</th>\n",
       "      <th>language</th>\n",
       "    </tr>\n",
       "  </thead>\n",
       "  <tbody>\n",
       "  </tbody>\n",
       "</table>\n",
       "</div>"
      ],
      "text/plain": [
       "Empty DataFrame\n",
       "Columns: [cartoon, yt_channel_name, reel_name, text, url, language]\n",
       "Index: []"
      ]
     },
     "execution_count": 308,
     "metadata": {},
     "output_type": "execute_result"
    }
   ],
   "source": [
    "word_list = ['Лунтик','Luntik']\n",
    "\n",
    "stop_words = []\n",
    "\n",
    "# Преобразуем слова в нижний регистр и экранируем\n",
    "pattern = '|'.join([word.lower() for word in word_list])\n",
    "\n",
    "print(pattern)\n",
    "\n",
    "dtr[(dtr.cartoon == target) \n",
    "  & ~(dtr.reel_name.fillna('').astype(str).str.lower().str.contains(pattern, na=False)) \n",
    "][['cartoon','yt_channel_name','reel_name','text','url','language']].head(10)"
   ]
  },
  {
   "cell_type": "code",
   "execution_count": 309,
   "id": "1dee97f6-8d8c-4ba0-b677-96d3a9022b74",
   "metadata": {},
   "outputs": [
    {
     "name": "stdout",
     "output_type": "stream",
     "text": [
      "лунтик|luntik\n",
      "\n"
     ]
    },
    {
     "data": {
      "text/html": [
       "<div>\n",
       "<style scoped>\n",
       "    .dataframe tbody tr th:only-of-type {\n",
       "        vertical-align: middle;\n",
       "    }\n",
       "\n",
       "    .dataframe tbody tr th {\n",
       "        vertical-align: top;\n",
       "    }\n",
       "\n",
       "    .dataframe thead th {\n",
       "        text-align: right;\n",
       "    }\n",
       "</style>\n",
       "<table border=\"1\" class=\"dataframe\">\n",
       "  <thead>\n",
       "    <tr style=\"text-align: right;\">\n",
       "      <th></th>\n",
       "      <th>cartoon</th>\n",
       "      <th>yt_channel_name</th>\n",
       "      <th>text</th>\n",
       "      <th>url</th>\n",
       "      <th>seconds</th>\n",
       "    </tr>\n",
       "  </thead>\n",
       "  <tbody>\n",
       "  </tbody>\n",
       "</table>\n",
       "</div>"
      ],
      "text/plain": [
       "Empty DataFrame\n",
       "Columns: [cartoon, yt_channel_name, text, url, seconds]\n",
       "Index: []"
      ]
     },
     "execution_count": 309,
     "metadata": {},
     "output_type": "execute_result"
    }
   ],
   "source": [
    "# Преобразуем списки слов в регулярные выражения (без границ слова)\n",
    "word_list_regex = '|'.join([word.lower() for word in word_list])  # Поиск подстрок\n",
    "stop_words_regex = '|'.join([stop_word.lower() for stop_word in stop_words])\n",
    "\n",
    "print(word_list_regex)\n",
    "print(stop_words_regex)\n",
    "\n",
    "# Применяем фильтрацию\n",
    "dtr[\n",
    "    (dtr.cartoon == 'none') \n",
    "  & (dtr.reel_name.fillna('').astype(str).str.lower().str.contains(word_list_regex))  # Любое из слов из word_list\n",
    "][['cartoon', 'yt_channel_name', 'text', 'url','seconds']][:20]"
   ]
  },
  {
   "cell_type": "code",
   "execution_count": 310,
   "id": "fe543f23",
   "metadata": {},
   "outputs": [
    {
     "data": {
      "text/plain": [
       "cartoon\n",
       "Лунтик    10\n",
       "Name: count, dtype: int64"
      ]
     },
     "metadata": {},
     "output_type": "display_data"
    },
    {
     "data": {
      "text/plain": [
       "(10,)"
      ]
     },
     "metadata": {},
     "output_type": "display_data"
    },
    {
     "name": "stdout",
     "output_type": "stream",
     "text": [
      "\n"
     ]
    },
    {
     "data": {
      "text/plain": [
       "(10, 16)"
      ]
     },
     "execution_count": 310,
     "metadata": {},
     "output_type": "execute_result"
    }
   ],
   "source": [
    "ddd = \\\n",
    "dtr[\n",
    "    (dtr.reel_name.fillna('').astype(str).str.lower().str.contains(pattern, na=False))\n",
    "][['cartoon','text']]\n",
    "\n",
    "display(ddd['cartoon'].value_counts())\n",
    "display(ddd['cartoon'].shape)\n",
    "print()\n",
    "dtr[dtr.cartoon == target].shape"
   ]
  },
  {
   "cell_type": "code",
   "execution_count": 311,
   "id": "dda088cd-b91d-4bb1-b72c-2339ea13ec3c",
   "metadata": {},
   "outputs": [],
   "source": [
    "d['Лунтик'] = {\n",
    "\n",
    "'order':0,\n",
    "'meth': 'reel_name_only',\n",
    "'pattern': 'pattern',\n",
    "'stop_pattern': None,\n",
    "'method':\n",
    "  {\n",
    "    'reel_name': {'any_word_list' : ['Лунтик','Luntik'],\n",
    "                  'all_word_list':None,\n",
    "                  'stop_any' : None\n",
    "                 },\n",
    "    'text'     : None,\n",
    "    'yt_channel_name' : None,\n",
    "    'is_shorts' : None # value_for_filter (0/1, default=None)\n",
    "  },\n",
    "'comment': 'обработка по имени'\n",
    "}"
   ]
  },
  {
   "cell_type": "markdown",
   "id": "dad7f0c8-47a5-4fc7-9dee-5d4499879feb",
   "metadata": {},
   "source": [
    "## Симпсоны"
   ]
  },
  {
   "cell_type": "code",
   "execution_count": 313,
   "id": "07d01ee8-4bd3-4ebd-b7c9-d9ba3e6514b1",
   "metadata": {},
   "outputs": [
    {
     "data": {
      "text/plain": [
       "cartoon\n",
       "Лунтик      0.000120\n",
       "Симпсоны    0.000120\n",
       "Финник      0.000096\n",
       "Name: proportion, dtype: float64"
      ]
     },
     "metadata": {},
     "output_type": "display_data"
    },
    {
     "data": {
      "text/html": [
       "<div>\n",
       "<style scoped>\n",
       "    .dataframe tbody tr th:only-of-type {\n",
       "        vertical-align: middle;\n",
       "    }\n",
       "\n",
       "    .dataframe tbody tr th {\n",
       "        vertical-align: top;\n",
       "    }\n",
       "\n",
       "    .dataframe thead th {\n",
       "        text-align: right;\n",
       "    }\n",
       "</style>\n",
       "<table border=\"1\" class=\"dataframe\">\n",
       "  <thead>\n",
       "    <tr style=\"text-align: right;\">\n",
       "      <th></th>\n",
       "      <th>yt_channel_name</th>\n",
       "      <th>text</th>\n",
       "    </tr>\n",
       "  </thead>\n",
       "  <tbody>\n",
       "    <tr>\n",
       "      <th>8576</th>\n",
       "      <td>Kinder Surprise Eggs Rustama</td>\n",
       "      <td>[Lego minifigures Вся коллекция lego the movie and lego the simpsons Сборник] Сборник Лего Минифигурок на русском языке,Unboxing Lego Minifigures Surprise EggsПОДПИСЫВАЙТЕСЬ НА МОЙ КАНАЛSubscribe to my toychannelhttp://www.youtube.com/user/UnboxingSupriseEggsSubscribe  http://www.youtube.com/user/AeroCartoonГруппа в Вконтакте https://vk.com/unboxingsupriseeggsTwitter https://twitter.com/fl0r1xhttp://fl0r1x.blogspot.ru/Featured Song: \"Festival\" by Topher Mohr and Alex ElenaПо вопросам игрушек из Киндер Сюрпризов rustam.kindergmail.com</td>\n",
       "    </tr>\n",
       "  </tbody>\n",
       "</table>\n",
       "</div>"
      ],
      "text/plain": [
       "                   yt_channel_name  \\\n",
       "8576  Kinder Surprise Eggs Rustama   \n",
       "\n",
       "                                                                                                                                                                                                                                                                                                                                                                                                                                                                                                                                                             text  \n",
       "8576  [Lego minifigures Вся коллекция lego the movie and lego the simpsons Сборник] Сборник Лего Минифигурок на русском языке,Unboxing Lego Minifigures Surprise EggsПОДПИСЫВАЙТЕСЬ НА МОЙ КАНАЛSubscribe to my toychannelhttp://www.youtube.com/user/UnboxingSupriseEggsSubscribe  http://www.youtube.com/user/AeroCartoonГруппа в Вконтакте https://vk.com/unboxingsupriseeggsTwitter https://twitter.com/fl0r1xhttp://fl0r1x.blogspot.ru/Featured Song: \"Festival\" by Topher Mohr and Alex ElenaПо вопросам игрушек из Киндер Сюрпризов rustam.kindergmail.com  "
      ]
     },
     "execution_count": 313,
     "metadata": {},
     "output_type": "execute_result"
    }
   ],
   "source": [
    "display(dtr.cartoon.value_counts(normalize=True)[32:35])\n",
    "target = 'Симпсоны'\n",
    "dtr[dtr.cartoon == target][['yt_channel_name','text']][:1]"
   ]
  },
  {
   "cell_type": "code",
   "execution_count": 314,
   "id": "cc37e627-028c-48ed-93cf-eafe6d49018c",
   "metadata": {},
   "outputs": [
    {
     "name": "stdout",
     "output_type": "stream",
     "text": [
      "simpson|симпсон\n"
     ]
    },
    {
     "data": {
      "text/html": [
       "<div>\n",
       "<style scoped>\n",
       "    .dataframe tbody tr th:only-of-type {\n",
       "        vertical-align: middle;\n",
       "    }\n",
       "\n",
       "    .dataframe tbody tr th {\n",
       "        vertical-align: top;\n",
       "    }\n",
       "\n",
       "    .dataframe thead th {\n",
       "        text-align: right;\n",
       "    }\n",
       "</style>\n",
       "<table border=\"1\" class=\"dataframe\">\n",
       "  <thead>\n",
       "    <tr style=\"text-align: right;\">\n",
       "      <th></th>\n",
       "      <th>cartoon</th>\n",
       "      <th>yt_channel_name</th>\n",
       "      <th>reel_name</th>\n",
       "      <th>text</th>\n",
       "      <th>url</th>\n",
       "      <th>language</th>\n",
       "    </tr>\n",
       "  </thead>\n",
       "  <tbody>\n",
       "  </tbody>\n",
       "</table>\n",
       "</div>"
      ],
      "text/plain": [
       "Empty DataFrame\n",
       "Columns: [cartoon, yt_channel_name, reel_name, text, url, language]\n",
       "Index: []"
      ]
     },
     "execution_count": 314,
     "metadata": {},
     "output_type": "execute_result"
    }
   ],
   "source": [
    "word_list = ['simpson','Симпсон']\n",
    "\n",
    "stop_words = []\n",
    "\n",
    "# Преобразуем слова в нижний регистр и экранируем\n",
    "pattern = '|'.join([word.lower() for word in word_list])\n",
    "\n",
    "stop_pattern = '|'.join(map(lambda word: word.lower(), stop_words))\n",
    "\n",
    "print(pattern)\n",
    "\n",
    "dtr[(dtr.cartoon == target) \n",
    "  & ~(dtr.reel_name.fillna('').astype(str).str.lower().str.contains(pattern, na=False)) \n",
    "][['cartoon','yt_channel_name','reel_name','text','url','language']].head(10)"
   ]
  },
  {
   "cell_type": "code",
   "execution_count": 315,
   "id": "9745d5cc-a72a-459c-9646-de1b7680035b",
   "metadata": {},
   "outputs": [
    {
     "name": "stdout",
     "output_type": "stream",
     "text": [
      "simpson|симпсон\n",
      "\n"
     ]
    },
    {
     "data": {
      "text/html": [
       "<div>\n",
       "<style scoped>\n",
       "    .dataframe tbody tr th:only-of-type {\n",
       "        vertical-align: middle;\n",
       "    }\n",
       "\n",
       "    .dataframe tbody tr th {\n",
       "        vertical-align: top;\n",
       "    }\n",
       "\n",
       "    .dataframe thead th {\n",
       "        text-align: right;\n",
       "    }\n",
       "</style>\n",
       "<table border=\"1\" class=\"dataframe\">\n",
       "  <thead>\n",
       "    <tr style=\"text-align: right;\">\n",
       "      <th></th>\n",
       "      <th>cartoon</th>\n",
       "      <th>yt_channel_name</th>\n",
       "      <th>text</th>\n",
       "      <th>url</th>\n",
       "      <th>seconds</th>\n",
       "    </tr>\n",
       "  </thead>\n",
       "  <tbody>\n",
       "  </tbody>\n",
       "</table>\n",
       "</div>"
      ],
      "text/plain": [
       "Empty DataFrame\n",
       "Columns: [cartoon, yt_channel_name, text, url, seconds]\n",
       "Index: []"
      ]
     },
     "execution_count": 315,
     "metadata": {},
     "output_type": "execute_result"
    }
   ],
   "source": [
    "# Преобразуем списки слов в регулярные выражения (без границ слова)\n",
    "word_list_regex = '|'.join([word.lower() for word in word_list])  # Поиск подстрок\n",
    "stop_words_regex = '|'.join([stop_word.lower() for stop_word in stop_words])\n",
    "\n",
    "print(word_list_regex)\n",
    "print(stop_words_regex)\n",
    "\n",
    "# Применяем фильтрацию\n",
    "dtr[\n",
    "    (dtr.cartoon == 'none') \n",
    "  & (dtr.reel_name.fillna('').astype(str).str.lower().str.contains(word_list_regex))  # Любое из слов из word_list\n",
    "][['cartoon', 'yt_channel_name', 'text', 'url','seconds']][:20]"
   ]
  },
  {
   "cell_type": "code",
   "execution_count": 316,
   "id": "3c81627a",
   "metadata": {},
   "outputs": [
    {
     "data": {
      "text/plain": [
       "cartoon\n",
       "Симпсоны    10\n",
       "Name: count, dtype: int64"
      ]
     },
     "metadata": {},
     "output_type": "display_data"
    },
    {
     "data": {
      "text/plain": [
       "(10,)"
      ]
     },
     "metadata": {},
     "output_type": "display_data"
    },
    {
     "name": "stdout",
     "output_type": "stream",
     "text": [
      "\n"
     ]
    },
    {
     "data": {
      "text/plain": [
       "(10, 16)"
      ]
     },
     "execution_count": 316,
     "metadata": {},
     "output_type": "execute_result"
    }
   ],
   "source": [
    "ddd = \\\n",
    "dtr[\n",
    "    (dtr.reel_name.fillna('').astype(str).str.lower().str.contains(pattern, na=False))\n",
    "][['cartoon','text']]\n",
    "\n",
    "display(ddd['cartoon'].value_counts())\n",
    "display(ddd['cartoon'].shape)\n",
    "print()\n",
    "dtr[dtr.cartoon == target].shape"
   ]
  },
  {
   "cell_type": "code",
   "execution_count": 317,
   "id": "0ac2176c-2557-4716-87d3-232f76432200",
   "metadata": {},
   "outputs": [],
   "source": [
    "d['Симпсоны'] = {\n",
    "\n",
    "'order':0,\n",
    "'meth': 'reel_name_only',\n",
    "'pattern': 'pattern',\n",
    "'stop_pattern': None,\n",
    "'method':\n",
    "  {\n",
    "    'reel_name': {'any_word_list' : ['simpson','Симпсон'],\n",
    "                  'all_word_list':None,\n",
    "                  'stop_any' : None\n",
    "                 },\n",
    "    'text'     : None,\n",
    "    'yt_channel_name' : None,\n",
    "    'is_shorts' : None # value_for_filter (0/1, default=None)\n",
    "  },\n",
    "'comment': 'обработка по имени'\n",
    "}"
   ]
  },
  {
   "cell_type": "markdown",
   "id": "7381505e-0555-41c5-8d5c-363850c67c64",
   "metadata": {},
   "source": [
    "## Финник"
   ]
  },
  {
   "cell_type": "code",
   "execution_count": 319,
   "id": "bedb42d6-e85d-48f7-b5bf-6fb696ffff4d",
   "metadata": {},
   "outputs": [
    {
     "data": {
      "text/plain": [
       "cartoon\n",
       "Симпсоны      0.000120\n",
       "Финник        0.000096\n",
       "Мини-мишки    0.000096\n",
       "Name: proportion, dtype: float64"
      ]
     },
     "metadata": {},
     "output_type": "display_data"
    },
    {
     "data": {
      "text/html": [
       "<div>\n",
       "<style scoped>\n",
       "    .dataframe tbody tr th:only-of-type {\n",
       "        vertical-align: middle;\n",
       "    }\n",
       "\n",
       "    .dataframe tbody tr th {\n",
       "        vertical-align: top;\n",
       "    }\n",
       "\n",
       "    .dataframe thead th {\n",
       "        text-align: right;\n",
       "    }\n",
       "</style>\n",
       "<table border=\"1\" class=\"dataframe\">\n",
       "  <thead>\n",
       "    <tr style=\"text-align: right;\">\n",
       "      <th></th>\n",
       "      <th>yt_channel_name</th>\n",
       "      <th>text</th>\n",
       "    </tr>\n",
       "  </thead>\n",
       "  <tbody>\n",
       "    <tr>\n",
       "      <th>9112</th>\n",
       "      <td>Финник</td>\n",
       "      <td>[МУДы от Финника . Часть 1] Финник  Подпишись https://goo.su/b3kQWJAЖМИ НА КОЛОКОЛЬЧИК чтобы не пропустить ни одной серии любимых мультфильмовПонравился мультик Ставь нам  и поделись с друзьямиГруппы проекта \"Финник\"ВКонтакте  https://vk.com/finnickmovieОдноклассники  https://ok.ru/finnickmovieФинник</td>\n",
       "    </tr>\n",
       "  </tbody>\n",
       "</table>\n",
       "</div>"
      ],
      "text/plain": [
       "     yt_channel_name  \\\n",
       "9112          Финник   \n",
       "\n",
       "                                                                                                                                                                                                                                                                                                               text  \n",
       "9112  [МУДы от Финника . Часть 1] Финник  Подпишись https://goo.su/b3kQWJAЖМИ НА КОЛОКОЛЬЧИК чтобы не пропустить ни одной серии любимых мультфильмовПонравился мультик Ставь нам  и поделись с друзьямиГруппы проекта \"Финник\"ВКонтакте  https://vk.com/finnickmovieОдноклассники  https://ok.ru/finnickmovieФинник  "
      ]
     },
     "execution_count": 319,
     "metadata": {},
     "output_type": "execute_result"
    }
   ],
   "source": [
    "display(dtr.cartoon.value_counts(normalize=True)[33:36])\n",
    "target = 'Финник'\n",
    "dtr[dtr.cartoon == target][['yt_channel_name','text']][:1]"
   ]
  },
  {
   "cell_type": "code",
   "execution_count": 320,
   "id": "deb3ffee-07e4-4e39-9160-3b4d83fa74b5",
   "metadata": {},
   "outputs": [
    {
     "name": "stdout",
     "output_type": "stream",
     "text": [
      "финник\n"
     ]
    },
    {
     "data": {
      "text/html": [
       "<div>\n",
       "<style scoped>\n",
       "    .dataframe tbody tr th:only-of-type {\n",
       "        vertical-align: middle;\n",
       "    }\n",
       "\n",
       "    .dataframe tbody tr th {\n",
       "        vertical-align: top;\n",
       "    }\n",
       "\n",
       "    .dataframe thead th {\n",
       "        text-align: right;\n",
       "    }\n",
       "</style>\n",
       "<table border=\"1\" class=\"dataframe\">\n",
       "  <thead>\n",
       "    <tr style=\"text-align: right;\">\n",
       "      <th></th>\n",
       "      <th>cartoon</th>\n",
       "      <th>yt_channel_name</th>\n",
       "      <th>reel_name</th>\n",
       "      <th>text</th>\n",
       "      <th>url</th>\n",
       "      <th>language</th>\n",
       "    </tr>\n",
       "  </thead>\n",
       "  <tbody>\n",
       "  </tbody>\n",
       "</table>\n",
       "</div>"
      ],
      "text/plain": [
       "Empty DataFrame\n",
       "Columns: [cartoon, yt_channel_name, reel_name, text, url, language]\n",
       "Index: []"
      ]
     },
     "execution_count": 320,
     "metadata": {},
     "output_type": "execute_result"
    }
   ],
   "source": [
    "word_list = ['Финник']\n",
    "\n",
    "stop_words = []\n",
    "\n",
    "# Преобразуем слова в нижний регистр и экранируем\n",
    "pattern = '|'.join([word.lower() for word in word_list])\n",
    "\n",
    "print(pattern)\n",
    "\n",
    "dtr[(dtr.cartoon == target) \n",
    "  & ~(dtr.reel_name.fillna('').astype(str).str.lower().str.contains(pattern, na=False)) \n",
    "][['cartoon','yt_channel_name','reel_name','text','url','language']].head(10)"
   ]
  },
  {
   "cell_type": "code",
   "execution_count": 321,
   "id": "7ae25bf5-ef3a-4873-98f1-17fca55f1d09",
   "metadata": {},
   "outputs": [
    {
     "name": "stdout",
     "output_type": "stream",
     "text": [
      "финник\n",
      "\n"
     ]
    },
    {
     "data": {
      "text/html": [
       "<div>\n",
       "<style scoped>\n",
       "    .dataframe tbody tr th:only-of-type {\n",
       "        vertical-align: middle;\n",
       "    }\n",
       "\n",
       "    .dataframe tbody tr th {\n",
       "        vertical-align: top;\n",
       "    }\n",
       "\n",
       "    .dataframe thead th {\n",
       "        text-align: right;\n",
       "    }\n",
       "</style>\n",
       "<table border=\"1\" class=\"dataframe\">\n",
       "  <thead>\n",
       "    <tr style=\"text-align: right;\">\n",
       "      <th></th>\n",
       "      <th>cartoon</th>\n",
       "      <th>yt_channel_name</th>\n",
       "      <th>text</th>\n",
       "      <th>url</th>\n",
       "      <th>seconds</th>\n",
       "    </tr>\n",
       "  </thead>\n",
       "  <tbody>\n",
       "  </tbody>\n",
       "</table>\n",
       "</div>"
      ],
      "text/plain": [
       "Empty DataFrame\n",
       "Columns: [cartoon, yt_channel_name, text, url, seconds]\n",
       "Index: []"
      ]
     },
     "execution_count": 321,
     "metadata": {},
     "output_type": "execute_result"
    }
   ],
   "source": [
    "# Преобразуем списки слов в регулярные выражения (без границ слова)\n",
    "word_list_regex = '|'.join([word.lower() for word in word_list])  # Поиск подстрок\n",
    "stop_words_regex = '|'.join([stop_word.lower() for stop_word in stop_words])\n",
    "\n",
    "print(word_list_regex)\n",
    "print(stop_words_regex)\n",
    "\n",
    "# Применяем фильтрацию\n",
    "dtr[\n",
    "    (dtr.cartoon == 'none') \n",
    "  & (dtr.reel_name.fillna('').astype(str).str.lower().str.contains(word_list_regex))  # Любое из слов из word_list\n",
    "][['cartoon', 'yt_channel_name', 'text', 'url','seconds']][:20]"
   ]
  },
  {
   "cell_type": "code",
   "execution_count": 322,
   "id": "73be384c",
   "metadata": {},
   "outputs": [
    {
     "data": {
      "text/plain": [
       "cartoon\n",
       "Финник    8\n",
       "Name: count, dtype: int64"
      ]
     },
     "metadata": {},
     "output_type": "display_data"
    },
    {
     "data": {
      "text/plain": [
       "(8,)"
      ]
     },
     "metadata": {},
     "output_type": "display_data"
    },
    {
     "name": "stdout",
     "output_type": "stream",
     "text": [
      "\n"
     ]
    },
    {
     "data": {
      "text/plain": [
       "(8, 16)"
      ]
     },
     "execution_count": 322,
     "metadata": {},
     "output_type": "execute_result"
    }
   ],
   "source": [
    "ddd = \\\n",
    "dtr[\n",
    "    (dtr.reel_name.fillna('').astype(str).str.lower().str.contains(pattern, na=False))\n",
    "][['cartoon','text']]\n",
    "display(ddd['cartoon'].value_counts())\n",
    "display(ddd['cartoon'].shape)\n",
    "print()\n",
    "dtr[dtr.cartoon == target].shape"
   ]
  },
  {
   "cell_type": "code",
   "execution_count": 323,
   "id": "bca66bde-a89c-4b0b-8baf-54bdec2453da",
   "metadata": {},
   "outputs": [],
   "source": [
    "d['Финник'] = {\n",
    "\n",
    "'order':-1,\n",
    "'meth': 'reel_name_only',\n",
    "'pattern': 'pattern',\n",
    "'stop_pattern': None,\n",
    "'method':\n",
    "  {\n",
    "    'reel_name': {'any_word_list' : ['Финник'],\n",
    "                  'all_word_list':None,\n",
    "                  'stop_any' : None\n",
    "                 },\n",
    "    'text'     : None,\n",
    "    'yt_channel_name' : None,\n",
    "    'is_shorts' : None # value_for_filter (0/1, default=None)\n",
    "  },\n",
    "'comment': 'обработка по имени'\n",
    "}"
   ]
  },
  {
   "cell_type": "markdown",
   "id": "dec30a4c-dc12-409c-967f-910485f033ef",
   "metadata": {},
   "source": [
    "## Мини-мишки"
   ]
  },
  {
   "cell_type": "code",
   "execution_count": 325,
   "id": "941c5167-fb85-4e33-8c2d-0d2976ee0601",
   "metadata": {},
   "outputs": [
    {
     "data": {
      "text/plain": [
       "cartoon\n",
       "Финник        0.000096\n",
       "Мини-мишки    0.000096\n",
       "Чебурашка     0.000096\n",
       "Name: proportion, dtype: float64"
      ]
     },
     "metadata": {},
     "output_type": "display_data"
    },
    {
     "data": {
      "text/html": [
       "<div>\n",
       "<style scoped>\n",
       "    .dataframe tbody tr th:only-of-type {\n",
       "        vertical-align: middle;\n",
       "    }\n",
       "\n",
       "    .dataframe tbody tr th {\n",
       "        vertical-align: top;\n",
       "    }\n",
       "\n",
       "    .dataframe thead th {\n",
       "        text-align: right;\n",
       "    }\n",
       "</style>\n",
       "<table border=\"1\" class=\"dataframe\">\n",
       "  <thead>\n",
       "    <tr style=\"text-align: right;\">\n",
       "      <th></th>\n",
       "      <th>yt_channel_name</th>\n",
       "      <th>text</th>\n",
       "    </tr>\n",
       "  </thead>\n",
       "  <tbody>\n",
       "    <tr>\n",
       "      <th>18782</th>\n",
       "      <td>Анимационная студия «Паровоз»</td>\n",
       "      <td>[А у вас какие планы на выходные студияпаровоз минимишки отдых]</td>\n",
       "    </tr>\n",
       "  </tbody>\n",
       "</table>\n",
       "</div>"
      ],
      "text/plain": [
       "                     yt_channel_name  \\\n",
       "18782  Анимационная студия «Паровоз»   \n",
       "\n",
       "                                                                   text  \n",
       "18782  [А у вас какие планы на выходные студияпаровоз минимишки отдых]   "
      ]
     },
     "execution_count": 325,
     "metadata": {},
     "output_type": "execute_result"
    }
   ],
   "source": [
    "display(dtr.cartoon.value_counts(normalize=True)[34:37])\n",
    "target = 'Мини-мишки'\n",
    "dtr[dtr.cartoon == target][['yt_channel_name','text']][:1]"
   ]
  },
  {
   "cell_type": "code",
   "execution_count": 326,
   "id": "c28a30ab-5c8a-4202-89a5-243cd44f8f70",
   "metadata": {},
   "outputs": [
    {
     "name": "stdout",
     "output_type": "stream",
     "text": [
      "минимишки\n"
     ]
    },
    {
     "data": {
      "text/html": [
       "<div>\n",
       "<style scoped>\n",
       "    .dataframe tbody tr th:only-of-type {\n",
       "        vertical-align: middle;\n",
       "    }\n",
       "\n",
       "    .dataframe tbody tr th {\n",
       "        vertical-align: top;\n",
       "    }\n",
       "\n",
       "    .dataframe thead th {\n",
       "        text-align: right;\n",
       "    }\n",
       "</style>\n",
       "<table border=\"1\" class=\"dataframe\">\n",
       "  <thead>\n",
       "    <tr style=\"text-align: right;\">\n",
       "      <th></th>\n",
       "      <th>cartoon</th>\n",
       "      <th>yt_channel_name</th>\n",
       "      <th>reel_name</th>\n",
       "      <th>text</th>\n",
       "      <th>url</th>\n",
       "      <th>language</th>\n",
       "    </tr>\n",
       "  </thead>\n",
       "  <tbody>\n",
       "  </tbody>\n",
       "</table>\n",
       "</div>"
      ],
      "text/plain": [
       "Empty DataFrame\n",
       "Columns: [cartoon, yt_channel_name, reel_name, text, url, language]\n",
       "Index: []"
      ]
     },
     "execution_count": 326,
     "metadata": {},
     "output_type": "execute_result"
    }
   ],
   "source": [
    "word_list = ['МиниМишки']\n",
    "\n",
    "stop_words = []\n",
    "\n",
    "# Преобразуем слова в нижний регистр и экранируем\n",
    "pattern = '|'.join([word.lower() for word in word_list])\n",
    "\n",
    "print(pattern)\n",
    "\n",
    "dtr[(dtr.cartoon == target) \n",
    "  & ~(dtr.reel_name.fillna('').astype(str).str.lower().str.contains(pattern, na=False)) \n",
    "][['cartoon','yt_channel_name','reel_name','text','url','language']].head(10)"
   ]
  },
  {
   "cell_type": "code",
   "execution_count": 327,
   "id": "127dc9b9-c306-4190-8402-1c4346895086",
   "metadata": {},
   "outputs": [
    {
     "name": "stdout",
     "output_type": "stream",
     "text": [
      "минимишки\n",
      "\n"
     ]
    },
    {
     "data": {
      "text/html": [
       "<div>\n",
       "<style scoped>\n",
       "    .dataframe tbody tr th:only-of-type {\n",
       "        vertical-align: middle;\n",
       "    }\n",
       "\n",
       "    .dataframe tbody tr th {\n",
       "        vertical-align: top;\n",
       "    }\n",
       "\n",
       "    .dataframe thead th {\n",
       "        text-align: right;\n",
       "    }\n",
       "</style>\n",
       "<table border=\"1\" class=\"dataframe\">\n",
       "  <thead>\n",
       "    <tr style=\"text-align: right;\">\n",
       "      <th></th>\n",
       "      <th>cartoon</th>\n",
       "      <th>yt_channel_name</th>\n",
       "      <th>text</th>\n",
       "      <th>url</th>\n",
       "      <th>seconds</th>\n",
       "    </tr>\n",
       "  </thead>\n",
       "  <tbody>\n",
       "  </tbody>\n",
       "</table>\n",
       "</div>"
      ],
      "text/plain": [
       "Empty DataFrame\n",
       "Columns: [cartoon, yt_channel_name, text, url, seconds]\n",
       "Index: []"
      ]
     },
     "execution_count": 327,
     "metadata": {},
     "output_type": "execute_result"
    }
   ],
   "source": [
    "# Преобразуем списки слов в регулярные выражения (без границ слова)\n",
    "word_list_regex = '|'.join([word.lower() for word in word_list])  # Поиск подстрок\n",
    "stop_words_regex = '|'.join([stop_word.lower() for stop_word in stop_words])\n",
    "\n",
    "print(word_list_regex)\n",
    "print(stop_words_regex)\n",
    "\n",
    "# Применяем фильтрацию\n",
    "dtr[\n",
    "    (dtr.cartoon == 'none') \n",
    "  & (dtr.reel_name.fillna('').astype(str).str.lower().str.contains(word_list_regex))  # Любое из слов из word_list\n",
    "][['cartoon', 'yt_channel_name', 'text', 'url','seconds']][:20]"
   ]
  },
  {
   "cell_type": "code",
   "execution_count": 328,
   "id": "b31b7110",
   "metadata": {},
   "outputs": [
    {
     "data": {
      "text/plain": [
       "cartoon\n",
       "Мини-мишки    8\n",
       "Name: count, dtype: int64"
      ]
     },
     "metadata": {},
     "output_type": "display_data"
    },
    {
     "data": {
      "text/plain": [
       "(8,)"
      ]
     },
     "metadata": {},
     "output_type": "display_data"
    },
    {
     "name": "stdout",
     "output_type": "stream",
     "text": [
      "\n"
     ]
    },
    {
     "data": {
      "text/plain": [
       "(8, 16)"
      ]
     },
     "execution_count": 328,
     "metadata": {},
     "output_type": "execute_result"
    }
   ],
   "source": [
    "ddd = \\\n",
    "dtr[\n",
    "    (dtr.reel_name.fillna('').astype(str).str.lower().str.contains(pattern, na=False))\n",
    "][['cartoon','text']]\n",
    "\n",
    "display(ddd['cartoon'].value_counts())\n",
    "display(ddd['cartoon'].shape)\n",
    "print()\n",
    "dtr[dtr.cartoon == target].shape"
   ]
  },
  {
   "cell_type": "code",
   "execution_count": 329,
   "id": "03e0b87c-f6e5-498a-bc67-0c2546139572",
   "metadata": {},
   "outputs": [],
   "source": [
    "d['Мини-мишки'] = {\n",
    "\n",
    "'order':0,\n",
    "'meth': 'reel_name_only',\n",
    "'pattern': 'pattern',\n",
    "'stop_pattern': None,\n",
    "'method':\n",
    "  {\n",
    "    'reel_name': {'any_word_list' : ['МиниМишки'],\n",
    "                  'all_word_list':None,\n",
    "                  'stop_any' : None\n",
    "                 },\n",
    "    'text'     : None,\n",
    "    'yt_channel_name' : None,\n",
    "    'is_shorts' : None # value_for_filter (0/1, default=None)\n",
    "  },\n",
    "'comment': 'обработка по имени'\n",
    "}"
   ]
  },
  {
   "cell_type": "markdown",
   "id": "96a86874-7cb2-4980-99b4-468b5a4eb907",
   "metadata": {},
   "source": [
    "## Чебурашка"
   ]
  },
  {
   "cell_type": "code",
   "execution_count": 331,
   "id": "66a0eab8-9bdc-4e09-b959-f3bf18d5f58a",
   "metadata": {},
   "outputs": [
    {
     "data": {
      "text/plain": [
       "cartoon\n",
       "Мини-мишки            0.000096\n",
       "Чебурашка             0.000096\n",
       "Ну_погоди каникулы    0.000084\n",
       "Name: proportion, dtype: float64"
      ]
     },
     "metadata": {},
     "output_type": "display_data"
    },
    {
     "data": {
      "text/html": [
       "<div>\n",
       "<style scoped>\n",
       "    .dataframe tbody tr th:only-of-type {\n",
       "        vertical-align: middle;\n",
       "    }\n",
       "\n",
       "    .dataframe tbody tr th {\n",
       "        vertical-align: top;\n",
       "    }\n",
       "\n",
       "    .dataframe thead th {\n",
       "        text-align: right;\n",
       "    }\n",
       "</style>\n",
       "<table border=\"1\" class=\"dataframe\">\n",
       "  <thead>\n",
       "    <tr style=\"text-align: right;\">\n",
       "      <th></th>\n",
       "      <th>yt_channel_name</th>\n",
       "      <th>text</th>\n",
       "    </tr>\n",
       "  </thead>\n",
       "  <tbody>\n",
       "    <tr>\n",
       "      <th>8585</th>\n",
       "      <td>Союзмультфильм #Shorts</td>\n",
       "      <td>[Шапокляк и Лариска празднуют Новый год  Союзмультфильм shorts] Смотри Чебурашка Секрет праздника по ссылке: https://youtu.be/q7ilEvxh76s</td>\n",
       "    </tr>\n",
       "  </tbody>\n",
       "</table>\n",
       "</div>"
      ],
      "text/plain": [
       "             yt_channel_name  \\\n",
       "8585  Союзмультфильм #Shorts   \n",
       "\n",
       "                                                                                                                                           text  \n",
       "8585  [Шапокляк и Лариска празднуют Новый год  Союзмультфильм shorts] Смотри Чебурашка Секрет праздника по ссылке: https://youtu.be/q7ilEvxh76s  "
      ]
     },
     "execution_count": 331,
     "metadata": {},
     "output_type": "execute_result"
    }
   ],
   "source": [
    "display(dtr.cartoon.value_counts(normalize=True)[35:38])\n",
    "target = 'Чебурашка'\n",
    "dtr[dtr.cartoon == target][['yt_channel_name','text']][:1]"
   ]
  },
  {
   "cell_type": "code",
   "execution_count": 332,
   "id": "6a97eefc-9105-4f47-beef-7b4b4ab3d273",
   "metadata": {},
   "outputs": [
    {
     "name": "stdout",
     "output_type": "stream",
     "text": [
      "чебурашк|шапокляк|крокодил гена\n"
     ]
    },
    {
     "data": {
      "text/html": [
       "<div>\n",
       "<style scoped>\n",
       "    .dataframe tbody tr th:only-of-type {\n",
       "        vertical-align: middle;\n",
       "    }\n",
       "\n",
       "    .dataframe tbody tr th {\n",
       "        vertical-align: top;\n",
       "    }\n",
       "\n",
       "    .dataframe thead th {\n",
       "        text-align: right;\n",
       "    }\n",
       "</style>\n",
       "<table border=\"1\" class=\"dataframe\">\n",
       "  <thead>\n",
       "    <tr style=\"text-align: right;\">\n",
       "      <th></th>\n",
       "      <th>cartoon</th>\n",
       "      <th>yt_channel_name</th>\n",
       "      <th>reel_name</th>\n",
       "      <th>text</th>\n",
       "      <th>url</th>\n",
       "      <th>language</th>\n",
       "    </tr>\n",
       "  </thead>\n",
       "  <tbody>\n",
       "  </tbody>\n",
       "</table>\n",
       "</div>"
      ],
      "text/plain": [
       "Empty DataFrame\n",
       "Columns: [cartoon, yt_channel_name, reel_name, text, url, language]\n",
       "Index: []"
      ]
     },
     "execution_count": 332,
     "metadata": {},
     "output_type": "execute_result"
    }
   ],
   "source": [
    "word_list = ['Чебурашк','Шапокляк','Крокодил Гена']\n",
    "\n",
    "stop_words = []\n",
    "\n",
    "# Преобразуем слова в нижний регистр и экранируем\n",
    "pattern = '|'.join([word.lower() for word in word_list])\n",
    "\n",
    "print(pattern)\n",
    "\n",
    "dtr[(dtr.cartoon == target) \n",
    "  & ~(dtr.reel_name.fillna('').astype(str).str.lower().str.contains(pattern, na=False)) \n",
    "][['cartoon','yt_channel_name','reel_name','text','url','language']].head(10)"
   ]
  },
  {
   "cell_type": "code",
   "execution_count": 333,
   "id": "31b43012-d9ba-4fba-8ed4-8b18f048bbe6",
   "metadata": {},
   "outputs": [
    {
     "name": "stdout",
     "output_type": "stream",
     "text": [
      "чебурашк|шапокляк|крокодил гена\n",
      "\n"
     ]
    },
    {
     "data": {
      "text/html": [
       "<div>\n",
       "<style scoped>\n",
       "    .dataframe tbody tr th:only-of-type {\n",
       "        vertical-align: middle;\n",
       "    }\n",
       "\n",
       "    .dataframe tbody tr th {\n",
       "        vertical-align: top;\n",
       "    }\n",
       "\n",
       "    .dataframe thead th {\n",
       "        text-align: right;\n",
       "    }\n",
       "</style>\n",
       "<table border=\"1\" class=\"dataframe\">\n",
       "  <thead>\n",
       "    <tr style=\"text-align: right;\">\n",
       "      <th></th>\n",
       "      <th>cartoon</th>\n",
       "      <th>yt_channel_name</th>\n",
       "      <th>text</th>\n",
       "      <th>url</th>\n",
       "      <th>seconds</th>\n",
       "    </tr>\n",
       "  </thead>\n",
       "  <tbody>\n",
       "    <tr>\n",
       "      <th>73732</th>\n",
       "      <td>none</td>\n",
       "      <td>Союзмультфильм #Shorts</td>\n",
       "      <td>[Трогательные моменты дружбы между Чебурашкой и Геной  Союзмультфильм shorts] Все новые мультфильмы Союзмультфильм на канале: https://www.youtube.com/Soyuzmultfilm</td>\n",
       "      <td>https://www.youtube.com/watch?v=aF3LmkS33sk</td>\n",
       "      <td>55.0</td>\n",
       "    </tr>\n",
       "  </tbody>\n",
       "</table>\n",
       "</div>"
      ],
      "text/plain": [
       "      cartoon         yt_channel_name  \\\n",
       "73732    none  Союзмультфильм #Shorts   \n",
       "\n",
       "                                                                                                                                                                      text  \\\n",
       "73732  [Трогательные моменты дружбы между Чебурашкой и Геной  Союзмультфильм shorts] Все новые мультфильмы Союзмультфильм на канале: https://www.youtube.com/Soyuzmultfilm   \n",
       "\n",
       "                                               url  seconds  \n",
       "73732  https://www.youtube.com/watch?v=aF3LmkS33sk     55.0  "
      ]
     },
     "execution_count": 333,
     "metadata": {},
     "output_type": "execute_result"
    }
   ],
   "source": [
    "# Преобразуем списки слов в регулярные выражения (без границ слова)\n",
    "word_list_regex = '|'.join([word.lower() for word in word_list])  # Поиск подстрок\n",
    "stop_words_regex = '|'.join([stop_word.lower() for stop_word in stop_words])\n",
    "\n",
    "print(word_list_regex)\n",
    "print(stop_words_regex)\n",
    "\n",
    "# Применяем фильтрацию\n",
    "dtr[\n",
    "    (dtr.cartoon == 'none') \n",
    "  & (dtr.reel_name.fillna('').astype(str).str.lower().str.contains(word_list_regex))\n",
    "][['cartoon', 'yt_channel_name', 'text', 'url','seconds']][:20]"
   ]
  },
  {
   "cell_type": "code",
   "execution_count": 334,
   "id": "9ea2062c",
   "metadata": {},
   "outputs": [
    {
     "data": {
      "text/plain": [
       "cartoon\n",
       "Чебурашка    8\n",
       "none         1\n",
       "Name: count, dtype: int64"
      ]
     },
     "metadata": {},
     "output_type": "display_data"
    },
    {
     "data": {
      "text/plain": [
       "(9,)"
      ]
     },
     "metadata": {},
     "output_type": "display_data"
    },
    {
     "name": "stdout",
     "output_type": "stream",
     "text": [
      "\n"
     ]
    },
    {
     "data": {
      "text/plain": [
       "(8, 16)"
      ]
     },
     "execution_count": 334,
     "metadata": {},
     "output_type": "execute_result"
    }
   ],
   "source": [
    "ddd = \\\n",
    "dtr[\n",
    "    (dtr.reel_name.fillna('').astype(str).str.lower().str.contains(pattern, na=False))\n",
    "][['cartoon','text']]\n",
    "display(ddd['cartoon'].value_counts())\n",
    "display(ddd['cartoon'].shape)\n",
    "print()\n",
    "dtr[dtr.cartoon == target].shape"
   ]
  },
  {
   "cell_type": "code",
   "execution_count": 335,
   "id": "3607f2a1",
   "metadata": {},
   "outputs": [],
   "source": [
    "# ddd"
   ]
  },
  {
   "cell_type": "markdown",
   "id": "c35913d9",
   "metadata": {},
   "source": [
    "error\n",
    "\n",
    "```sql\n",
    "73732 \tnone \t[Трогательные моменты дружбы между Чебурашкой и Геной Союзмультфильм shorts] Все новые мультфильмы Союзмультфильм на канале: https://www.youtube.com/Soyuzmultfilm\n",
    "```"
   ]
  },
  {
   "cell_type": "code",
   "execution_count": 337,
   "id": "96f51f68-b955-47ed-acff-f1c73e317e4d",
   "metadata": {},
   "outputs": [],
   "source": [
    "d['Чебурашка'] = {\n",
    "\n",
    "'order':1,\n",
    "'meth': 'reel_name_only',\n",
    "'pattern': 'pattern',\n",
    "'stop_pattern': None,\n",
    "'method':\n",
    "  {\n",
    "    'reel_name': {'any_word_list' : ['Чебурашк','Шапокляк','Крокодил Гена'],\n",
    "                  'all_word_list':None,\n",
    "                  'stop_any' : None\n",
    "                 },\n",
    "    'text'     : None,\n",
    "    'yt_channel_name' : None,\n",
    "    'is_shorts' : None # value_for_filter (0/1, default=None)\n",
    "  },\n",
    "'comment': 'обработка по имени'\n",
    "}"
   ]
  },
  {
   "cell_type": "markdown",
   "id": "6ea919a5-3f52-4030-affb-e7f048f3db08",
   "metadata": {},
   "source": [
    "## Ну_погоди каникулы"
   ]
  },
  {
   "cell_type": "code",
   "execution_count": 339,
   "id": "97039878-7311-4816-ad8c-9fc57e19c7a6",
   "metadata": {},
   "outputs": [
    {
     "data": {
      "text/plain": [
       "cartoon\n",
       "Чебурашка             0.000096\n",
       "Ну_погоди каникулы    0.000084\n",
       "Барбоскины            0.000084\n",
       "Name: proportion, dtype: float64"
      ]
     },
     "metadata": {},
     "output_type": "display_data"
    }
   ],
   "source": [
    "display(dtr.cartoon.value_counts(normalize=True)[36:39])\n",
    "target = 'Ну_погоди каникулы'\n",
    "# dtr[dtr.cartoon == target][['yt_channel_name','text']][:]"
   ]
  },
  {
   "cell_type": "code",
   "execution_count": 340,
   "id": "73950e83-b72a-4a6c-bf3d-abe49452516c",
   "metadata": {},
   "outputs": [
    {
     "name": "stdout",
     "output_type": "stream",
     "text": [
      "погоди каникулы\n"
     ]
    },
    {
     "data": {
      "text/html": [
       "<div>\n",
       "<style scoped>\n",
       "    .dataframe tbody tr th:only-of-type {\n",
       "        vertical-align: middle;\n",
       "    }\n",
       "\n",
       "    .dataframe tbody tr th {\n",
       "        vertical-align: top;\n",
       "    }\n",
       "\n",
       "    .dataframe thead th {\n",
       "        text-align: right;\n",
       "    }\n",
       "</style>\n",
       "<table border=\"1\" class=\"dataframe\">\n",
       "  <thead>\n",
       "    <tr style=\"text-align: right;\">\n",
       "      <th></th>\n",
       "      <th>cartoon</th>\n",
       "      <th>yt_channel_name</th>\n",
       "      <th>reel_name</th>\n",
       "      <th>text</th>\n",
       "      <th>url</th>\n",
       "      <th>language</th>\n",
       "    </tr>\n",
       "  </thead>\n",
       "  <tbody>\n",
       "  </tbody>\n",
       "</table>\n",
       "</div>"
      ],
      "text/plain": [
       "Empty DataFrame\n",
       "Columns: [cartoon, yt_channel_name, reel_name, text, url, language]\n",
       "Index: []"
      ]
     },
     "execution_count": 340,
     "metadata": {},
     "output_type": "execute_result"
    }
   ],
   "source": [
    "word_list = ['погоди Каникулы']\n",
    "\n",
    "stop_words = []\n",
    "\n",
    "# Преобразуем слова в нижний регистр и экранируем\n",
    "pattern = '|'.join([word.lower() for word in word_list])\n",
    "\n",
    "print(pattern)\n",
    "\n",
    "dtr[(dtr.cartoon == target) \n",
    "  & ~(dtr.text.fillna('').astype(str).str.lower().str.contains(pattern, na=False)) \n",
    "][['cartoon','yt_channel_name','reel_name','text','url','language']].head(10)"
   ]
  },
  {
   "cell_type": "code",
   "execution_count": 341,
   "id": "5599af66-af6a-4489-a27b-5cb6905a648c",
   "metadata": {},
   "outputs": [
    {
     "name": "stdout",
     "output_type": "stream",
     "text": [
      "погоди каникулы\n",
      "\n"
     ]
    },
    {
     "data": {
      "text/html": [
       "<div>\n",
       "<style scoped>\n",
       "    .dataframe tbody tr th:only-of-type {\n",
       "        vertical-align: middle;\n",
       "    }\n",
       "\n",
       "    .dataframe tbody tr th {\n",
       "        vertical-align: top;\n",
       "    }\n",
       "\n",
       "    .dataframe thead th {\n",
       "        text-align: right;\n",
       "    }\n",
       "</style>\n",
       "<table border=\"1\" class=\"dataframe\">\n",
       "  <thead>\n",
       "    <tr style=\"text-align: right;\">\n",
       "      <th></th>\n",
       "      <th>cartoon</th>\n",
       "      <th>yt_channel_name</th>\n",
       "      <th>text</th>\n",
       "      <th>url</th>\n",
       "      <th>seconds</th>\n",
       "    </tr>\n",
       "  </thead>\n",
       "  <tbody>\n",
       "  </tbody>\n",
       "</table>\n",
       "</div>"
      ],
      "text/plain": [
       "Empty DataFrame\n",
       "Columns: [cartoon, yt_channel_name, text, url, seconds]\n",
       "Index: []"
      ]
     },
     "execution_count": 341,
     "metadata": {},
     "output_type": "execute_result"
    }
   ],
   "source": [
    "# Преобразуем списки слов в регулярные выражения (без границ слова)\n",
    "word_list_regex = '|'.join([word.lower() for word in word_list])  # Поиск подстрок\n",
    "stop_words_regex = '|'.join([stop_word.lower() for stop_word in stop_words])\n",
    "\n",
    "print(word_list_regex)\n",
    "print(stop_words_regex)\n",
    "\n",
    "# Применяем фильтрацию\n",
    "dtr[\n",
    "    (dtr.cartoon == 'none') \n",
    "  & (dtr.reel_name.fillna('').astype(str).str.lower().str.contains(word_list_regex))  # Любое из слов из word_list\n",
    "][['cartoon', 'yt_channel_name', 'text', 'url','seconds']][:20]"
   ]
  },
  {
   "cell_type": "code",
   "execution_count": 342,
   "id": "f43e4222",
   "metadata": {},
   "outputs": [
    {
     "data": {
      "text/plain": [
       "cartoon\n",
       "Ну_погоди каникулы          7\n",
       "Приключения Пети и Волка    3\n",
       "Name: count, dtype: int64"
      ]
     },
     "metadata": {},
     "output_type": "display_data"
    },
    {
     "data": {
      "text/plain": [
       "(10,)"
      ]
     },
     "metadata": {},
     "output_type": "display_data"
    },
    {
     "name": "stdout",
     "output_type": "stream",
     "text": [
      "\n"
     ]
    },
    {
     "data": {
      "text/plain": [
       "(7, 16)"
      ]
     },
     "execution_count": 342,
     "metadata": {},
     "output_type": "execute_result"
    }
   ],
   "source": [
    "ddd = \\\n",
    "dtr[\n",
    "#     (dtr.cartoon == 'none') & \n",
    "    (\n",
    "        (dtr.text.fillna('').astype(str).str.lower().str.contains(pattern, na=False))\n",
    "      & (dtr.reel_name.fillna('').astype(str).str.lower().str.contains('союзмультфильм', na=False))\n",
    "      & (dtr.text.fillna('').astype(str).str.len() < max_text_length)\n",
    "    )\n",
    "#      & ~(dtr.text.fillna('').astype(str).str.lower().str.contains(stop_words_regex, na=False))\n",
    "   ][['cartoon','text']]\n",
    "display(ddd['cartoon'].value_counts())\n",
    "display(ddd['cartoon'].shape)\n",
    "print()\n",
    "dtr[dtr.cartoon == target].shape"
   ]
  },
  {
   "cell_type": "code",
   "execution_count": 343,
   "id": "cdb52a7a",
   "metadata": {},
   "outputs": [
    {
     "data": {
      "text/plain": [
       "dict_keys(['Маша и медведь', 'pattern', 'reel_name_only', 'reel_name_or_channel_name', 'text_only', 'stop_pattern', 'reel_or_channel_and_not_text', 'stop_words_regex', 'reel_and_not_text', 'text_and_not_reel_and_lentext_less', 'reel_and_text', 'pattern_capital', 'reel_and_reel'])"
      ]
     },
     "execution_count": 343,
     "metadata": {},
     "output_type": "execute_result"
    }
   ],
   "source": [
    "meth.keys()"
   ]
  },
  {
   "cell_type": "markdown",
   "id": "41208eae",
   "metadata": {},
   "source": [
    "Ошибка разметки"
   ]
  },
  {
   "cell_type": "code",
   "execution_count": 345,
   "id": "c1f57456-2aeb-44e7-8e90-e452b5e74b42",
   "metadata": {},
   "outputs": [],
   "source": [
    "meth['text_and_reel_and_lentext_less']=\\\n",
    "\"\"\"\n",
    "(dtr.text.fillna('').astype(str).str.lower().str.contains(pattern, na=False)) \n",
    "& (dtr.reel_name.fillna('').astype(str).str.lower().str.contains('союзмультфильм', na=False)) \n",
    "& (dtr.text.fillna('').astype(str).str.len() < 270)\n",
    "\"\"\""
   ]
  },
  {
   "cell_type": "code",
   "execution_count": 346,
   "id": "fa00a16a-3594-405b-891f-5c307740b6ea",
   "metadata": {},
   "outputs": [],
   "source": [
    "d['Ну_погоди каникулы'] = {\n",
    "\n",
    "'order':2,\n",
    "'meth': 'text_and_reel_and_lentext_less',\n",
    "'pattern': 'pattern',\n",
    "'stop_pattern': None,\n",
    "'method':\n",
    "  {\n",
    "    'reel_name': {'any_word_list' : None,\n",
    "                  'all_word_list':['союзмультфильм'],\n",
    "                  'stop_any' : None\n",
    "                 },\n",
    "    'text'     : {'any_word_list':['погоди Каникулы'], 'all_word_list':None, 'stop_any' : None},\n",
    "    'yt_channel_name' : None,\n",
    "    'is_shorts' : None # value_for_filter (0/1, default=None)\n",
    "  },\n",
    "'comment': 'обработка по имени'\n",
    "}"
   ]
  },
  {
   "cell_type": "markdown",
   "id": "48af055f-f0a9-4628-8e5b-c83727b43e3b",
   "metadata": {},
   "source": [
    "## Барбоскины"
   ]
  },
  {
   "cell_type": "code",
   "execution_count": 348,
   "id": "e5a260c5-67ad-448a-8426-b077a620696d",
   "metadata": {},
   "outputs": [
    {
     "data": {
      "text/plain": [
       "cartoon\n",
       "Ну_погоди каникулы    0.000084\n",
       "Барбоскины            0.000084\n",
       "Котик Мормотик        0.000072\n",
       "Name: proportion, dtype: float64"
      ]
     },
     "metadata": {},
     "output_type": "display_data"
    },
    {
     "data": {
      "text/html": [
       "<div>\n",
       "<style scoped>\n",
       "    .dataframe tbody tr th:only-of-type {\n",
       "        vertical-align: middle;\n",
       "    }\n",
       "\n",
       "    .dataframe tbody tr th {\n",
       "        vertical-align: top;\n",
       "    }\n",
       "\n",
       "    .dataframe thead th {\n",
       "        text-align: right;\n",
       "    }\n",
       "</style>\n",
       "<table border=\"1\" class=\"dataframe\">\n",
       "  <thead>\n",
       "    <tr style=\"text-align: right;\">\n",
       "      <th></th>\n",
       "      <th>yt_channel_name</th>\n",
       "      <th>text</th>\n",
       "    </tr>\n",
       "  </thead>\n",
       "  <tbody>\n",
       "    <tr>\n",
       "      <th>7704</th>\n",
       "      <td>Аид VyacheslavOO</td>\n",
       "      <td>[ПРЯТКИ В ДОМЕ БАРБОСКИНА] Играем в прятки на карте БарбоскиныРав  https://www.youtube.com/user/ralexicСмейл  https://www.youtube.com/user/SlendyPlayЯл  https://www.youtube.com/channel/UCTcnAmNuA2WTySV9VCQfWiw</td>\n",
       "    </tr>\n",
       "  </tbody>\n",
       "</table>\n",
       "</div>"
      ],
      "text/plain": [
       "       yt_channel_name  \\\n",
       "7704  Аид VyacheslavOO   \n",
       "\n",
       "                                                                                                                                                                                                                   text  \n",
       "7704  [ПРЯТКИ В ДОМЕ БАРБОСКИНА] Играем в прятки на карте БарбоскиныРав  https://www.youtube.com/user/ralexicСмейл  https://www.youtube.com/user/SlendyPlayЯл  https://www.youtube.com/channel/UCTcnAmNuA2WTySV9VCQfWiw  "
      ]
     },
     "execution_count": 348,
     "metadata": {},
     "output_type": "execute_result"
    }
   ],
   "source": [
    "display(dtr.cartoon.value_counts(normalize=True)[37:40])\n",
    "target = 'Барбоскины'\n",
    "dtr[dtr.cartoon == target][['yt_channel_name','text']][:1]"
   ]
  },
  {
   "cell_type": "code",
   "execution_count": 349,
   "id": "d306f443-f955-47a1-b24b-c09e53001115",
   "metadata": {},
   "outputs": [
    {
     "name": "stdout",
     "output_type": "stream",
     "text": [
      "барбоскин\n"
     ]
    },
    {
     "data": {
      "text/html": [
       "<div>\n",
       "<style scoped>\n",
       "    .dataframe tbody tr th:only-of-type {\n",
       "        vertical-align: middle;\n",
       "    }\n",
       "\n",
       "    .dataframe tbody tr th {\n",
       "        vertical-align: top;\n",
       "    }\n",
       "\n",
       "    .dataframe thead th {\n",
       "        text-align: right;\n",
       "    }\n",
       "</style>\n",
       "<table border=\"1\" class=\"dataframe\">\n",
       "  <thead>\n",
       "    <tr style=\"text-align: right;\">\n",
       "      <th></th>\n",
       "      <th>cartoon</th>\n",
       "      <th>yt_channel_name</th>\n",
       "      <th>reel_name</th>\n",
       "      <th>text</th>\n",
       "      <th>url</th>\n",
       "      <th>language</th>\n",
       "    </tr>\n",
       "  </thead>\n",
       "  <tbody>\n",
       "  </tbody>\n",
       "</table>\n",
       "</div>"
      ],
      "text/plain": [
       "Empty DataFrame\n",
       "Columns: [cartoon, yt_channel_name, reel_name, text, url, language]\n",
       "Index: []"
      ]
     },
     "execution_count": 349,
     "metadata": {},
     "output_type": "execute_result"
    }
   ],
   "source": [
    "word_list = ['барбоскин']\n",
    "\n",
    "stop_words = []\n",
    "\n",
    "# Преобразуем слова в нижний регистр и экранируем\n",
    "pattern = '|'.join([word.lower() for word in word_list])\n",
    "\n",
    "print(pattern)\n",
    "\n",
    "dtr[(dtr.cartoon == target) \n",
    "  & ~(dtr.text.fillna('').astype(str).str.lower().str.contains(pattern, na=False)) \n",
    "][['cartoon','yt_channel_name','reel_name','text','url','language']].head(10)"
   ]
  },
  {
   "cell_type": "code",
   "execution_count": 350,
   "id": "b6c726a1-27e1-48bb-ad56-09136702a891",
   "metadata": {},
   "outputs": [
    {
     "name": "stdout",
     "output_type": "stream",
     "text": [
      "барбоскин\n",
      "\n"
     ]
    },
    {
     "data": {
      "text/html": [
       "<div>\n",
       "<style scoped>\n",
       "    .dataframe tbody tr th:only-of-type {\n",
       "        vertical-align: middle;\n",
       "    }\n",
       "\n",
       "    .dataframe tbody tr th {\n",
       "        vertical-align: top;\n",
       "    }\n",
       "\n",
       "    .dataframe thead th {\n",
       "        text-align: right;\n",
       "    }\n",
       "</style>\n",
       "<table border=\"1\" class=\"dataframe\">\n",
       "  <thead>\n",
       "    <tr style=\"text-align: right;\">\n",
       "      <th></th>\n",
       "      <th>cartoon</th>\n",
       "      <th>yt_channel_name</th>\n",
       "      <th>text</th>\n",
       "      <th>url</th>\n",
       "      <th>seconds</th>\n",
       "    </tr>\n",
       "  </thead>\n",
       "  <tbody>\n",
       "  </tbody>\n",
       "</table>\n",
       "</div>"
      ],
      "text/plain": [
       "Empty DataFrame\n",
       "Columns: [cartoon, yt_channel_name, text, url, seconds]\n",
       "Index: []"
      ]
     },
     "execution_count": 350,
     "metadata": {},
     "output_type": "execute_result"
    }
   ],
   "source": [
    "# Преобразуем списки слов в регулярные выражения (без границ слова)\n",
    "word_list_regex = '|'.join([word.lower() for word in word_list])  # Поиск подстрок\n",
    "stop_words_regex = '|'.join([stop_word.lower() for stop_word in stop_words])\n",
    "\n",
    "print(word_list_regex)\n",
    "print(stop_words_regex)\n",
    "\n",
    "# Применяем фильтрацию\n",
    "dtr[\n",
    "    (dtr.cartoon == 'none') \n",
    "  & (dtr.reel_name.fillna('').astype(str).str.lower().str.contains(word_list_regex))  # Любое из слов из word_list\n",
    "][['cartoon', 'yt_channel_name', 'text', 'url','seconds']][:20]"
   ]
  },
  {
   "cell_type": "code",
   "execution_count": 351,
   "id": "305cc651",
   "metadata": {},
   "outputs": [
    {
     "data": {
      "text/plain": [
       "cartoon\n",
       "Барбоскины    6\n",
       "Name: count, dtype: int64"
      ]
     },
     "metadata": {},
     "output_type": "display_data"
    },
    {
     "data": {
      "text/plain": [
       "(6,)"
      ]
     },
     "metadata": {},
     "output_type": "display_data"
    },
    {
     "name": "stdout",
     "output_type": "stream",
     "text": [
      "\n"
     ]
    },
    {
     "data": {
      "text/plain": [
       "(7, 16)"
      ]
     },
     "execution_count": 351,
     "metadata": {},
     "output_type": "execute_result"
    }
   ],
   "source": [
    "ddd = \\\n",
    "dtr[\n",
    "    (dtr.reel_name.fillna('').astype(str).str.lower().str.contains(pattern, na=False))\n",
    "][['cartoon','text']]\n",
    "\n",
    "display(ddd['cartoon'].value_counts())\n",
    "display(ddd['cartoon'].shape)\n",
    "print()\n",
    "dtr[dtr.cartoon == target].shape"
   ]
  },
  {
   "cell_type": "code",
   "execution_count": 352,
   "id": "de075da8-19fc-4c2f-bba4-5df488c1b1e7",
   "metadata": {},
   "outputs": [],
   "source": [
    "d['Барбоскины'] = {\n",
    "\n",
    "'order':0,\n",
    "'meth': 'reel_name_only',\n",
    "'pattern': 'pattern',\n",
    "'stop_pattern': None,\n",
    "'method':\n",
    "  {\n",
    "    'reel_name': {'any_word_list' : ['барбоскин'],\n",
    "                  'all_word_list':None,\n",
    "                  'stop_any' : None\n",
    "                 },\n",
    "    'text'     : None,\n",
    "    'yt_channel_name' : None,\n",
    "    'is_shorts' : None # value_for_filter (0/1, default=None)\n",
    "  },\n",
    "'comment': 'обработка по имени'\n",
    "}"
   ]
  },
  {
   "cell_type": "markdown",
   "id": "c90899d4-e284-46c3-bbbc-d8efddcf3071",
   "metadata": {},
   "source": [
    "## Котик Мормотик"
   ]
  },
  {
   "cell_type": "code",
   "execution_count": 354,
   "id": "9f5b8edb-e1a3-4693-9e4a-b151d944eaa3",
   "metadata": {},
   "outputs": [
    {
     "data": {
      "text/plain": [
       "cartoon\n",
       "Барбоскины              0.000084\n",
       "Котик Мормотик          0.000072\n",
       "Бременские музыканты    0.000072\n",
       "Name: proportion, dtype: float64"
      ]
     },
     "metadata": {},
     "output_type": "display_data"
    }
   ],
   "source": [
    "display(dtr.cartoon.value_counts(normalize=True)[38:41])\n",
    "target = 'Котик Мормотик'\n",
    "# dtr[dtr.cartoon == target][['yt_channel_name','text']][:1]"
   ]
  },
  {
   "cell_type": "code",
   "execution_count": 355,
   "id": "4a5782be-f2e2-4e3a-8194-f0ddab50c47a",
   "metadata": {},
   "outputs": [
    {
     "name": "stdout",
     "output_type": "stream",
     "text": [
      "мормотик\n"
     ]
    },
    {
     "data": {
      "text/html": [
       "<div>\n",
       "<style scoped>\n",
       "    .dataframe tbody tr th:only-of-type {\n",
       "        vertical-align: middle;\n",
       "    }\n",
       "\n",
       "    .dataframe tbody tr th {\n",
       "        vertical-align: top;\n",
       "    }\n",
       "\n",
       "    .dataframe thead th {\n",
       "        text-align: right;\n",
       "    }\n",
       "</style>\n",
       "<table border=\"1\" class=\"dataframe\">\n",
       "  <thead>\n",
       "    <tr style=\"text-align: right;\">\n",
       "      <th></th>\n",
       "      <th>cartoon</th>\n",
       "      <th>yt_channel_name</th>\n",
       "      <th>reel_name</th>\n",
       "      <th>text</th>\n",
       "      <th>url</th>\n",
       "      <th>language</th>\n",
       "    </tr>\n",
       "  </thead>\n",
       "  <tbody>\n",
       "  </tbody>\n",
       "</table>\n",
       "</div>"
      ],
      "text/plain": [
       "Empty DataFrame\n",
       "Columns: [cartoon, yt_channel_name, reel_name, text, url, language]\n",
       "Index: []"
      ]
     },
     "execution_count": 355,
     "metadata": {},
     "output_type": "execute_result"
    }
   ],
   "source": [
    "word_list = ['мормотик']\n",
    "\n",
    "stop_words = []\n",
    "\n",
    "# Преобразуем слова в нижний регистр и экранируем\n",
    "pattern = '|'.join([word.lower() for word in word_list])\n",
    "\n",
    "print(pattern)\n",
    "\n",
    "dtr[(dtr.cartoon == target) \n",
    "  & ~(dtr.text.fillna('').astype(str).str.lower().str.contains(pattern, na=False)) \n",
    "][['cartoon','yt_channel_name','reel_name','text','url','language']].head(10)"
   ]
  },
  {
   "cell_type": "code",
   "execution_count": 356,
   "id": "e602ca37-f591-4574-99f4-308e22e81164",
   "metadata": {},
   "outputs": [
    {
     "name": "stdout",
     "output_type": "stream",
     "text": [
      "мормотик\n",
      "\n"
     ]
    },
    {
     "data": {
      "text/html": [
       "<div>\n",
       "<style scoped>\n",
       "    .dataframe tbody tr th:only-of-type {\n",
       "        vertical-align: middle;\n",
       "    }\n",
       "\n",
       "    .dataframe tbody tr th {\n",
       "        vertical-align: top;\n",
       "    }\n",
       "\n",
       "    .dataframe thead th {\n",
       "        text-align: right;\n",
       "    }\n",
       "</style>\n",
       "<table border=\"1\" class=\"dataframe\">\n",
       "  <thead>\n",
       "    <tr style=\"text-align: right;\">\n",
       "      <th></th>\n",
       "      <th>cartoon</th>\n",
       "      <th>yt_channel_name</th>\n",
       "      <th>text</th>\n",
       "      <th>url</th>\n",
       "      <th>seconds</th>\n",
       "    </tr>\n",
       "  </thead>\n",
       "  <tbody>\n",
       "  </tbody>\n",
       "</table>\n",
       "</div>"
      ],
      "text/plain": [
       "Empty DataFrame\n",
       "Columns: [cartoon, yt_channel_name, text, url, seconds]\n",
       "Index: []"
      ]
     },
     "execution_count": 356,
     "metadata": {},
     "output_type": "execute_result"
    }
   ],
   "source": [
    "# Преобразуем списки слов в регулярные выражения (без границ слова)\n",
    "word_list_regex = '|'.join([word.lower() for word in word_list])  # Поиск подстрок\n",
    "stop_words_regex = '|'.join([stop_word.lower() for stop_word in stop_words])\n",
    "\n",
    "print(word_list_regex)\n",
    "print(stop_words_regex)\n",
    "\n",
    "# Применяем фильтрацию\n",
    "dtr[\n",
    "    (dtr.cartoon == 'none') \n",
    "  & (dtr.reel_name.fillna('').astype(str).str.lower().str.contains(word_list_regex))  # Любое из слов из word_list\n",
    "][['cartoon', 'yt_channel_name', 'text', 'url','seconds']][:20]"
   ]
  },
  {
   "cell_type": "code",
   "execution_count": 357,
   "id": "e36ca801",
   "metadata": {},
   "outputs": [
    {
     "data": {
      "text/plain": [
       "cartoon\n",
       "Котик Мормотик    6\n",
       "Name: count, dtype: int64"
      ]
     },
     "metadata": {},
     "output_type": "display_data"
    },
    {
     "data": {
      "text/plain": [
       "(6,)"
      ]
     },
     "metadata": {},
     "output_type": "display_data"
    },
    {
     "name": "stdout",
     "output_type": "stream",
     "text": [
      "\n"
     ]
    },
    {
     "data": {
      "text/plain": [
       "(6, 16)"
      ]
     },
     "execution_count": 357,
     "metadata": {},
     "output_type": "execute_result"
    }
   ],
   "source": [
    "ddd = \\\n",
    "dtr[\n",
    "    (dtr.reel_name.fillna('').astype(str).str.lower().str.contains(pattern, na=False))\n",
    "][['cartoon','text']]\n",
    "display(ddd['cartoon'].value_counts())\n",
    "display(ddd['cartoon'].shape)\n",
    "print()\n",
    "dtr[dtr.cartoon == target].shape"
   ]
  },
  {
   "cell_type": "code",
   "execution_count": 358,
   "id": "2fcbd912-35b0-47f7-8050-caef2b311843",
   "metadata": {},
   "outputs": [],
   "source": [
    "d['Котик Мормотик'] = {\n",
    "\n",
    "'order':0,\n",
    "'meth': 'reel_name_only',\n",
    "'pattern': 'pattern',\n",
    "'stop_pattern': None,\n",
    "'method':\n",
    "  {\n",
    "    'reel_name': {'any_word_list' : ['мормотик'],\n",
    "                  'all_word_list':None,\n",
    "                  'stop_any' : None\n",
    "                 },\n",
    "    'text'     : None,\n",
    "    'yt_channel_name' : None,\n",
    "    'is_shorts' : None # value_for_filter (0/1, default=None)\n",
    "  },\n",
    "'comment': 'обработка по имени'\n",
    "}"
   ]
  },
  {
   "cell_type": "markdown",
   "id": "409ecf41-da34-460f-a3df-b26f93427144",
   "metadata": {},
   "source": [
    "## Бременские музыканты"
   ]
  },
  {
   "cell_type": "code",
   "execution_count": 360,
   "id": "bce4544a-89c4-429d-938d-b19a45c3f1e3",
   "metadata": {},
   "outputs": [
    {
     "data": {
      "text/plain": [
       "cartoon\n",
       "Котик Мормотик           0.000072\n",
       "Бременские музыканты     0.000072\n",
       "Паровозики Чаттингтон    0.000072\n",
       "Name: proportion, dtype: float64"
      ]
     },
     "metadata": {},
     "output_type": "display_data"
    }
   ],
   "source": [
    "display(dtr.cartoon.value_counts(normalize=True)[39:42])\n",
    "target = 'Бременские музыканты'\n",
    "# dtr[dtr.cartoon == target][['yt_channel_name','text']][:1]"
   ]
  },
  {
   "cell_type": "code",
   "execution_count": 361,
   "id": "45415bef-fde1-4989-ab42-cc9ff3a4aa41",
   "metadata": {},
   "outputs": [
    {
     "name": "stdout",
     "output_type": "stream",
     "text": [
      "бременских музыкантов|бременские музыканты\n"
     ]
    },
    {
     "data": {
      "text/html": [
       "<div>\n",
       "<style scoped>\n",
       "    .dataframe tbody tr th:only-of-type {\n",
       "        vertical-align: middle;\n",
       "    }\n",
       "\n",
       "    .dataframe tbody tr th {\n",
       "        vertical-align: top;\n",
       "    }\n",
       "\n",
       "    .dataframe thead th {\n",
       "        text-align: right;\n",
       "    }\n",
       "</style>\n",
       "<table border=\"1\" class=\"dataframe\">\n",
       "  <thead>\n",
       "    <tr style=\"text-align: right;\">\n",
       "      <th></th>\n",
       "      <th>cartoon</th>\n",
       "      <th>yt_channel_name</th>\n",
       "      <th>reel_name</th>\n",
       "      <th>text</th>\n",
       "      <th>url</th>\n",
       "      <th>language</th>\n",
       "    </tr>\n",
       "  </thead>\n",
       "  <tbody>\n",
       "  </tbody>\n",
       "</table>\n",
       "</div>"
      ],
      "text/plain": [
       "Empty DataFrame\n",
       "Columns: [cartoon, yt_channel_name, reel_name, text, url, language]\n",
       "Index: []"
      ]
     },
     "execution_count": 361,
     "metadata": {},
     "output_type": "execute_result"
    }
   ],
   "source": [
    "word_list = ['бременских музыкантов','Бременские музыканты']\n",
    "\n",
    "stop_words = []\n",
    "\n",
    "# Преобразуем слова в нижний регистр и экранируем\n",
    "pattern = '|'.join([word.lower() for word in word_list])\n",
    "\n",
    "print(pattern)\n",
    "\n",
    "dtr[(dtr.cartoon == target) \n",
    "  & ~(dtr.text.fillna('').astype(str).str.lower().str.contains(pattern, na=False)) \n",
    "][['cartoon','yt_channel_name','reel_name','text','url','language']].head(10)"
   ]
  },
  {
   "cell_type": "code",
   "execution_count": 362,
   "id": "c38dad2f-8bdd-48d3-8a47-8620c88a8a37",
   "metadata": {},
   "outputs": [
    {
     "name": "stdout",
     "output_type": "stream",
     "text": [
      "бременских музыкантов|бременские музыканты\n",
      "\n"
     ]
    },
    {
     "data": {
      "text/html": [
       "<div>\n",
       "<style scoped>\n",
       "    .dataframe tbody tr th:only-of-type {\n",
       "        vertical-align: middle;\n",
       "    }\n",
       "\n",
       "    .dataframe tbody tr th {\n",
       "        vertical-align: top;\n",
       "    }\n",
       "\n",
       "    .dataframe thead th {\n",
       "        text-align: right;\n",
       "    }\n",
       "</style>\n",
       "<table border=\"1\" class=\"dataframe\">\n",
       "  <thead>\n",
       "    <tr style=\"text-align: right;\">\n",
       "      <th></th>\n",
       "      <th>cartoon</th>\n",
       "      <th>yt_channel_name</th>\n",
       "      <th>text</th>\n",
       "      <th>url</th>\n",
       "      <th>seconds</th>\n",
       "    </tr>\n",
       "  </thead>\n",
       "  <tbody>\n",
       "  </tbody>\n",
       "</table>\n",
       "</div>"
      ],
      "text/plain": [
       "Empty DataFrame\n",
       "Columns: [cartoon, yt_channel_name, text, url, seconds]\n",
       "Index: []"
      ]
     },
     "execution_count": 362,
     "metadata": {},
     "output_type": "execute_result"
    }
   ],
   "source": [
    "# Преобразуем списки слов в регулярные выражения (без границ слова)\n",
    "word_list_regex = '|'.join([word.lower() for word in word_list])  # Поиск подстрок\n",
    "stop_words_regex = '|'.join([stop_word.lower() for stop_word in stop_words])\n",
    "\n",
    "print(word_list_regex)\n",
    "print(stop_words_regex)\n",
    "\n",
    "# Применяем фильтрацию\n",
    "dtr[\n",
    "    (dtr.cartoon == 'none') \n",
    "  & (dtr.reel_name.fillna('').astype(str).str.lower().str.contains(word_list_regex))  # Любое из слов из word_list\n",
    "][['cartoon', 'yt_channel_name', 'text', 'url','seconds']][:20]"
   ]
  },
  {
   "cell_type": "code",
   "execution_count": 363,
   "id": "5a2d5238",
   "metadata": {},
   "outputs": [
    {
     "data": {
      "text/plain": [
       "cartoon\n",
       "Бременские музыканты    6\n",
       "Name: count, dtype: int64"
      ]
     },
     "metadata": {},
     "output_type": "display_data"
    },
    {
     "data": {
      "text/plain": [
       "(6,)"
      ]
     },
     "metadata": {},
     "output_type": "display_data"
    },
    {
     "name": "stdout",
     "output_type": "stream",
     "text": [
      "\n"
     ]
    },
    {
     "data": {
      "text/plain": [
       "(6, 16)"
      ]
     },
     "execution_count": 363,
     "metadata": {},
     "output_type": "execute_result"
    }
   ],
   "source": [
    "ddd = \\\n",
    "dtr[\n",
    "    (dtr.reel_name.fillna('').astype(str).str.lower().str.contains(pattern, na=False))\n",
    "][['cartoon','text']]\n",
    "\n",
    "display(ddd['cartoon'].value_counts())\n",
    "display(ddd['cartoon'].shape)\n",
    "print()\n",
    "dtr[dtr.cartoon == target].shape"
   ]
  },
  {
   "cell_type": "code",
   "execution_count": 364,
   "id": "1352788c-c34a-4c2d-ab82-e98d7b935a12",
   "metadata": {},
   "outputs": [],
   "source": [
    "d['Бременские музыканты'] = {\n",
    "\n",
    "'order':0,\n",
    "'meth': 'reel_name_only',\n",
    "'pattern': 'pattern',\n",
    "'stop_pattern': None,\n",
    "'method':\n",
    "  {\n",
    "    'reel_name': {'any_word_list' : ['бременских музыкантов','Бременские музыканты'],\n",
    "                  'all_word_list':None,\n",
    "                  'stop_any' : None\n",
    "                 },\n",
    "    'text'     : None,\n",
    "    'yt_channel_name' : None,\n",
    "    'is_shorts' : None # value_for_filter (0/1, default=None)\n",
    "  },\n",
    "'comment': 'обработка по имени'\n",
    "}"
   ]
  },
  {
   "cell_type": "markdown",
   "id": "05a87492",
   "metadata": {},
   "source": [
    "## Паровозики Чаттингтон"
   ]
  },
  {
   "cell_type": "code",
   "execution_count": 366,
   "id": "be65846f-cb53-4263-ad36-5e5c30702f45",
   "metadata": {},
   "outputs": [
    {
     "data": {
      "text/plain": [
       "cartoon\n",
       "Бременские музыканты     0.000072\n",
       "Паровозики Чаттингтон    0.000072\n",
       "Цветняшки                0.000072\n",
       "Name: proportion, dtype: float64"
      ]
     },
     "metadata": {},
     "output_type": "display_data"
    },
    {
     "data": {
      "text/html": [
       "<div>\n",
       "<style scoped>\n",
       "    .dataframe tbody tr th:only-of-type {\n",
       "        vertical-align: middle;\n",
       "    }\n",
       "\n",
       "    .dataframe tbody tr th {\n",
       "        vertical-align: top;\n",
       "    }\n",
       "\n",
       "    .dataframe thead th {\n",
       "        text-align: right;\n",
       "    }\n",
       "</style>\n",
       "<table border=\"1\" class=\"dataframe\">\n",
       "  <thead>\n",
       "    <tr style=\"text-align: right;\">\n",
       "      <th></th>\n",
       "      <th>yt_channel_name</th>\n",
       "      <th>text</th>\n",
       "    </tr>\n",
       "  </thead>\n",
       "  <tbody>\n",
       "    <tr>\n",
       "      <th>20099</th>\n",
       "      <td>Kids Roma Show</td>\n",
       "      <td>[Новый Супер ТРЕК ПАРOВОЗИКИ ИЗ ЧАГГИНГТОНА на Кидс Рома Шоу] Папа предложил Роме открыть новые Игрушки Чаггингтон. Это Станция техосмотра. Роме очень нравится Мультик \"Паровозики из Чаггингтон\" и Игрушки из этого мультика. Рома легко сам собрал железную дорогу для Паровозиков. Все наборы серии Чаггингтон совместимы друг с другом. romaanddiana roma kidsromashow kidsvideo Facebook https://www.facebook.com/KidsRomaShow</td>\n",
       "    </tr>\n",
       "  </tbody>\n",
       "</table>\n",
       "</div>"
      ],
      "text/plain": [
       "      yt_channel_name  \\\n",
       "20099  Kids Roma Show   \n",
       "\n",
       "                                                                                                                                                                                                                                                                                                                                                                                                                                       text  \n",
       "20099  [Новый Супер ТРЕК ПАРOВОЗИКИ ИЗ ЧАГГИНГТОНА на Кидс Рома Шоу] Папа предложил Роме открыть новые Игрушки Чаггингтон. Это Станция техосмотра. Роме очень нравится Мультик \"Паровозики из Чаггингтон\" и Игрушки из этого мультика. Рома легко сам собрал железную дорогу для Паровозиков. Все наборы серии Чаггингтон совместимы друг с другом. romaanddiana roma kidsromashow kidsvideo Facebook https://www.facebook.com/KidsRomaShow  "
      ]
     },
     "execution_count": 366,
     "metadata": {},
     "output_type": "execute_result"
    }
   ],
   "source": [
    "display(dtr.cartoon.value_counts(normalize=True)[40:43])\n",
    "target = 'Паровозики Чаттингтон'\n",
    "dtr[dtr.cartoon == target][['yt_channel_name','text']][:1]"
   ]
  },
  {
   "cell_type": "code",
   "execution_count": 367,
   "id": "c45d23b8-13b3-49ef-80dd-b70993fbe0a7",
   "metadata": {},
   "outputs": [
    {
     "name": "stdout",
     "output_type": "stream",
     "text": [
      "чаггингтон|chuggington\n"
     ]
    },
    {
     "data": {
      "text/html": [
       "<div>\n",
       "<style scoped>\n",
       "    .dataframe tbody tr th:only-of-type {\n",
       "        vertical-align: middle;\n",
       "    }\n",
       "\n",
       "    .dataframe tbody tr th {\n",
       "        vertical-align: top;\n",
       "    }\n",
       "\n",
       "    .dataframe thead th {\n",
       "        text-align: right;\n",
       "    }\n",
       "</style>\n",
       "<table border=\"1\" class=\"dataframe\">\n",
       "  <thead>\n",
       "    <tr style=\"text-align: right;\">\n",
       "      <th></th>\n",
       "      <th>cartoon</th>\n",
       "      <th>yt_channel_name</th>\n",
       "      <th>reel_name</th>\n",
       "      <th>text</th>\n",
       "      <th>url</th>\n",
       "      <th>language</th>\n",
       "    </tr>\n",
       "  </thead>\n",
       "  <tbody>\n",
       "  </tbody>\n",
       "</table>\n",
       "</div>"
      ],
      "text/plain": [
       "Empty DataFrame\n",
       "Columns: [cartoon, yt_channel_name, reel_name, text, url, language]\n",
       "Index: []"
      ]
     },
     "execution_count": 367,
     "metadata": {},
     "output_type": "execute_result"
    }
   ],
   "source": [
    "word_list = ['ЧАГГИНГТОН','Chuggington']\n",
    "\n",
    "stop_words = []\n",
    "\n",
    "# Преобразуем слова в нижний регистр и экранируем\n",
    "pattern = '|'.join([word.lower() for word in word_list])\n",
    "\n",
    "print(pattern)\n",
    "\n",
    "dtr[(dtr.cartoon == target) \n",
    "  & ~(dtr.text.fillna('').astype(str).str.lower().str.contains(pattern, na=False)) \n",
    "][['cartoon','yt_channel_name','reel_name','text','url','language']].head(10)"
   ]
  },
  {
   "cell_type": "code",
   "execution_count": 368,
   "id": "6343f66e-d343-473e-ad4f-9ef59e1f53b2",
   "metadata": {},
   "outputs": [
    {
     "name": "stdout",
     "output_type": "stream",
     "text": [
      "чаггингтон|chuggington\n",
      "\n"
     ]
    },
    {
     "data": {
      "text/html": [
       "<div>\n",
       "<style scoped>\n",
       "    .dataframe tbody tr th:only-of-type {\n",
       "        vertical-align: middle;\n",
       "    }\n",
       "\n",
       "    .dataframe tbody tr th {\n",
       "        vertical-align: top;\n",
       "    }\n",
       "\n",
       "    .dataframe thead th {\n",
       "        text-align: right;\n",
       "    }\n",
       "</style>\n",
       "<table border=\"1\" class=\"dataframe\">\n",
       "  <thead>\n",
       "    <tr style=\"text-align: right;\">\n",
       "      <th></th>\n",
       "      <th>cartoon</th>\n",
       "      <th>yt_channel_name</th>\n",
       "      <th>text</th>\n",
       "      <th>url</th>\n",
       "      <th>seconds</th>\n",
       "    </tr>\n",
       "  </thead>\n",
       "  <tbody>\n",
       "  </tbody>\n",
       "</table>\n",
       "</div>"
      ],
      "text/plain": [
       "Empty DataFrame\n",
       "Columns: [cartoon, yt_channel_name, text, url, seconds]\n",
       "Index: []"
      ]
     },
     "execution_count": 368,
     "metadata": {},
     "output_type": "execute_result"
    }
   ],
   "source": [
    "# Преобразуем списки слов в регулярные выражения (без границ слова)\n",
    "word_list_regex = '|'.join([word.lower() for word in word_list])  # Поиск подстрок\n",
    "stop_words_regex = '|'.join([stop_word.lower() for stop_word in stop_words])\n",
    "\n",
    "print(word_list_regex)\n",
    "print(stop_words_regex)\n",
    "\n",
    "# Применяем фильтрацию\n",
    "dtr[\n",
    "    (dtr.cartoon == 'none') \n",
    "  & (dtr.reel_name.fillna('').astype(str).str.lower().str.contains(word_list_regex))  # Любое из слов из word_list\n",
    "][['cartoon', 'yt_channel_name', 'text', 'url','seconds']][:20]"
   ]
  },
  {
   "cell_type": "code",
   "execution_count": 369,
   "id": "420fca4f",
   "metadata": {},
   "outputs": [
    {
     "data": {
      "text/plain": [
       "cartoon\n",
       "Паровозики Чаттингтон    6\n",
       "Name: count, dtype: int64"
      ]
     },
     "metadata": {},
     "output_type": "display_data"
    },
    {
     "data": {
      "text/plain": [
       "(6,)"
      ]
     },
     "metadata": {},
     "output_type": "display_data"
    },
    {
     "name": "stdout",
     "output_type": "stream",
     "text": [
      "\n"
     ]
    },
    {
     "data": {
      "text/plain": [
       "(6, 16)"
      ]
     },
     "execution_count": 369,
     "metadata": {},
     "output_type": "execute_result"
    }
   ],
   "source": [
    "ddd = \\\n",
    "dtr[\n",
    "    (dtr.reel_name.fillna('').astype(str).str.lower().str.contains(pattern, na=False))\n",
    "][['cartoon','text']]\n",
    "\n",
    "display(ddd['cartoon'].value_counts())\n",
    "display(ddd['cartoon'].shape)\n",
    "print()\n",
    "dtr[dtr.cartoon == target].shape"
   ]
  },
  {
   "cell_type": "code",
   "execution_count": 370,
   "id": "e7e4a5ec-669d-4f1b-98a6-cf31fc5258e3",
   "metadata": {},
   "outputs": [],
   "source": [
    "d['Паровозики Чаттингтон'] = {\n",
    "\n",
    "'order':0,\n",
    "'meth': 'reel_name_only',\n",
    "'pattern': 'pattern',\n",
    "'stop_pattern': None,\n",
    "'method':\n",
    "  {\n",
    "    'reel_name': {'any_word_list' : ['ЧАГГИНГТОН','Chuggington'],\n",
    "                  'all_word_list':None,\n",
    "                  'stop_any' : None\n",
    "                 },\n",
    "    'text'     : None,\n",
    "    'yt_channel_name' : None,\n",
    "    'is_shorts' : None # value_for_filter (0/1, default=None)\n",
    "  },\n",
    "'comment': 'обработка по имени'\n",
    "}"
   ]
  },
  {
   "cell_type": "markdown",
   "id": "d009b701",
   "metadata": {},
   "source": [
    "## Цветняшки"
   ]
  },
  {
   "cell_type": "code",
   "execution_count": 372,
   "id": "7ffb80d6-2a00-4491-a230-a1d267f46db1",
   "metadata": {},
   "outputs": [
    {
     "data": {
      "text/plain": [
       "cartoon\n",
       "Паровозики Чаттингтон         0.000072\n",
       "Цветняшки                     0.000072\n",
       "Enchantimals (Эншантималс)    0.000048\n",
       "Name: proportion, dtype: float64"
      ]
     },
     "metadata": {},
     "output_type": "display_data"
    }
   ],
   "source": [
    "display(dtr.cartoon.value_counts(normalize=True)[41:44])\n",
    "target = 'Цветняшки'\n",
    "# dtr[dtr.cartoon == target][['yt_channel_name','text']][:]"
   ]
  },
  {
   "cell_type": "code",
   "execution_count": 373,
   "id": "17b3e879-0a43-42e9-b886-500c44673876",
   "metadata": {},
   "outputs": [
    {
     "name": "stdout",
     "output_type": "stream",
     "text": [
      "цветняшкишоу\n"
     ]
    },
    {
     "data": {
      "text/html": [
       "<div>\n",
       "<style scoped>\n",
       "    .dataframe tbody tr th:only-of-type {\n",
       "        vertical-align: middle;\n",
       "    }\n",
       "\n",
       "    .dataframe tbody tr th {\n",
       "        vertical-align: top;\n",
       "    }\n",
       "\n",
       "    .dataframe thead th {\n",
       "        text-align: right;\n",
       "    }\n",
       "</style>\n",
       "<table border=\"1\" class=\"dataframe\">\n",
       "  <thead>\n",
       "    <tr style=\"text-align: right;\">\n",
       "      <th></th>\n",
       "      <th>cartoon</th>\n",
       "      <th>yt_channel_name</th>\n",
       "      <th>reel_name</th>\n",
       "      <th>text</th>\n",
       "      <th>url</th>\n",
       "      <th>language</th>\n",
       "    </tr>\n",
       "  </thead>\n",
       "  <tbody>\n",
       "    <tr>\n",
       "      <th>62071</th>\n",
       "      <td>Цветняшки</td>\n",
       "      <td>Цветняшки</td>\n",
       "      <td>Лучшие серии Цветняшек уже ждут вас на нашем каналеА какая любимая серия у вас мультикцветняшки</td>\n",
       "      <td>[Лучшие серии Цветняшек уже ждут вас на нашем каналеА какая любимая серия у вас мультикцветняшки] Цветняшки РазвивающийМультфильмИгрушки с Цветняшками уже на Wildberries: https://www.wildberries.ru/brands/tsvetnyashkiЦветняшки  это развивающий сериалмюзикл для малышей. Он создан командой аниматоров, музыкантов, педагогов, которых объединяет любовь к маленьким зрителям и желание сделать их пребывание перед экраном полезным, увлекательным и безопасным. На разноцветных страничках волшебного альбома Капелек Цветняшек живут главные герои сериала  Цыплёнок Пи, Волчонок У, Лисёнок Айяяй, Котёнок Мур и Зайчонок Скок. Каждый из них вовлекает малыша в интерактивные сюжеты, направленные на интеллектуальное, сенсорное, социальное, физическое, музыкальное и художественное развитие. А взрослым подсказывает как провести совместный досуг с ребёнком, предлагая идеи для развивающих игр и творчества.Смотри, повторяй, развивайсяБольше подробностей о сериале, полезные советы по детскому досугу, развитию и здоровью, мемы о родительстве  на наших страницах в социальных сетях: Яндекс.Дзен https://zen.yandex.ru/id/60d3bdd26b90...VK https://vk.com/public204551587 OK https://ok.ru/group/58120630894593 Telegramканал https://t.me/tsvetnyashkiСайт https://tsvetnyashki.ru</td>\n",
       "      <td>https://www.youtube.com/watch?v=Lh5y5W1MVS4</td>\n",
       "      <td>-1</td>\n",
       "    </tr>\n",
       "  </tbody>\n",
       "</table>\n",
       "</div>"
      ],
      "text/plain": [
       "         cartoon yt_channel_name  \\\n",
       "62071  Цветняшки       Цветняшки   \n",
       "\n",
       "                                                                                             reel_name  \\\n",
       "62071  Лучшие серии Цветняшек уже ждут вас на нашем каналеА какая любимая серия у вас мультикцветняшки   \n",
       "\n",
       "                                                                                                                                                                                                                                                                                                                                                                                                                                                                                                                                                                                                                                                                                                                                                                                                                                                                                                                                                                                                                                                                                                                                                                                                                                                                                                                text  \\\n",
       "62071  [Лучшие серии Цветняшек уже ждут вас на нашем каналеА какая любимая серия у вас мультикцветняшки] Цветняшки РазвивающийМультфильмИгрушки с Цветняшками уже на Wildberries: https://www.wildberries.ru/brands/tsvetnyashkiЦветняшки  это развивающий сериалмюзикл для малышей. Он создан командой аниматоров, музыкантов, педагогов, которых объединяет любовь к маленьким зрителям и желание сделать их пребывание перед экраном полезным, увлекательным и безопасным. На разноцветных страничках волшебного альбома Капелек Цветняшек живут главные герои сериала  Цыплёнок Пи, Волчонок У, Лисёнок Айяяй, Котёнок Мур и Зайчонок Скок. Каждый из них вовлекает малыша в интерактивные сюжеты, направленные на интеллектуальное, сенсорное, социальное, физическое, музыкальное и художественное развитие. А взрослым подсказывает как провести совместный досуг с ребёнком, предлагая идеи для развивающих игр и творчества.Смотри, повторяй, развивайсяБольше подробностей о сериале, полезные советы по детскому досугу, развитию и здоровью, мемы о родительстве  на наших страницах в социальных сетях: Яндекс.Дзен https://zen.yandex.ru/id/60d3bdd26b90...VK https://vk.com/public204551587 OK https://ok.ru/group/58120630894593 Telegramканал https://t.me/tsvetnyashkiСайт https://tsvetnyashki.ru   \n",
       "\n",
       "                                               url language  \n",
       "62071  https://www.youtube.com/watch?v=Lh5y5W1MVS4       -1  "
      ]
     },
     "execution_count": 373,
     "metadata": {},
     "output_type": "execute_result"
    }
   ],
   "source": [
    "word_list = [\n",
    "        # 'Цветняш',\n",
    "        'Цветняшкишоу'\n",
    "]\n",
    "\n",
    "stop_words = []\n",
    "\n",
    "# Преобразуем слова в нижний регистр и экранируем\n",
    "pattern = '|'.join([word.lower() for word in word_list])\n",
    "\n",
    "stop_pattern = '|'.join(map(lambda word: word.lower(), stop_words))\n",
    "\n",
    "print(pattern)\n",
    "\n",
    "dtr[(dtr.cartoon == target) \n",
    "  & ~(dtr.text.fillna('').astype(str).str.lower().str.contains(pattern, na=False)) \n",
    "][['cartoon','yt_channel_name','reel_name','text','url','language']].head(1)"
   ]
  },
  {
   "cell_type": "code",
   "execution_count": 374,
   "id": "3efc2eee-a85e-42a6-83c7-60208c339b8a",
   "metadata": {},
   "outputs": [
    {
     "name": "stdout",
     "output_type": "stream",
     "text": [
      "цветняшкишоу\n"
     ]
    },
    {
     "data": {
      "text/html": [
       "<div>\n",
       "<style scoped>\n",
       "    .dataframe tbody tr th:only-of-type {\n",
       "        vertical-align: middle;\n",
       "    }\n",
       "\n",
       "    .dataframe tbody tr th {\n",
       "        vertical-align: top;\n",
       "    }\n",
       "\n",
       "    .dataframe thead th {\n",
       "        text-align: right;\n",
       "    }\n",
       "</style>\n",
       "<table border=\"1\" class=\"dataframe\">\n",
       "  <thead>\n",
       "    <tr style=\"text-align: right;\">\n",
       "      <th></th>\n",
       "      <th>cartoon</th>\n",
       "      <th>yt_channel_name</th>\n",
       "      <th>text</th>\n",
       "      <th>url</th>\n",
       "      <th>seconds</th>\n",
       "    </tr>\n",
       "  </thead>\n",
       "  <tbody>\n",
       "  </tbody>\n",
       "</table>\n",
       "</div>"
      ],
      "text/plain": [
       "Empty DataFrame\n",
       "Columns: [cartoon, yt_channel_name, text, url, seconds]\n",
       "Index: []"
      ]
     },
     "execution_count": 374,
     "metadata": {},
     "output_type": "execute_result"
    }
   ],
   "source": [
    "# Преобразуем слова в нижний регистр и экранируем\n",
    "pattern = '|'.join(map(lambda word: re.escape(word.lower()), word_list))\n",
    "\n",
    "# Преобразуем списки слов в регулярные выражения (без границ слова)\n",
    "word_list_regex = '|'.join([word.lower() for word in word_list])  # Поиск подстрок\n",
    "\n",
    "print(word_list_regex)\n",
    "\n",
    "# Применяем фильтрацию\n",
    "dtr[\n",
    "    (dtr.cartoon == 'none') \n",
    "  & (dtr.reel_name.fillna('').astype(str).str.lower().str.contains(word_list_regex))\n",
    "][['cartoon', 'yt_channel_name', 'text', 'url','seconds']][:2]"
   ]
  },
  {
   "cell_type": "markdown",
   "id": "f9a13d0b-24b9-46e6-bb23-dfe26bc804c3",
   "metadata": {},
   "source": [
    "На цветняшках - очевидно, ошибки разметки"
   ]
  },
  {
   "cell_type": "code",
   "execution_count": 376,
   "id": "c7c49080",
   "metadata": {},
   "outputs": [
    {
     "data": {
      "text/plain": [
       "cartoon\n",
       "Цветняшки    5\n",
       "Name: count, dtype: int64"
      ]
     },
     "metadata": {},
     "output_type": "display_data"
    },
    {
     "data": {
      "text/plain": [
       "(5,)"
      ]
     },
     "metadata": {},
     "output_type": "display_data"
    },
    {
     "name": "stdout",
     "output_type": "stream",
     "text": [
      "\n"
     ]
    },
    {
     "data": {
      "text/plain": [
       "(6, 16)"
      ]
     },
     "execution_count": 376,
     "metadata": {},
     "output_type": "execute_result"
    }
   ],
   "source": [
    "ddd = \\\n",
    "dtr[\n",
    "    (dtr.reel_name.fillna('').astype(str).str.lower().str.contains(pattern, na=False))\n",
    "][['cartoon','text']]\n",
    "display(ddd['cartoon'].value_counts())\n",
    "display(ddd['cartoon'].shape)\n",
    "print()\n",
    "dtr[dtr.cartoon == target].shape"
   ]
  },
  {
   "cell_type": "code",
   "execution_count": 377,
   "id": "d07f769d-2b01-43f7-bcfd-579d10649750",
   "metadata": {},
   "outputs": [],
   "source": [
    "d['Цветняшки'] = {\n",
    "\n",
    "'order':0,\n",
    "'meth': 'reel_name_only',\n",
    "'pattern': 'pattern',\n",
    "'stop_pattern': None,\n",
    "'method':\n",
    "  {\n",
    "    'reel_name': {'any_word_list' : ['Цветняшкишоу'],\n",
    "                  'all_word_list':None,\n",
    "                  'stop_any' : None\n",
    "                 },\n",
    "    'text'     : None,\n",
    "    'yt_channel_name' : None,\n",
    "    'is_shorts' : None # value_for_filter (0/1, default=None)\n",
    "  },\n",
    "'comment': 'обработка по имени'\n",
    "}"
   ]
  },
  {
   "cell_type": "markdown",
   "id": "088141bb",
   "metadata": {},
   "source": [
    "## Enchantimals (Эншантималс)"
   ]
  },
  {
   "cell_type": "code",
   "execution_count": 379,
   "id": "85f23647-f9b4-4ae1-b59b-2d37e610f616",
   "metadata": {},
   "outputs": [
    {
     "data": {
      "text/plain": [
       "cartoon\n",
       "Паровозики Чаттингтон         0.000072\n",
       "Цветняшки                     0.000072\n",
       "Enchantimals (Эншантималс)    0.000048\n",
       "Вспыш                         0.000036\n",
       "Name: proportion, dtype: float64"
      ]
     },
     "metadata": {},
     "output_type": "display_data"
    },
    {
     "data": {
      "text/html": [
       "<div>\n",
       "<style scoped>\n",
       "    .dataframe tbody tr th:only-of-type {\n",
       "        vertical-align: middle;\n",
       "    }\n",
       "\n",
       "    .dataframe tbody tr th {\n",
       "        vertical-align: top;\n",
       "    }\n",
       "\n",
       "    .dataframe thead th {\n",
       "        text-align: right;\n",
       "    }\n",
       "</style>\n",
       "<table border=\"1\" class=\"dataframe\">\n",
       "  <thead>\n",
       "    <tr style=\"text-align: right;\">\n",
       "      <th></th>\n",
       "      <th>yt_channel_name</th>\n",
       "      <th>text</th>\n",
       "    </tr>\n",
       "  </thead>\n",
       "  <tbody>\n",
       "    <tr>\n",
       "      <th>7431</th>\n",
       "      <td>ДиДи ТВ</td>\n",
       "      <td>[Шоу ЭнчантималсEnchantimals Россия Международный женский день]  Подпишись  http://bit.ly/2tCIXrzx000dПики и Шини приезжают в Деревню Вандервуд, чтобы устроить шоу Энчантималсx000dEnchantimals  это волшебные подружки, которые заботятся о своих любимых друзьяхзверюшках. Они всегда вместе и даже выглядят одинаково Каждая кукла заботится о своем питомце и вместе они многому учатся друг у друга. Крепкая дружба и поддержка помогают им делать добрые поступки и жить в гармонии с природой.  Эти волшебные герои и их приключения унесут тебя в невероятный мир</td>\n",
       "    </tr>\n",
       "  </tbody>\n",
       "</table>\n",
       "</div>"
      ],
      "text/plain": [
       "     yt_channel_name  \\\n",
       "7431         ДиДи ТВ   \n",
       "\n",
       "                                                                                                                                                                                                                                                                                                                                                                                                                                                                                                                                                                            text  \n",
       "7431  [Шоу ЭнчантималсEnchantimals Россия Международный женский день]  Подпишись  http://bit.ly/2tCIXrzx000dПики и Шини приезжают в Деревню Вандервуд, чтобы устроить шоу Энчантималсx000dEnchantimals  это волшебные подружки, которые заботятся о своих любимых друзьяхзверюшках. Они всегда вместе и даже выглядят одинаково Каждая кукла заботится о своем питомце и вместе они многому учатся друг у друга. Крепкая дружба и поддержка помогают им делать добрые поступки и жить в гармонии с природой.  Эти волшебные герои и их приключения унесут тебя в невероятный мир  "
      ]
     },
     "execution_count": 379,
     "metadata": {},
     "output_type": "execute_result"
    }
   ],
   "source": [
    "display(dtr.cartoon.value_counts(normalize=True)[41:45])\n",
    "target = 'Enchantimals (Эншантималс)'\n",
    "dtr[dtr.cartoon == target][['yt_channel_name','text']][:1]"
   ]
  },
  {
   "cell_type": "code",
   "execution_count": 380,
   "id": "a5301179-0738-4e13-80fc-a70654ffed29",
   "metadata": {},
   "outputs": [
    {
     "name": "stdout",
     "output_type": "stream",
     "text": [
      "энчантималс|enchantimals\n"
     ]
    },
    {
     "data": {
      "text/html": [
       "<div>\n",
       "<style scoped>\n",
       "    .dataframe tbody tr th:only-of-type {\n",
       "        vertical-align: middle;\n",
       "    }\n",
       "\n",
       "    .dataframe tbody tr th {\n",
       "        vertical-align: top;\n",
       "    }\n",
       "\n",
       "    .dataframe thead th {\n",
       "        text-align: right;\n",
       "    }\n",
       "</style>\n",
       "<table border=\"1\" class=\"dataframe\">\n",
       "  <thead>\n",
       "    <tr style=\"text-align: right;\">\n",
       "      <th></th>\n",
       "      <th>cartoon</th>\n",
       "      <th>yt_channel_name</th>\n",
       "      <th>reel_name</th>\n",
       "      <th>text</th>\n",
       "      <th>url</th>\n",
       "      <th>language</th>\n",
       "    </tr>\n",
       "  </thead>\n",
       "  <tbody>\n",
       "  </tbody>\n",
       "</table>\n",
       "</div>"
      ],
      "text/plain": [
       "Empty DataFrame\n",
       "Columns: [cartoon, yt_channel_name, reel_name, text, url, language]\n",
       "Index: []"
      ]
     },
     "execution_count": 380,
     "metadata": {},
     "output_type": "execute_result"
    }
   ],
   "source": [
    "word_list = ['Энчантималс',\n",
    "             'Enchantimals'\n",
    "            ]\n",
    "\n",
    "stop_words = []\n",
    "\n",
    "# Преобразуем слова в нижний регистр и экранируем\n",
    "pattern = '|'.join([word.lower() for word in word_list])\n",
    "\n",
    "print(pattern)\n",
    "\n",
    "dtr[(dtr.cartoon == target) \n",
    "  & ~(dtr.text.fillna('').astype(str).str.lower().str.contains(pattern, na=False)) \n",
    "][['cartoon','yt_channel_name','reel_name','text','url','language']].head(10)"
   ]
  },
  {
   "cell_type": "code",
   "execution_count": 381,
   "id": "096a0a5d-fe4c-425c-ba54-c2cc5c595578",
   "metadata": {},
   "outputs": [
    {
     "name": "stdout",
     "output_type": "stream",
     "text": [
      "энчантималс|enchantimals\n"
     ]
    },
    {
     "data": {
      "text/html": [
       "<div>\n",
       "<style scoped>\n",
       "    .dataframe tbody tr th:only-of-type {\n",
       "        vertical-align: middle;\n",
       "    }\n",
       "\n",
       "    .dataframe tbody tr th {\n",
       "        vertical-align: top;\n",
       "    }\n",
       "\n",
       "    .dataframe thead th {\n",
       "        text-align: right;\n",
       "    }\n",
       "</style>\n",
       "<table border=\"1\" class=\"dataframe\">\n",
       "  <thead>\n",
       "    <tr style=\"text-align: right;\">\n",
       "      <th></th>\n",
       "      <th>cartoon</th>\n",
       "      <th>yt_channel_name</th>\n",
       "      <th>text</th>\n",
       "      <th>url</th>\n",
       "      <th>seconds</th>\n",
       "    </tr>\n",
       "  </thead>\n",
       "  <tbody>\n",
       "  </tbody>\n",
       "</table>\n",
       "</div>"
      ],
      "text/plain": [
       "Empty DataFrame\n",
       "Columns: [cartoon, yt_channel_name, text, url, seconds]\n",
       "Index: []"
      ]
     },
     "execution_count": 381,
     "metadata": {},
     "output_type": "execute_result"
    }
   ],
   "source": [
    "word_list = ['Энчантималс',\n",
    "             'Enchantimals'\n",
    "            ]\n",
    "\n",
    "stop_words = []\n",
    "\n",
    "# Преобразуем слова в нижний регистр и экранируем\n",
    "pattern = '|'.join(map(lambda word: re.escape(word.lower()), word_list))\n",
    "\n",
    "# Преобразуем списки слов в регулярные выражения (без границ слова)\n",
    "word_list_regex = '|'.join([word.lower() for word in word_list])\n",
    "\n",
    "print(word_list_regex)\n",
    "\n",
    "dtr[\n",
    "    (dtr.cartoon == 'none') \n",
    "  & (dtr.reel_name.fillna('').astype(str).str.lower().str.contains(word_list_regex))\n",
    "][['cartoon', 'yt_channel_name', 'text', 'url','seconds']][:2]"
   ]
  },
  {
   "cell_type": "code",
   "execution_count": 382,
   "id": "03c3c38c",
   "metadata": {},
   "outputs": [
    {
     "data": {
      "text/plain": [
       "cartoon\n",
       "Enchantimals (Эншантималс)    4\n",
       "Name: count, dtype: int64"
      ]
     },
     "metadata": {},
     "output_type": "display_data"
    },
    {
     "data": {
      "text/plain": [
       "(4,)"
      ]
     },
     "metadata": {},
     "output_type": "display_data"
    },
    {
     "name": "stdout",
     "output_type": "stream",
     "text": [
      "\n"
     ]
    },
    {
     "data": {
      "text/plain": [
       "(4, 16)"
      ]
     },
     "execution_count": 382,
     "metadata": {},
     "output_type": "execute_result"
    }
   ],
   "source": [
    "ddd = \\\n",
    "dtr[\n",
    "    (dtr.reel_name.fillna('').astype(str).str.lower().str.contains(pattern, na=False))\n",
    "][['cartoon','text']]\n",
    "\n",
    "display(ddd['cartoon'].value_counts())\n",
    "display(ddd['cartoon'].shape)\n",
    "print()\n",
    "dtr[dtr.cartoon == target].shape"
   ]
  },
  {
   "cell_type": "code",
   "execution_count": 383,
   "id": "1c67d71b-8504-4810-acb9-2943280680b5",
   "metadata": {},
   "outputs": [],
   "source": [
    "d['Enchantimals (Эншантималс)'] = {\n",
    "\n",
    "'order':0,\n",
    "'meth': 'reel_name_only',\n",
    "'pattern': 'pattern',\n",
    "'stop_pattern': None,\n",
    "'method':\n",
    "  {\n",
    "    'reel_name': {'any_word_list' : ['Энчантималс','Enchantimals'],\n",
    "                  'all_word_list':None,\n",
    "                  'stop_any' : None\n",
    "                 },\n",
    "    'text'     : None,\n",
    "    'yt_channel_name' : None,\n",
    "    'is_shorts' : None # value_for_filter (0/1, default=None)\n",
    "  },\n",
    "'comment': 'обработка по имени'\n",
    "}"
   ]
  },
  {
   "cell_type": "markdown",
   "id": "c1638acf",
   "metadata": {},
   "source": [
    "## Вспыш"
   ]
  },
  {
   "cell_type": "code",
   "execution_count": 385,
   "id": "53101e2e-002b-4fc6-a59e-960e7715213d",
   "metadata": {},
   "outputs": [
    {
     "data": {
      "text/plain": [
       "cartoon\n",
       "Цветняшки                     0.000072\n",
       "Enchantimals (Эншантималс)    0.000048\n",
       "Вспыш                         0.000036\n",
       "Name: proportion, dtype: float64"
      ]
     },
     "metadata": {},
     "output_type": "display_data"
    }
   ],
   "source": [
    "display(dtr.cartoon.value_counts(normalize=True)[42:])\n",
    "target = 'Вспыш'\n",
    "# dtr[dtr.cartoon == target][['yt_channel_name','text']][:1]"
   ]
  },
  {
   "cell_type": "code",
   "execution_count": 386,
   "id": "8b88772d-473f-438a-9e2e-815d2471c61f",
   "metadata": {},
   "outputs": [
    {
     "name": "stdout",
     "output_type": "stream",
     "text": [
      "вспыш\n"
     ]
    },
    {
     "data": {
      "text/html": [
       "<div>\n",
       "<style scoped>\n",
       "    .dataframe tbody tr th:only-of-type {\n",
       "        vertical-align: middle;\n",
       "    }\n",
       "\n",
       "    .dataframe tbody tr th {\n",
       "        vertical-align: top;\n",
       "    }\n",
       "\n",
       "    .dataframe thead th {\n",
       "        text-align: right;\n",
       "    }\n",
       "</style>\n",
       "<table border=\"1\" class=\"dataframe\">\n",
       "  <thead>\n",
       "    <tr style=\"text-align: right;\">\n",
       "      <th></th>\n",
       "      <th>cartoon</th>\n",
       "      <th>yt_channel_name</th>\n",
       "      <th>reel_name</th>\n",
       "      <th>text</th>\n",
       "      <th>url</th>\n",
       "      <th>language</th>\n",
       "    </tr>\n",
       "  </thead>\n",
       "  <tbody>\n",
       "  </tbody>\n",
       "</table>\n",
       "</div>"
      ],
      "text/plain": [
       "Empty DataFrame\n",
       "Columns: [cartoon, yt_channel_name, reel_name, text, url, language]\n",
       "Index: []"
      ]
     },
     "execution_count": 386,
     "metadata": {},
     "output_type": "execute_result"
    }
   ],
   "source": [
    "word_list = ['вспыш']\n",
    "\n",
    "stop_words = []\n",
    "\n",
    "# Преобразуем слова в нижний регистр и экранируем\n",
    "pattern = '|'.join([word.lower() for word in word_list])\n",
    "\n",
    "print(pattern)\n",
    "\n",
    "dtr[(dtr.cartoon == target) \n",
    "  & ~(dtr.text.fillna('').astype(str).str.lower().str.contains(pattern, na=False)) \n",
    "  # & ~(dtr.reel_name.fillna('').astype(str).str.lower().str.contains(pattern, na=False)) \n",
    "   ][['cartoon','yt_channel_name','reel_name','text','url','language']].head(10)"
   ]
  },
  {
   "cell_type": "code",
   "execution_count": 387,
   "id": "ec4ce6c6-97a4-48a4-9a3e-e02732d7e8b7",
   "metadata": {},
   "outputs": [
    {
     "name": "stdout",
     "output_type": "stream",
     "text": [
      "вспыш\n"
     ]
    },
    {
     "data": {
      "text/html": [
       "<div>\n",
       "<style scoped>\n",
       "    .dataframe tbody tr th:only-of-type {\n",
       "        vertical-align: middle;\n",
       "    }\n",
       "\n",
       "    .dataframe tbody tr th {\n",
       "        vertical-align: top;\n",
       "    }\n",
       "\n",
       "    .dataframe thead th {\n",
       "        text-align: right;\n",
       "    }\n",
       "</style>\n",
       "<table border=\"1\" class=\"dataframe\">\n",
       "  <thead>\n",
       "    <tr style=\"text-align: right;\">\n",
       "      <th></th>\n",
       "      <th>cartoon</th>\n",
       "      <th>yt_channel_name</th>\n",
       "      <th>text</th>\n",
       "      <th>url</th>\n",
       "      <th>seconds</th>\n",
       "    </tr>\n",
       "  </thead>\n",
       "  <tbody>\n",
       "  </tbody>\n",
       "</table>\n",
       "</div>"
      ],
      "text/plain": [
       "Empty DataFrame\n",
       "Columns: [cartoon, yt_channel_name, text, url, seconds]\n",
       "Index: []"
      ]
     },
     "execution_count": 387,
     "metadata": {},
     "output_type": "execute_result"
    }
   ],
   "source": [
    "word_list = ['вспыш']\n",
    "\n",
    "stop_words = []\n",
    "\n",
    "# Преобразуем списки слов в регулярные выражения (без границ слова)\n",
    "word_list_regex = '|'.join([word.lower() for word in word_list])  # Поиск подстрок\n",
    "\n",
    "print(word_list_regex)\n",
    "\n",
    "# Применяем фильтрацию\n",
    "dtr[\n",
    "    (dtr.cartoon == 'none') \n",
    "  & (dtr.reel_name.fillna('').astype(str).str.lower().str.contains(word_list_regex))  # Любое из слов из word_list\n",
    "][['cartoon', 'yt_channel_name', 'text', 'url','seconds']][:2]"
   ]
  },
  {
   "cell_type": "code",
   "execution_count": 388,
   "id": "c018f24b",
   "metadata": {},
   "outputs": [
    {
     "data": {
      "text/plain": [
       "cartoon\n",
       "Вспыш    3\n",
       "Name: count, dtype: int64"
      ]
     },
     "metadata": {},
     "output_type": "display_data"
    },
    {
     "data": {
      "text/plain": [
       "(3,)"
      ]
     },
     "metadata": {},
     "output_type": "display_data"
    },
    {
     "name": "stdout",
     "output_type": "stream",
     "text": [
      "\n"
     ]
    },
    {
     "data": {
      "text/plain": [
       "(3, 16)"
      ]
     },
     "execution_count": 388,
     "metadata": {},
     "output_type": "execute_result"
    }
   ],
   "source": [
    "ddd = \\\n",
    "dtr[\n",
    "    (dtr.reel_name.fillna('').astype(str).str.lower().str.contains(pattern, na=False))\n",
    "][['cartoon','text']]\n",
    "\n",
    "display(ddd['cartoon'].value_counts())\n",
    "display(ddd['cartoon'].shape)\n",
    "print()\n",
    "dtr[dtr.cartoon == target].shape"
   ]
  },
  {
   "cell_type": "code",
   "execution_count": 389,
   "id": "33c9e3a7-4cf3-4866-888f-fbf493997bd9",
   "metadata": {},
   "outputs": [],
   "source": [
    "d['Вспыш'] = {\n",
    "\n",
    "'order':0,\n",
    "'meth': 'reel_name_only',\n",
    "'pattern': 'pattern',\n",
    "'stop_pattern': None,\n",
    "'method':\n",
    "  {\n",
    "    'reel_name': {'any_word_list' : ['вспыш'],\n",
    "                  'all_word_list':None,\n",
    "                  'stop_any' : None\n",
    "                 },\n",
    "    'text'     : None,\n",
    "    'yt_channel_name' : None,\n",
    "    'is_shorts' : None # value_for_filter (0/1, default=None)\n",
    "  },\n",
    "'comment': 'обработка по имени'\n",
    "}"
   ]
  },
  {
   "cell_type": "markdown",
   "id": "c5506118-e3f2-4751-b8f2-305776a0eeae",
   "metadata": {},
   "source": [
    "# Process"
   ]
  },
  {
   "cell_type": "markdown",
   "id": "8ae722fd-6180-4eb1-ad96-b34058a5dd9d",
   "metadata": {},
   "source": [
    "Вручную получилось определить правила классификации, посмотрим на качество этих правил."
   ]
  },
  {
   "cell_type": "code",
   "execution_count": 392,
   "id": "c76c5093-3b56-4dfd-99da-fdc7361919ec",
   "metadata": {},
   "outputs": [],
   "source": [
    "dtr['target'] = 'none'"
   ]
  },
  {
   "cell_type": "code",
   "execution_count": 393,
   "id": "0ebeb704-88c6-4b16-b364-87f51053bfe8",
   "metadata": {},
   "outputs": [
    {
     "name": "stdout",
     "output_type": "stream",
     "text": [
      "\n",
      "{ tardet_i: {\n",
      "         'order' : 0 (define target only) / 1 (first in similar) / 2 (next in similar or misdefine none),\n",
      "         'mth' : 'type_method',\n",
      "         'pattern' : 'search_pattern_type',\n",
      "         'stop_pattern': 'stop_pattern_type'\n",
      "         'methods': {\n",
      "                    'reel_name': {'any_word_list':[], 'all_word_list':[], 'stop_any' : []}\n",
      "                    'text'     : {'any_word_list':[], 'all_word_list':[], 'stop_any' : []}\n",
      "                    'yt_channel_name' : {'any_word_list':[]}\n",
      "                    'is_shorts' : None # value_for_filter (0/1, default=None)\n",
      "                },\n",
      "         'comment':'some_text'\n",
      "        }\n",
      "    }\n",
      "\n"
     ]
    }
   ],
   "source": [
    "print(ds)"
   ]
  },
  {
   "cell_type": "markdown",
   "id": "2aaf145d-6052-4522-95c7-60cef024a66b",
   "metadata": {},
   "source": [
    "Посмотрим словарь методов / паттернов"
   ]
  },
  {
   "cell_type": "code",
   "execution_count": 395,
   "id": "2849908f-6ce4-4603-b82b-7423e744b736",
   "metadata": {
    "scrolled": true
   },
   "outputs": [
    {
     "name": "stdout",
     "output_type": "stream",
     "text": [
      "{\n",
      "    Маша и медведь: \n",
      " (dtr.reel_name.fillna('').astype(str).str.lower().str.contains(pattern, na=False))\n",
      " &  (dtr.is_shorts.fillna('').astype(int) == 0)\n",
      " \n",
      "    pattern: \n",
      "pattern = '|'.join(map(lambda word: re.escape(word.lower()), word_list))\n",
      "\n",
      "    reel_name_only: \n",
      "(dtr.reel_name.fillna('').astype(str).str.lower().str.contains(pattern, na=False))\n",
      "\n",
      "    reel_name_or_channel_name: \n",
      "(dtr.reel_name.fillna('').astype(str).str.lower().str.contains(pattern, na=False)) \n",
      "| (dtr.yt_channel_name.fillna('').astype(str).str.lower().str.contains(pattern, na=False))\n",
      "\n",
      "    text_only: \n",
      "(dtr.text.fillna('').astype(str).str.lower().str.contains(pattern, na=False))\n",
      "\n",
      "    stop_pattern: \n",
      "stop_pattern = '|'.join(map(lambda word: re.escape(word.lower()), stop_words))\n",
      "\n",
      "    reel_or_channel_and_not_text: \n",
      "(\n",
      "    (dtr.reel_name.fillna('').astype(str).str.lower().str.contains(pattern, na=False))\n",
      "  | (dtr.yt_channel_name.fillna('').astype(str).str.lower().str.contains(pattern, na=False))\n",
      ")\n",
      " & ~(dtr.text.fillna('').astype(str).str.lower().str.contains(stop_pattern, na=False))\n",
      "\n",
      "    stop_words_regex: \n",
      "stop_words_regex = '|'.join([f'{stop_word.lower()}' for stop_word in stop_words])\n",
      "\n",
      "    reel_and_not_text: \n",
      "   (dtr.reel_name.fillna('').astype(str).str.lower().str.contains(pattern, na=False))\n",
      "& ~(dtr.text.fillna('').astype(str).str.lower().str.contains(stop_words_regex, na=False))\n",
      "\n",
      "    text_and_not_reel_and_lentext_less: \n",
      "(dtr.text.fillna('').astype(str).str.lower().str.contains(pattern, na=False) &\n",
      "~dtr.reel_name.fillna('').astype(str).str.lower().str.contains(stop_pattern, na=False)) \n",
      "&\n",
      "(dtr.text.fillna('').astype(str).str.len() < 270)\n",
      "\n",
      "    reel_and_text: \n",
      "(dtr.reel_name.fillna('').astype(str).str.lower().str.contains(pattern, na=False)) \n",
      "& (dtr.text.fillna('').astype(str).str.lower().str.contains('простоквашино'))\n",
      "\n",
      "    pattern_capital: \n",
      "pattern = '|'.join([word for word in word_list])\n",
      "\n",
      "    reel_and_reel: \n",
      "(dtr.reel_name.fillna('').astype(str).str.contains(pattern, na=False)) \n",
      "& (dtr.reel_name.fillna('').astype(str).str.contains('Союзмультфильм'))\n",
      "\n",
      "    text_and_reel_and_lentext_less: \n",
      "(dtr.text.fillna('').astype(str).str.lower().str.contains(pattern, na=False)) \n",
      "& (dtr.reel_name.fillna('').astype(str).str.lower().str.contains('союзмультфильм', na=False)) \n",
      "& (dtr.text.fillna('').astype(str).str.len() < 270)\n",
      "\n",
      "}\n"
     ]
    }
   ],
   "source": [
    "da.print_dict(meth)"
   ]
  },
  {
   "cell_type": "markdown",
   "id": "51c6d1f3-8625-4ffe-96bd-b60d0f25ef1d",
   "metadata": {},
   "source": [
    "Посмотрим с какой частотой применяются разные методы"
   ]
  },
  {
   "cell_type": "code",
   "execution_count": 397,
   "id": "4f289dd9-3307-407a-94eb-993783f4f111",
   "metadata": {},
   "outputs": [
    {
     "data": {
      "text/plain": [
       "Counter({'reel_name_only': 34,\n",
       "         'reel_name_or_channel_name': 2,\n",
       "         'Маша и медведь': 1,\n",
       "         'text_only': 1,\n",
       "         'reel_or_channel_and_not_text': 1,\n",
       "         'reel_and_not_text': 1,\n",
       "         'text_and_not_reel_and_lentext_less': 1,\n",
       "         'reel_and_text': 1,\n",
       "         'reel_and_reel': 1,\n",
       "         'text_and_reel_and_lentext_less': 1})"
      ]
     },
     "execution_count": 397,
     "metadata": {},
     "output_type": "execute_result"
    }
   ],
   "source": [
    "mmm = [d[t]['meth'] for t in d.keys()]\n",
    "\n",
    "element_counts = Counter(mmm)\n",
    "element_counts"
   ]
  },
  {
   "cell_type": "markdown",
   "id": "354d4689-df32-43e4-8008-8a5e72cde136",
   "metadata": {},
   "source": [
    "Видим, что для 34 классов достаточно только набора слов в имени. Все остальные методы - \"разовые\"\n",
    "\n",
    "Посмторим Инструкции методов."
   ]
  },
  {
   "cell_type": "code",
   "execution_count": 399,
   "id": "644d72ce-4f4e-41ea-9c48-f60222496ed1",
   "metadata": {},
   "outputs": [
    {
     "name": "stdout",
     "output_type": "stream",
     "text": [
      "Маша и медведь \n",
      " (dtr.reel_name.fillna('').astype(str).str.lower().str.contains(pattern, na=False))\n",
      " &  (dtr.is_shorts.fillna('').astype(int) == 0)\n",
      " \n",
      "reel_name_only \n",
      "(dtr.reel_name.fillna('').astype(str).str.lower().str.contains(pattern, na=False))\n",
      "\n",
      "reel_name_or_channel_name \n",
      "(dtr.reel_name.fillna('').astype(str).str.lower().str.contains(pattern, na=False)) \n",
      "| (dtr.yt_channel_name.fillna('').astype(str).str.lower().str.contains(pattern, na=False))\n",
      "\n",
      "text_only \n",
      "(dtr.text.fillna('').astype(str).str.lower().str.contains(pattern, na=False))\n",
      "\n",
      "reel_or_channel_and_not_text \n",
      "(\n",
      "    (dtr.reel_name.fillna('').astype(str).str.lower().str.contains(pattern, na=False))\n",
      "  | (dtr.yt_channel_name.fillna('').astype(str).str.lower().str.contains(pattern, na=False))\n",
      ")\n",
      " & ~(dtr.text.fillna('').astype(str).str.lower().str.contains(stop_pattern, na=False))\n",
      "\n",
      "reel_and_not_text \n",
      "   (dtr.reel_name.fillna('').astype(str).str.lower().str.contains(pattern, na=False))\n",
      "& ~(dtr.text.fillna('').astype(str).str.lower().str.contains(stop_words_regex, na=False))\n",
      "\n",
      "text_and_not_reel_and_lentext_less \n",
      "(dtr.text.fillna('').astype(str).str.lower().str.contains(pattern, na=False) &\n",
      "~dtr.reel_name.fillna('').astype(str).str.lower().str.contains(stop_pattern, na=False)) \n",
      "&\n",
      "(dtr.text.fillna('').astype(str).str.len() < 270)\n",
      "\n",
      "reel_and_text \n",
      "(dtr.reel_name.fillna('').astype(str).str.lower().str.contains(pattern, na=False)) \n",
      "& (dtr.text.fillna('').astype(str).str.lower().str.contains('простоквашино'))\n",
      "\n",
      "reel_and_reel \n",
      "(dtr.reel_name.fillna('').astype(str).str.contains(pattern, na=False)) \n",
      "& (dtr.reel_name.fillna('').astype(str).str.contains('Союзмультфильм'))\n",
      "\n",
      "text_and_reel_and_lentext_less \n",
      "(dtr.text.fillna('').astype(str).str.lower().str.contains(pattern, na=False)) \n",
      "& (dtr.reel_name.fillna('').astype(str).str.lower().str.contains('союзмультфильм', na=False)) \n",
      "& (dtr.text.fillna('').astype(str).str.len() < 270)\n",
      "\n"
     ]
    }
   ],
   "source": [
    "for h in element_counts.keys():\n",
    "    print(h,meth[h])"
   ]
  },
  {
   "cell_type": "markdown",
   "id": "7716429a-e9f1-40cd-b738-bd21c0aa0d8f",
   "metadata": {},
   "source": [
    "Определим функцию-классификатор на основе методов.  \n",
    "Проходим сначала в цекле по уровням `order` - от классов, которые просто и однозначно определяются, до классов с неоднозначным определением."
   ]
  },
  {
   "cell_type": "code",
   "execution_count": 401,
   "id": "70153af6-6f6a-454a-97e2-786a3845ee6f",
   "metadata": {},
   "outputs": [],
   "source": [
    "def process_data(dtr: pd.DataFrame = None,d: dict = None, meth: dict = None,verbose=False):\n",
    "    if dtr is None or d is None or meth is None:\n",
    "        print('params: dtr, d, meth must be not None!\\nFunc stopped!')\n",
    "        return False\n",
    "    if verbose:\n",
    "        print(list(dtr.columns))\n",
    "        print(dtr.shape)\n",
    "    s= set()\n",
    "    bc = \"(df.target == 'none')\" # base condition\n",
    "    for i in range(-1,3):\n",
    "        if verbose:\n",
    "            print('order',i)\n",
    "        for t in d.keys():\n",
    "            rn = d[t]['method']['reel_name']\n",
    "            reel_name_any_word_list=rn['any_word_list'] if rn else None\n",
    "            reel_name_all_word_list=rn['all_word_list'] if rn else None\n",
    "            reel_name_stop_any=rn['stop_any'] if rn else None\n",
    "            tx = d[t]['method']['text']\n",
    "            text_any_word_list=tx['any_word_list'] if tx else None\n",
    "            text_all_word_list=tx['all_word_list'] if tx else None\n",
    "            text_stop_any=tx['stop_any'] if tx else []\n",
    "            ch = d[t]['method']['yt_channel_name']\n",
    "            yt_channel_name_any_word_list=ch['any_word_list'] if ch else None\n",
    "            is_shorts=d[t]['method']['is_shorts'] if d[t]['method']['is_shorts'] else None\n",
    "\n",
    "            word_list, stop_words = None, None\n",
    "            word_list = reel_name_any_word_list if reel_name_any_word_list else text_any_word_list\n",
    "            stop_words = text_stop_any if text_stop_any else reel_name_stop_any \n",
    "\n",
    "            pattern = None\n",
    "            stpat = None\n",
    "\n",
    "            if d[t]['order'] == i:\n",
    "                if verbose: print('--- ',t)\n",
    "                mth, ptrn = d[t]['meth'], d[t]['pattern']\n",
    "                if verbose: print('stop_pattern',d[t]['stop_pattern'])\n",
    "                stpat = meth[d[t]['stop_pattern']] if d[t]['stop_pattern'] else None\n",
    "                if verbose: print('stpat:',stpat)\n",
    "                fc = meth[mth].replace('dtr', 'df') # filter condition\n",
    "                cond = bc +' & ' + fc\n",
    "                local_vars = {}\n",
    "                \n",
    "                def execute_filter(df,word_list,stop_words,ptrn,stpat,cond,local_vars,t):\n",
    "                    if verbose: print(cond)\n",
    "                    local_vars['df'] = df\n",
    "                    local_vars['word_list'] = word_list\n",
    "                    local_vars['stop_words'] = stop_words\n",
    "                    local_vars['stop_pattern'] = ''\n",
    "                    local_vars['stop_words_regex'] = ''\n",
    "                    \n",
    "                    if stpat and isinstance(stpat,str):\n",
    "                        exec(stpat.replace('dtr', 'df'), globals(), local_vars)\n",
    "                    exec(meth[ptrn].replace('dtr', 'df'), globals(), local_vars)\n",
    "                    pattern = local_vars['pattern']\n",
    "                    stop_pattern = local_vars['stop_pattern'] #if local_vars['stop_pattern'] else 'none'\n",
    "                    stop_words_regex = local_vars['stop_words_regex'] #if local_vars['stop_words_regex'] else 'none'\n",
    "                    if verbose: print('pattern:')\n",
    "                    if verbose: print(pattern)\n",
    "                    exec(f\"result = df[{cond}]\", globals(), local_vars)\n",
    "                    exec('lll = len(df)',globals(), local_vars)\n",
    "                    result = local_vars['result']\n",
    "                    lll = local_vars['lll']\n",
    "                    if verbose: print('shape',lll)\n",
    "                    return result.index\n",
    "\n",
    "                idx = None\n",
    "                idx = execute_filter(dtr,word_list,stop_words,ptrn,stpat,cond,local_vars,t)\n",
    "                dtr.loc[idx, 'target'] = t\n",
    "                \n",
    "                if verbose:\n",
    "                    if 'cartoon' in dtr.columns:\n",
    "                        print('pred:', sum(dtr.target == t),'base: ',sum(dtr.cartoon == t))    \n",
    "                    else:\n",
    "                        print('pred:', sum(dtr.target == t))"
   ]
  },
  {
   "cell_type": "code",
   "execution_count": 402,
   "id": "1bd3689a-901e-4a57-806f-8c05a65c2d06",
   "metadata": {},
   "outputs": [],
   "source": [
    "dtr['target']='none'"
   ]
  },
  {
   "cell_type": "code",
   "execution_count": 403,
   "id": "d4428268-4da2-4055-947a-bc9ace86b208",
   "metadata": {},
   "outputs": [],
   "source": [
    "# da.print_dict(meth)"
   ]
  },
  {
   "cell_type": "code",
   "execution_count": 404,
   "id": "db289253-3ce6-4a60-a80b-d24c96f439f2",
   "metadata": {
    "scrolled": true
   },
   "outputs": [
    {
     "name": "stdout",
     "output_type": "stream",
     "text": [
      "['date', 'reel_name', 'yt_reel_id', 'cartoon', 'url', 'text', 'seconds', 'is_shorts', 'broadcast', 'yt_channel_id', 'yt_channel_name', 'yt_ch_url', 'yt_channel_type', 'flag_closed', 'international', 'language', 'target']\n",
      "(83411, 17)\n",
      "order -1\n",
      "---  Чучело-Мяучело\n",
      "stop_pattern None\n",
      "stpat: None\n",
      "(df.target == 'none') & \n",
      "(df.reel_name.fillna('').astype(str).str.lower().str.contains(pattern, na=False))\n",
      "\n",
      "pattern:\n",
      "чучмяуч|чуч\\ мяуч|чучеломяучело\n",
      "shape 83411\n",
      "pred: 62 base:  64\n",
      "---  Смешарики\n",
      "stop_pattern None\n",
      "stpat: None\n",
      "(df.target == 'none') & \n",
      "(df.reel_name.fillna('').astype(str).str.lower().str.contains(pattern, na=False))\n",
      "\n",
      "pattern:\n",
      "смешарик\n",
      "shape 83411\n",
      "pred: 41 base:  41\n",
      "---  Акуленок\n",
      "stop_pattern None\n",
      "stpat: None\n",
      "(df.target == 'none') & \n",
      "(df.reel_name.fillna('').astype(str).str.lower().str.contains(pattern, na=False))\n",
      "\n",
      "pattern:\n",
      "акуленок|акулёнок\n",
      "shape 83411\n",
      "pred: 11 base:  11\n",
      "---  Финник\n",
      "stop_pattern None\n",
      "stpat: None\n",
      "(df.target == 'none') & \n",
      "(df.reel_name.fillna('').astype(str).str.lower().str.contains(pattern, na=False))\n",
      "\n",
      "pattern:\n",
      "финник\n",
      "shape 83411\n",
      "pred: 8 base:  8\n",
      "order 0\n",
      "---  Маша и медведь\n",
      "stop_pattern None\n",
      "stpat: None\n",
      "(df.target == 'none') & \n",
      " (df.reel_name.fillna('').astype(str).str.lower().str.contains(pattern, na=False))\n",
      " &  (df.is_shorts.fillna('').astype(int) == 0)\n",
      " \n",
      "pattern:\n",
      "masha\\ and\\ the\\ bear|mashaandthebear|маша\\ и\\ медведь|машкины\\ страшилки|машины\\ сказки|masha\\ and\\ friends\n",
      "shape 83411\n",
      "pred: 846 base:  853\n",
      "---  Говорящий Том\n",
      "stop_pattern None\n",
      "stpat: None\n",
      "(df.target == 'none') & \n",
      "(df.reel_name.fillna('').astype(str).str.lower().str.contains(pattern, na=False))\n",
      "\n",
      "pattern:\n",
      "talking\\ tom\n",
      "shape 83411\n",
      "pred: 589 base:  589\n",
      "---  Буба\n",
      "stop_pattern None\n",
      "stpat: None\n",
      "(df.target == 'none') & \n",
      "(df.reel_name.fillna('').astype(str).str.lower().str.contains(pattern, na=False))\n",
      "\n",
      "pattern:\n",
      "booba\n",
      "shape 83411\n",
      "pred: 529 base:  529\n",
      "---  Кошечки собачки\n",
      "stop_pattern None\n",
      "stpat: None\n",
      "(df.target == 'none') & \n",
      "(df.reel_name.fillna('').astype(str).str.lower().str.contains(pattern, na=False))\n",
      "\n",
      "pattern:\n",
      "кошечкисобачки\n",
      "shape 83411\n",
      "pred: 437 base:  437\n",
      "---  Енотки\n",
      "stop_pattern None\n",
      "stpat: None\n",
      "(df.target == 'none') & \n",
      "(df.reel_name.fillna('').astype(str).str.lower().str.contains(pattern, na=False)) \n",
      "| (df.yt_channel_name.fillna('').astype(str).str.lower().str.contains(pattern, na=False))\n",
      "\n",
      "pattern:\n",
      "الراكون|rockoons|musipaches|енотки\n",
      "shape 83411\n",
      "pred: 379 base:  379\n",
      "---  Бэтмен\n",
      "stop_pattern None\n",
      "stpat: None\n",
      "(df.target == 'none') & \n",
      "(df.reel_name.fillna('').astype(str).str.lower().str.contains(pattern, na=False))\n",
      "\n",
      "pattern:\n",
      "batman|бэтмен\n",
      "shape 83411\n",
      "pred: 353 base:  353\n",
      "---  Зебра в клеточку\n",
      "stop_pattern stop_pattern\n",
      "stpat: \n",
      "stop_pattern = '|'.join(map(lambda word: re.escape(word.lower()), stop_words))\n",
      "\n",
      "(df.target == 'none') & \n",
      "(\n",
      "    (df.reel_name.fillna('').astype(str).str.lower().str.contains(pattern, na=False))\n",
      "  | (df.yt_channel_name.fillna('').astype(str).str.lower().str.contains(pattern, na=False))\n",
      ")\n",
      " & ~(df.text.fillna('').astype(str).str.lower().str.contains(stop_pattern, na=False))\n",
      "\n",
      "pattern:\n",
      "зебра\\ в\\ клеточку|зебравклеточку\n",
      "shape 83411\n",
      "pred: 185 base:  188\n",
      "---  Чик-Чирикино\n",
      "stop_pattern None\n",
      "stpat: None\n",
      "(df.target == 'none') & \n",
      "(df.reel_name.fillna('').astype(str).str.lower().str.contains(pattern, na=False))\n",
      "\n",
      "pattern:\n",
      "чикчирикино\n",
      "shape 83411\n",
      "pred: 137 base:  137\n",
      "---  Черепашки Ниндзя\n",
      "stop_pattern None\n",
      "stpat: None\n",
      "(df.target == 'none') & \n",
      "(df.reel_name.fillna('').astype(str).str.lower().str.contains(pattern, na=False))\n",
      "\n",
      "pattern:\n",
      "черепашекниндзя|черепашкининдзя\n",
      "shape 83411\n",
      "pred: 104 base:  104\n",
      "---  Сумка\n",
      "stop_pattern None\n",
      "stpat: None\n",
      "(df.target == 'none') & \n",
      "(df.reel_name.fillna('').astype(str).str.lower().str.contains(pattern, na=False))\n",
      "\n",
      "pattern:\n",
      "чудосумка\n",
      "shape 83411\n",
      "pred: 133 base:  134\n",
      "---  Чуддики\n",
      "stop_pattern None\n",
      "stpat: None\n",
      "(df.target == 'none') & \n",
      "(df.reel_name.fillna('').astype(str).str.lower().str.contains(pattern, na=False))\n",
      "\n",
      "pattern:\n",
      "oddbod|чуддик\n",
      "shape 83411\n",
      "pred: 86 base:  86\n",
      "---  My little pony\n",
      "stop_pattern None\n",
      "stpat: None\n",
      "(df.target == 'none') & \n",
      "(df.reel_name.fillna('').astype(str).str.lower().str.contains(pattern, na=False))\n",
      "\n",
      "pattern:\n",
      "my\\ little\\ pony|май\\ литл\\ пони|мой\\ маленький\\ пони\n",
      "shape 83411\n",
      "pred: 81 base:  81\n",
      "---  Свинка Пеппа\n",
      "stop_pattern None\n",
      "stpat: None\n",
      "(df.target == 'none') & \n",
      "(df.reel_name.fillna('').astype(str).str.lower().str.contains(pattern, na=False))\n",
      "\n",
      "pattern:\n",
      "свинка\\ пеппа|peppa\\ pig|peppa\\ свинья|свинки\\ пеппы\n",
      "shape 83411\n",
      "pred: 69 base:  69\n",
      "---  Пороро\n",
      "stop_pattern None\n",
      "stpat: None\n",
      "(df.target == 'none') & \n",
      "(df.reel_name.fillna('').astype(str).str.lower().str.contains(pattern, na=False))\n",
      "\n",
      "pattern:\n",
      "pororo\n",
      "shape 83411\n",
      "pred: 51 base:  51\n",
      "---  Трансформеры\n",
      "stop_pattern None\n",
      "stpat: None\n",
      "(df.target == 'none') & \n",
      "(df.reel_name.fillna('').astype(str).str.lower().str.contains(pattern, na=False))\n",
      "\n",
      "pattern:\n",
      "трансформеры\n",
      "shape 83411\n",
      "pred: 40 base:  40\n",
      "---  Простоквашино\n",
      "stop_pattern None\n",
      "stpat: None\n",
      "(df.target == 'none') & \n",
      "(df.reel_name.fillna('').astype(str).str.lower().str.contains(pattern, na=False)) \n",
      "& (df.text.fillna('').astype(str).str.lower().str.contains('простоквашино'))\n",
      "\n",
      "pattern:\n",
      "простоквашино|дядя\\ федор|шарик|вера\\ павловна|печкин|матроскошарик|матроскин|дяди\\ федора|гаврюша|галчонок|маргарита\\ егоровна\n",
      "shape 83411\n",
      "pred: 33 base:  35\n",
      "---  Щенячий патруль\n",
      "stop_pattern None\n",
      "stpat: None\n",
      "(df.target == 'none') & \n",
      "(df.reel_name.fillna('').astype(str).str.lower().str.contains(pattern, na=False))\n",
      "\n",
      "pattern:\n",
      "paw\\ patrol\n",
      "shape 83411\n",
      "pred: 32 base:  32\n",
      "---  Cry babies magic tears\n",
      "stop_pattern None\n",
      "stpat: None\n",
      "(df.target == 'none') & \n",
      "(df.reel_name.fillna('').astype(str).str.lower().str.contains(pattern, na=False))\n",
      "\n",
      "pattern:\n",
      "край\\ бебис\n",
      "shape 83411\n",
      "pred: 22 base:  22\n",
      "---  Крутиксы\n",
      "stop_pattern None\n",
      "stpat: None\n",
      "(df.target == 'none') & \n",
      "(df.reel_name.fillna('').astype(str).str.contains(pattern, na=False)) \n",
      "& (df.reel_name.fillna('').astype(str).str.contains('Союзмультфильм'))\n",
      "\n",
      "pattern:\n",
      "крутикс|зигги|шикайзер|йанго|рой\\ |роя\\ |гарпи|сол\\ |арешк|сола\\ |звездная\\ академия\n",
      "shape 83411\n",
      "pred: 1 base:  22\n",
      "---  Губка Боб\n",
      "stop_pattern None\n",
      "stpat: None\n",
      "(df.target == 'none') & \n",
      "(df.reel_name.fillna('').astype(str).str.lower().str.contains(pattern, na=False))\n",
      "\n",
      "pattern:\n",
      "spongebob|sponge\\ bob\n",
      "shape 83411\n",
      "pred: 10 base:  10\n",
      "---  Лунтик\n",
      "stop_pattern None\n",
      "stpat: None\n",
      "(df.target == 'none') & \n",
      "(df.reel_name.fillna('').astype(str).str.lower().str.contains(pattern, na=False))\n",
      "\n",
      "pattern:\n",
      "лунтик|luntik\n",
      "shape 83411\n",
      "pred: 10 base:  10\n",
      "---  Симпсоны\n",
      "stop_pattern None\n",
      "stpat: None\n",
      "(df.target == 'none') & \n",
      "(df.reel_name.fillna('').astype(str).str.lower().str.contains(pattern, na=False))\n",
      "\n",
      "pattern:\n",
      "simpson|симпсон\n",
      "shape 83411\n",
      "pred: 10 base:  10\n",
      "---  Мини-мишки\n",
      "stop_pattern None\n",
      "stpat: None\n",
      "(df.target == 'none') & \n",
      "(df.reel_name.fillna('').astype(str).str.lower().str.contains(pattern, na=False))\n",
      "\n",
      "pattern:\n",
      "минимишки\n",
      "shape 83411\n",
      "pred: 8 base:  8\n",
      "---  Барбоскины\n",
      "stop_pattern None\n",
      "stpat: None\n",
      "(df.target == 'none') & \n",
      "(df.reel_name.fillna('').astype(str).str.lower().str.contains(pattern, na=False))\n",
      "\n",
      "pattern:\n",
      "барбоскин\n",
      "shape 83411\n",
      "pred: 6 base:  7\n",
      "---  Котик Мормотик\n",
      "stop_pattern None\n",
      "stpat: None\n",
      "(df.target == 'none') & \n",
      "(df.reel_name.fillna('').astype(str).str.lower().str.contains(pattern, na=False))\n",
      "\n",
      "pattern:\n",
      "мормотик\n",
      "shape 83411\n",
      "pred: 6 base:  6\n",
      "---  Бременские музыканты\n",
      "stop_pattern None\n",
      "stpat: None\n",
      "(df.target == 'none') & \n",
      "(df.reel_name.fillna('').astype(str).str.lower().str.contains(pattern, na=False))\n",
      "\n",
      "pattern:\n",
      "бременских\\ музыкантов|бременские\\ музыканты\n",
      "shape 83411\n",
      "pred: 6 base:  6\n",
      "---  Паровозики Чаттингтон\n",
      "stop_pattern None\n",
      "stpat: None\n",
      "(df.target == 'none') & \n",
      "(df.reel_name.fillna('').astype(str).str.lower().str.contains(pattern, na=False))\n",
      "\n",
      "pattern:\n",
      "чаггингтон|chuggington\n",
      "shape 83411\n",
      "pred: 6 base:  6\n",
      "---  Цветняшки\n",
      "stop_pattern None\n",
      "stpat: None\n",
      "(df.target == 'none') & \n",
      "(df.reel_name.fillna('').astype(str).str.lower().str.contains(pattern, na=False))\n",
      "\n",
      "pattern:\n",
      "цветняшкишоу\n",
      "shape 83411\n",
      "pred: 5 base:  6\n",
      "---  Enchantimals (Эншантималс)\n",
      "stop_pattern None\n",
      "stpat: None\n",
      "(df.target == 'none') & \n",
      "(df.reel_name.fillna('').astype(str).str.lower().str.contains(pattern, na=False))\n",
      "\n",
      "pattern:\n",
      "энчантималс|enchantimals\n",
      "shape 83411\n",
      "pred: 4 base:  4\n",
      "---  Вспыш\n",
      "stop_pattern None\n",
      "stpat: None\n",
      "(df.target == 'none') & \n",
      "(df.reel_name.fillna('').astype(str).str.lower().str.contains(pattern, na=False))\n",
      "\n",
      "pattern:\n",
      "вспыш\n",
      "shape 83411\n",
      "pred: 3 base:  3\n",
      "order 1\n",
      "---  ЖилаБыла Царевна\n",
      "stop_pattern None\n",
      "stpat: None\n",
      "(df.target == 'none') & \n",
      "(df.text.fillna('').astype(str).str.lower().str.contains(pattern, na=False))\n",
      "\n",
      "pattern:\n",
      "жилабыла\\ царевна|жила\\ была\\ царевна\n",
      "shape 83411\n",
      "pred: 231 base:  229\n",
      "---  Фиксики\n",
      "stop_pattern stop_words_regex\n",
      "stpat: \n",
      "stop_words_regex = '|'.join([f'{stop_word.lower()}' for stop_word in stop_words])\n",
      "\n",
      "(df.target == 'none') & \n",
      "   (df.reel_name.fillna('').astype(str).str.lower().str.contains(pattern, na=False))\n",
      "& ~(df.text.fillna('').astype(str).str.lower().str.contains(stop_words_regex, na=False))\n",
      "\n",
      "pattern:\n",
      "фиксик|fixies\n",
      "shape 83411\n",
      "pred: 154 base:  151\n",
      "---  Приключения Пети и Волка\n",
      "stop_pattern stop_pattern\n",
      "stpat: \n",
      "stop_pattern = '|'.join(map(lambda word: re.escape(word.lower()), stop_words))\n",
      "\n",
      "(df.target == 'none') & \n",
      "(df.text.fillna('').astype(str).str.lower().str.contains(pattern, na=False) &\n",
      "~df.reel_name.fillna('').astype(str).str.lower().str.contains(stop_pattern, na=False)) \n",
      "&\n",
      "(df.text.fillna('').astype(str).str.len() < 270)\n",
      "\n",
      "pattern:\n",
      "приключения\\ пети\\ и\\ волка|приключений\\ пети\\ и\\ волка\n",
      "shape 83411\n",
      "pred: 38 base:  41\n",
      "---  Чебурашка\n",
      "stop_pattern None\n",
      "stpat: None\n",
      "(df.target == 'none') & \n",
      "(df.reel_name.fillna('').astype(str).str.lower().str.contains(pattern, na=False))\n",
      "\n",
      "pattern:\n",
      "чебурашк|шапокляк|крокодил\\ гена\n",
      "shape 83411\n",
      "pred: 9 base:  8\n",
      "order 2\n",
      "---  Оранжевая корова\n",
      "stop_pattern None\n",
      "stpat: None\n",
      "(df.target == 'none') & \n",
      "(df.reel_name.fillna('').astype(str).str.lower().str.contains(pattern, na=False)) \n",
      "| (df.yt_channel_name.fillna('').astype(str).str.lower().str.contains(pattern, na=False))\n",
      "\n",
      "pattern:\n",
      "las\\ vacas\\ naranjas|оранжевая\\ корова|оранжевой\\ коровы|оранжеваякорова|orange\\ moocow|orangemoocoo|зо\\ и\\ бо|\\ бо\\ \n",
      "shape 83411\n",
      "pred: 225 base:  227\n",
      "---  Синий трактор\n",
      "stop_pattern None\n",
      "stpat: None\n",
      "(df.target == 'none') & \n",
      "(df.reel_name.fillna('').astype(str).str.lower().str.contains(pattern, na=False))\n",
      "\n",
      "pattern:\n",
      "синего\\ трактора|синий\\ трактор\n",
      "shape 83411\n",
      "pred: 67 base:  67\n",
      "---  Малышарики\n",
      "stop_pattern None\n",
      "stpat: None\n",
      "(df.target == 'none') & \n",
      "(df.reel_name.fillna('').astype(str).str.lower().str.contains(pattern, na=False))\n",
      "\n",
      "pattern:\n",
      "малышарик\n",
      "shape 83411\n",
      "pred: 60 base:  60\n",
      "---  Царевны\n",
      "stop_pattern None\n",
      "stpat: None\n",
      "(df.target == 'none') & \n",
      "(df.reel_name.fillna('').astype(str).str.lower().str.contains(pattern, na=False))\n",
      "\n",
      "pattern:\n",
      "царевн\n",
      "shape 83411\n",
      "pred: 33 base:  32\n",
      "---  Кукутики\n",
      "stop_pattern None\n",
      "stpat: None\n",
      "(df.target == 'none') & \n",
      "(df.reel_name.fillna('').astype(str).str.lower().str.contains(pattern, na=False))\n",
      "\n",
      "pattern:\n",
      "кукутик\n",
      "shape 83411\n",
      "pred: 17 base:  17\n",
      "---  Ну_погоди каникулы\n",
      "stop_pattern None\n",
      "stpat: None\n",
      "(df.target == 'none') & \n",
      "(df.text.fillna('').astype(str).str.lower().str.contains(pattern, na=False)) \n",
      "& (df.reel_name.fillna('').astype(str).str.lower().str.contains('союзмультфильм', na=False)) \n",
      "& (df.text.fillna('').astype(str).str.len() < 270)\n",
      "\n",
      "pattern:\n",
      "погоди\\ каникулы\n",
      "shape 83411\n",
      "pred: 10 base:  7\n"
     ]
    }
   ],
   "source": [
    "process_data(dtr,d,meth,verbose=True)"
   ]
  },
  {
   "cell_type": "markdown",
   "id": "b264f8b5-196e-4cb6-b973-ebc7d94079ef",
   "metadata": {},
   "source": [
    "Функция работает как ожидалось. Классифицируем тестовые данные."
   ]
  },
  {
   "cell_type": "code",
   "execution_count": 406,
   "id": "37826e69-b01a-4a0e-bc84-403fd8a15397",
   "metadata": {},
   "outputs": [],
   "source": [
    "dts['target'] = 'none'"
   ]
  },
  {
   "cell_type": "code",
   "execution_count": 407,
   "id": "1ed4ad34-bb72-487f-9957-df875e6b8de2",
   "metadata": {
    "scrolled": true
   },
   "outputs": [
    {
     "name": "stdout",
     "output_type": "stream",
     "text": [
      "['date', 'reel_name', 'yt_reel_id', 'url', 'text', 'seconds', 'is_shorts', 'broadcast', 'yt_channel_id', 'yt_channel_name', 'yt_ch_url', 'yt_channel_type', 'flag_closed', 'international', 'language', 'target']\n",
      "(55608, 16)\n",
      "order -1\n",
      "---  Чучело-Мяучело\n",
      "stop_pattern None\n",
      "stpat: None\n",
      "(df.target == 'none') & \n",
      "(df.reel_name.fillna('').astype(str).str.lower().str.contains(pattern, na=False))\n",
      "\n",
      "pattern:\n",
      "чучмяуч|чуч\\ мяуч|чучеломяучело\n",
      "shape 55608\n",
      "pred: 40\n",
      "---  Смешарики\n",
      "stop_pattern None\n",
      "stpat: None\n",
      "(df.target == 'none') & \n",
      "(df.reel_name.fillna('').astype(str).str.lower().str.contains(pattern, na=False))\n",
      "\n",
      "pattern:\n",
      "смешарик\n",
      "shape 55608\n",
      "pred: 27\n",
      "---  Акуленок\n",
      "stop_pattern None\n",
      "stpat: None\n",
      "(df.target == 'none') & \n",
      "(df.reel_name.fillna('').astype(str).str.lower().str.contains(pattern, na=False))\n",
      "\n",
      "pattern:\n",
      "акуленок|акулёнок\n",
      "shape 55608\n",
      "pred: 8\n",
      "---  Финник\n",
      "stop_pattern None\n",
      "stpat: None\n",
      "(df.target == 'none') & \n",
      "(df.reel_name.fillna('').astype(str).str.lower().str.contains(pattern, na=False))\n",
      "\n",
      "pattern:\n",
      "финник\n",
      "shape 55608\n",
      "pred: 5\n",
      "order 0\n",
      "---  Маша и медведь\n",
      "stop_pattern None\n",
      "stpat: None\n",
      "(df.target == 'none') & \n",
      " (df.reel_name.fillna('').astype(str).str.lower().str.contains(pattern, na=False))\n",
      " &  (df.is_shorts.fillna('').astype(int) == 0)\n",
      " \n",
      "pattern:\n",
      "masha\\ and\\ the\\ bear|mashaandthebear|маша\\ и\\ медведь|машкины\\ страшилки|машины\\ сказки|masha\\ and\\ friends\n",
      "shape 55608\n",
      "pred: 560\n",
      "---  Говорящий Том\n",
      "stop_pattern None\n",
      "stpat: None\n",
      "(df.target == 'none') & \n",
      "(df.reel_name.fillna('').astype(str).str.lower().str.contains(pattern, na=False))\n",
      "\n",
      "pattern:\n",
      "talking\\ tom\n",
      "shape 55608\n",
      "pred: 393\n",
      "---  Буба\n",
      "stop_pattern None\n",
      "stpat: None\n",
      "(df.target == 'none') & \n",
      "(df.reel_name.fillna('').astype(str).str.lower().str.contains(pattern, na=False))\n",
      "\n",
      "pattern:\n",
      "booba\n",
      "shape 55608\n",
      "pred: 352\n",
      "---  Кошечки собачки\n",
      "stop_pattern None\n",
      "stpat: None\n",
      "(df.target == 'none') & \n",
      "(df.reel_name.fillna('').astype(str).str.lower().str.contains(pattern, na=False))\n",
      "\n",
      "pattern:\n",
      "кошечкисобачки\n",
      "shape 55608\n",
      "pred: 292\n",
      "---  Енотки\n",
      "stop_pattern None\n",
      "stpat: None\n",
      "(df.target == 'none') & \n",
      "(df.reel_name.fillna('').astype(str).str.lower().str.contains(pattern, na=False)) \n",
      "| (df.yt_channel_name.fillna('').astype(str).str.lower().str.contains(pattern, na=False))\n",
      "\n",
      "pattern:\n",
      "الراكون|rockoons|musipaches|енотки\n",
      "shape 55608\n",
      "pred: 253\n",
      "---  Бэтмен\n",
      "stop_pattern None\n",
      "stpat: None\n",
      "(df.target == 'none') & \n",
      "(df.reel_name.fillna('').astype(str).str.lower().str.contains(pattern, na=False))\n",
      "\n",
      "pattern:\n",
      "batman|бэтмен\n",
      "shape 55608\n",
      "pred: 235\n",
      "---  Зебра в клеточку\n",
      "stop_pattern stop_pattern\n",
      "stpat: \n",
      "stop_pattern = '|'.join(map(lambda word: re.escape(word.lower()), stop_words))\n",
      "\n",
      "(df.target == 'none') & \n",
      "(\n",
      "    (df.reel_name.fillna('').astype(str).str.lower().str.contains(pattern, na=False))\n",
      "  | (df.yt_channel_name.fillna('').astype(str).str.lower().str.contains(pattern, na=False))\n",
      ")\n",
      " & ~(df.text.fillna('').astype(str).str.lower().str.contains(stop_pattern, na=False))\n",
      "\n",
      "pattern:\n",
      "зебра\\ в\\ клеточку|зебравклеточку\n",
      "shape 55608\n",
      "pred: 125\n",
      "---  Чик-Чирикино\n",
      "stop_pattern None\n",
      "stpat: None\n",
      "(df.target == 'none') & \n",
      "(df.reel_name.fillna('').astype(str).str.lower().str.contains(pattern, na=False))\n",
      "\n",
      "pattern:\n",
      "чикчирикино\n",
      "shape 55608\n",
      "pred: 92\n",
      "---  Черепашки Ниндзя\n",
      "stop_pattern None\n",
      "stpat: None\n",
      "(df.target == 'none') & \n",
      "(df.reel_name.fillna('').astype(str).str.lower().str.contains(pattern, na=False))\n",
      "\n",
      "pattern:\n",
      "черепашекниндзя|черепашкининдзя\n",
      "shape 55608\n",
      "pred: 70\n",
      "---  Сумка\n",
      "stop_pattern None\n",
      "stpat: None\n",
      "(df.target == 'none') & \n",
      "(df.reel_name.fillna('').astype(str).str.lower().str.contains(pattern, na=False))\n",
      "\n",
      "pattern:\n",
      "чудосумка\n",
      "shape 55608\n",
      "pred: 89\n",
      "---  Чуддики\n",
      "stop_pattern None\n",
      "stpat: None\n",
      "(df.target == 'none') & \n",
      "(df.reel_name.fillna('').astype(str).str.lower().str.contains(pattern, na=False))\n",
      "\n",
      "pattern:\n",
      "oddbod|чуддик\n",
      "shape 55608\n",
      "pred: 58\n",
      "---  My little pony\n",
      "stop_pattern None\n",
      "stpat: None\n",
      "(df.target == 'none') & \n",
      "(df.reel_name.fillna('').astype(str).str.lower().str.contains(pattern, na=False))\n",
      "\n",
      "pattern:\n",
      "my\\ little\\ pony|май\\ литл\\ пони|мой\\ маленький\\ пони\n",
      "shape 55608\n",
      "pred: 54\n",
      "---  Свинка Пеппа\n",
      "stop_pattern None\n",
      "stpat: None\n",
      "(df.target == 'none') & \n",
      "(df.reel_name.fillna('').astype(str).str.lower().str.contains(pattern, na=False))\n",
      "\n",
      "pattern:\n",
      "свинка\\ пеппа|peppa\\ pig|peppa\\ свинья|свинки\\ пеппы\n",
      "shape 55608\n",
      "pred: 46\n",
      "---  Пороро\n",
      "stop_pattern None\n",
      "stpat: None\n",
      "(df.target == 'none') & \n",
      "(df.reel_name.fillna('').astype(str).str.lower().str.contains(pattern, na=False))\n",
      "\n",
      "pattern:\n",
      "pororo\n",
      "shape 55608\n",
      "pred: 34\n",
      "---  Трансформеры\n",
      "stop_pattern None\n",
      "stpat: None\n",
      "(df.target == 'none') & \n",
      "(df.reel_name.fillna('').astype(str).str.lower().str.contains(pattern, na=False))\n",
      "\n",
      "pattern:\n",
      "трансформеры\n",
      "shape 55608\n",
      "pred: 26\n",
      "---  Простоквашино\n",
      "stop_pattern None\n",
      "stpat: None\n",
      "(df.target == 'none') & \n",
      "(df.reel_name.fillna('').astype(str).str.lower().str.contains(pattern, na=False)) \n",
      "& (df.text.fillna('').astype(str).str.lower().str.contains('простоквашино'))\n",
      "\n",
      "pattern:\n",
      "простоквашино|дядя\\ федор|шарик|вера\\ павловна|печкин|матроскошарик|матроскин|дяди\\ федора|гаврюша|галчонок|маргарита\\ егоровна\n",
      "shape 55608\n",
      "pred: 23\n",
      "---  Щенячий патруль\n",
      "stop_pattern None\n",
      "stpat: None\n",
      "(df.target == 'none') & \n",
      "(df.reel_name.fillna('').astype(str).str.lower().str.contains(pattern, na=False))\n",
      "\n",
      "pattern:\n",
      "paw\\ patrol\n",
      "shape 55608\n",
      "pred: 22\n",
      "---  Cry babies magic tears\n",
      "stop_pattern None\n",
      "stpat: None\n",
      "(df.target == 'none') & \n",
      "(df.reel_name.fillna('').astype(str).str.lower().str.contains(pattern, na=False))\n",
      "\n",
      "pattern:\n",
      "край\\ бебис\n",
      "shape 55608\n",
      "pred: 14\n",
      "---  Крутиксы\n",
      "stop_pattern None\n",
      "stpat: None\n",
      "(df.target == 'none') & \n",
      "(df.reel_name.fillna('').astype(str).str.contains(pattern, na=False)) \n",
      "& (df.reel_name.fillna('').astype(str).str.contains('Союзмультфильм'))\n",
      "\n",
      "pattern:\n",
      "крутикс|зигги|шикайзер|йанго|рой\\ |роя\\ |гарпи|сол\\ |арешк|сола\\ |звездная\\ академия\n",
      "shape 55608\n",
      "pred: 0\n",
      "---  Губка Боб\n",
      "stop_pattern None\n",
      "stpat: None\n",
      "(df.target == 'none') & \n",
      "(df.reel_name.fillna('').astype(str).str.lower().str.contains(pattern, na=False))\n",
      "\n",
      "pattern:\n",
      "spongebob|sponge\\ bob\n",
      "shape 55608\n",
      "pred: 7\n",
      "---  Лунтик\n",
      "stop_pattern None\n",
      "stpat: None\n",
      "(df.target == 'none') & \n",
      "(df.reel_name.fillna('').astype(str).str.lower().str.contains(pattern, na=False))\n",
      "\n",
      "pattern:\n",
      "лунтик|luntik\n",
      "shape 55608\n",
      "pred: 6\n",
      "---  Симпсоны\n",
      "stop_pattern None\n",
      "stpat: None\n",
      "(df.target == 'none') & \n",
      "(df.reel_name.fillna('').astype(str).str.lower().str.contains(pattern, na=False))\n",
      "\n",
      "pattern:\n",
      "simpson|симпсон\n",
      "shape 55608\n",
      "pred: 6\n",
      "---  Мини-мишки\n",
      "stop_pattern None\n",
      "stpat: None\n",
      "(df.target == 'none') & \n",
      "(df.reel_name.fillna('').astype(str).str.lower().str.contains(pattern, na=False))\n",
      "\n",
      "pattern:\n",
      "минимишки\n",
      "shape 55608\n",
      "pred: 5\n",
      "---  Барбоскины\n",
      "stop_pattern None\n",
      "stpat: None\n",
      "(df.target == 'none') & \n",
      "(df.reel_name.fillna('').astype(str).str.lower().str.contains(pattern, na=False))\n",
      "\n",
      "pattern:\n",
      "барбоскин\n",
      "shape 55608\n",
      "pred: 4\n",
      "---  Котик Мормотик\n",
      "stop_pattern None\n",
      "stpat: None\n",
      "(df.target == 'none') & \n",
      "(df.reel_name.fillna('').astype(str).str.lower().str.contains(pattern, na=False))\n",
      "\n",
      "pattern:\n",
      "мормотик\n",
      "shape 55608\n",
      "pred: 4\n",
      "---  Бременские музыканты\n",
      "stop_pattern None\n",
      "stpat: None\n",
      "(df.target == 'none') & \n",
      "(df.reel_name.fillna('').astype(str).str.lower().str.contains(pattern, na=False))\n",
      "\n",
      "pattern:\n",
      "бременских\\ музыкантов|бременские\\ музыканты\n",
      "shape 55608\n",
      "pred: 3\n",
      "---  Паровозики Чаттингтон\n",
      "stop_pattern None\n",
      "stpat: None\n",
      "(df.target == 'none') & \n",
      "(df.reel_name.fillna('').astype(str).str.lower().str.contains(pattern, na=False))\n",
      "\n",
      "pattern:\n",
      "чаггингтон|chuggington\n",
      "shape 55608\n",
      "pred: 3\n",
      "---  Цветняшки\n",
      "stop_pattern None\n",
      "stpat: None\n",
      "(df.target == 'none') & \n",
      "(df.reel_name.fillna('').astype(str).str.lower().str.contains(pattern, na=False))\n",
      "\n",
      "pattern:\n",
      "цветняшкишоу\n",
      "shape 55608\n",
      "pred: 3\n",
      "---  Enchantimals (Эншантималс)\n",
      "stop_pattern None\n",
      "stpat: None\n",
      "(df.target == 'none') & \n",
      "(df.reel_name.fillna('').astype(str).str.lower().str.contains(pattern, na=False))\n",
      "\n",
      "pattern:\n",
      "энчантималс|enchantimals\n",
      "shape 55608\n",
      "pred: 2\n",
      "---  Вспыш\n",
      "stop_pattern None\n",
      "stpat: None\n",
      "(df.target == 'none') & \n",
      "(df.reel_name.fillna('').astype(str).str.lower().str.contains(pattern, na=False))\n",
      "\n",
      "pattern:\n",
      "вспыш\n",
      "shape 55608\n",
      "pred: 2\n",
      "order 1\n",
      "---  ЖилаБыла Царевна\n",
      "stop_pattern None\n",
      "stpat: None\n",
      "(df.target == 'none') & \n",
      "(df.text.fillna('').astype(str).str.lower().str.contains(pattern, na=False))\n",
      "\n",
      "pattern:\n",
      "жилабыла\\ царевна|жила\\ была\\ царевна\n",
      "shape 55608\n",
      "pred: 156\n",
      "---  Фиксики\n",
      "stop_pattern stop_words_regex\n",
      "stpat: \n",
      "stop_words_regex = '|'.join([f'{stop_word.lower()}' for stop_word in stop_words])\n",
      "\n",
      "(df.target == 'none') & \n",
      "   (df.reel_name.fillna('').astype(str).str.lower().str.contains(pattern, na=False))\n",
      "& ~(df.text.fillna('').astype(str).str.lower().str.contains(stop_words_regex, na=False))\n",
      "\n",
      "pattern:\n",
      "фиксик|fixies\n",
      "shape 55608\n",
      "pred: 110\n",
      "---  Приключения Пети и Волка\n",
      "stop_pattern stop_pattern\n",
      "stpat: \n",
      "stop_pattern = '|'.join(map(lambda word: re.escape(word.lower()), stop_words))\n",
      "\n",
      "(df.target == 'none') & \n",
      "(df.text.fillna('').astype(str).str.lower().str.contains(pattern, na=False) &\n",
      "~df.reel_name.fillna('').astype(str).str.lower().str.contains(stop_pattern, na=False)) \n",
      "&\n",
      "(df.text.fillna('').astype(str).str.len() < 270)\n",
      "\n",
      "pattern:\n",
      "приключения\\ пети\\ и\\ волка|приключений\\ пети\\ и\\ волка\n",
      "shape 55608\n",
      "pred: 26\n",
      "---  Чебурашка\n",
      "stop_pattern None\n",
      "stpat: None\n",
      "(df.target == 'none') & \n",
      "(df.reel_name.fillna('').astype(str).str.lower().str.contains(pattern, na=False))\n",
      "\n",
      "pattern:\n",
      "чебурашк|шапокляк|крокодил\\ гена\n",
      "shape 55608\n",
      "pred: 7\n",
      "order 2\n",
      "---  Оранжевая корова\n",
      "stop_pattern None\n",
      "stpat: None\n",
      "(df.target == 'none') & \n",
      "(df.reel_name.fillna('').astype(str).str.lower().str.contains(pattern, na=False)) \n",
      "| (df.yt_channel_name.fillna('').astype(str).str.lower().str.contains(pattern, na=False))\n",
      "\n",
      "pattern:\n",
      "las\\ vacas\\ naranjas|оранжевая\\ корова|оранжевой\\ коровы|оранжеваякорова|orange\\ moocow|orangemoocoo|зо\\ и\\ бо|\\ бо\\ \n",
      "shape 55608\n",
      "pred: 152\n",
      "---  Синий трактор\n",
      "stop_pattern None\n",
      "stpat: None\n",
      "(df.target == 'none') & \n",
      "(df.reel_name.fillna('').astype(str).str.lower().str.contains(pattern, na=False))\n",
      "\n",
      "pattern:\n",
      "синего\\ трактора|синий\\ трактор\n",
      "shape 55608\n",
      "pred: 45\n",
      "---  Малышарики\n",
      "stop_pattern None\n",
      "stpat: None\n",
      "(df.target == 'none') & \n",
      "(df.reel_name.fillna('').astype(str).str.lower().str.contains(pattern, na=False))\n",
      "\n",
      "pattern:\n",
      "малышарик\n",
      "shape 55608\n",
      "pred: 40\n",
      "---  Царевны\n",
      "stop_pattern None\n",
      "stpat: None\n",
      "(df.target == 'none') & \n",
      "(df.reel_name.fillna('').astype(str).str.lower().str.contains(pattern, na=False))\n",
      "\n",
      "pattern:\n",
      "царевн\n",
      "shape 55608\n",
      "pred: 20\n",
      "---  Кукутики\n",
      "stop_pattern None\n",
      "stpat: None\n",
      "(df.target == 'none') & \n",
      "(df.reel_name.fillna('').astype(str).str.lower().str.contains(pattern, na=False))\n",
      "\n",
      "pattern:\n",
      "кукутик\n",
      "shape 55608\n",
      "pred: 11\n",
      "---  Ну_погоди каникулы\n",
      "stop_pattern None\n",
      "stpat: None\n",
      "(df.target == 'none') & \n",
      "(df.text.fillna('').astype(str).str.lower().str.contains(pattern, na=False)) \n",
      "& (df.reel_name.fillna('').astype(str).str.lower().str.contains('союзмультфильм', na=False)) \n",
      "& (df.text.fillna('').astype(str).str.len() < 270)\n",
      "\n",
      "pattern:\n",
      "погоди\\ каникулы\n",
      "shape 55608\n",
      "pred: 6\n"
     ]
    }
   ],
   "source": [
    "process_data(dtr=dts,d=d,meth=meth,verbose = True)"
   ]
  },
  {
   "cell_type": "code",
   "execution_count": 408,
   "id": "095725cf-1e18-4582-b2b9-0128216a2955",
   "metadata": {},
   "outputs": [
    {
     "data": {
      "text/plain": [
       "(3436, 16)"
      ]
     },
     "execution_count": 408,
     "metadata": {},
     "output_type": "execute_result"
    }
   ],
   "source": [
    "dts[dts['target']!='none'].shape"
   ]
  },
  {
   "cell_type": "markdown",
   "id": "e68ec6b6-e718-49fb-ae07-1f816ef01ac2",
   "metadata": {},
   "source": [
    "Получили 3436 классифицированных объектов. Проверим качество."
   ]
  },
  {
   "cell_type": "code",
   "execution_count": 410,
   "id": "a4f35feb-b483-4758-98bb-7545191f4a37",
   "metadata": {},
   "outputs": [],
   "source": [
    "submission = pd.DataFrame({\n",
    "    'yt_reel_id': dts['yt_reel_id'],\n",
    "    'cartoon': dts.target\n",
    "})"
   ]
  },
  {
   "cell_type": "code",
   "execution_count": 411,
   "id": "1fea1cf8-7949-4394-923c-5189e2e32571",
   "metadata": {},
   "outputs": [
    {
     "name": "stdout",
     "output_type": "stream",
     "text": [
      "Предсказания сохранены в файл C:\\Users\\user\\Documents\\pro\\smf\\subs\\subs_05.csv\n"
     ]
    }
   ],
   "source": [
    "save_dir = r'C:\\Users\\user\\Documents\\pro\\smf\\subs'\n",
    "os.makedirs(save_dir, exist_ok=True)\n",
    "\n",
    "subs_path = os.path.join(save_dir, 'subs_05.csv')\n",
    "\n",
    "submission.to_csv(subs_path, index=False)\n",
    "\n",
    "print(f\"Предсказания сохранены в файл {subs_path}\")"
   ]
  },
  {
   "cell_type": "code",
   "execution_count": 412,
   "id": "7e77cc92-c75d-465a-b998-bcc3845933cf",
   "metadata": {},
   "outputs": [
    {
     "data": {
      "text/html": [
       "<div>\n",
       "<style scoped>\n",
       "    .dataframe tbody tr th:only-of-type {\n",
       "        vertical-align: middle;\n",
       "    }\n",
       "\n",
       "    .dataframe tbody tr th {\n",
       "        vertical-align: top;\n",
       "    }\n",
       "\n",
       "    .dataframe thead th {\n",
       "        text-align: right;\n",
       "    }\n",
       "</style>\n",
       "<table border=\"1\" class=\"dataframe\">\n",
       "  <thead>\n",
       "    <tr style=\"text-align: right;\">\n",
       "      <th></th>\n",
       "      <th>yt_reel_id</th>\n",
       "      <th>cartoon</th>\n",
       "    </tr>\n",
       "  </thead>\n",
       "  <tbody>\n",
       "    <tr>\n",
       "      <th>0</th>\n",
       "      <td>RBw4j0aMWyM</td>\n",
       "      <td>none</td>\n",
       "    </tr>\n",
       "    <tr>\n",
       "      <th>1</th>\n",
       "      <td>5wTfpmlZe5k</td>\n",
       "      <td>none</td>\n",
       "    </tr>\n",
       "    <tr>\n",
       "      <th>2</th>\n",
       "      <td>Fd9YA-oDjSo</td>\n",
       "      <td>none</td>\n",
       "    </tr>\n",
       "    <tr>\n",
       "      <th>3</th>\n",
       "      <td>NXCHY_J-5v0</td>\n",
       "      <td>none</td>\n",
       "    </tr>\n",
       "    <tr>\n",
       "      <th>4</th>\n",
       "      <td>XM-GRekoYzs</td>\n",
       "      <td>none</td>\n",
       "    </tr>\n",
       "    <tr>\n",
       "      <th>5</th>\n",
       "      <td>LACMWI1pqdw</td>\n",
       "      <td>Чуддики</td>\n",
       "    </tr>\n",
       "    <tr>\n",
       "      <th>6</th>\n",
       "      <td>7HPiAOD9P3o</td>\n",
       "      <td>none</td>\n",
       "    </tr>\n",
       "    <tr>\n",
       "      <th>7</th>\n",
       "      <td>3-r4M9QJuLA</td>\n",
       "      <td>none</td>\n",
       "    </tr>\n",
       "    <tr>\n",
       "      <th>8</th>\n",
       "      <td>0mM01aIacko</td>\n",
       "      <td>none</td>\n",
       "    </tr>\n",
       "    <tr>\n",
       "      <th>9</th>\n",
       "      <td>6d4qSrL2hMc</td>\n",
       "      <td>none</td>\n",
       "    </tr>\n",
       "  </tbody>\n",
       "</table>\n",
       "</div>"
      ],
      "text/plain": [
       "    yt_reel_id  cartoon\n",
       "0  RBw4j0aMWyM     none\n",
       "1  5wTfpmlZe5k     none\n",
       "2  Fd9YA-oDjSo     none\n",
       "3  NXCHY_J-5v0     none\n",
       "4  XM-GRekoYzs     none\n",
       "5  LACMWI1pqdw  Чуддики\n",
       "6  7HPiAOD9P3o     none\n",
       "7  3-r4M9QJuLA     none\n",
       "8  0mM01aIacko     none\n",
       "9  6d4qSrL2hMc     none"
      ]
     },
     "execution_count": 412,
     "metadata": {},
     "output_type": "execute_result"
    }
   ],
   "source": [
    "submission[:10]"
   ]
  },
  {
   "cell_type": "markdown",
   "id": "4fb157cf-63cc-44ff-9150-ff935e25a7f0",
   "metadata": {},
   "source": [
    "# План автоматизации"
   ]
  },
  {
   "cell_type": "markdown",
   "id": "2e57ec53-bf78-464f-8497-64a38aadbb3b",
   "metadata": {},
   "source": [
    "С помощью ручного каскадного классификатора получилось \"выбить\" на тесте метрику 0,96.  \n",
    "\n",
    "Теперь надо автоматизировать получение этих же правил с помощью МЛ.\n",
    "\n",
    "1. уровень - однозначное определение класса при наличии в поле одного (или какого то минимального количества (т.е. здесь можно штрафовать за количество значащих слов)) ключевых слов (обрезанных слов) или словосочетаний (pattern):  \n",
    "для большинства (34) классов достаточно этого наличия pattern только в поле 'reel_name' (метод reel_name_only).  \n",
    "далее для оставшихся классов для каждого по отдельности срабатывает свое индивидуальное доп.условие  \n",
    "для одного класса: наличия pattern в поле 'reel_name' И значение в поле 'is_shorts'==0 (метод reel_name_and_not_shorts)    \n",
    "для одного класса: наличия pattern в поле 'reel_name' ИЛИ  наличие pattern в поле'yt_channel_name' (метод reel_name_or_channel_name)  \n",
    "для одного класса: (наличия pattern в поле 'reel_name' ИЛИ  наличие pattern в поле'yt_channel_name') И отсутствие в поле 'text' стоп слов (метод reel_or_channel_and_not_text)  \n",
    "для одного класса: наличия pattern в поле 'reel_name' И наличие в поле 'text' одного ключевого слова (метод reel_and_text)  \n",
    "для одного класса: наличия pattern в поле 'reel_name' И наличие в поле 'reel_name' одного ключевого слова (метод reel_and_reel)  \n",
    "\n",
    "2. уровень после выполнения первого  \n",
    "Классы, которые не полчается однозначно классифицировать проверкой простого вхождения ключевых слов в поля датасета.  \n",
    "При любой классификации мы получим \"нахлест\" - т.е. ошибочно классифицируем какие то образцы с фактическим значением 'none' или образцы из других классов.  \n",
    "при нахлесте схожих классов определяем пары классов- 1-й с более специфичными ключевыми словами (например класс \"ЖилаБыла царевна\" и ключевое словосочетание \"ЖилаБыла царевна\"), который будет классифицирован на этом уровне и 2-й с менее спцифичными словами (класс \"Царевны\" ключевое слово \"царевн\"), для классификации на следующем уровне. Поскольку, если бы мы классифицировали на этом уровне сначала класс \"Царевны\" (ключевое слово \"царевн\"), то это полностью бы неправильно классифицировало образцы класса \"ЖилаБыла царевна\", которые тоже содержат такое же ключевое слово.  \n",
    "Т.о. надо реализовать логику выявления нахлеста    \n",
    "используются следующие методы:  \n",
    "text_only  \n",
    "reel_and_not_text  \n",
    "text_and_not_reel_and_lentext_less (проверка на длину поля)  \n",
    "reel_name_only  \n",
    "\n",
    "3. уровень  \n",
    "классификация классов для вторых классов в парах нахлестов с предыдущего уровна"
   ]
  },
  {
   "cell_type": "markdown",
   "id": "2f66d860-7ff7-4eac-8f23-36a12bf34a55",
   "metadata": {},
   "source": [
    "# Определим языки"
   ]
  },
  {
   "cell_type": "markdown",
   "id": "4c05a3e6-c7b7-4f45-a3c7-437fe4297e2b",
   "metadata": {},
   "source": [
    "Для определения языков текстов были использованы функции библитеки langdetect. Но, поскольку обработка всего датасета происходит очень долго, результат распределения был сохранен в модуле langs_clean. Общая информация ниже:"
   ]
  },
  {
   "cell_type": "code",
   "execution_count": 417,
   "id": "be868a56-6dc8-4dcd-85f4-a7c1182b021c",
   "metadata": {},
   "outputs": [],
   "source": [
    "import langs_clean"
   ]
  },
  {
   "cell_type": "code",
   "execution_count": 418,
   "id": "9fc80b35-f1d1-4c95-834a-e4472bbb1360",
   "metadata": {},
   "outputs": [
    {
     "data": {
      "text/plain": [
       "40"
      ]
     },
     "execution_count": 418,
     "metadata": {},
     "output_type": "execute_result"
    }
   ],
   "source": [
    "# Всего детектировано языков в трэйне\n",
    "len(langs_clean.lang_distrib_train)"
   ]
  },
  {
   "cell_type": "code",
   "execution_count": 419,
   "id": "c4a4cb8e-3a81-4f01-8aba-2827b1c8fe6a",
   "metadata": {},
   "outputs": [
    {
     "data": {
      "text/plain": [
       "{'ru': 0.790567,\n",
       " 'en': 0.15209,\n",
       " 'bg': 0.01296,\n",
       " 'pl': 0.009064,\n",
       " 'ja': 0.006546,\n",
       " 'pt': 0.006138,\n",
       " 'et': 0.005815,\n",
       " 'ar': 0.003369,\n",
       " 'uk': 0.003105,\n",
       " 'es': 0.002805}"
      ]
     },
     "execution_count": 419,
     "metadata": {},
     "output_type": "execute_result"
    }
   ],
   "source": [
    "# Первая десятка\n",
    "dict(islice(langs_clean.lang_distrib_train.items(), 10))"
   ]
  },
  {
   "cell_type": "markdown",
   "id": "bc644fd8-1c50-4626-b832-9457b53bae13",
   "metadata": {},
   "source": [
    "'bg' - детектировался как болгарский язык, но посмотрев несколько экземпляров, обнаружил, что это русские тексты."
   ]
  },
  {
   "cell_type": "markdown",
   "id": "4584e3b3-d70a-4b0b-822c-4c65c1582441",
   "metadata": {},
   "source": [
    "# Анализ классов (выявление дисбаланса)"
   ]
  },
  {
   "cell_type": "code",
   "execution_count": 422,
   "id": "7a328196-462a-4288-b20c-735a655fea8a",
   "metadata": {},
   "outputs": [],
   "source": [
    "import imba"
   ]
  },
  {
   "cell_type": "code",
   "execution_count": 423,
   "id": "21b40fbb-d600-4c8b-a1bd-47f2eeeeab10",
   "metadata": {},
   "outputs": [],
   "source": [
    "# reload(imba)"
   ]
  },
  {
   "cell_type": "code",
   "execution_count": 424,
   "id": "3d0aa6fe-e65b-4dc0-9912-623e3098909b",
   "metadata": {},
   "outputs": [
    {
     "name": "stdout",
     "output_type": "stream",
     "text": [
      "Class distribution:\n",
      " cartoon\n",
      "none                          0.937898\n",
      "Маша и медведь                0.010226\n",
      "Говорящий Том                 0.007061\n",
      "Буба                          0.006342\n",
      "Кошечки собачки               0.005239\n",
      "Енотки                        0.004544\n",
      "Бэтмен                        0.004232\n",
      "ЖилаБыла Царевна              0.002745\n",
      "Оранжевая корова              0.002721\n",
      "Зебра в клеточку              0.002254\n",
      "Фиксики                       0.001810\n",
      "Чик-Чирикино                  0.001642\n",
      "Сумка                         0.001607\n",
      "Черепашки Ниндзя              0.001247\n",
      "Чуддики                       0.001031\n",
      "My little pony                0.000971\n",
      "Свинка Пеппа                  0.000827\n",
      "Синий трактор                 0.000803\n",
      "Чучело-Мяучело                0.000767\n",
      "Малышарики                    0.000719\n",
      "Пороро                        0.000611\n",
      "Приключения Пети и Волка      0.000492\n",
      "Смешарики                     0.000492\n",
      "Трансформеры                  0.000480\n",
      "Простоквашино                 0.000420\n",
      "Царевны                       0.000384\n",
      "Щенячий патруль               0.000384\n",
      "Cry babies magic tears        0.000264\n",
      "Крутиксы                      0.000264\n",
      "Кукутики                      0.000204\n",
      "Акуленок                      0.000132\n",
      "Губка Боб                     0.000120\n",
      "Лунтик                        0.000120\n",
      "Симпсоны                      0.000120\n",
      "Финник                        0.000096\n",
      "Мини-мишки                    0.000096\n",
      "Чебурашка                     0.000096\n",
      "Ну_погоди каникулы            0.000084\n",
      "Барбоскины                    0.000084\n",
      "Котик Мормотик                0.000072\n",
      "Бременские музыканты          0.000072\n",
      "Паровозики Чаттингтон         0.000072\n",
      "Цветняшки                     0.000072\n",
      "Enchantimals (Эншантималс)    0.000048\n",
      "Вспыш                         0.000036\n",
      "Name: proportion, dtype: float64\n"
     ]
    },
    {
     "data": {
      "image/png": "[encoded data removed]",
      "text/plain": [
       "<Figure size 640x480 with 1 Axes>"
      ]
     },
     "metadata": {},
     "output_type": "display_data"
    }
   ],
   "source": [
    "imba.plot_class_distribution(dtr,target_column='cartoon', rare_class_only=False, verbose=True)"
   ]
  },
  {
   "cell_type": "markdown",
   "id": "461f55af-9b63-45f1-b687-045e25399dda",
   "metadata": {},
   "source": [
    "Посмотрим только редкие классы"
   ]
  },
  {
   "cell_type": "code",
   "execution_count": 426,
   "id": "b780e568-248b-4c9e-a198-cca916a928a6",
   "metadata": {},
   "outputs": [
    {
     "data": {
      "image/png": "[encoded data removed]",
      "text/plain": [
       "<Figure size 640x480 with 1 Axes>"
      ]
     },
     "metadata": {},
     "output_type": "display_data"
    }
   ],
   "source": [
    "imba.plot_class_distribution(dtr,target_column='cartoon', rare_class_only=True, verbose=False)"
   ]
  },
  {
   "cell_type": "markdown",
   "id": "3a780069-3c90-419e-91ee-3e597ac23ef2",
   "metadata": {},
   "source": [
    "В модуле imba реализованы методы балансировки с помощью SMOTE, но, поскольку будут использоваться модели со встроенными методами работы с насбалансированными классами, на данном этапе датасет не обрабатываю."
   ]
  },
  {
   "cell_type": "markdown",
   "id": "349e9677-34da-428d-aff2-9192212c3a4b",
   "metadata": {},
   "source": [
    "# Модели"
   ]
  },
  {
   "cell_type": "markdown",
   "id": "9eb1d462-5521-41f4-8398-4d87135ef872",
   "metadata": {},
   "source": [
    "## Distillbert"
   ]
  },
  {
   "cell_type": "code",
   "execution_count": 757,
   "id": "11c5a5b9-5f1e-422e-a81c-c92649c38071",
   "metadata": {},
   "outputs": [],
   "source": [
    "import torch\n",
    "from torch import nn\n",
    "from transformers import AutoModel, AutoTokenizer"
   ]
  },
  {
   "cell_type": "markdown",
   "id": "5234f4ad-45bb-4dca-8622-1c8cae3abf17",
   "metadata": {},
   "source": [
    "Создадим гибридную модель (Трансформер + Dense Layers)\n",
    "\n",
    "- Используем трансформер для обработки текстовых данных.\n",
    "- Параллельно обрабатываем не текстовые данные с помощью Dense (полносвязных) слоев.\n",
    "- Объединяем выходы трансформера и Dense слоев перед финальной классификацией."
   ]
  },
  {
   "cell_type": "code",
   "execution_count": 759,
   "id": "9d3c4d19-2452-4549-9afc-13cb8850cdc9",
   "metadata": {},
   "outputs": [],
   "source": [
    "import torch\n",
    "import torch.nn as nn\n",
    "from transformers import AutoModel, AutoTokenizer\n",
    "from sklearn.utils.class_weight import compute_class_weight\n",
    "from sklearn.preprocessing import LabelEncoder\n",
    "import numpy as np\n",
    "from tqdm import tqdm"
   ]
  },
  {
   "cell_type": "code",
   "execution_count": 301,
   "id": "1f9982ff-6446-4183-a650-8d34df0285ea",
   "metadata": {},
   "outputs": [],
   "source": [
    "# Гибридная модель с трансформером и числовыми признаками\n",
    "class HybridModel(nn.Module):\n",
    "    def __init__(self, transformer_model_name, num_labels, num_numeric_features):\n",
    "        super(HybridModel, self).__init__()\n",
    "        \n",
    "        # Модель трансформера для текстов (уменьшенная версия DistilBERT)\n",
    "        self.transformer = AutoModel.from_pretrained(transformer_model_name)\n",
    "        \n",
    "        # Полносвязный слой для обработки текстовых данных\n",
    "        self.text_fc = nn.Linear(self.transformer.config.hidden_size, 128)\n",
    "        \n",
    "        # Полносвязный слой для числовых данных (и других нетекстовых признаков)\n",
    "        self.numeric_fc = nn.Linear(num_numeric_features, 128)\n",
    "        \n",
    "        # Финальный классификационный слой\n",
    "        self.classifier = nn.Linear(128 * 2, num_labels)\n",
    "        \n",
    "    def forward(self, text_input, numeric_input):\n",
    "        # Обрабатываем текстовые данные через трансформер\n",
    "        transformer_output = self.transformer(**text_input)\n",
    "        # Используем последнее скрытое состояние и берем среднее по всем токенам\n",
    "        text_features = torch.mean(transformer_output.last_hidden_state, dim=1)\n",
    "        text_features = self.text_fc(text_features)\n",
    "        \n",
    "        # Обрабатываем числовые данные\n",
    "        numeric_features = self.numeric_fc(numeric_input)\n",
    "        \n",
    "        # Объединяем текстовые и числовые признаки\n",
    "        combined_features = torch.cat((text_features, numeric_features), dim=1)\n",
    "        \n",
    "        # Применяем финальный классификационный слой\n",
    "        logits = self.classifier(combined_features)\n",
    "        \n",
    "        return logits"
   ]
  },
  {
   "cell_type": "code",
   "execution_count": 303,
   "id": "1e6d62d3-db17-45a9-ae68-0da53d38c905",
   "metadata": {},
   "outputs": [],
   "source": [
    "# Выбор модели трансформера\n",
    "MODEL_NAME = 'distilbert-base-multilingual-cased'  \n",
    "# Другие возможные модели:\n",
    "# 'distilbert-base-uncased' - еще более легкая версия модели BERT,\n",
    "                            # работает быстрее, но может быть менее точной.\n",
    "# 'bert-base-multilingual-cased' - более мощная версия модели, требует больше памяти.\n",
    "# 'xlm-roberta-base' - мощная многоязычная модель, больше памяти и вычислительных затрат.\n",
    "# Выбор модели влияет на производительность и точность:\n",
    "# более легкие модели требуют меньше памяти, но могут снижать качество результатов.\n",
    "\n",
    "# Изменяемые параметры\n",
    "\n",
    "BATCH_SIZE = 16  # Размер батча. Возможные значения: от 8 до 64.\n",
    "                 # Меньшие значения уменьшают использование памяти,\n",
    "                 # но увеличивают количество шагов на эпоху.\n",
    "GRADIENT_ACCUMULATION_STEPS = 4  # Количество шагов для накопления градиентов.\n",
    "                 # Возможные значения: 1-8. Большее значение уменьшает\n",
    "                 # нагрузку на память за счет увеличения времени обучения.\n",
    "MAX_SEQ_LENGTH = 256  # Максимальная длина последовательности (в токенах).\n",
    "                 # Возможные значения: от 64 до 512. Меньшие значения\n",
    "                 # уменьшают использование памяти, но могут обрезать важные части текста.\n",
    "\n",
    "LEARNING_RATE = 1e-5  # Скорость обучения. Возможные значения: 1e-6 - 1e-4.\n",
    "                 # Меньшие значения могут потребовать больше эпох для обучения,\n",
    "                 # но сделать обучение более стабильным."
   ]
  },
  {
   "cell_type": "code",
   "execution_count": 307,
   "id": "139dbe90-6d74-4b7b-b6ed-6e5bd8d7bfc9",
   "metadata": {},
   "outputs": [],
   "source": [
    "num_epochs = 5\n",
    "num_classes = 45"
   ]
  },
  {
   "cell_type": "code",
   "execution_count": 309,
   "id": "951b8f2a-da0c-431c-8080-b182a4712118",
   "metadata": {},
   "outputs": [
    {
     "name": "stderr",
     "output_type": "stream",
     "text": [
      "C:\\ProgramData\\anaconda3\\Lib\\site-packages\\transformers\\tokenization_utils_base.py:1601: FutureWarning: `clean_up_tokenization_spaces` was not set. It will be set to `True` by default. This behavior will be depracted in transformers v4.45, and will be then set to `False` by default. For more details check this issue: https://github.com/huggingface/transformers/issues/31884\n",
      "  warnings.warn(\n"
     ]
    }
   ],
   "source": [
    "# Инициализируем токенизатор и модель\n",
    "tokenizer = AutoTokenizer.from_pretrained(MODEL_NAME)\n",
    "device = torch.device('cuda' if torch.cuda.is_available() else 'cpu')"
   ]
  },
  {
   "cell_type": "code",
   "execution_count": 311,
   "id": "74301318-9d38-43fb-bc2e-1915680c2544",
   "metadata": {},
   "outputs": [],
   "source": [
    "# # Функция для разделения данных на батчи с одинаковым размером для текста и числовых признаков\n",
    "# def batch_loader(text_encodings, numeric_features, labels, batch_size):\n",
    "#     for i in range(0, len(labels), batch_size):\n",
    "#         yield {k: v[i:i + batch_size] for k, v in text_encodings.items()}, numeric_features[i:i + batch_size], labels[i:i + batch_size]\n",
    "\n",
    "# Функция для разделения данных на батчи (для предсказания метки не нужны)\n",
    "def batch_loader(text_encodings, numeric_features, labels=None, batch_size=32):\n",
    "    data_size = len(numeric_features)  # используем размер числовых признаков (или текстов, они одинаковы по размеру)\n",
    "    \n",
    "    for i in range(0, data_size, batch_size):\n",
    "        if labels is not None:\n",
    "            yield {k: v[i:i + batch_size] for k, v in text_encodings.items()}, numeric_features[i:i + batch_size], labels[i:i + batch_size]\n",
    "        else:\n",
    "            yield {k: v[i:i + batch_size] for k, v in text_encodings.items()}, numeric_features[i:i + batch_size]"
   ]
  },
  {
   "cell_type": "code",
   "execution_count": 313,
   "id": "e16ceefb-444f-4f02-835d-eeaf81bed901",
   "metadata": {},
   "outputs": [],
   "source": [
    "# Функция для токенизации и обработки признаков\n",
    "def preprocess_data(df, tokenizer, max_seq_length, is_train=True, le_broadcast=None, le_channel_type=None):\n",
    "    \"\"\"\n",
    "    Функция для токенизации текстовых данных и обработки числовых/категориальных признаков.\n",
    "    \n",
    "    Аргументы:\n",
    "    - df: DataFrame с данными\n",
    "    - tokenizer: токенайзер для текстовых данных\n",
    "    - max_seq_length: максимальная длина последовательности для токенайзера\n",
    "    - is_train: булево значение, указывающее, тренировочный ли это набор данных (True) или тестовый (False)\n",
    "    - le_broadcast: объект LabelEncoder для поля broadcast (используется, если is_train=False)\n",
    "    - le_channel_type: объект LabelEncoder для поля yt_channel_type (используется, если is_train=False)\n",
    "    \n",
    "    Возвращает:\n",
    "    - text_encodings: токенизированные текстовые данные\n",
    "    - numeric_features: тензор с числовыми признаками\n",
    "    - (le_broadcast, le_channel_type): возвращает энкодеры, если is_train=True, иначе None\n",
    "    \"\"\"\n",
    "    \n",
    "    # 1. Объединение текстовых полей для токенизации\n",
    "    df['combined_text'] = df['text'] + ' ' + df['reel_name']\n",
    "\n",
    "    # 2. Токенизация текста\n",
    "    text_encodings = tokenizer(\n",
    "        list(df['combined_text']),\n",
    "        truncation=True,\n",
    "        padding=True,\n",
    "        max_length=max_seq_length,\n",
    "        return_tensors=\"pt\"\n",
    "    )\n",
    "    \n",
    "    # 3. Обработка категориальных признаков\n",
    "    if is_train:\n",
    "        # Для тренировочного набора данных создаем энкодеры и обучаем их\n",
    "        le_broadcast = LabelEncoder()\n",
    "        df['broadcast_encoded'] = le_broadcast.fit_transform(df['broadcast'])\n",
    "\n",
    "        le_channel_type = LabelEncoder()\n",
    "        df['yt_channel_type_encoded'] = le_channel_type.fit_transform(df['yt_channel_type'])\n",
    "    else:\n",
    "        # Для тестового набора используем уже обученные энкодеры\n",
    "        df['broadcast_encoded'] = le_broadcast.transform(df['broadcast'])\n",
    "        df['yt_channel_type_encoded'] = le_channel_type.transform(df['yt_channel_type'])\n",
    "    \n",
    "    # 4. Преобразование числовых признаков в тензор\n",
    "    numeric_features = torch.tensor(\n",
    "        df[['seconds', 'is_shorts', 'broadcast_encoded', 'yt_channel_type_encoded', \n",
    "            'flag_closed', 'international']].values,\n",
    "        dtype=torch.float32\n",
    "    )\n",
    "    \n",
    "    # Если это тренировочный набор данных, возвращаем также энкодеры\n",
    "    if is_train:\n",
    "        return text_encodings, numeric_features, le_broadcast, le_channel_type\n",
    "    else:\n",
    "        return text_encodings, numeric_features"
   ]
  },
  {
   "cell_type": "code",
   "execution_count": 315,
   "id": "64efbd4f-8226-4129-9f21-8929ad557e3f",
   "metadata": {},
   "outputs": [],
   "source": [
    "train_text_encodings, train_numeric_features, le_broadcast, le_channel_type = preprocess_data(\n",
    "    dtr, tokenizer, MAX_SEQ_LENGTH, is_train=True\n",
    ")"
   ]
  },
  {
   "cell_type": "code",
   "execution_count": 259,
   "id": "e3d14d78-89ed-4fe7-a60a-3621758a2f6f",
   "metadata": {},
   "outputs": [],
   "source": [
    "# train_text_encodings.shape"
   ]
  },
  {
   "cell_type": "code",
   "execution_count": 316,
   "id": "737f8f61-6920-4b7c-8401-7af38c7993c0",
   "metadata": {},
   "outputs": [
    {
     "data": {
      "text/plain": [
       "torch.Size([83411, 6])"
      ]
     },
     "execution_count": 316,
     "metadata": {},
     "output_type": "execute_result"
    }
   ],
   "source": [
    "train_numeric_features.shape"
   ]
  },
  {
   "cell_type": "code",
   "execution_count": 317,
   "id": "1be7c18c-7bcf-4bae-b2a7-8a483231bbaf",
   "metadata": {},
   "outputs": [],
   "source": [
    "# Кодирование меток\n",
    "\n",
    "le = LabelEncoder()\n",
    "y_train = le.fit_transform(dtr['cartoon'])\n",
    "labels = torch.tensor(y_train, dtype=torch.long)"
   ]
  },
  {
   "cell_type": "code",
   "execution_count": 318,
   "id": "f559acda-f949-454a-a5a3-9e17ea3f1c9f",
   "metadata": {},
   "outputs": [],
   "source": [
    "# Создаем модель\n",
    "model = HybridModel(MODEL_NAME, num_labels=num_classes,\n",
    "                    num_numeric_features=train_numeric_features.shape[1])\n",
    "model.to(device)\n",
    "\n",
    "# Вычисляем веса классов\n",
    "class_weights = compute_class_weight('balanced', classes=np.unique(y_train), y=y_train)\n",
    "class_weights = torch.tensor(class_weights, dtype=torch.float).to(device)"
   ]
  },
  {
   "cell_type": "code",
   "execution_count": 319,
   "id": "3a0a7da8-109b-4d69-bbf2-29284c3ed911",
   "metadata": {},
   "outputs": [],
   "source": [
    "# Оптимизатор\n",
    "# Используемый оптимизатор. Возможные альтернативы: Adam, SGD.\n",
    "# AdamW подходит для трансформеров, но может использовать больше памяти, чем SGD.\n",
    "optimizer = torch.optim.AdamW(model.parameters(), lr=LEARNING_RATE) \n",
    "\n",
    "criterion = torch.nn.CrossEntropyLoss(weight=class_weights)"
   ]
  },
  {
   "cell_type": "code",
   "execution_count": 269,
   "id": "0cfa3a31-8b3b-4d78-bcf9-c9fba7563b43",
   "metadata": {},
   "outputs": [],
   "source": [
    "# # Быстрая проверка кода на части данных\n",
    "# # Используем часть данных для быстрой отладки (например, 10% от общего объема)\n",
    "# sample_size = int(0.1 * len(labels))\n",
    "# sample_text_encodings = {k: v[:sample_size] for k, v in text_encodings.items()}\n",
    "# sample_numeric_features = numeric_features[:sample_size]\n",
    "# sample_labels = labels[:sample_size]"
   ]
  },
  {
   "cell_type": "code",
   "execution_count": 271,
   "id": "7927aeaa-fdaf-4d23-acad-d49d420aea0a",
   "metadata": {},
   "outputs": [],
   "source": [
    "# Выбираем все строки, где класс не 'none'\n",
    "rare_class_mask = sample_dtr['cartoon'] != 'none'\n",
    "rare_class_indices = sample_dtr[rare_class_mask].index"
   ]
  },
  {
   "cell_type": "code",
   "execution_count": 273,
   "id": "ba6d000e-65f6-49c4-8427-bf2d846e696b",
   "metadata": {},
   "outputs": [],
   "source": [
    "# Выбираем строки с классом 'none'\n",
    "none_class_mask = sample_dtr['cartoon'] == 'none'\n",
    "none_class_indices = sample_dtr[none_class_mask].index"
   ]
  },
  {
   "cell_type": "code",
   "execution_count": 275,
   "id": "fa5e9db1-551f-4e12-866b-0eab5319425e",
   "metadata": {},
   "outputs": [],
   "source": [
    "# Определяем, какой процент данных класса 'none' добавить (например, 0.1 (10%))\n",
    "frac = 0.1\n",
    "none_sample_size = int(frac * len(none_class_indices))\n",
    "none_sample_indices = np.random.choice(none_class_indices, none_sample_size, replace=False)\n",
    "# none_sample_indices = none_class_indices"
   ]
  },
  {
   "cell_type": "code",
   "execution_count": 277,
   "id": "25162b79-7a27-4fe8-9067-96b525b6f8fd",
   "metadata": {},
   "outputs": [],
   "source": [
    "# none_sample_indices"
   ]
  },
  {
   "cell_type": "code",
   "execution_count": 279,
   "id": "9392580b-d0aa-4279-8600-20f4bd356a1b",
   "metadata": {},
   "outputs": [],
   "source": [
    "# none_class_indices"
   ]
  },
  {
   "cell_type": "code",
   "execution_count": 281,
   "id": "1b254eb6-c458-431b-9810-f64b8ae58afc",
   "metadata": {},
   "outputs": [],
   "source": [
    "# Объединяем индексы редких классов и часть данных класса 'none'\n",
    "selected_indices = np.concatenate([rare_class_indices, none_sample_indices])\n"
   ]
  },
  {
   "cell_type": "code",
   "execution_count": 325,
   "id": "e11be4d5-74b5-4108-9d3d-af13549e9926",
   "metadata": {},
   "outputs": [],
   "source": [
    "selected_indices = dtr.index"
   ]
  },
  {
   "cell_type": "code",
   "execution_count": 327,
   "id": "6bfdb7c3-00e0-4dcd-8869-a07605b7fc8b",
   "metadata": {},
   "outputs": [],
   "source": [
    "# Теперь отбираем данные по этим индексам\n",
    "sample_text_encodings = {k: v[selected_indices] for k, v in train_text_encodings.items()}\n",
    "sample_numeric_features = train_numeric_features[selected_indices]\n",
    "sample_labels = labels[selected_indices]"
   ]
  },
  {
   "cell_type": "code",
   "execution_count": 329,
   "id": "47a07f69-290b-4a3e-b49c-daf712946efd",
   "metadata": {},
   "outputs": [],
   "source": [
    "# Изменим BATCH_SIZE для быстрой проверки\n",
    "BATCH_SIZE = 4  # можно увеличить для большего объема"
   ]
  },
  {
   "cell_type": "code",
   "execution_count": 331,
   "id": "b1d4bdd0-c28b-4c17-8812-66e1fdc6554a",
   "metadata": {},
   "outputs": [
    {
     "name": "stderr",
     "output_type": "stream",
     "text": [
      " 20%|██        | 1/5 [1:02:30<4:10:00, 3750.21s/it]"
     ]
    },
    {
     "name": "stdout",
     "output_type": "stream",
     "text": [
      "Epoch 1/5, Loss: 579579.9195\n"
     ]
    },
    {
     "name": "stderr",
     "output_type": "stream",
     "text": [
      " 40%|████      | 2/5 [15:38:43<27:03:28, 32469.53s/it]"
     ]
    },
    {
     "name": "stdout",
     "output_type": "stream",
     "text": [
      "Epoch 2/5, Loss: 9637.1119\n"
     ]
    },
    {
     "name": "stderr",
     "output_type": "stream",
     "text": [
      " 60%|██████    | 3/5 [16:41:10<10:45:08, 19354.49s/it]"
     ]
    },
    {
     "name": "stdout",
     "output_type": "stream",
     "text": [
      "Epoch 3/5, Loss: 6274.3598\n"
     ]
    },
    {
     "name": "stderr",
     "output_type": "stream",
     "text": [
      " 80%|████████  | 4/5 [17:43:46<3:39:56, 13196.11s/it] "
     ]
    },
    {
     "name": "stdout",
     "output_type": "stream",
     "text": [
      "Epoch 4/5, Loss: 4813.9842\n"
     ]
    },
    {
     "name": "stderr",
     "output_type": "stream",
     "text": [
      "100%|██████████| 5/5 [18:46:20<00:00, 13516.17s/it]  "
     ]
    },
    {
     "name": "stdout",
     "output_type": "stream",
     "text": [
      "Epoch 5/5, Loss: 4250.8140\n"
     ]
    },
    {
     "name": "stderr",
     "output_type": "stream",
     "text": [
      "\n"
     ]
    }
   ],
   "source": [
    "# Обучение с использованием батчей и градиентного накопления\n",
    "for epoch in tqdm(range(num_epochs)):\n",
    "    model.train()\n",
    "    total_loss = 0\n",
    "    \n",
    "    for i, (batch_text, batch_numeric, batch_labels) \\\n",
    "            in enumerate(batch_loader(sample_text_encodings,\n",
    "                                      sample_numeric_features,\n",
    "                                      sample_labels,\n",
    "                                      BATCH_SIZE)):\n",
    "        batch_text = {k: v.to(device) for k, v in batch_text.items()}\n",
    "        batch_numeric = batch_numeric.to(device)\n",
    "        batch_labels = batch_labels.to(device)\n",
    "        \n",
    "        # Forward pass\n",
    "        logits = model(batch_text, batch_numeric)\n",
    "        loss = criterion(logits, batch_labels)\n",
    "        loss = loss / GRADIENT_ACCUMULATION_STEPS  # Делим loss для накопления\n",
    "        \n",
    "        # Backward pass\n",
    "        loss.backward()\n",
    "        \n",
    "        # Шаг оптимизатора на каждые GRADIENT_ACCUMULATION_STEPS\n",
    "        if (i + 1) % GRADIENT_ACCUMULATION_STEPS == 0:\n",
    "            optimizer.step()\n",
    "            optimizer.zero_grad()\n",
    "        \n",
    "        total_loss += loss.item()\n",
    "\n",
    "    print(f'Epoch {epoch + 1}/{num_epochs}, Loss: {total_loss:.4f}')"
   ]
  },
  {
   "cell_type": "code",
   "execution_count": 130,
   "id": "eacf86bd-91eb-4cf2-82be-cf4dfb135400",
   "metadata": {
    "collapsed": true,
    "jupyter": {
     "outputs_hidden": true
    }
   },
   "outputs": [
    {
     "data": {
      "text/plain": [
       "HybridModel(\n",
       "  (transformer): DistilBertModel(\n",
       "    (embeddings): Embeddings(\n",
       "      (word_embeddings): Embedding(119547, 768, padding_idx=0)\n",
       "      (position_embeddings): Embedding(512, 768)\n",
       "      (LayerNorm): LayerNorm((768,), eps=1e-12, elementwise_affine=True)\n",
       "      (dropout): Dropout(p=0.1, inplace=False)\n",
       "    )\n",
       "    (transformer): Transformer(\n",
       "      (layer): ModuleList(\n",
       "        (0-5): 6 x TransformerBlock(\n",
       "          (attention): MultiHeadSelfAttention(\n",
       "            (dropout): Dropout(p=0.1, inplace=False)\n",
       "            (q_lin): Linear(in_features=768, out_features=768, bias=True)\n",
       "            (k_lin): Linear(in_features=768, out_features=768, bias=True)\n",
       "            (v_lin): Linear(in_features=768, out_features=768, bias=True)\n",
       "            (out_lin): Linear(in_features=768, out_features=768, bias=True)\n",
       "          )\n",
       "          (sa_layer_norm): LayerNorm((768,), eps=1e-12, elementwise_affine=True)\n",
       "          (ffn): FFN(\n",
       "            (dropout): Dropout(p=0.1, inplace=False)\n",
       "            (lin1): Linear(in_features=768, out_features=3072, bias=True)\n",
       "            (lin2): Linear(in_features=3072, out_features=768, bias=True)\n",
       "            (activation): GELUActivation()\n",
       "          )\n",
       "          (output_layer_norm): LayerNorm((768,), eps=1e-12, elementwise_affine=True)\n",
       "        )\n",
       "      )\n",
       "    )\n",
       "  )\n",
       "  (text_fc): Linear(in_features=768, out_features=128, bias=True)\n",
       "  (numeric_fc): Linear(in_features=3, out_features=128, bias=True)\n",
       "  (classifier): Linear(in_features=256, out_features=45, bias=True)\n",
       ")"
      ]
     },
     "execution_count": 130,
     "metadata": {},
     "output_type": "execute_result"
    }
   ],
   "source": [
    "# device = torch.device(\"cuda\" if torch.cuda.is_available() else \"cpu\")\n",
    "# model.to(device)  # Перемещаем модель на устройство"
   ]
  },
  {
   "cell_type": "markdown",
   "id": "ea9eacce-4650-43e1-bfc8-19357c5b29c3",
   "metadata": {},
   "source": [
    "Расчет метрик. Перенесем модель и данные на ЦПУ в случае нехватки памяти на ГПУ"
   ]
  },
  {
   "cell_type": "code",
   "execution_count": 140,
   "id": "c5f86154-6cf3-4cc0-88d5-2f329c4e3d67",
   "metadata": {},
   "outputs": [],
   "source": [
    "# model_cpu = model.to('cpu')"
   ]
  },
  {
   "cell_type": "code",
   "execution_count": 148,
   "id": "29c7a03d-2a69-46ed-9eb2-038e8102155a",
   "metadata": {},
   "outputs": [],
   "source": [
    "# sample_text_encodings = {k: v.to(device) for k, v in sample_text_encodings.items()}\n",
    "# sample_numeric_features = sample_numeric_features.to(device)\n",
    "# sample_labels = sample_labels.to(device)"
   ]
  },
  {
   "cell_type": "code",
   "execution_count": 150,
   "id": "e6e77039-f641-46d9-be3d-0fbc30143d80",
   "metadata": {},
   "outputs": [],
   "source": [
    "# sample_text_encodings_cpu = {k: v.to('cpu') for k, v in sample_text_encodings.items()}\n",
    "# sample_numeric_features_cpu = sample_numeric_features.to('cpu')\n",
    "# sample_labels_cpu = sample_labels.to('cpu')  # Если метки тоже на GPU"
   ]
  },
  {
   "cell_type": "code",
   "execution_count": 144,
   "id": "3335635c-8260-4cf0-a739-e9881e6e6f10",
   "metadata": {},
   "outputs": [],
   "source": [
    "# torch.cuda.empty_cache()  # Очищает кеш, но не освобождает всю память"
   ]
  },
  {
   "cell_type": "code",
   "execution_count": 154,
   "id": "aab762d6-4de1-4f30-949a-7e46674f53bd",
   "metadata": {},
   "outputs": [
    {
     "name": "stdout",
     "output_type": "stream",
     "text": [
      "Accuracy: 0.9508452223953963, F1: 0.9407141884465328\n"
     ]
    }
   ],
   "source": [
    "# model_cpu.eval()  # Переключаем модель в режим оценки\n",
    "# with torch.no_grad():  # Отключаем градиенты\n",
    "#     logits = model_cpu(sample_text_encodings_cpu, sample_numeric_features_cpu)\n",
    "#     predicted_probs = torch.softmax(logits, dim=1)  # Вероятности для каждого класса\n",
    "#     predicted_labels = torch.argmax(predicted_probs, dim=1)  # Предсказанные метки\n",
    "\n",
    "#     # Теперь можно рассчитать метрики, например:\n",
    "#     from sklearn.metrics import accuracy_score, f1_score, roc_auc_score\n",
    "\n",
    "#     accuracy = accuracy_score(sample_labels_cpu, predicted_labels)\n",
    "#     f1 = f1_score(sample_labels_cpu, predicted_labels, average='weighted')\n",
    "#     # Если у вас многоклассовая классификация, можно использовать `average='macro'` или 'weighted'\n",
    "    \n",
    "#     print(f'Accuracy: {accuracy}, F1: {f1}')\n"
   ]
  },
  {
   "cell_type": "markdown",
   "id": "80644fbf-c0fc-4e15-8b81-abbb1fa837cb",
   "metadata": {},
   "source": [
    "Значения метрик на трэйне для базовой модели:\n",
    "\n",
    "Accuracy: 0.9508452223953963, F1: 0.9407141884465328"
   ]
  },
  {
   "cell_type": "markdown",
   "id": "8622779e-6ef8-47de-b8a8-fc16c4a67fa4",
   "metadata": {},
   "source": [
    "Посчитаем предикты на тесте"
   ]
  },
  {
   "cell_type": "code",
   "execution_count": 198,
   "id": "10bd9afe-ffa3-4fe2-93ab-d2b8798d2c19",
   "metadata": {},
   "outputs": [],
   "source": [
    "# # Подготовка данных (токенизация тестовых текстов)\n",
    "# test_text_encodings = tokenizer(list(dts['text']), truncation=True,\n",
    "#                                 padding=True, max_length=MAX_SEQ_LENGTH,\n",
    "#                                 return_tensors=\"pt\")\n",
    "# test_numeric_features = torch.tensor(\n",
    "#     dts[['seconds', 'flag_closed', 'international']].values, dtype=torch.float32\n",
    "# )"
   ]
  },
  {
   "cell_type": "code",
   "execution_count": 332,
   "id": "9d2601bb-73eb-4e77-9afd-587713c26a73",
   "metadata": {},
   "outputs": [],
   "source": [
    "test_text_encodings, test_numeric_features = preprocess_data(\n",
    "    dts, tokenizer, MAX_SEQ_LENGTH, is_train=False, le_broadcast=le_broadcast, le_channel_type=le_channel_type\n",
    ")"
   ]
  },
  {
   "cell_type": "code",
   "execution_count": 333,
   "id": "df9567b3-d488-4840-a0fe-a6e8d4dc1616",
   "metadata": {},
   "outputs": [
    {
     "name": "stdout",
     "output_type": "stream",
     "text": [
      "Train numeric features shape: torch.Size([83411, 6])\n",
      "Test numeric features shape: torch.Size([55608, 6])\n"
     ]
    }
   ],
   "source": [
    "print(\"Train numeric features shape:\", train_numeric_features.shape)\n",
    "print(\"Test numeric features shape:\", test_numeric_features.shape)"
   ]
  },
  {
   "cell_type": "code",
   "execution_count": 335,
   "id": "544ff487-ca3b-48dc-8776-c909bd0c6243",
   "metadata": {},
   "outputs": [],
   "source": [
    "# Переключаем модель в режим оценки\n",
    "model.eval()\n",
    "\n",
    "# Отключаем градиенты, чтобы сэкономить память\n",
    "with torch.no_grad():\n",
    "    all_preds = []\n",
    "    \n",
    "    # Прогоняем данные через модель батчами\n",
    "    for batch_text, batch_numeric in batch_loader(test_text_encodings, test_numeric_features, labels=None, batch_size=BATCH_SIZE):\n",
    "        batch_text = {k: v.to(device) for k, v in batch_text.items()}\n",
    "        batch_numeric = batch_numeric.to(device)\n",
    "        \n",
    "        # Получаем предсказания\n",
    "        logits = model(batch_text, batch_numeric)\n",
    "        \n",
    "        # Получаем предсказанные классы\n",
    "        predicted_labels = torch.argmax(logits, dim=1)\n",
    "        \n",
    "        # Сохраняем предсказания\n",
    "        all_preds.extend(predicted_labels.cpu().numpy())"
   ]
  },
  {
   "cell_type": "code",
   "execution_count": 336,
   "id": "f0ed24a3-ce80-4e8b-b6c6-36829f06bfce",
   "metadata": {},
   "outputs": [],
   "source": [
    "# Преобразование предсказаний в DataFrame для сохранения в CSV\n",
    "submission = pd.DataFrame({\n",
    "    'yt_reel_id': dts['yt_reel_id'],  # используем уникальные идентификаторы из поля 'yt_reel_id'\n",
    "    'cartoon': le.inverse_transform(all_preds)  # декодируем обратно классы из индексов\n",
    "})"
   ]
  },
  {
   "cell_type": "code",
   "execution_count": 337,
   "id": "cb9256a3-60b7-4c62-ac0f-4e3dbd9e9094",
   "metadata": {},
   "outputs": [],
   "source": [
    "# Указываем путь к папке для сохранения\n",
    "save_dir = r'C:\\Users\\Ivan\\Documents\\pro\\smf\\subs'\n",
    "os.makedirs(save_dir, exist_ok=True)\n",
    "\n",
    "# Путь для сохранения предиктов\n",
    "subs_path = os.path.join(save_dir, 'subs_03.csv')"
   ]
  },
  {
   "cell_type": "code",
   "execution_count": 338,
   "id": "55fc8c24-7429-40f1-9f07-c05bba832341",
   "metadata": {},
   "outputs": [
    {
     "name": "stdout",
     "output_type": "stream",
     "text": [
      "Предсказания сохранены в файл C:\\Users\\Ivan\\Documents\\pro\\smf\\subs\\subs_03.csv\n"
     ]
    }
   ],
   "source": [
    "# Сохраняем предсказания в CSV для сабмита на Kaggle\n",
    "submission.to_csv(subs_path, index=False)\n",
    "\n",
    "print(f\"Предсказания сохранены в файл {subs_path}\")"
   ]
  },
  {
   "cell_type": "code",
   "execution_count": 346,
   "id": "1e49e129-9b2d-4700-9ee3-b0f8f1ff2368",
   "metadata": {},
   "outputs": [
    {
     "data": {
      "text/plain": [
       "(55608, 2)"
      ]
     },
     "execution_count": 346,
     "metadata": {},
     "output_type": "execute_result"
    }
   ],
   "source": [
    "submission.shape"
   ]
  },
  {
   "cell_type": "code",
   "execution_count": null,
   "id": "40fa961a-a864-4925-ad73-5b5e26d7280a",
   "metadata": {},
   "outputs": [],
   "source": []
  },
  {
   "cell_type": "markdown",
   "id": "99bdbb2c-5b56-42bd-b495-d9e12390adcd",
   "metadata": {},
   "source": [
    "# Model test"
   ]
  },
  {
   "cell_type": "markdown",
   "id": "7913533f-7fa9-4d27-b262-a524fcb82bfd",
   "metadata": {},
   "source": [
    "Используем исходные данные и закроем пропуски"
   ]
  },
  {
   "cell_type": "code",
   "execution_count": 868,
   "id": "18742565-e67d-41c8-9dbd-fe2b396150a4",
   "metadata": {},
   "outputs": [],
   "source": [
    "dtr = dtr_base.copy(deep=True)"
   ]
  },
  {
   "cell_type": "code",
   "execution_count": 870,
   "id": "cd588597-7052-4d94-9bac-7319971b8fe1",
   "metadata": {},
   "outputs": [],
   "source": [
    "missval_handler = promiss.MissingValueHandler(fill_strategy = 'custom_basic', fill_values = promiss.missval_dict)\n",
    "\n",
    "# Подгоняем обработчик на тренировочных данных\n",
    "missval_handler.fit(dtr)\n",
    "dtr = missval_handler.transform(dtr)"
   ]
  },
  {
   "cell_type": "code",
   "execution_count": 872,
   "id": "e5fdd503-8764-403d-9db2-1b8d3c23dc76",
   "metadata": {},
   "outputs": [],
   "source": [
    "import hymo"
   ]
  },
  {
   "cell_type": "code",
   "execution_count": 969,
   "id": "b7e55e1e-ceba-445c-b7c0-61c348a1c8e2",
   "metadata": {},
   "outputs": [
    {
     "data": {
      "text/plain": [
       "<module 'hymo' from 'C:\\\\Users\\\\user\\\\Documents\\\\Pro\\\\smf\\\\src\\\\hymo.py'>"
      ]
     },
     "execution_count": 969,
     "metadata": {},
     "output_type": "execute_result"
    }
   ],
   "source": [
    "reload(hymo)"
   ]
  },
  {
   "cell_type": "code",
   "execution_count": 876,
   "id": "31a8c9ec-6beb-4338-9438-72b6c43fe96d",
   "metadata": {},
   "outputs": [],
   "source": [
    "# Выбор модели трансформера\n",
    "MODEL_NAME = 'distilbert-base-multilingual-cased'  \n",
    "# Другие возможные модели:\n",
    "# 'distilbert-base-uncased' - еще более легкая версия модели BERT,\n",
    "                            # работает быстрее, но может быть менее точной.\n",
    "# 'bert-base-multilingual-cased' - более мощная версия модели, требует больше памяти.\n",
    "# 'xlm-roberta-base' - мощная многоязычная модель, больше памяти и вычислительных затрат.\n",
    "# Выбор модели влияет на производительность и точность:\n",
    "# более легкие модели требуют меньше памяти, но могут снижать качество результатов.\n",
    "\n",
    "# Изменяемые параметры\n",
    "\n",
    "BATCH_SIZE = 16  # Размер батча. Возможные значения: от 8 до 64.\n",
    "                 # Меньшие значения уменьшают использование памяти,\n",
    "                 # но увеличивают количество шагов на эпоху.\n",
    "GRADIENT_ACCUMULATION_STEPS = 4  # Количество шагов для накопления градиентов.\n",
    "                 # Возможные значения: 1-8. Большее значение уменьшает\n",
    "                 # нагрузку на память за счет увеличения времени обучения.\n",
    "MAX_SEQ_LENGTH = 256  # Максимальная длина последовательности (в токенах).\n",
    "                 # Возможные значения: от 64 до 512. Меньшие значения\n",
    "                 # уменьшают использование памяти, но могут обрезать важные части текста.\n",
    "\n",
    "LEARNING_RATE = 1e-5  # Скорость обучения. Возможные значения: 1e-6 - 1e-4.\n",
    "                 # Меньшие значения могут потребовать больше эпох для обучения,\n",
    "                 # но сделать обучение более стабильным."
   ]
  },
  {
   "cell_type": "code",
   "execution_count": 878,
   "id": "5676197f-efa8-4fe3-bd22-bb162c9e2d20",
   "metadata": {},
   "outputs": [],
   "source": [
    "num_epochs = 5\n",
    "num_classes = 45"
   ]
  },
  {
   "cell_type": "code",
   "execution_count": 880,
   "id": "88e1639d-e9e0-4f37-b3ed-fda4826113ab",
   "metadata": {},
   "outputs": [],
   "source": [
    "target = 'cartoon'"
   ]
  },
  {
   "cell_type": "code",
   "execution_count": 971,
   "id": "db6423cf-7098-47f3-8482-99c0f18eb110",
   "metadata": {},
   "outputs": [],
   "source": [
    "# Создадим обработчик данных\n",
    "processor = hymo.DataPreprocessor(transformer_model_name=MODEL_NAME,max_seq_length=MAX_SEQ_LENGTH)"
   ]
  },
  {
   "cell_type": "code",
   "execution_count": 973,
   "id": "62c24a23-fa94-49ec-882b-8b40479fb2d3",
   "metadata": {},
   "outputs": [],
   "source": [
    "# Создадим сниппет данных для теста\n",
    "sample_dtr = processor.get_data(df=dtr,use_snippet=True,\n",
    "                                fields=['is_shorts', 'broadcast',\n",
    "                                        'yt_channel_type', 'flag_closed', 'international'],\n",
    "                                none_obj_count=2,\n",
    "                                rare_obj_count=2)"
   ]
  },
  {
   "cell_type": "code",
   "execution_count": 975,
   "id": "67846cad-566d-48df-93aa-f5763a0c24c5",
   "metadata": {},
   "outputs": [
    {
     "data": {
      "text/plain": [
       "(112, 16)"
      ]
     },
     "execution_count": 975,
     "metadata": {},
     "output_type": "execute_result"
    }
   ],
   "source": [
    "sample_dtr.shape"
   ]
  },
  {
   "cell_type": "code",
   "execution_count": 987,
   "id": "f3149dd9-8694-4c63-b83b-5254150ceaa7",
   "metadata": {},
   "outputs": [
    {
     "data": {
      "text/plain": [
       "Index([ 9852, 22997, 46859, 65629,  1407,  4780, 33801, 72846, 83022, 65565,\n",
       "       ...\n",
       "       48252,  2860, 81458, 54593, 49649, 31319, 12361, 10003, 11164, 12220],\n",
       "      dtype='int64', length=112)"
      ]
     },
     "execution_count": 987,
     "metadata": {},
     "output_type": "execute_result"
    }
   ],
   "source": [
    "sample_dtr.index"
   ]
  },
  {
   "cell_type": "code",
   "execution_count": 977,
   "id": "a4136b1d-8f0b-4124-abd4-be83cc2c08b0",
   "metadata": {},
   "outputs": [],
   "source": [
    "# Создадим модель\n",
    "hymodel = hymo.HybridModel(transformer_model_name=MODEL_NAME,num_labels=num_classes)"
   ]
  },
  {
   "cell_type": "code",
   "execution_count": 979,
   "id": "0d8658fd-7a7a-467b-8de3-c648f88d19b1",
   "metadata": {},
   "outputs": [],
   "source": [
    "# Создадим необходимые объекты для модели\n",
    "hyserv = hymo.ModelService(model=hymodel,transformer_model_name=MODEL_NAME,\n",
    "                           df=sample_dtr,target=target,\n",
    "                            optimizer_type='adam',learning_rate=LEARNING_RATE)"
   ]
  },
  {
   "cell_type": "code",
   "execution_count": 981,
   "id": "be1f7934-467a-4c90-ab3e-2a791cf3c28f",
   "metadata": {},
   "outputs": [
    {
     "data": {
      "text/plain": [
       "tensor([ 3,  3,  3,  3,  3,  3,  3,  3,  3,  3,  3,  3,  3,  3,  3,  3,  3,  3,\n",
       "         3,  3,  3,  3,  3,  3,  0,  0,  1,  1,  2,  2,  4,  4,  5,  5,  6,  6,\n",
       "         7,  7,  8,  8,  9,  9, 10, 10, 11, 11, 12, 12, 13, 13, 14, 14, 15, 15,\n",
       "        16, 16, 17, 17, 18, 18, 19, 19, 20, 20, 21, 21, 22, 22, 23, 23, 24, 24,\n",
       "        25, 25, 26, 26, 27, 27, 28, 28, 29, 29, 30, 30, 31, 31, 32, 32, 33, 33,\n",
       "        34, 34, 35, 35, 36, 36, 37, 37, 38, 38, 39, 39, 40, 40, 41, 41, 42, 42,\n",
       "        43, 43, 44, 44])"
      ]
     },
     "execution_count": 981,
     "metadata": {},
     "output_type": "execute_result"
    }
   ],
   "source": [
    " hyserv.encoded_labels"
   ]
  },
  {
   "cell_type": "code",
   "execution_count": 983,
   "id": "5a73e896-d8e2-4c62-ab14-e92771d05d75",
   "metadata": {},
   "outputs": [],
   "source": [
    "# Подготовим данные\n",
    "text_encodings, numeric_features, le_broadcast, le_channel_type =\\\n",
    "processor.preprocess_data(sample_dtr,is_train=True)"
   ]
  },
  {
   "cell_type": "code",
   "execution_count": 965,
   "id": "4027a95a-adb9-4f62-aaa6-a90c9db6bb5b",
   "metadata": {},
   "outputs": [],
   "source": [
    "# text_encodings"
   ]
  },
  {
   "cell_type": "code",
   "execution_count": 985,
   "id": "a3c469e8-f63b-49d1-a946-3edd6f3eb4e7",
   "metadata": {},
   "outputs": [
    {
     "name": "stdout",
     "output_type": "stream",
     "text": [
      "112\n"
     ]
    },
    {
     "ename": "IndexError",
     "evalue": "index 9852 is out of bounds for dimension 0 with size 112",
     "output_type": "error",
     "traceback": [
      "\u001b[1;31m---------------------------------------------------------------------------\u001b[0m",
      "\u001b[1;31mIndexError\u001b[0m                                Traceback (most recent call last)",
      "Cell \u001b[1;32mIn[985], line 2\u001b[0m\n\u001b[0;32m      1\u001b[0m sample_text_encodings, sample_numeric_features, sample_labels \u001b[38;5;241m=\u001b[39m \\\n\u001b[1;32m----> 2\u001b[0m processor\u001b[38;5;241m.\u001b[39mprepare_data_for_training(sample_dtr,text_encodings, numeric_features,\n\u001b[0;32m      3\u001b[0m                                     hyserv\u001b[38;5;241m.\u001b[39mencoded_labels)\n",
      "File \u001b[1;32m~\\Documents\\Pro\\smf\\src\\hymo.py:315\u001b[0m, in \u001b[0;36mprepare_data_for_training\u001b[1;34m(self, dtr, text_encodings, numeric_features, labels)\u001b[0m\n\u001b[0;32m    313\u001b[0m \n\u001b[0;32m    314\u001b[0m \n\u001b[1;32m--> 315\u001b[0m s Trainer:\n\u001b[0;32m    316\u001b[0m def __init__(self, model, optimizer, criterion, device, gradient_accumulation_steps=1):\n\u001b[0;32m    317\u001b[0m     self.model = model\n",
      "\u001b[1;31mIndexError\u001b[0m: index 9852 is out of bounds for dimension 0 with size 112"
     ]
    }
   ],
   "source": [
    "sample_text_encodings, sample_numeric_features, sample_labels = \\\n",
    "processor.prepare_data_for_training(sample_dtr,text_encodings, numeric_features,\n",
    "                                    hyserv.encoded_labels)"
   ]
  },
  {
   "cell_type": "code",
   "execution_count": null,
   "id": "5e9b01a5-368f-4b49-a93c-f5941e1b0b7c",
   "metadata": {},
   "outputs": [],
   "source": []
  },
  {
   "cell_type": "code",
   "execution_count": null,
   "id": "5044012b-0564-4fc0-93e0-d263c7116794",
   "metadata": {},
   "outputs": [],
   "source": []
  },
  {
   "cell_type": "code",
   "execution_count": null,
   "id": "72867356-30a9-40a9-9445-113aae07655e",
   "metadata": {},
   "outputs": [],
   "source": []
  },
  {
   "cell_type": "code",
   "execution_count": null,
   "id": "9508eb08-aa0f-4ee1-bd4f-c859bf8c2a6c",
   "metadata": {},
   "outputs": [],
   "source": []
  },
  {
   "cell_type": "code",
   "execution_count": null,
   "id": "33ea24de-fcf5-4e80-88fe-0a3d5ecbd38a",
   "metadata": {},
   "outputs": [],
   "source": []
  },
  {
   "cell_type": "code",
   "execution_count": null,
   "id": "b107e275-057f-4cbd-906e-abfefe47b614",
   "metadata": {},
   "outputs": [],
   "source": []
  },
  {
   "cell_type": "code",
   "execution_count": null,
   "id": "198cc4ff-466d-4f9b-b3f6-2981e9173dcb",
   "metadata": {},
   "outputs": [],
   "source": []
  },
  {
   "cell_type": "code",
   "execution_count": 350,
   "id": "ec6bb877-8a00-4f20-8eba-257e62bf96f0",
   "metadata": {},
   "outputs": [
    {
     "name": "stdout",
     "output_type": "stream",
     "text": [
      "Веса модели сохранены по пути: C:\\Users\\Ivan\\Documents\\pro\\smf\\models\\base_model_weights_02.pth\n"
     ]
    }
   ],
   "source": [
    "# Сохранение весов модели\n",
    "torch.save(model.state_dict(), weights_path)\n",
    "print(f'Веса модели сохранены по пути: {weights_path}')"
   ]
  },
  {
   "cell_type": "code",
   "execution_count": 352,
   "id": "dacfe93c-c4da-467b-8155-03e93a9dbec7",
   "metadata": {},
   "outputs": [
    {
     "name": "stdout",
     "output_type": "stream",
     "text": [
      "Вся модель сохранена по пути: C:\\Users\\Ivan\\Documents\\pro\\smf\\models\\base_model_02.pth\n"
     ]
    }
   ],
   "source": [
    "# Сохранение всей модели\n",
    "torch.save(model, model_path)\n",
    "print(f'Вся модель сохранена по пути: {model_path}')"
   ]
  },
  {
   "cell_type": "code",
   "execution_count": 163,
   "id": "998bd81a-7830-46f4-9ec1-be6b07b53bc0",
   "metadata": {},
   "outputs": [
    {
     "name": "stderr",
     "output_type": "stream",
     "text": [
      "C:\\Users\\Ivan\\AppData\\Local\\Temp\\ipykernel_8308\\1233064284.py:1: FutureWarning: You are using `torch.load` with `weights_only=False` (the current default value), which uses the default pickle module implicitly. It is possible to construct malicious pickle data which will execute arbitrary code during unpickling (See https://github.com/pytorch/pytorch/blob/main/SECURITY.md#untrusted-models for more details). In a future release, the default value for `weights_only` will be flipped to `True`. This limits the functions that could be executed during unpickling. Arbitrary objects will no longer be allowed to be loaded via this mode unless they are explicitly allowlisted by the user via `torch.serialization.add_safe_globals`. We recommend you start setting `weights_only=True` for any use case where you don't have full control of the loaded file. Please open an issue on GitHub for any issues related to this experimental feature.\n",
      "  base_model_cpu = torch.load(model_path)\n"
     ]
    },
    {
     "data": {
      "text/plain": [
       "HybridModel(\n",
       "  (transformer): DistilBertModel(\n",
       "    (embeddings): Embeddings(\n",
       "      (word_embeddings): Embedding(119547, 768, padding_idx=0)\n",
       "      (position_embeddings): Embedding(512, 768)\n",
       "      (LayerNorm): LayerNorm((768,), eps=1e-12, elementwise_affine=True)\n",
       "      (dropout): Dropout(p=0.1, inplace=False)\n",
       "    )\n",
       "    (transformer): Transformer(\n",
       "      (layer): ModuleList(\n",
       "        (0-5): 6 x TransformerBlock(\n",
       "          (attention): MultiHeadSelfAttention(\n",
       "            (dropout): Dropout(p=0.1, inplace=False)\n",
       "            (q_lin): Linear(in_features=768, out_features=768, bias=True)\n",
       "            (k_lin): Linear(in_features=768, out_features=768, bias=True)\n",
       "            (v_lin): Linear(in_features=768, out_features=768, bias=True)\n",
       "            (out_lin): Linear(in_features=768, out_features=768, bias=True)\n",
       "          )\n",
       "          (sa_layer_norm): LayerNorm((768,), eps=1e-12, elementwise_affine=True)\n",
       "          (ffn): FFN(\n",
       "            (dropout): Dropout(p=0.1, inplace=False)\n",
       "            (lin1): Linear(in_features=768, out_features=3072, bias=True)\n",
       "            (lin2): Linear(in_features=3072, out_features=768, bias=True)\n",
       "            (activation): GELUActivation()\n",
       "          )\n",
       "          (output_layer_norm): LayerNorm((768,), eps=1e-12, elementwise_affine=True)\n",
       "        )\n",
       "      )\n",
       "    )\n",
       "  )\n",
       "  (text_fc): Linear(in_features=768, out_features=128, bias=True)\n",
       "  (numeric_fc): Linear(in_features=3, out_features=128, bias=True)\n",
       "  (classifier): Linear(in_features=256, out_features=45, bias=True)\n",
       ")"
      ]
     },
     "execution_count": 163,
     "metadata": {},
     "output_type": "execute_result"
    }
   ],
   "source": [
    "base_model_cpu = torch.load(model_path)\n",
    "base_model_cpu.eval()  # Переводим модель в режим оценки"
   ]
  },
  {
   "cell_type": "code",
   "execution_count": null,
   "id": "ba5a86fe-7961-45ae-88e8-09d2408de2c7",
   "metadata": {},
   "outputs": [],
   "source": []
  }
 ],
 "metadata": {
  "kernelspec": {
   "display_name": "Python 3 (ipykernel)",
   "language": "python",
   "name": "python3"
  },
  "language_info": {
   "codemirror_mode": {
    "name": "ipython",
    "version": 3
   },
   "file_extension": ".py",
   "mimetype": "text/x-python",
   "name": "python",
   "nbconvert_exporter": "python",
   "pygments_lexer": "ipython3",
   "version": "3.12.3"
  }
 },
 "nbformat": 4,
 "nbformat_minor": 5
}

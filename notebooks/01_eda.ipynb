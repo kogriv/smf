{
 "cells": [
  {
   "cell_type": "code",
   "execution_count": 2,
   "id": "1cbfbd45-bf95-4129-8223-3eabda096f38",
   "metadata": {},
   "outputs": [],
   "source": [
    "import sys\n",
    "import os\n",
    "from importlib import reload\n",
    "from itertools import islice"
   ]
  },
  {
   "cell_type": "code",
   "execution_count": 4,
   "id": "0c170dd7-f617-406f-bc34-6d262f8888f6",
   "metadata": {},
   "outputs": [],
   "source": [
    "import pandas as pd\n",
    "import numpy as np\n",
    "import matplotlib.pyplot as plt"
   ]
  },
  {
   "cell_type": "code",
   "execution_count": 6,
   "id": "ffcb5a04-882c-4108-b789-8dbd85ad71e5",
   "metadata": {},
   "outputs": [],
   "source": [
    "import re"
   ]
  },
  {
   "cell_type": "code",
   "execution_count": 8,
   "id": "ac2bb826-f485-47ed-af92-5af6a5fa2e12",
   "metadata": {},
   "outputs": [],
   "source": [
    "from sklearn.preprocessing import LabelEncoder\n",
    "from sklearn.model_selection import train_test_split\n",
    "from sklearn.utils.class_weight import compute_class_weight"
   ]
  },
  {
   "cell_type": "code",
   "execution_count": 9,
   "id": "49ff531b-d03b-426d-ba9d-cca3a96b0744",
   "metadata": {},
   "outputs": [],
   "source": [
    "from collections import Counter"
   ]
  },
  {
   "cell_type": "code",
   "execution_count": 10,
   "id": "2e9c70c7-f3e2-45a1-adbe-43704b5aa06b",
   "metadata": {},
   "outputs": [
    {
     "name": "stdout",
     "output_type": "stream",
     "text": [
      "Запуск на локальной машине, клонирование не требуется.\n"
     ]
    }
   ],
   "source": [
    "# Проверяем, выполняется ли код на Kaggle\n",
    "is_kaggle = 'KAGGLE_KERNEL_RUN_TYPE' in os.environ\n",
    "\n",
    "if is_kaggle:\n",
    "    # Проверка, существует ли уже клонированный репозиторий\n",
    "    if not os.path.exists('/kaggle/working/smf'):\n",
    "        !git clone https://github.com/kogriv/smf.git\n",
    "    else:\n",
    "        print(\"Репозиторий уже клонирован.\")\n",
    "else:\n",
    "    print(\"Запуск на локальной машине, клонирование не требуется.\")"
   ]
  },
  {
   "cell_type": "code",
   "execution_count": 14,
   "id": "13bffeb9-b887-4e2c-b1dc-72c1734253ca",
   "metadata": {},
   "outputs": [
    {
     "name": "stdout",
     "output_type": "stream",
     "text": [
      "Local machine: Путь к 'src' добавлен.\n"
     ]
    }
   ],
   "source": [
    "try:\n",
    "    # Путь для локальной машины (определяем корень проекта)\n",
    "    project_root = os.path.abspath(os.path.join(os.getcwd(), \"..\"))\n",
    "    src_path = os.path.join(project_root, \"src\")\n",
    "\n",
    "    # Проверяем, существует ли путь (т.е. файл \"src\" должен быть в корне проекта)\n",
    "    if os.path.exists(src_path):\n",
    "        sys.path.append(src_path)\n",
    "        print(\"Local machine: Путь к 'src' добавлен.\")\n",
    "    else:\n",
    "        raise FileNotFoundError(f\"Path {src_path} not found on local machine.\")\n",
    "\n",
    "except:\n",
    "    try:\n",
    "        # Путь для Kaggle\n",
    "        kaggle_src_path = '/kaggle/working/smf/src'\n",
    "        if os.path.exists(kaggle_src_path):\n",
    "            sys.path.append(kaggle_src_path)\n",
    "            print(\"Kaggle: Путь к 'src' добавлен.\")\n",
    "        else:\n",
    "            raise FileNotFoundError(f\"Path {kaggle_src_path} not found on Kaggle.\")\n",
    "\n",
    "    except Exception as e:\n",
    "        print(f\"Не удалось добавить путь к 'src'. Ошибка: {e}\")"
   ]
  },
  {
   "cell_type": "code",
   "execution_count": 16,
   "id": "2c1017a1-2188-45da-8111-77f66cc2a3e9",
   "metadata": {},
   "outputs": [],
   "source": [
    "import promiss\n",
    "import langs_clean"
   ]
  },
  {
   "cell_type": "code",
   "execution_count": 18,
   "id": "56da88f0-22a4-44fa-a7e3-5b2a1687c16c",
   "metadata": {},
   "outputs": [
    {
     "name": "stdout",
     "output_type": "stream",
     "text": [
      "Train data loaded from local machine\n"
     ]
    }
   ],
   "source": [
    "try:\n",
    "    # Путь для локальной машины\n",
    "    file_path = r'C:\\0\\smf\\train.csv' \n",
    "    dtr = pd.read_csv(file_path, lineterminator='\\n')\n",
    "    print('Train data loaded from local machine')\n",
    "\n",
    "except:\n",
    "    try:\n",
    "        # Путь для Kaggle\n",
    "        file_path = '/kaggle/input/animation-reels-classification/train.csv'\n",
    "        dtr = pd.read_csv(file_path, lineterminator='\\n')\n",
    "        print('Train data loaded from Kaggle')\n",
    "\n",
    "    except Exception as e:\n",
    "        print(f'Train data was not loaded. Error: {e}')"
   ]
  },
  {
   "cell_type": "code",
   "execution_count": 20,
   "id": "8eea8dd3-484a-4601-a017-38cfad24995a",
   "metadata": {},
   "outputs": [
    {
     "name": "stdout",
     "output_type": "stream",
     "text": [
      "Test data loaded from local machine\n"
     ]
    }
   ],
   "source": [
    "try:\n",
    "    # Путь для локальной машины\n",
    "    file_path = r'C:\\0\\smf\\test.csv' \n",
    "    dts = pd.read_csv(file_path, lineterminator='\\n')\n",
    "    print('Test data loaded from local machine')\n",
    "\n",
    "except:\n",
    "    try:\n",
    "        # Путь для Kaggle\n",
    "        file_path = '/kaggle/input/animation-reels-classification/test.csv'\n",
    "        dts = pd.read_csv(file_path, lineterminator='\\n')\n",
    "        print('Test data loaded from Kaggle')\n",
    "\n",
    "    except Exception as e:\n",
    "        print(f'Test data was not loaded. Error: {e}')"
   ]
  },
  {
   "cell_type": "code",
   "execution_count": 22,
   "id": "810ce4e5-ff1c-46b9-954c-dd0713ea721d",
   "metadata": {},
   "outputs": [],
   "source": [
    "pd.set_option('display.max_colwidth', None)"
   ]
  },
  {
   "cell_type": "code",
   "execution_count": 24,
   "id": "b6590a51-f018-4fc7-9613-56c9bce3243c",
   "metadata": {},
   "outputs": [],
   "source": [
    "pd.set_option('display.max_rows', None)"
   ]
  },
  {
   "cell_type": "code",
   "execution_count": 26,
   "id": "0141d29f-de37-42b4-b9fc-a4ea662b205a",
   "metadata": {
    "tags": []
   },
   "outputs": [
    {
     "data": {
      "text/html": [
       "<div>\n",
       "<style scoped>\n",
       "    .dataframe tbody tr th:only-of-type {\n",
       "        vertical-align: middle;\n",
       "    }\n",
       "\n",
       "    .dataframe tbody tr th {\n",
       "        vertical-align: top;\n",
       "    }\n",
       "\n",
       "    .dataframe thead th {\n",
       "        text-align: right;\n",
       "    }\n",
       "</style>\n",
       "<table border=\"1\" class=\"dataframe\">\n",
       "  <thead>\n",
       "    <tr style=\"text-align: right;\">\n",
       "      <th></th>\n",
       "      <th>date</th>\n",
       "      <th>reel_name</th>\n",
       "      <th>yt_reel_id</th>\n",
       "      <th>cartoon</th>\n",
       "      <th>url</th>\n",
       "      <th>text</th>\n",
       "      <th>seconds</th>\n",
       "      <th>is_shorts</th>\n",
       "      <th>broadcast</th>\n",
       "      <th>yt_channel_id</th>\n",
       "      <th>yt_channel_name</th>\n",
       "      <th>yt_ch_url</th>\n",
       "      <th>yt_channel_type</th>\n",
       "      <th>flag_closed</th>\n",
       "      <th>international</th>\n",
       "      <th>language</th>\n",
       "    </tr>\n",
       "  </thead>\n",
       "  <tbody>\n",
       "    <tr>\n",
       "      <th>0</th>\n",
       "      <td>2023-12-30</td>\n",
       "      <td>100 подарков и только один можно оставить себе</td>\n",
       "      <td>PyGZL_fCbSc</td>\n",
       "      <td>none</td>\n",
       "      <td>https://www.youtube.com/watch?v=PyGZL_fCbSc</td>\n",
       "      <td>[100 подарков и только один можно оставить себе]</td>\n",
       "      <td>1854.0</td>\n",
       "      <td>0.0</td>\n",
       "      <td>none</td>\n",
       "      <td>UCcartHVtvAUzfajflyeT_Gg</td>\n",
       "      <td>Miss Katy</td>\n",
       "      <td>https://www.youtube.com/channel/UCcartHVtvAUzfajflyeT_Gg</td>\n",
       "      <td>Блогеры</td>\n",
       "      <td>0.0</td>\n",
       "      <td>0.0</td>\n",
       "      <td>NaN</td>\n",
       "    </tr>\n",
       "  </tbody>\n",
       "</table>\n",
       "</div>"
      ],
      "text/plain": [
       "         date                                       reel_name   yt_reel_id  \\\n",
       "0  2023-12-30  100 подарков и только один можно оставить себе  PyGZL_fCbSc   \n",
       "\n",
       "  cartoon                                          url  \\\n",
       "0    none  https://www.youtube.com/watch?v=PyGZL_fCbSc   \n",
       "\n",
       "                                                text  seconds  is_shorts  \\\n",
       "0  [100 подарков и только один можно оставить себе]    1854.0        0.0   \n",
       "\n",
       "  broadcast             yt_channel_id yt_channel_name  \\\n",
       "0      none  UCcartHVtvAUzfajflyeT_Gg       Miss Katy   \n",
       "\n",
       "                                                  yt_ch_url yt_channel_type  \\\n",
       "0  https://www.youtube.com/channel/UCcartHVtvAUzfajflyeT_Gg         Блогеры   \n",
       "\n",
       "   flag_closed  international language  \n",
       "0          0.0            0.0      NaN  "
      ]
     },
     "execution_count": 26,
     "metadata": {},
     "output_type": "execute_result"
    }
   ],
   "source": [
    "dtr[:1]"
   ]
  },
  {
   "cell_type": "code",
   "execution_count": 28,
   "id": "89c6ac9d-e31d-4480-b77b-873f19062bd6",
   "metadata": {},
   "outputs": [],
   "source": [
    "pd.reset_option('display.max_rows')"
   ]
  },
  {
   "cell_type": "code",
   "execution_count": 30,
   "id": "13277280-cb99-4ba2-93c1-89dc5c7c6aa9",
   "metadata": {},
   "outputs": [
    {
     "name": "stdout",
     "output_type": "stream",
     "text": [
      "broadcast:        ['none' nan 'live' 'upcoming']\n",
      "yt_channel_type:  ['Блогеры' 'Мультфильмы' 'Детские' 'Shorts' nan]\n",
      "flag_closed:      [ 0.  1. nan]\n",
      "international:    [ 0.  1. nan]\n",
      "is_shorts:        [ 0. nan  1.]\n"
     ]
    }
   ],
   "source": [
    "print('broadcast:       ',dtr.broadcast.unique())\n",
    "print('yt_channel_type: ',dtr.yt_channel_type.unique())\n",
    "print('flag_closed:     ',dtr.flag_closed.unique())\n",
    "print('international:   ',dtr.international.unique())\n",
    "print('is_shorts:       ',dtr.is_shorts.unique())"
   ]
  },
  {
   "cell_type": "code",
   "execution_count": 32,
   "id": "97b3e6a1-55f9-4903-bf75-fc4bcbef9c9c",
   "metadata": {},
   "outputs": [
    {
     "data": {
      "text/html": [
       "<div>\n",
       "<style scoped>\n",
       "    .dataframe tbody tr th:only-of-type {\n",
       "        vertical-align: middle;\n",
       "    }\n",
       "\n",
       "    .dataframe tbody tr th {\n",
       "        vertical-align: top;\n",
       "    }\n",
       "\n",
       "    .dataframe thead th {\n",
       "        text-align: right;\n",
       "    }\n",
       "</style>\n",
       "<table border=\"1\" class=\"dataframe\">\n",
       "  <thead>\n",
       "    <tr style=\"text-align: right;\">\n",
       "      <th></th>\n",
       "      <th>is_shorts</th>\n",
       "      <th>min_seconds</th>\n",
       "      <th>mean_seconds</th>\n",
       "      <th>max_seconds</th>\n",
       "    </tr>\n",
       "  </thead>\n",
       "  <tbody>\n",
       "    <tr>\n",
       "      <th>0</th>\n",
       "      <td>0.0</td>\n",
       "      <td>0.0</td>\n",
       "      <td>2023.129919</td>\n",
       "      <td>504055.0</td>\n",
       "    </tr>\n",
       "    <tr>\n",
       "      <th>1</th>\n",
       "      <td>1.0</td>\n",
       "      <td>1.0</td>\n",
       "      <td>27.140457</td>\n",
       "      <td>60.0</td>\n",
       "    </tr>\n",
       "  </tbody>\n",
       "</table>\n",
       "</div>"
      ],
      "text/plain": [
       "   is_shorts  min_seconds  mean_seconds  max_seconds\n",
       "0        0.0          0.0   2023.129919     504055.0\n",
       "1        1.0          1.0     27.140457         60.0"
      ]
     },
     "execution_count": 32,
     "metadata": {},
     "output_type": "execute_result"
    }
   ],
   "source": [
    "pivot_shorts_seconds = dtr.pivot_table(\n",
    "    values='seconds',\n",
    "    index='is_shorts',\n",
    "    aggfunc=['min', 'mean', 'max']\n",
    ")\n",
    "pivot_shorts_seconds.columns = ['min_seconds', 'mean_seconds', 'max_seconds']\n",
    "pivot_shorts_seconds = pivot_shorts_seconds.reset_index()\n",
    "pivot_shorts_seconds"
   ]
  },
  {
   "cell_type": "code",
   "execution_count": 34,
   "id": "f5046b46-8f66-4c05-a477-656bb2504350",
   "metadata": {},
   "outputs": [
    {
     "name": "stdout",
     "output_type": "stream",
     "text": [
      "<class 'pandas.core.frame.DataFrame'>\n",
      "RangeIndex: 83411 entries, 0 to 83410\n",
      "Data columns (total 16 columns):\n",
      " #   Column           Non-Null Count  Dtype  \n",
      "---  ------           --------------  -----  \n",
      " 0   date             83411 non-null  object \n",
      " 1   reel_name        83408 non-null  object \n",
      " 2   yt_reel_id       83411 non-null  object \n",
      " 3   cartoon          83411 non-null  object \n",
      " 4   url              83411 non-null  object \n",
      " 5   text             83411 non-null  object \n",
      " 6   seconds          74653 non-null  float64\n",
      " 7   is_shorts        74653 non-null  float64\n",
      " 8   broadcast        74653 non-null  object \n",
      " 9   yt_channel_id    83366 non-null  object \n",
      " 10  yt_channel_name  83363 non-null  object \n",
      " 11  yt_ch_url        83363 non-null  object \n",
      " 12  yt_channel_type  83363 non-null  object \n",
      " 13  flag_closed      83363 non-null  float64\n",
      " 14  international    83363 non-null  float64\n",
      " 15  language         497 non-null    object \n",
      "dtypes: float64(4), object(12)\n",
      "memory usage: 10.2+ MB\n"
     ]
    }
   ],
   "source": [
    "dtr.info()"
   ]
  },
  {
   "cell_type": "code",
   "execution_count": 36,
   "id": "eea9a06e-9b97-4a0d-b4b7-986f155045d9",
   "metadata": {},
   "outputs": [
    {
     "name": "stdout",
     "output_type": "stream",
     "text": [
      "<class 'pandas.core.frame.DataFrame'>\n",
      "RangeIndex: 55608 entries, 0 to 55607\n",
      "Data columns (total 15 columns):\n",
      " #   Column           Non-Null Count  Dtype  \n",
      "---  ------           --------------  -----  \n",
      " 0   date             55608 non-null  object \n",
      " 1   reel_name        55605 non-null  object \n",
      " 2   yt_reel_id       55608 non-null  object \n",
      " 3   url              55608 non-null  object \n",
      " 4   text             55608 non-null  object \n",
      " 5   seconds          49807 non-null  float64\n",
      " 6   is_shorts        49807 non-null  float64\n",
      " 7   broadcast        49807 non-null  object \n",
      " 8   yt_channel_id    55584 non-null  object \n",
      " 9   yt_channel_name  55580 non-null  object \n",
      " 10  yt_ch_url        55580 non-null  object \n",
      " 11  yt_channel_type  55580 non-null  object \n",
      " 12  flag_closed      55580 non-null  float64\n",
      " 13  international    55580 non-null  float64\n",
      " 14  language         337 non-null    object \n",
      "dtypes: float64(4), object(11)\n",
      "memory usage: 6.4+ MB\n"
     ]
    }
   ],
   "source": [
    "dts.info()"
   ]
  },
  {
   "cell_type": "code",
   "execution_count": 38,
   "id": "77029a17-b93d-4ae0-8118-a0e18d9a8a24",
   "metadata": {},
   "outputs": [
    {
     "data": {
      "text/plain": [
       "83411"
      ]
     },
     "execution_count": 38,
     "metadata": {},
     "output_type": "execute_result"
    }
   ],
   "source": [
    "dtr.yt_reel_id.nunique()"
   ]
  },
  {
   "cell_type": "code",
   "execution_count": 40,
   "id": "5bdc995e-efa6-42d9-8a52-04f26f2c16db",
   "metadata": {},
   "outputs": [
    {
     "data": {
      "text/plain": [
       "45"
      ]
     },
     "execution_count": 40,
     "metadata": {},
     "output_type": "execute_result"
    }
   ],
   "source": [
    "dtr.cartoon.nunique()"
   ]
  },
  {
   "cell_type": "code",
   "execution_count": 42,
   "id": "37e5b50b-2805-4036-a225-08aa94ea9ad4",
   "metadata": {},
   "outputs": [
    {
     "data": {
      "text/plain": [
       "none               0.937898\n",
       "Маша и медведь     0.010226\n",
       "Говорящий Том      0.007061\n",
       "Буба               0.006342\n",
       "Кошечки собачки    0.005239\n",
       "Name: cartoon, dtype: float64"
      ]
     },
     "execution_count": 42,
     "metadata": {},
     "output_type": "execute_result"
    }
   ],
   "source": [
    "dtr.cartoon.value_counts(normalize=True)[:5]"
   ]
  },
  {
   "cell_type": "code",
   "execution_count": 44,
   "id": "57c9cd1f-0184-464c-94e7-d2db26f6afca",
   "metadata": {},
   "outputs": [
    {
     "data": {
      "text/plain": [
       "0"
      ]
     },
     "execution_count": 44,
     "metadata": {},
     "output_type": "execute_result"
    }
   ],
   "source": [
    "dtr.duplicated().sum()"
   ]
  },
  {
   "cell_type": "markdown",
   "id": "b7a3b903-6082-4257-9068-0cef11b02c18",
   "metadata": {},
   "source": [
    "Дубликатов нет"
   ]
  },
  {
   "cell_type": "markdown",
   "id": "01a120c0-293e-4b7c-9cb5-ddc7cc3c9d71",
   "metadata": {
    "tags": []
   },
   "source": [
    "## Пропуски"
   ]
  },
  {
   "cell_type": "code",
   "execution_count": 47,
   "id": "2e6c0a89-3a6e-4523-9757-90f5866a95e4",
   "metadata": {},
   "outputs": [],
   "source": [
    "# reload(promiss)"
   ]
  },
  {
   "cell_type": "markdown",
   "id": "9004ea09-ad21-4a60-837b-6d73d2628603",
   "metadata": {},
   "source": [
    "Использую класс обработчик пропусков в соответствии с указаниями для каждого поля"
   ]
  },
  {
   "cell_type": "code",
   "execution_count": 50,
   "id": "c37c52d6-9d5e-4242-964b-825c3621aff9",
   "metadata": {},
   "outputs": [],
   "source": [
    "# promiss.missval_dict"
   ]
  },
  {
   "cell_type": "code",
   "execution_count": 52,
   "id": "270e752b-cb4e-42ba-8ac8-86acfecdcccd",
   "metadata": {},
   "outputs": [],
   "source": [
    "missval_handler = promiss.MissingValueHandler(fill_strategy = 'custom_basic', fill_values = promiss.missval_dict)"
   ]
  },
  {
   "cell_type": "code",
   "execution_count": 54,
   "id": "1dcb9b7d-03c4-4326-a2c3-5edcdc4292b4",
   "metadata": {},
   "outputs": [
    {
     "data": {
      "text/html": [
       "<style>#sk-container-id-1 {\n",
       "  /* Definition of color scheme common for light and dark mode */\n",
       "  --sklearn-color-text: black;\n",
       "  --sklearn-color-line: gray;\n",
       "  /* Definition of color scheme for unfitted estimators */\n",
       "  --sklearn-color-unfitted-level-0: #fff5e6;\n",
       "  --sklearn-color-unfitted-level-1: #f6e4d2;\n",
       "  --sklearn-color-unfitted-level-2: #ffe0b3;\n",
       "  --sklearn-color-unfitted-level-3: chocolate;\n",
       "  /* Definition of color scheme for fitted estimators */\n",
       "  --sklearn-color-fitted-level-0: #f0f8ff;\n",
       "  --sklearn-color-fitted-level-1: #d4ebff;\n",
       "  --sklearn-color-fitted-level-2: #b3dbfd;\n",
       "  --sklearn-color-fitted-level-3: cornflowerblue;\n",
       "\n",
       "  /* Specific color for light theme */\n",
       "  --sklearn-color-text-on-default-background: var(--sg-text-color, var(--theme-code-foreground, var(--jp-content-font-color1, black)));\n",
       "  --sklearn-color-background: var(--sg-background-color, var(--theme-background, var(--jp-layout-color0, white)));\n",
       "  --sklearn-color-border-box: var(--sg-text-color, var(--theme-code-foreground, var(--jp-content-font-color1, black)));\n",
       "  --sklearn-color-icon: #696969;\n",
       "\n",
       "  @media (prefers-color-scheme: dark) {\n",
       "    /* Redefinition of color scheme for dark theme */\n",
       "    --sklearn-color-text-on-default-background: var(--sg-text-color, var(--theme-code-foreground, var(--jp-content-font-color1, white)));\n",
       "    --sklearn-color-background: var(--sg-background-color, var(--theme-background, var(--jp-layout-color0, #111)));\n",
       "    --sklearn-color-border-box: var(--sg-text-color, var(--theme-code-foreground, var(--jp-content-font-color1, white)));\n",
       "    --sklearn-color-icon: #878787;\n",
       "  }\n",
       "}\n",
       "\n",
       "#sk-container-id-1 {\n",
       "  color: var(--sklearn-color-text);\n",
       "}\n",
       "\n",
       "#sk-container-id-1 pre {\n",
       "  padding: 0;\n",
       "}\n",
       "\n",
       "#sk-container-id-1 input.sk-hidden--visually {\n",
       "  border: 0;\n",
       "  clip: rect(1px 1px 1px 1px);\n",
       "  clip: rect(1px, 1px, 1px, 1px);\n",
       "  height: 1px;\n",
       "  margin: -1px;\n",
       "  overflow: hidden;\n",
       "  padding: 0;\n",
       "  position: absolute;\n",
       "  width: 1px;\n",
       "}\n",
       "\n",
       "#sk-container-id-1 div.sk-dashed-wrapped {\n",
       "  border: 1px dashed var(--sklearn-color-line);\n",
       "  margin: 0 0.4em 0.5em 0.4em;\n",
       "  box-sizing: border-box;\n",
       "  padding-bottom: 0.4em;\n",
       "  background-color: var(--sklearn-color-background);\n",
       "}\n",
       "\n",
       "#sk-container-id-1 div.sk-container {\n",
       "  /* jupyter's `normalize.less` sets `[hidden] { display: none; }`\n",
       "     but bootstrap.min.css set `[hidden] { display: none !important; }`\n",
       "     so we also need the `!important` here to be able to override the\n",
       "     default hidden behavior on the sphinx rendered scikit-learn.org.\n",
       "     See: https://github.com/scikit-learn/scikit-learn/issues/21755 */\n",
       "  display: inline-block !important;\n",
       "  position: relative;\n",
       "}\n",
       "\n",
       "#sk-container-id-1 div.sk-text-repr-fallback {\n",
       "  display: none;\n",
       "}\n",
       "\n",
       "div.sk-parallel-item,\n",
       "div.sk-serial,\n",
       "div.sk-item {\n",
       "  /* draw centered vertical line to link estimators */\n",
       "  background-image: linear-gradient(var(--sklearn-color-text-on-default-background), var(--sklearn-color-text-on-default-background));\n",
       "  background-size: 2px 100%;\n",
       "  background-repeat: no-repeat;\n",
       "  background-position: center center;\n",
       "}\n",
       "\n",
       "/* Parallel-specific style estimator block */\n",
       "\n",
       "#sk-container-id-1 div.sk-parallel-item::after {\n",
       "  content: \"\";\n",
       "  width: 100%;\n",
       "  border-bottom: 2px solid var(--sklearn-color-text-on-default-background);\n",
       "  flex-grow: 1;\n",
       "}\n",
       "\n",
       "#sk-container-id-1 div.sk-parallel {\n",
       "  display: flex;\n",
       "  align-items: stretch;\n",
       "  justify-content: center;\n",
       "  background-color: var(--sklearn-color-background);\n",
       "  position: relative;\n",
       "}\n",
       "\n",
       "#sk-container-id-1 div.sk-parallel-item {\n",
       "  display: flex;\n",
       "  flex-direction: column;\n",
       "}\n",
       "\n",
       "#sk-container-id-1 div.sk-parallel-item:first-child::after {\n",
       "  align-self: flex-end;\n",
       "  width: 50%;\n",
       "}\n",
       "\n",
       "#sk-container-id-1 div.sk-parallel-item:last-child::after {\n",
       "  align-self: flex-start;\n",
       "  width: 50%;\n",
       "}\n",
       "\n",
       "#sk-container-id-1 div.sk-parallel-item:only-child::after {\n",
       "  width: 0;\n",
       "}\n",
       "\n",
       "/* Serial-specific style estimator block */\n",
       "\n",
       "#sk-container-id-1 div.sk-serial {\n",
       "  display: flex;\n",
       "  flex-direction: column;\n",
       "  align-items: center;\n",
       "  background-color: var(--sklearn-color-background);\n",
       "  padding-right: 1em;\n",
       "  padding-left: 1em;\n",
       "}\n",
       "\n",
       "\n",
       "/* Toggleable style: style used for estimator/Pipeline/ColumnTransformer box that is\n",
       "clickable and can be expanded/collapsed.\n",
       "- Pipeline and ColumnTransformer use this feature and define the default style\n",
       "- Estimators will overwrite some part of the style using the `sk-estimator` class\n",
       "*/\n",
       "\n",
       "/* Pipeline and ColumnTransformer style (default) */\n",
       "\n",
       "#sk-container-id-1 div.sk-toggleable {\n",
       "  /* Default theme specific background. It is overwritten whether we have a\n",
       "  specific estimator or a Pipeline/ColumnTransformer */\n",
       "  background-color: var(--sklearn-color-background);\n",
       "}\n",
       "\n",
       "/* Toggleable label */\n",
       "#sk-container-id-1 label.sk-toggleable__label {\n",
       "  cursor: pointer;\n",
       "  display: block;\n",
       "  width: 100%;\n",
       "  margin-bottom: 0;\n",
       "  padding: 0.5em;\n",
       "  box-sizing: border-box;\n",
       "  text-align: center;\n",
       "}\n",
       "\n",
       "#sk-container-id-1 label.sk-toggleable__label-arrow:before {\n",
       "  /* Arrow on the left of the label */\n",
       "  content: \"▸\";\n",
       "  float: left;\n",
       "  margin-right: 0.25em;\n",
       "  color: var(--sklearn-color-icon);\n",
       "}\n",
       "\n",
       "#sk-container-id-1 label.sk-toggleable__label-arrow:hover:before {\n",
       "  color: var(--sklearn-color-text);\n",
       "}\n",
       "\n",
       "/* Toggleable content - dropdown */\n",
       "\n",
       "#sk-container-id-1 div.sk-toggleable__content {\n",
       "  max-height: 0;\n",
       "  max-width: 0;\n",
       "  overflow: hidden;\n",
       "  text-align: left;\n",
       "  /* unfitted */\n",
       "  background-color: var(--sklearn-color-unfitted-level-0);\n",
       "}\n",
       "\n",
       "#sk-container-id-1 div.sk-toggleable__content.fitted {\n",
       "  /* fitted */\n",
       "  background-color: var(--sklearn-color-fitted-level-0);\n",
       "}\n",
       "\n",
       "#sk-container-id-1 div.sk-toggleable__content pre {\n",
       "  margin: 0.2em;\n",
       "  border-radius: 0.25em;\n",
       "  color: var(--sklearn-color-text);\n",
       "  /* unfitted */\n",
       "  background-color: var(--sklearn-color-unfitted-level-0);\n",
       "}\n",
       "\n",
       "#sk-container-id-1 div.sk-toggleable__content.fitted pre {\n",
       "  /* unfitted */\n",
       "  background-color: var(--sklearn-color-fitted-level-0);\n",
       "}\n",
       "\n",
       "#sk-container-id-1 input.sk-toggleable__control:checked~div.sk-toggleable__content {\n",
       "  /* Expand drop-down */\n",
       "  max-height: 200px;\n",
       "  max-width: 100%;\n",
       "  overflow: auto;\n",
       "}\n",
       "\n",
       "#sk-container-id-1 input.sk-toggleable__control:checked~label.sk-toggleable__label-arrow:before {\n",
       "  content: \"▾\";\n",
       "}\n",
       "\n",
       "/* Pipeline/ColumnTransformer-specific style */\n",
       "\n",
       "#sk-container-id-1 div.sk-label input.sk-toggleable__control:checked~label.sk-toggleable__label {\n",
       "  color: var(--sklearn-color-text);\n",
       "  background-color: var(--sklearn-color-unfitted-level-2);\n",
       "}\n",
       "\n",
       "#sk-container-id-1 div.sk-label.fitted input.sk-toggleable__control:checked~label.sk-toggleable__label {\n",
       "  background-color: var(--sklearn-color-fitted-level-2);\n",
       "}\n",
       "\n",
       "/* Estimator-specific style */\n",
       "\n",
       "/* Colorize estimator box */\n",
       "#sk-container-id-1 div.sk-estimator input.sk-toggleable__control:checked~label.sk-toggleable__label {\n",
       "  /* unfitted */\n",
       "  background-color: var(--sklearn-color-unfitted-level-2);\n",
       "}\n",
       "\n",
       "#sk-container-id-1 div.sk-estimator.fitted input.sk-toggleable__control:checked~label.sk-toggleable__label {\n",
       "  /* fitted */\n",
       "  background-color: var(--sklearn-color-fitted-level-2);\n",
       "}\n",
       "\n",
       "#sk-container-id-1 div.sk-label label.sk-toggleable__label,\n",
       "#sk-container-id-1 div.sk-label label {\n",
       "  /* The background is the default theme color */\n",
       "  color: var(--sklearn-color-text-on-default-background);\n",
       "}\n",
       "\n",
       "/* On hover, darken the color of the background */\n",
       "#sk-container-id-1 div.sk-label:hover label.sk-toggleable__label {\n",
       "  color: var(--sklearn-color-text);\n",
       "  background-color: var(--sklearn-color-unfitted-level-2);\n",
       "}\n",
       "\n",
       "/* Label box, darken color on hover, fitted */\n",
       "#sk-container-id-1 div.sk-label.fitted:hover label.sk-toggleable__label.fitted {\n",
       "  color: var(--sklearn-color-text);\n",
       "  background-color: var(--sklearn-color-fitted-level-2);\n",
       "}\n",
       "\n",
       "/* Estimator label */\n",
       "\n",
       "#sk-container-id-1 div.sk-label label {\n",
       "  font-family: monospace;\n",
       "  font-weight: bold;\n",
       "  display: inline-block;\n",
       "  line-height: 1.2em;\n",
       "}\n",
       "\n",
       "#sk-container-id-1 div.sk-label-container {\n",
       "  text-align: center;\n",
       "}\n",
       "\n",
       "/* Estimator-specific */\n",
       "#sk-container-id-1 div.sk-estimator {\n",
       "  font-family: monospace;\n",
       "  border: 1px dotted var(--sklearn-color-border-box);\n",
       "  border-radius: 0.25em;\n",
       "  box-sizing: border-box;\n",
       "  margin-bottom: 0.5em;\n",
       "  /* unfitted */\n",
       "  background-color: var(--sklearn-color-unfitted-level-0);\n",
       "}\n",
       "\n",
       "#sk-container-id-1 div.sk-estimator.fitted {\n",
       "  /* fitted */\n",
       "  background-color: var(--sklearn-color-fitted-level-0);\n",
       "}\n",
       "\n",
       "/* on hover */\n",
       "#sk-container-id-1 div.sk-estimator:hover {\n",
       "  /* unfitted */\n",
       "  background-color: var(--sklearn-color-unfitted-level-2);\n",
       "}\n",
       "\n",
       "#sk-container-id-1 div.sk-estimator.fitted:hover {\n",
       "  /* fitted */\n",
       "  background-color: var(--sklearn-color-fitted-level-2);\n",
       "}\n",
       "\n",
       "/* Specification for estimator info (e.g. \"i\" and \"?\") */\n",
       "\n",
       "/* Common style for \"i\" and \"?\" */\n",
       "\n",
       ".sk-estimator-doc-link,\n",
       "a:link.sk-estimator-doc-link,\n",
       "a:visited.sk-estimator-doc-link {\n",
       "  float: right;\n",
       "  font-size: smaller;\n",
       "  line-height: 1em;\n",
       "  font-family: monospace;\n",
       "  background-color: var(--sklearn-color-background);\n",
       "  border-radius: 1em;\n",
       "  height: 1em;\n",
       "  width: 1em;\n",
       "  text-decoration: none !important;\n",
       "  margin-left: 1ex;\n",
       "  /* unfitted */\n",
       "  border: var(--sklearn-color-unfitted-level-1) 1pt solid;\n",
       "  color: var(--sklearn-color-unfitted-level-1);\n",
       "}\n",
       "\n",
       ".sk-estimator-doc-link.fitted,\n",
       "a:link.sk-estimator-doc-link.fitted,\n",
       "a:visited.sk-estimator-doc-link.fitted {\n",
       "  /* fitted */\n",
       "  border: var(--sklearn-color-fitted-level-1) 1pt solid;\n",
       "  color: var(--sklearn-color-fitted-level-1);\n",
       "}\n",
       "\n",
       "/* On hover */\n",
       "div.sk-estimator:hover .sk-estimator-doc-link:hover,\n",
       ".sk-estimator-doc-link:hover,\n",
       "div.sk-label-container:hover .sk-estimator-doc-link:hover,\n",
       ".sk-estimator-doc-link:hover {\n",
       "  /* unfitted */\n",
       "  background-color: var(--sklearn-color-unfitted-level-3);\n",
       "  color: var(--sklearn-color-background);\n",
       "  text-decoration: none;\n",
       "}\n",
       "\n",
       "div.sk-estimator.fitted:hover .sk-estimator-doc-link.fitted:hover,\n",
       ".sk-estimator-doc-link.fitted:hover,\n",
       "div.sk-label-container:hover .sk-estimator-doc-link.fitted:hover,\n",
       ".sk-estimator-doc-link.fitted:hover {\n",
       "  /* fitted */\n",
       "  background-color: var(--sklearn-color-fitted-level-3);\n",
       "  color: var(--sklearn-color-background);\n",
       "  text-decoration: none;\n",
       "}\n",
       "\n",
       "/* Span, style for the box shown on hovering the info icon */\n",
       ".sk-estimator-doc-link span {\n",
       "  display: none;\n",
       "  z-index: 9999;\n",
       "  position: relative;\n",
       "  font-weight: normal;\n",
       "  right: .2ex;\n",
       "  padding: .5ex;\n",
       "  margin: .5ex;\n",
       "  width: min-content;\n",
       "  min-width: 20ex;\n",
       "  max-width: 50ex;\n",
       "  color: var(--sklearn-color-text);\n",
       "  box-shadow: 2pt 2pt 4pt #999;\n",
       "  /* unfitted */\n",
       "  background: var(--sklearn-color-unfitted-level-0);\n",
       "  border: .5pt solid var(--sklearn-color-unfitted-level-3);\n",
       "}\n",
       "\n",
       ".sk-estimator-doc-link.fitted span {\n",
       "  /* fitted */\n",
       "  background: var(--sklearn-color-fitted-level-0);\n",
       "  border: var(--sklearn-color-fitted-level-3);\n",
       "}\n",
       "\n",
       ".sk-estimator-doc-link:hover span {\n",
       "  display: block;\n",
       "}\n",
       "\n",
       "/* \"?\"-specific style due to the `<a>` HTML tag */\n",
       "\n",
       "#sk-container-id-1 a.estimator_doc_link {\n",
       "  float: right;\n",
       "  font-size: 1rem;\n",
       "  line-height: 1em;\n",
       "  font-family: monospace;\n",
       "  background-color: var(--sklearn-color-background);\n",
       "  border-radius: 1rem;\n",
       "  height: 1rem;\n",
       "  width: 1rem;\n",
       "  text-decoration: none;\n",
       "  /* unfitted */\n",
       "  color: var(--sklearn-color-unfitted-level-1);\n",
       "  border: var(--sklearn-color-unfitted-level-1) 1pt solid;\n",
       "}\n",
       "\n",
       "#sk-container-id-1 a.estimator_doc_link.fitted {\n",
       "  /* fitted */\n",
       "  border: var(--sklearn-color-fitted-level-1) 1pt solid;\n",
       "  color: var(--sklearn-color-fitted-level-1);\n",
       "}\n",
       "\n",
       "/* On hover */\n",
       "#sk-container-id-1 a.estimator_doc_link:hover {\n",
       "  /* unfitted */\n",
       "  background-color: var(--sklearn-color-unfitted-level-3);\n",
       "  color: var(--sklearn-color-background);\n",
       "  text-decoration: none;\n",
       "}\n",
       "\n",
       "#sk-container-id-1 a.estimator_doc_link.fitted:hover {\n",
       "  /* fitted */\n",
       "  background-color: var(--sklearn-color-fitted-level-3);\n",
       "}\n",
       "</style><div id=\"sk-container-id-1\" class=\"sk-top-container\"><div class=\"sk-text-repr-fallback\"><pre>MissingValueHandler(fill_strategy=&#x27;custom_basic&#x27;,\n",
       "                    fill_values={&#x27;broadcast&#x27;: &#x27;agg_mode_by_yt_channel_type&#x27;,\n",
       "                                 &#x27;cartoon&#x27;: &#x27;value_none&#x27;, &#x27;date&#x27;: &#x27;agg_mode&#x27;,\n",
       "                                 &#x27;flag_closed&#x27;: &#x27;agg_mode&#x27;,\n",
       "                                 &#x27;international&#x27;: &#x27;agg_mode&#x27;,\n",
       "                                 &#x27;is_shorts&#x27;: &#x27;agg_mode&#x27;,\n",
       "                                 &#x27;language&#x27;: &#x27;value_NA&#x27;,\n",
       "                                 &#x27;reel_name&#x27;: &#x27;value_NA&#x27;,\n",
       "                                 &#x27;seconds&#x27;: &#x27;agg_median_by_yt_channel_type&#x27;,\n",
       "                                 &#x27;text&#x27;: &#x27;value_NA&#x27;, &#x27;url&#x27;: &#x27;value_NA&#x27;,\n",
       "                                 &#x27;yt_ch_url&#x27;: &#x27;value_NA&#x27;,\n",
       "                                 &#x27;yt_channel_id&#x27;: &#x27;value_NA&#x27;,\n",
       "                                 &#x27;yt_channel_name&#x27;: &#x27;value_NA&#x27;,\n",
       "                                 &#x27;yt_channel_type&#x27;: &#x27;agg_mode&#x27;,\n",
       "                                 &#x27;yt_reel_id&#x27;: &#x27;drop&#x27;})</pre><b>In a Jupyter environment, please rerun this cell to show the HTML representation or trust the notebook. <br />On GitHub, the HTML representation is unable to render, please try loading this page with nbviewer.org.</b></div><div class=\"sk-container\" hidden><div class=\"sk-item\"><div class=\"sk-estimator fitted sk-toggleable\"><input class=\"sk-toggleable__control sk-hidden--visually\" id=\"sk-estimator-id-1\" type=\"checkbox\" checked><label for=\"sk-estimator-id-1\" class=\"sk-toggleable__label fitted sk-toggleable__label-arrow fitted\">&nbsp;MissingValueHandler<span class=\"sk-estimator-doc-link fitted\">i<span>Fitted</span></span></label><div class=\"sk-toggleable__content fitted\"><pre>MissingValueHandler(fill_strategy=&#x27;custom_basic&#x27;,\n",
       "                    fill_values={&#x27;broadcast&#x27;: &#x27;agg_mode_by_yt_channel_type&#x27;,\n",
       "                                 &#x27;cartoon&#x27;: &#x27;value_none&#x27;, &#x27;date&#x27;: &#x27;agg_mode&#x27;,\n",
       "                                 &#x27;flag_closed&#x27;: &#x27;agg_mode&#x27;,\n",
       "                                 &#x27;international&#x27;: &#x27;agg_mode&#x27;,\n",
       "                                 &#x27;is_shorts&#x27;: &#x27;agg_mode&#x27;,\n",
       "                                 &#x27;language&#x27;: &#x27;value_NA&#x27;,\n",
       "                                 &#x27;reel_name&#x27;: &#x27;value_NA&#x27;,\n",
       "                                 &#x27;seconds&#x27;: &#x27;agg_median_by_yt_channel_type&#x27;,\n",
       "                                 &#x27;text&#x27;: &#x27;value_NA&#x27;, &#x27;url&#x27;: &#x27;value_NA&#x27;,\n",
       "                                 &#x27;yt_ch_url&#x27;: &#x27;value_NA&#x27;,\n",
       "                                 &#x27;yt_channel_id&#x27;: &#x27;value_NA&#x27;,\n",
       "                                 &#x27;yt_channel_name&#x27;: &#x27;value_NA&#x27;,\n",
       "                                 &#x27;yt_channel_type&#x27;: &#x27;agg_mode&#x27;,\n",
       "                                 &#x27;yt_reel_id&#x27;: &#x27;drop&#x27;})</pre></div> </div></div></div></div>"
      ],
      "text/plain": [
       "MissingValueHandler(fill_strategy='custom_basic',\n",
       "                    fill_values={'broadcast': 'agg_mode_by_yt_channel_type',\n",
       "                                 'cartoon': 'value_none', 'date': 'agg_mode',\n",
       "                                 'flag_closed': 'agg_mode',\n",
       "                                 'international': 'agg_mode',\n",
       "                                 'is_shorts': 'agg_mode',\n",
       "                                 'language': 'value_NA',\n",
       "                                 'reel_name': 'value_NA',\n",
       "                                 'seconds': 'agg_median_by_yt_channel_type',\n",
       "                                 'text': 'value_NA', 'url': 'value_NA',\n",
       "                                 'yt_ch_url': 'value_NA',\n",
       "                                 'yt_channel_id': 'value_NA',\n",
       "                                 'yt_channel_name': 'value_NA',\n",
       "                                 'yt_channel_type': 'agg_mode',\n",
       "                                 'yt_reel_id': 'drop'})"
      ]
     },
     "execution_count": 54,
     "metadata": {},
     "output_type": "execute_result"
    }
   ],
   "source": [
    "# Подгоняем обработчик на тренировочных данных, исключая целевую переменную 'cartoon'\n",
    "missval_handler.fit(dtr)"
   ]
  },
  {
   "cell_type": "code",
   "execution_count": 56,
   "id": "4da7b9ff-2f71-47fe-9925-ac2ab5b658bd",
   "metadata": {},
   "outputs": [],
   "source": [
    "# dtr.loc[:, dtr.columns != 'cartoon']"
   ]
  },
  {
   "cell_type": "code",
   "execution_count": 58,
   "id": "70c2a0df-c776-4c96-8b8e-d8fcd33ad5cb",
   "metadata": {},
   "outputs": [],
   "source": [
    "# Применяем обработчик к тренировочным данным, исключая 'cartoon'\n",
    "# dtr.loc[:, dtr.columns != 'cartoon'] = missval_handler.transform(dtr.drop(columns=['cartoon']))\n",
    "dtr = missval_handler.transform(dtr)"
   ]
  },
  {
   "cell_type": "code",
   "execution_count": 60,
   "id": "0e54f24c-4e67-401b-b3c1-a0aeaf62564a",
   "metadata": {},
   "outputs": [],
   "source": [
    "# Применяем обработчик к тестовым данным, исключая 'cartoon'\n",
    "# dts.loc[:, dts.columns != 'cartoon'] = missval_handler.transform(dts.drop(columns=['cartoon']))\n",
    "dts = missval_handler.transform(dts)"
   ]
  },
  {
   "cell_type": "code",
   "execution_count": 62,
   "id": "f9767b49-9f59-4709-a9e6-a15b36712195",
   "metadata": {},
   "outputs": [
    {
     "name": "stdout",
     "output_type": "stream",
     "text": [
      "<class 'pandas.core.frame.DataFrame'>\n",
      "RangeIndex: 83411 entries, 0 to 83410\n",
      "Data columns (total 16 columns):\n",
      " #   Column           Non-Null Count  Dtype  \n",
      "---  ------           --------------  -----  \n",
      " 0   date             83411 non-null  object \n",
      " 1   reel_name        83411 non-null  object \n",
      " 2   yt_reel_id       83411 non-null  object \n",
      " 3   cartoon          83411 non-null  object \n",
      " 4   url              83411 non-null  object \n",
      " 5   text             83411 non-null  object \n",
      " 6   seconds          83411 non-null  float64\n",
      " 7   is_shorts        83411 non-null  float64\n",
      " 8   broadcast        83411 non-null  object \n",
      " 9   yt_channel_id    83411 non-null  object \n",
      " 10  yt_channel_name  83411 non-null  object \n",
      " 11  yt_ch_url        83411 non-null  object \n",
      " 12  yt_channel_type  83411 non-null  object \n",
      " 13  flag_closed      83411 non-null  float64\n",
      " 14  international    83411 non-null  float64\n",
      " 15  language         83411 non-null  object \n",
      "dtypes: float64(4), object(12)\n",
      "memory usage: 10.2+ MB\n"
     ]
    }
   ],
   "source": [
    "dtr.info()"
   ]
  },
  {
   "cell_type": "markdown",
   "id": "2f66d860-7ff7-4eac-8f23-36a12bf34a55",
   "metadata": {},
   "source": [
    "# Определим языки"
   ]
  },
  {
   "cell_type": "markdown",
   "id": "4c05a3e6-c7b7-4f45-a3c7-437fe4297e2b",
   "metadata": {},
   "source": [
    "Для определения языков текстов были использованы функции библитеки langdetect. Но, поскольку обработка всего датасета происходит очень долго, результат распределения был сохранен в модуле langs_clean. Общая информация ниже:"
   ]
  },
  {
   "cell_type": "code",
   "execution_count": 66,
   "id": "9fc80b35-f1d1-4c95-834a-e4472bbb1360",
   "metadata": {},
   "outputs": [
    {
     "data": {
      "text/plain": [
       "40"
      ]
     },
     "execution_count": 66,
     "metadata": {},
     "output_type": "execute_result"
    }
   ],
   "source": [
    "# Всего детектировано языков в трэйне\n",
    "len(langs_clean.lang_distrib_train)"
   ]
  },
  {
   "cell_type": "code",
   "execution_count": 68,
   "id": "c4a4cb8e-3a81-4f01-8aba-2827b1c8fe6a",
   "metadata": {},
   "outputs": [
    {
     "data": {
      "text/plain": [
       "{'ru': 0.790567,\n",
       " 'en': 0.15209,\n",
       " 'bg': 0.01296,\n",
       " 'pl': 0.009064,\n",
       " 'ja': 0.006546,\n",
       " 'pt': 0.006138,\n",
       " 'et': 0.005815,\n",
       " 'ar': 0.003369,\n",
       " 'uk': 0.003105,\n",
       " 'es': 0.002805}"
      ]
     },
     "execution_count": 68,
     "metadata": {},
     "output_type": "execute_result"
    }
   ],
   "source": [
    "# Первая десятка\n",
    "dict(islice(langs_clean.lang_distrib_train.items(), 10))"
   ]
  },
  {
   "cell_type": "markdown",
   "id": "bc644fd8-1c50-4626-b832-9457b53bae13",
   "metadata": {},
   "source": [
    "'bg' - детектировался как болгарский язык, но посмотрев несколько экземпляров, обнаружил, что это русские тексты."
   ]
  },
  {
   "cell_type": "markdown",
   "id": "4584e3b3-d70a-4b0b-822c-4c65c1582441",
   "metadata": {},
   "source": [
    "# Анализ классов (выявление дисбаланса)"
   ]
  },
  {
   "cell_type": "code",
   "execution_count": 72,
   "id": "7a328196-462a-4288-b20c-735a655fea8a",
   "metadata": {},
   "outputs": [],
   "source": [
    "import imba"
   ]
  },
  {
   "cell_type": "code",
   "execution_count": 74,
   "id": "21b40fbb-d600-4c8b-a1bd-47f2eeeeab10",
   "metadata": {},
   "outputs": [],
   "source": [
    "# reload(imba)"
   ]
  },
  {
   "cell_type": "code",
   "execution_count": 76,
   "id": "3d0aa6fe-e65b-4dc0-9912-623e3098909b",
   "metadata": {},
   "outputs": [
    {
     "name": "stdout",
     "output_type": "stream",
     "text": [
      "Class distribution:\n",
      " none                          0.937898\n",
      "Маша и медведь                0.010226\n",
      "Говорящий Том                 0.007061\n",
      "Буба                          0.006342\n",
      "Кошечки собачки               0.005239\n",
      "Енотки                        0.004544\n",
      "Бэтмен                        0.004232\n",
      "ЖилаБыла Царевна              0.002745\n",
      "Оранжевая корова              0.002721\n",
      "Зебра в клеточку              0.002254\n",
      "Фиксики                       0.001810\n",
      "Чик-Чирикино                  0.001642\n",
      "Сумка                         0.001607\n",
      "Черепашки Ниндзя              0.001247\n",
      "Чуддики                       0.001031\n",
      "My little pony                0.000971\n",
      "Свинка Пеппа                  0.000827\n",
      "Синий трактор                 0.000803\n",
      "Чучело-Мяучело                0.000767\n",
      "Малышарики                    0.000719\n",
      "Пороро                        0.000611\n",
      "Приключения Пети и Волка      0.000492\n",
      "Смешарики                     0.000492\n",
      "Трансформеры                  0.000480\n",
      "Простоквашино                 0.000420\n",
      "Царевны                       0.000384\n",
      "Щенячий патруль               0.000384\n",
      "Cry babies magic tears        0.000264\n",
      "Крутиксы                      0.000264\n",
      "Кукутики                      0.000204\n",
      "Акуленок                      0.000132\n",
      "Губка Боб                     0.000120\n",
      "Лунтик                        0.000120\n",
      "Симпсоны                      0.000120\n",
      "Финник                        0.000096\n",
      "Мини-мишки                    0.000096\n",
      "Чебурашка                     0.000096\n",
      "Ну_погоди каникулы            0.000084\n",
      "Барбоскины                    0.000084\n",
      "Котик Мормотик                0.000072\n",
      "Бременские музыканты          0.000072\n",
      "Паровозики Чаттингтон         0.000072\n",
      "Цветняшки                     0.000072\n",
      "Enchantimals (Эншантималс)    0.000048\n",
      "Вспыш                         0.000036\n",
      "Name: cartoon, dtype: float64\n"
     ]
    },
    {
     "data": {
      "image/png": "[encoded data removed]",
      "text/plain": [
       "<Figure size 640x480 with 1 Axes>"
      ]
     },
     "metadata": {},
     "output_type": "display_data"
    }
   ],
   "source": [
    "imba.plot_class_distribution(dtr,target_column='cartoon', rare_class_only=False, verbose=True)"
   ]
  },
  {
   "cell_type": "markdown",
   "id": "461f55af-9b63-45f1-b687-045e25399dda",
   "metadata": {},
   "source": [
    "Посмотрим только редкие классы"
   ]
  },
  {
   "cell_type": "code",
   "execution_count": 79,
   "id": "b780e568-248b-4c9e-a198-cca916a928a6",
   "metadata": {},
   "outputs": [
    {
     "data": {
      "image/png": "[encoded data removed]",
      "text/plain": [
       "<Figure size 640x480 with 1 Axes>"
      ]
     },
     "metadata": {},
     "output_type": "display_data"
    }
   ],
   "source": [
    "imba.plot_class_distribution(dtr,target_column='cartoon', rare_class_only=True, verbose=False)"
   ]
  },
  {
   "cell_type": "markdown",
   "id": "3a780069-3c90-419e-91ee-3e597ac23ef2",
   "metadata": {},
   "source": [
    "В модуле imba реализованы методы балансировки с помощью SMOTE, но, поскольку будут использоваться модели со встроенными методами работы с насбалансированными классами, на данном этапе датасет не обрабатываю."
   ]
  },
  {
   "cell_type": "markdown",
   "id": "349e9677-34da-428d-aff2-9192212c3a4b",
   "metadata": {},
   "source": [
    "# Модели"
   ]
  },
  {
   "cell_type": "code",
   "execution_count": 83,
   "id": "11c5a5b9-5f1e-422e-a81c-c92649c38071",
   "metadata": {},
   "outputs": [],
   "source": [
    "import torch\n",
    "from torch import nn\n",
    "from transformers import AutoModel, AutoTokenizer"
   ]
  },
  {
   "cell_type": "markdown",
   "id": "5234f4ad-45bb-4dca-8622-1c8cae3abf17",
   "metadata": {},
   "source": [
    "Создадим гибридную модель (Трансформер + Dense Layers)\n",
    "\n",
    "- Используем трансформер для обработки текстовых данных.\n",
    "- Параллельно обрабатываем не текстовые данные с помощью Dense (полносвязных) слоев.\n",
    "- Объединяем выходы трансформера и Dense слоев перед финальной классификацией."
   ]
  },
  {
   "cell_type": "code",
   "execution_count": 86,
   "id": "85c2d0a5-4cc8-4c34-b07a-a564504768b0",
   "metadata": {},
   "outputs": [],
   "source": [
    "class HybridModel(nn.Module):\n",
    "    def __init__(self, transformer_model_name, num_labels, num_numeric_features):\n",
    "        super(HybridModel, self).__init__()\n",
    "        \n",
    "        # Модель трансформера для текстов\n",
    "        self.transformer = AutoModel.from_pretrained(transformer_model_name)\n",
    "        \n",
    "        # Полносвязный слой для обработки текстовых данных\n",
    "        self.text_fc = nn.Linear(self.transformer.config.hidden_size, 128)\n",
    "        \n",
    "        # Полносвязный слой для числовых данных (и других нетекстовых признаков)\n",
    "        self.numeric_fc = nn.Linear(num_numeric_features, 128)\n",
    "        \n",
    "        # Финальный классификационный слой\n",
    "        self.classifier = nn.Linear(128 * 2, num_labels)\n",
    "        \n",
    "    def forward(self, text_input, numeric_input):\n",
    "        # Обрабатываем текстовые данные через трансформер\n",
    "        transformer_output = self.transformer(**text_input).pooler_output\n",
    "        text_features = self.text_fc(transformer_output)\n",
    "        \n",
    "        # Обрабатываем числовые данные\n",
    "        numeric_features = self.numeric_fc(numeric_input)\n",
    "        \n",
    "        # Объединяем текстовые и числовые признаки\n",
    "        combined_features = torch.cat((text_features, numeric_features), dim=1)\n",
    "        \n",
    "        # Применяем финальный классификационный слой\n",
    "        logits = self.classifier(combined_features)\n",
    "        \n",
    "        return logits"
   ]
  },
  {
   "cell_type": "markdown",
   "id": "b7615314-651a-488d-b43f-05c9178a9494",
   "metadata": {},
   "source": [
    "Токенизируем текстовые данные с помощью токенизатора трансформера"
   ]
  },
  {
   "cell_type": "code",
   "execution_count": 89,
   "id": "bb51576f-e7ca-4de1-b14f-d76c79350939",
   "metadata": {},
   "outputs": [],
   "source": [
    "tokenizer = AutoTokenizer.from_pretrained('xlm-roberta-base')\n",
    "text_encodings = tokenizer(list(dtr['text']), truncation=True, padding=True, return_tensors=\"pt\")"
   ]
  },
  {
   "cell_type": "markdown",
   "id": "b5722a79-c31c-4adb-b8d8-26758f972584",
   "metadata": {},
   "source": [
    "Преобразуем числовые/категориальные признаки (например, длину ролика, тип канала) в тензоры."
   ]
  },
  {
   "cell_type": "code",
   "execution_count": 92,
   "id": "30f8718d-9e57-442a-9d65-5c74442e0818",
   "metadata": {},
   "outputs": [],
   "source": [
    "numeric_features = torch.tensor(dtr[['seconds', 'flag_closed', 'international']].values, dtype=torch.float32)"
   ]
  },
  {
   "cell_type": "markdown",
   "id": "925b4135-7523-496f-b1fb-6ee9fc512076",
   "metadata": {},
   "source": [
    "Обучение модели: Создадим экземпляр гибридной модели и обучим её:"
   ]
  },
  {
   "cell_type": "code",
   "execution_count": 95,
   "id": "925c9f2d-53fe-4e9e-a68a-3a61ab75d545",
   "metadata": {},
   "outputs": [],
   "source": [
    "num_classes = 46"
   ]
  },
  {
   "cell_type": "code",
   "execution_count": 97,
   "id": "d4c05e65-6e3b-4123-83d1-257530508a52",
   "metadata": {},
   "outputs": [
    {
     "name": "stderr",
     "output_type": "stream",
     "text": [
      "Some weights of the model checkpoint at xlm-roberta-base were not used when initializing XLMRobertaModel: ['lm_head.layer_norm.bias', 'lm_head.dense.weight', 'lm_head.dense.bias', 'lm_head.bias', 'lm_head.layer_norm.weight']\n",
      "- This IS expected if you are initializing XLMRobertaModel from the checkpoint of a model trained on another task or with another architecture (e.g. initializing a BertForSequenceClassification model from a BertForPreTraining model).\n",
      "- This IS NOT expected if you are initializing XLMRobertaModel from the checkpoint of a model that you expect to be exactly identical (initializing a BertForSequenceClassification model from a BertForSequenceClassification model).\n"
     ]
    }
   ],
   "source": [
    "model = HybridModel('xlm-roberta-base', num_labels=num_classes, num_numeric_features=numeric_features.shape[1])"
   ]
  },
  {
   "cell_type": "markdown",
   "id": "2b57b550-28b2-48a9-a742-0494c02643c5",
   "metadata": {},
   "source": [
    "Вычислим веса классов на основе их частоты в данных"
   ]
  },
  {
   "cell_type": "code",
   "execution_count": 100,
   "id": "21accc25-2b48-4547-814c-13a5d87a818a",
   "metadata": {},
   "outputs": [],
   "source": [
    "le = LabelEncoder()\n",
    "y_train = le.fit_transform(dtr['cartoon'])"
   ]
  },
  {
   "cell_type": "code",
   "execution_count": 102,
   "id": "9be33b9a-304b-477b-9e50-3734b5004374",
   "metadata": {},
   "outputs": [],
   "source": [
    "class_weights = compute_class_weight('balanced', classes=np.unique(y_train), y=y_train)\n",
    "class_weights = torch.tensor(class_weights, dtype=torch.float)"
   ]
  },
  {
   "cell_type": "code",
   "execution_count": 104,
   "id": "7a335f48-6576-4660-ac32-be05965314dd",
   "metadata": {},
   "outputs": [],
   "source": [
    "optimizer = torch.optim.AdamW(model.parameters(), lr=1e-5)\n",
    "# criterion = nn.CrossEntropyLoss()\n",
    "criterion = torch.nn.CrossEntropyLoss(weight=class_weights)"
   ]
  },
  {
   "cell_type": "code",
   "execution_count": 106,
   "id": "923b859f-65ab-4024-a9bf-e8ca6415a3b7",
   "metadata": {},
   "outputs": [],
   "source": [
    "num_epochs = 5"
   ]
  },
  {
   "cell_type": "code",
   "execution_count": 108,
   "id": "3b0eb65b-5f7e-4cff-9b68-aac1704b4c88",
   "metadata": {},
   "outputs": [
    {
     "ename": "RuntimeError",
     "evalue": "[enforce fail at ..\\c10\\core\\impl\\alloc_cpu.cpp:72] data. DefaultCPUAllocator: not enough memory: you tried to allocate 131194159104 bytes.",
     "output_type": "error",
     "traceback": [
      "\u001b[1;31m---------------------------------------------------------------------------\u001b[0m",
      "\u001b[1;31mRuntimeError\u001b[0m                              Traceback (most recent call last)",
      "Cell \u001b[1;32mIn[108], line 5\u001b[0m\n\u001b[0;32m      3\u001b[0m model\u001b[38;5;241m.\u001b[39mtrain()\n\u001b[0;32m      4\u001b[0m optimizer\u001b[38;5;241m.\u001b[39mzero_grad()\n\u001b[1;32m----> 5\u001b[0m logits \u001b[38;5;241m=\u001b[39m \u001b[43mmodel\u001b[49m\u001b[43m(\u001b[49m\u001b[43mtext_encodings\u001b[49m\u001b[43m,\u001b[49m\u001b[43m \u001b[49m\u001b[43mnumeric_features\u001b[49m\u001b[43m)\u001b[49m\n\u001b[0;32m      6\u001b[0m loss \u001b[38;5;241m=\u001b[39m criterion(logits, labels)\n\u001b[0;32m      7\u001b[0m loss\u001b[38;5;241m.\u001b[39mbackward()\n",
      "File \u001b[1;32m~\\anaconda3\\lib\\site-packages\\torch\\nn\\modules\\module.py:1501\u001b[0m, in \u001b[0;36mModule._call_impl\u001b[1;34m(self, *args, **kwargs)\u001b[0m\n\u001b[0;32m   1496\u001b[0m \u001b[38;5;66;03m# If we don't have any hooks, we want to skip the rest of the logic in\u001b[39;00m\n\u001b[0;32m   1497\u001b[0m \u001b[38;5;66;03m# this function, and just call forward.\u001b[39;00m\n\u001b[0;32m   1498\u001b[0m \u001b[38;5;28;01mif\u001b[39;00m \u001b[38;5;129;01mnot\u001b[39;00m (\u001b[38;5;28mself\u001b[39m\u001b[38;5;241m.\u001b[39m_backward_hooks \u001b[38;5;129;01mor\u001b[39;00m \u001b[38;5;28mself\u001b[39m\u001b[38;5;241m.\u001b[39m_backward_pre_hooks \u001b[38;5;129;01mor\u001b[39;00m \u001b[38;5;28mself\u001b[39m\u001b[38;5;241m.\u001b[39m_forward_hooks \u001b[38;5;129;01mor\u001b[39;00m \u001b[38;5;28mself\u001b[39m\u001b[38;5;241m.\u001b[39m_forward_pre_hooks\n\u001b[0;32m   1499\u001b[0m         \u001b[38;5;129;01mor\u001b[39;00m _global_backward_pre_hooks \u001b[38;5;129;01mor\u001b[39;00m _global_backward_hooks\n\u001b[0;32m   1500\u001b[0m         \u001b[38;5;129;01mor\u001b[39;00m _global_forward_hooks \u001b[38;5;129;01mor\u001b[39;00m _global_forward_pre_hooks):\n\u001b[1;32m-> 1501\u001b[0m     \u001b[38;5;28;01mreturn\u001b[39;00m forward_call(\u001b[38;5;241m*\u001b[39margs, \u001b[38;5;241m*\u001b[39m\u001b[38;5;241m*\u001b[39mkwargs)\n\u001b[0;32m   1502\u001b[0m \u001b[38;5;66;03m# Do not call functions when jit is used\u001b[39;00m\n\u001b[0;32m   1503\u001b[0m full_backward_hooks, non_full_backward_hooks \u001b[38;5;241m=\u001b[39m [], []\n",
      "Cell \u001b[1;32mIn[86], line 19\u001b[0m, in \u001b[0;36mHybridModel.forward\u001b[1;34m(self, text_input, numeric_input)\u001b[0m\n\u001b[0;32m     17\u001b[0m \u001b[38;5;28;01mdef\u001b[39;00m \u001b[38;5;21mforward\u001b[39m(\u001b[38;5;28mself\u001b[39m, text_input, numeric_input):\n\u001b[0;32m     18\u001b[0m     \u001b[38;5;66;03m# Обрабатываем текстовые данные через трансформер\u001b[39;00m\n\u001b[1;32m---> 19\u001b[0m     transformer_output \u001b[38;5;241m=\u001b[39m \u001b[38;5;28mself\u001b[39m\u001b[38;5;241m.\u001b[39mtransformer(\u001b[38;5;241m*\u001b[39m\u001b[38;5;241m*\u001b[39mtext_input)\u001b[38;5;241m.\u001b[39mpooler_output\n\u001b[0;32m     20\u001b[0m     text_features \u001b[38;5;241m=\u001b[39m \u001b[38;5;28mself\u001b[39m\u001b[38;5;241m.\u001b[39mtext_fc(transformer_output)\n\u001b[0;32m     22\u001b[0m     \u001b[38;5;66;03m# Обрабатываем числовые данные\u001b[39;00m\n",
      "File \u001b[1;32m~\\anaconda3\\lib\\site-packages\\torch\\nn\\modules\\module.py:1501\u001b[0m, in \u001b[0;36mModule._call_impl\u001b[1;34m(self, *args, **kwargs)\u001b[0m\n\u001b[0;32m   1496\u001b[0m \u001b[38;5;66;03m# If we don't have any hooks, we want to skip the rest of the logic in\u001b[39;00m\n\u001b[0;32m   1497\u001b[0m \u001b[38;5;66;03m# this function, and just call forward.\u001b[39;00m\n\u001b[0;32m   1498\u001b[0m \u001b[38;5;28;01mif\u001b[39;00m \u001b[38;5;129;01mnot\u001b[39;00m (\u001b[38;5;28mself\u001b[39m\u001b[38;5;241m.\u001b[39m_backward_hooks \u001b[38;5;129;01mor\u001b[39;00m \u001b[38;5;28mself\u001b[39m\u001b[38;5;241m.\u001b[39m_backward_pre_hooks \u001b[38;5;129;01mor\u001b[39;00m \u001b[38;5;28mself\u001b[39m\u001b[38;5;241m.\u001b[39m_forward_hooks \u001b[38;5;129;01mor\u001b[39;00m \u001b[38;5;28mself\u001b[39m\u001b[38;5;241m.\u001b[39m_forward_pre_hooks\n\u001b[0;32m   1499\u001b[0m         \u001b[38;5;129;01mor\u001b[39;00m _global_backward_pre_hooks \u001b[38;5;129;01mor\u001b[39;00m _global_backward_hooks\n\u001b[0;32m   1500\u001b[0m         \u001b[38;5;129;01mor\u001b[39;00m _global_forward_hooks \u001b[38;5;129;01mor\u001b[39;00m _global_forward_pre_hooks):\n\u001b[1;32m-> 1501\u001b[0m     \u001b[38;5;28;01mreturn\u001b[39;00m forward_call(\u001b[38;5;241m*\u001b[39margs, \u001b[38;5;241m*\u001b[39m\u001b[38;5;241m*\u001b[39mkwargs)\n\u001b[0;32m   1502\u001b[0m \u001b[38;5;66;03m# Do not call functions when jit is used\u001b[39;00m\n\u001b[0;32m   1503\u001b[0m full_backward_hooks, non_full_backward_hooks \u001b[38;5;241m=\u001b[39m [], []\n",
      "File \u001b[1;32m~\\anaconda3\\lib\\site-packages\\transformers\\models\\xlm_roberta\\modeling_xlm_roberta.py:847\u001b[0m, in \u001b[0;36mXLMRobertaModel.forward\u001b[1;34m(self, input_ids, attention_mask, token_type_ids, position_ids, head_mask, inputs_embeds, encoder_hidden_states, encoder_attention_mask, past_key_values, use_cache, output_attentions, output_hidden_states, return_dict)\u001b[0m\n\u001b[0;32m    840\u001b[0m \u001b[38;5;66;03m# Prepare head mask if needed\u001b[39;00m\n\u001b[0;32m    841\u001b[0m \u001b[38;5;66;03m# 1.0 in head_mask indicate we keep the head\u001b[39;00m\n\u001b[0;32m    842\u001b[0m \u001b[38;5;66;03m# attention_probs has shape bsz x n_heads x N x N\u001b[39;00m\n\u001b[0;32m    843\u001b[0m \u001b[38;5;66;03m# input head_mask has shape [num_heads] or [num_hidden_layers x num_heads]\u001b[39;00m\n\u001b[0;32m    844\u001b[0m \u001b[38;5;66;03m# and head_mask is converted to shape [num_hidden_layers x batch x num_heads x seq_length x seq_length]\u001b[39;00m\n\u001b[0;32m    845\u001b[0m head_mask \u001b[38;5;241m=\u001b[39m \u001b[38;5;28mself\u001b[39m\u001b[38;5;241m.\u001b[39mget_head_mask(head_mask, \u001b[38;5;28mself\u001b[39m\u001b[38;5;241m.\u001b[39mconfig\u001b[38;5;241m.\u001b[39mnum_hidden_layers)\n\u001b[1;32m--> 847\u001b[0m embedding_output \u001b[38;5;241m=\u001b[39m \u001b[38;5;28;43mself\u001b[39;49m\u001b[38;5;241;43m.\u001b[39;49m\u001b[43membeddings\u001b[49m\u001b[43m(\u001b[49m\n\u001b[0;32m    848\u001b[0m \u001b[43m    \u001b[49m\u001b[43minput_ids\u001b[49m\u001b[38;5;241;43m=\u001b[39;49m\u001b[43minput_ids\u001b[49m\u001b[43m,\u001b[49m\n\u001b[0;32m    849\u001b[0m \u001b[43m    \u001b[49m\u001b[43mposition_ids\u001b[49m\u001b[38;5;241;43m=\u001b[39;49m\u001b[43mposition_ids\u001b[49m\u001b[43m,\u001b[49m\n\u001b[0;32m    850\u001b[0m \u001b[43m    \u001b[49m\u001b[43mtoken_type_ids\u001b[49m\u001b[38;5;241;43m=\u001b[39;49m\u001b[43mtoken_type_ids\u001b[49m\u001b[43m,\u001b[49m\n\u001b[0;32m    851\u001b[0m \u001b[43m    \u001b[49m\u001b[43minputs_embeds\u001b[49m\u001b[38;5;241;43m=\u001b[39;49m\u001b[43minputs_embeds\u001b[49m\u001b[43m,\u001b[49m\n\u001b[0;32m    852\u001b[0m \u001b[43m    \u001b[49m\u001b[43mpast_key_values_length\u001b[49m\u001b[38;5;241;43m=\u001b[39;49m\u001b[43mpast_key_values_length\u001b[49m\u001b[43m,\u001b[49m\n\u001b[0;32m    853\u001b[0m \u001b[43m\u001b[49m\u001b[43m)\u001b[49m\n\u001b[0;32m    854\u001b[0m encoder_outputs \u001b[38;5;241m=\u001b[39m \u001b[38;5;28mself\u001b[39m\u001b[38;5;241m.\u001b[39mencoder(\n\u001b[0;32m    855\u001b[0m     embedding_output,\n\u001b[0;32m    856\u001b[0m     attention_mask\u001b[38;5;241m=\u001b[39mextended_attention_mask,\n\u001b[1;32m   (...)\u001b[0m\n\u001b[0;32m    864\u001b[0m     return_dict\u001b[38;5;241m=\u001b[39mreturn_dict,\n\u001b[0;32m    865\u001b[0m )\n\u001b[0;32m    866\u001b[0m sequence_output \u001b[38;5;241m=\u001b[39m encoder_outputs[\u001b[38;5;241m0\u001b[39m]\n",
      "File \u001b[1;32m~\\anaconda3\\lib\\site-packages\\torch\\nn\\modules\\module.py:1501\u001b[0m, in \u001b[0;36mModule._call_impl\u001b[1;34m(self, *args, **kwargs)\u001b[0m\n\u001b[0;32m   1496\u001b[0m \u001b[38;5;66;03m# If we don't have any hooks, we want to skip the rest of the logic in\u001b[39;00m\n\u001b[0;32m   1497\u001b[0m \u001b[38;5;66;03m# this function, and just call forward.\u001b[39;00m\n\u001b[0;32m   1498\u001b[0m \u001b[38;5;28;01mif\u001b[39;00m \u001b[38;5;129;01mnot\u001b[39;00m (\u001b[38;5;28mself\u001b[39m\u001b[38;5;241m.\u001b[39m_backward_hooks \u001b[38;5;129;01mor\u001b[39;00m \u001b[38;5;28mself\u001b[39m\u001b[38;5;241m.\u001b[39m_backward_pre_hooks \u001b[38;5;129;01mor\u001b[39;00m \u001b[38;5;28mself\u001b[39m\u001b[38;5;241m.\u001b[39m_forward_hooks \u001b[38;5;129;01mor\u001b[39;00m \u001b[38;5;28mself\u001b[39m\u001b[38;5;241m.\u001b[39m_forward_pre_hooks\n\u001b[0;32m   1499\u001b[0m         \u001b[38;5;129;01mor\u001b[39;00m _global_backward_pre_hooks \u001b[38;5;129;01mor\u001b[39;00m _global_backward_hooks\n\u001b[0;32m   1500\u001b[0m         \u001b[38;5;129;01mor\u001b[39;00m _global_forward_hooks \u001b[38;5;129;01mor\u001b[39;00m _global_forward_pre_hooks):\n\u001b[1;32m-> 1501\u001b[0m     \u001b[38;5;28;01mreturn\u001b[39;00m forward_call(\u001b[38;5;241m*\u001b[39margs, \u001b[38;5;241m*\u001b[39m\u001b[38;5;241m*\u001b[39mkwargs)\n\u001b[0;32m   1502\u001b[0m \u001b[38;5;66;03m# Do not call functions when jit is used\u001b[39;00m\n\u001b[0;32m   1503\u001b[0m full_backward_hooks, non_full_backward_hooks \u001b[38;5;241m=\u001b[39m [], []\n",
      "File \u001b[1;32m~\\anaconda3\\lib\\site-packages\\transformers\\models\\xlm_roberta\\modeling_xlm_roberta.py:124\u001b[0m, in \u001b[0;36mXLMRobertaEmbeddings.forward\u001b[1;34m(self, input_ids, token_type_ids, position_ids, inputs_embeds, past_key_values_length)\u001b[0m\n\u001b[0;32m    121\u001b[0m         token_type_ids \u001b[38;5;241m=\u001b[39m torch\u001b[38;5;241m.\u001b[39mzeros(input_shape, dtype\u001b[38;5;241m=\u001b[39mtorch\u001b[38;5;241m.\u001b[39mlong, device\u001b[38;5;241m=\u001b[39m\u001b[38;5;28mself\u001b[39m\u001b[38;5;241m.\u001b[39mposition_ids\u001b[38;5;241m.\u001b[39mdevice)\n\u001b[0;32m    123\u001b[0m \u001b[38;5;28;01mif\u001b[39;00m inputs_embeds \u001b[38;5;129;01mis\u001b[39;00m \u001b[38;5;28;01mNone\u001b[39;00m:\n\u001b[1;32m--> 124\u001b[0m     inputs_embeds \u001b[38;5;241m=\u001b[39m \u001b[38;5;28;43mself\u001b[39;49m\u001b[38;5;241;43m.\u001b[39;49m\u001b[43mword_embeddings\u001b[49m\u001b[43m(\u001b[49m\u001b[43minput_ids\u001b[49m\u001b[43m)\u001b[49m\n\u001b[0;32m    125\u001b[0m token_type_embeddings \u001b[38;5;241m=\u001b[39m \u001b[38;5;28mself\u001b[39m\u001b[38;5;241m.\u001b[39mtoken_type_embeddings(token_type_ids)\n\u001b[0;32m    127\u001b[0m embeddings \u001b[38;5;241m=\u001b[39m inputs_embeds \u001b[38;5;241m+\u001b[39m token_type_embeddings\n",
      "File \u001b[1;32m~\\anaconda3\\lib\\site-packages\\torch\\nn\\modules\\module.py:1501\u001b[0m, in \u001b[0;36mModule._call_impl\u001b[1;34m(self, *args, **kwargs)\u001b[0m\n\u001b[0;32m   1496\u001b[0m \u001b[38;5;66;03m# If we don't have any hooks, we want to skip the rest of the logic in\u001b[39;00m\n\u001b[0;32m   1497\u001b[0m \u001b[38;5;66;03m# this function, and just call forward.\u001b[39;00m\n\u001b[0;32m   1498\u001b[0m \u001b[38;5;28;01mif\u001b[39;00m \u001b[38;5;129;01mnot\u001b[39;00m (\u001b[38;5;28mself\u001b[39m\u001b[38;5;241m.\u001b[39m_backward_hooks \u001b[38;5;129;01mor\u001b[39;00m \u001b[38;5;28mself\u001b[39m\u001b[38;5;241m.\u001b[39m_backward_pre_hooks \u001b[38;5;129;01mor\u001b[39;00m \u001b[38;5;28mself\u001b[39m\u001b[38;5;241m.\u001b[39m_forward_hooks \u001b[38;5;129;01mor\u001b[39;00m \u001b[38;5;28mself\u001b[39m\u001b[38;5;241m.\u001b[39m_forward_pre_hooks\n\u001b[0;32m   1499\u001b[0m         \u001b[38;5;129;01mor\u001b[39;00m _global_backward_pre_hooks \u001b[38;5;129;01mor\u001b[39;00m _global_backward_hooks\n\u001b[0;32m   1500\u001b[0m         \u001b[38;5;129;01mor\u001b[39;00m _global_forward_hooks \u001b[38;5;129;01mor\u001b[39;00m _global_forward_pre_hooks):\n\u001b[1;32m-> 1501\u001b[0m     \u001b[38;5;28;01mreturn\u001b[39;00m forward_call(\u001b[38;5;241m*\u001b[39margs, \u001b[38;5;241m*\u001b[39m\u001b[38;5;241m*\u001b[39mkwargs)\n\u001b[0;32m   1502\u001b[0m \u001b[38;5;66;03m# Do not call functions when jit is used\u001b[39;00m\n\u001b[0;32m   1503\u001b[0m full_backward_hooks, non_full_backward_hooks \u001b[38;5;241m=\u001b[39m [], []\n",
      "File \u001b[1;32m~\\anaconda3\\lib\\site-packages\\torch\\nn\\modules\\sparse.py:162\u001b[0m, in \u001b[0;36mEmbedding.forward\u001b[1;34m(self, input)\u001b[0m\n\u001b[0;32m    161\u001b[0m \u001b[38;5;28;01mdef\u001b[39;00m \u001b[38;5;21mforward\u001b[39m(\u001b[38;5;28mself\u001b[39m, \u001b[38;5;28minput\u001b[39m: Tensor) \u001b[38;5;241m-\u001b[39m\u001b[38;5;241m>\u001b[39m Tensor:\n\u001b[1;32m--> 162\u001b[0m     \u001b[38;5;28;01mreturn\u001b[39;00m \u001b[43mF\u001b[49m\u001b[38;5;241;43m.\u001b[39;49m\u001b[43membedding\u001b[49m\u001b[43m(\u001b[49m\n\u001b[0;32m    163\u001b[0m \u001b[43m        \u001b[49m\u001b[38;5;28;43minput\u001b[39;49m\u001b[43m,\u001b[49m\u001b[43m \u001b[49m\u001b[38;5;28;43mself\u001b[39;49m\u001b[38;5;241;43m.\u001b[39;49m\u001b[43mweight\u001b[49m\u001b[43m,\u001b[49m\u001b[43m \u001b[49m\u001b[38;5;28;43mself\u001b[39;49m\u001b[38;5;241;43m.\u001b[39;49m\u001b[43mpadding_idx\u001b[49m\u001b[43m,\u001b[49m\u001b[43m \u001b[49m\u001b[38;5;28;43mself\u001b[39;49m\u001b[38;5;241;43m.\u001b[39;49m\u001b[43mmax_norm\u001b[49m\u001b[43m,\u001b[49m\n\u001b[0;32m    164\u001b[0m \u001b[43m        \u001b[49m\u001b[38;5;28;43mself\u001b[39;49m\u001b[38;5;241;43m.\u001b[39;49m\u001b[43mnorm_type\u001b[49m\u001b[43m,\u001b[49m\u001b[43m \u001b[49m\u001b[38;5;28;43mself\u001b[39;49m\u001b[38;5;241;43m.\u001b[39;49m\u001b[43mscale_grad_by_freq\u001b[49m\u001b[43m,\u001b[49m\u001b[43m \u001b[49m\u001b[38;5;28;43mself\u001b[39;49m\u001b[38;5;241;43m.\u001b[39;49m\u001b[43msparse\u001b[49m\u001b[43m)\u001b[49m\n",
      "File \u001b[1;32m~\\anaconda3\\lib\\site-packages\\torch\\nn\\functional.py:2210\u001b[0m, in \u001b[0;36membedding\u001b[1;34m(input, weight, padding_idx, max_norm, norm_type, scale_grad_by_freq, sparse)\u001b[0m\n\u001b[0;32m   2204\u001b[0m     \u001b[38;5;66;03m# Note [embedding_renorm set_grad_enabled]\u001b[39;00m\n\u001b[0;32m   2205\u001b[0m     \u001b[38;5;66;03m# XXX: equivalent to\u001b[39;00m\n\u001b[0;32m   2206\u001b[0m     \u001b[38;5;66;03m# with torch.no_grad():\u001b[39;00m\n\u001b[0;32m   2207\u001b[0m     \u001b[38;5;66;03m#   torch.embedding_renorm_\u001b[39;00m\n\u001b[0;32m   2208\u001b[0m     \u001b[38;5;66;03m# remove once script supports set_grad_enabled\u001b[39;00m\n\u001b[0;32m   2209\u001b[0m     _no_grad_embedding_renorm_(weight, \u001b[38;5;28minput\u001b[39m, max_norm, norm_type)\n\u001b[1;32m-> 2210\u001b[0m \u001b[38;5;28;01mreturn\u001b[39;00m \u001b[43mtorch\u001b[49m\u001b[38;5;241;43m.\u001b[39;49m\u001b[43membedding\u001b[49m\u001b[43m(\u001b[49m\u001b[43mweight\u001b[49m\u001b[43m,\u001b[49m\u001b[43m \u001b[49m\u001b[38;5;28;43minput\u001b[39;49m\u001b[43m,\u001b[49m\u001b[43m \u001b[49m\u001b[43mpadding_idx\u001b[49m\u001b[43m,\u001b[49m\u001b[43m \u001b[49m\u001b[43mscale_grad_by_freq\u001b[49m\u001b[43m,\u001b[49m\u001b[43m \u001b[49m\u001b[43msparse\u001b[49m\u001b[43m)\u001b[49m\n",
      "\u001b[1;31mRuntimeError\u001b[0m: [enforce fail at ..\\c10\\core\\impl\\alloc_cpu.cpp:72] data. DefaultCPUAllocator: not enough memory: you tried to allocate 131194159104 bytes."
     ]
    }
   ],
   "source": [
    "# Пример цикла обучения\n",
    "for epoch in range(num_epochs):\n",
    "    model.train()\n",
    "    optimizer.zero_grad()\n",
    "    logits = model(text_encodings, numeric_features)\n",
    "    loss = criterion(logits, labels)\n",
    "    loss.backward()\n",
    "    optimizer.step()"
   ]
  },
  {
   "cell_type": "code",
   "execution_count": null,
   "id": "78c3f17a-1898-4f91-a3f7-eccd44abc577",
   "metadata": {},
   "outputs": [],
   "source": []
  }
 ],
 "metadata": {
  "kernelspec": {
   "display_name": "Python 3 (ipykernel)",
   "language": "python",
   "name": "python3"
  },
  "language_info": {
   "codemirror_mode": {
    "name": "ipython",
    "version": 3
   },
   "file_extension": ".py",
   "mimetype": "text/x-python",
   "name": "python",
   "nbconvert_exporter": "python",
   "pygments_lexer": "ipython3",
   "version": "3.10.9"
  }
 },
 "nbformat": 4,
 "nbformat_minor": 5
}
